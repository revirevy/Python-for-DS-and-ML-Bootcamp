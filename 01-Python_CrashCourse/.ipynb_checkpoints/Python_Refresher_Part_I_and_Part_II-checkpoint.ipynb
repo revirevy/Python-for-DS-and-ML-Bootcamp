{
 "cells": [
  {
   "cell_type": "code",
   "execution_count": 1,
   "metadata": {},
   "outputs": [
    {
     "data": {
      "text/plain": [
       "'Hello'"
      ]
     },
     "execution_count": 1,
     "metadata": {},
     "output_type": "execute_result"
    }
   ],
   "source": [
    "#Strings \n",
    "\n",
    "#This statement will print the String with quotes: \n",
    "\n",
    "'Hello'"
   ]
  },
  {
   "cell_type": "code",
   "execution_count": 2,
   "metadata": {},
   "outputs": [
    {
     "name": "stdout",
     "output_type": "stream",
     "text": [
      "Hello\n"
     ]
    }
   ],
   "source": [
    "#This statement will print the String without them \n",
    "print('Hello')"
   ]
  },
  {
   "cell_type": "code",
   "execution_count": 5,
   "metadata": {},
   "outputs": [
    {
     "name": "stdout",
     "output_type": "stream",
     "text": [
      "My name is Vick and I am 12\n",
      "Print 1 and 2\n",
      "Print Vick and 12\n"
     ]
    }
   ],
   "source": [
    "#Print formatting \n",
    "num = 12\n",
    "name = 'Vick'\n",
    "\n",
    "##Curly braces take the parameters num and name with the specified format\n",
    "print('My name is {} and I am {}'.format(name, num)) \n",
    "\n",
    "##We can declare variables in the .format() method and pass them in whatever order we like\n",
    "print('Print {one} and {two}'.format(one = '1', two = '2'))\n",
    "\n",
    "##Using the parameters declared before we can achieve exactly the same: \n",
    "print('My name is {one} and I am  {two}'.format(one = name, two = num))\n",
    "\n"
   ]
  },
  {
   "cell_type": "code",
   "execution_count": null,
   "metadata": {},
   "outputs": [],
   "source": [
    "##Indexing String \n",
    "\n",
    "s = 'Letter' ##We can slice the above String with thbe [] operator \n",
    "\n",
    "##Indexing starts from 0 \n",
    "\n",
    "##Print the last element\n",
    "print(s[-1])\n",
    "\n"
   ]
  }
 ],
 "metadata": {
  "kernelspec": {
   "display_name": "Python 3",
   "language": "python",
   "name": "python3"
  },
  "language_info": {
   "codemirror_mode": {
    "name": "ipython",
    "version": 3
   },
   "file_extension": ".py",
   "mimetype": "text/x-python",
   "name": "python",
   "nbconvert_exporter": "python",
   "pygments_lexer": "ipython3",
   "version": "3.7.3"
  }
 },
 "nbformat": 4,
 "nbformat_minor": 2
}
