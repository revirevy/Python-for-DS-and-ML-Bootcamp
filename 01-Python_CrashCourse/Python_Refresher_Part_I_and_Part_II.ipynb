{
 "cells": [
  {
   "cell_type": "markdown",
   "metadata": {},
   "source": [
    "# Python Refresher - Interesting notes\n",
    "\n",
    "## Python Crash Course Section 4"
   ]
  },
  {
   "cell_type": "markdown",
   "metadata": {},
   "source": [
    "### Crash Course PART I"
   ]
  },
  {
   "cell_type": "code",
   "execution_count": 1,
   "metadata": {},
   "outputs": [
    {
     "data": {
      "text/plain": [
       "'Hello'"
      ]
     },
     "execution_count": 1,
     "metadata": {},
     "output_type": "execute_result"
    }
   ],
   "source": [
    "#Strings \n",
    "#This statement will print the String with quotes: \n",
    "'Hello'"
   ]
  },
  {
   "cell_type": "code",
   "execution_count": 2,
   "metadata": {},
   "outputs": [
    {
     "name": "stdout",
     "output_type": "stream",
     "text": [
      "Hello\n"
     ]
    }
   ],
   "source": [
    "#This statement will print the String without them \n",
    "print('Hello')"
   ]
  },
  {
   "cell_type": "code",
   "execution_count": 5,
   "metadata": {},
   "outputs": [
    {
     "name": "stdout",
     "output_type": "stream",
     "text": [
      "My name is Vick and I am 12\n",
      "Print 1 and 2\n",
      "Print Vick and 12\n"
     ]
    }
   ],
   "source": [
    "#Print formatting \n",
    "num = 12\n",
    "name = 'Vick'\n",
    "\n",
    "##Curly braces take the parameters num and name with the specified format\n",
    "print('My name is {} and I am {}'.format(name, num)) \n",
    "\n",
    "##We can declare variables in the .format() method and pass them in whatever order we like\n",
    "print('Print {one} and {two}'.format(one = '1', two = '2'))\n",
    "\n",
    "##Using the parameters declared before we can achieve exactly the same: \n",
    "print('My name is {one} and I am  {two}'.format(one = name, two = num))\n",
    "\n",
    "\n"
   ]
  },
  {
   "cell_type": "code",
   "execution_count": 29,
   "metadata": {},
   "outputs": [
    {
     "name": "stdout",
     "output_type": "stream",
     "text": [
      "r\n",
      "etr\n",
      "abc\n"
     ]
    }
   ],
   "source": [
    "##Indexing String \n",
    "\n",
    "s = 'Letter' ##We can slice the above String with the [] indexing operator \n",
    "\n",
    "##Indexing starts from 0 \n",
    "\n",
    "##Print the last element\n",
    "print(s[5])\n",
    "\n",
    "##We can obtain slices of the above string using the slicing operator : combined with the indexing operator \n",
    "print(s[1:6:2]) ##[start:end:step] -> Grabs everything from the start index up until the end index without including it\n",
    "                ##We use a th step to do so        \n",
    "\n",
    "a = 'abcdefghj'\n",
    "\n",
    "print(a[:3])"
   ]
  },
  {
   "cell_type": "code",
   "execution_count": 50,
   "metadata": {},
   "outputs": [
    {
     "name": "stdout",
     "output_type": "stream",
     "text": [
      "['a', 'b', 'c', 'd']\n"
     ]
    }
   ],
   "source": [
    "## List -> Sequence of elements denoted by square brackets[] separated by a comma (of any data type)\n",
    "\n",
    "myList = ['a', 'b' , 'c']\n",
    "\n",
    "#To append an element to the end of the list use the append method \n",
    "\n",
    "myList.append('d')\n",
    "print(myList)"
   ]
  },
  {
   "cell_type": "code",
   "execution_count": 51,
   "metadata": {},
   "outputs": [
    {
     "name": "stdout",
     "output_type": "stream",
     "text": [
      "['a', 'b', 'c', 'd']\n",
      "['new', 'b', 'c', 'd']\n"
     ]
    }
   ],
   "source": [
    "## We can also use the slicing operation in lists! \n",
    "myList[0:2]\n",
    "print(myList)\n",
    "\n",
    "##Lists are mutable and thus we can reassign elements in our list e.g. \n",
    "newElement = 'new'\n",
    "\n",
    "myList[0] = newElement\n",
    "\n",
    "print(myList)"
   ]
  },
  {
   "cell_type": "code",
   "execution_count": 55,
   "metadata": {},
   "outputs": [
    {
     "name": "stdout",
     "output_type": "stream",
     "text": [
      "['target', 1]\n",
      "[1, 2, 3, ['target', 1]]\n"
     ]
    }
   ],
   "source": [
    "##We can also have nested lists \n",
    "newList = ['target',1]\n",
    "\n",
    "otherList = [1,2,3,newList]\n",
    "\n",
    "print(newList)\n",
    "print(otherList)"
   ]
  },
  {
   "cell_type": "code",
   "execution_count": 56,
   "metadata": {},
   "outputs": [
    {
     "name": "stdout",
     "output_type": "stream",
     "text": [
      "target\n"
     ]
    }
   ],
   "source": [
    "##To access element 0 in otherList we use a nested [][] operator \n",
    "\n",
    "print(otherList[3][0])"
   ]
  },
  {
   "cell_type": "markdown",
   "metadata": {},
   "source": [
    "### Crash Course PART II"
   ]
  },
  {
   "cell_type": "code",
   "execution_count": 57,
   "metadata": {},
   "outputs": [
    {
     "name": "stdout",
     "output_type": "stream",
     "text": [
      "123\n"
     ]
    }
   ],
   "source": [
    "#Dictionaries -> Use the {key1:value1, key2:value2} syntax to declare a dictionary e.g. \n",
    "\n",
    "d = {'key1':2, 'key2':123} ##Dictionaries, just like hash tables use key:value pairs to hold elements. NOT a sequence \n",
    "\n",
    "##To access an element in a dictionary you must pass the key corresponding to that value: \n",
    "\n",
    "print(d['key2']) #Again, we use the [] operator "
   ]
  },
  {
   "cell_type": "code",
   "execution_count": 58,
   "metadata": {},
   "outputs": [
    {
     "data": {
      "text/plain": [
       "'I'"
      ]
     },
     "execution_count": 58,
     "metadata": {},
     "output_type": "execute_result"
    }
   ],
   "source": [
    "## If an value of a dictionary is iterable, we can use the correspoding key to that value and the \n",
    "## nested [] to obtain values of such iterable. Consider the following example: \n",
    "\n",
    "a = {'key1': 'Iterable'}\n",
    "\n",
    "a['key1'][0] ##Prints I"
   ]
  },
  {
   "cell_type": "code",
   "execution_count": 59,
   "metadata": {},
   "outputs": [
    {
     "name": "stdout",
     "output_type": "stream",
     "text": [
      "3\n"
     ]
    }
   ],
   "source": [
    "##We can also have nested dictionaries and use the [] operator repeatedly to obtain the desired values:\n",
    " \n",
    "k = {'key1':{'innerkey':[1,2,3]}} \n",
    "\n",
    "print(k['key1']['innerkey'][2])\n",
    "\n",
    "##In summary, dictionaries DO NOT have a sequential order -> They are key:value pair mappings "
   ]
  },
  {
   "cell_type": "code",
   "execution_count": 61,
   "metadata": {},
   "outputs": [
    {
     "name": "stdout",
     "output_type": "stream",
     "text": [
      "True\n",
      "False\n"
     ]
    }
   ],
   "source": [
    "##Boolean\n",
    "##True\n",
    "print(True)\n",
    "\n",
    "##False\n",
    "print(False)"
   ]
  },
  {
   "cell_type": "code",
   "execution_count": 63,
   "metadata": {},
   "outputs": [
    {
     "name": "stdout",
     "output_type": "stream",
     "text": [
      "1\n"
     ]
    }
   ],
   "source": [
    "##Tuples -> Similar to a list, we use () to denote a tuple. Unlike lists, tuples are immutable \n",
    "t = (1,2,3)\n",
    "print(t[0])"
   ]
  },
  {
   "cell_type": "code",
   "execution_count": 64,
   "metadata": {},
   "outputs": [
    {
     "ename": "TypeError",
     "evalue": "'tuple' object does not support item assignment",
     "output_type": "error",
     "traceback": [
      "\u001b[0;31m---------------------------------------------------------------------------\u001b[0m",
      "\u001b[0;31mTypeError\u001b[0m                                 Traceback (most recent call last)",
      "\u001b[0;32m<ipython-input-64-4e121a47f26f>\u001b[0m in \u001b[0;36m<module>\u001b[0;34m\u001b[0m\n\u001b[1;32m      1\u001b[0m \u001b[0;31m##Lets test the immutability of tuples\u001b[0m\u001b[0;34m\u001b[0m\u001b[0;34m\u001b[0m\u001b[0;34m\u001b[0m\u001b[0m\n\u001b[1;32m      2\u001b[0m \u001b[0;34m\u001b[0m\u001b[0m\n\u001b[0;32m----> 3\u001b[0;31m \u001b[0mt\u001b[0m\u001b[0;34m[\u001b[0m\u001b[0;36m0\u001b[0m\u001b[0;34m]\u001b[0m \u001b[0;34m=\u001b[0m\u001b[0;36m1\u001b[0m\u001b[0;34m\u001b[0m\u001b[0;34m\u001b[0m\u001b[0m\n\u001b[0m",
      "\u001b[0;31mTypeError\u001b[0m: 'tuple' object does not support item assignment"
     ]
    }
   ],
   "source": [
    "##Lets test the immutability of tuples \n",
    "t[0] =1 ##Throws a TypeError Exception\n",
    "\n",
    "##Used when we, for example, we want to restrict users of the program from changing values from a sequence of objects."
   ]
  },
  {
   "cell_type": "code",
   "execution_count": 72,
   "metadata": {},
   "outputs": [
    {
     "name": "stdout",
     "output_type": "stream",
     "text": [
      "{1, 2, 3, 4, 5, 6}\n",
      "{1, 2, 3, 4, 5, 7, 8, 9}\n"
     ]
    }
   ],
   "source": [
    "##Sets -> A collection of unique sorted elements - Syntax is similar to a dictionary but we don't use the colon : \n",
    "\n",
    "##Lets declare a set by passing a list as a parameter: \n",
    "\n",
    "a =[1,2,3,4,5,6,6,6,6,6]\n",
    "b = set(a)\n",
    "\n",
    "print(b) ##Returns the unique elements of set a \n",
    "\n",
    "##We can also declare an element with the {} syntax\n",
    "\n",
    "print({1,1,1,1,2,2,2,2,2,3,3,3,3,3,5,5,5,4,9,9,8,1,7})"
   ]
  },
  {
   "cell_type": "code",
   "execution_count": 75,
   "metadata": {},
   "outputs": [
    {
     "name": "stdout",
     "output_type": "stream",
     "text": [
      "{1, 2, 3, 4, 5, 6, 10}\n",
      "{1, 2, 3, 4, 5, 6, 10}\n"
     ]
    }
   ],
   "source": [
    "###Set defines the .add() method \n",
    "\n",
    "b.add(10)\n",
    "print(b)\n",
    "\n",
    "##We can add repeated items without any effect \n",
    "b.add(1)\n",
    "print(b)\n",
    "\n",
    "##Sets WILL NOT be used in this course "
   ]
  },
  {
   "cell_type": "code",
   "execution_count": 77,
   "metadata": {},
   "outputs": [
    {
     "data": {
      "text/plain": [
       "False"
      ]
     },
     "execution_count": 77,
     "metadata": {},
     "output_type": "execute_result"
    }
   ],
   "source": [
    "##Comparison operators - Allow you to compare two things to each other\n",
    "\n",
    "1>2 ##Returns false because 1 is not greater than 2 "
   ]
  },
  {
   "cell_type": "code",
   "execution_count": 78,
   "metadata": {},
   "outputs": [
    {
     "data": {
      "text/plain": [
       "True"
      ]
     },
     "execution_count": 78,
     "metadata": {},
     "output_type": "execute_result"
    }
   ],
   "source": [
    "1<2 #Returns true"
   ]
  },
  {
   "cell_type": "code",
   "execution_count": 80,
   "metadata": {},
   "outputs": [
    {
     "data": {
      "text/plain": [
       "True"
      ]
     },
     "execution_count": 80,
     "metadata": {},
     "output_type": "execute_result"
    }
   ],
   "source": [
    "1 == 1 ##Equality"
   ]
  },
  {
   "cell_type": "code",
   "execution_count": 81,
   "metadata": {},
   "outputs": [
    {
     "data": {
      "text/plain": [
       "True"
      ]
     },
     "execution_count": 81,
     "metadata": {},
     "output_type": "execute_result"
    }
   ],
   "source": [
    "1!=4  "
   ]
  },
  {
   "cell_type": "code",
   "execution_count": 82,
   "metadata": {},
   "outputs": [
    {
     "data": {
      "text/plain": [
       "False"
      ]
     },
     "execution_count": 82,
     "metadata": {},
     "output_type": "execute_result"
    }
   ],
   "source": [
    "##We can also use strings with comparison operators \n",
    "\n",
    "'hi' == 'bye'"
   ]
  },
  {
   "cell_type": "code",
   "execution_count": 83,
   "metadata": {},
   "outputs": [
    {
     "data": {
      "text/plain": [
       "False"
      ]
     },
     "execution_count": 83,
     "metadata": {},
     "output_type": "execute_result"
    }
   ],
   "source": [
    "## We can also chain comparison operators with boolean operators \n",
    "\n",
    "1<2 and 2>3 ##and"
   ]
  },
  {
   "cell_type": "code",
   "execution_count": 84,
   "metadata": {},
   "outputs": [
    {
     "data": {
      "text/plain": [
       "True"
      ]
     },
     "execution_count": 84,
     "metadata": {},
     "output_type": "execute_result"
    }
   ],
   "source": [
    "1<2 or 2>3 ##or"
   ]
  },
  {
   "cell_type": "code",
   "execution_count": 86,
   "metadata": {},
   "outputs": [
    {
     "name": "stdout",
     "output_type": "stream",
     "text": [
      "yep!\n",
      "2\n",
      "2\n"
     ]
    }
   ],
   "source": [
    "##Code blocks: if, elif and else statements \n",
    "##Lots of times we want to execute code only if a condition is true -> Use if, elif and else statements\n",
    "\n",
    "if 1<2:  ##Don't forget the colon!\n",
    "    print('yep!') ##Python uses whitespace to separate code blocks. Not curly braces {}\n",
    "\n",
    "\n",
    "x = 0;\n",
    "\n",
    "if True:\n",
    "    x += 2\n",
    "\n",
    "print(x)\n",
    "\n",
    "if False:\n",
    "    x -= 2 ##Not executed\n",
    "\n",
    "print(x)"
   ]
  },
  {
   "cell_type": "code",
   "execution_count": 89,
   "metadata": {},
   "outputs": [
    {
     "name": "stdout",
     "output_type": "stream",
     "text": [
      "Last\n",
      "Middle\n"
     ]
    }
   ],
   "source": [
    "##Checking for multiple conditions with else\n",
    "\n",
    "if 1==2: ##False\n",
    "    print('First')\n",
    "else:    ##Execute the statement in the else block regardless of the result above \n",
    "    print('Last')\n",
    "    \n",
    "##We used elif to add multiple conditions \n",
    "if 1==2:\n",
    "    print('First')\n",
    "elif 1==1:\n",
    "    print('Middle') ##Since this condition is true, execute this statement\n",
    "else: \n",
    "    print('Last')"
   ]
  },
  {
   "cell_type": "code",
   "execution_count": null,
   "metadata": {},
   "outputs": [],
   "source": []
  }
 ],
 "metadata": {
  "kernelspec": {
   "display_name": "Python 3",
   "language": "python",
   "name": "python3"
  },
  "language_info": {
   "codemirror_mode": {
    "name": "ipython",
    "version": 3
   },
   "file_extension": ".py",
   "mimetype": "text/x-python",
   "name": "python",
   "nbconvert_exporter": "python",
   "pygments_lexer": "ipython3",
   "version": "3.7.3"
  }
 },
 "nbformat": 4,
 "nbformat_minor": 2
}
