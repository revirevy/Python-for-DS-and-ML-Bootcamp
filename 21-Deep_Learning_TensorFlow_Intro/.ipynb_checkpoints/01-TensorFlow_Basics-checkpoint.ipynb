{
 "cells": [
  {
   "cell_type": "markdown",
   "metadata": {},
   "source": [
    "# Section 26: Python for Deep Learning: Neural Nets and Deep Learning - Neural Networks and Intro to TensorFlow"
   ]
  },
  {
   "cell_type": "markdown",
   "metadata": {},
   "source": [
    "### Neural Networks Theory "
   ]
  },
  {
   "cell_type": "code",
   "execution_count": 19,
   "metadata": {},
   "outputs": [],
   "source": [
    "## Neural Networks are modeled after biological neural networks and attempt to allow computers to learn in a \n",
    "## similar manner to humans. \n",
    "\n",
    "## Human brain -> Has interconnected neurons with dendrites that receive inputs, and then based on those inputs, \n",
    "## produce an electrical signal output through an axon.\n",
    "\n",
    "## Use cases:\n",
    "## - Pattern Recognition \n",
    "## - Time Series Predictions \n",
    "## - Signal Processing \n",
    "## - Anomaly Detection \n",
    "## - Control \n",
    "\n",
    "### Why do we want to use NN? -> Attempt to solve problems that are hard for computers, e.g. Image recognition \n",
    "\n",
    "### Simplest NN possible -> Perceptron: - Consists of one or more inputs, a processor and a single output. \n",
    "###                                     - Follows a Feed-Forward Model: Inputs -> Processing -> Outputs \n",
    "\n",
    "### Perceptron Process: \n",
    "### 1 - Receives inputs + bias -> A bias avoids a zero sum \n",
    "### 2 - Weight inputs -> Inputs are weighted by some random values \n",
    "### 3 - Sum inputs    -> The activation function receives the sim of weighted inputs (Many types)\n",
    "### 4 - Generate output \n",
    "\n",
    "### Training the perceptron -> Provide inputs, perceptron guess an answer, compute error, adjust weights to minimize \n",
    "###                            errors. Repeat \n",
    "\n",
    "### NN -> Many layered perceptrons! \n",
    "### Deep Learning -> NN with many many layers (e.g. 152)"
   ]
  },
  {
   "cell_type": "markdown",
   "metadata": {},
   "source": [
    "### TensorFlow Intro "
   ]
  },
  {
   "cell_type": "code",
   "execution_count": 20,
   "metadata": {},
   "outputs": [],
   "source": [
    "### TensorFlow -> Open Source library developed by google.\n",
    "###            -> One of the most popular DL frameworks in the field.\n",
    "###            -> It can run either on CPU or GPU \n",
    "###            -> DNN -> Run much faster on GPU's\n",
    "\n",
    "### Basic idea of TF -> Ability to create data flow graphs. \n",
    "                #    -> These graphs have nodes and edges and the data passed from node layer to node layer\n",
    "                #       is known as a Tensor. In other words, the Tensors flow through the Flow Graph. \n",
    "        \n",
    "### Two ways of using TF: 1 - Customizable Graph Session (Preferred) -> Heavy on Mathematics \n",
    "##                        2 - Scikit-Learn interface with ContribLearn \n",
    "\n",
    "### Documentation: - www.tensorflow.org"
   ]
  },
  {
   "cell_type": "markdown",
   "metadata": {},
   "source": [
    "### TensorFlow Basics"
   ]
  },
  {
   "cell_type": "code",
   "execution_count": 21,
   "metadata": {},
   "outputs": [],
   "source": [
    "### Importing constants in TensorFlow\n",
    "import tensorflow as tf "
   ]
  },
  {
   "cell_type": "code",
   "execution_count": 22,
   "metadata": {},
   "outputs": [],
   "source": [
    "### Creating constants \n",
    "### Constants -> Constants in TensorFlow are stored in Tensor Objects\n",
    "hello = tf.constant('Hello World') "
   ]
  },
  {
   "cell_type": "code",
   "execution_count": 23,
   "metadata": {},
   "outputs": [
    {
     "data": {
      "text/plain": [
       "tensorflow.python.framework.ops.Tensor"
      ]
     },
     "execution_count": 23,
     "metadata": {},
     "output_type": "execute_result"
    }
   ],
   "source": [
    "### Checking the type of out tensor object \n",
    "type(hello)"
   ]
  },
  {
   "cell_type": "code",
   "execution_count": 24,
   "metadata": {},
   "outputs": [
    {
     "data": {
      "text/plain": [
       "b'Hello World'"
      ]
     },
     "execution_count": 24,
     "metadata": {},
     "output_type": "execute_result"
    }
   ],
   "source": [
    "x = tf.constant(100)\n",
    "y = tf.constant(50)\n",
    "\n",
    "### To perform operaitons with the tensors above, we need to create a tensorflow session: \n",
    "\n",
    "sess = tf.Session() ###A session object encapsulates the environment in which operations are executed.\n",
    "\n",
    "### Tensor objects are evaluated in those operations\n",
    "\n",
    "### Consider the following example:\n",
    "sess.run(hello)"
   ]
  },
  {
   "cell_type": "code",
   "execution_count": 25,
   "metadata": {},
   "outputs": [
    {
     "data": {
      "text/plain": [
       "bytes"
      ]
     },
     "execution_count": 25,
     "metadata": {},
     "output_type": "execute_result"
    }
   ],
   "source": [
    "### Checking the type of the session\n",
    "type(sess.run(hello)) ## Returns a bytes object"
   ]
  },
  {
   "cell_type": "code",
   "execution_count": 26,
   "metadata": {},
   "outputs": [
    {
     "data": {
      "text/plain": [
       "numpy.int32"
      ]
     },
     "execution_count": 26,
     "metadata": {},
     "output_type": "execute_result"
    }
   ],
   "source": [
    "type(sess.run(x))"
   ]
  },
  {
   "cell_type": "code",
   "execution_count": 27,
   "metadata": {},
   "outputs": [],
   "source": [
    "#### Lets do some operations: \n",
    "x = tf.constant(2)\n",
    "y = tf.constant(3)"
   ]
  },
  {
   "cell_type": "code",
   "execution_count": 28,
   "metadata": {},
   "outputs": [
    {
     "name": "stdout",
     "output_type": "stream",
     "text": [
      "Operations with Constants\n",
      "Addition:  5\n",
      "Subtraction:  -1\n",
      "Multiplication:  6\n",
      "Division:  0.6666666666666666\n"
     ]
    }
   ],
   "source": [
    "### It is better to use the following syntax to create a TF session: \n",
    "\n",
    "with tf.Session() as sess: \n",
    "    print('Operations with Constants')\n",
    "    print('Addition: '     ,  sess.run(x+y))\n",
    "    print('Subtraction: '  ,  sess.run(x-y))\n",
    "    print('Multiplication: ', sess.run(x*y))\n",
    "    print('Division: '      , sess.run(x/y))"
   ]
  },
  {
   "cell_type": "code",
   "execution_count": 29,
   "metadata": {},
   "outputs": [],
   "source": [
    "#### Placeholder objects - A placeholder receives values that are not yet defined (e.g. result of some operation).\n",
    "\n",
    "x = tf.placeholder(tf.int32)\n",
    "y = tf.placeholder(tf.int32)"
   ]
  },
  {
   "cell_type": "code",
   "execution_count": 30,
   "metadata": {},
   "outputs": [
    {
     "data": {
      "text/plain": [
       "<tf.Tensor 'Placeholder_2:0' shape=<unknown> dtype=int32>"
      ]
     },
     "execution_count": 30,
     "metadata": {},
     "output_type": "execute_result"
    }
   ],
   "source": [
    "x ## Notice the shpe of x is not defined but it expects a dtype of int32\n",
    "  ## Constants receive the actual value!"
   ]
  },
  {
   "cell_type": "code",
   "execution_count": 31,
   "metadata": {},
   "outputs": [],
   "source": [
    "### With the placeholders above, we can define operations that have variable input: \n",
    "\n",
    "### Defining the operations -> Think of them as analogous to python functions.\n",
    "\n",
    "add = tf.add(x,y)\n",
    "sub = tf.subtract(x,y)\n",
    "mul = tf.multiply(x,y)\n",
    "div = tf.divide(x,y)"
   ]
  },
  {
   "cell_type": "code",
   "execution_count": 32,
   "metadata": {},
   "outputs": [],
   "source": [
    "d = {x:20, y:30}"
   ]
  },
  {
   "cell_type": "code",
   "execution_count": 33,
   "metadata": {},
   "outputs": [
    {
     "name": "stdout",
     "output_type": "stream",
     "text": [
      "Operations with Placeholders\n",
      "Addition: 50\n",
      "Subtraction:  -10\n",
      "Multiplication:  600\n",
      "Division:  0.6666666666666666\n"
     ]
    }
   ],
   "source": [
    "### Operations with placeholder values\n",
    "\n",
    "with tf.Session() as sess: \n",
    "    print('Operations with Placeholders')\n",
    "    print('Addition:', sess.run(add, feed_dict = {x:20, y:30})) ##feed_dict is a dictionary that \"feed\" the values to our\n",
    "                                                                ##operations \n",
    "    print('Subtraction: '  ,  sess.run(x-y, feed_dict = d))\n",
    "    print('Multiplication: ', sess.run(x*y, feed_dict = d))\n",
    "    print('Division: '      , sess.run(x/y, feed_dict = d))"
   ]
  },
  {
   "cell_type": "code",
   "execution_count": 34,
   "metadata": {},
   "outputs": [
    {
     "name": "stdout",
     "output_type": "stream",
     "text": [
      "(1, 2)\n",
      "(2, 1)\n"
     ]
    }
   ],
   "source": [
    "### Lets check out a more complicated operation: Matrix multiplication \n",
    "\n",
    "### Using numpy to create our matrices \n",
    "import numpy as np \n",
    "\n",
    "a = np.array([[5.0,5.0]])\n",
    "print(a.shape)\n",
    "\n",
    "b = np.array([[2.0],[2.0]])\n",
    "print(b.shape)"
   ]
  },
  {
   "cell_type": "code",
   "execution_count": 35,
   "metadata": {},
   "outputs": [],
   "source": [
    "mat1 = tf.constant(a)\n",
    "mat2 = tf.constant(b)\n",
    "\n",
    "matrix_multi = tf.matmul(mat1,mat2)"
   ]
  },
  {
   "cell_type": "code",
   "execution_count": 36,
   "metadata": {},
   "outputs": [
    {
     "name": "stdout",
     "output_type": "stream",
     "text": [
      "[[20.]]\n"
     ]
    }
   ],
   "source": [
    "with tf.Session() as sess:\n",
    "    result = sess.run(matrix_multi) ## No need for the feed_dict since we are using constant. \n",
    "    print(result)"
   ]
  }
 ],
 "metadata": {
  "kernelspec": {
   "display_name": "Python 3",
   "language": "python",
   "name": "python3"
  },
  "language_info": {
   "codemirror_mode": {
    "name": "ipython",
    "version": 3
   },
   "file_extension": ".py",
   "mimetype": "text/x-python",
   "name": "python",
   "nbconvert_exporter": "python",
   "pygments_lexer": "ipython3",
   "version": "3.7.5"
  }
 },
 "nbformat": 4,
 "nbformat_minor": 2
}
