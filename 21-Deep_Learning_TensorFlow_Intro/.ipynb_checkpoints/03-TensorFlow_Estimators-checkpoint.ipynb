{
 "cells": [
  {
   "cell_type": "markdown",
   "metadata": {},
   "source": [
    "# Section 26: Python for Deep Learning"
   ]
  },
  {
   "cell_type": "markdown",
   "metadata": {},
   "source": [
    "# 03 - TensorFlow Estimators "
   ]
  },
  {
   "cell_type": "code",
   "execution_count": 1,
   "metadata": {},
   "outputs": [],
   "source": [
    "### Tensorflow has an estimator object you can use to quickly create models without needing \n",
    "### to manually define the graph as we did before. -> Making a graph manually can be compliocated\n",
    "### and thus we use estimators to make the model building process faster. \n",
    "\n",
    "### Estimator steps: -> Similar to sci-kit learn workflow\n",
    "### - Read in the Data (Normalize if necessary)\n",
    "### - Train/Test split the data \n",
    "### - Create Estimator Feature Columns -> A list of specialized feature columns \n",
    "### - Create Input Estimator Function  -> A way of organizing your training data \n",
    "### - Train estimator model \n",
    "### - Predict with new test Input Function"
   ]
  },
  {
   "cell_type": "code",
   "execution_count": 3,
   "metadata": {},
   "outputs": [
    {
     "data": {
      "text/html": [
       "<div>\n",
       "<style scoped>\n",
       "    .dataframe tbody tr th:only-of-type {\n",
       "        vertical-align: middle;\n",
       "    }\n",
       "\n",
       "    .dataframe tbody tr th {\n",
       "        vertical-align: top;\n",
       "    }\n",
       "\n",
       "    .dataframe thead th {\n",
       "        text-align: right;\n",
       "    }\n",
       "</style>\n",
       "<table border=\"1\" class=\"dataframe\">\n",
       "  <thead>\n",
       "    <tr style=\"text-align: right;\">\n",
       "      <th></th>\n",
       "      <th>sepal length (cm)</th>\n",
       "      <th>sepal width (cm)</th>\n",
       "      <th>petal length (cm)</th>\n",
       "      <th>petal width (cm)</th>\n",
       "      <th>target</th>\n",
       "    </tr>\n",
       "  </thead>\n",
       "  <tbody>\n",
       "    <tr>\n",
       "      <th>0</th>\n",
       "      <td>5.1</td>\n",
       "      <td>3.5</td>\n",
       "      <td>1.4</td>\n",
       "      <td>0.2</td>\n",
       "      <td>0.0</td>\n",
       "    </tr>\n",
       "    <tr>\n",
       "      <th>1</th>\n",
       "      <td>4.9</td>\n",
       "      <td>3.0</td>\n",
       "      <td>1.4</td>\n",
       "      <td>0.2</td>\n",
       "      <td>0.0</td>\n",
       "    </tr>\n",
       "    <tr>\n",
       "      <th>2</th>\n",
       "      <td>4.7</td>\n",
       "      <td>3.2</td>\n",
       "      <td>1.3</td>\n",
       "      <td>0.2</td>\n",
       "      <td>0.0</td>\n",
       "    </tr>\n",
       "    <tr>\n",
       "      <th>3</th>\n",
       "      <td>4.6</td>\n",
       "      <td>3.1</td>\n",
       "      <td>1.5</td>\n",
       "      <td>0.2</td>\n",
       "      <td>0.0</td>\n",
       "    </tr>\n",
       "    <tr>\n",
       "      <th>4</th>\n",
       "      <td>5.0</td>\n",
       "      <td>3.6</td>\n",
       "      <td>1.4</td>\n",
       "      <td>0.2</td>\n",
       "      <td>0.0</td>\n",
       "    </tr>\n",
       "  </tbody>\n",
       "</table>\n",
       "</div>"
      ],
      "text/plain": [
       "   sepal length (cm)  sepal width (cm)  petal length (cm)  petal width (cm)  \\\n",
       "0                5.1               3.5                1.4               0.2   \n",
       "1                4.9               3.0                1.4               0.2   \n",
       "2                4.7               3.2                1.3               0.2   \n",
       "3                4.6               3.1                1.5               0.2   \n",
       "4                5.0               3.6                1.4               0.2   \n",
       "\n",
       "   target  \n",
       "0     0.0  \n",
       "1     0.0  \n",
       "2     0.0  \n",
       "3     0.0  \n",
       "4     0.0  "
      ]
     },
     "execution_count": 3,
     "metadata": {},
     "output_type": "execute_result"
    }
   ],
   "source": [
    "### ---------------------------- 1. READ-IN THE DATA -------------------------------\n",
    "### Imports and getting the data \n",
    "import pandas as pd \n",
    "df = pd.read_csv('iris.csv')\n",
    "df.head()"
   ]
  },
  {
   "cell_type": "code",
   "execution_count": 4,
   "metadata": {},
   "outputs": [
    {
     "data": {
      "text/plain": [
       "Index(['sepal length (cm)', 'sepal width (cm)', 'petal length (cm)',\n",
       "       'petal width (cm)', 'target'],\n",
       "      dtype='object')"
      ]
     },
     "execution_count": 4,
     "metadata": {},
     "output_type": "execute_result"
    }
   ],
   "source": [
    "### To use TF estimator objects we need to: \n",
    "                                    # -Clean the column names -> No special characters or spaces on them \n",
    "                                    # -Target for classification must be an integer -> Target is float now\n",
    "df.columns "
   ]
  },
  {
   "cell_type": "code",
   "execution_count": 5,
   "metadata": {},
   "outputs": [],
   "source": [
    "### Lets deal with the column names first, we rename as follows:\n",
    "df.columns = ['sepal_length', 'sepal_width', 'petal_length', 'petal_width', 'target']"
   ]
  },
  {
   "cell_type": "code",
   "execution_count": 6,
   "metadata": {},
   "outputs": [
    {
     "data": {
      "text/html": [
       "<div>\n",
       "<style scoped>\n",
       "    .dataframe tbody tr th:only-of-type {\n",
       "        vertical-align: middle;\n",
       "    }\n",
       "\n",
       "    .dataframe tbody tr th {\n",
       "        vertical-align: top;\n",
       "    }\n",
       "\n",
       "    .dataframe thead th {\n",
       "        text-align: right;\n",
       "    }\n",
       "</style>\n",
       "<table border=\"1\" class=\"dataframe\">\n",
       "  <thead>\n",
       "    <tr style=\"text-align: right;\">\n",
       "      <th></th>\n",
       "      <th>sepal_length</th>\n",
       "      <th>sepal_width</th>\n",
       "      <th>petal_length</th>\n",
       "      <th>petal_width</th>\n",
       "      <th>target</th>\n",
       "    </tr>\n",
       "  </thead>\n",
       "  <tbody>\n",
       "    <tr>\n",
       "      <th>0</th>\n",
       "      <td>5.1</td>\n",
       "      <td>3.5</td>\n",
       "      <td>1.4</td>\n",
       "      <td>0.2</td>\n",
       "      <td>0.0</td>\n",
       "    </tr>\n",
       "    <tr>\n",
       "      <th>1</th>\n",
       "      <td>4.9</td>\n",
       "      <td>3.0</td>\n",
       "      <td>1.4</td>\n",
       "      <td>0.2</td>\n",
       "      <td>0.0</td>\n",
       "    </tr>\n",
       "    <tr>\n",
       "      <th>2</th>\n",
       "      <td>4.7</td>\n",
       "      <td>3.2</td>\n",
       "      <td>1.3</td>\n",
       "      <td>0.2</td>\n",
       "      <td>0.0</td>\n",
       "    </tr>\n",
       "    <tr>\n",
       "      <th>3</th>\n",
       "      <td>4.6</td>\n",
       "      <td>3.1</td>\n",
       "      <td>1.5</td>\n",
       "      <td>0.2</td>\n",
       "      <td>0.0</td>\n",
       "    </tr>\n",
       "    <tr>\n",
       "      <th>4</th>\n",
       "      <td>5.0</td>\n",
       "      <td>3.6</td>\n",
       "      <td>1.4</td>\n",
       "      <td>0.2</td>\n",
       "      <td>0.0</td>\n",
       "    </tr>\n",
       "  </tbody>\n",
       "</table>\n",
       "</div>"
      ],
      "text/plain": [
       "   sepal_length  sepal_width  petal_length  petal_width  target\n",
       "0           5.1          3.5           1.4          0.2     0.0\n",
       "1           4.9          3.0           1.4          0.2     0.0\n",
       "2           4.7          3.2           1.3          0.2     0.0\n",
       "3           4.6          3.1           1.5          0.2     0.0\n",
       "4           5.0          3.6           1.4          0.2     0.0"
      ]
     },
     "execution_count": 6,
     "metadata": {},
     "output_type": "execute_result"
    }
   ],
   "source": [
    "df.head()"
   ]
  },
  {
   "cell_type": "code",
   "execution_count": 7,
   "metadata": {},
   "outputs": [],
   "source": [
    "### Now, lets change the data type of the target column \n",
    "df['target'] = df['target'].apply(int)"
   ]
  },
  {
   "cell_type": "code",
   "execution_count": 8,
   "metadata": {},
   "outputs": [
    {
     "data": {
      "text/html": [
       "<div>\n",
       "<style scoped>\n",
       "    .dataframe tbody tr th:only-of-type {\n",
       "        vertical-align: middle;\n",
       "    }\n",
       "\n",
       "    .dataframe tbody tr th {\n",
       "        vertical-align: top;\n",
       "    }\n",
       "\n",
       "    .dataframe thead th {\n",
       "        text-align: right;\n",
       "    }\n",
       "</style>\n",
       "<table border=\"1\" class=\"dataframe\">\n",
       "  <thead>\n",
       "    <tr style=\"text-align: right;\">\n",
       "      <th></th>\n",
       "      <th>sepal_length</th>\n",
       "      <th>sepal_width</th>\n",
       "      <th>petal_length</th>\n",
       "      <th>petal_width</th>\n",
       "      <th>target</th>\n",
       "    </tr>\n",
       "  </thead>\n",
       "  <tbody>\n",
       "    <tr>\n",
       "      <th>0</th>\n",
       "      <td>5.1</td>\n",
       "      <td>3.5</td>\n",
       "      <td>1.4</td>\n",
       "      <td>0.2</td>\n",
       "      <td>0</td>\n",
       "    </tr>\n",
       "    <tr>\n",
       "      <th>1</th>\n",
       "      <td>4.9</td>\n",
       "      <td>3.0</td>\n",
       "      <td>1.4</td>\n",
       "      <td>0.2</td>\n",
       "      <td>0</td>\n",
       "    </tr>\n",
       "    <tr>\n",
       "      <th>2</th>\n",
       "      <td>4.7</td>\n",
       "      <td>3.2</td>\n",
       "      <td>1.3</td>\n",
       "      <td>0.2</td>\n",
       "      <td>0</td>\n",
       "    </tr>\n",
       "    <tr>\n",
       "      <th>3</th>\n",
       "      <td>4.6</td>\n",
       "      <td>3.1</td>\n",
       "      <td>1.5</td>\n",
       "      <td>0.2</td>\n",
       "      <td>0</td>\n",
       "    </tr>\n",
       "    <tr>\n",
       "      <th>4</th>\n",
       "      <td>5.0</td>\n",
       "      <td>3.6</td>\n",
       "      <td>1.4</td>\n",
       "      <td>0.2</td>\n",
       "      <td>0</td>\n",
       "    </tr>\n",
       "  </tbody>\n",
       "</table>\n",
       "</div>"
      ],
      "text/plain": [
       "   sepal_length  sepal_width  petal_length  petal_width  target\n",
       "0           5.1          3.5           1.4          0.2       0\n",
       "1           4.9          3.0           1.4          0.2       0\n",
       "2           4.7          3.2           1.3          0.2       0\n",
       "3           4.6          3.1           1.5          0.2       0\n",
       "4           5.0          3.6           1.4          0.2       0"
      ]
     },
     "execution_count": 8,
     "metadata": {},
     "output_type": "execute_result"
    }
   ],
   "source": [
    "df.head() ## All set, features can be floats!"
   ]
  },
  {
   "cell_type": "code",
   "execution_count": 10,
   "metadata": {},
   "outputs": [],
   "source": [
    "y = df['target']\n",
    "X = df.drop('target', axis = 1)"
   ]
  },
  {
   "cell_type": "code",
   "execution_count": 12,
   "metadata": {},
   "outputs": [
    {
     "data": {
      "text/plain": [
       "0    0\n",
       "1    0\n",
       "2    0\n",
       "3    0\n",
       "4    0\n",
       "5    0\n",
       "6    0\n",
       "7    0\n",
       "8    0\n",
       "9    0\n",
       "Name: target, dtype: int64"
      ]
     },
     "execution_count": 12,
     "metadata": {},
     "output_type": "execute_result"
    }
   ],
   "source": [
    "y[0:10] ### To train and test we must shuffle, otherwise we will be feeding certain classes more frequently "
   ]
  },
  {
   "cell_type": "code",
   "execution_count": 14,
   "metadata": {},
   "outputs": [
    {
     "data": {
      "text/html": [
       "<div>\n",
       "<style scoped>\n",
       "    .dataframe tbody tr th:only-of-type {\n",
       "        vertical-align: middle;\n",
       "    }\n",
       "\n",
       "    .dataframe tbody tr th {\n",
       "        vertical-align: top;\n",
       "    }\n",
       "\n",
       "    .dataframe thead th {\n",
       "        text-align: right;\n",
       "    }\n",
       "</style>\n",
       "<table border=\"1\" class=\"dataframe\">\n",
       "  <thead>\n",
       "    <tr style=\"text-align: right;\">\n",
       "      <th></th>\n",
       "      <th>sepal_length</th>\n",
       "      <th>sepal_width</th>\n",
       "      <th>petal_length</th>\n",
       "      <th>petal_width</th>\n",
       "    </tr>\n",
       "  </thead>\n",
       "  <tbody>\n",
       "    <tr>\n",
       "      <th>0</th>\n",
       "      <td>5.1</td>\n",
       "      <td>3.5</td>\n",
       "      <td>1.4</td>\n",
       "      <td>0.2</td>\n",
       "    </tr>\n",
       "    <tr>\n",
       "      <th>1</th>\n",
       "      <td>4.9</td>\n",
       "      <td>3.0</td>\n",
       "      <td>1.4</td>\n",
       "      <td>0.2</td>\n",
       "    </tr>\n",
       "    <tr>\n",
       "      <th>2</th>\n",
       "      <td>4.7</td>\n",
       "      <td>3.2</td>\n",
       "      <td>1.3</td>\n",
       "      <td>0.2</td>\n",
       "    </tr>\n",
       "    <tr>\n",
       "      <th>3</th>\n",
       "      <td>4.6</td>\n",
       "      <td>3.1</td>\n",
       "      <td>1.5</td>\n",
       "      <td>0.2</td>\n",
       "    </tr>\n",
       "    <tr>\n",
       "      <th>4</th>\n",
       "      <td>5.0</td>\n",
       "      <td>3.6</td>\n",
       "      <td>1.4</td>\n",
       "      <td>0.2</td>\n",
       "    </tr>\n",
       "  </tbody>\n",
       "</table>\n",
       "</div>"
      ],
      "text/plain": [
       "   sepal_length  sepal_width  petal_length  petal_width\n",
       "0           5.1          3.5           1.4          0.2\n",
       "1           4.9          3.0           1.4          0.2\n",
       "2           4.7          3.2           1.3          0.2\n",
       "3           4.6          3.1           1.5          0.2\n",
       "4           5.0          3.6           1.4          0.2"
      ]
     },
     "execution_count": 14,
     "metadata": {},
     "output_type": "execute_result"
    }
   ],
   "source": [
    "X.head()"
   ]
  },
  {
   "cell_type": "code",
   "execution_count": 18,
   "metadata": {},
   "outputs": [],
   "source": [
    "### ---------------------------- 2. TRAIN-TEST SPLIT -------------------------------\n",
    "### Lets split our data into train/test sets: \n",
    "##Imports \n",
    "from sklearn.model_selection import train_test_split"
   ]
  },
  {
   "cell_type": "code",
   "execution_count": 16,
   "metadata": {},
   "outputs": [],
   "source": [
    "train_test_split = X_train, X_test, y_train, y_test = train_test_split(X, y, test_size=0.3)"
   ]
  },
  {
   "cell_type": "code",
   "execution_count": 17,
   "metadata": {},
   "outputs": [],
   "source": [
    "### Using Tensorflow\n",
    "import tensorflow as tf "
   ]
  },
  {
   "cell_type": "code",
   "execution_count": 22,
   "metadata": {},
   "outputs": [],
   "source": [
    "### ---------------------------- 3. CREATING FEATURE COLUMNS ------------------------------\n",
    "### Creating the feature columns: \n",
    "\n",
    "### We are working with numeric columns, thus we call the numeric column method \n",
    "feats_cols = []\n",
    "for col in X.columns:\n",
    "    feats_cols.append(tf.feature_column.numeric_column(col))"
   ]
  },
  {
   "cell_type": "code",
   "execution_count": 25,
   "metadata": {},
   "outputs": [
    {
     "data": {
      "text/plain": [
       "[NumericColumn(key='sepal_length', shape=(1,), default_value=None, dtype=tf.float32, normalizer_fn=None),\n",
       " NumericColumn(key='sepal_width', shape=(1,), default_value=None, dtype=tf.float32, normalizer_fn=None),\n",
       " NumericColumn(key='petal_length', shape=(1,), default_value=None, dtype=tf.float32, normalizer_fn=None),\n",
       " NumericColumn(key='petal_width', shape=(1,), default_value=None, dtype=tf.float32, normalizer_fn=None)]"
      ]
     },
     "execution_count": 25,
     "metadata": {},
     "output_type": "execute_result"
    }
   ],
   "source": [
    "### We obtain a list of specialized numeric column objects where heir key syncs with \n",
    "### the declared pandas DataFrames\n",
    "feats_cols"
   ]
  },
  {
   "cell_type": "code",
   "execution_count": 40,
   "metadata": {},
   "outputs": [
    {
     "name": "stdout",
     "output_type": "stream",
     "text": [
      "INFO:tensorflow:Using default config.\n",
      "WARNING:tensorflow:Using temporary folder as model directory: /tmp/tmpcesb_oyi\n",
      "INFO:tensorflow:Using config: {'_model_dir': '/tmp/tmpcesb_oyi', '_tf_random_seed': None, '_save_summary_steps': 100, '_save_checkpoints_steps': None, '_save_checkpoints_secs': 600, '_session_config': allow_soft_placement: true\n",
      "graph_options {\n",
      "  rewrite_options {\n",
      "    meta_optimizer_iterations: ONE\n",
      "  }\n",
      "}\n",
      ", '_keep_checkpoint_max': 5, '_keep_checkpoint_every_n_hours': 10000, '_log_step_count_steps': 100, '_train_distribute': None, '_device_fn': None, '_protocol': None, '_eval_distribute': None, '_experimental_distribute': None, '_experimental_max_worker_delay_secs': None, '_session_creation_timeout_secs': 7200, '_service': None, '_cluster_spec': <tensorflow.python.training.server_lib.ClusterSpec object at 0x7fd8f2f308d0>, '_task_type': 'worker', '_task_id': 0, '_global_id_in_cluster': 0, '_master': '', '_evaluation_master': '', '_is_chief': True, '_num_ps_replicas': 0, '_num_worker_replicas': 1}\n"
     ]
    }
   ],
   "source": [
    "### ---------------------------- 3. CREATING INPUT ESTIMATOR FUNCTIONS -----------------------------\n",
    "\n",
    "##Returns an input function that will feed a pd DataFrame into the model\n",
    "\n",
    "##tf common error -> Empty predictions\n",
    "##Need to tune batch size\n",
    "##num_epochs -> In each epoch you get to see the whole training set -> When we reach the num_epochs limit we will\n",
    "##have trained the estimator object completely \n",
    "\n",
    "input_func = tf.estimator.inputs.pandas_input_fn(x =X_train, y = y_train, \n",
    "                                                 batch_size = 10, num_epochs = 5, shuffle = True)\n",
    "## Classifier estimator \n",
    "## hidden units -> Pass in a list with number of neurons per layer\n",
    "## n_classes = 3 -> We have three target values \n",
    "## Feature columns -> List of numeric columns created before\n",
    "\n",
    "classifier = tf.estimator.DNNClassifier(hidden_units=[10,20,10], n_classes = 3, feature_columns = feats_cols)       "
   ]
  },
  {
   "cell_type": "code",
   "execution_count": 41,
   "metadata": {},
   "outputs": [
    {
     "name": "stdout",
     "output_type": "stream",
     "text": [
      "INFO:tensorflow:Calling model_fn.\n",
      "INFO:tensorflow:Done calling model_fn.\n",
      "INFO:tensorflow:Create CheckpointSaverHook.\n",
      "INFO:tensorflow:Graph was finalized.\n",
      "INFO:tensorflow:Running local_init_op.\n",
      "INFO:tensorflow:Done running local_init_op.\n",
      "INFO:tensorflow:Saving checkpoints for 0 into /tmp/tmpcesb_oyi/model.ckpt.\n",
      "INFO:tensorflow:loss = 9.73947, step = 1\n",
      "INFO:tensorflow:Saving checkpoints for 50 into /tmp/tmpcesb_oyi/model.ckpt.\n",
      "INFO:tensorflow:Loss for final step: 0.9795073.\n"
     ]
    },
    {
     "data": {
      "text/plain": [
       "<tensorflow_estimator.python.estimator.canned.dnn.DNNClassifier at 0x7fd8f2dbcb10>"
      ]
     },
     "execution_count": 41,
     "metadata": {},
     "output_type": "execute_result"
    }
   ],
   "source": [
    "### ---------------------------- 4. TRAINING THE CLASSIFIER -----------------------------\n",
    "classifier.train(input_fn = input_func, steps = 50)"
   ]
  },
  {
   "cell_type": "code",
   "execution_count": 42,
   "metadata": {},
   "outputs": [
    {
     "name": "stdout",
     "output_type": "stream",
     "text": [
      "INFO:tensorflow:Calling model_fn.\n",
      "INFO:tensorflow:Done calling model_fn.\n",
      "INFO:tensorflow:Graph was finalized.\n",
      "INFO:tensorflow:Restoring parameters from /tmp/tmpcesb_oyi/model.ckpt-50\n",
      "INFO:tensorflow:Running local_init_op.\n",
      "INFO:tensorflow:Done running local_init_op.\n"
     ]
    }
   ],
   "source": [
    "### ---------------------------- 5. TESTING THE CLASSIFIER ------------------------\n",
    "pred_func = tf.estimator.inputs.pandas_input_fn(x =X_test, batch_size = len(X_test), shuffle = False)\n",
    "\n",
    "##Outputs a generator -> Cast a list if you are not going\n",
    "##                       to iterate through the list. \n",
    "\n",
    "predictions = list(classifier.predict(input_fn = pred_func)) "
   ]
  },
  {
   "cell_type": "code",
   "execution_count": 43,
   "metadata": {},
   "outputs": [
    {
     "data": {
      "text/plain": [
       "[{'logits': array([-0.4300766,  3.425398 ,  0.4841894], dtype=float32),\n",
       "  'probabilities': array([0.01970599, 0.9311287 , 0.04916533], dtype=float32),\n",
       "  'class_ids': array([1]),\n",
       "  'classes': array([b'1'], dtype=object),\n",
       "  'all_class_ids': array([0, 1, 2], dtype=int32),\n",
       "  'all_classes': array([b'0', b'1', b'2'], dtype=object)},\n",
       " {'logits': array([-1.4666828,  3.1826391,  4.197844 ], dtype=float32),\n",
       "  'probabilities': array([0.00253829, 0.2652874 , 0.73217434], dtype=float32),\n",
       "  'class_ids': array([2]),\n",
       "  'classes': array([b'2'], dtype=object),\n",
       "  'all_class_ids': array([0, 1, 2], dtype=int32),\n",
       "  'all_classes': array([b'0', b'1', b'2'], dtype=object)},\n",
       " {'logits': array([ 4.736955 , -1.6508582, -3.201774 ], dtype=float32),\n",
       "  'probabilities': array([9.9796557e-01, 1.6785078e-03, 3.5593382e-04], dtype=float32),\n",
       "  'class_ids': array([0]),\n",
       "  'classes': array([b'0'], dtype=object),\n",
       "  'all_class_ids': array([0, 1, 2], dtype=int32),\n",
       "  'all_classes': array([b'0', b'1', b'2'], dtype=object)},\n",
       " {'logits': array([-1.7188708,  3.6405404,  4.980993 ], dtype=float32),\n",
       "  'probabilities': array([0.00097476, 0.20723346, 0.7917918 ], dtype=float32),\n",
       "  'class_ids': array([2]),\n",
       "  'classes': array([b'2'], dtype=object),\n",
       "  'all_class_ids': array([0, 1, 2], dtype=int32),\n",
       "  'all_classes': array([b'0', b'1', b'2'], dtype=object)},\n",
       " {'logits': array([ 3.8918662, -1.2419163, -2.7369928], dtype=float32),\n",
       "  'probabilities': array([0.9928358, 0.005852 , 0.0013122], dtype=float32),\n",
       "  'class_ids': array([0]),\n",
       "  'classes': array([b'0'], dtype=object),\n",
       "  'all_class_ids': array([0, 1, 2], dtype=int32),\n",
       "  'all_classes': array([b'0', b'1', b'2'], dtype=object)},\n",
       " {'logits': array([ 4.1826377, -1.4279127, -2.8463209], dtype=float32),\n",
       "  'probabilities': array([9.9547571e-01, 3.6425001e-03, 8.8184618e-04], dtype=float32),\n",
       "  'class_ids': array([0]),\n",
       "  'classes': array([b'0'], dtype=object),\n",
       "  'all_class_ids': array([0, 1, 2], dtype=int32),\n",
       "  'all_classes': array([b'0', b'1', b'2'], dtype=object)},\n",
       " {'logits': array([-1.51172  ,  3.2271116,  4.3089933], dtype=float32),\n",
       "  'probabilities': array([0.00220988, 0.25259063, 0.7451995 ], dtype=float32),\n",
       "  'class_ids': array([2]),\n",
       "  'classes': array([b'2'], dtype=object),\n",
       "  'all_class_ids': array([0, 1, 2], dtype=int32),\n",
       "  'all_classes': array([b'0', b'1', b'2'], dtype=object)},\n",
       " {'logits': array([-1.7436343,  2.6956027,  5.5155277], dtype=float32),\n",
       "  'probabilities': array([6.6366891e-04, 5.6219578e-02, 9.4311678e-01], dtype=float32),\n",
       "  'class_ids': array([2]),\n",
       "  'classes': array([b'2'], dtype=object),\n",
       "  'all_class_ids': array([0, 1, 2], dtype=int32),\n",
       "  'all_classes': array([b'0', b'1', b'2'], dtype=object)},\n",
       " {'logits': array([-0.93426204,  3.5763004 ,  2.0375407 ], dtype=float32),\n",
       "  'probabilities': array([0.00896861, 0.8159006 , 0.17513075], dtype=float32),\n",
       "  'class_ids': array([1]),\n",
       "  'classes': array([b'1'], dtype=object),\n",
       "  'all_class_ids': array([0, 1, 2], dtype=int32),\n",
       "  'all_classes': array([b'0', b'1', b'2'], dtype=object)},\n",
       " {'logits': array([-0.7819767,  2.9129665,  1.6442931], dtype=float32),\n",
       "  'probabilities': array([0.01902592, 0.7656656 , 0.21530853], dtype=float32),\n",
       "  'class_ids': array([1]),\n",
       "  'classes': array([b'1'], dtype=object),\n",
       "  'all_class_ids': array([0, 1, 2], dtype=int32),\n",
       "  'all_classes': array([b'0', b'1', b'2'], dtype=object)},\n",
       " {'logits': array([ 4.969547 , -1.6987817, -3.3745034], dtype=float32),\n",
       "  'probabilities': array([9.9849391e-01, 1.2686074e-03, 2.3744901e-04], dtype=float32),\n",
       "  'class_ids': array([0]),\n",
       "  'classes': array([b'0'], dtype=object),\n",
       "  'all_class_ids': array([0, 1, 2], dtype=int32),\n",
       "  'all_classes': array([b'0', b'1', b'2'], dtype=object)},\n",
       " {'logits': array([-0.593573  ,  3.4736037 ,  0.81819546], dtype=float32),\n",
       "  'probabilities': array([0.01574925, 0.91962826, 0.0646224 ], dtype=float32),\n",
       "  'class_ids': array([1]),\n",
       "  'classes': array([b'1'], dtype=object),\n",
       "  'all_class_ids': array([0, 1, 2], dtype=int32),\n",
       "  'all_classes': array([b'0', b'1', b'2'], dtype=object)},\n",
       " {'logits': array([-1.5191312,  2.4123147,  4.7470665], dtype=float32),\n",
       "  'probabilities': array([0.00172875, 0.08813281, 0.9101385 ], dtype=float32),\n",
       "  'class_ids': array([2]),\n",
       "  'classes': array([b'2'], dtype=object),\n",
       "  'all_class_ids': array([0, 1, 2], dtype=int32),\n",
       "  'all_classes': array([b'0', b'1', b'2'], dtype=object)},\n",
       " {'logits': array([-1.1938732,  3.1566448,  3.1324854], dtype=float32),\n",
       "  'probabilities': array([0.00648564, 0.5027576 , 0.4907568 ], dtype=float32),\n",
       "  'class_ids': array([1]),\n",
       "  'classes': array([b'1'], dtype=object),\n",
       "  'all_class_ids': array([0, 1, 2], dtype=int32),\n",
       "  'all_classes': array([b'0', b'1', b'2'], dtype=object)},\n",
       " {'logits': array([ 4.255388, -1.328898, -2.997414], dtype=float32),\n",
       "  'probabilities': array([9.9555522e-01, 3.7397353e-03, 7.0503959e-04], dtype=float32),\n",
       "  'class_ids': array([0]),\n",
       "  'classes': array([b'0'], dtype=object),\n",
       "  'all_class_ids': array([0, 1, 2], dtype=int32),\n",
       "  'all_classes': array([b'0', b'1', b'2'], dtype=object)},\n",
       " {'logits': array([-1.7655562,  3.0378091,  5.295626 ], dtype=float32),\n",
       "  'probabilities': array([7.7594991e-04, 9.4603844e-02, 9.0462017e-01], dtype=float32),\n",
       "  'class_ids': array([2]),\n",
       "  'classes': array([b'2'], dtype=object),\n",
       "  'all_class_ids': array([0, 1, 2], dtype=int32),\n",
       "  'all_classes': array([b'0', b'1', b'2'], dtype=object)},\n",
       " {'logits': array([-0.6761026,  3.7732449,  0.9707315], dtype=float32),\n",
       "  'probabilities': array([0.0108978 , 0.93253696, 0.05656528], dtype=float32),\n",
       "  'class_ids': array([1]),\n",
       "  'classes': array([b'1'], dtype=object),\n",
       "  'all_class_ids': array([0, 1, 2], dtype=int32),\n",
       "  'all_classes': array([b'0', b'1', b'2'], dtype=object)},\n",
       " {'logits': array([ 0.3468141 ,  2.3841522 , -0.18337868], dtype=float32),\n",
       "  'probabilities': array([0.10800705, 0.8284318 , 0.06356122], dtype=float32),\n",
       "  'class_ids': array([1]),\n",
       "  'classes': array([b'1'], dtype=object),\n",
       "  'all_class_ids': array([0, 1, 2], dtype=int32),\n",
       "  'all_classes': array([b'0', b'1', b'2'], dtype=object)},\n",
       " {'logits': array([ 5.4538684, -1.9394398, -3.6006167], dtype=float32),\n",
       "  'probabilities': array([9.99268353e-01, 6.14906661e-04, 1.16780175e-04], dtype=float32),\n",
       "  'class_ids': array([0]),\n",
       "  'classes': array([b'0'], dtype=object),\n",
       "  'all_class_ids': array([0, 1, 2], dtype=int32),\n",
       "  'all_classes': array([b'0', b'1', b'2'], dtype=object)},\n",
       " {'logits': array([ 5.612763 , -2.0397837, -3.7003107], dtype=float32),\n",
       "  'probabilities': array([9.9943525e-01, 4.7456508e-04, 9.0185757e-05], dtype=float32),\n",
       "  'class_ids': array([0]),\n",
       "  'classes': array([b'0'], dtype=object),\n",
       "  'all_class_ids': array([0, 1, 2], dtype=int32),\n",
       "  'all_classes': array([b'0', b'1', b'2'], dtype=object)},\n",
       " {'logits': array([ 0.1978178 ,  2.986403  , -0.11498903], dtype=float32),\n",
       "  'probabilities': array([0.05558832, 0.90375495, 0.04065681], dtype=float32),\n",
       "  'class_ids': array([1]),\n",
       "  'classes': array([b'1'], dtype=object),\n",
       "  'all_class_ids': array([0, 1, 2], dtype=int32),\n",
       "  'all_classes': array([b'0', b'1', b'2'], dtype=object)},\n",
       " {'logits': array([-1.7275094,  2.9286628,  5.287437 ], dtype=float32),\n",
       "  'probabilities': array([8.2008913e-04, 8.6300038e-02, 9.1287982e-01], dtype=float32),\n",
       "  'class_ids': array([2]),\n",
       "  'classes': array([b'2'], dtype=object),\n",
       "  'all_class_ids': array([0, 1, 2], dtype=int32),\n",
       "  'all_classes': array([b'0', b'1', b'2'], dtype=object)},\n",
       " {'logits': array([ 4.072154 , -1.265328 , -2.8839912], dtype=float32),\n",
       "  'probabilities': array([9.9427235e-01, 4.7804238e-03, 9.4730506e-04], dtype=float32),\n",
       "  'class_ids': array([0]),\n",
       "  'classes': array([b'0'], dtype=object),\n",
       "  'all_class_ids': array([0, 1, 2], dtype=int32),\n",
       "  'all_classes': array([b'0', b'1', b'2'], dtype=object)},\n",
       " {'logits': array([ 4.333303 , -1.4618814, -2.965486 ], dtype=float32),\n",
       "  'probabilities': array([9.9629515e-01, 3.0308992e-03, 6.7385152e-04], dtype=float32),\n",
       "  'class_ids': array([0]),\n",
       "  'classes': array([b'0'], dtype=object),\n",
       "  'all_class_ids': array([0, 1, 2], dtype=int32),\n",
       "  'all_classes': array([b'0', b'1', b'2'], dtype=object)},\n",
       " {'logits': array([ 4.816656 , -1.6742018, -3.2546637], dtype=float32),\n",
       "  'probabilities': array([9.9817371e-01, 1.5144756e-03, 3.1180034e-04], dtype=float32),\n",
       "  'class_ids': array([0]),\n",
       "  'classes': array([b'0'], dtype=object),\n",
       "  'all_class_ids': array([0, 1, 2], dtype=int32),\n",
       "  'all_classes': array([b'0', b'1', b'2'], dtype=object)},\n",
       " {'logits': array([-1.049352 ,  3.5348754,  2.5377765], dtype=float32),\n",
       "  'probabilities': array([0.00740424, 0.7250791 , 0.26751664], dtype=float32),\n",
       "  'class_ids': array([1]),\n",
       "  'classes': array([b'1'], dtype=object),\n",
       "  'all_class_ids': array([0, 1, 2], dtype=int32),\n",
       "  'all_classes': array([b'0', b'1', b'2'], dtype=object)},\n",
       " {'logits': array([-0.737758 ,  4.050944 ,  1.1417795], dtype=float32),\n",
       "  'probabilities': array([0.00783111, 0.9408713 , 0.05129749], dtype=float32),\n",
       "  'class_ids': array([1]),\n",
       "  'classes': array([b'1'], dtype=object),\n",
       "  'all_class_ids': array([0, 1, 2], dtype=int32),\n",
       "  'all_classes': array([b'0', b'1', b'2'], dtype=object)},\n",
       " {'logits': array([-1.541887,  2.696307,  4.566927], dtype=float32),\n",
       "  'probabilities': array([0.00192275, 0.13321337, 0.8648639 ], dtype=float32),\n",
       "  'class_ids': array([2]),\n",
       "  'classes': array([b'2'], dtype=object),\n",
       "  'all_class_ids': array([0, 1, 2], dtype=int32),\n",
       "  'all_classes': array([b'0', b'1', b'2'], dtype=object)},\n",
       " {'logits': array([-1.6418293,  3.5306332,  4.8185596], dtype=float32),\n",
       "  'probabilities': array([0.0012245 , 0.21593924, 0.78283626], dtype=float32),\n",
       "  'class_ids': array([2]),\n",
       "  'classes': array([b'2'], dtype=object),\n",
       "  'all_class_ids': array([0, 1, 2], dtype=int32),\n",
       "  'all_classes': array([b'0', b'1', b'2'], dtype=object)},\n",
       " {'logits': array([ 4.718532 , -1.610636 , -3.2080326], dtype=float32),\n",
       "  'probabilities': array([9.9786013e-01, 1.7797000e-03, 3.6025199e-04], dtype=float32),\n",
       "  'class_ids': array([0]),\n",
       "  'classes': array([b'0'], dtype=object),\n",
       "  'all_class_ids': array([0, 1, 2], dtype=int32),\n",
       "  'all_classes': array([b'0', b'1', b'2'], dtype=object)},\n",
       " {'logits': array([ 4.4778714, -1.4902476, -3.1019428], dtype=float32),\n",
       "  'probabilities': array([9.9693966e-01, 2.5512185e-03, 5.0909346e-04], dtype=float32),\n",
       "  'class_ids': array([0]),\n",
       "  'classes': array([b'0'], dtype=object),\n",
       "  'all_class_ids': array([0, 1, 2], dtype=int32),\n",
       "  'all_classes': array([b'0', b'1', b'2'], dtype=object)},\n",
       " {'logits': array([-1.3173577,  4.1415887,  3.3494086], dtype=float32),\n",
       "  'probabilities': array([0.00292224, 0.6862879 , 0.3107899 ], dtype=float32),\n",
       "  'class_ids': array([1]),\n",
       "  'classes': array([b'1'], dtype=object),\n",
       "  'all_class_ids': array([0, 1, 2], dtype=int32),\n",
       "  'all_classes': array([b'0', b'1', b'2'], dtype=object)},\n",
       " {'logits': array([-0.8986883,  3.47152  ,  1.8662728], dtype=float32),\n",
       "  'probabilities': array([0.01042334, 0.82407045, 0.16550623], dtype=float32),\n",
       "  'class_ids': array([1]),\n",
       "  'classes': array([b'1'], dtype=object),\n",
       "  'all_class_ids': array([0, 1, 2], dtype=int32),\n",
       "  'all_classes': array([b'0', b'1', b'2'], dtype=object)},\n",
       " {'logits': array([-0.6719746,  3.3286202,  1.0800487], dtype=float32),\n",
       "  'probabilities': array([0.01628747, 0.88979477, 0.09391776], dtype=float32),\n",
       "  'class_ids': array([1]),\n",
       "  'classes': array([b'1'], dtype=object),\n",
       "  'all_class_ids': array([0, 1, 2], dtype=int32),\n",
       "  'all_classes': array([b'0', b'1', b'2'], dtype=object)},\n",
       " {'logits': array([ 4.9528036, -1.7076452, -3.3679645], dtype=float32),\n",
       "  'probabilities': array([9.9847835e-01, 1.2786227e-03, 2.4303839e-04], dtype=float32),\n",
       "  'class_ids': array([0]),\n",
       "  'classes': array([b'0'], dtype=object),\n",
       "  'all_class_ids': array([0, 1, 2], dtype=int32),\n",
       "  'all_classes': array([b'0', b'1', b'2'], dtype=object)},\n",
       " {'logits': array([-1.6609678,  3.9700139,  4.737832 ], dtype=float32),\n",
       "  'probabilities': array([0.001135  , 0.3165915 , 0.68227345], dtype=float32),\n",
       "  'class_ids': array([2]),\n",
       "  'classes': array([b'2'], dtype=object),\n",
       "  'all_class_ids': array([0, 1, 2], dtype=int32),\n",
       "  'all_classes': array([b'0', b'1', b'2'], dtype=object)},\n",
       " {'logits': array([-1.3956302,  3.1108334,  3.9508007], dtype=float32),\n",
       "  'probabilities': array([0.0033172 , 0.3005414 , 0.69614136], dtype=float32),\n",
       "  'class_ids': array([2]),\n",
       "  'classes': array([b'2'], dtype=object),\n",
       "  'all_class_ids': array([0, 1, 2], dtype=int32),\n",
       "  'all_classes': array([b'0', b'1', b'2'], dtype=object)},\n",
       " {'logits': array([-1.4698865,  4.154496 ,  3.8286858], dtype=float32),\n",
       "  'probabilities': array([0.00209138, 0.57952505, 0.4183835 ], dtype=float32),\n",
       "  'class_ids': array([1]),\n",
       "  'classes': array([b'1'], dtype=object),\n",
       "  'all_class_ids': array([0, 1, 2], dtype=int32),\n",
       "  'all_classes': array([b'0', b'1', b'2'], dtype=object)},\n",
       " {'logits': array([-1.6250203,  3.9210703,  4.5995727], dtype=float32),\n",
       "  'probabilities': array([0.0013119 , 0.33615404, 0.662534  ], dtype=float32),\n",
       "  'class_ids': array([2]),\n",
       "  'classes': array([b'2'], dtype=object),\n",
       "  'all_class_ids': array([0, 1, 2], dtype=int32),\n",
       "  'all_classes': array([b'0', b'1', b'2'], dtype=object)},\n",
       " {'logits': array([-1.5170082,  2.6001732,  4.6121755], dtype=float32),\n",
       "  'probabilities': array([0.00191774, 0.11772231, 0.8803599 ], dtype=float32),\n",
       "  'class_ids': array([2]),\n",
       "  'classes': array([b'2'], dtype=object),\n",
       "  'all_class_ids': array([0, 1, 2], dtype=int32),\n",
       "  'all_classes': array([b'0', b'1', b'2'], dtype=object)},\n",
       " {'logits': array([-1.676707 ,  2.9438303,  5.068246 ], dtype=float32),\n",
       "  'probabilities': array([0.00105008, 0.10663421, 0.8923157 ], dtype=float32),\n",
       "  'class_ids': array([2]),\n",
       "  'classes': array([b'2'], dtype=object),\n",
       "  'all_class_ids': array([0, 1, 2], dtype=int32),\n",
       "  'all_classes': array([b'0', b'1', b'2'], dtype=object)},\n",
       " {'logits': array([-1.6417167,  3.449267 ,  4.7589355], dtype=float32),\n",
       "  'probabilities': array([0.00130585, 0.21226476, 0.7864294 ], dtype=float32),\n",
       "  'class_ids': array([2]),\n",
       "  'classes': array([b'2'], dtype=object),\n",
       "  'all_class_ids': array([0, 1, 2], dtype=int32),\n",
       "  'all_classes': array([b'0', b'1', b'2'], dtype=object)},\n",
       " {'logits': array([-1.1420715,  3.6055849,  2.864339 ], dtype=float32),\n",
       "  'probabilities': array([0.00583897, 0.6733136 , 0.32084733], dtype=float32),\n",
       "  'class_ids': array([1]),\n",
       "  'classes': array([b'1'], dtype=object),\n",
       "  'all_class_ids': array([0, 1, 2], dtype=int32),\n",
       "  'all_classes': array([b'0', b'1', b'2'], dtype=object)},\n",
       " {'logits': array([-0.87630963,  4.041125  ,  1.6382399 ], dtype=float32),\n",
       "  'probabilities': array([0.0066661 , 0.9109339 , 0.08239999], dtype=float32),\n",
       "  'class_ids': array([1]),\n",
       "  'classes': array([b'1'], dtype=object),\n",
       "  'all_class_ids': array([0, 1, 2], dtype=int32),\n",
       "  'all_classes': array([b'0', b'1', b'2'], dtype=object)},\n",
       " {'logits': array([ 4.5669026, -1.5169537, -3.1462753], dtype=float32),\n",
       "  'probabilities': array([9.9728107e-01, 2.2731717e-03, 4.4568404e-04], dtype=float32),\n",
       "  'class_ids': array([0]),\n",
       "  'classes': array([b'0'], dtype=object),\n",
       "  'all_class_ids': array([0, 1, 2], dtype=int32),\n",
       "  'all_classes': array([b'0', b'1', b'2'], dtype=object)}]"
      ]
     },
     "execution_count": 43,
     "metadata": {},
     "output_type": "execute_result"
    }
   ],
   "source": [
    "predictions ## Lost of info here"
   ]
  },
  {
   "cell_type": "code",
   "execution_count": 44,
   "metadata": {},
   "outputs": [],
   "source": [
    "## Obtaining the final predictions \n",
    "final_preds = []\n",
    "\n",
    "for pred in predictions:\n",
    "    final_preds.append(pred['class_ids'][0])"
   ]
  },
  {
   "cell_type": "code",
   "execution_count": 45,
   "metadata": {},
   "outputs": [],
   "source": [
    "from sklearn.metrics import classification_report, confusion_matrix"
   ]
  },
  {
   "cell_type": "code",
   "execution_count": 46,
   "metadata": {},
   "outputs": [
    {
     "name": "stdout",
     "output_type": "stream",
     "text": [
      "[[14  0  0]\n",
      " [ 0 13  0]\n",
      " [ 0  3 15]]\n",
      "              precision    recall  f1-score   support\n",
      "\n",
      "           0       1.00      1.00      1.00        14\n",
      "           1       0.81      1.00      0.90        13\n",
      "           2       1.00      0.83      0.91        18\n",
      "\n",
      "    accuracy                           0.93        45\n",
      "   macro avg       0.94      0.94      0.94        45\n",
      "weighted avg       0.95      0.93      0.93        45\n",
      "\n"
     ]
    }
   ],
   "source": [
    "print(confusion_matrix(y_test, final_preds))\n",
    "print(classification_report(y_test, final_preds))\n"
   ]
  },
  {
   "cell_type": "code",
   "execution_count": null,
   "metadata": {},
   "outputs": [],
   "source": []
  },
  {
   "cell_type": "code",
   "execution_count": null,
   "metadata": {},
   "outputs": [],
   "source": []
  }
 ],
 "metadata": {
  "kernelspec": {
   "display_name": "Python 3",
   "language": "python",
   "name": "python3"
  },
  "language_info": {
   "codemirror_mode": {
    "name": "ipython",
    "version": 3
   },
   "file_extension": ".py",
   "mimetype": "text/x-python",
   "name": "python",
   "nbconvert_exporter": "python",
   "pygments_lexer": "ipython3",
   "version": "3.7.5"
  }
 },
 "nbformat": 4,
 "nbformat_minor": 2
}
