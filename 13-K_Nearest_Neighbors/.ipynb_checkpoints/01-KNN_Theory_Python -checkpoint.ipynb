{
 "cells": [
  {
   "cell_type": "markdown",
   "metadata": {},
   "source": [
    "# Section 18: Python for Machine Learning: K Nearest Neighbors"
   ]
  },
  {
   "cell_type": "markdown",
   "metadata": {},
   "source": [
    "### KNN Theory"
   ]
  },
  {
   "cell_type": "code",
   "execution_count": null,
   "metadata": {},
   "outputs": [],
   "source": [
    "## KNN is a classification algorithm that operates on a very simple principle: \n",
    "\n",
    "## Principle: \n",
    "## Training algorithm:   - Store all the data\n",
    "\n",
    "## Prediction algorithm: - Calculate the distance from x to all points in your data\n",
    "            ##           - Sort the points in your data by increasing distance from x.\n",
    "            ##           - Predict the majority label of \"k\" closest points. Choosing a k will affect what class\n",
    "            ##             a new point is  assigned to. \n",
    "            \n",
    "## PROS of KNN\n",
    "            ## - Very simple\n",
    "            ## - Training is trivial \n",
    "            ## - Works with any number of classes\n",
    "            ## - Easy to add more data\n",
    "            ## - Few parameters: K and Distance metric\n",
    "            \n",
    "## CONS OF KNN\n",
    "            ## - High prediction cost\n",
    "            ## - Not good with high dimensional data\n",
    "            ## - Categorical Features don't work well "
   ]
  }
 ],
 "metadata": {
  "kernelspec": {
   "display_name": "Python 3",
   "language": "python",
   "name": "python3"
  },
  "language_info": {
   "codemirror_mode": {
    "name": "ipython",
    "version": 3
   },
   "file_extension": ".py",
   "mimetype": "text/x-python",
   "name": "python",
   "nbconvert_exporter": "python",
   "pygments_lexer": "ipython3",
   "version": "3.7.3"
  }
 },
 "nbformat": 4,
 "nbformat_minor": 2
}
