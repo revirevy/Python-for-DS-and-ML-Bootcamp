{
 "cells": [
  {
   "cell_type": "markdown",
   "metadata": {},
   "source": [
    "# Section 23: Python for Machine Learning - Recommender Systems"
   ]
  },
  {
   "cell_type": "markdown",
   "metadata": {},
   "source": [
    "### Recomender Systems Theory"
   ]
  },
  {
   "cell_type": "code",
   "execution_count": null,
   "metadata": {},
   "outputs": [],
   "source": [
    "## ---------- Reading: Recommender Systems by Janner and Zanker -> Great Textbook \n",
    "\n",
    "## Fully developed and deployed RS is very complex and resource intensive. \n",
    "\n",
    "## Types of recommender systems:\n",
    "## 1- Content based - > Focus on the attributes of the items and give you recommendations based on the similarity\n",
    "##                      between items.\n",
    "\n",
    "## 2- Collaborative based - > Produces recommendations based on the knowledge of users attitudes towards items.\n",
    "##                        - > Uses wisdom of the crowd to recommend items.\n",
    "\n",
    "## --------------------------------------------------------------------------------\n",
    "\n",
    "## CF - More commonly used than CB systems -> Give better results and are relatively easier to understand \n",
    "##      Implementation wise.\n",
    "##    - The algorithm has the ability of doing feature learning on its own. It can start to learn by itself which\n",
    "##      features to use. \n",
    "##    - Can futher be divided into two categories:\n",
    "##         - 1. Memory-Based CF -> Uses cosine similarity \n",
    "##         - 2. Model-Based CF -> Uses SVD  "
   ]
  }
 ],
 "metadata": {
  "kernelspec": {
   "display_name": "Python 3",
   "language": "python",
   "name": "python3"
  },
  "language_info": {
   "codemirror_mode": {
    "name": "ipython",
    "version": 3
   },
   "file_extension": ".py",
   "mimetype": "text/x-python",
   "name": "python",
   "nbconvert_exporter": "python",
   "pygments_lexer": "ipython3",
   "version": "3.7.3"
  }
 },
 "nbformat": 4,
 "nbformat_minor": 2
}
