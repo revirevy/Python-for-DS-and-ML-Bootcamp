{
 "cells": [
  {
   "cell_type": "markdown",
   "metadata": {},
   "source": [
    "# Section 11: Python for Data Visualization - Plotly and Cufflinks"
   ]
  },
  {
   "cell_type": "markdown",
   "metadata": {},
   "source": [
    "# 01-Plotly and Cufflinks\n"
   ]
  },
  {
   "cell_type": "code",
   "execution_count": 1,
   "metadata": {},
   "outputs": [],
   "source": [
    "## Introduction \n",
    "\n",
    "## We are going to learn of the background of Plotly and Cufflinks which will allow us to create Interactive \n",
    "## Data visualizations. \n",
    "\n",
    "## - Plotly is an interactive visualization library \n",
    "## - Cufflinks connects pltly with Pandas \n",
    "\n",
    "##Installing plotly with pip: \n",
    "\n",
    "## pip install plotly -> Not available for the conda install \n",
    "## pip install cufflinks "
   ]
  },
  {
   "cell_type": "code",
   "execution_count": 2,
   "metadata": {},
   "outputs": [],
   "source": [
    "import pandas as pd \n",
    "import numpy as np \n",
    "from plotly import __version__\n",
    "%matplotlib inline"
   ]
  },
  {
   "cell_type": "code",
   "execution_count": 3,
   "metadata": {},
   "outputs": [
    {
     "name": "stdout",
     "output_type": "stream",
     "text": [
      "4.2.1\n"
     ]
    }
   ],
   "source": [
    "print(__version__)"
   ]
  },
  {
   "cell_type": "code",
   "execution_count": 4,
   "metadata": {},
   "outputs": [],
   "source": [
    "import cufflinks as cf"
   ]
  },
  {
   "cell_type": "code",
   "execution_count": 5,
   "metadata": {},
   "outputs": [],
   "source": [
    "from plotly.offline import download_plotlyjs, init_notebook_mode, iplot"
   ]
  },
  {
   "cell_type": "code",
   "execution_count": 6,
   "metadata": {},
   "outputs": [
    {
     "data": {
      "text/html": [
       "        <script type=\"text/javascript\">\n",
       "        window.PlotlyConfig = {MathJaxConfig: 'local'};\n",
       "        if (window.MathJax) {MathJax.Hub.Config({SVG: {font: \"STIX-Web\"}});}\n",
       "        if (typeof require !== 'undefined') {\n",
       "        require.undef(\"plotly\");\n",
       "        requirejs.config({\n",
       "            paths: {\n",
       "                'plotly': ['https://cdn.plot.ly/plotly-latest.min']\n",
       "            }\n",
       "        });\n",
       "        require(['plotly'], function(Plotly) {\n",
       "            window._Plotly = Plotly;\n",
       "        });\n",
       "        }\n",
       "        </script>\n",
       "        "
      ]
     },
     "metadata": {},
     "output_type": "display_data"
    }
   ],
   "source": [
    "init_notebook_mode(connected = True) ## Connects JavaScript to our notebook, plotly connects pandas a Python to an\n",
    "                                     ## interactive JavaScript library "
   ]
  },
  {
   "cell_type": "code",
   "execution_count": 7,
   "metadata": {},
   "outputs": [
    {
     "data": {
      "text/html": [
       "        <script type=\"text/javascript\">\n",
       "        window.PlotlyConfig = {MathJaxConfig: 'local'};\n",
       "        if (window.MathJax) {MathJax.Hub.Config({SVG: {font: \"STIX-Web\"}});}\n",
       "        if (typeof require !== 'undefined') {\n",
       "        require.undef(\"plotly\");\n",
       "        requirejs.config({\n",
       "            paths: {\n",
       "                'plotly': ['https://cdn.plot.ly/plotly-latest.min']\n",
       "            }\n",
       "        });\n",
       "        require(['plotly'], function(Plotly) {\n",
       "            window._Plotly = Plotly;\n",
       "        });\n",
       "        }\n",
       "        </script>\n",
       "        "
      ]
     },
     "metadata": {},
     "output_type": "display_data"
    }
   ],
   "source": [
    "cf.go_offline() ##This method allows us to use cufflinks online"
   ]
  },
  {
   "cell_type": "code",
   "execution_count": 8,
   "metadata": {},
   "outputs": [],
   "source": [
    "df = pd.DataFrame(np.random.randn(100,4), columns = 'A B C D'.split())"
   ]
  },
  {
   "cell_type": "code",
   "execution_count": 9,
   "metadata": {},
   "outputs": [
    {
     "data": {
      "text/html": [
       "<div>\n",
       "<style scoped>\n",
       "    .dataframe tbody tr th:only-of-type {\n",
       "        vertical-align: middle;\n",
       "    }\n",
       "\n",
       "    .dataframe tbody tr th {\n",
       "        vertical-align: top;\n",
       "    }\n",
       "\n",
       "    .dataframe thead th {\n",
       "        text-align: right;\n",
       "    }\n",
       "</style>\n",
       "<table border=\"1\" class=\"dataframe\">\n",
       "  <thead>\n",
       "    <tr style=\"text-align: right;\">\n",
       "      <th></th>\n",
       "      <th>A</th>\n",
       "      <th>B</th>\n",
       "      <th>C</th>\n",
       "      <th>D</th>\n",
       "    </tr>\n",
       "  </thead>\n",
       "  <tbody>\n",
       "    <tr>\n",
       "      <td>0</td>\n",
       "      <td>-0.065428</td>\n",
       "      <td>-0.841137</td>\n",
       "      <td>-0.796672</td>\n",
       "      <td>-0.167683</td>\n",
       "    </tr>\n",
       "    <tr>\n",
       "      <td>1</td>\n",
       "      <td>-0.498332</td>\n",
       "      <td>0.846594</td>\n",
       "      <td>0.647773</td>\n",
       "      <td>1.211881</td>\n",
       "    </tr>\n",
       "    <tr>\n",
       "      <td>2</td>\n",
       "      <td>-0.393267</td>\n",
       "      <td>-2.076924</td>\n",
       "      <td>0.483152</td>\n",
       "      <td>-0.144385</td>\n",
       "    </tr>\n",
       "    <tr>\n",
       "      <td>3</td>\n",
       "      <td>-0.106164</td>\n",
       "      <td>-0.670063</td>\n",
       "      <td>0.364444</td>\n",
       "      <td>-1.255154</td>\n",
       "    </tr>\n",
       "    <tr>\n",
       "      <td>4</td>\n",
       "      <td>-0.262075</td>\n",
       "      <td>-0.571885</td>\n",
       "      <td>1.700714</td>\n",
       "      <td>0.472796</td>\n",
       "    </tr>\n",
       "  </tbody>\n",
       "</table>\n",
       "</div>"
      ],
      "text/plain": [
       "          A         B         C         D\n",
       "0 -0.065428 -0.841137 -0.796672 -0.167683\n",
       "1 -0.498332  0.846594  0.647773  1.211881\n",
       "2 -0.393267 -2.076924  0.483152 -0.144385\n",
       "3 -0.106164 -0.670063  0.364444 -1.255154\n",
       "4 -0.262075 -0.571885  1.700714  0.472796"
      ]
     },
     "execution_count": 9,
     "metadata": {},
     "output_type": "execute_result"
    }
   ],
   "source": [
    "df.head()"
   ]
  },
  {
   "cell_type": "code",
   "execution_count": 10,
   "metadata": {},
   "outputs": [],
   "source": [
    "df2 = pd.DataFrame({'Category':['A', 'B', 'C'], 'Values': [32,43,50]})"
   ]
  },
  {
   "cell_type": "code",
   "execution_count": 11,
   "metadata": {},
   "outputs": [
    {
     "data": {
      "text/html": [
       "<div>\n",
       "<style scoped>\n",
       "    .dataframe tbody tr th:only-of-type {\n",
       "        vertical-align: middle;\n",
       "    }\n",
       "\n",
       "    .dataframe tbody tr th {\n",
       "        vertical-align: top;\n",
       "    }\n",
       "\n",
       "    .dataframe thead th {\n",
       "        text-align: right;\n",
       "    }\n",
       "</style>\n",
       "<table border=\"1\" class=\"dataframe\">\n",
       "  <thead>\n",
       "    <tr style=\"text-align: right;\">\n",
       "      <th></th>\n",
       "      <th>Category</th>\n",
       "      <th>Values</th>\n",
       "    </tr>\n",
       "  </thead>\n",
       "  <tbody>\n",
       "    <tr>\n",
       "      <td>0</td>\n",
       "      <td>A</td>\n",
       "      <td>32</td>\n",
       "    </tr>\n",
       "    <tr>\n",
       "      <td>1</td>\n",
       "      <td>B</td>\n",
       "      <td>43</td>\n",
       "    </tr>\n",
       "    <tr>\n",
       "      <td>2</td>\n",
       "      <td>C</td>\n",
       "      <td>50</td>\n",
       "    </tr>\n",
       "  </tbody>\n",
       "</table>\n",
       "</div>"
      ],
      "text/plain": [
       "  Category  Values\n",
       "0        A      32\n",
       "1        B      43\n",
       "2        C      50"
      ]
     },
     "execution_count": 11,
     "metadata": {},
     "output_type": "execute_result"
    }
   ],
   "source": [
    "df2 ##Used later for a bar plot"
   ]
  },
  {
   "cell_type": "code",
   "execution_count": 12,
   "metadata": {},
   "outputs": [
    {
     "data": {
      "text/plain": [
       "<matplotlib.axes._subplots.AxesSubplot at 0x7fcc77e6ea58>"
      ]
     },
     "execution_count": 12,
     "metadata": {},
     "output_type": "execute_result"
    },
    {
     "data": {
      "image/png": "[encoded data removed]",
      "text/plain": [
       "<Figure size 432x288 with 1 Axes>"
      ]
     },
     "metadata": {
      "needs_background": "light"
     },
     "output_type": "display_data"
    }
   ],
   "source": [
    "### Using cufflinks and iplot \n",
    "\n",
    "df.plot() ##Plotted with pandas"
   ]
  },
  {
   "cell_type": "code",
   "execution_count": 13,
   "metadata": {},
   "outputs": [
    {
     "data": {
      "application/vnd.plotly.v1+json": {
       "config": {
        "linkText": "Export to plot.ly",
        "plotlyServerURL": "https://plot.ly",
        "showLink": true
       },
       "data": [
        {
         "line": {
          "color": "rgba(255, 153, 51, 1.0)",
          "dash": "solid",
          "shape": "linear",
          "width": 1.3
         },
         "mode": "lines",
         "name": "A",
         "text": "",
         "type": "scatter",
         "x": [
          0,
          1,
          2,
          3,
          4,
          5,
          6,
          7,
          8,
          9,
          10,
          11,
          12,
          13,
          14,
          15,
          16,
          17,
          18,
          19,
          20,
          21,
          22,
          23,
          24,
          25,
          26,
          27,
          28,
          29,
          30,
          31,
          32,
          33,
          34,
          35,
          36,
          37,
          38,
          39,
          40,
          41,
          42,
          43,
          44,
          45,
          46,
          47,
          48,
          49,
          50,
          51,
          52,
          53,
          54,
          55,
          56,
          57,
          58,
          59,
          60,
          61,
          62,
          63,
          64,
          65,
          66,
          67,
          68,
          69,
          70,
          71,
          72,
          73,
          74,
          75,
          76,
          77,
          78,
          79,
          80,
          81,
          82,
          83,
          84,
          85,
          86,
          87,
          88,
          89,
          90,
          91,
          92,
          93,
          94,
          95,
          96,
          97,
          98,
          99
         ],
         "y": [
          -0.06542778015912247,
          -0.4983315985004792,
          -0.3932665761127589,
          -0.10616396259826238,
          -0.26207506689955234,
          0.7886670736320832,
          -0.14377426502187782,
          -0.15273724910094455,
          -1.1338234021817963,
          0.0009770267116028946,
          -0.7324620416267447,
          0.06043111318599064,
          0.623615648635299,
          -0.9898932119379665,
          -0.45086070577257026,
          -0.830303964658216,
          1.5716630654715504,
          -1.0974693696329356,
          0.4558388327103945,
          1.2170495932316205,
          -0.32981680298429955,
          0.2582423394595888,
          0.4888856866509463,
          -0.6121681967574407,
          -0.5414245020009553,
          2.713140457391276,
          1.7423907028996293,
          0.14142226924657475,
          1.6632119799987835,
          -1.1316432740780005,
          0.3761480797940717,
          -0.5145111245715915,
          0.15963736908855272,
          0.8356735998848508,
          -0.3565600825442002,
          1.157899333248228,
          -0.4096165797423869,
          0.5249195501867103,
          0.5653237593734552,
          1.072675824030473,
          -1.7986968659667908,
          0.09444932233020178,
          0.37476626326860707,
          -0.06564736959465206,
          0.28052433882468464,
          0.7190140964012359,
          -1.5830392770914365,
          0.2644929549909655,
          -1.0006939493489782,
          0.23636146599124183,
          0.39176536250665306,
          1.0010977258940492,
          0.10143316005483165,
          -0.3368213254581548,
          -0.2971587471713649,
          -0.026228244623694424,
          0.6624173371633474,
          -1.7218637928707545,
          -0.5923164125061781,
          -0.34970068099215595,
          -0.12555665412014028,
          -0.16897186432076375,
          0.40905865555379467,
          -0.6632048676391282,
          1.0816531446896442,
          -0.08061085564831709,
          -0.6898727254749667,
          -0.05582287614843459,
          0.019644984580532536,
          -0.24593277126504068,
          0.2647198186254047,
          -2.6985599960128646,
          -0.2857060352657619,
          -0.7059336808840253,
          0.17851344877915792,
          -1.1872112018363015,
          0.356400427218362,
          0.6949620719212402,
          1.7193507242959798,
          0.15045354017786597,
          -0.18479491530568848,
          -1.239764615178371,
          0.09444746482720447,
          -0.45253402974609547,
          1.5240444051796522,
          -0.7166957289144503,
          1.5593468757849867,
          -1.8811576668979677,
          -1.4952705913795905,
          0.23129604965371198,
          -0.008759735894900082,
          0.15443482118378815,
          -1.4297427857966751,
          -0.06765988265773787,
          -0.996787930590609,
          -0.4145939334371296,
          -0.43632955465216916,
          -0.7186990577837588,
          0.5636984699664023,
          0.21842881420586344
         ]
        },
        {
         "line": {
          "color": "rgba(55, 128, 191, 1.0)",
          "dash": "solid",
          "shape": "linear",
          "width": 1.3
         },
         "mode": "lines",
         "name": "B",
         "text": "",
         "type": "scatter",
         "x": [
          0,
          1,
          2,
          3,
          4,
          5,
          6,
          7,
          8,
          9,
          10,
          11,
          12,
          13,
          14,
          15,
          16,
          17,
          18,
          19,
          20,
          21,
          22,
          23,
          24,
          25,
          26,
          27,
          28,
          29,
          30,
          31,
          32,
          33,
          34,
          35,
          36,
          37,
          38,
          39,
          40,
          41,
          42,
          43,
          44,
          45,
          46,
          47,
          48,
          49,
          50,
          51,
          52,
          53,
          54,
          55,
          56,
          57,
          58,
          59,
          60,
          61,
          62,
          63,
          64,
          65,
          66,
          67,
          68,
          69,
          70,
          71,
          72,
          73,
          74,
          75,
          76,
          77,
          78,
          79,
          80,
          81,
          82,
          83,
          84,
          85,
          86,
          87,
          88,
          89,
          90,
          91,
          92,
          93,
          94,
          95,
          96,
          97,
          98,
          99
         ],
         "y": [
          -0.8411370469674633,
          0.8465936719276874,
          -2.0769241221253196,
          -0.6700626862026585,
          -0.5718851695463921,
          -0.09755403761810581,
          -0.44096635857130717,
          -0.19909691093629908,
          1.5488170316881231,
          -0.058357642546699194,
          0.919790098361005,
          0.3594851568227443,
          -0.8769963650114245,
          -0.269976233378358,
          0.24765485950810773,
          0.269321910169165,
          -0.5505010270008414,
          -0.4072869079940033,
          0.3517877394913619,
          -1.524489635082197,
          0.12522454045167053,
          0.9987328546532094,
          -1.3791792776183134,
          0.05423843887016417,
          0.2688011121653173,
          -0.19041155308139934,
          0.10695575141382495,
          1.7095876419986396,
          -1.170502100390321,
          0.9290949508011905,
          -0.1939790752819657,
          -0.9278782561160333,
          -0.38128376570696293,
          1.4196422528454338,
          -0.3327314727625212,
          1.1991026923111583,
          0.34681659229915696,
          -0.6206391541625019,
          0.12742134556200654,
          1.3243431685994702,
          -0.8269302595340654,
          0.37966686811781725,
          -0.10344807908893425,
          -2.0544188879512295,
          -0.7464815409567633,
          -0.7767402402381235,
          -0.6637804281354422,
          1.2517385487669808,
          0.694873957911729,
          -0.06616754426101021,
          0.0826020637563963,
          -0.8335126220950743,
          1.5472354491421703,
          -1.1883781356830807,
          0.6959161155628883,
          1.6809774728363294,
          -0.23254175749586706,
          -1.9896207513535749,
          -0.23331842485528928,
          2.178970408821887,
          1.4573427100091558,
          -0.908432032880107,
          -0.44244867207382027,
          -0.4769298465440546,
          1.3442857447410939,
          0.8937306771278547,
          1.2884460982984527,
          0.25783105542154644,
          -0.5664819169183514,
          -0.18098321446330418,
          0.331616555740629,
          -0.8005687231433739,
          1.0988721156679697,
          0.23696136067638396,
          0.46500651711300106,
          -0.7528153647155813,
          1.3412978052129945,
          -1.0199703145796095,
          0.6413002728832091,
          -0.3193840554624845,
          -0.11664683969933677,
          0.9687749026453907,
          1.3239859553061233,
          -0.1362061691984603,
          1.2241312871811287,
          0.21623446478982422,
          -0.21314367553319472,
          0.720151826365811,
          1.462740448667771,
          -0.3436916812967713,
          0.4324993105508277,
          -1.5619649073250985,
          -2.112441929480903,
          0.06564522053701284,
          -0.28106050711775143,
          -0.07673876751490212,
          0.9800922196622552,
          0.03668337598725406,
          0.22327999074166194,
          0.37285586455157954
         ]
        },
        {
         "line": {
          "color": "rgba(50, 171, 96, 1.0)",
          "dash": "solid",
          "shape": "linear",
          "width": 1.3
         },
         "mode": "lines",
         "name": "C",
         "text": "",
         "type": "scatter",
         "x": [
          0,
          1,
          2,
          3,
          4,
          5,
          6,
          7,
          8,
          9,
          10,
          11,
          12,
          13,
          14,
          15,
          16,
          17,
          18,
          19,
          20,
          21,
          22,
          23,
          24,
          25,
          26,
          27,
          28,
          29,
          30,
          31,
          32,
          33,
          34,
          35,
          36,
          37,
          38,
          39,
          40,
          41,
          42,
          43,
          44,
          45,
          46,
          47,
          48,
          49,
          50,
          51,
          52,
          53,
          54,
          55,
          56,
          57,
          58,
          59,
          60,
          61,
          62,
          63,
          64,
          65,
          66,
          67,
          68,
          69,
          70,
          71,
          72,
          73,
          74,
          75,
          76,
          77,
          78,
          79,
          80,
          81,
          82,
          83,
          84,
          85,
          86,
          87,
          88,
          89,
          90,
          91,
          92,
          93,
          94,
          95,
          96,
          97,
          98,
          99
         ],
         "y": [
          -0.7966720853754534,
          0.6477728052325428,
          0.4831523041440157,
          0.3644435184704144,
          1.7007141482853403,
          0.9692581547170372,
          -1.0325150866471589,
          0.8894145090528843,
          0.026234933397009344,
          -1.4532861300849287,
          0.9996873342754028,
          -3.1540275979967087,
          0.4286746196441421,
          0.21544993442106897,
          0.32815484899890135,
          -0.2557793997881791,
          -0.5510292782435066,
          -0.037864298663310474,
          -0.3001542781668278,
          0.6547112586968563,
          -0.2638110259566244,
          0.04270028556177357,
          0.4588145661267505,
          0.6827466435778821,
          -0.6797951695755131,
          -0.631628789264434,
          1.2686739319914158,
          -0.13697469209737578,
          -0.37601739069121415,
          -0.8836269003850051,
          -1.4608143618016922,
          1.3273721485353875,
          -0.3303442629457333,
          -0.4926836056813009,
          -0.30853302763456075,
          0.12524399651365264,
          -1.0046688429128623,
          1.6056414456082,
          -0.6229691448825764,
          1.4544036889163034,
          -0.17925644736933535,
          0.6457018928601556,
          1.3057340404004254,
          1.0377701562575992,
          0.10067046378193285,
          -0.5193570479240552,
          1.018866169958515,
          -1.0160196153677243,
          0.5337100384623303,
          1.6205355319322285,
          -0.7913727440688946,
          -0.49715952576613726,
          -0.16625713899727948,
          0.11911935123826942,
          -1.0818057514661825,
          0.6097568557060469,
          -1.2965456248093972,
          1.0870876169513466,
          1.0750964186435534,
          0.05160589607207159,
          0.3245215550322822,
          0.5356023888365272,
          -0.4871544420614186,
          0.19487622359893275,
          1.5356466295486764,
          -0.14339976837204832,
          -0.09037003239094622,
          -0.15840485892250952,
          2.256471565398644,
          -0.40382312657022357,
          0.2748706392238591,
          -0.535589705332484,
          -0.3062539118189085,
          -0.6890911081506442,
          -0.3888945228846208,
          -2.5564725209949843,
          -1.7287793754882044,
          -0.17981800885973726,
          -2.031603307882673,
          -0.5612039428452245,
          -1.2630554683468047,
          0.33852167207166245,
          1.0099798166528304,
          -0.2860404232817684,
          1.315694043920557,
          0.46960186531811526,
          0.30832256911797395,
          -0.18939386825932636,
          1.6175828171719604,
          1.0777304529374765,
          -1.4665396721322217,
          -0.040704511478725704,
          -0.7183414312124572,
          -0.725399399095399,
          -0.5756244801360568,
          -0.6038091390486322,
          -1.1789772630804674,
          0.26877630285131504,
          -0.4822196912052415,
          1.0846006541025943
         ]
        },
        {
         "line": {
          "color": "rgba(128, 0, 128, 1.0)",
          "dash": "solid",
          "shape": "linear",
          "width": 1.3
         },
         "mode": "lines",
         "name": "D",
         "text": "",
         "type": "scatter",
         "x": [
          0,
          1,
          2,
          3,
          4,
          5,
          6,
          7,
          8,
          9,
          10,
          11,
          12,
          13,
          14,
          15,
          16,
          17,
          18,
          19,
          20,
          21,
          22,
          23,
          24,
          25,
          26,
          27,
          28,
          29,
          30,
          31,
          32,
          33,
          34,
          35,
          36,
          37,
          38,
          39,
          40,
          41,
          42,
          43,
          44,
          45,
          46,
          47,
          48,
          49,
          50,
          51,
          52,
          53,
          54,
          55,
          56,
          57,
          58,
          59,
          60,
          61,
          62,
          63,
          64,
          65,
          66,
          67,
          68,
          69,
          70,
          71,
          72,
          73,
          74,
          75,
          76,
          77,
          78,
          79,
          80,
          81,
          82,
          83,
          84,
          85,
          86,
          87,
          88,
          89,
          90,
          91,
          92,
          93,
          94,
          95,
          96,
          97,
          98,
          99
         ],
         "y": [
          -0.1676826507525291,
          1.2118809377684863,
          -0.14438510911805277,
          -1.2551541941825473,
          0.47279567513124054,
          -0.13691972737133096,
          -0.6546286217807619,
          -2.0102159510958035,
          1.1208802815514152,
          -0.29512508742796867,
          -1.5022522770964233,
          1.228763629283435,
          0.44696925851188624,
          -0.2503946001911159,
          1.345947912693738,
          -0.7338677287033788,
          -0.7782797541960733,
          0.45719078900464705,
          0.30022047398068186,
          1.273494902181814,
          -0.942096576425137,
          -1.5984355314179504,
          -0.2081335137358246,
          -1.119897696669353,
          1.1558179289865356,
          0.5253760769966458,
          1.4829236805169717,
          -0.20820180768859525,
          0.2599409088733281,
          0.8299263627400496,
          0.6945443956044238,
          0.9487852193715961,
          1.6049832655815006,
          0.6936468603647309,
          0.2576136153170773,
          0.35604033694235443,
          -0.9478443375481954,
          -1.803235372150516,
          -0.17490836960946665,
          1.2990750788239707,
          -0.11963436583981464,
          -0.14107216164782235,
          -0.4994749068208888,
          -0.5039462481034059,
          0.4078937285732624,
          -1.3623983044468144,
          -0.5599219479314879,
          -0.8890190693870289,
          -0.5453171088827993,
          -0.19400809571131336,
          0.4379296859477579,
          0.9569927628817722,
          0.568551150400114,
          0.4901505521614311,
          -0.629448856594338,
          -0.1760792563046624,
          2.1872697925391145,
          -1.7987168928322443,
          0.00021761034255523358,
          -0.1493581045492578,
          -0.005807956057387215,
          -0.2521294841944818,
          0.5150335079331775,
          -0.33282032997917643,
          0.7320714223225012,
          1.213091682920328,
          0.08904856186822144,
          0.546964360145978,
          -0.5654829559521772,
          -0.5280370228475944,
          1.569885386573116,
          0.06951485652561938,
          0.5586098056639801,
          0.9944724520541559,
          -1.232692345109615,
          0.20649908737588069,
          0.9274326694569818,
          -1.4931803060081321,
          0.5069500577515356,
          -0.10169518484504181,
          0.7706117793406162,
          -0.6517223336891163,
          -2.0926704674673844,
          0.31484554724907154,
          1.9575227469312708,
          -0.4301303958607313,
          -0.5787778118510103,
          -1.0119872017638747,
          -0.40228534601618143,
          2.038756953851408,
          -0.12949232464568516,
          -0.6066494611386877,
          0.3603753685797563,
          0.34132630582604756,
          0.5730529829040087,
          1.0288673586415396,
          1.664345573048318,
          1.3486877908341262,
          -0.484387603012384,
          0.3733001066111924
         ]
        }
       ],
       "layout": {
        "legend": {
         "bgcolor": "#F5F6F9",
         "font": {
          "color": "#4D5663"
         }
        },
        "paper_bgcolor": "#F5F6F9",
        "plot_bgcolor": "#F5F6F9",
        "template": {
         "data": {
          "bar": [
           {
            "error_x": {
             "color": "#2a3f5f"
            },
            "error_y": {
             "color": "#2a3f5f"
            },
            "marker": {
             "line": {
              "color": "#E5ECF6",
              "width": 0.5
             }
            },
            "type": "bar"
           }
          ],
          "barpolar": [
           {
            "marker": {
             "line": {
              "color": "#E5ECF6",
              "width": 0.5
             }
            },
            "type": "barpolar"
           }
          ],
          "carpet": [
           {
            "aaxis": {
             "endlinecolor": "#2a3f5f",
             "gridcolor": "white",
             "linecolor": "white",
             "minorgridcolor": "white",
             "startlinecolor": "#2a3f5f"
            },
            "baxis": {
             "endlinecolor": "#2a3f5f",
             "gridcolor": "white",
             "linecolor": "white",
             "minorgridcolor": "white",
             "startlinecolor": "#2a3f5f"
            },
            "type": "carpet"
           }
          ],
          "choropleth": [
           {
            "colorbar": {
             "outlinewidth": 0,
             "ticks": ""
            },
            "type": "choropleth"
           }
          ],
          "contour": [
           {
            "colorbar": {
             "outlinewidth": 0,
             "ticks": ""
            },
            "colorscale": [
             [
              0,
              "#0d0887"
             ],
             [
              0.1111111111111111,
              "#46039f"
             ],
             [
              0.2222222222222222,
              "#7201a8"
             ],
             [
              0.3333333333333333,
              "#9c179e"
             ],
             [
              0.4444444444444444,
              "#bd3786"
             ],
             [
              0.5555555555555556,
              "#d8576b"
             ],
             [
              0.6666666666666666,
              "#ed7953"
             ],
             [
              0.7777777777777778,
              "#fb9f3a"
             ],
             [
              0.8888888888888888,
              "#fdca26"
             ],
             [
              1,
              "#f0f921"
             ]
            ],
            "type": "contour"
           }
          ],
          "contourcarpet": [
           {
            "colorbar": {
             "outlinewidth": 0,
             "ticks": ""
            },
            "type": "contourcarpet"
           }
          ],
          "heatmap": [
           {
            "colorbar": {
             "outlinewidth": 0,
             "ticks": ""
            },
            "colorscale": [
             [
              0,
              "#0d0887"
             ],
             [
              0.1111111111111111,
              "#46039f"
             ],
             [
              0.2222222222222222,
              "#7201a8"
             ],
             [
              0.3333333333333333,
              "#9c179e"
             ],
             [
              0.4444444444444444,
              "#bd3786"
             ],
             [
              0.5555555555555556,
              "#d8576b"
             ],
             [
              0.6666666666666666,
              "#ed7953"
             ],
             [
              0.7777777777777778,
              "#fb9f3a"
             ],
             [
              0.8888888888888888,
              "#fdca26"
             ],
             [
              1,
              "#f0f921"
             ]
            ],
            "type": "heatmap"
           }
          ],
          "heatmapgl": [
           {
            "colorbar": {
             "outlinewidth": 0,
             "ticks": ""
            },
            "colorscale": [
             [
              0,
              "#0d0887"
             ],
             [
              0.1111111111111111,
              "#46039f"
             ],
             [
              0.2222222222222222,
              "#7201a8"
             ],
             [
              0.3333333333333333,
              "#9c179e"
             ],
             [
              0.4444444444444444,
              "#bd3786"
             ],
             [
              0.5555555555555556,
              "#d8576b"
             ],
             [
              0.6666666666666666,
              "#ed7953"
             ],
             [
              0.7777777777777778,
              "#fb9f3a"
             ],
             [
              0.8888888888888888,
              "#fdca26"
             ],
             [
              1,
              "#f0f921"
             ]
            ],
            "type": "heatmapgl"
           }
          ],
          "histogram": [
           {
            "marker": {
             "colorbar": {
              "outlinewidth": 0,
              "ticks": ""
             }
            },
            "type": "histogram"
           }
          ],
          "histogram2d": [
           {
            "colorbar": {
             "outlinewidth": 0,
             "ticks": ""
            },
            "colorscale": [
             [
              0,
              "#0d0887"
             ],
             [
              0.1111111111111111,
              "#46039f"
             ],
             [
              0.2222222222222222,
              "#7201a8"
             ],
             [
              0.3333333333333333,
              "#9c179e"
             ],
             [
              0.4444444444444444,
              "#bd3786"
             ],
             [
              0.5555555555555556,
              "#d8576b"
             ],
             [
              0.6666666666666666,
              "#ed7953"
             ],
             [
              0.7777777777777778,
              "#fb9f3a"
             ],
             [
              0.8888888888888888,
              "#fdca26"
             ],
             [
              1,
              "#f0f921"
             ]
            ],
            "type": "histogram2d"
           }
          ],
          "histogram2dcontour": [
           {
            "colorbar": {
             "outlinewidth": 0,
             "ticks": ""
            },
            "colorscale": [
             [
              0,
              "#0d0887"
             ],
             [
              0.1111111111111111,
              "#46039f"
             ],
             [
              0.2222222222222222,
              "#7201a8"
             ],
             [
              0.3333333333333333,
              "#9c179e"
             ],
             [
              0.4444444444444444,
              "#bd3786"
             ],
             [
              0.5555555555555556,
              "#d8576b"
             ],
             [
              0.6666666666666666,
              "#ed7953"
             ],
             [
              0.7777777777777778,
              "#fb9f3a"
             ],
             [
              0.8888888888888888,
              "#fdca26"
             ],
             [
              1,
              "#f0f921"
             ]
            ],
            "type": "histogram2dcontour"
           }
          ],
          "mesh3d": [
           {
            "colorbar": {
             "outlinewidth": 0,
             "ticks": ""
            },
            "type": "mesh3d"
           }
          ],
          "parcoords": [
           {
            "line": {
             "colorbar": {
              "outlinewidth": 0,
              "ticks": ""
             }
            },
            "type": "parcoords"
           }
          ],
          "scatter": [
           {
            "marker": {
             "colorbar": {
              "outlinewidth": 0,
              "ticks": ""
             }
            },
            "type": "scatter"
           }
          ],
          "scatter3d": [
           {
            "line": {
             "colorbar": {
              "outlinewidth": 0,
              "ticks": ""
             }
            },
            "marker": {
             "colorbar": {
              "outlinewidth": 0,
              "ticks": ""
             }
            },
            "type": "scatter3d"
           }
          ],
          "scattercarpet": [
           {
            "marker": {
             "colorbar": {
              "outlinewidth": 0,
              "ticks": ""
             }
            },
            "type": "scattercarpet"
           }
          ],
          "scattergeo": [
           {
            "marker": {
             "colorbar": {
              "outlinewidth": 0,
              "ticks": ""
             }
            },
            "type": "scattergeo"
           }
          ],
          "scattergl": [
           {
            "marker": {
             "colorbar": {
              "outlinewidth": 0,
              "ticks": ""
             }
            },
            "type": "scattergl"
           }
          ],
          "scattermapbox": [
           {
            "marker": {
             "colorbar": {
              "outlinewidth": 0,
              "ticks": ""
             }
            },
            "type": "scattermapbox"
           }
          ],
          "scatterpolar": [
           {
            "marker": {
             "colorbar": {
              "outlinewidth": 0,
              "ticks": ""
             }
            },
            "type": "scatterpolar"
           }
          ],
          "scatterpolargl": [
           {
            "marker": {
             "colorbar": {
              "outlinewidth": 0,
              "ticks": ""
             }
            },
            "type": "scatterpolargl"
           }
          ],
          "scatterternary": [
           {
            "marker": {
             "colorbar": {
              "outlinewidth": 0,
              "ticks": ""
             }
            },
            "type": "scatterternary"
           }
          ],
          "surface": [
           {
            "colorbar": {
             "outlinewidth": 0,
             "ticks": ""
            },
            "colorscale": [
             [
              0,
              "#0d0887"
             ],
             [
              0.1111111111111111,
              "#46039f"
             ],
             [
              0.2222222222222222,
              "#7201a8"
             ],
             [
              0.3333333333333333,
              "#9c179e"
             ],
             [
              0.4444444444444444,
              "#bd3786"
             ],
             [
              0.5555555555555556,
              "#d8576b"
             ],
             [
              0.6666666666666666,
              "#ed7953"
             ],
             [
              0.7777777777777778,
              "#fb9f3a"
             ],
             [
              0.8888888888888888,
              "#fdca26"
             ],
             [
              1,
              "#f0f921"
             ]
            ],
            "type": "surface"
           }
          ],
          "table": [
           {
            "cells": {
             "fill": {
              "color": "#EBF0F8"
             },
             "line": {
              "color": "white"
             }
            },
            "header": {
             "fill": {
              "color": "#C8D4E3"
             },
             "line": {
              "color": "white"
             }
            },
            "type": "table"
           }
          ]
         },
         "layout": {
          "annotationdefaults": {
           "arrowcolor": "#2a3f5f",
           "arrowhead": 0,
           "arrowwidth": 1
          },
          "colorscale": {
           "diverging": [
            [
             0,
             "#8e0152"
            ],
            [
             0.1,
             "#c51b7d"
            ],
            [
             0.2,
             "#de77ae"
            ],
            [
             0.3,
             "#f1b6da"
            ],
            [
             0.4,
             "#fde0ef"
            ],
            [
             0.5,
             "#f7f7f7"
            ],
            [
             0.6,
             "#e6f5d0"
            ],
            [
             0.7,
             "#b8e186"
            ],
            [
             0.8,
             "#7fbc41"
            ],
            [
             0.9,
             "#4d9221"
            ],
            [
             1,
             "#276419"
            ]
           ],
           "sequential": [
            [
             0,
             "#0d0887"
            ],
            [
             0.1111111111111111,
             "#46039f"
            ],
            [
             0.2222222222222222,
             "#7201a8"
            ],
            [
             0.3333333333333333,
             "#9c179e"
            ],
            [
             0.4444444444444444,
             "#bd3786"
            ],
            [
             0.5555555555555556,
             "#d8576b"
            ],
            [
             0.6666666666666666,
             "#ed7953"
            ],
            [
             0.7777777777777778,
             "#fb9f3a"
            ],
            [
             0.8888888888888888,
             "#fdca26"
            ],
            [
             1,
             "#f0f921"
            ]
           ],
           "sequentialminus": [
            [
             0,
             "#0d0887"
            ],
            [
             0.1111111111111111,
             "#46039f"
            ],
            [
             0.2222222222222222,
             "#7201a8"
            ],
            [
             0.3333333333333333,
             "#9c179e"
            ],
            [
             0.4444444444444444,
             "#bd3786"
            ],
            [
             0.5555555555555556,
             "#d8576b"
            ],
            [
             0.6666666666666666,
             "#ed7953"
            ],
            [
             0.7777777777777778,
             "#fb9f3a"
            ],
            [
             0.8888888888888888,
             "#fdca26"
            ],
            [
             1,
             "#f0f921"
            ]
           ]
          },
          "colorway": [
           "#636efa",
           "#EF553B",
           "#00cc96",
           "#ab63fa",
           "#FFA15A",
           "#19d3f3",
           "#FF6692",
           "#B6E880",
           "#FF97FF",
           "#FECB52"
          ],
          "font": {
           "color": "#2a3f5f"
          },
          "geo": {
           "bgcolor": "white",
           "lakecolor": "white",
           "landcolor": "#E5ECF6",
           "showlakes": true,
           "showland": true,
           "subunitcolor": "white"
          },
          "hoverlabel": {
           "align": "left"
          },
          "hovermode": "closest",
          "mapbox": {
           "style": "light"
          },
          "paper_bgcolor": "white",
          "plot_bgcolor": "#E5ECF6",
          "polar": {
           "angularaxis": {
            "gridcolor": "white",
            "linecolor": "white",
            "ticks": ""
           },
           "bgcolor": "#E5ECF6",
           "radialaxis": {
            "gridcolor": "white",
            "linecolor": "white",
            "ticks": ""
           }
          },
          "scene": {
           "xaxis": {
            "backgroundcolor": "#E5ECF6",
            "gridcolor": "white",
            "gridwidth": 2,
            "linecolor": "white",
            "showbackground": true,
            "ticks": "",
            "zerolinecolor": "white"
           },
           "yaxis": {
            "backgroundcolor": "#E5ECF6",
            "gridcolor": "white",
            "gridwidth": 2,
            "linecolor": "white",
            "showbackground": true,
            "ticks": "",
            "zerolinecolor": "white"
           },
           "zaxis": {
            "backgroundcolor": "#E5ECF6",
            "gridcolor": "white",
            "gridwidth": 2,
            "linecolor": "white",
            "showbackground": true,
            "ticks": "",
            "zerolinecolor": "white"
           }
          },
          "shapedefaults": {
           "line": {
            "color": "#2a3f5f"
           }
          },
          "ternary": {
           "aaxis": {
            "gridcolor": "white",
            "linecolor": "white",
            "ticks": ""
           },
           "baxis": {
            "gridcolor": "white",
            "linecolor": "white",
            "ticks": ""
           },
           "bgcolor": "#E5ECF6",
           "caxis": {
            "gridcolor": "white",
            "linecolor": "white",
            "ticks": ""
           }
          },
          "title": {
           "x": 0.05
          },
          "xaxis": {
           "automargin": true,
           "gridcolor": "white",
           "linecolor": "white",
           "ticks": "",
           "zerolinecolor": "white",
           "zerolinewidth": 2
          },
          "yaxis": {
           "automargin": true,
           "gridcolor": "white",
           "linecolor": "white",
           "ticks": "",
           "zerolinecolor": "white",
           "zerolinewidth": 2
          }
         }
        },
        "title": {
         "font": {
          "color": "#4D5663"
         }
        },
        "xaxis": {
         "gridcolor": "#E1E5ED",
         "showgrid": true,
         "tickfont": {
          "color": "#4D5663"
         },
         "title": {
          "font": {
           "color": "#4D5663"
          },
          "text": ""
         },
         "zerolinecolor": "#E1E5ED"
        },
        "yaxis": {
         "gridcolor": "#E1E5ED",
         "showgrid": true,
         "tickfont": {
          "color": "#4D5663"
         },
         "title": {
          "font": {
           "color": "#4D5663"
          },
          "text": ""
         },
         "zerolinecolor": "#E1E5ED"
        }
       }
      },
      "text/html": [
       "<div>\n",
       "        \n",
       "        \n",
       "            <div id=\"ab9c622f-3da7-40b8-a635-0f2878f4ef08\" class=\"plotly-graph-div\" style=\"height:525px; width:100%;\"></div>\n",
       "            <script type=\"text/javascript\">\n",
       "                require([\"plotly\"], function(Plotly) {\n",
       "                    window.PLOTLYENV=window.PLOTLYENV || {};\n",
       "                    window.PLOTLYENV.BASE_URL='https://plot.ly';\n",
       "                    \n",
       "                if (document.getElementById(\"ab9c622f-3da7-40b8-a635-0f2878f4ef08\")) {\n",
       "                    Plotly.newPlot(\n",
       "                        'ab9c622f-3da7-40b8-a635-0f2878f4ef08',\n",
       "                        [{\"line\": {\"color\": \"rgba(255, 153, 51, 1.0)\", \"dash\": \"solid\", \"shape\": \"linear\", \"width\": 1.3}, \"mode\": \"lines\", \"name\": \"A\", \"text\": \"\", \"type\": \"scatter\", \"x\": [0, 1, 2, 3, 4, 5, 6, 7, 8, 9, 10, 11, 12, 13, 14, 15, 16, 17, 18, 19, 20, 21, 22, 23, 24, 25, 26, 27, 28, 29, 30, 31, 32, 33, 34, 35, 36, 37, 38, 39, 40, 41, 42, 43, 44, 45, 46, 47, 48, 49, 50, 51, 52, 53, 54, 55, 56, 57, 58, 59, 60, 61, 62, 63, 64, 65, 66, 67, 68, 69, 70, 71, 72, 73, 74, 75, 76, 77, 78, 79, 80, 81, 82, 83, 84, 85, 86, 87, 88, 89, 90, 91, 92, 93, 94, 95, 96, 97, 98, 99], \"y\": [-0.06542778015912247, -0.4983315985004792, -0.3932665761127589, -0.10616396259826238, -0.26207506689955234, 0.7886670736320832, -0.14377426502187782, -0.15273724910094455, -1.1338234021817963, 0.0009770267116028946, -0.7324620416267447, 0.06043111318599064, 0.623615648635299, -0.9898932119379665, -0.45086070577257026, -0.830303964658216, 1.5716630654715504, -1.0974693696329356, 0.4558388327103945, 1.2170495932316205, -0.32981680298429955, 0.2582423394595888, 0.4888856866509463, -0.6121681967574407, -0.5414245020009553, 2.713140457391276, 1.7423907028996293, 0.14142226924657475, 1.6632119799987835, -1.1316432740780005, 0.3761480797940717, -0.5145111245715915, 0.15963736908855272, 0.8356735998848508, -0.3565600825442002, 1.157899333248228, -0.4096165797423869, 0.5249195501867103, 0.5653237593734552, 1.072675824030473, -1.7986968659667908, 0.09444932233020178, 0.37476626326860707, -0.06564736959465206, 0.28052433882468464, 0.7190140964012359, -1.5830392770914365, 0.2644929549909655, -1.0006939493489782, 0.23636146599124183, 0.39176536250665306, 1.0010977258940492, 0.10143316005483165, -0.3368213254581548, -0.2971587471713649, -0.026228244623694424, 0.6624173371633474, -1.7218637928707545, -0.5923164125061781, -0.34970068099215595, -0.12555665412014028, -0.16897186432076375, 0.40905865555379467, -0.6632048676391282, 1.0816531446896442, -0.08061085564831709, -0.6898727254749667, -0.05582287614843459, 0.019644984580532536, -0.24593277126504068, 0.2647198186254047, -2.6985599960128646, -0.2857060352657619, -0.7059336808840253, 0.17851344877915792, -1.1872112018363015, 0.356400427218362, 0.6949620719212402, 1.7193507242959798, 0.15045354017786597, -0.18479491530568848, -1.239764615178371, 0.09444746482720447, -0.45253402974609547, 1.5240444051796522, -0.7166957289144503, 1.5593468757849867, -1.8811576668979677, -1.4952705913795905, 0.23129604965371198, -0.008759735894900082, 0.15443482118378815, -1.4297427857966751, -0.06765988265773787, -0.996787930590609, -0.4145939334371296, -0.43632955465216916, -0.7186990577837588, 0.5636984699664023, 0.21842881420586344]}, {\"line\": {\"color\": \"rgba(55, 128, 191, 1.0)\", \"dash\": \"solid\", \"shape\": \"linear\", \"width\": 1.3}, \"mode\": \"lines\", \"name\": \"B\", \"text\": \"\", \"type\": \"scatter\", \"x\": [0, 1, 2, 3, 4, 5, 6, 7, 8, 9, 10, 11, 12, 13, 14, 15, 16, 17, 18, 19, 20, 21, 22, 23, 24, 25, 26, 27, 28, 29, 30, 31, 32, 33, 34, 35, 36, 37, 38, 39, 40, 41, 42, 43, 44, 45, 46, 47, 48, 49, 50, 51, 52, 53, 54, 55, 56, 57, 58, 59, 60, 61, 62, 63, 64, 65, 66, 67, 68, 69, 70, 71, 72, 73, 74, 75, 76, 77, 78, 79, 80, 81, 82, 83, 84, 85, 86, 87, 88, 89, 90, 91, 92, 93, 94, 95, 96, 97, 98, 99], \"y\": [-0.8411370469674633, 0.8465936719276874, -2.0769241221253196, -0.6700626862026585, -0.5718851695463921, -0.09755403761810581, -0.44096635857130717, -0.19909691093629908, 1.5488170316881231, -0.058357642546699194, 0.919790098361005, 0.3594851568227443, -0.8769963650114245, -0.269976233378358, 0.24765485950810773, 0.269321910169165, -0.5505010270008414, -0.4072869079940033, 0.3517877394913619, -1.524489635082197, 0.12522454045167053, 0.9987328546532094, -1.3791792776183134, 0.05423843887016417, 0.2688011121653173, -0.19041155308139934, 0.10695575141382495, 1.7095876419986396, -1.170502100390321, 0.9290949508011905, -0.1939790752819657, -0.9278782561160333, -0.38128376570696293, 1.4196422528454338, -0.3327314727625212, 1.1991026923111583, 0.34681659229915696, -0.6206391541625019, 0.12742134556200654, 1.3243431685994702, -0.8269302595340654, 0.37966686811781725, -0.10344807908893425, -2.0544188879512295, -0.7464815409567633, -0.7767402402381235, -0.6637804281354422, 1.2517385487669808, 0.694873957911729, -0.06616754426101021, 0.0826020637563963, -0.8335126220950743, 1.5472354491421703, -1.1883781356830807, 0.6959161155628883, 1.6809774728363294, -0.23254175749586706, -1.9896207513535749, -0.23331842485528928, 2.178970408821887, 1.4573427100091558, -0.908432032880107, -0.44244867207382027, -0.4769298465440546, 1.3442857447410939, 0.8937306771278547, 1.2884460982984527, 0.25783105542154644, -0.5664819169183514, -0.18098321446330418, 0.331616555740629, -0.8005687231433739, 1.0988721156679697, 0.23696136067638396, 0.46500651711300106, -0.7528153647155813, 1.3412978052129945, -1.0199703145796095, 0.6413002728832091, -0.3193840554624845, -0.11664683969933677, 0.9687749026453907, 1.3239859553061233, -0.1362061691984603, 1.2241312871811287, 0.21623446478982422, -0.21314367553319472, 0.720151826365811, 1.462740448667771, -0.3436916812967713, 0.4324993105508277, -1.5619649073250985, -2.112441929480903, 0.06564522053701284, -0.28106050711775143, -0.07673876751490212, 0.9800922196622552, 0.03668337598725406, 0.22327999074166194, 0.37285586455157954]}, {\"line\": {\"color\": \"rgba(50, 171, 96, 1.0)\", \"dash\": \"solid\", \"shape\": \"linear\", \"width\": 1.3}, \"mode\": \"lines\", \"name\": \"C\", \"text\": \"\", \"type\": \"scatter\", \"x\": [0, 1, 2, 3, 4, 5, 6, 7, 8, 9, 10, 11, 12, 13, 14, 15, 16, 17, 18, 19, 20, 21, 22, 23, 24, 25, 26, 27, 28, 29, 30, 31, 32, 33, 34, 35, 36, 37, 38, 39, 40, 41, 42, 43, 44, 45, 46, 47, 48, 49, 50, 51, 52, 53, 54, 55, 56, 57, 58, 59, 60, 61, 62, 63, 64, 65, 66, 67, 68, 69, 70, 71, 72, 73, 74, 75, 76, 77, 78, 79, 80, 81, 82, 83, 84, 85, 86, 87, 88, 89, 90, 91, 92, 93, 94, 95, 96, 97, 98, 99], \"y\": [-0.7966720853754534, 0.6477728052325428, 0.4831523041440157, 0.3644435184704144, 1.7007141482853403, 0.9692581547170372, -1.0325150866471589, 0.8894145090528843, 0.026234933397009344, -1.4532861300849287, 0.9996873342754028, -3.1540275979967087, 0.4286746196441421, 0.21544993442106897, 0.32815484899890135, -0.2557793997881791, -0.5510292782435066, -0.037864298663310474, -0.3001542781668278, 0.6547112586968563, -0.2638110259566244, 0.04270028556177357, 0.4588145661267505, 0.6827466435778821, -0.6797951695755131, -0.631628789264434, 1.2686739319914158, -0.13697469209737578, -0.37601739069121415, -0.8836269003850051, -1.4608143618016922, 1.3273721485353875, -0.3303442629457333, -0.4926836056813009, -0.30853302763456075, 0.12524399651365264, -1.0046688429128623, 1.6056414456082, -0.6229691448825764, 1.4544036889163034, -0.17925644736933535, 0.6457018928601556, 1.3057340404004254, 1.0377701562575992, 0.10067046378193285, -0.5193570479240552, 1.018866169958515, -1.0160196153677243, 0.5337100384623303, 1.6205355319322285, -0.7913727440688946, -0.49715952576613726, -0.16625713899727948, 0.11911935123826942, -1.0818057514661825, 0.6097568557060469, -1.2965456248093972, 1.0870876169513466, 1.0750964186435534, 0.05160589607207159, 0.3245215550322822, 0.5356023888365272, -0.4871544420614186, 0.19487622359893275, 1.5356466295486764, -0.14339976837204832, -0.09037003239094622, -0.15840485892250952, 2.256471565398644, -0.40382312657022357, 0.2748706392238591, -0.535589705332484, -0.3062539118189085, -0.6890911081506442, -0.3888945228846208, -2.5564725209949843, -1.7287793754882044, -0.17981800885973726, -2.031603307882673, -0.5612039428452245, -1.2630554683468047, 0.33852167207166245, 1.0099798166528304, -0.2860404232817684, 1.315694043920557, 0.46960186531811526, 0.30832256911797395, -0.18939386825932636, 1.6175828171719604, 1.0777304529374765, -1.4665396721322217, -0.040704511478725704, -0.7183414312124572, -0.725399399095399, -0.5756244801360568, -0.6038091390486322, -1.1789772630804674, 0.26877630285131504, -0.4822196912052415, 1.0846006541025943]}, {\"line\": {\"color\": \"rgba(128, 0, 128, 1.0)\", \"dash\": \"solid\", \"shape\": \"linear\", \"width\": 1.3}, \"mode\": \"lines\", \"name\": \"D\", \"text\": \"\", \"type\": \"scatter\", \"x\": [0, 1, 2, 3, 4, 5, 6, 7, 8, 9, 10, 11, 12, 13, 14, 15, 16, 17, 18, 19, 20, 21, 22, 23, 24, 25, 26, 27, 28, 29, 30, 31, 32, 33, 34, 35, 36, 37, 38, 39, 40, 41, 42, 43, 44, 45, 46, 47, 48, 49, 50, 51, 52, 53, 54, 55, 56, 57, 58, 59, 60, 61, 62, 63, 64, 65, 66, 67, 68, 69, 70, 71, 72, 73, 74, 75, 76, 77, 78, 79, 80, 81, 82, 83, 84, 85, 86, 87, 88, 89, 90, 91, 92, 93, 94, 95, 96, 97, 98, 99], \"y\": [-0.1676826507525291, 1.2118809377684863, -0.14438510911805277, -1.2551541941825473, 0.47279567513124054, -0.13691972737133096, -0.6546286217807619, -2.0102159510958035, 1.1208802815514152, -0.29512508742796867, -1.5022522770964233, 1.228763629283435, 0.44696925851188624, -0.2503946001911159, 1.345947912693738, -0.7338677287033788, -0.7782797541960733, 0.45719078900464705, 0.30022047398068186, 1.273494902181814, -0.942096576425137, -1.5984355314179504, -0.2081335137358246, -1.119897696669353, 1.1558179289865356, 0.5253760769966458, 1.4829236805169717, -0.20820180768859525, 0.2599409088733281, 0.8299263627400496, 0.6945443956044238, 0.9487852193715961, 1.6049832655815006, 0.6936468603647309, 0.2576136153170773, 0.35604033694235443, -0.9478443375481954, -1.803235372150516, -0.17490836960946665, 1.2990750788239707, -0.11963436583981464, -0.14107216164782235, -0.4994749068208888, -0.5039462481034059, 0.4078937285732624, -1.3623983044468144, -0.5599219479314879, -0.8890190693870289, -0.5453171088827993, -0.19400809571131336, 0.4379296859477579, 0.9569927628817722, 0.568551150400114, 0.4901505521614311, -0.629448856594338, -0.1760792563046624, 2.1872697925391145, -1.7987168928322443, 0.00021761034255523358, -0.1493581045492578, -0.005807956057387215, -0.2521294841944818, 0.5150335079331775, -0.33282032997917643, 0.7320714223225012, 1.213091682920328, 0.08904856186822144, 0.546964360145978, -0.5654829559521772, -0.5280370228475944, 1.569885386573116, 0.06951485652561938, 0.5586098056639801, 0.9944724520541559, -1.232692345109615, 0.20649908737588069, 0.9274326694569818, -1.4931803060081321, 0.5069500577515356, -0.10169518484504181, 0.7706117793406162, -0.6517223336891163, -2.0926704674673844, 0.31484554724907154, 1.9575227469312708, -0.4301303958607313, -0.5787778118510103, -1.0119872017638747, -0.40228534601618143, 2.038756953851408, -0.12949232464568516, -0.6066494611386877, 0.3603753685797563, 0.34132630582604756, 0.5730529829040087, 1.0288673586415396, 1.664345573048318, 1.3486877908341262, -0.484387603012384, 0.3733001066111924]}],\n",
       "                        {\"legend\": {\"bgcolor\": \"#F5F6F9\", \"font\": {\"color\": \"#4D5663\"}}, \"paper_bgcolor\": \"#F5F6F9\", \"plot_bgcolor\": \"#F5F6F9\", \"template\": {\"data\": {\"bar\": [{\"error_x\": {\"color\": \"#2a3f5f\"}, \"error_y\": {\"color\": \"#2a3f5f\"}, \"marker\": {\"line\": {\"color\": \"#E5ECF6\", \"width\": 0.5}}, \"type\": \"bar\"}], \"barpolar\": [{\"marker\": {\"line\": {\"color\": \"#E5ECF6\", \"width\": 0.5}}, \"type\": \"barpolar\"}], \"carpet\": [{\"aaxis\": {\"endlinecolor\": \"#2a3f5f\", \"gridcolor\": \"white\", \"linecolor\": \"white\", \"minorgridcolor\": \"white\", \"startlinecolor\": \"#2a3f5f\"}, \"baxis\": {\"endlinecolor\": \"#2a3f5f\", \"gridcolor\": \"white\", \"linecolor\": \"white\", \"minorgridcolor\": \"white\", \"startlinecolor\": \"#2a3f5f\"}, \"type\": \"carpet\"}], \"choropleth\": [{\"colorbar\": {\"outlinewidth\": 0, \"ticks\": \"\"}, \"type\": \"choropleth\"}], \"contour\": [{\"colorbar\": {\"outlinewidth\": 0, \"ticks\": \"\"}, \"colorscale\": [[0.0, \"#0d0887\"], [0.1111111111111111, \"#46039f\"], [0.2222222222222222, \"#7201a8\"], [0.3333333333333333, \"#9c179e\"], [0.4444444444444444, \"#bd3786\"], [0.5555555555555556, \"#d8576b\"], [0.6666666666666666, \"#ed7953\"], [0.7777777777777778, \"#fb9f3a\"], [0.8888888888888888, \"#fdca26\"], [1.0, \"#f0f921\"]], \"type\": \"contour\"}], \"contourcarpet\": [{\"colorbar\": {\"outlinewidth\": 0, \"ticks\": \"\"}, \"type\": \"contourcarpet\"}], \"heatmap\": [{\"colorbar\": {\"outlinewidth\": 0, \"ticks\": \"\"}, \"colorscale\": [[0.0, \"#0d0887\"], [0.1111111111111111, \"#46039f\"], [0.2222222222222222, \"#7201a8\"], [0.3333333333333333, \"#9c179e\"], [0.4444444444444444, \"#bd3786\"], [0.5555555555555556, \"#d8576b\"], [0.6666666666666666, \"#ed7953\"], [0.7777777777777778, \"#fb9f3a\"], [0.8888888888888888, \"#fdca26\"], [1.0, \"#f0f921\"]], \"type\": \"heatmap\"}], \"heatmapgl\": [{\"colorbar\": {\"outlinewidth\": 0, \"ticks\": \"\"}, \"colorscale\": [[0.0, \"#0d0887\"], [0.1111111111111111, \"#46039f\"], [0.2222222222222222, \"#7201a8\"], [0.3333333333333333, \"#9c179e\"], [0.4444444444444444, \"#bd3786\"], [0.5555555555555556, \"#d8576b\"], [0.6666666666666666, \"#ed7953\"], [0.7777777777777778, \"#fb9f3a\"], [0.8888888888888888, \"#fdca26\"], [1.0, \"#f0f921\"]], \"type\": \"heatmapgl\"}], \"histogram\": [{\"marker\": {\"colorbar\": {\"outlinewidth\": 0, \"ticks\": \"\"}}, \"type\": \"histogram\"}], \"histogram2d\": [{\"colorbar\": {\"outlinewidth\": 0, \"ticks\": \"\"}, \"colorscale\": [[0.0, \"#0d0887\"], [0.1111111111111111, \"#46039f\"], [0.2222222222222222, \"#7201a8\"], [0.3333333333333333, \"#9c179e\"], [0.4444444444444444, \"#bd3786\"], [0.5555555555555556, \"#d8576b\"], [0.6666666666666666, \"#ed7953\"], [0.7777777777777778, \"#fb9f3a\"], [0.8888888888888888, \"#fdca26\"], [1.0, \"#f0f921\"]], \"type\": \"histogram2d\"}], \"histogram2dcontour\": [{\"colorbar\": {\"outlinewidth\": 0, \"ticks\": \"\"}, \"colorscale\": [[0.0, \"#0d0887\"], [0.1111111111111111, \"#46039f\"], [0.2222222222222222, \"#7201a8\"], [0.3333333333333333, \"#9c179e\"], [0.4444444444444444, \"#bd3786\"], [0.5555555555555556, \"#d8576b\"], [0.6666666666666666, \"#ed7953\"], [0.7777777777777778, \"#fb9f3a\"], [0.8888888888888888, \"#fdca26\"], [1.0, \"#f0f921\"]], \"type\": \"histogram2dcontour\"}], \"mesh3d\": [{\"colorbar\": {\"outlinewidth\": 0, \"ticks\": \"\"}, \"type\": \"mesh3d\"}], \"parcoords\": [{\"line\": {\"colorbar\": {\"outlinewidth\": 0, \"ticks\": \"\"}}, \"type\": \"parcoords\"}], \"scatter\": [{\"marker\": {\"colorbar\": {\"outlinewidth\": 0, \"ticks\": \"\"}}, \"type\": \"scatter\"}], \"scatter3d\": [{\"line\": {\"colorbar\": {\"outlinewidth\": 0, \"ticks\": \"\"}}, \"marker\": {\"colorbar\": {\"outlinewidth\": 0, \"ticks\": \"\"}}, \"type\": \"scatter3d\"}], \"scattercarpet\": [{\"marker\": {\"colorbar\": {\"outlinewidth\": 0, \"ticks\": \"\"}}, \"type\": \"scattercarpet\"}], \"scattergeo\": [{\"marker\": {\"colorbar\": {\"outlinewidth\": 0, \"ticks\": \"\"}}, \"type\": \"scattergeo\"}], \"scattergl\": [{\"marker\": {\"colorbar\": {\"outlinewidth\": 0, \"ticks\": \"\"}}, \"type\": \"scattergl\"}], \"scattermapbox\": [{\"marker\": {\"colorbar\": {\"outlinewidth\": 0, \"ticks\": \"\"}}, \"type\": \"scattermapbox\"}], \"scatterpolar\": [{\"marker\": {\"colorbar\": {\"outlinewidth\": 0, \"ticks\": \"\"}}, \"type\": \"scatterpolar\"}], \"scatterpolargl\": [{\"marker\": {\"colorbar\": {\"outlinewidth\": 0, \"ticks\": \"\"}}, \"type\": \"scatterpolargl\"}], \"scatterternary\": [{\"marker\": {\"colorbar\": {\"outlinewidth\": 0, \"ticks\": \"\"}}, \"type\": \"scatterternary\"}], \"surface\": [{\"colorbar\": {\"outlinewidth\": 0, \"ticks\": \"\"}, \"colorscale\": [[0.0, \"#0d0887\"], [0.1111111111111111, \"#46039f\"], [0.2222222222222222, \"#7201a8\"], [0.3333333333333333, \"#9c179e\"], [0.4444444444444444, \"#bd3786\"], [0.5555555555555556, \"#d8576b\"], [0.6666666666666666, \"#ed7953\"], [0.7777777777777778, \"#fb9f3a\"], [0.8888888888888888, \"#fdca26\"], [1.0, \"#f0f921\"]], \"type\": \"surface\"}], \"table\": [{\"cells\": {\"fill\": {\"color\": \"#EBF0F8\"}, \"line\": {\"color\": \"white\"}}, \"header\": {\"fill\": {\"color\": \"#C8D4E3\"}, \"line\": {\"color\": \"white\"}}, \"type\": \"table\"}]}, \"layout\": {\"annotationdefaults\": {\"arrowcolor\": \"#2a3f5f\", \"arrowhead\": 0, \"arrowwidth\": 1}, \"colorscale\": {\"diverging\": [[0, \"#8e0152\"], [0.1, \"#c51b7d\"], [0.2, \"#de77ae\"], [0.3, \"#f1b6da\"], [0.4, \"#fde0ef\"], [0.5, \"#f7f7f7\"], [0.6, \"#e6f5d0\"], [0.7, \"#b8e186\"], [0.8, \"#7fbc41\"], [0.9, \"#4d9221\"], [1, \"#276419\"]], \"sequential\": [[0.0, \"#0d0887\"], [0.1111111111111111, \"#46039f\"], [0.2222222222222222, \"#7201a8\"], [0.3333333333333333, \"#9c179e\"], [0.4444444444444444, \"#bd3786\"], [0.5555555555555556, \"#d8576b\"], [0.6666666666666666, \"#ed7953\"], [0.7777777777777778, \"#fb9f3a\"], [0.8888888888888888, \"#fdca26\"], [1.0, \"#f0f921\"]], \"sequentialminus\": [[0.0, \"#0d0887\"], [0.1111111111111111, \"#46039f\"], [0.2222222222222222, \"#7201a8\"], [0.3333333333333333, \"#9c179e\"], [0.4444444444444444, \"#bd3786\"], [0.5555555555555556, \"#d8576b\"], [0.6666666666666666, \"#ed7953\"], [0.7777777777777778, \"#fb9f3a\"], [0.8888888888888888, \"#fdca26\"], [1.0, \"#f0f921\"]]}, \"colorway\": [\"#636efa\", \"#EF553B\", \"#00cc96\", \"#ab63fa\", \"#FFA15A\", \"#19d3f3\", \"#FF6692\", \"#B6E880\", \"#FF97FF\", \"#FECB52\"], \"font\": {\"color\": \"#2a3f5f\"}, \"geo\": {\"bgcolor\": \"white\", \"lakecolor\": \"white\", \"landcolor\": \"#E5ECF6\", \"showlakes\": true, \"showland\": true, \"subunitcolor\": \"white\"}, \"hoverlabel\": {\"align\": \"left\"}, \"hovermode\": \"closest\", \"mapbox\": {\"style\": \"light\"}, \"paper_bgcolor\": \"white\", \"plot_bgcolor\": \"#E5ECF6\", \"polar\": {\"angularaxis\": {\"gridcolor\": \"white\", \"linecolor\": \"white\", \"ticks\": \"\"}, \"bgcolor\": \"#E5ECF6\", \"radialaxis\": {\"gridcolor\": \"white\", \"linecolor\": \"white\", \"ticks\": \"\"}}, \"scene\": {\"xaxis\": {\"backgroundcolor\": \"#E5ECF6\", \"gridcolor\": \"white\", \"gridwidth\": 2, \"linecolor\": \"white\", \"showbackground\": true, \"ticks\": \"\", \"zerolinecolor\": \"white\"}, \"yaxis\": {\"backgroundcolor\": \"#E5ECF6\", \"gridcolor\": \"white\", \"gridwidth\": 2, \"linecolor\": \"white\", \"showbackground\": true, \"ticks\": \"\", \"zerolinecolor\": \"white\"}, \"zaxis\": {\"backgroundcolor\": \"#E5ECF6\", \"gridcolor\": \"white\", \"gridwidth\": 2, \"linecolor\": \"white\", \"showbackground\": true, \"ticks\": \"\", \"zerolinecolor\": \"white\"}}, \"shapedefaults\": {\"line\": {\"color\": \"#2a3f5f\"}}, \"ternary\": {\"aaxis\": {\"gridcolor\": \"white\", \"linecolor\": \"white\", \"ticks\": \"\"}, \"baxis\": {\"gridcolor\": \"white\", \"linecolor\": \"white\", \"ticks\": \"\"}, \"bgcolor\": \"#E5ECF6\", \"caxis\": {\"gridcolor\": \"white\", \"linecolor\": \"white\", \"ticks\": \"\"}}, \"title\": {\"x\": 0.05}, \"xaxis\": {\"automargin\": true, \"gridcolor\": \"white\", \"linecolor\": \"white\", \"ticks\": \"\", \"zerolinecolor\": \"white\", \"zerolinewidth\": 2}, \"yaxis\": {\"automargin\": true, \"gridcolor\": \"white\", \"linecolor\": \"white\", \"ticks\": \"\", \"zerolinecolor\": \"white\", \"zerolinewidth\": 2}}}, \"title\": {\"font\": {\"color\": \"#4D5663\"}}, \"xaxis\": {\"gridcolor\": \"#E1E5ED\", \"showgrid\": true, \"tickfont\": {\"color\": \"#4D5663\"}, \"title\": {\"font\": {\"color\": \"#4D5663\"}, \"text\": \"\"}, \"zerolinecolor\": \"#E1E5ED\"}, \"yaxis\": {\"gridcolor\": \"#E1E5ED\", \"showgrid\": true, \"tickfont\": {\"color\": \"#4D5663\"}, \"title\": {\"font\": {\"color\": \"#4D5663\"}, \"text\": \"\"}, \"zerolinecolor\": \"#E1E5ED\"}},\n",
       "                        {\"showLink\": true, \"linkText\": \"Export to plot.ly\", \"plotlyServerURL\": \"https://plot.ly\", \"responsive\": true}\n",
       "                    ).then(function(){\n",
       "                            \n",
       "var gd = document.getElementById('ab9c622f-3da7-40b8-a635-0f2878f4ef08');\n",
       "var x = new MutationObserver(function (mutations, observer) {{\n",
       "        var display = window.getComputedStyle(gd).display;\n",
       "        if (!display || display === 'none') {{\n",
       "            console.log([gd, 'removed!']);\n",
       "            Plotly.purge(gd);\n",
       "            observer.disconnect();\n",
       "        }}\n",
       "}});\n",
       "\n",
       "// Listen for the removal of the full notebook cells\n",
       "var notebookContainer = gd.closest('#notebook-container');\n",
       "if (notebookContainer) {{\n",
       "    x.observe(notebookContainer, {childList: true});\n",
       "}}\n",
       "\n",
       "// Listen for the clearing of the current output cell\n",
       "var outputEl = gd.closest('.output');\n",
       "if (outputEl) {{\n",
       "    x.observe(outputEl, {childList: true});\n",
       "}}\n",
       "\n",
       "                        })\n",
       "                };\n",
       "                });\n",
       "            </script>\n",
       "        </div>"
      ]
     },
     "metadata": {},
     "output_type": "display_data"
    }
   ],
   "source": [
    "## We can create an interactive plot using the iplot method, this is a very simple example\n",
    "df.iplot()"
   ]
  },
  {
   "cell_type": "code",
   "execution_count": 14,
   "metadata": {},
   "outputs": [
    {
     "data": {
      "application/vnd.plotly.v1+json": {
       "config": {
        "linkText": "Export to plot.ly",
        "plotlyServerURL": "https://plot.ly",
        "showLink": true
       },
       "data": [
        {
         "line": {
          "color": "rgba(255, 153, 51, 1.0)",
          "dash": "solid",
          "shape": "linear",
          "width": 1.3
         },
         "marker": {
          "size": 20,
          "symbol": "circle"
         },
         "mode": "markers",
         "name": "B",
         "text": "",
         "type": "scatter",
         "x": [
          -0.06542778015912247,
          -0.4983315985004792,
          -0.3932665761127589,
          -0.10616396259826238,
          -0.26207506689955234,
          0.7886670736320832,
          -0.14377426502187782,
          -0.15273724910094455,
          -1.1338234021817963,
          0.0009770267116028946,
          -0.7324620416267447,
          0.06043111318599064,
          0.623615648635299,
          -0.9898932119379665,
          -0.45086070577257026,
          -0.830303964658216,
          1.5716630654715504,
          -1.0974693696329356,
          0.4558388327103945,
          1.2170495932316205,
          -0.32981680298429955,
          0.2582423394595888,
          0.4888856866509463,
          -0.6121681967574407,
          -0.5414245020009553,
          2.713140457391276,
          1.7423907028996293,
          0.14142226924657475,
          1.6632119799987835,
          -1.1316432740780005,
          0.3761480797940717,
          -0.5145111245715915,
          0.15963736908855272,
          0.8356735998848508,
          -0.3565600825442002,
          1.157899333248228,
          -0.4096165797423869,
          0.5249195501867103,
          0.5653237593734552,
          1.072675824030473,
          -1.7986968659667908,
          0.09444932233020178,
          0.37476626326860707,
          -0.06564736959465206,
          0.28052433882468464,
          0.7190140964012359,
          -1.5830392770914365,
          0.2644929549909655,
          -1.0006939493489782,
          0.23636146599124183,
          0.39176536250665306,
          1.0010977258940492,
          0.10143316005483165,
          -0.3368213254581548,
          -0.2971587471713649,
          -0.026228244623694424,
          0.6624173371633474,
          -1.7218637928707545,
          -0.5923164125061781,
          -0.34970068099215595,
          -0.12555665412014028,
          -0.16897186432076375,
          0.40905865555379467,
          -0.6632048676391282,
          1.0816531446896442,
          -0.08061085564831709,
          -0.6898727254749667,
          -0.05582287614843459,
          0.019644984580532536,
          -0.24593277126504068,
          0.2647198186254047,
          -2.6985599960128646,
          -0.2857060352657619,
          -0.7059336808840253,
          0.17851344877915792,
          -1.1872112018363015,
          0.356400427218362,
          0.6949620719212402,
          1.7193507242959798,
          0.15045354017786597,
          -0.18479491530568848,
          -1.239764615178371,
          0.09444746482720447,
          -0.45253402974609547,
          1.5240444051796522,
          -0.7166957289144503,
          1.5593468757849867,
          -1.8811576668979677,
          -1.4952705913795905,
          0.23129604965371198,
          -0.008759735894900082,
          0.15443482118378815,
          -1.4297427857966751,
          -0.06765988265773787,
          -0.996787930590609,
          -0.4145939334371296,
          -0.43632955465216916,
          -0.7186990577837588,
          0.5636984699664023,
          0.21842881420586344
         ],
         "y": [
          -0.8411370469674633,
          0.8465936719276874,
          -2.0769241221253196,
          -0.6700626862026585,
          -0.5718851695463921,
          -0.09755403761810581,
          -0.44096635857130717,
          -0.19909691093629908,
          1.5488170316881231,
          -0.058357642546699194,
          0.919790098361005,
          0.3594851568227443,
          -0.8769963650114245,
          -0.269976233378358,
          0.24765485950810773,
          0.269321910169165,
          -0.5505010270008414,
          -0.4072869079940033,
          0.3517877394913619,
          -1.524489635082197,
          0.12522454045167053,
          0.9987328546532094,
          -1.3791792776183134,
          0.05423843887016417,
          0.2688011121653173,
          -0.19041155308139934,
          0.10695575141382495,
          1.7095876419986396,
          -1.170502100390321,
          0.9290949508011905,
          -0.1939790752819657,
          -0.9278782561160333,
          -0.38128376570696293,
          1.4196422528454338,
          -0.3327314727625212,
          1.1991026923111583,
          0.34681659229915696,
          -0.6206391541625019,
          0.12742134556200654,
          1.3243431685994702,
          -0.8269302595340654,
          0.37966686811781725,
          -0.10344807908893425,
          -2.0544188879512295,
          -0.7464815409567633,
          -0.7767402402381235,
          -0.6637804281354422,
          1.2517385487669808,
          0.694873957911729,
          -0.06616754426101021,
          0.0826020637563963,
          -0.8335126220950743,
          1.5472354491421703,
          -1.1883781356830807,
          0.6959161155628883,
          1.6809774728363294,
          -0.23254175749586706,
          -1.9896207513535749,
          -0.23331842485528928,
          2.178970408821887,
          1.4573427100091558,
          -0.908432032880107,
          -0.44244867207382027,
          -0.4769298465440546,
          1.3442857447410939,
          0.8937306771278547,
          1.2884460982984527,
          0.25783105542154644,
          -0.5664819169183514,
          -0.18098321446330418,
          0.331616555740629,
          -0.8005687231433739,
          1.0988721156679697,
          0.23696136067638396,
          0.46500651711300106,
          -0.7528153647155813,
          1.3412978052129945,
          -1.0199703145796095,
          0.6413002728832091,
          -0.3193840554624845,
          -0.11664683969933677,
          0.9687749026453907,
          1.3239859553061233,
          -0.1362061691984603,
          1.2241312871811287,
          0.21623446478982422,
          -0.21314367553319472,
          0.720151826365811,
          1.462740448667771,
          -0.3436916812967713,
          0.4324993105508277,
          -1.5619649073250985,
          -2.112441929480903,
          0.06564522053701284,
          -0.28106050711775143,
          -0.07673876751490212,
          0.9800922196622552,
          0.03668337598725406,
          0.22327999074166194,
          0.37285586455157954
         ]
        }
       ],
       "layout": {
        "legend": {
         "bgcolor": "#F5F6F9",
         "font": {
          "color": "#4D5663"
         }
        },
        "paper_bgcolor": "#F5F6F9",
        "plot_bgcolor": "#F5F6F9",
        "template": {
         "data": {
          "bar": [
           {
            "error_x": {
             "color": "#2a3f5f"
            },
            "error_y": {
             "color": "#2a3f5f"
            },
            "marker": {
             "line": {
              "color": "#E5ECF6",
              "width": 0.5
             }
            },
            "type": "bar"
           }
          ],
          "barpolar": [
           {
            "marker": {
             "line": {
              "color": "#E5ECF6",
              "width": 0.5
             }
            },
            "type": "barpolar"
           }
          ],
          "carpet": [
           {
            "aaxis": {
             "endlinecolor": "#2a3f5f",
             "gridcolor": "white",
             "linecolor": "white",
             "minorgridcolor": "white",
             "startlinecolor": "#2a3f5f"
            },
            "baxis": {
             "endlinecolor": "#2a3f5f",
             "gridcolor": "white",
             "linecolor": "white",
             "minorgridcolor": "white",
             "startlinecolor": "#2a3f5f"
            },
            "type": "carpet"
           }
          ],
          "choropleth": [
           {
            "colorbar": {
             "outlinewidth": 0,
             "ticks": ""
            },
            "type": "choropleth"
           }
          ],
          "contour": [
           {
            "colorbar": {
             "outlinewidth": 0,
             "ticks": ""
            },
            "colorscale": [
             [
              0,
              "#0d0887"
             ],
             [
              0.1111111111111111,
              "#46039f"
             ],
             [
              0.2222222222222222,
              "#7201a8"
             ],
             [
              0.3333333333333333,
              "#9c179e"
             ],
             [
              0.4444444444444444,
              "#bd3786"
             ],
             [
              0.5555555555555556,
              "#d8576b"
             ],
             [
              0.6666666666666666,
              "#ed7953"
             ],
             [
              0.7777777777777778,
              "#fb9f3a"
             ],
             [
              0.8888888888888888,
              "#fdca26"
             ],
             [
              1,
              "#f0f921"
             ]
            ],
            "type": "contour"
           }
          ],
          "contourcarpet": [
           {
            "colorbar": {
             "outlinewidth": 0,
             "ticks": ""
            },
            "type": "contourcarpet"
           }
          ],
          "heatmap": [
           {
            "colorbar": {
             "outlinewidth": 0,
             "ticks": ""
            },
            "colorscale": [
             [
              0,
              "#0d0887"
             ],
             [
              0.1111111111111111,
              "#46039f"
             ],
             [
              0.2222222222222222,
              "#7201a8"
             ],
             [
              0.3333333333333333,
              "#9c179e"
             ],
             [
              0.4444444444444444,
              "#bd3786"
             ],
             [
              0.5555555555555556,
              "#d8576b"
             ],
             [
              0.6666666666666666,
              "#ed7953"
             ],
             [
              0.7777777777777778,
              "#fb9f3a"
             ],
             [
              0.8888888888888888,
              "#fdca26"
             ],
             [
              1,
              "#f0f921"
             ]
            ],
            "type": "heatmap"
           }
          ],
          "heatmapgl": [
           {
            "colorbar": {
             "outlinewidth": 0,
             "ticks": ""
            },
            "colorscale": [
             [
              0,
              "#0d0887"
             ],
             [
              0.1111111111111111,
              "#46039f"
             ],
             [
              0.2222222222222222,
              "#7201a8"
             ],
             [
              0.3333333333333333,
              "#9c179e"
             ],
             [
              0.4444444444444444,
              "#bd3786"
             ],
             [
              0.5555555555555556,
              "#d8576b"
             ],
             [
              0.6666666666666666,
              "#ed7953"
             ],
             [
              0.7777777777777778,
              "#fb9f3a"
             ],
             [
              0.8888888888888888,
              "#fdca26"
             ],
             [
              1,
              "#f0f921"
             ]
            ],
            "type": "heatmapgl"
           }
          ],
          "histogram": [
           {
            "marker": {
             "colorbar": {
              "outlinewidth": 0,
              "ticks": ""
             }
            },
            "type": "histogram"
           }
          ],
          "histogram2d": [
           {
            "colorbar": {
             "outlinewidth": 0,
             "ticks": ""
            },
            "colorscale": [
             [
              0,
              "#0d0887"
             ],
             [
              0.1111111111111111,
              "#46039f"
             ],
             [
              0.2222222222222222,
              "#7201a8"
             ],
             [
              0.3333333333333333,
              "#9c179e"
             ],
             [
              0.4444444444444444,
              "#bd3786"
             ],
             [
              0.5555555555555556,
              "#d8576b"
             ],
             [
              0.6666666666666666,
              "#ed7953"
             ],
             [
              0.7777777777777778,
              "#fb9f3a"
             ],
             [
              0.8888888888888888,
              "#fdca26"
             ],
             [
              1,
              "#f0f921"
             ]
            ],
            "type": "histogram2d"
           }
          ],
          "histogram2dcontour": [
           {
            "colorbar": {
             "outlinewidth": 0,
             "ticks": ""
            },
            "colorscale": [
             [
              0,
              "#0d0887"
             ],
             [
              0.1111111111111111,
              "#46039f"
             ],
             [
              0.2222222222222222,
              "#7201a8"
             ],
             [
              0.3333333333333333,
              "#9c179e"
             ],
             [
              0.4444444444444444,
              "#bd3786"
             ],
             [
              0.5555555555555556,
              "#d8576b"
             ],
             [
              0.6666666666666666,
              "#ed7953"
             ],
             [
              0.7777777777777778,
              "#fb9f3a"
             ],
             [
              0.8888888888888888,
              "#fdca26"
             ],
             [
              1,
              "#f0f921"
             ]
            ],
            "type": "histogram2dcontour"
           }
          ],
          "mesh3d": [
           {
            "colorbar": {
             "outlinewidth": 0,
             "ticks": ""
            },
            "type": "mesh3d"
           }
          ],
          "parcoords": [
           {
            "line": {
             "colorbar": {
              "outlinewidth": 0,
              "ticks": ""
             }
            },
            "type": "parcoords"
           }
          ],
          "scatter": [
           {
            "marker": {
             "colorbar": {
              "outlinewidth": 0,
              "ticks": ""
             }
            },
            "type": "scatter"
           }
          ],
          "scatter3d": [
           {
            "line": {
             "colorbar": {
              "outlinewidth": 0,
              "ticks": ""
             }
            },
            "marker": {
             "colorbar": {
              "outlinewidth": 0,
              "ticks": ""
             }
            },
            "type": "scatter3d"
           }
          ],
          "scattercarpet": [
           {
            "marker": {
             "colorbar": {
              "outlinewidth": 0,
              "ticks": ""
             }
            },
            "type": "scattercarpet"
           }
          ],
          "scattergeo": [
           {
            "marker": {
             "colorbar": {
              "outlinewidth": 0,
              "ticks": ""
             }
            },
            "type": "scattergeo"
           }
          ],
          "scattergl": [
           {
            "marker": {
             "colorbar": {
              "outlinewidth": 0,
              "ticks": ""
             }
            },
            "type": "scattergl"
           }
          ],
          "scattermapbox": [
           {
            "marker": {
             "colorbar": {
              "outlinewidth": 0,
              "ticks": ""
             }
            },
            "type": "scattermapbox"
           }
          ],
          "scatterpolar": [
           {
            "marker": {
             "colorbar": {
              "outlinewidth": 0,
              "ticks": ""
             }
            },
            "type": "scatterpolar"
           }
          ],
          "scatterpolargl": [
           {
            "marker": {
             "colorbar": {
              "outlinewidth": 0,
              "ticks": ""
             }
            },
            "type": "scatterpolargl"
           }
          ],
          "scatterternary": [
           {
            "marker": {
             "colorbar": {
              "outlinewidth": 0,
              "ticks": ""
             }
            },
            "type": "scatterternary"
           }
          ],
          "surface": [
           {
            "colorbar": {
             "outlinewidth": 0,
             "ticks": ""
            },
            "colorscale": [
             [
              0,
              "#0d0887"
             ],
             [
              0.1111111111111111,
              "#46039f"
             ],
             [
              0.2222222222222222,
              "#7201a8"
             ],
             [
              0.3333333333333333,
              "#9c179e"
             ],
             [
              0.4444444444444444,
              "#bd3786"
             ],
             [
              0.5555555555555556,
              "#d8576b"
             ],
             [
              0.6666666666666666,
              "#ed7953"
             ],
             [
              0.7777777777777778,
              "#fb9f3a"
             ],
             [
              0.8888888888888888,
              "#fdca26"
             ],
             [
              1,
              "#f0f921"
             ]
            ],
            "type": "surface"
           }
          ],
          "table": [
           {
            "cells": {
             "fill": {
              "color": "#EBF0F8"
             },
             "line": {
              "color": "white"
             }
            },
            "header": {
             "fill": {
              "color": "#C8D4E3"
             },
             "line": {
              "color": "white"
             }
            },
            "type": "table"
           }
          ]
         },
         "layout": {
          "annotationdefaults": {
           "arrowcolor": "#2a3f5f",
           "arrowhead": 0,
           "arrowwidth": 1
          },
          "colorscale": {
           "diverging": [
            [
             0,
             "#8e0152"
            ],
            [
             0.1,
             "#c51b7d"
            ],
            [
             0.2,
             "#de77ae"
            ],
            [
             0.3,
             "#f1b6da"
            ],
            [
             0.4,
             "#fde0ef"
            ],
            [
             0.5,
             "#f7f7f7"
            ],
            [
             0.6,
             "#e6f5d0"
            ],
            [
             0.7,
             "#b8e186"
            ],
            [
             0.8,
             "#7fbc41"
            ],
            [
             0.9,
             "#4d9221"
            ],
            [
             1,
             "#276419"
            ]
           ],
           "sequential": [
            [
             0,
             "#0d0887"
            ],
            [
             0.1111111111111111,
             "#46039f"
            ],
            [
             0.2222222222222222,
             "#7201a8"
            ],
            [
             0.3333333333333333,
             "#9c179e"
            ],
            [
             0.4444444444444444,
             "#bd3786"
            ],
            [
             0.5555555555555556,
             "#d8576b"
            ],
            [
             0.6666666666666666,
             "#ed7953"
            ],
            [
             0.7777777777777778,
             "#fb9f3a"
            ],
            [
             0.8888888888888888,
             "#fdca26"
            ],
            [
             1,
             "#f0f921"
            ]
           ],
           "sequentialminus": [
            [
             0,
             "#0d0887"
            ],
            [
             0.1111111111111111,
             "#46039f"
            ],
            [
             0.2222222222222222,
             "#7201a8"
            ],
            [
             0.3333333333333333,
             "#9c179e"
            ],
            [
             0.4444444444444444,
             "#bd3786"
            ],
            [
             0.5555555555555556,
             "#d8576b"
            ],
            [
             0.6666666666666666,
             "#ed7953"
            ],
            [
             0.7777777777777778,
             "#fb9f3a"
            ],
            [
             0.8888888888888888,
             "#fdca26"
            ],
            [
             1,
             "#f0f921"
            ]
           ]
          },
          "colorway": [
           "#636efa",
           "#EF553B",
           "#00cc96",
           "#ab63fa",
           "#FFA15A",
           "#19d3f3",
           "#FF6692",
           "#B6E880",
           "#FF97FF",
           "#FECB52"
          ],
          "font": {
           "color": "#2a3f5f"
          },
          "geo": {
           "bgcolor": "white",
           "lakecolor": "white",
           "landcolor": "#E5ECF6",
           "showlakes": true,
           "showland": true,
           "subunitcolor": "white"
          },
          "hoverlabel": {
           "align": "left"
          },
          "hovermode": "closest",
          "mapbox": {
           "style": "light"
          },
          "paper_bgcolor": "white",
          "plot_bgcolor": "#E5ECF6",
          "polar": {
           "angularaxis": {
            "gridcolor": "white",
            "linecolor": "white",
            "ticks": ""
           },
           "bgcolor": "#E5ECF6",
           "radialaxis": {
            "gridcolor": "white",
            "linecolor": "white",
            "ticks": ""
           }
          },
          "scene": {
           "xaxis": {
            "backgroundcolor": "#E5ECF6",
            "gridcolor": "white",
            "gridwidth": 2,
            "linecolor": "white",
            "showbackground": true,
            "ticks": "",
            "zerolinecolor": "white"
           },
           "yaxis": {
            "backgroundcolor": "#E5ECF6",
            "gridcolor": "white",
            "gridwidth": 2,
            "linecolor": "white",
            "showbackground": true,
            "ticks": "",
            "zerolinecolor": "white"
           },
           "zaxis": {
            "backgroundcolor": "#E5ECF6",
            "gridcolor": "white",
            "gridwidth": 2,
            "linecolor": "white",
            "showbackground": true,
            "ticks": "",
            "zerolinecolor": "white"
           }
          },
          "shapedefaults": {
           "line": {
            "color": "#2a3f5f"
           }
          },
          "ternary": {
           "aaxis": {
            "gridcolor": "white",
            "linecolor": "white",
            "ticks": ""
           },
           "baxis": {
            "gridcolor": "white",
            "linecolor": "white",
            "ticks": ""
           },
           "bgcolor": "#E5ECF6",
           "caxis": {
            "gridcolor": "white",
            "linecolor": "white",
            "ticks": ""
           }
          },
          "title": {
           "x": 0.05
          },
          "xaxis": {
           "automargin": true,
           "gridcolor": "white",
           "linecolor": "white",
           "ticks": "",
           "zerolinecolor": "white",
           "zerolinewidth": 2
          },
          "yaxis": {
           "automargin": true,
           "gridcolor": "white",
           "linecolor": "white",
           "ticks": "",
           "zerolinecolor": "white",
           "zerolinewidth": 2
          }
         }
        },
        "title": {
         "font": {
          "color": "#4D5663"
         }
        },
        "xaxis": {
         "gridcolor": "#E1E5ED",
         "showgrid": true,
         "tickfont": {
          "color": "#4D5663"
         },
         "title": {
          "font": {
           "color": "#4D5663"
          },
          "text": ""
         },
         "zerolinecolor": "#E1E5ED"
        },
        "yaxis": {
         "gridcolor": "#E1E5ED",
         "showgrid": true,
         "tickfont": {
          "color": "#4D5663"
         },
         "title": {
          "font": {
           "color": "#4D5663"
          },
          "text": ""
         },
         "zerolinecolor": "#E1E5ED"
        }
       }
      },
      "text/html": [
       "<div>\n",
       "        \n",
       "        \n",
       "            <div id=\"31960e41-9055-4e80-8983-c7502a5e0dba\" class=\"plotly-graph-div\" style=\"height:525px; width:100%;\"></div>\n",
       "            <script type=\"text/javascript\">\n",
       "                require([\"plotly\"], function(Plotly) {\n",
       "                    window.PLOTLYENV=window.PLOTLYENV || {};\n",
       "                    window.PLOTLYENV.BASE_URL='https://plot.ly';\n",
       "                    \n",
       "                if (document.getElementById(\"31960e41-9055-4e80-8983-c7502a5e0dba\")) {\n",
       "                    Plotly.newPlot(\n",
       "                        '31960e41-9055-4e80-8983-c7502a5e0dba',\n",
       "                        [{\"line\": {\"color\": \"rgba(255, 153, 51, 1.0)\", \"dash\": \"solid\", \"shape\": \"linear\", \"width\": 1.3}, \"marker\": {\"size\": 20, \"symbol\": \"circle\"}, \"mode\": \"markers\", \"name\": \"B\", \"text\": \"\", \"type\": \"scatter\", \"x\": [-0.06542778015912247, -0.4983315985004792, -0.3932665761127589, -0.10616396259826238, -0.26207506689955234, 0.7886670736320832, -0.14377426502187782, -0.15273724910094455, -1.1338234021817963, 0.0009770267116028946, -0.7324620416267447, 0.06043111318599064, 0.623615648635299, -0.9898932119379665, -0.45086070577257026, -0.830303964658216, 1.5716630654715504, -1.0974693696329356, 0.4558388327103945, 1.2170495932316205, -0.32981680298429955, 0.2582423394595888, 0.4888856866509463, -0.6121681967574407, -0.5414245020009553, 2.713140457391276, 1.7423907028996293, 0.14142226924657475, 1.6632119799987835, -1.1316432740780005, 0.3761480797940717, -0.5145111245715915, 0.15963736908855272, 0.8356735998848508, -0.3565600825442002, 1.157899333248228, -0.4096165797423869, 0.5249195501867103, 0.5653237593734552, 1.072675824030473, -1.7986968659667908, 0.09444932233020178, 0.37476626326860707, -0.06564736959465206, 0.28052433882468464, 0.7190140964012359, -1.5830392770914365, 0.2644929549909655, -1.0006939493489782, 0.23636146599124183, 0.39176536250665306, 1.0010977258940492, 0.10143316005483165, -0.3368213254581548, -0.2971587471713649, -0.026228244623694424, 0.6624173371633474, -1.7218637928707545, -0.5923164125061781, -0.34970068099215595, -0.12555665412014028, -0.16897186432076375, 0.40905865555379467, -0.6632048676391282, 1.0816531446896442, -0.08061085564831709, -0.6898727254749667, -0.05582287614843459, 0.019644984580532536, -0.24593277126504068, 0.2647198186254047, -2.6985599960128646, -0.2857060352657619, -0.7059336808840253, 0.17851344877915792, -1.1872112018363015, 0.356400427218362, 0.6949620719212402, 1.7193507242959798, 0.15045354017786597, -0.18479491530568848, -1.239764615178371, 0.09444746482720447, -0.45253402974609547, 1.5240444051796522, -0.7166957289144503, 1.5593468757849867, -1.8811576668979677, -1.4952705913795905, 0.23129604965371198, -0.008759735894900082, 0.15443482118378815, -1.4297427857966751, -0.06765988265773787, -0.996787930590609, -0.4145939334371296, -0.43632955465216916, -0.7186990577837588, 0.5636984699664023, 0.21842881420586344], \"y\": [-0.8411370469674633, 0.8465936719276874, -2.0769241221253196, -0.6700626862026585, -0.5718851695463921, -0.09755403761810581, -0.44096635857130717, -0.19909691093629908, 1.5488170316881231, -0.058357642546699194, 0.919790098361005, 0.3594851568227443, -0.8769963650114245, -0.269976233378358, 0.24765485950810773, 0.269321910169165, -0.5505010270008414, -0.4072869079940033, 0.3517877394913619, -1.524489635082197, 0.12522454045167053, 0.9987328546532094, -1.3791792776183134, 0.05423843887016417, 0.2688011121653173, -0.19041155308139934, 0.10695575141382495, 1.7095876419986396, -1.170502100390321, 0.9290949508011905, -0.1939790752819657, -0.9278782561160333, -0.38128376570696293, 1.4196422528454338, -0.3327314727625212, 1.1991026923111583, 0.34681659229915696, -0.6206391541625019, 0.12742134556200654, 1.3243431685994702, -0.8269302595340654, 0.37966686811781725, -0.10344807908893425, -2.0544188879512295, -0.7464815409567633, -0.7767402402381235, -0.6637804281354422, 1.2517385487669808, 0.694873957911729, -0.06616754426101021, 0.0826020637563963, -0.8335126220950743, 1.5472354491421703, -1.1883781356830807, 0.6959161155628883, 1.6809774728363294, -0.23254175749586706, -1.9896207513535749, -0.23331842485528928, 2.178970408821887, 1.4573427100091558, -0.908432032880107, -0.44244867207382027, -0.4769298465440546, 1.3442857447410939, 0.8937306771278547, 1.2884460982984527, 0.25783105542154644, -0.5664819169183514, -0.18098321446330418, 0.331616555740629, -0.8005687231433739, 1.0988721156679697, 0.23696136067638396, 0.46500651711300106, -0.7528153647155813, 1.3412978052129945, -1.0199703145796095, 0.6413002728832091, -0.3193840554624845, -0.11664683969933677, 0.9687749026453907, 1.3239859553061233, -0.1362061691984603, 1.2241312871811287, 0.21623446478982422, -0.21314367553319472, 0.720151826365811, 1.462740448667771, -0.3436916812967713, 0.4324993105508277, -1.5619649073250985, -2.112441929480903, 0.06564522053701284, -0.28106050711775143, -0.07673876751490212, 0.9800922196622552, 0.03668337598725406, 0.22327999074166194, 0.37285586455157954]}],\n",
       "                        {\"legend\": {\"bgcolor\": \"#F5F6F9\", \"font\": {\"color\": \"#4D5663\"}}, \"paper_bgcolor\": \"#F5F6F9\", \"plot_bgcolor\": \"#F5F6F9\", \"template\": {\"data\": {\"bar\": [{\"error_x\": {\"color\": \"#2a3f5f\"}, \"error_y\": {\"color\": \"#2a3f5f\"}, \"marker\": {\"line\": {\"color\": \"#E5ECF6\", \"width\": 0.5}}, \"type\": \"bar\"}], \"barpolar\": [{\"marker\": {\"line\": {\"color\": \"#E5ECF6\", \"width\": 0.5}}, \"type\": \"barpolar\"}], \"carpet\": [{\"aaxis\": {\"endlinecolor\": \"#2a3f5f\", \"gridcolor\": \"white\", \"linecolor\": \"white\", \"minorgridcolor\": \"white\", \"startlinecolor\": \"#2a3f5f\"}, \"baxis\": {\"endlinecolor\": \"#2a3f5f\", \"gridcolor\": \"white\", \"linecolor\": \"white\", \"minorgridcolor\": \"white\", \"startlinecolor\": \"#2a3f5f\"}, \"type\": \"carpet\"}], \"choropleth\": [{\"colorbar\": {\"outlinewidth\": 0, \"ticks\": \"\"}, \"type\": \"choropleth\"}], \"contour\": [{\"colorbar\": {\"outlinewidth\": 0, \"ticks\": \"\"}, \"colorscale\": [[0.0, \"#0d0887\"], [0.1111111111111111, \"#46039f\"], [0.2222222222222222, \"#7201a8\"], [0.3333333333333333, \"#9c179e\"], [0.4444444444444444, \"#bd3786\"], [0.5555555555555556, \"#d8576b\"], [0.6666666666666666, \"#ed7953\"], [0.7777777777777778, \"#fb9f3a\"], [0.8888888888888888, \"#fdca26\"], [1.0, \"#f0f921\"]], \"type\": \"contour\"}], \"contourcarpet\": [{\"colorbar\": {\"outlinewidth\": 0, \"ticks\": \"\"}, \"type\": \"contourcarpet\"}], \"heatmap\": [{\"colorbar\": {\"outlinewidth\": 0, \"ticks\": \"\"}, \"colorscale\": [[0.0, \"#0d0887\"], [0.1111111111111111, \"#46039f\"], [0.2222222222222222, \"#7201a8\"], [0.3333333333333333, \"#9c179e\"], [0.4444444444444444, \"#bd3786\"], [0.5555555555555556, \"#d8576b\"], [0.6666666666666666, \"#ed7953\"], [0.7777777777777778, \"#fb9f3a\"], [0.8888888888888888, \"#fdca26\"], [1.0, \"#f0f921\"]], \"type\": \"heatmap\"}], \"heatmapgl\": [{\"colorbar\": {\"outlinewidth\": 0, \"ticks\": \"\"}, \"colorscale\": [[0.0, \"#0d0887\"], [0.1111111111111111, \"#46039f\"], [0.2222222222222222, \"#7201a8\"], [0.3333333333333333, \"#9c179e\"], [0.4444444444444444, \"#bd3786\"], [0.5555555555555556, \"#d8576b\"], [0.6666666666666666, \"#ed7953\"], [0.7777777777777778, \"#fb9f3a\"], [0.8888888888888888, \"#fdca26\"], [1.0, \"#f0f921\"]], \"type\": \"heatmapgl\"}], \"histogram\": [{\"marker\": {\"colorbar\": {\"outlinewidth\": 0, \"ticks\": \"\"}}, \"type\": \"histogram\"}], \"histogram2d\": [{\"colorbar\": {\"outlinewidth\": 0, \"ticks\": \"\"}, \"colorscale\": [[0.0, \"#0d0887\"], [0.1111111111111111, \"#46039f\"], [0.2222222222222222, \"#7201a8\"], [0.3333333333333333, \"#9c179e\"], [0.4444444444444444, \"#bd3786\"], [0.5555555555555556, \"#d8576b\"], [0.6666666666666666, \"#ed7953\"], [0.7777777777777778, \"#fb9f3a\"], [0.8888888888888888, \"#fdca26\"], [1.0, \"#f0f921\"]], \"type\": \"histogram2d\"}], \"histogram2dcontour\": [{\"colorbar\": {\"outlinewidth\": 0, \"ticks\": \"\"}, \"colorscale\": [[0.0, \"#0d0887\"], [0.1111111111111111, \"#46039f\"], [0.2222222222222222, \"#7201a8\"], [0.3333333333333333, \"#9c179e\"], [0.4444444444444444, \"#bd3786\"], [0.5555555555555556, \"#d8576b\"], [0.6666666666666666, \"#ed7953\"], [0.7777777777777778, \"#fb9f3a\"], [0.8888888888888888, \"#fdca26\"], [1.0, \"#f0f921\"]], \"type\": \"histogram2dcontour\"}], \"mesh3d\": [{\"colorbar\": {\"outlinewidth\": 0, \"ticks\": \"\"}, \"type\": \"mesh3d\"}], \"parcoords\": [{\"line\": {\"colorbar\": {\"outlinewidth\": 0, \"ticks\": \"\"}}, \"type\": \"parcoords\"}], \"scatter\": [{\"marker\": {\"colorbar\": {\"outlinewidth\": 0, \"ticks\": \"\"}}, \"type\": \"scatter\"}], \"scatter3d\": [{\"line\": {\"colorbar\": {\"outlinewidth\": 0, \"ticks\": \"\"}}, \"marker\": {\"colorbar\": {\"outlinewidth\": 0, \"ticks\": \"\"}}, \"type\": \"scatter3d\"}], \"scattercarpet\": [{\"marker\": {\"colorbar\": {\"outlinewidth\": 0, \"ticks\": \"\"}}, \"type\": \"scattercarpet\"}], \"scattergeo\": [{\"marker\": {\"colorbar\": {\"outlinewidth\": 0, \"ticks\": \"\"}}, \"type\": \"scattergeo\"}], \"scattergl\": [{\"marker\": {\"colorbar\": {\"outlinewidth\": 0, \"ticks\": \"\"}}, \"type\": \"scattergl\"}], \"scattermapbox\": [{\"marker\": {\"colorbar\": {\"outlinewidth\": 0, \"ticks\": \"\"}}, \"type\": \"scattermapbox\"}], \"scatterpolar\": [{\"marker\": {\"colorbar\": {\"outlinewidth\": 0, \"ticks\": \"\"}}, \"type\": \"scatterpolar\"}], \"scatterpolargl\": [{\"marker\": {\"colorbar\": {\"outlinewidth\": 0, \"ticks\": \"\"}}, \"type\": \"scatterpolargl\"}], \"scatterternary\": [{\"marker\": {\"colorbar\": {\"outlinewidth\": 0, \"ticks\": \"\"}}, \"type\": \"scatterternary\"}], \"surface\": [{\"colorbar\": {\"outlinewidth\": 0, \"ticks\": \"\"}, \"colorscale\": [[0.0, \"#0d0887\"], [0.1111111111111111, \"#46039f\"], [0.2222222222222222, \"#7201a8\"], [0.3333333333333333, \"#9c179e\"], [0.4444444444444444, \"#bd3786\"], [0.5555555555555556, \"#d8576b\"], [0.6666666666666666, \"#ed7953\"], [0.7777777777777778, \"#fb9f3a\"], [0.8888888888888888, \"#fdca26\"], [1.0, \"#f0f921\"]], \"type\": \"surface\"}], \"table\": [{\"cells\": {\"fill\": {\"color\": \"#EBF0F8\"}, \"line\": {\"color\": \"white\"}}, \"header\": {\"fill\": {\"color\": \"#C8D4E3\"}, \"line\": {\"color\": \"white\"}}, \"type\": \"table\"}]}, \"layout\": {\"annotationdefaults\": {\"arrowcolor\": \"#2a3f5f\", \"arrowhead\": 0, \"arrowwidth\": 1}, \"colorscale\": {\"diverging\": [[0, \"#8e0152\"], [0.1, \"#c51b7d\"], [0.2, \"#de77ae\"], [0.3, \"#f1b6da\"], [0.4, \"#fde0ef\"], [0.5, \"#f7f7f7\"], [0.6, \"#e6f5d0\"], [0.7, \"#b8e186\"], [0.8, \"#7fbc41\"], [0.9, \"#4d9221\"], [1, \"#276419\"]], \"sequential\": [[0.0, \"#0d0887\"], [0.1111111111111111, \"#46039f\"], [0.2222222222222222, \"#7201a8\"], [0.3333333333333333, \"#9c179e\"], [0.4444444444444444, \"#bd3786\"], [0.5555555555555556, \"#d8576b\"], [0.6666666666666666, \"#ed7953\"], [0.7777777777777778, \"#fb9f3a\"], [0.8888888888888888, \"#fdca26\"], [1.0, \"#f0f921\"]], \"sequentialminus\": [[0.0, \"#0d0887\"], [0.1111111111111111, \"#46039f\"], [0.2222222222222222, \"#7201a8\"], [0.3333333333333333, \"#9c179e\"], [0.4444444444444444, \"#bd3786\"], [0.5555555555555556, \"#d8576b\"], [0.6666666666666666, \"#ed7953\"], [0.7777777777777778, \"#fb9f3a\"], [0.8888888888888888, \"#fdca26\"], [1.0, \"#f0f921\"]]}, \"colorway\": [\"#636efa\", \"#EF553B\", \"#00cc96\", \"#ab63fa\", \"#FFA15A\", \"#19d3f3\", \"#FF6692\", \"#B6E880\", \"#FF97FF\", \"#FECB52\"], \"font\": {\"color\": \"#2a3f5f\"}, \"geo\": {\"bgcolor\": \"white\", \"lakecolor\": \"white\", \"landcolor\": \"#E5ECF6\", \"showlakes\": true, \"showland\": true, \"subunitcolor\": \"white\"}, \"hoverlabel\": {\"align\": \"left\"}, \"hovermode\": \"closest\", \"mapbox\": {\"style\": \"light\"}, \"paper_bgcolor\": \"white\", \"plot_bgcolor\": \"#E5ECF6\", \"polar\": {\"angularaxis\": {\"gridcolor\": \"white\", \"linecolor\": \"white\", \"ticks\": \"\"}, \"bgcolor\": \"#E5ECF6\", \"radialaxis\": {\"gridcolor\": \"white\", \"linecolor\": \"white\", \"ticks\": \"\"}}, \"scene\": {\"xaxis\": {\"backgroundcolor\": \"#E5ECF6\", \"gridcolor\": \"white\", \"gridwidth\": 2, \"linecolor\": \"white\", \"showbackground\": true, \"ticks\": \"\", \"zerolinecolor\": \"white\"}, \"yaxis\": {\"backgroundcolor\": \"#E5ECF6\", \"gridcolor\": \"white\", \"gridwidth\": 2, \"linecolor\": \"white\", \"showbackground\": true, \"ticks\": \"\", \"zerolinecolor\": \"white\"}, \"zaxis\": {\"backgroundcolor\": \"#E5ECF6\", \"gridcolor\": \"white\", \"gridwidth\": 2, \"linecolor\": \"white\", \"showbackground\": true, \"ticks\": \"\", \"zerolinecolor\": \"white\"}}, \"shapedefaults\": {\"line\": {\"color\": \"#2a3f5f\"}}, \"ternary\": {\"aaxis\": {\"gridcolor\": \"white\", \"linecolor\": \"white\", \"ticks\": \"\"}, \"baxis\": {\"gridcolor\": \"white\", \"linecolor\": \"white\", \"ticks\": \"\"}, \"bgcolor\": \"#E5ECF6\", \"caxis\": {\"gridcolor\": \"white\", \"linecolor\": \"white\", \"ticks\": \"\"}}, \"title\": {\"x\": 0.05}, \"xaxis\": {\"automargin\": true, \"gridcolor\": \"white\", \"linecolor\": \"white\", \"ticks\": \"\", \"zerolinecolor\": \"white\", \"zerolinewidth\": 2}, \"yaxis\": {\"automargin\": true, \"gridcolor\": \"white\", \"linecolor\": \"white\", \"ticks\": \"\", \"zerolinecolor\": \"white\", \"zerolinewidth\": 2}}}, \"title\": {\"font\": {\"color\": \"#4D5663\"}}, \"xaxis\": {\"gridcolor\": \"#E1E5ED\", \"showgrid\": true, \"tickfont\": {\"color\": \"#4D5663\"}, \"title\": {\"font\": {\"color\": \"#4D5663\"}, \"text\": \"\"}, \"zerolinecolor\": \"#E1E5ED\"}, \"yaxis\": {\"gridcolor\": \"#E1E5ED\", \"showgrid\": true, \"tickfont\": {\"color\": \"#4D5663\"}, \"title\": {\"font\": {\"color\": \"#4D5663\"}, \"text\": \"\"}, \"zerolinecolor\": \"#E1E5ED\"}},\n",
       "                        {\"showLink\": true, \"linkText\": \"Export to plot.ly\", \"plotlyServerURL\": \"https://plot.ly\", \"responsive\": true}\n",
       "                    ).then(function(){\n",
       "                            \n",
       "var gd = document.getElementById('31960e41-9055-4e80-8983-c7502a5e0dba');\n",
       "var x = new MutationObserver(function (mutations, observer) {{\n",
       "        var display = window.getComputedStyle(gd).display;\n",
       "        if (!display || display === 'none') {{\n",
       "            console.log([gd, 'removed!']);\n",
       "            Plotly.purge(gd);\n",
       "            observer.disconnect();\n",
       "        }}\n",
       "}});\n",
       "\n",
       "// Listen for the removal of the full notebook cells\n",
       "var notebookContainer = gd.closest('#notebook-container');\n",
       "if (notebookContainer) {{\n",
       "    x.observe(notebookContainer, {childList: true});\n",
       "}}\n",
       "\n",
       "// Listen for the clearing of the current output cell\n",
       "var outputEl = gd.closest('.output');\n",
       "if (outputEl) {{\n",
       "    x.observe(outputEl, {childList: true});\n",
       "}}\n",
       "\n",
       "                        })\n",
       "                };\n",
       "                });\n",
       "            </script>\n",
       "        </div>"
      ]
     },
     "metadata": {},
     "output_type": "display_data"
    }
   ],
   "source": [
    "## Now, lets use iplot to create other types of plots: \n",
    "\n",
    "## Ex.1 Scatterplot\n",
    "\n",
    "df.iplot(kind = 'scatter', x = 'A', y = 'B', mode = 'markers', size = 20) \n",
    "                                             ## plotly is going to try and create a line by default \n",
    "                                             ## We can pass the parameter mode = 'markers' to avoid this\n",
    "                                             ## Use the size parameter to obtain larger markers "
   ]
  },
  {
   "cell_type": "code",
   "execution_count": 15,
   "metadata": {},
   "outputs": [
    {
     "data": {
      "application/vnd.plotly.v1+json": {
       "config": {
        "linkText": "Export to plot.ly",
        "plotlyServerURL": "https://plot.ly",
        "showLink": true
       },
       "data": [
        {
         "marker": {
          "color": "rgba(255, 153, 51, 0.6)",
          "line": {
           "color": "rgba(255, 153, 51, 1.0)",
           "width": 1
          }
         },
         "name": "Values",
         "orientation": "v",
         "text": "",
         "type": "bar",
         "x": [
          "A",
          "B",
          "C"
         ],
         "y": [
          32,
          43,
          50
         ]
        }
       ],
       "layout": {
        "legend": {
         "bgcolor": "#F5F6F9",
         "font": {
          "color": "#4D5663"
         }
        },
        "paper_bgcolor": "#F5F6F9",
        "plot_bgcolor": "#F5F6F9",
        "template": {
         "data": {
          "bar": [
           {
            "error_x": {
             "color": "#2a3f5f"
            },
            "error_y": {
             "color": "#2a3f5f"
            },
            "marker": {
             "line": {
              "color": "#E5ECF6",
              "width": 0.5
             }
            },
            "type": "bar"
           }
          ],
          "barpolar": [
           {
            "marker": {
             "line": {
              "color": "#E5ECF6",
              "width": 0.5
             }
            },
            "type": "barpolar"
           }
          ],
          "carpet": [
           {
            "aaxis": {
             "endlinecolor": "#2a3f5f",
             "gridcolor": "white",
             "linecolor": "white",
             "minorgridcolor": "white",
             "startlinecolor": "#2a3f5f"
            },
            "baxis": {
             "endlinecolor": "#2a3f5f",
             "gridcolor": "white",
             "linecolor": "white",
             "minorgridcolor": "white",
             "startlinecolor": "#2a3f5f"
            },
            "type": "carpet"
           }
          ],
          "choropleth": [
           {
            "colorbar": {
             "outlinewidth": 0,
             "ticks": ""
            },
            "type": "choropleth"
           }
          ],
          "contour": [
           {
            "colorbar": {
             "outlinewidth": 0,
             "ticks": ""
            },
            "colorscale": [
             [
              0,
              "#0d0887"
             ],
             [
              0.1111111111111111,
              "#46039f"
             ],
             [
              0.2222222222222222,
              "#7201a8"
             ],
             [
              0.3333333333333333,
              "#9c179e"
             ],
             [
              0.4444444444444444,
              "#bd3786"
             ],
             [
              0.5555555555555556,
              "#d8576b"
             ],
             [
              0.6666666666666666,
              "#ed7953"
             ],
             [
              0.7777777777777778,
              "#fb9f3a"
             ],
             [
              0.8888888888888888,
              "#fdca26"
             ],
             [
              1,
              "#f0f921"
             ]
            ],
            "type": "contour"
           }
          ],
          "contourcarpet": [
           {
            "colorbar": {
             "outlinewidth": 0,
             "ticks": ""
            },
            "type": "contourcarpet"
           }
          ],
          "heatmap": [
           {
            "colorbar": {
             "outlinewidth": 0,
             "ticks": ""
            },
            "colorscale": [
             [
              0,
              "#0d0887"
             ],
             [
              0.1111111111111111,
              "#46039f"
             ],
             [
              0.2222222222222222,
              "#7201a8"
             ],
             [
              0.3333333333333333,
              "#9c179e"
             ],
             [
              0.4444444444444444,
              "#bd3786"
             ],
             [
              0.5555555555555556,
              "#d8576b"
             ],
             [
              0.6666666666666666,
              "#ed7953"
             ],
             [
              0.7777777777777778,
              "#fb9f3a"
             ],
             [
              0.8888888888888888,
              "#fdca26"
             ],
             [
              1,
              "#f0f921"
             ]
            ],
            "type": "heatmap"
           }
          ],
          "heatmapgl": [
           {
            "colorbar": {
             "outlinewidth": 0,
             "ticks": ""
            },
            "colorscale": [
             [
              0,
              "#0d0887"
             ],
             [
              0.1111111111111111,
              "#46039f"
             ],
             [
              0.2222222222222222,
              "#7201a8"
             ],
             [
              0.3333333333333333,
              "#9c179e"
             ],
             [
              0.4444444444444444,
              "#bd3786"
             ],
             [
              0.5555555555555556,
              "#d8576b"
             ],
             [
              0.6666666666666666,
              "#ed7953"
             ],
             [
              0.7777777777777778,
              "#fb9f3a"
             ],
             [
              0.8888888888888888,
              "#fdca26"
             ],
             [
              1,
              "#f0f921"
             ]
            ],
            "type": "heatmapgl"
           }
          ],
          "histogram": [
           {
            "marker": {
             "colorbar": {
              "outlinewidth": 0,
              "ticks": ""
             }
            },
            "type": "histogram"
           }
          ],
          "histogram2d": [
           {
            "colorbar": {
             "outlinewidth": 0,
             "ticks": ""
            },
            "colorscale": [
             [
              0,
              "#0d0887"
             ],
             [
              0.1111111111111111,
              "#46039f"
             ],
             [
              0.2222222222222222,
              "#7201a8"
             ],
             [
              0.3333333333333333,
              "#9c179e"
             ],
             [
              0.4444444444444444,
              "#bd3786"
             ],
             [
              0.5555555555555556,
              "#d8576b"
             ],
             [
              0.6666666666666666,
              "#ed7953"
             ],
             [
              0.7777777777777778,
              "#fb9f3a"
             ],
             [
              0.8888888888888888,
              "#fdca26"
             ],
             [
              1,
              "#f0f921"
             ]
            ],
            "type": "histogram2d"
           }
          ],
          "histogram2dcontour": [
           {
            "colorbar": {
             "outlinewidth": 0,
             "ticks": ""
            },
            "colorscale": [
             [
              0,
              "#0d0887"
             ],
             [
              0.1111111111111111,
              "#46039f"
             ],
             [
              0.2222222222222222,
              "#7201a8"
             ],
             [
              0.3333333333333333,
              "#9c179e"
             ],
             [
              0.4444444444444444,
              "#bd3786"
             ],
             [
              0.5555555555555556,
              "#d8576b"
             ],
             [
              0.6666666666666666,
              "#ed7953"
             ],
             [
              0.7777777777777778,
              "#fb9f3a"
             ],
             [
              0.8888888888888888,
              "#fdca26"
             ],
             [
              1,
              "#f0f921"
             ]
            ],
            "type": "histogram2dcontour"
           }
          ],
          "mesh3d": [
           {
            "colorbar": {
             "outlinewidth": 0,
             "ticks": ""
            },
            "type": "mesh3d"
           }
          ],
          "parcoords": [
           {
            "line": {
             "colorbar": {
              "outlinewidth": 0,
              "ticks": ""
             }
            },
            "type": "parcoords"
           }
          ],
          "scatter": [
           {
            "marker": {
             "colorbar": {
              "outlinewidth": 0,
              "ticks": ""
             }
            },
            "type": "scatter"
           }
          ],
          "scatter3d": [
           {
            "line": {
             "colorbar": {
              "outlinewidth": 0,
              "ticks": ""
             }
            },
            "marker": {
             "colorbar": {
              "outlinewidth": 0,
              "ticks": ""
             }
            },
            "type": "scatter3d"
           }
          ],
          "scattercarpet": [
           {
            "marker": {
             "colorbar": {
              "outlinewidth": 0,
              "ticks": ""
             }
            },
            "type": "scattercarpet"
           }
          ],
          "scattergeo": [
           {
            "marker": {
             "colorbar": {
              "outlinewidth": 0,
              "ticks": ""
             }
            },
            "type": "scattergeo"
           }
          ],
          "scattergl": [
           {
            "marker": {
             "colorbar": {
              "outlinewidth": 0,
              "ticks": ""
             }
            },
            "type": "scattergl"
           }
          ],
          "scattermapbox": [
           {
            "marker": {
             "colorbar": {
              "outlinewidth": 0,
              "ticks": ""
             }
            },
            "type": "scattermapbox"
           }
          ],
          "scatterpolar": [
           {
            "marker": {
             "colorbar": {
              "outlinewidth": 0,
              "ticks": ""
             }
            },
            "type": "scatterpolar"
           }
          ],
          "scatterpolargl": [
           {
            "marker": {
             "colorbar": {
              "outlinewidth": 0,
              "ticks": ""
             }
            },
            "type": "scatterpolargl"
           }
          ],
          "scatterternary": [
           {
            "marker": {
             "colorbar": {
              "outlinewidth": 0,
              "ticks": ""
             }
            },
            "type": "scatterternary"
           }
          ],
          "surface": [
           {
            "colorbar": {
             "outlinewidth": 0,
             "ticks": ""
            },
            "colorscale": [
             [
              0,
              "#0d0887"
             ],
             [
              0.1111111111111111,
              "#46039f"
             ],
             [
              0.2222222222222222,
              "#7201a8"
             ],
             [
              0.3333333333333333,
              "#9c179e"
             ],
             [
              0.4444444444444444,
              "#bd3786"
             ],
             [
              0.5555555555555556,
              "#d8576b"
             ],
             [
              0.6666666666666666,
              "#ed7953"
             ],
             [
              0.7777777777777778,
              "#fb9f3a"
             ],
             [
              0.8888888888888888,
              "#fdca26"
             ],
             [
              1,
              "#f0f921"
             ]
            ],
            "type": "surface"
           }
          ],
          "table": [
           {
            "cells": {
             "fill": {
              "color": "#EBF0F8"
             },
             "line": {
              "color": "white"
             }
            },
            "header": {
             "fill": {
              "color": "#C8D4E3"
             },
             "line": {
              "color": "white"
             }
            },
            "type": "table"
           }
          ]
         },
         "layout": {
          "annotationdefaults": {
           "arrowcolor": "#2a3f5f",
           "arrowhead": 0,
           "arrowwidth": 1
          },
          "colorscale": {
           "diverging": [
            [
             0,
             "#8e0152"
            ],
            [
             0.1,
             "#c51b7d"
            ],
            [
             0.2,
             "#de77ae"
            ],
            [
             0.3,
             "#f1b6da"
            ],
            [
             0.4,
             "#fde0ef"
            ],
            [
             0.5,
             "#f7f7f7"
            ],
            [
             0.6,
             "#e6f5d0"
            ],
            [
             0.7,
             "#b8e186"
            ],
            [
             0.8,
             "#7fbc41"
            ],
            [
             0.9,
             "#4d9221"
            ],
            [
             1,
             "#276419"
            ]
           ],
           "sequential": [
            [
             0,
             "#0d0887"
            ],
            [
             0.1111111111111111,
             "#46039f"
            ],
            [
             0.2222222222222222,
             "#7201a8"
            ],
            [
             0.3333333333333333,
             "#9c179e"
            ],
            [
             0.4444444444444444,
             "#bd3786"
            ],
            [
             0.5555555555555556,
             "#d8576b"
            ],
            [
             0.6666666666666666,
             "#ed7953"
            ],
            [
             0.7777777777777778,
             "#fb9f3a"
            ],
            [
             0.8888888888888888,
             "#fdca26"
            ],
            [
             1,
             "#f0f921"
            ]
           ],
           "sequentialminus": [
            [
             0,
             "#0d0887"
            ],
            [
             0.1111111111111111,
             "#46039f"
            ],
            [
             0.2222222222222222,
             "#7201a8"
            ],
            [
             0.3333333333333333,
             "#9c179e"
            ],
            [
             0.4444444444444444,
             "#bd3786"
            ],
            [
             0.5555555555555556,
             "#d8576b"
            ],
            [
             0.6666666666666666,
             "#ed7953"
            ],
            [
             0.7777777777777778,
             "#fb9f3a"
            ],
            [
             0.8888888888888888,
             "#fdca26"
            ],
            [
             1,
             "#f0f921"
            ]
           ]
          },
          "colorway": [
           "#636efa",
           "#EF553B",
           "#00cc96",
           "#ab63fa",
           "#FFA15A",
           "#19d3f3",
           "#FF6692",
           "#B6E880",
           "#FF97FF",
           "#FECB52"
          ],
          "font": {
           "color": "#2a3f5f"
          },
          "geo": {
           "bgcolor": "white",
           "lakecolor": "white",
           "landcolor": "#E5ECF6",
           "showlakes": true,
           "showland": true,
           "subunitcolor": "white"
          },
          "hoverlabel": {
           "align": "left"
          },
          "hovermode": "closest",
          "mapbox": {
           "style": "light"
          },
          "paper_bgcolor": "white",
          "plot_bgcolor": "#E5ECF6",
          "polar": {
           "angularaxis": {
            "gridcolor": "white",
            "linecolor": "white",
            "ticks": ""
           },
           "bgcolor": "#E5ECF6",
           "radialaxis": {
            "gridcolor": "white",
            "linecolor": "white",
            "ticks": ""
           }
          },
          "scene": {
           "xaxis": {
            "backgroundcolor": "#E5ECF6",
            "gridcolor": "white",
            "gridwidth": 2,
            "linecolor": "white",
            "showbackground": true,
            "ticks": "",
            "zerolinecolor": "white"
           },
           "yaxis": {
            "backgroundcolor": "#E5ECF6",
            "gridcolor": "white",
            "gridwidth": 2,
            "linecolor": "white",
            "showbackground": true,
            "ticks": "",
            "zerolinecolor": "white"
           },
           "zaxis": {
            "backgroundcolor": "#E5ECF6",
            "gridcolor": "white",
            "gridwidth": 2,
            "linecolor": "white",
            "showbackground": true,
            "ticks": "",
            "zerolinecolor": "white"
           }
          },
          "shapedefaults": {
           "line": {
            "color": "#2a3f5f"
           }
          },
          "ternary": {
           "aaxis": {
            "gridcolor": "white",
            "linecolor": "white",
            "ticks": ""
           },
           "baxis": {
            "gridcolor": "white",
            "linecolor": "white",
            "ticks": ""
           },
           "bgcolor": "#E5ECF6",
           "caxis": {
            "gridcolor": "white",
            "linecolor": "white",
            "ticks": ""
           }
          },
          "title": {
           "x": 0.05
          },
          "xaxis": {
           "automargin": true,
           "gridcolor": "white",
           "linecolor": "white",
           "ticks": "",
           "zerolinecolor": "white",
           "zerolinewidth": 2
          },
          "yaxis": {
           "automargin": true,
           "gridcolor": "white",
           "linecolor": "white",
           "ticks": "",
           "zerolinecolor": "white",
           "zerolinewidth": 2
          }
         }
        },
        "title": {
         "font": {
          "color": "#4D5663"
         }
        },
        "xaxis": {
         "gridcolor": "#E1E5ED",
         "showgrid": true,
         "tickfont": {
          "color": "#4D5663"
         },
         "title": {
          "font": {
           "color": "#4D5663"
          },
          "text": ""
         },
         "zerolinecolor": "#E1E5ED"
        },
        "yaxis": {
         "gridcolor": "#E1E5ED",
         "showgrid": true,
         "tickfont": {
          "color": "#4D5663"
         },
         "title": {
          "font": {
           "color": "#4D5663"
          },
          "text": ""
         },
         "zerolinecolor": "#E1E5ED"
        }
       }
      },
      "text/html": [
       "<div>\n",
       "        \n",
       "        \n",
       "            <div id=\"f3ab50f5-e75d-4ffc-9ea7-353178a54c77\" class=\"plotly-graph-div\" style=\"height:525px; width:100%;\"></div>\n",
       "            <script type=\"text/javascript\">\n",
       "                require([\"plotly\"], function(Plotly) {\n",
       "                    window.PLOTLYENV=window.PLOTLYENV || {};\n",
       "                    window.PLOTLYENV.BASE_URL='https://plot.ly';\n",
       "                    \n",
       "                if (document.getElementById(\"f3ab50f5-e75d-4ffc-9ea7-353178a54c77\")) {\n",
       "                    Plotly.newPlot(\n",
       "                        'f3ab50f5-e75d-4ffc-9ea7-353178a54c77',\n",
       "                        [{\"marker\": {\"color\": \"rgba(255, 153, 51, 0.6)\", \"line\": {\"color\": \"rgba(255, 153, 51, 1.0)\", \"width\": 1}}, \"name\": \"Values\", \"orientation\": \"v\", \"text\": \"\", \"type\": \"bar\", \"x\": [\"A\", \"B\", \"C\"], \"y\": [32, 43, 50]}],\n",
       "                        {\"legend\": {\"bgcolor\": \"#F5F6F9\", \"font\": {\"color\": \"#4D5663\"}}, \"paper_bgcolor\": \"#F5F6F9\", \"plot_bgcolor\": \"#F5F6F9\", \"template\": {\"data\": {\"bar\": [{\"error_x\": {\"color\": \"#2a3f5f\"}, \"error_y\": {\"color\": \"#2a3f5f\"}, \"marker\": {\"line\": {\"color\": \"#E5ECF6\", \"width\": 0.5}}, \"type\": \"bar\"}], \"barpolar\": [{\"marker\": {\"line\": {\"color\": \"#E5ECF6\", \"width\": 0.5}}, \"type\": \"barpolar\"}], \"carpet\": [{\"aaxis\": {\"endlinecolor\": \"#2a3f5f\", \"gridcolor\": \"white\", \"linecolor\": \"white\", \"minorgridcolor\": \"white\", \"startlinecolor\": \"#2a3f5f\"}, \"baxis\": {\"endlinecolor\": \"#2a3f5f\", \"gridcolor\": \"white\", \"linecolor\": \"white\", \"minorgridcolor\": \"white\", \"startlinecolor\": \"#2a3f5f\"}, \"type\": \"carpet\"}], \"choropleth\": [{\"colorbar\": {\"outlinewidth\": 0, \"ticks\": \"\"}, \"type\": \"choropleth\"}], \"contour\": [{\"colorbar\": {\"outlinewidth\": 0, \"ticks\": \"\"}, \"colorscale\": [[0.0, \"#0d0887\"], [0.1111111111111111, \"#46039f\"], [0.2222222222222222, \"#7201a8\"], [0.3333333333333333, \"#9c179e\"], [0.4444444444444444, \"#bd3786\"], [0.5555555555555556, \"#d8576b\"], [0.6666666666666666, \"#ed7953\"], [0.7777777777777778, \"#fb9f3a\"], [0.8888888888888888, \"#fdca26\"], [1.0, \"#f0f921\"]], \"type\": \"contour\"}], \"contourcarpet\": [{\"colorbar\": {\"outlinewidth\": 0, \"ticks\": \"\"}, \"type\": \"contourcarpet\"}], \"heatmap\": [{\"colorbar\": {\"outlinewidth\": 0, \"ticks\": \"\"}, \"colorscale\": [[0.0, \"#0d0887\"], [0.1111111111111111, \"#46039f\"], [0.2222222222222222, \"#7201a8\"], [0.3333333333333333, \"#9c179e\"], [0.4444444444444444, \"#bd3786\"], [0.5555555555555556, \"#d8576b\"], [0.6666666666666666, \"#ed7953\"], [0.7777777777777778, \"#fb9f3a\"], [0.8888888888888888, \"#fdca26\"], [1.0, \"#f0f921\"]], \"type\": \"heatmap\"}], \"heatmapgl\": [{\"colorbar\": {\"outlinewidth\": 0, \"ticks\": \"\"}, \"colorscale\": [[0.0, \"#0d0887\"], [0.1111111111111111, \"#46039f\"], [0.2222222222222222, \"#7201a8\"], [0.3333333333333333, \"#9c179e\"], [0.4444444444444444, \"#bd3786\"], [0.5555555555555556, \"#d8576b\"], [0.6666666666666666, \"#ed7953\"], [0.7777777777777778, \"#fb9f3a\"], [0.8888888888888888, \"#fdca26\"], [1.0, \"#f0f921\"]], \"type\": \"heatmapgl\"}], \"histogram\": [{\"marker\": {\"colorbar\": {\"outlinewidth\": 0, \"ticks\": \"\"}}, \"type\": \"histogram\"}], \"histogram2d\": [{\"colorbar\": {\"outlinewidth\": 0, \"ticks\": \"\"}, \"colorscale\": [[0.0, \"#0d0887\"], [0.1111111111111111, \"#46039f\"], [0.2222222222222222, \"#7201a8\"], [0.3333333333333333, \"#9c179e\"], [0.4444444444444444, \"#bd3786\"], [0.5555555555555556, \"#d8576b\"], [0.6666666666666666, \"#ed7953\"], [0.7777777777777778, \"#fb9f3a\"], [0.8888888888888888, \"#fdca26\"], [1.0, \"#f0f921\"]], \"type\": \"histogram2d\"}], \"histogram2dcontour\": [{\"colorbar\": {\"outlinewidth\": 0, \"ticks\": \"\"}, \"colorscale\": [[0.0, \"#0d0887\"], [0.1111111111111111, \"#46039f\"], [0.2222222222222222, \"#7201a8\"], [0.3333333333333333, \"#9c179e\"], [0.4444444444444444, \"#bd3786\"], [0.5555555555555556, \"#d8576b\"], [0.6666666666666666, \"#ed7953\"], [0.7777777777777778, \"#fb9f3a\"], [0.8888888888888888, \"#fdca26\"], [1.0, \"#f0f921\"]], \"type\": \"histogram2dcontour\"}], \"mesh3d\": [{\"colorbar\": {\"outlinewidth\": 0, \"ticks\": \"\"}, \"type\": \"mesh3d\"}], \"parcoords\": [{\"line\": {\"colorbar\": {\"outlinewidth\": 0, \"ticks\": \"\"}}, \"type\": \"parcoords\"}], \"scatter\": [{\"marker\": {\"colorbar\": {\"outlinewidth\": 0, \"ticks\": \"\"}}, \"type\": \"scatter\"}], \"scatter3d\": [{\"line\": {\"colorbar\": {\"outlinewidth\": 0, \"ticks\": \"\"}}, \"marker\": {\"colorbar\": {\"outlinewidth\": 0, \"ticks\": \"\"}}, \"type\": \"scatter3d\"}], \"scattercarpet\": [{\"marker\": {\"colorbar\": {\"outlinewidth\": 0, \"ticks\": \"\"}}, \"type\": \"scattercarpet\"}], \"scattergeo\": [{\"marker\": {\"colorbar\": {\"outlinewidth\": 0, \"ticks\": \"\"}}, \"type\": \"scattergeo\"}], \"scattergl\": [{\"marker\": {\"colorbar\": {\"outlinewidth\": 0, \"ticks\": \"\"}}, \"type\": \"scattergl\"}], \"scattermapbox\": [{\"marker\": {\"colorbar\": {\"outlinewidth\": 0, \"ticks\": \"\"}}, \"type\": \"scattermapbox\"}], \"scatterpolar\": [{\"marker\": {\"colorbar\": {\"outlinewidth\": 0, \"ticks\": \"\"}}, \"type\": \"scatterpolar\"}], \"scatterpolargl\": [{\"marker\": {\"colorbar\": {\"outlinewidth\": 0, \"ticks\": \"\"}}, \"type\": \"scatterpolargl\"}], \"scatterternary\": [{\"marker\": {\"colorbar\": {\"outlinewidth\": 0, \"ticks\": \"\"}}, \"type\": \"scatterternary\"}], \"surface\": [{\"colorbar\": {\"outlinewidth\": 0, \"ticks\": \"\"}, \"colorscale\": [[0.0, \"#0d0887\"], [0.1111111111111111, \"#46039f\"], [0.2222222222222222, \"#7201a8\"], [0.3333333333333333, \"#9c179e\"], [0.4444444444444444, \"#bd3786\"], [0.5555555555555556, \"#d8576b\"], [0.6666666666666666, \"#ed7953\"], [0.7777777777777778, \"#fb9f3a\"], [0.8888888888888888, \"#fdca26\"], [1.0, \"#f0f921\"]], \"type\": \"surface\"}], \"table\": [{\"cells\": {\"fill\": {\"color\": \"#EBF0F8\"}, \"line\": {\"color\": \"white\"}}, \"header\": {\"fill\": {\"color\": \"#C8D4E3\"}, \"line\": {\"color\": \"white\"}}, \"type\": \"table\"}]}, \"layout\": {\"annotationdefaults\": {\"arrowcolor\": \"#2a3f5f\", \"arrowhead\": 0, \"arrowwidth\": 1}, \"colorscale\": {\"diverging\": [[0, \"#8e0152\"], [0.1, \"#c51b7d\"], [0.2, \"#de77ae\"], [0.3, \"#f1b6da\"], [0.4, \"#fde0ef\"], [0.5, \"#f7f7f7\"], [0.6, \"#e6f5d0\"], [0.7, \"#b8e186\"], [0.8, \"#7fbc41\"], [0.9, \"#4d9221\"], [1, \"#276419\"]], \"sequential\": [[0.0, \"#0d0887\"], [0.1111111111111111, \"#46039f\"], [0.2222222222222222, \"#7201a8\"], [0.3333333333333333, \"#9c179e\"], [0.4444444444444444, \"#bd3786\"], [0.5555555555555556, \"#d8576b\"], [0.6666666666666666, \"#ed7953\"], [0.7777777777777778, \"#fb9f3a\"], [0.8888888888888888, \"#fdca26\"], [1.0, \"#f0f921\"]], \"sequentialminus\": [[0.0, \"#0d0887\"], [0.1111111111111111, \"#46039f\"], [0.2222222222222222, \"#7201a8\"], [0.3333333333333333, \"#9c179e\"], [0.4444444444444444, \"#bd3786\"], [0.5555555555555556, \"#d8576b\"], [0.6666666666666666, \"#ed7953\"], [0.7777777777777778, \"#fb9f3a\"], [0.8888888888888888, \"#fdca26\"], [1.0, \"#f0f921\"]]}, \"colorway\": [\"#636efa\", \"#EF553B\", \"#00cc96\", \"#ab63fa\", \"#FFA15A\", \"#19d3f3\", \"#FF6692\", \"#B6E880\", \"#FF97FF\", \"#FECB52\"], \"font\": {\"color\": \"#2a3f5f\"}, \"geo\": {\"bgcolor\": \"white\", \"lakecolor\": \"white\", \"landcolor\": \"#E5ECF6\", \"showlakes\": true, \"showland\": true, \"subunitcolor\": \"white\"}, \"hoverlabel\": {\"align\": \"left\"}, \"hovermode\": \"closest\", \"mapbox\": {\"style\": \"light\"}, \"paper_bgcolor\": \"white\", \"plot_bgcolor\": \"#E5ECF6\", \"polar\": {\"angularaxis\": {\"gridcolor\": \"white\", \"linecolor\": \"white\", \"ticks\": \"\"}, \"bgcolor\": \"#E5ECF6\", \"radialaxis\": {\"gridcolor\": \"white\", \"linecolor\": \"white\", \"ticks\": \"\"}}, \"scene\": {\"xaxis\": {\"backgroundcolor\": \"#E5ECF6\", \"gridcolor\": \"white\", \"gridwidth\": 2, \"linecolor\": \"white\", \"showbackground\": true, \"ticks\": \"\", \"zerolinecolor\": \"white\"}, \"yaxis\": {\"backgroundcolor\": \"#E5ECF6\", \"gridcolor\": \"white\", \"gridwidth\": 2, \"linecolor\": \"white\", \"showbackground\": true, \"ticks\": \"\", \"zerolinecolor\": \"white\"}, \"zaxis\": {\"backgroundcolor\": \"#E5ECF6\", \"gridcolor\": \"white\", \"gridwidth\": 2, \"linecolor\": \"white\", \"showbackground\": true, \"ticks\": \"\", \"zerolinecolor\": \"white\"}}, \"shapedefaults\": {\"line\": {\"color\": \"#2a3f5f\"}}, \"ternary\": {\"aaxis\": {\"gridcolor\": \"white\", \"linecolor\": \"white\", \"ticks\": \"\"}, \"baxis\": {\"gridcolor\": \"white\", \"linecolor\": \"white\", \"ticks\": \"\"}, \"bgcolor\": \"#E5ECF6\", \"caxis\": {\"gridcolor\": \"white\", \"linecolor\": \"white\", \"ticks\": \"\"}}, \"title\": {\"x\": 0.05}, \"xaxis\": {\"automargin\": true, \"gridcolor\": \"white\", \"linecolor\": \"white\", \"ticks\": \"\", \"zerolinecolor\": \"white\", \"zerolinewidth\": 2}, \"yaxis\": {\"automargin\": true, \"gridcolor\": \"white\", \"linecolor\": \"white\", \"ticks\": \"\", \"zerolinecolor\": \"white\", \"zerolinewidth\": 2}}}, \"title\": {\"font\": {\"color\": \"#4D5663\"}}, \"xaxis\": {\"gridcolor\": \"#E1E5ED\", \"showgrid\": true, \"tickfont\": {\"color\": \"#4D5663\"}, \"title\": {\"font\": {\"color\": \"#4D5663\"}, \"text\": \"\"}, \"zerolinecolor\": \"#E1E5ED\"}, \"yaxis\": {\"gridcolor\": \"#E1E5ED\", \"showgrid\": true, \"tickfont\": {\"color\": \"#4D5663\"}, \"title\": {\"font\": {\"color\": \"#4D5663\"}, \"text\": \"\"}, \"zerolinecolor\": \"#E1E5ED\"}},\n",
       "                        {\"showLink\": true, \"linkText\": \"Export to plot.ly\", \"plotlyServerURL\": \"https://plot.ly\", \"responsive\": true}\n",
       "                    ).then(function(){\n",
       "                            \n",
       "var gd = document.getElementById('f3ab50f5-e75d-4ffc-9ea7-353178a54c77');\n",
       "var x = new MutationObserver(function (mutations, observer) {{\n",
       "        var display = window.getComputedStyle(gd).display;\n",
       "        if (!display || display === 'none') {{\n",
       "            console.log([gd, 'removed!']);\n",
       "            Plotly.purge(gd);\n",
       "            observer.disconnect();\n",
       "        }}\n",
       "}});\n",
       "\n",
       "// Listen for the removal of the full notebook cells\n",
       "var notebookContainer = gd.closest('#notebook-container');\n",
       "if (notebookContainer) {{\n",
       "    x.observe(notebookContainer, {childList: true});\n",
       "}}\n",
       "\n",
       "// Listen for the clearing of the current output cell\n",
       "var outputEl = gd.closest('.output');\n",
       "if (outputEl) {{\n",
       "    x.observe(outputEl, {childList: true});\n",
       "}}\n",
       "\n",
       "                        })\n",
       "                };\n",
       "                });\n",
       "            </script>\n",
       "        </div>"
      ]
     },
     "metadata": {},
     "output_type": "display_data"
    }
   ],
   "source": [
    "## Ex.2 Barplot \n",
    "\n",
    "df2.iplot(kind = 'bar', x = 'Category', y = 'Values')"
   ]
  },
  {
   "cell_type": "code",
   "execution_count": 16,
   "metadata": {},
   "outputs": [
    {
     "data": {
      "application/vnd.plotly.v1+json": {
       "config": {
        "linkText": "Export to plot.ly",
        "plotlyServerURL": "https://plot.ly",
        "showLink": true
       },
       "data": [
        {
         "marker": {
          "color": "rgba(255, 153, 51, 0.6)",
          "line": {
           "color": "rgba(255, 153, 51, 1.0)",
           "width": 1
          }
         },
         "name": "None",
         "orientation": "v",
         "text": "",
         "type": "bar",
         "x": [
          "A",
          "B",
          "C",
          "D"
         ],
         "y": [
          -5.710081330456061,
          5.2420723870379184,
          -1.6202145402008346,
          8.317086480829802
         ]
        }
       ],
       "layout": {
        "legend": {
         "bgcolor": "#F5F6F9",
         "font": {
          "color": "#4D5663"
         }
        },
        "paper_bgcolor": "#F5F6F9",
        "plot_bgcolor": "#F5F6F9",
        "template": {
         "data": {
          "bar": [
           {
            "error_x": {
             "color": "#2a3f5f"
            },
            "error_y": {
             "color": "#2a3f5f"
            },
            "marker": {
             "line": {
              "color": "#E5ECF6",
              "width": 0.5
             }
            },
            "type": "bar"
           }
          ],
          "barpolar": [
           {
            "marker": {
             "line": {
              "color": "#E5ECF6",
              "width": 0.5
             }
            },
            "type": "barpolar"
           }
          ],
          "carpet": [
           {
            "aaxis": {
             "endlinecolor": "#2a3f5f",
             "gridcolor": "white",
             "linecolor": "white",
             "minorgridcolor": "white",
             "startlinecolor": "#2a3f5f"
            },
            "baxis": {
             "endlinecolor": "#2a3f5f",
             "gridcolor": "white",
             "linecolor": "white",
             "minorgridcolor": "white",
             "startlinecolor": "#2a3f5f"
            },
            "type": "carpet"
           }
          ],
          "choropleth": [
           {
            "colorbar": {
             "outlinewidth": 0,
             "ticks": ""
            },
            "type": "choropleth"
           }
          ],
          "contour": [
           {
            "colorbar": {
             "outlinewidth": 0,
             "ticks": ""
            },
            "colorscale": [
             [
              0,
              "#0d0887"
             ],
             [
              0.1111111111111111,
              "#46039f"
             ],
             [
              0.2222222222222222,
              "#7201a8"
             ],
             [
              0.3333333333333333,
              "#9c179e"
             ],
             [
              0.4444444444444444,
              "#bd3786"
             ],
             [
              0.5555555555555556,
              "#d8576b"
             ],
             [
              0.6666666666666666,
              "#ed7953"
             ],
             [
              0.7777777777777778,
              "#fb9f3a"
             ],
             [
              0.8888888888888888,
              "#fdca26"
             ],
             [
              1,
              "#f0f921"
             ]
            ],
            "type": "contour"
           }
          ],
          "contourcarpet": [
           {
            "colorbar": {
             "outlinewidth": 0,
             "ticks": ""
            },
            "type": "contourcarpet"
           }
          ],
          "heatmap": [
           {
            "colorbar": {
             "outlinewidth": 0,
             "ticks": ""
            },
            "colorscale": [
             [
              0,
              "#0d0887"
             ],
             [
              0.1111111111111111,
              "#46039f"
             ],
             [
              0.2222222222222222,
              "#7201a8"
             ],
             [
              0.3333333333333333,
              "#9c179e"
             ],
             [
              0.4444444444444444,
              "#bd3786"
             ],
             [
              0.5555555555555556,
              "#d8576b"
             ],
             [
              0.6666666666666666,
              "#ed7953"
             ],
             [
              0.7777777777777778,
              "#fb9f3a"
             ],
             [
              0.8888888888888888,
              "#fdca26"
             ],
             [
              1,
              "#f0f921"
             ]
            ],
            "type": "heatmap"
           }
          ],
          "heatmapgl": [
           {
            "colorbar": {
             "outlinewidth": 0,
             "ticks": ""
            },
            "colorscale": [
             [
              0,
              "#0d0887"
             ],
             [
              0.1111111111111111,
              "#46039f"
             ],
             [
              0.2222222222222222,
              "#7201a8"
             ],
             [
              0.3333333333333333,
              "#9c179e"
             ],
             [
              0.4444444444444444,
              "#bd3786"
             ],
             [
              0.5555555555555556,
              "#d8576b"
             ],
             [
              0.6666666666666666,
              "#ed7953"
             ],
             [
              0.7777777777777778,
              "#fb9f3a"
             ],
             [
              0.8888888888888888,
              "#fdca26"
             ],
             [
              1,
              "#f0f921"
             ]
            ],
            "type": "heatmapgl"
           }
          ],
          "histogram": [
           {
            "marker": {
             "colorbar": {
              "outlinewidth": 0,
              "ticks": ""
             }
            },
            "type": "histogram"
           }
          ],
          "histogram2d": [
           {
            "colorbar": {
             "outlinewidth": 0,
             "ticks": ""
            },
            "colorscale": [
             [
              0,
              "#0d0887"
             ],
             [
              0.1111111111111111,
              "#46039f"
             ],
             [
              0.2222222222222222,
              "#7201a8"
             ],
             [
              0.3333333333333333,
              "#9c179e"
             ],
             [
              0.4444444444444444,
              "#bd3786"
             ],
             [
              0.5555555555555556,
              "#d8576b"
             ],
             [
              0.6666666666666666,
              "#ed7953"
             ],
             [
              0.7777777777777778,
              "#fb9f3a"
             ],
             [
              0.8888888888888888,
              "#fdca26"
             ],
             [
              1,
              "#f0f921"
             ]
            ],
            "type": "histogram2d"
           }
          ],
          "histogram2dcontour": [
           {
            "colorbar": {
             "outlinewidth": 0,
             "ticks": ""
            },
            "colorscale": [
             [
              0,
              "#0d0887"
             ],
             [
              0.1111111111111111,
              "#46039f"
             ],
             [
              0.2222222222222222,
              "#7201a8"
             ],
             [
              0.3333333333333333,
              "#9c179e"
             ],
             [
              0.4444444444444444,
              "#bd3786"
             ],
             [
              0.5555555555555556,
              "#d8576b"
             ],
             [
              0.6666666666666666,
              "#ed7953"
             ],
             [
              0.7777777777777778,
              "#fb9f3a"
             ],
             [
              0.8888888888888888,
              "#fdca26"
             ],
             [
              1,
              "#f0f921"
             ]
            ],
            "type": "histogram2dcontour"
           }
          ],
          "mesh3d": [
           {
            "colorbar": {
             "outlinewidth": 0,
             "ticks": ""
            },
            "type": "mesh3d"
           }
          ],
          "parcoords": [
           {
            "line": {
             "colorbar": {
              "outlinewidth": 0,
              "ticks": ""
             }
            },
            "type": "parcoords"
           }
          ],
          "scatter": [
           {
            "marker": {
             "colorbar": {
              "outlinewidth": 0,
              "ticks": ""
             }
            },
            "type": "scatter"
           }
          ],
          "scatter3d": [
           {
            "line": {
             "colorbar": {
              "outlinewidth": 0,
              "ticks": ""
             }
            },
            "marker": {
             "colorbar": {
              "outlinewidth": 0,
              "ticks": ""
             }
            },
            "type": "scatter3d"
           }
          ],
          "scattercarpet": [
           {
            "marker": {
             "colorbar": {
              "outlinewidth": 0,
              "ticks": ""
             }
            },
            "type": "scattercarpet"
           }
          ],
          "scattergeo": [
           {
            "marker": {
             "colorbar": {
              "outlinewidth": 0,
              "ticks": ""
             }
            },
            "type": "scattergeo"
           }
          ],
          "scattergl": [
           {
            "marker": {
             "colorbar": {
              "outlinewidth": 0,
              "ticks": ""
             }
            },
            "type": "scattergl"
           }
          ],
          "scattermapbox": [
           {
            "marker": {
             "colorbar": {
              "outlinewidth": 0,
              "ticks": ""
             }
            },
            "type": "scattermapbox"
           }
          ],
          "scatterpolar": [
           {
            "marker": {
             "colorbar": {
              "outlinewidth": 0,
              "ticks": ""
             }
            },
            "type": "scatterpolar"
           }
          ],
          "scatterpolargl": [
           {
            "marker": {
             "colorbar": {
              "outlinewidth": 0,
              "ticks": ""
             }
            },
            "type": "scatterpolargl"
           }
          ],
          "scatterternary": [
           {
            "marker": {
             "colorbar": {
              "outlinewidth": 0,
              "ticks": ""
             }
            },
            "type": "scatterternary"
           }
          ],
          "surface": [
           {
            "colorbar": {
             "outlinewidth": 0,
             "ticks": ""
            },
            "colorscale": [
             [
              0,
              "#0d0887"
             ],
             [
              0.1111111111111111,
              "#46039f"
             ],
             [
              0.2222222222222222,
              "#7201a8"
             ],
             [
              0.3333333333333333,
              "#9c179e"
             ],
             [
              0.4444444444444444,
              "#bd3786"
             ],
             [
              0.5555555555555556,
              "#d8576b"
             ],
             [
              0.6666666666666666,
              "#ed7953"
             ],
             [
              0.7777777777777778,
              "#fb9f3a"
             ],
             [
              0.8888888888888888,
              "#fdca26"
             ],
             [
              1,
              "#f0f921"
             ]
            ],
            "type": "surface"
           }
          ],
          "table": [
           {
            "cells": {
             "fill": {
              "color": "#EBF0F8"
             },
             "line": {
              "color": "white"
             }
            },
            "header": {
             "fill": {
              "color": "#C8D4E3"
             },
             "line": {
              "color": "white"
             }
            },
            "type": "table"
           }
          ]
         },
         "layout": {
          "annotationdefaults": {
           "arrowcolor": "#2a3f5f",
           "arrowhead": 0,
           "arrowwidth": 1
          },
          "colorscale": {
           "diverging": [
            [
             0,
             "#8e0152"
            ],
            [
             0.1,
             "#c51b7d"
            ],
            [
             0.2,
             "#de77ae"
            ],
            [
             0.3,
             "#f1b6da"
            ],
            [
             0.4,
             "#fde0ef"
            ],
            [
             0.5,
             "#f7f7f7"
            ],
            [
             0.6,
             "#e6f5d0"
            ],
            [
             0.7,
             "#b8e186"
            ],
            [
             0.8,
             "#7fbc41"
            ],
            [
             0.9,
             "#4d9221"
            ],
            [
             1,
             "#276419"
            ]
           ],
           "sequential": [
            [
             0,
             "#0d0887"
            ],
            [
             0.1111111111111111,
             "#46039f"
            ],
            [
             0.2222222222222222,
             "#7201a8"
            ],
            [
             0.3333333333333333,
             "#9c179e"
            ],
            [
             0.4444444444444444,
             "#bd3786"
            ],
            [
             0.5555555555555556,
             "#d8576b"
            ],
            [
             0.6666666666666666,
             "#ed7953"
            ],
            [
             0.7777777777777778,
             "#fb9f3a"
            ],
            [
             0.8888888888888888,
             "#fdca26"
            ],
            [
             1,
             "#f0f921"
            ]
           ],
           "sequentialminus": [
            [
             0,
             "#0d0887"
            ],
            [
             0.1111111111111111,
             "#46039f"
            ],
            [
             0.2222222222222222,
             "#7201a8"
            ],
            [
             0.3333333333333333,
             "#9c179e"
            ],
            [
             0.4444444444444444,
             "#bd3786"
            ],
            [
             0.5555555555555556,
             "#d8576b"
            ],
            [
             0.6666666666666666,
             "#ed7953"
            ],
            [
             0.7777777777777778,
             "#fb9f3a"
            ],
            [
             0.8888888888888888,
             "#fdca26"
            ],
            [
             1,
             "#f0f921"
            ]
           ]
          },
          "colorway": [
           "#636efa",
           "#EF553B",
           "#00cc96",
           "#ab63fa",
           "#FFA15A",
           "#19d3f3",
           "#FF6692",
           "#B6E880",
           "#FF97FF",
           "#FECB52"
          ],
          "font": {
           "color": "#2a3f5f"
          },
          "geo": {
           "bgcolor": "white",
           "lakecolor": "white",
           "landcolor": "#E5ECF6",
           "showlakes": true,
           "showland": true,
           "subunitcolor": "white"
          },
          "hoverlabel": {
           "align": "left"
          },
          "hovermode": "closest",
          "mapbox": {
           "style": "light"
          },
          "paper_bgcolor": "white",
          "plot_bgcolor": "#E5ECF6",
          "polar": {
           "angularaxis": {
            "gridcolor": "white",
            "linecolor": "white",
            "ticks": ""
           },
           "bgcolor": "#E5ECF6",
           "radialaxis": {
            "gridcolor": "white",
            "linecolor": "white",
            "ticks": ""
           }
          },
          "scene": {
           "xaxis": {
            "backgroundcolor": "#E5ECF6",
            "gridcolor": "white",
            "gridwidth": 2,
            "linecolor": "white",
            "showbackground": true,
            "ticks": "",
            "zerolinecolor": "white"
           },
           "yaxis": {
            "backgroundcolor": "#E5ECF6",
            "gridcolor": "white",
            "gridwidth": 2,
            "linecolor": "white",
            "showbackground": true,
            "ticks": "",
            "zerolinecolor": "white"
           },
           "zaxis": {
            "backgroundcolor": "#E5ECF6",
            "gridcolor": "white",
            "gridwidth": 2,
            "linecolor": "white",
            "showbackground": true,
            "ticks": "",
            "zerolinecolor": "white"
           }
          },
          "shapedefaults": {
           "line": {
            "color": "#2a3f5f"
           }
          },
          "ternary": {
           "aaxis": {
            "gridcolor": "white",
            "linecolor": "white",
            "ticks": ""
           },
           "baxis": {
            "gridcolor": "white",
            "linecolor": "white",
            "ticks": ""
           },
           "bgcolor": "#E5ECF6",
           "caxis": {
            "gridcolor": "white",
            "linecolor": "white",
            "ticks": ""
           }
          },
          "title": {
           "x": 0.05
          },
          "xaxis": {
           "automargin": true,
           "gridcolor": "white",
           "linecolor": "white",
           "ticks": "",
           "zerolinecolor": "white",
           "zerolinewidth": 2
          },
          "yaxis": {
           "automargin": true,
           "gridcolor": "white",
           "linecolor": "white",
           "ticks": "",
           "zerolinecolor": "white",
           "zerolinewidth": 2
          }
         }
        },
        "title": {
         "font": {
          "color": "#4D5663"
         }
        },
        "xaxis": {
         "gridcolor": "#E1E5ED",
         "showgrid": true,
         "tickfont": {
          "color": "#4D5663"
         },
         "title": {
          "font": {
           "color": "#4D5663"
          },
          "text": ""
         },
         "zerolinecolor": "#E1E5ED"
        },
        "yaxis": {
         "gridcolor": "#E1E5ED",
         "showgrid": true,
         "tickfont": {
          "color": "#4D5663"
         },
         "title": {
          "font": {
           "color": "#4D5663"
          },
          "text": ""
         },
         "zerolinecolor": "#E1E5ED"
        }
       }
      },
      "text/html": [
       "<div>\n",
       "        \n",
       "        \n",
       "            <div id=\"845f7e64-6be4-4064-bc9d-0c194b028b08\" class=\"plotly-graph-div\" style=\"height:525px; width:100%;\"></div>\n",
       "            <script type=\"text/javascript\">\n",
       "                require([\"plotly\"], function(Plotly) {\n",
       "                    window.PLOTLYENV=window.PLOTLYENV || {};\n",
       "                    window.PLOTLYENV.BASE_URL='https://plot.ly';\n",
       "                    \n",
       "                if (document.getElementById(\"845f7e64-6be4-4064-bc9d-0c194b028b08\")) {\n",
       "                    Plotly.newPlot(\n",
       "                        '845f7e64-6be4-4064-bc9d-0c194b028b08',\n",
       "                        [{\"marker\": {\"color\": \"rgba(255, 153, 51, 0.6)\", \"line\": {\"color\": \"rgba(255, 153, 51, 1.0)\", \"width\": 1}}, \"name\": \"None\", \"orientation\": \"v\", \"text\": \"\", \"type\": \"bar\", \"x\": [\"A\", \"B\", \"C\", \"D\"], \"y\": [-5.710081330456061, 5.2420723870379184, -1.6202145402008346, 8.317086480829802]}],\n",
       "                        {\"legend\": {\"bgcolor\": \"#F5F6F9\", \"font\": {\"color\": \"#4D5663\"}}, \"paper_bgcolor\": \"#F5F6F9\", \"plot_bgcolor\": \"#F5F6F9\", \"template\": {\"data\": {\"bar\": [{\"error_x\": {\"color\": \"#2a3f5f\"}, \"error_y\": {\"color\": \"#2a3f5f\"}, \"marker\": {\"line\": {\"color\": \"#E5ECF6\", \"width\": 0.5}}, \"type\": \"bar\"}], \"barpolar\": [{\"marker\": {\"line\": {\"color\": \"#E5ECF6\", \"width\": 0.5}}, \"type\": \"barpolar\"}], \"carpet\": [{\"aaxis\": {\"endlinecolor\": \"#2a3f5f\", \"gridcolor\": \"white\", \"linecolor\": \"white\", \"minorgridcolor\": \"white\", \"startlinecolor\": \"#2a3f5f\"}, \"baxis\": {\"endlinecolor\": \"#2a3f5f\", \"gridcolor\": \"white\", \"linecolor\": \"white\", \"minorgridcolor\": \"white\", \"startlinecolor\": \"#2a3f5f\"}, \"type\": \"carpet\"}], \"choropleth\": [{\"colorbar\": {\"outlinewidth\": 0, \"ticks\": \"\"}, \"type\": \"choropleth\"}], \"contour\": [{\"colorbar\": {\"outlinewidth\": 0, \"ticks\": \"\"}, \"colorscale\": [[0.0, \"#0d0887\"], [0.1111111111111111, \"#46039f\"], [0.2222222222222222, \"#7201a8\"], [0.3333333333333333, \"#9c179e\"], [0.4444444444444444, \"#bd3786\"], [0.5555555555555556, \"#d8576b\"], [0.6666666666666666, \"#ed7953\"], [0.7777777777777778, \"#fb9f3a\"], [0.8888888888888888, \"#fdca26\"], [1.0, \"#f0f921\"]], \"type\": \"contour\"}], \"contourcarpet\": [{\"colorbar\": {\"outlinewidth\": 0, \"ticks\": \"\"}, \"type\": \"contourcarpet\"}], \"heatmap\": [{\"colorbar\": {\"outlinewidth\": 0, \"ticks\": \"\"}, \"colorscale\": [[0.0, \"#0d0887\"], [0.1111111111111111, \"#46039f\"], [0.2222222222222222, \"#7201a8\"], [0.3333333333333333, \"#9c179e\"], [0.4444444444444444, \"#bd3786\"], [0.5555555555555556, \"#d8576b\"], [0.6666666666666666, \"#ed7953\"], [0.7777777777777778, \"#fb9f3a\"], [0.8888888888888888, \"#fdca26\"], [1.0, \"#f0f921\"]], \"type\": \"heatmap\"}], \"heatmapgl\": [{\"colorbar\": {\"outlinewidth\": 0, \"ticks\": \"\"}, \"colorscale\": [[0.0, \"#0d0887\"], [0.1111111111111111, \"#46039f\"], [0.2222222222222222, \"#7201a8\"], [0.3333333333333333, \"#9c179e\"], [0.4444444444444444, \"#bd3786\"], [0.5555555555555556, \"#d8576b\"], [0.6666666666666666, \"#ed7953\"], [0.7777777777777778, \"#fb9f3a\"], [0.8888888888888888, \"#fdca26\"], [1.0, \"#f0f921\"]], \"type\": \"heatmapgl\"}], \"histogram\": [{\"marker\": {\"colorbar\": {\"outlinewidth\": 0, \"ticks\": \"\"}}, \"type\": \"histogram\"}], \"histogram2d\": [{\"colorbar\": {\"outlinewidth\": 0, \"ticks\": \"\"}, \"colorscale\": [[0.0, \"#0d0887\"], [0.1111111111111111, \"#46039f\"], [0.2222222222222222, \"#7201a8\"], [0.3333333333333333, \"#9c179e\"], [0.4444444444444444, \"#bd3786\"], [0.5555555555555556, \"#d8576b\"], [0.6666666666666666, \"#ed7953\"], [0.7777777777777778, \"#fb9f3a\"], [0.8888888888888888, \"#fdca26\"], [1.0, \"#f0f921\"]], \"type\": \"histogram2d\"}], \"histogram2dcontour\": [{\"colorbar\": {\"outlinewidth\": 0, \"ticks\": \"\"}, \"colorscale\": [[0.0, \"#0d0887\"], [0.1111111111111111, \"#46039f\"], [0.2222222222222222, \"#7201a8\"], [0.3333333333333333, \"#9c179e\"], [0.4444444444444444, \"#bd3786\"], [0.5555555555555556, \"#d8576b\"], [0.6666666666666666, \"#ed7953\"], [0.7777777777777778, \"#fb9f3a\"], [0.8888888888888888, \"#fdca26\"], [1.0, \"#f0f921\"]], \"type\": \"histogram2dcontour\"}], \"mesh3d\": [{\"colorbar\": {\"outlinewidth\": 0, \"ticks\": \"\"}, \"type\": \"mesh3d\"}], \"parcoords\": [{\"line\": {\"colorbar\": {\"outlinewidth\": 0, \"ticks\": \"\"}}, \"type\": \"parcoords\"}], \"scatter\": [{\"marker\": {\"colorbar\": {\"outlinewidth\": 0, \"ticks\": \"\"}}, \"type\": \"scatter\"}], \"scatter3d\": [{\"line\": {\"colorbar\": {\"outlinewidth\": 0, \"ticks\": \"\"}}, \"marker\": {\"colorbar\": {\"outlinewidth\": 0, \"ticks\": \"\"}}, \"type\": \"scatter3d\"}], \"scattercarpet\": [{\"marker\": {\"colorbar\": {\"outlinewidth\": 0, \"ticks\": \"\"}}, \"type\": \"scattercarpet\"}], \"scattergeo\": [{\"marker\": {\"colorbar\": {\"outlinewidth\": 0, \"ticks\": \"\"}}, \"type\": \"scattergeo\"}], \"scattergl\": [{\"marker\": {\"colorbar\": {\"outlinewidth\": 0, \"ticks\": \"\"}}, \"type\": \"scattergl\"}], \"scattermapbox\": [{\"marker\": {\"colorbar\": {\"outlinewidth\": 0, \"ticks\": \"\"}}, \"type\": \"scattermapbox\"}], \"scatterpolar\": [{\"marker\": {\"colorbar\": {\"outlinewidth\": 0, \"ticks\": \"\"}}, \"type\": \"scatterpolar\"}], \"scatterpolargl\": [{\"marker\": {\"colorbar\": {\"outlinewidth\": 0, \"ticks\": \"\"}}, \"type\": \"scatterpolargl\"}], \"scatterternary\": [{\"marker\": {\"colorbar\": {\"outlinewidth\": 0, \"ticks\": \"\"}}, \"type\": \"scatterternary\"}], \"surface\": [{\"colorbar\": {\"outlinewidth\": 0, \"ticks\": \"\"}, \"colorscale\": [[0.0, \"#0d0887\"], [0.1111111111111111, \"#46039f\"], [0.2222222222222222, \"#7201a8\"], [0.3333333333333333, \"#9c179e\"], [0.4444444444444444, \"#bd3786\"], [0.5555555555555556, \"#d8576b\"], [0.6666666666666666, \"#ed7953\"], [0.7777777777777778, \"#fb9f3a\"], [0.8888888888888888, \"#fdca26\"], [1.0, \"#f0f921\"]], \"type\": \"surface\"}], \"table\": [{\"cells\": {\"fill\": {\"color\": \"#EBF0F8\"}, \"line\": {\"color\": \"white\"}}, \"header\": {\"fill\": {\"color\": \"#C8D4E3\"}, \"line\": {\"color\": \"white\"}}, \"type\": \"table\"}]}, \"layout\": {\"annotationdefaults\": {\"arrowcolor\": \"#2a3f5f\", \"arrowhead\": 0, \"arrowwidth\": 1}, \"colorscale\": {\"diverging\": [[0, \"#8e0152\"], [0.1, \"#c51b7d\"], [0.2, \"#de77ae\"], [0.3, \"#f1b6da\"], [0.4, \"#fde0ef\"], [0.5, \"#f7f7f7\"], [0.6, \"#e6f5d0\"], [0.7, \"#b8e186\"], [0.8, \"#7fbc41\"], [0.9, \"#4d9221\"], [1, \"#276419\"]], \"sequential\": [[0.0, \"#0d0887\"], [0.1111111111111111, \"#46039f\"], [0.2222222222222222, \"#7201a8\"], [0.3333333333333333, \"#9c179e\"], [0.4444444444444444, \"#bd3786\"], [0.5555555555555556, \"#d8576b\"], [0.6666666666666666, \"#ed7953\"], [0.7777777777777778, \"#fb9f3a\"], [0.8888888888888888, \"#fdca26\"], [1.0, \"#f0f921\"]], \"sequentialminus\": [[0.0, \"#0d0887\"], [0.1111111111111111, \"#46039f\"], [0.2222222222222222, \"#7201a8\"], [0.3333333333333333, \"#9c179e\"], [0.4444444444444444, \"#bd3786\"], [0.5555555555555556, \"#d8576b\"], [0.6666666666666666, \"#ed7953\"], [0.7777777777777778, \"#fb9f3a\"], [0.8888888888888888, \"#fdca26\"], [1.0, \"#f0f921\"]]}, \"colorway\": [\"#636efa\", \"#EF553B\", \"#00cc96\", \"#ab63fa\", \"#FFA15A\", \"#19d3f3\", \"#FF6692\", \"#B6E880\", \"#FF97FF\", \"#FECB52\"], \"font\": {\"color\": \"#2a3f5f\"}, \"geo\": {\"bgcolor\": \"white\", \"lakecolor\": \"white\", \"landcolor\": \"#E5ECF6\", \"showlakes\": true, \"showland\": true, \"subunitcolor\": \"white\"}, \"hoverlabel\": {\"align\": \"left\"}, \"hovermode\": \"closest\", \"mapbox\": {\"style\": \"light\"}, \"paper_bgcolor\": \"white\", \"plot_bgcolor\": \"#E5ECF6\", \"polar\": {\"angularaxis\": {\"gridcolor\": \"white\", \"linecolor\": \"white\", \"ticks\": \"\"}, \"bgcolor\": \"#E5ECF6\", \"radialaxis\": {\"gridcolor\": \"white\", \"linecolor\": \"white\", \"ticks\": \"\"}}, \"scene\": {\"xaxis\": {\"backgroundcolor\": \"#E5ECF6\", \"gridcolor\": \"white\", \"gridwidth\": 2, \"linecolor\": \"white\", \"showbackground\": true, \"ticks\": \"\", \"zerolinecolor\": \"white\"}, \"yaxis\": {\"backgroundcolor\": \"#E5ECF6\", \"gridcolor\": \"white\", \"gridwidth\": 2, \"linecolor\": \"white\", \"showbackground\": true, \"ticks\": \"\", \"zerolinecolor\": \"white\"}, \"zaxis\": {\"backgroundcolor\": \"#E5ECF6\", \"gridcolor\": \"white\", \"gridwidth\": 2, \"linecolor\": \"white\", \"showbackground\": true, \"ticks\": \"\", \"zerolinecolor\": \"white\"}}, \"shapedefaults\": {\"line\": {\"color\": \"#2a3f5f\"}}, \"ternary\": {\"aaxis\": {\"gridcolor\": \"white\", \"linecolor\": \"white\", \"ticks\": \"\"}, \"baxis\": {\"gridcolor\": \"white\", \"linecolor\": \"white\", \"ticks\": \"\"}, \"bgcolor\": \"#E5ECF6\", \"caxis\": {\"gridcolor\": \"white\", \"linecolor\": \"white\", \"ticks\": \"\"}}, \"title\": {\"x\": 0.05}, \"xaxis\": {\"automargin\": true, \"gridcolor\": \"white\", \"linecolor\": \"white\", \"ticks\": \"\", \"zerolinecolor\": \"white\", \"zerolinewidth\": 2}, \"yaxis\": {\"automargin\": true, \"gridcolor\": \"white\", \"linecolor\": \"white\", \"ticks\": \"\", \"zerolinecolor\": \"white\", \"zerolinewidth\": 2}}}, \"title\": {\"font\": {\"color\": \"#4D5663\"}}, \"xaxis\": {\"gridcolor\": \"#E1E5ED\", \"showgrid\": true, \"tickfont\": {\"color\": \"#4D5663\"}, \"title\": {\"font\": {\"color\": \"#4D5663\"}, \"text\": \"\"}, \"zerolinecolor\": \"#E1E5ED\"}, \"yaxis\": {\"gridcolor\": \"#E1E5ED\", \"showgrid\": true, \"tickfont\": {\"color\": \"#4D5663\"}, \"title\": {\"font\": {\"color\": \"#4D5663\"}, \"text\": \"\"}, \"zerolinecolor\": \"#E1E5ED\"}},\n",
       "                        {\"showLink\": true, \"linkText\": \"Export to plot.ly\", \"plotlyServerURL\": \"https://plot.ly\", \"responsive\": true}\n",
       "                    ).then(function(){\n",
       "                            \n",
       "var gd = document.getElementById('845f7e64-6be4-4064-bc9d-0c194b028b08');\n",
       "var x = new MutationObserver(function (mutations, observer) {{\n",
       "        var display = window.getComputedStyle(gd).display;\n",
       "        if (!display || display === 'none') {{\n",
       "            console.log([gd, 'removed!']);\n",
       "            Plotly.purge(gd);\n",
       "            observer.disconnect();\n",
       "        }}\n",
       "}});\n",
       "\n",
       "// Listen for the removal of the full notebook cells\n",
       "var notebookContainer = gd.closest('#notebook-container');\n",
       "if (notebookContainer) {{\n",
       "    x.observe(notebookContainer, {childList: true});\n",
       "}}\n",
       "\n",
       "// Listen for the clearing of the current output cell\n",
       "var outputEl = gd.closest('.output');\n",
       "if (outputEl) {{\n",
       "    x.observe(outputEl, {childList: true});\n",
       "}}\n",
       "\n",
       "                        })\n",
       "                };\n",
       "                });\n",
       "            </script>\n",
       "        </div>"
      ]
     },
     "metadata": {},
     "output_type": "display_data"
    }
   ],
   "source": [
    "### Ex.3 - Sometimes, our data is not going to be conveniently placed -> We can use a groupby + aggregate function \n",
    "##         to obtain a convenient form where it makes sense to use a barplot. \n",
    "\n",
    "df.sum().iplot(kind = 'bar')"
   ]
  },
  {
   "cell_type": "code",
   "execution_count": 17,
   "metadata": {},
   "outputs": [
    {
     "data": {
      "application/vnd.plotly.v1+json": {
       "config": {
        "linkText": "Export to plot.ly",
        "plotlyServerURL": "https://plot.ly",
        "showLink": true
       },
       "data": [
        {
         "boxpoints": false,
         "line": {
          "width": 1.3
         },
         "marker": {
          "color": "rgba(255, 153, 51, 1.0)"
         },
         "name": "A",
         "orientation": "v",
         "type": "box",
         "y": [
          -0.06542778015912247,
          -0.4983315985004792,
          -0.3932665761127589,
          -0.10616396259826238,
          -0.26207506689955234,
          0.7886670736320832,
          -0.14377426502187782,
          -0.15273724910094455,
          -1.1338234021817963,
          0.0009770267116028946,
          -0.7324620416267447,
          0.06043111318599064,
          0.623615648635299,
          -0.9898932119379665,
          -0.45086070577257026,
          -0.830303964658216,
          1.5716630654715504,
          -1.0974693696329356,
          0.4558388327103945,
          1.2170495932316205,
          -0.32981680298429955,
          0.2582423394595888,
          0.4888856866509463,
          -0.6121681967574407,
          -0.5414245020009553,
          2.713140457391276,
          1.7423907028996293,
          0.14142226924657475,
          1.6632119799987835,
          -1.1316432740780005,
          0.3761480797940717,
          -0.5145111245715915,
          0.15963736908855272,
          0.8356735998848508,
          -0.3565600825442002,
          1.157899333248228,
          -0.4096165797423869,
          0.5249195501867103,
          0.5653237593734552,
          1.072675824030473,
          -1.7986968659667908,
          0.09444932233020178,
          0.37476626326860707,
          -0.06564736959465206,
          0.28052433882468464,
          0.7190140964012359,
          -1.5830392770914365,
          0.2644929549909655,
          -1.0006939493489782,
          0.23636146599124183,
          0.39176536250665306,
          1.0010977258940492,
          0.10143316005483165,
          -0.3368213254581548,
          -0.2971587471713649,
          -0.026228244623694424,
          0.6624173371633474,
          -1.7218637928707545,
          -0.5923164125061781,
          -0.34970068099215595,
          -0.12555665412014028,
          -0.16897186432076375,
          0.40905865555379467,
          -0.6632048676391282,
          1.0816531446896442,
          -0.08061085564831709,
          -0.6898727254749667,
          -0.05582287614843459,
          0.019644984580532536,
          -0.24593277126504068,
          0.2647198186254047,
          -2.6985599960128646,
          -0.2857060352657619,
          -0.7059336808840253,
          0.17851344877915792,
          -1.1872112018363015,
          0.356400427218362,
          0.6949620719212402,
          1.7193507242959798,
          0.15045354017786597,
          -0.18479491530568848,
          -1.239764615178371,
          0.09444746482720447,
          -0.45253402974609547,
          1.5240444051796522,
          -0.7166957289144503,
          1.5593468757849867,
          -1.8811576668979677,
          -1.4952705913795905,
          0.23129604965371198,
          -0.008759735894900082,
          0.15443482118378815,
          -1.4297427857966751,
          -0.06765988265773787,
          -0.996787930590609,
          -0.4145939334371296,
          -0.43632955465216916,
          -0.7186990577837588,
          0.5636984699664023,
          0.21842881420586344
         ]
        },
        {
         "boxpoints": false,
         "line": {
          "width": 1.3
         },
         "marker": {
          "color": "rgba(55, 128, 191, 1.0)"
         },
         "name": "B",
         "orientation": "v",
         "type": "box",
         "y": [
          -0.8411370469674633,
          0.8465936719276874,
          -2.0769241221253196,
          -0.6700626862026585,
          -0.5718851695463921,
          -0.09755403761810581,
          -0.44096635857130717,
          -0.19909691093629908,
          1.5488170316881231,
          -0.058357642546699194,
          0.919790098361005,
          0.3594851568227443,
          -0.8769963650114245,
          -0.269976233378358,
          0.24765485950810773,
          0.269321910169165,
          -0.5505010270008414,
          -0.4072869079940033,
          0.3517877394913619,
          -1.524489635082197,
          0.12522454045167053,
          0.9987328546532094,
          -1.3791792776183134,
          0.05423843887016417,
          0.2688011121653173,
          -0.19041155308139934,
          0.10695575141382495,
          1.7095876419986396,
          -1.170502100390321,
          0.9290949508011905,
          -0.1939790752819657,
          -0.9278782561160333,
          -0.38128376570696293,
          1.4196422528454338,
          -0.3327314727625212,
          1.1991026923111583,
          0.34681659229915696,
          -0.6206391541625019,
          0.12742134556200654,
          1.3243431685994702,
          -0.8269302595340654,
          0.37966686811781725,
          -0.10344807908893425,
          -2.0544188879512295,
          -0.7464815409567633,
          -0.7767402402381235,
          -0.6637804281354422,
          1.2517385487669808,
          0.694873957911729,
          -0.06616754426101021,
          0.0826020637563963,
          -0.8335126220950743,
          1.5472354491421703,
          -1.1883781356830807,
          0.6959161155628883,
          1.6809774728363294,
          -0.23254175749586706,
          -1.9896207513535749,
          -0.23331842485528928,
          2.178970408821887,
          1.4573427100091558,
          -0.908432032880107,
          -0.44244867207382027,
          -0.4769298465440546,
          1.3442857447410939,
          0.8937306771278547,
          1.2884460982984527,
          0.25783105542154644,
          -0.5664819169183514,
          -0.18098321446330418,
          0.331616555740629,
          -0.8005687231433739,
          1.0988721156679697,
          0.23696136067638396,
          0.46500651711300106,
          -0.7528153647155813,
          1.3412978052129945,
          -1.0199703145796095,
          0.6413002728832091,
          -0.3193840554624845,
          -0.11664683969933677,
          0.9687749026453907,
          1.3239859553061233,
          -0.1362061691984603,
          1.2241312871811287,
          0.21623446478982422,
          -0.21314367553319472,
          0.720151826365811,
          1.462740448667771,
          -0.3436916812967713,
          0.4324993105508277,
          -1.5619649073250985,
          -2.112441929480903,
          0.06564522053701284,
          -0.28106050711775143,
          -0.07673876751490212,
          0.9800922196622552,
          0.03668337598725406,
          0.22327999074166194,
          0.37285586455157954
         ]
        },
        {
         "boxpoints": false,
         "line": {
          "width": 1.3
         },
         "marker": {
          "color": "rgba(50, 171, 96, 1.0)"
         },
         "name": "C",
         "orientation": "v",
         "type": "box",
         "y": [
          -0.7966720853754534,
          0.6477728052325428,
          0.4831523041440157,
          0.3644435184704144,
          1.7007141482853403,
          0.9692581547170372,
          -1.0325150866471589,
          0.8894145090528843,
          0.026234933397009344,
          -1.4532861300849287,
          0.9996873342754028,
          -3.1540275979967087,
          0.4286746196441421,
          0.21544993442106897,
          0.32815484899890135,
          -0.2557793997881791,
          -0.5510292782435066,
          -0.037864298663310474,
          -0.3001542781668278,
          0.6547112586968563,
          -0.2638110259566244,
          0.04270028556177357,
          0.4588145661267505,
          0.6827466435778821,
          -0.6797951695755131,
          -0.631628789264434,
          1.2686739319914158,
          -0.13697469209737578,
          -0.37601739069121415,
          -0.8836269003850051,
          -1.4608143618016922,
          1.3273721485353875,
          -0.3303442629457333,
          -0.4926836056813009,
          -0.30853302763456075,
          0.12524399651365264,
          -1.0046688429128623,
          1.6056414456082,
          -0.6229691448825764,
          1.4544036889163034,
          -0.17925644736933535,
          0.6457018928601556,
          1.3057340404004254,
          1.0377701562575992,
          0.10067046378193285,
          -0.5193570479240552,
          1.018866169958515,
          -1.0160196153677243,
          0.5337100384623303,
          1.6205355319322285,
          -0.7913727440688946,
          -0.49715952576613726,
          -0.16625713899727948,
          0.11911935123826942,
          -1.0818057514661825,
          0.6097568557060469,
          -1.2965456248093972,
          1.0870876169513466,
          1.0750964186435534,
          0.05160589607207159,
          0.3245215550322822,
          0.5356023888365272,
          -0.4871544420614186,
          0.19487622359893275,
          1.5356466295486764,
          -0.14339976837204832,
          -0.09037003239094622,
          -0.15840485892250952,
          2.256471565398644,
          -0.40382312657022357,
          0.2748706392238591,
          -0.535589705332484,
          -0.3062539118189085,
          -0.6890911081506442,
          -0.3888945228846208,
          -2.5564725209949843,
          -1.7287793754882044,
          -0.17981800885973726,
          -2.031603307882673,
          -0.5612039428452245,
          -1.2630554683468047,
          0.33852167207166245,
          1.0099798166528304,
          -0.2860404232817684,
          1.315694043920557,
          0.46960186531811526,
          0.30832256911797395,
          -0.18939386825932636,
          1.6175828171719604,
          1.0777304529374765,
          -1.4665396721322217,
          -0.040704511478725704,
          -0.7183414312124572,
          -0.725399399095399,
          -0.5756244801360568,
          -0.6038091390486322,
          -1.1789772630804674,
          0.26877630285131504,
          -0.4822196912052415,
          1.0846006541025943
         ]
        },
        {
         "boxpoints": false,
         "line": {
          "width": 1.3
         },
         "marker": {
          "color": "rgba(128, 0, 128, 1.0)"
         },
         "name": "D",
         "orientation": "v",
         "type": "box",
         "y": [
          -0.1676826507525291,
          1.2118809377684863,
          -0.14438510911805277,
          -1.2551541941825473,
          0.47279567513124054,
          -0.13691972737133096,
          -0.6546286217807619,
          -2.0102159510958035,
          1.1208802815514152,
          -0.29512508742796867,
          -1.5022522770964233,
          1.228763629283435,
          0.44696925851188624,
          -0.2503946001911159,
          1.345947912693738,
          -0.7338677287033788,
          -0.7782797541960733,
          0.45719078900464705,
          0.30022047398068186,
          1.273494902181814,
          -0.942096576425137,
          -1.5984355314179504,
          -0.2081335137358246,
          -1.119897696669353,
          1.1558179289865356,
          0.5253760769966458,
          1.4829236805169717,
          -0.20820180768859525,
          0.2599409088733281,
          0.8299263627400496,
          0.6945443956044238,
          0.9487852193715961,
          1.6049832655815006,
          0.6936468603647309,
          0.2576136153170773,
          0.35604033694235443,
          -0.9478443375481954,
          -1.803235372150516,
          -0.17490836960946665,
          1.2990750788239707,
          -0.11963436583981464,
          -0.14107216164782235,
          -0.4994749068208888,
          -0.5039462481034059,
          0.4078937285732624,
          -1.3623983044468144,
          -0.5599219479314879,
          -0.8890190693870289,
          -0.5453171088827993,
          -0.19400809571131336,
          0.4379296859477579,
          0.9569927628817722,
          0.568551150400114,
          0.4901505521614311,
          -0.629448856594338,
          -0.1760792563046624,
          2.1872697925391145,
          -1.7987168928322443,
          0.00021761034255523358,
          -0.1493581045492578,
          -0.005807956057387215,
          -0.2521294841944818,
          0.5150335079331775,
          -0.33282032997917643,
          0.7320714223225012,
          1.213091682920328,
          0.08904856186822144,
          0.546964360145978,
          -0.5654829559521772,
          -0.5280370228475944,
          1.569885386573116,
          0.06951485652561938,
          0.5586098056639801,
          0.9944724520541559,
          -1.232692345109615,
          0.20649908737588069,
          0.9274326694569818,
          -1.4931803060081321,
          0.5069500577515356,
          -0.10169518484504181,
          0.7706117793406162,
          -0.6517223336891163,
          -2.0926704674673844,
          0.31484554724907154,
          1.9575227469312708,
          -0.4301303958607313,
          -0.5787778118510103,
          -1.0119872017638747,
          -0.40228534601618143,
          2.038756953851408,
          -0.12949232464568516,
          -0.6066494611386877,
          0.3603753685797563,
          0.34132630582604756,
          0.5730529829040087,
          1.0288673586415396,
          1.664345573048318,
          1.3486877908341262,
          -0.484387603012384,
          0.3733001066111924
         ]
        }
       ],
       "layout": {
        "legend": {
         "bgcolor": "#F5F6F9",
         "font": {
          "color": "#4D5663"
         }
        },
        "paper_bgcolor": "#F5F6F9",
        "plot_bgcolor": "#F5F6F9",
        "template": {
         "data": {
          "bar": [
           {
            "error_x": {
             "color": "#2a3f5f"
            },
            "error_y": {
             "color": "#2a3f5f"
            },
            "marker": {
             "line": {
              "color": "#E5ECF6",
              "width": 0.5
             }
            },
            "type": "bar"
           }
          ],
          "barpolar": [
           {
            "marker": {
             "line": {
              "color": "#E5ECF6",
              "width": 0.5
             }
            },
            "type": "barpolar"
           }
          ],
          "carpet": [
           {
            "aaxis": {
             "endlinecolor": "#2a3f5f",
             "gridcolor": "white",
             "linecolor": "white",
             "minorgridcolor": "white",
             "startlinecolor": "#2a3f5f"
            },
            "baxis": {
             "endlinecolor": "#2a3f5f",
             "gridcolor": "white",
             "linecolor": "white",
             "minorgridcolor": "white",
             "startlinecolor": "#2a3f5f"
            },
            "type": "carpet"
           }
          ],
          "choropleth": [
           {
            "colorbar": {
             "outlinewidth": 0,
             "ticks": ""
            },
            "type": "choropleth"
           }
          ],
          "contour": [
           {
            "colorbar": {
             "outlinewidth": 0,
             "ticks": ""
            },
            "colorscale": [
             [
              0,
              "#0d0887"
             ],
             [
              0.1111111111111111,
              "#46039f"
             ],
             [
              0.2222222222222222,
              "#7201a8"
             ],
             [
              0.3333333333333333,
              "#9c179e"
             ],
             [
              0.4444444444444444,
              "#bd3786"
             ],
             [
              0.5555555555555556,
              "#d8576b"
             ],
             [
              0.6666666666666666,
              "#ed7953"
             ],
             [
              0.7777777777777778,
              "#fb9f3a"
             ],
             [
              0.8888888888888888,
              "#fdca26"
             ],
             [
              1,
              "#f0f921"
             ]
            ],
            "type": "contour"
           }
          ],
          "contourcarpet": [
           {
            "colorbar": {
             "outlinewidth": 0,
             "ticks": ""
            },
            "type": "contourcarpet"
           }
          ],
          "heatmap": [
           {
            "colorbar": {
             "outlinewidth": 0,
             "ticks": ""
            },
            "colorscale": [
             [
              0,
              "#0d0887"
             ],
             [
              0.1111111111111111,
              "#46039f"
             ],
             [
              0.2222222222222222,
              "#7201a8"
             ],
             [
              0.3333333333333333,
              "#9c179e"
             ],
             [
              0.4444444444444444,
              "#bd3786"
             ],
             [
              0.5555555555555556,
              "#d8576b"
             ],
             [
              0.6666666666666666,
              "#ed7953"
             ],
             [
              0.7777777777777778,
              "#fb9f3a"
             ],
             [
              0.8888888888888888,
              "#fdca26"
             ],
             [
              1,
              "#f0f921"
             ]
            ],
            "type": "heatmap"
           }
          ],
          "heatmapgl": [
           {
            "colorbar": {
             "outlinewidth": 0,
             "ticks": ""
            },
            "colorscale": [
             [
              0,
              "#0d0887"
             ],
             [
              0.1111111111111111,
              "#46039f"
             ],
             [
              0.2222222222222222,
              "#7201a8"
             ],
             [
              0.3333333333333333,
              "#9c179e"
             ],
             [
              0.4444444444444444,
              "#bd3786"
             ],
             [
              0.5555555555555556,
              "#d8576b"
             ],
             [
              0.6666666666666666,
              "#ed7953"
             ],
             [
              0.7777777777777778,
              "#fb9f3a"
             ],
             [
              0.8888888888888888,
              "#fdca26"
             ],
             [
              1,
              "#f0f921"
             ]
            ],
            "type": "heatmapgl"
           }
          ],
          "histogram": [
           {
            "marker": {
             "colorbar": {
              "outlinewidth": 0,
              "ticks": ""
             }
            },
            "type": "histogram"
           }
          ],
          "histogram2d": [
           {
            "colorbar": {
             "outlinewidth": 0,
             "ticks": ""
            },
            "colorscale": [
             [
              0,
              "#0d0887"
             ],
             [
              0.1111111111111111,
              "#46039f"
             ],
             [
              0.2222222222222222,
              "#7201a8"
             ],
             [
              0.3333333333333333,
              "#9c179e"
             ],
             [
              0.4444444444444444,
              "#bd3786"
             ],
             [
              0.5555555555555556,
              "#d8576b"
             ],
             [
              0.6666666666666666,
              "#ed7953"
             ],
             [
              0.7777777777777778,
              "#fb9f3a"
             ],
             [
              0.8888888888888888,
              "#fdca26"
             ],
             [
              1,
              "#f0f921"
             ]
            ],
            "type": "histogram2d"
           }
          ],
          "histogram2dcontour": [
           {
            "colorbar": {
             "outlinewidth": 0,
             "ticks": ""
            },
            "colorscale": [
             [
              0,
              "#0d0887"
             ],
             [
              0.1111111111111111,
              "#46039f"
             ],
             [
              0.2222222222222222,
              "#7201a8"
             ],
             [
              0.3333333333333333,
              "#9c179e"
             ],
             [
              0.4444444444444444,
              "#bd3786"
             ],
             [
              0.5555555555555556,
              "#d8576b"
             ],
             [
              0.6666666666666666,
              "#ed7953"
             ],
             [
              0.7777777777777778,
              "#fb9f3a"
             ],
             [
              0.8888888888888888,
              "#fdca26"
             ],
             [
              1,
              "#f0f921"
             ]
            ],
            "type": "histogram2dcontour"
           }
          ],
          "mesh3d": [
           {
            "colorbar": {
             "outlinewidth": 0,
             "ticks": ""
            },
            "type": "mesh3d"
           }
          ],
          "parcoords": [
           {
            "line": {
             "colorbar": {
              "outlinewidth": 0,
              "ticks": ""
             }
            },
            "type": "parcoords"
           }
          ],
          "scatter": [
           {
            "marker": {
             "colorbar": {
              "outlinewidth": 0,
              "ticks": ""
             }
            },
            "type": "scatter"
           }
          ],
          "scatter3d": [
           {
            "line": {
             "colorbar": {
              "outlinewidth": 0,
              "ticks": ""
             }
            },
            "marker": {
             "colorbar": {
              "outlinewidth": 0,
              "ticks": ""
             }
            },
            "type": "scatter3d"
           }
          ],
          "scattercarpet": [
           {
            "marker": {
             "colorbar": {
              "outlinewidth": 0,
              "ticks": ""
             }
            },
            "type": "scattercarpet"
           }
          ],
          "scattergeo": [
           {
            "marker": {
             "colorbar": {
              "outlinewidth": 0,
              "ticks": ""
             }
            },
            "type": "scattergeo"
           }
          ],
          "scattergl": [
           {
            "marker": {
             "colorbar": {
              "outlinewidth": 0,
              "ticks": ""
             }
            },
            "type": "scattergl"
           }
          ],
          "scattermapbox": [
           {
            "marker": {
             "colorbar": {
              "outlinewidth": 0,
              "ticks": ""
             }
            },
            "type": "scattermapbox"
           }
          ],
          "scatterpolar": [
           {
            "marker": {
             "colorbar": {
              "outlinewidth": 0,
              "ticks": ""
             }
            },
            "type": "scatterpolar"
           }
          ],
          "scatterpolargl": [
           {
            "marker": {
             "colorbar": {
              "outlinewidth": 0,
              "ticks": ""
             }
            },
            "type": "scatterpolargl"
           }
          ],
          "scatterternary": [
           {
            "marker": {
             "colorbar": {
              "outlinewidth": 0,
              "ticks": ""
             }
            },
            "type": "scatterternary"
           }
          ],
          "surface": [
           {
            "colorbar": {
             "outlinewidth": 0,
             "ticks": ""
            },
            "colorscale": [
             [
              0,
              "#0d0887"
             ],
             [
              0.1111111111111111,
              "#46039f"
             ],
             [
              0.2222222222222222,
              "#7201a8"
             ],
             [
              0.3333333333333333,
              "#9c179e"
             ],
             [
              0.4444444444444444,
              "#bd3786"
             ],
             [
              0.5555555555555556,
              "#d8576b"
             ],
             [
              0.6666666666666666,
              "#ed7953"
             ],
             [
              0.7777777777777778,
              "#fb9f3a"
             ],
             [
              0.8888888888888888,
              "#fdca26"
             ],
             [
              1,
              "#f0f921"
             ]
            ],
            "type": "surface"
           }
          ],
          "table": [
           {
            "cells": {
             "fill": {
              "color": "#EBF0F8"
             },
             "line": {
              "color": "white"
             }
            },
            "header": {
             "fill": {
              "color": "#C8D4E3"
             },
             "line": {
              "color": "white"
             }
            },
            "type": "table"
           }
          ]
         },
         "layout": {
          "annotationdefaults": {
           "arrowcolor": "#2a3f5f",
           "arrowhead": 0,
           "arrowwidth": 1
          },
          "colorscale": {
           "diverging": [
            [
             0,
             "#8e0152"
            ],
            [
             0.1,
             "#c51b7d"
            ],
            [
             0.2,
             "#de77ae"
            ],
            [
             0.3,
             "#f1b6da"
            ],
            [
             0.4,
             "#fde0ef"
            ],
            [
             0.5,
             "#f7f7f7"
            ],
            [
             0.6,
             "#e6f5d0"
            ],
            [
             0.7,
             "#b8e186"
            ],
            [
             0.8,
             "#7fbc41"
            ],
            [
             0.9,
             "#4d9221"
            ],
            [
             1,
             "#276419"
            ]
           ],
           "sequential": [
            [
             0,
             "#0d0887"
            ],
            [
             0.1111111111111111,
             "#46039f"
            ],
            [
             0.2222222222222222,
             "#7201a8"
            ],
            [
             0.3333333333333333,
             "#9c179e"
            ],
            [
             0.4444444444444444,
             "#bd3786"
            ],
            [
             0.5555555555555556,
             "#d8576b"
            ],
            [
             0.6666666666666666,
             "#ed7953"
            ],
            [
             0.7777777777777778,
             "#fb9f3a"
            ],
            [
             0.8888888888888888,
             "#fdca26"
            ],
            [
             1,
             "#f0f921"
            ]
           ],
           "sequentialminus": [
            [
             0,
             "#0d0887"
            ],
            [
             0.1111111111111111,
             "#46039f"
            ],
            [
             0.2222222222222222,
             "#7201a8"
            ],
            [
             0.3333333333333333,
             "#9c179e"
            ],
            [
             0.4444444444444444,
             "#bd3786"
            ],
            [
             0.5555555555555556,
             "#d8576b"
            ],
            [
             0.6666666666666666,
             "#ed7953"
            ],
            [
             0.7777777777777778,
             "#fb9f3a"
            ],
            [
             0.8888888888888888,
             "#fdca26"
            ],
            [
             1,
             "#f0f921"
            ]
           ]
          },
          "colorway": [
           "#636efa",
           "#EF553B",
           "#00cc96",
           "#ab63fa",
           "#FFA15A",
           "#19d3f3",
           "#FF6692",
           "#B6E880",
           "#FF97FF",
           "#FECB52"
          ],
          "font": {
           "color": "#2a3f5f"
          },
          "geo": {
           "bgcolor": "white",
           "lakecolor": "white",
           "landcolor": "#E5ECF6",
           "showlakes": true,
           "showland": true,
           "subunitcolor": "white"
          },
          "hoverlabel": {
           "align": "left"
          },
          "hovermode": "closest",
          "mapbox": {
           "style": "light"
          },
          "paper_bgcolor": "white",
          "plot_bgcolor": "#E5ECF6",
          "polar": {
           "angularaxis": {
            "gridcolor": "white",
            "linecolor": "white",
            "ticks": ""
           },
           "bgcolor": "#E5ECF6",
           "radialaxis": {
            "gridcolor": "white",
            "linecolor": "white",
            "ticks": ""
           }
          },
          "scene": {
           "xaxis": {
            "backgroundcolor": "#E5ECF6",
            "gridcolor": "white",
            "gridwidth": 2,
            "linecolor": "white",
            "showbackground": true,
            "ticks": "",
            "zerolinecolor": "white"
           },
           "yaxis": {
            "backgroundcolor": "#E5ECF6",
            "gridcolor": "white",
            "gridwidth": 2,
            "linecolor": "white",
            "showbackground": true,
            "ticks": "",
            "zerolinecolor": "white"
           },
           "zaxis": {
            "backgroundcolor": "#E5ECF6",
            "gridcolor": "white",
            "gridwidth": 2,
            "linecolor": "white",
            "showbackground": true,
            "ticks": "",
            "zerolinecolor": "white"
           }
          },
          "shapedefaults": {
           "line": {
            "color": "#2a3f5f"
           }
          },
          "ternary": {
           "aaxis": {
            "gridcolor": "white",
            "linecolor": "white",
            "ticks": ""
           },
           "baxis": {
            "gridcolor": "white",
            "linecolor": "white",
            "ticks": ""
           },
           "bgcolor": "#E5ECF6",
           "caxis": {
            "gridcolor": "white",
            "linecolor": "white",
            "ticks": ""
           }
          },
          "title": {
           "x": 0.05
          },
          "xaxis": {
           "automargin": true,
           "gridcolor": "white",
           "linecolor": "white",
           "ticks": "",
           "zerolinecolor": "white",
           "zerolinewidth": 2
          },
          "yaxis": {
           "automargin": true,
           "gridcolor": "white",
           "linecolor": "white",
           "ticks": "",
           "zerolinecolor": "white",
           "zerolinewidth": 2
          }
         }
        },
        "title": {
         "font": {
          "color": "#4D5663"
         }
        },
        "xaxis": {
         "gridcolor": "#E1E5ED",
         "showgrid": true,
         "tickfont": {
          "color": "#4D5663"
         },
         "title": {
          "font": {
           "color": "#4D5663"
          },
          "text": ""
         },
         "zerolinecolor": "#E1E5ED"
        },
        "yaxis": {
         "gridcolor": "#E1E5ED",
         "showgrid": true,
         "tickfont": {
          "color": "#4D5663"
         },
         "title": {
          "font": {
           "color": "#4D5663"
          },
          "text": ""
         },
         "zerolinecolor": "#E1E5ED"
        }
       }
      },
      "text/html": [
       "<div>\n",
       "        \n",
       "        \n",
       "            <div id=\"d0e70220-9c4c-400c-a25c-456a202adc86\" class=\"plotly-graph-div\" style=\"height:525px; width:100%;\"></div>\n",
       "            <script type=\"text/javascript\">\n",
       "                require([\"plotly\"], function(Plotly) {\n",
       "                    window.PLOTLYENV=window.PLOTLYENV || {};\n",
       "                    window.PLOTLYENV.BASE_URL='https://plot.ly';\n",
       "                    \n",
       "                if (document.getElementById(\"d0e70220-9c4c-400c-a25c-456a202adc86\")) {\n",
       "                    Plotly.newPlot(\n",
       "                        'd0e70220-9c4c-400c-a25c-456a202adc86',\n",
       "                        [{\"boxpoints\": false, \"line\": {\"width\": 1.3}, \"marker\": {\"color\": \"rgba(255, 153, 51, 1.0)\"}, \"name\": \"A\", \"orientation\": \"v\", \"type\": \"box\", \"y\": [-0.06542778015912247, -0.4983315985004792, -0.3932665761127589, -0.10616396259826238, -0.26207506689955234, 0.7886670736320832, -0.14377426502187782, -0.15273724910094455, -1.1338234021817963, 0.0009770267116028946, -0.7324620416267447, 0.06043111318599064, 0.623615648635299, -0.9898932119379665, -0.45086070577257026, -0.830303964658216, 1.5716630654715504, -1.0974693696329356, 0.4558388327103945, 1.2170495932316205, -0.32981680298429955, 0.2582423394595888, 0.4888856866509463, -0.6121681967574407, -0.5414245020009553, 2.713140457391276, 1.7423907028996293, 0.14142226924657475, 1.6632119799987835, -1.1316432740780005, 0.3761480797940717, -0.5145111245715915, 0.15963736908855272, 0.8356735998848508, -0.3565600825442002, 1.157899333248228, -0.4096165797423869, 0.5249195501867103, 0.5653237593734552, 1.072675824030473, -1.7986968659667908, 0.09444932233020178, 0.37476626326860707, -0.06564736959465206, 0.28052433882468464, 0.7190140964012359, -1.5830392770914365, 0.2644929549909655, -1.0006939493489782, 0.23636146599124183, 0.39176536250665306, 1.0010977258940492, 0.10143316005483165, -0.3368213254581548, -0.2971587471713649, -0.026228244623694424, 0.6624173371633474, -1.7218637928707545, -0.5923164125061781, -0.34970068099215595, -0.12555665412014028, -0.16897186432076375, 0.40905865555379467, -0.6632048676391282, 1.0816531446896442, -0.08061085564831709, -0.6898727254749667, -0.05582287614843459, 0.019644984580532536, -0.24593277126504068, 0.2647198186254047, -2.6985599960128646, -0.2857060352657619, -0.7059336808840253, 0.17851344877915792, -1.1872112018363015, 0.356400427218362, 0.6949620719212402, 1.7193507242959798, 0.15045354017786597, -0.18479491530568848, -1.239764615178371, 0.09444746482720447, -0.45253402974609547, 1.5240444051796522, -0.7166957289144503, 1.5593468757849867, -1.8811576668979677, -1.4952705913795905, 0.23129604965371198, -0.008759735894900082, 0.15443482118378815, -1.4297427857966751, -0.06765988265773787, -0.996787930590609, -0.4145939334371296, -0.43632955465216916, -0.7186990577837588, 0.5636984699664023, 0.21842881420586344]}, {\"boxpoints\": false, \"line\": {\"width\": 1.3}, \"marker\": {\"color\": \"rgba(55, 128, 191, 1.0)\"}, \"name\": \"B\", \"orientation\": \"v\", \"type\": \"box\", \"y\": [-0.8411370469674633, 0.8465936719276874, -2.0769241221253196, -0.6700626862026585, -0.5718851695463921, -0.09755403761810581, -0.44096635857130717, -0.19909691093629908, 1.5488170316881231, -0.058357642546699194, 0.919790098361005, 0.3594851568227443, -0.8769963650114245, -0.269976233378358, 0.24765485950810773, 0.269321910169165, -0.5505010270008414, -0.4072869079940033, 0.3517877394913619, -1.524489635082197, 0.12522454045167053, 0.9987328546532094, -1.3791792776183134, 0.05423843887016417, 0.2688011121653173, -0.19041155308139934, 0.10695575141382495, 1.7095876419986396, -1.170502100390321, 0.9290949508011905, -0.1939790752819657, -0.9278782561160333, -0.38128376570696293, 1.4196422528454338, -0.3327314727625212, 1.1991026923111583, 0.34681659229915696, -0.6206391541625019, 0.12742134556200654, 1.3243431685994702, -0.8269302595340654, 0.37966686811781725, -0.10344807908893425, -2.0544188879512295, -0.7464815409567633, -0.7767402402381235, -0.6637804281354422, 1.2517385487669808, 0.694873957911729, -0.06616754426101021, 0.0826020637563963, -0.8335126220950743, 1.5472354491421703, -1.1883781356830807, 0.6959161155628883, 1.6809774728363294, -0.23254175749586706, -1.9896207513535749, -0.23331842485528928, 2.178970408821887, 1.4573427100091558, -0.908432032880107, -0.44244867207382027, -0.4769298465440546, 1.3442857447410939, 0.8937306771278547, 1.2884460982984527, 0.25783105542154644, -0.5664819169183514, -0.18098321446330418, 0.331616555740629, -0.8005687231433739, 1.0988721156679697, 0.23696136067638396, 0.46500651711300106, -0.7528153647155813, 1.3412978052129945, -1.0199703145796095, 0.6413002728832091, -0.3193840554624845, -0.11664683969933677, 0.9687749026453907, 1.3239859553061233, -0.1362061691984603, 1.2241312871811287, 0.21623446478982422, -0.21314367553319472, 0.720151826365811, 1.462740448667771, -0.3436916812967713, 0.4324993105508277, -1.5619649073250985, -2.112441929480903, 0.06564522053701284, -0.28106050711775143, -0.07673876751490212, 0.9800922196622552, 0.03668337598725406, 0.22327999074166194, 0.37285586455157954]}, {\"boxpoints\": false, \"line\": {\"width\": 1.3}, \"marker\": {\"color\": \"rgba(50, 171, 96, 1.0)\"}, \"name\": \"C\", \"orientation\": \"v\", \"type\": \"box\", \"y\": [-0.7966720853754534, 0.6477728052325428, 0.4831523041440157, 0.3644435184704144, 1.7007141482853403, 0.9692581547170372, -1.0325150866471589, 0.8894145090528843, 0.026234933397009344, -1.4532861300849287, 0.9996873342754028, -3.1540275979967087, 0.4286746196441421, 0.21544993442106897, 0.32815484899890135, -0.2557793997881791, -0.5510292782435066, -0.037864298663310474, -0.3001542781668278, 0.6547112586968563, -0.2638110259566244, 0.04270028556177357, 0.4588145661267505, 0.6827466435778821, -0.6797951695755131, -0.631628789264434, 1.2686739319914158, -0.13697469209737578, -0.37601739069121415, -0.8836269003850051, -1.4608143618016922, 1.3273721485353875, -0.3303442629457333, -0.4926836056813009, -0.30853302763456075, 0.12524399651365264, -1.0046688429128623, 1.6056414456082, -0.6229691448825764, 1.4544036889163034, -0.17925644736933535, 0.6457018928601556, 1.3057340404004254, 1.0377701562575992, 0.10067046378193285, -0.5193570479240552, 1.018866169958515, -1.0160196153677243, 0.5337100384623303, 1.6205355319322285, -0.7913727440688946, -0.49715952576613726, -0.16625713899727948, 0.11911935123826942, -1.0818057514661825, 0.6097568557060469, -1.2965456248093972, 1.0870876169513466, 1.0750964186435534, 0.05160589607207159, 0.3245215550322822, 0.5356023888365272, -0.4871544420614186, 0.19487622359893275, 1.5356466295486764, -0.14339976837204832, -0.09037003239094622, -0.15840485892250952, 2.256471565398644, -0.40382312657022357, 0.2748706392238591, -0.535589705332484, -0.3062539118189085, -0.6890911081506442, -0.3888945228846208, -2.5564725209949843, -1.7287793754882044, -0.17981800885973726, -2.031603307882673, -0.5612039428452245, -1.2630554683468047, 0.33852167207166245, 1.0099798166528304, -0.2860404232817684, 1.315694043920557, 0.46960186531811526, 0.30832256911797395, -0.18939386825932636, 1.6175828171719604, 1.0777304529374765, -1.4665396721322217, -0.040704511478725704, -0.7183414312124572, -0.725399399095399, -0.5756244801360568, -0.6038091390486322, -1.1789772630804674, 0.26877630285131504, -0.4822196912052415, 1.0846006541025943]}, {\"boxpoints\": false, \"line\": {\"width\": 1.3}, \"marker\": {\"color\": \"rgba(128, 0, 128, 1.0)\"}, \"name\": \"D\", \"orientation\": \"v\", \"type\": \"box\", \"y\": [-0.1676826507525291, 1.2118809377684863, -0.14438510911805277, -1.2551541941825473, 0.47279567513124054, -0.13691972737133096, -0.6546286217807619, -2.0102159510958035, 1.1208802815514152, -0.29512508742796867, -1.5022522770964233, 1.228763629283435, 0.44696925851188624, -0.2503946001911159, 1.345947912693738, -0.7338677287033788, -0.7782797541960733, 0.45719078900464705, 0.30022047398068186, 1.273494902181814, -0.942096576425137, -1.5984355314179504, -0.2081335137358246, -1.119897696669353, 1.1558179289865356, 0.5253760769966458, 1.4829236805169717, -0.20820180768859525, 0.2599409088733281, 0.8299263627400496, 0.6945443956044238, 0.9487852193715961, 1.6049832655815006, 0.6936468603647309, 0.2576136153170773, 0.35604033694235443, -0.9478443375481954, -1.803235372150516, -0.17490836960946665, 1.2990750788239707, -0.11963436583981464, -0.14107216164782235, -0.4994749068208888, -0.5039462481034059, 0.4078937285732624, -1.3623983044468144, -0.5599219479314879, -0.8890190693870289, -0.5453171088827993, -0.19400809571131336, 0.4379296859477579, 0.9569927628817722, 0.568551150400114, 0.4901505521614311, -0.629448856594338, -0.1760792563046624, 2.1872697925391145, -1.7987168928322443, 0.00021761034255523358, -0.1493581045492578, -0.005807956057387215, -0.2521294841944818, 0.5150335079331775, -0.33282032997917643, 0.7320714223225012, 1.213091682920328, 0.08904856186822144, 0.546964360145978, -0.5654829559521772, -0.5280370228475944, 1.569885386573116, 0.06951485652561938, 0.5586098056639801, 0.9944724520541559, -1.232692345109615, 0.20649908737588069, 0.9274326694569818, -1.4931803060081321, 0.5069500577515356, -0.10169518484504181, 0.7706117793406162, -0.6517223336891163, -2.0926704674673844, 0.31484554724907154, 1.9575227469312708, -0.4301303958607313, -0.5787778118510103, -1.0119872017638747, -0.40228534601618143, 2.038756953851408, -0.12949232464568516, -0.6066494611386877, 0.3603753685797563, 0.34132630582604756, 0.5730529829040087, 1.0288673586415396, 1.664345573048318, 1.3486877908341262, -0.484387603012384, 0.3733001066111924]}],\n",
       "                        {\"legend\": {\"bgcolor\": \"#F5F6F9\", \"font\": {\"color\": \"#4D5663\"}}, \"paper_bgcolor\": \"#F5F6F9\", \"plot_bgcolor\": \"#F5F6F9\", \"template\": {\"data\": {\"bar\": [{\"error_x\": {\"color\": \"#2a3f5f\"}, \"error_y\": {\"color\": \"#2a3f5f\"}, \"marker\": {\"line\": {\"color\": \"#E5ECF6\", \"width\": 0.5}}, \"type\": \"bar\"}], \"barpolar\": [{\"marker\": {\"line\": {\"color\": \"#E5ECF6\", \"width\": 0.5}}, \"type\": \"barpolar\"}], \"carpet\": [{\"aaxis\": {\"endlinecolor\": \"#2a3f5f\", \"gridcolor\": \"white\", \"linecolor\": \"white\", \"minorgridcolor\": \"white\", \"startlinecolor\": \"#2a3f5f\"}, \"baxis\": {\"endlinecolor\": \"#2a3f5f\", \"gridcolor\": \"white\", \"linecolor\": \"white\", \"minorgridcolor\": \"white\", \"startlinecolor\": \"#2a3f5f\"}, \"type\": \"carpet\"}], \"choropleth\": [{\"colorbar\": {\"outlinewidth\": 0, \"ticks\": \"\"}, \"type\": \"choropleth\"}], \"contour\": [{\"colorbar\": {\"outlinewidth\": 0, \"ticks\": \"\"}, \"colorscale\": [[0.0, \"#0d0887\"], [0.1111111111111111, \"#46039f\"], [0.2222222222222222, \"#7201a8\"], [0.3333333333333333, \"#9c179e\"], [0.4444444444444444, \"#bd3786\"], [0.5555555555555556, \"#d8576b\"], [0.6666666666666666, \"#ed7953\"], [0.7777777777777778, \"#fb9f3a\"], [0.8888888888888888, \"#fdca26\"], [1.0, \"#f0f921\"]], \"type\": \"contour\"}], \"contourcarpet\": [{\"colorbar\": {\"outlinewidth\": 0, \"ticks\": \"\"}, \"type\": \"contourcarpet\"}], \"heatmap\": [{\"colorbar\": {\"outlinewidth\": 0, \"ticks\": \"\"}, \"colorscale\": [[0.0, \"#0d0887\"], [0.1111111111111111, \"#46039f\"], [0.2222222222222222, \"#7201a8\"], [0.3333333333333333, \"#9c179e\"], [0.4444444444444444, \"#bd3786\"], [0.5555555555555556, \"#d8576b\"], [0.6666666666666666, \"#ed7953\"], [0.7777777777777778, \"#fb9f3a\"], [0.8888888888888888, \"#fdca26\"], [1.0, \"#f0f921\"]], \"type\": \"heatmap\"}], \"heatmapgl\": [{\"colorbar\": {\"outlinewidth\": 0, \"ticks\": \"\"}, \"colorscale\": [[0.0, \"#0d0887\"], [0.1111111111111111, \"#46039f\"], [0.2222222222222222, \"#7201a8\"], [0.3333333333333333, \"#9c179e\"], [0.4444444444444444, \"#bd3786\"], [0.5555555555555556, \"#d8576b\"], [0.6666666666666666, \"#ed7953\"], [0.7777777777777778, \"#fb9f3a\"], [0.8888888888888888, \"#fdca26\"], [1.0, \"#f0f921\"]], \"type\": \"heatmapgl\"}], \"histogram\": [{\"marker\": {\"colorbar\": {\"outlinewidth\": 0, \"ticks\": \"\"}}, \"type\": \"histogram\"}], \"histogram2d\": [{\"colorbar\": {\"outlinewidth\": 0, \"ticks\": \"\"}, \"colorscale\": [[0.0, \"#0d0887\"], [0.1111111111111111, \"#46039f\"], [0.2222222222222222, \"#7201a8\"], [0.3333333333333333, \"#9c179e\"], [0.4444444444444444, \"#bd3786\"], [0.5555555555555556, \"#d8576b\"], [0.6666666666666666, \"#ed7953\"], [0.7777777777777778, \"#fb9f3a\"], [0.8888888888888888, \"#fdca26\"], [1.0, \"#f0f921\"]], \"type\": \"histogram2d\"}], \"histogram2dcontour\": [{\"colorbar\": {\"outlinewidth\": 0, \"ticks\": \"\"}, \"colorscale\": [[0.0, \"#0d0887\"], [0.1111111111111111, \"#46039f\"], [0.2222222222222222, \"#7201a8\"], [0.3333333333333333, \"#9c179e\"], [0.4444444444444444, \"#bd3786\"], [0.5555555555555556, \"#d8576b\"], [0.6666666666666666, \"#ed7953\"], [0.7777777777777778, \"#fb9f3a\"], [0.8888888888888888, \"#fdca26\"], [1.0, \"#f0f921\"]], \"type\": \"histogram2dcontour\"}], \"mesh3d\": [{\"colorbar\": {\"outlinewidth\": 0, \"ticks\": \"\"}, \"type\": \"mesh3d\"}], \"parcoords\": [{\"line\": {\"colorbar\": {\"outlinewidth\": 0, \"ticks\": \"\"}}, \"type\": \"parcoords\"}], \"scatter\": [{\"marker\": {\"colorbar\": {\"outlinewidth\": 0, \"ticks\": \"\"}}, \"type\": \"scatter\"}], \"scatter3d\": [{\"line\": {\"colorbar\": {\"outlinewidth\": 0, \"ticks\": \"\"}}, \"marker\": {\"colorbar\": {\"outlinewidth\": 0, \"ticks\": \"\"}}, \"type\": \"scatter3d\"}], \"scattercarpet\": [{\"marker\": {\"colorbar\": {\"outlinewidth\": 0, \"ticks\": \"\"}}, \"type\": \"scattercarpet\"}], \"scattergeo\": [{\"marker\": {\"colorbar\": {\"outlinewidth\": 0, \"ticks\": \"\"}}, \"type\": \"scattergeo\"}], \"scattergl\": [{\"marker\": {\"colorbar\": {\"outlinewidth\": 0, \"ticks\": \"\"}}, \"type\": \"scattergl\"}], \"scattermapbox\": [{\"marker\": {\"colorbar\": {\"outlinewidth\": 0, \"ticks\": \"\"}}, \"type\": \"scattermapbox\"}], \"scatterpolar\": [{\"marker\": {\"colorbar\": {\"outlinewidth\": 0, \"ticks\": \"\"}}, \"type\": \"scatterpolar\"}], \"scatterpolargl\": [{\"marker\": {\"colorbar\": {\"outlinewidth\": 0, \"ticks\": \"\"}}, \"type\": \"scatterpolargl\"}], \"scatterternary\": [{\"marker\": {\"colorbar\": {\"outlinewidth\": 0, \"ticks\": \"\"}}, \"type\": \"scatterternary\"}], \"surface\": [{\"colorbar\": {\"outlinewidth\": 0, \"ticks\": \"\"}, \"colorscale\": [[0.0, \"#0d0887\"], [0.1111111111111111, \"#46039f\"], [0.2222222222222222, \"#7201a8\"], [0.3333333333333333, \"#9c179e\"], [0.4444444444444444, \"#bd3786\"], [0.5555555555555556, \"#d8576b\"], [0.6666666666666666, \"#ed7953\"], [0.7777777777777778, \"#fb9f3a\"], [0.8888888888888888, \"#fdca26\"], [1.0, \"#f0f921\"]], \"type\": \"surface\"}], \"table\": [{\"cells\": {\"fill\": {\"color\": \"#EBF0F8\"}, \"line\": {\"color\": \"white\"}}, \"header\": {\"fill\": {\"color\": \"#C8D4E3\"}, \"line\": {\"color\": \"white\"}}, \"type\": \"table\"}]}, \"layout\": {\"annotationdefaults\": {\"arrowcolor\": \"#2a3f5f\", \"arrowhead\": 0, \"arrowwidth\": 1}, \"colorscale\": {\"diverging\": [[0, \"#8e0152\"], [0.1, \"#c51b7d\"], [0.2, \"#de77ae\"], [0.3, \"#f1b6da\"], [0.4, \"#fde0ef\"], [0.5, \"#f7f7f7\"], [0.6, \"#e6f5d0\"], [0.7, \"#b8e186\"], [0.8, \"#7fbc41\"], [0.9, \"#4d9221\"], [1, \"#276419\"]], \"sequential\": [[0.0, \"#0d0887\"], [0.1111111111111111, \"#46039f\"], [0.2222222222222222, \"#7201a8\"], [0.3333333333333333, \"#9c179e\"], [0.4444444444444444, \"#bd3786\"], [0.5555555555555556, \"#d8576b\"], [0.6666666666666666, \"#ed7953\"], [0.7777777777777778, \"#fb9f3a\"], [0.8888888888888888, \"#fdca26\"], [1.0, \"#f0f921\"]], \"sequentialminus\": [[0.0, \"#0d0887\"], [0.1111111111111111, \"#46039f\"], [0.2222222222222222, \"#7201a8\"], [0.3333333333333333, \"#9c179e\"], [0.4444444444444444, \"#bd3786\"], [0.5555555555555556, \"#d8576b\"], [0.6666666666666666, \"#ed7953\"], [0.7777777777777778, \"#fb9f3a\"], [0.8888888888888888, \"#fdca26\"], [1.0, \"#f0f921\"]]}, \"colorway\": [\"#636efa\", \"#EF553B\", \"#00cc96\", \"#ab63fa\", \"#FFA15A\", \"#19d3f3\", \"#FF6692\", \"#B6E880\", \"#FF97FF\", \"#FECB52\"], \"font\": {\"color\": \"#2a3f5f\"}, \"geo\": {\"bgcolor\": \"white\", \"lakecolor\": \"white\", \"landcolor\": \"#E5ECF6\", \"showlakes\": true, \"showland\": true, \"subunitcolor\": \"white\"}, \"hoverlabel\": {\"align\": \"left\"}, \"hovermode\": \"closest\", \"mapbox\": {\"style\": \"light\"}, \"paper_bgcolor\": \"white\", \"plot_bgcolor\": \"#E5ECF6\", \"polar\": {\"angularaxis\": {\"gridcolor\": \"white\", \"linecolor\": \"white\", \"ticks\": \"\"}, \"bgcolor\": \"#E5ECF6\", \"radialaxis\": {\"gridcolor\": \"white\", \"linecolor\": \"white\", \"ticks\": \"\"}}, \"scene\": {\"xaxis\": {\"backgroundcolor\": \"#E5ECF6\", \"gridcolor\": \"white\", \"gridwidth\": 2, \"linecolor\": \"white\", \"showbackground\": true, \"ticks\": \"\", \"zerolinecolor\": \"white\"}, \"yaxis\": {\"backgroundcolor\": \"#E5ECF6\", \"gridcolor\": \"white\", \"gridwidth\": 2, \"linecolor\": \"white\", \"showbackground\": true, \"ticks\": \"\", \"zerolinecolor\": \"white\"}, \"zaxis\": {\"backgroundcolor\": \"#E5ECF6\", \"gridcolor\": \"white\", \"gridwidth\": 2, \"linecolor\": \"white\", \"showbackground\": true, \"ticks\": \"\", \"zerolinecolor\": \"white\"}}, \"shapedefaults\": {\"line\": {\"color\": \"#2a3f5f\"}}, \"ternary\": {\"aaxis\": {\"gridcolor\": \"white\", \"linecolor\": \"white\", \"ticks\": \"\"}, \"baxis\": {\"gridcolor\": \"white\", \"linecolor\": \"white\", \"ticks\": \"\"}, \"bgcolor\": \"#E5ECF6\", \"caxis\": {\"gridcolor\": \"white\", \"linecolor\": \"white\", \"ticks\": \"\"}}, \"title\": {\"x\": 0.05}, \"xaxis\": {\"automargin\": true, \"gridcolor\": \"white\", \"linecolor\": \"white\", \"ticks\": \"\", \"zerolinecolor\": \"white\", \"zerolinewidth\": 2}, \"yaxis\": {\"automargin\": true, \"gridcolor\": \"white\", \"linecolor\": \"white\", \"ticks\": \"\", \"zerolinecolor\": \"white\", \"zerolinewidth\": 2}}}, \"title\": {\"font\": {\"color\": \"#4D5663\"}}, \"xaxis\": {\"gridcolor\": \"#E1E5ED\", \"showgrid\": true, \"tickfont\": {\"color\": \"#4D5663\"}, \"title\": {\"font\": {\"color\": \"#4D5663\"}, \"text\": \"\"}, \"zerolinecolor\": \"#E1E5ED\"}, \"yaxis\": {\"gridcolor\": \"#E1E5ED\", \"showgrid\": true, \"tickfont\": {\"color\": \"#4D5663\"}, \"title\": {\"font\": {\"color\": \"#4D5663\"}, \"text\": \"\"}, \"zerolinecolor\": \"#E1E5ED\"}},\n",
       "                        {\"showLink\": true, \"linkText\": \"Export to plot.ly\", \"plotlyServerURL\": \"https://plot.ly\", \"responsive\": true}\n",
       "                    ).then(function(){\n",
       "                            \n",
       "var gd = document.getElementById('d0e70220-9c4c-400c-a25c-456a202adc86');\n",
       "var x = new MutationObserver(function (mutations, observer) {{\n",
       "        var display = window.getComputedStyle(gd).display;\n",
       "        if (!display || display === 'none') {{\n",
       "            console.log([gd, 'removed!']);\n",
       "            Plotly.purge(gd);\n",
       "            observer.disconnect();\n",
       "        }}\n",
       "}});\n",
       "\n",
       "// Listen for the removal of the full notebook cells\n",
       "var notebookContainer = gd.closest('#notebook-container');\n",
       "if (notebookContainer) {{\n",
       "    x.observe(notebookContainer, {childList: true});\n",
       "}}\n",
       "\n",
       "// Listen for the clearing of the current output cell\n",
       "var outputEl = gd.closest('.output');\n",
       "if (outputEl) {{\n",
       "    x.observe(outputEl, {childList: true});\n",
       "}}\n",
       "\n",
       "                        })\n",
       "                };\n",
       "                });\n",
       "            </script>\n",
       "        </div>"
      ]
     },
     "metadata": {},
     "output_type": "display_data"
    }
   ],
   "source": [
    "## Ex.4 Boxplots \n",
    "\n",
    "## We can us df directly -> Boxplots will automatically do the aggregation for the distribution \n",
    "\n",
    "df.iplot(kind = 'box')"
   ]
  },
  {
   "cell_type": "code",
   "execution_count": 18,
   "metadata": {},
   "outputs": [],
   "source": [
    "## Ex.5 3D Surfaces plots \n",
    "\n",
    "df3 = pd.DataFrame({'x':[1,2,3,4,5], 'y':[10,20,30,20,10], 'z':[5,4,3,2,1]})"
   ]
  },
  {
   "cell_type": "code",
   "execution_count": 19,
   "metadata": {},
   "outputs": [
    {
     "data": {
      "text/html": [
       "<div>\n",
       "<style scoped>\n",
       "    .dataframe tbody tr th:only-of-type {\n",
       "        vertical-align: middle;\n",
       "    }\n",
       "\n",
       "    .dataframe tbody tr th {\n",
       "        vertical-align: top;\n",
       "    }\n",
       "\n",
       "    .dataframe thead th {\n",
       "        text-align: right;\n",
       "    }\n",
       "</style>\n",
       "<table border=\"1\" class=\"dataframe\">\n",
       "  <thead>\n",
       "    <tr style=\"text-align: right;\">\n",
       "      <th></th>\n",
       "      <th>x</th>\n",
       "      <th>y</th>\n",
       "      <th>z</th>\n",
       "    </tr>\n",
       "  </thead>\n",
       "  <tbody>\n",
       "    <tr>\n",
       "      <td>0</td>\n",
       "      <td>1</td>\n",
       "      <td>10</td>\n",
       "      <td>5</td>\n",
       "    </tr>\n",
       "    <tr>\n",
       "      <td>1</td>\n",
       "      <td>2</td>\n",
       "      <td>20</td>\n",
       "      <td>4</td>\n",
       "    </tr>\n",
       "    <tr>\n",
       "      <td>2</td>\n",
       "      <td>3</td>\n",
       "      <td>30</td>\n",
       "      <td>3</td>\n",
       "    </tr>\n",
       "    <tr>\n",
       "      <td>3</td>\n",
       "      <td>4</td>\n",
       "      <td>20</td>\n",
       "      <td>2</td>\n",
       "    </tr>\n",
       "    <tr>\n",
       "      <td>4</td>\n",
       "      <td>5</td>\n",
       "      <td>10</td>\n",
       "      <td>1</td>\n",
       "    </tr>\n",
       "  </tbody>\n",
       "</table>\n",
       "</div>"
      ],
      "text/plain": [
       "   x   y  z\n",
       "0  1  10  5\n",
       "1  2  20  4\n",
       "2  3  30  3\n",
       "3  4  20  2\n",
       "4  5  10  1"
      ]
     },
     "execution_count": 19,
     "metadata": {},
     "output_type": "execute_result"
    }
   ],
   "source": [
    "df3"
   ]
  },
  {
   "cell_type": "code",
   "execution_count": 20,
   "metadata": {
    "scrolled": false
   },
   "outputs": [
    {
     "data": {
      "application/vnd.plotly.v1+json": {
       "config": {
        "linkText": "Export to plot.ly",
        "plotlyServerURL": "https://plot.ly",
        "showLink": true
       },
       "data": [
        {
         "colorscale": [
          [
           0,
           "rgb(165,0,38)"
          ],
          [
           0.1,
           "rgb(215,48,39)"
          ],
          [
           0.2,
           "rgb(244,109,67)"
          ],
          [
           0.3,
           "rgb(253,174,97)"
          ],
          [
           0.4,
           "rgb(254,224,144)"
          ],
          [
           0.5,
           "rgb(255,255,191)"
          ],
          [
           0.6,
           "rgb(224,243,248)"
          ],
          [
           0.7,
           "rgb(171,217,233)"
          ],
          [
           0.8,
           "rgb(116,173,209)"
          ],
          [
           0.9,
           "rgb(69,117,180)"
          ],
          [
           1,
           "rgb(49,54,149)"
          ]
         ],
         "type": "surface",
         "x": [
          0,
          1,
          2,
          3,
          4
         ],
         "y": [
          "x",
          "y",
          "z"
         ],
         "z": [
          [
           1,
           2,
           3,
           4,
           5
          ],
          [
           10,
           20,
           30,
           20,
           10
          ],
          [
           5,
           4,
           3,
           2,
           1
          ]
         ]
        }
       ],
       "layout": {
        "legend": {
         "bgcolor": "#F5F6F9",
         "font": {
          "color": "#4D5663"
         }
        },
        "paper_bgcolor": "#F5F6F9",
        "plot_bgcolor": "#F5F6F9",
        "template": {
         "data": {
          "bar": [
           {
            "error_x": {
             "color": "#2a3f5f"
            },
            "error_y": {
             "color": "#2a3f5f"
            },
            "marker": {
             "line": {
              "color": "#E5ECF6",
              "width": 0.5
             }
            },
            "type": "bar"
           }
          ],
          "barpolar": [
           {
            "marker": {
             "line": {
              "color": "#E5ECF6",
              "width": 0.5
             }
            },
            "type": "barpolar"
           }
          ],
          "carpet": [
           {
            "aaxis": {
             "endlinecolor": "#2a3f5f",
             "gridcolor": "white",
             "linecolor": "white",
             "minorgridcolor": "white",
             "startlinecolor": "#2a3f5f"
            },
            "baxis": {
             "endlinecolor": "#2a3f5f",
             "gridcolor": "white",
             "linecolor": "white",
             "minorgridcolor": "white",
             "startlinecolor": "#2a3f5f"
            },
            "type": "carpet"
           }
          ],
          "choropleth": [
           {
            "colorbar": {
             "outlinewidth": 0,
             "ticks": ""
            },
            "type": "choropleth"
           }
          ],
          "contour": [
           {
            "colorbar": {
             "outlinewidth": 0,
             "ticks": ""
            },
            "colorscale": [
             [
              0,
              "#0d0887"
             ],
             [
              0.1111111111111111,
              "#46039f"
             ],
             [
              0.2222222222222222,
              "#7201a8"
             ],
             [
              0.3333333333333333,
              "#9c179e"
             ],
             [
              0.4444444444444444,
              "#bd3786"
             ],
             [
              0.5555555555555556,
              "#d8576b"
             ],
             [
              0.6666666666666666,
              "#ed7953"
             ],
             [
              0.7777777777777778,
              "#fb9f3a"
             ],
             [
              0.8888888888888888,
              "#fdca26"
             ],
             [
              1,
              "#f0f921"
             ]
            ],
            "type": "contour"
           }
          ],
          "contourcarpet": [
           {
            "colorbar": {
             "outlinewidth": 0,
             "ticks": ""
            },
            "type": "contourcarpet"
           }
          ],
          "heatmap": [
           {
            "colorbar": {
             "outlinewidth": 0,
             "ticks": ""
            },
            "colorscale": [
             [
              0,
              "#0d0887"
             ],
             [
              0.1111111111111111,
              "#46039f"
             ],
             [
              0.2222222222222222,
              "#7201a8"
             ],
             [
              0.3333333333333333,
              "#9c179e"
             ],
             [
              0.4444444444444444,
              "#bd3786"
             ],
             [
              0.5555555555555556,
              "#d8576b"
             ],
             [
              0.6666666666666666,
              "#ed7953"
             ],
             [
              0.7777777777777778,
              "#fb9f3a"
             ],
             [
              0.8888888888888888,
              "#fdca26"
             ],
             [
              1,
              "#f0f921"
             ]
            ],
            "type": "heatmap"
           }
          ],
          "heatmapgl": [
           {
            "colorbar": {
             "outlinewidth": 0,
             "ticks": ""
            },
            "colorscale": [
             [
              0,
              "#0d0887"
             ],
             [
              0.1111111111111111,
              "#46039f"
             ],
             [
              0.2222222222222222,
              "#7201a8"
             ],
             [
              0.3333333333333333,
              "#9c179e"
             ],
             [
              0.4444444444444444,
              "#bd3786"
             ],
             [
              0.5555555555555556,
              "#d8576b"
             ],
             [
              0.6666666666666666,
              "#ed7953"
             ],
             [
              0.7777777777777778,
              "#fb9f3a"
             ],
             [
              0.8888888888888888,
              "#fdca26"
             ],
             [
              1,
              "#f0f921"
             ]
            ],
            "type": "heatmapgl"
           }
          ],
          "histogram": [
           {
            "marker": {
             "colorbar": {
              "outlinewidth": 0,
              "ticks": ""
             }
            },
            "type": "histogram"
           }
          ],
          "histogram2d": [
           {
            "colorbar": {
             "outlinewidth": 0,
             "ticks": ""
            },
            "colorscale": [
             [
              0,
              "#0d0887"
             ],
             [
              0.1111111111111111,
              "#46039f"
             ],
             [
              0.2222222222222222,
              "#7201a8"
             ],
             [
              0.3333333333333333,
              "#9c179e"
             ],
             [
              0.4444444444444444,
              "#bd3786"
             ],
             [
              0.5555555555555556,
              "#d8576b"
             ],
             [
              0.6666666666666666,
              "#ed7953"
             ],
             [
              0.7777777777777778,
              "#fb9f3a"
             ],
             [
              0.8888888888888888,
              "#fdca26"
             ],
             [
              1,
              "#f0f921"
             ]
            ],
            "type": "histogram2d"
           }
          ],
          "histogram2dcontour": [
           {
            "colorbar": {
             "outlinewidth": 0,
             "ticks": ""
            },
            "colorscale": [
             [
              0,
              "#0d0887"
             ],
             [
              0.1111111111111111,
              "#46039f"
             ],
             [
              0.2222222222222222,
              "#7201a8"
             ],
             [
              0.3333333333333333,
              "#9c179e"
             ],
             [
              0.4444444444444444,
              "#bd3786"
             ],
             [
              0.5555555555555556,
              "#d8576b"
             ],
             [
              0.6666666666666666,
              "#ed7953"
             ],
             [
              0.7777777777777778,
              "#fb9f3a"
             ],
             [
              0.8888888888888888,
              "#fdca26"
             ],
             [
              1,
              "#f0f921"
             ]
            ],
            "type": "histogram2dcontour"
           }
          ],
          "mesh3d": [
           {
            "colorbar": {
             "outlinewidth": 0,
             "ticks": ""
            },
            "type": "mesh3d"
           }
          ],
          "parcoords": [
           {
            "line": {
             "colorbar": {
              "outlinewidth": 0,
              "ticks": ""
             }
            },
            "type": "parcoords"
           }
          ],
          "scatter": [
           {
            "marker": {
             "colorbar": {
              "outlinewidth": 0,
              "ticks": ""
             }
            },
            "type": "scatter"
           }
          ],
          "scatter3d": [
           {
            "line": {
             "colorbar": {
              "outlinewidth": 0,
              "ticks": ""
             }
            },
            "marker": {
             "colorbar": {
              "outlinewidth": 0,
              "ticks": ""
             }
            },
            "type": "scatter3d"
           }
          ],
          "scattercarpet": [
           {
            "marker": {
             "colorbar": {
              "outlinewidth": 0,
              "ticks": ""
             }
            },
            "type": "scattercarpet"
           }
          ],
          "scattergeo": [
           {
            "marker": {
             "colorbar": {
              "outlinewidth": 0,
              "ticks": ""
             }
            },
            "type": "scattergeo"
           }
          ],
          "scattergl": [
           {
            "marker": {
             "colorbar": {
              "outlinewidth": 0,
              "ticks": ""
             }
            },
            "type": "scattergl"
           }
          ],
          "scattermapbox": [
           {
            "marker": {
             "colorbar": {
              "outlinewidth": 0,
              "ticks": ""
             }
            },
            "type": "scattermapbox"
           }
          ],
          "scatterpolar": [
           {
            "marker": {
             "colorbar": {
              "outlinewidth": 0,
              "ticks": ""
             }
            },
            "type": "scatterpolar"
           }
          ],
          "scatterpolargl": [
           {
            "marker": {
             "colorbar": {
              "outlinewidth": 0,
              "ticks": ""
             }
            },
            "type": "scatterpolargl"
           }
          ],
          "scatterternary": [
           {
            "marker": {
             "colorbar": {
              "outlinewidth": 0,
              "ticks": ""
             }
            },
            "type": "scatterternary"
           }
          ],
          "surface": [
           {
            "colorbar": {
             "outlinewidth": 0,
             "ticks": ""
            },
            "colorscale": [
             [
              0,
              "#0d0887"
             ],
             [
              0.1111111111111111,
              "#46039f"
             ],
             [
              0.2222222222222222,
              "#7201a8"
             ],
             [
              0.3333333333333333,
              "#9c179e"
             ],
             [
              0.4444444444444444,
              "#bd3786"
             ],
             [
              0.5555555555555556,
              "#d8576b"
             ],
             [
              0.6666666666666666,
              "#ed7953"
             ],
             [
              0.7777777777777778,
              "#fb9f3a"
             ],
             [
              0.8888888888888888,
              "#fdca26"
             ],
             [
              1,
              "#f0f921"
             ]
            ],
            "type": "surface"
           }
          ],
          "table": [
           {
            "cells": {
             "fill": {
              "color": "#EBF0F8"
             },
             "line": {
              "color": "white"
             }
            },
            "header": {
             "fill": {
              "color": "#C8D4E3"
             },
             "line": {
              "color": "white"
             }
            },
            "type": "table"
           }
          ]
         },
         "layout": {
          "annotationdefaults": {
           "arrowcolor": "#2a3f5f",
           "arrowhead": 0,
           "arrowwidth": 1
          },
          "colorscale": {
           "diverging": [
            [
             0,
             "#8e0152"
            ],
            [
             0.1,
             "#c51b7d"
            ],
            [
             0.2,
             "#de77ae"
            ],
            [
             0.3,
             "#f1b6da"
            ],
            [
             0.4,
             "#fde0ef"
            ],
            [
             0.5,
             "#f7f7f7"
            ],
            [
             0.6,
             "#e6f5d0"
            ],
            [
             0.7,
             "#b8e186"
            ],
            [
             0.8,
             "#7fbc41"
            ],
            [
             0.9,
             "#4d9221"
            ],
            [
             1,
             "#276419"
            ]
           ],
           "sequential": [
            [
             0,
             "#0d0887"
            ],
            [
             0.1111111111111111,
             "#46039f"
            ],
            [
             0.2222222222222222,
             "#7201a8"
            ],
            [
             0.3333333333333333,
             "#9c179e"
            ],
            [
             0.4444444444444444,
             "#bd3786"
            ],
            [
             0.5555555555555556,
             "#d8576b"
            ],
            [
             0.6666666666666666,
             "#ed7953"
            ],
            [
             0.7777777777777778,
             "#fb9f3a"
            ],
            [
             0.8888888888888888,
             "#fdca26"
            ],
            [
             1,
             "#f0f921"
            ]
           ],
           "sequentialminus": [
            [
             0,
             "#0d0887"
            ],
            [
             0.1111111111111111,
             "#46039f"
            ],
            [
             0.2222222222222222,
             "#7201a8"
            ],
            [
             0.3333333333333333,
             "#9c179e"
            ],
            [
             0.4444444444444444,
             "#bd3786"
            ],
            [
             0.5555555555555556,
             "#d8576b"
            ],
            [
             0.6666666666666666,
             "#ed7953"
            ],
            [
             0.7777777777777778,
             "#fb9f3a"
            ],
            [
             0.8888888888888888,
             "#fdca26"
            ],
            [
             1,
             "#f0f921"
            ]
           ]
          },
          "colorway": [
           "#636efa",
           "#EF553B",
           "#00cc96",
           "#ab63fa",
           "#FFA15A",
           "#19d3f3",
           "#FF6692",
           "#B6E880",
           "#FF97FF",
           "#FECB52"
          ],
          "font": {
           "color": "#2a3f5f"
          },
          "geo": {
           "bgcolor": "white",
           "lakecolor": "white",
           "landcolor": "#E5ECF6",
           "showlakes": true,
           "showland": true,
           "subunitcolor": "white"
          },
          "hoverlabel": {
           "align": "left"
          },
          "hovermode": "closest",
          "mapbox": {
           "style": "light"
          },
          "paper_bgcolor": "white",
          "plot_bgcolor": "#E5ECF6",
          "polar": {
           "angularaxis": {
            "gridcolor": "white",
            "linecolor": "white",
            "ticks": ""
           },
           "bgcolor": "#E5ECF6",
           "radialaxis": {
            "gridcolor": "white",
            "linecolor": "white",
            "ticks": ""
           }
          },
          "scene": {
           "xaxis": {
            "backgroundcolor": "#E5ECF6",
            "gridcolor": "white",
            "gridwidth": 2,
            "linecolor": "white",
            "showbackground": true,
            "ticks": "",
            "zerolinecolor": "white"
           },
           "yaxis": {
            "backgroundcolor": "#E5ECF6",
            "gridcolor": "white",
            "gridwidth": 2,
            "linecolor": "white",
            "showbackground": true,
            "ticks": "",
            "zerolinecolor": "white"
           },
           "zaxis": {
            "backgroundcolor": "#E5ECF6",
            "gridcolor": "white",
            "gridwidth": 2,
            "linecolor": "white",
            "showbackground": true,
            "ticks": "",
            "zerolinecolor": "white"
           }
          },
          "shapedefaults": {
           "line": {
            "color": "#2a3f5f"
           }
          },
          "ternary": {
           "aaxis": {
            "gridcolor": "white",
            "linecolor": "white",
            "ticks": ""
           },
           "baxis": {
            "gridcolor": "white",
            "linecolor": "white",
            "ticks": ""
           },
           "bgcolor": "#E5ECF6",
           "caxis": {
            "gridcolor": "white",
            "linecolor": "white",
            "ticks": ""
           }
          },
          "title": {
           "x": 0.05
          },
          "xaxis": {
           "automargin": true,
           "gridcolor": "white",
           "linecolor": "white",
           "ticks": "",
           "zerolinecolor": "white",
           "zerolinewidth": 2
          },
          "yaxis": {
           "automargin": true,
           "gridcolor": "white",
           "linecolor": "white",
           "ticks": "",
           "zerolinecolor": "white",
           "zerolinewidth": 2
          }
         }
        },
        "title": {
         "font": {
          "color": "#4D5663"
         }
        },
        "xaxis": {
         "gridcolor": "#E1E5ED",
         "showgrid": true,
         "tickfont": {
          "color": "#4D5663"
         },
         "title": {
          "font": {
           "color": "#4D5663"
          },
          "text": ""
         },
         "zerolinecolor": "#E1E5ED"
        },
        "yaxis": {
         "gridcolor": "#E1E5ED",
         "showgrid": true,
         "tickfont": {
          "color": "#4D5663"
         },
         "title": {
          "font": {
           "color": "#4D5663"
          },
          "text": ""
         },
         "zerolinecolor": "#E1E5ED"
        }
       }
      },
      "text/html": [
       "<div>\n",
       "        \n",
       "        \n",
       "            <div id=\"1d3435f6-54ae-49b3-aed7-4d08ff31add1\" class=\"plotly-graph-div\" style=\"height:525px; width:100%;\"></div>\n",
       "            <script type=\"text/javascript\">\n",
       "                require([\"plotly\"], function(Plotly) {\n",
       "                    window.PLOTLYENV=window.PLOTLYENV || {};\n",
       "                    window.PLOTLYENV.BASE_URL='https://plot.ly';\n",
       "                    \n",
       "                if (document.getElementById(\"1d3435f6-54ae-49b3-aed7-4d08ff31add1\")) {\n",
       "                    Plotly.newPlot(\n",
       "                        '1d3435f6-54ae-49b3-aed7-4d08ff31add1',\n",
       "                        [{\"colorscale\": [[0.0, \"rgb(165,0,38)\"], [0.1, \"rgb(215,48,39)\"], [0.2, \"rgb(244,109,67)\"], [0.3, \"rgb(253,174,97)\"], [0.4, \"rgb(254,224,144)\"], [0.5, \"rgb(255,255,191)\"], [0.6, \"rgb(224,243,248)\"], [0.7, \"rgb(171,217,233)\"], [0.8, \"rgb(116,173,209)\"], [0.9, \"rgb(69,117,180)\"], [1.0, \"rgb(49,54,149)\"]], \"type\": \"surface\", \"x\": [0, 1, 2, 3, 4], \"y\": [\"x\", \"y\", \"z\"], \"z\": [[1, 2, 3, 4, 5], [10, 20, 30, 20, 10], [5, 4, 3, 2, 1]]}],\n",
       "                        {\"legend\": {\"bgcolor\": \"#F5F6F9\", \"font\": {\"color\": \"#4D5663\"}}, \"paper_bgcolor\": \"#F5F6F9\", \"plot_bgcolor\": \"#F5F6F9\", \"template\": {\"data\": {\"bar\": [{\"error_x\": {\"color\": \"#2a3f5f\"}, \"error_y\": {\"color\": \"#2a3f5f\"}, \"marker\": {\"line\": {\"color\": \"#E5ECF6\", \"width\": 0.5}}, \"type\": \"bar\"}], \"barpolar\": [{\"marker\": {\"line\": {\"color\": \"#E5ECF6\", \"width\": 0.5}}, \"type\": \"barpolar\"}], \"carpet\": [{\"aaxis\": {\"endlinecolor\": \"#2a3f5f\", \"gridcolor\": \"white\", \"linecolor\": \"white\", \"minorgridcolor\": \"white\", \"startlinecolor\": \"#2a3f5f\"}, \"baxis\": {\"endlinecolor\": \"#2a3f5f\", \"gridcolor\": \"white\", \"linecolor\": \"white\", \"minorgridcolor\": \"white\", \"startlinecolor\": \"#2a3f5f\"}, \"type\": \"carpet\"}], \"choropleth\": [{\"colorbar\": {\"outlinewidth\": 0, \"ticks\": \"\"}, \"type\": \"choropleth\"}], \"contour\": [{\"colorbar\": {\"outlinewidth\": 0, \"ticks\": \"\"}, \"colorscale\": [[0.0, \"#0d0887\"], [0.1111111111111111, \"#46039f\"], [0.2222222222222222, \"#7201a8\"], [0.3333333333333333, \"#9c179e\"], [0.4444444444444444, \"#bd3786\"], [0.5555555555555556, \"#d8576b\"], [0.6666666666666666, \"#ed7953\"], [0.7777777777777778, \"#fb9f3a\"], [0.8888888888888888, \"#fdca26\"], [1.0, \"#f0f921\"]], \"type\": \"contour\"}], \"contourcarpet\": [{\"colorbar\": {\"outlinewidth\": 0, \"ticks\": \"\"}, \"type\": \"contourcarpet\"}], \"heatmap\": [{\"colorbar\": {\"outlinewidth\": 0, \"ticks\": \"\"}, \"colorscale\": [[0.0, \"#0d0887\"], [0.1111111111111111, \"#46039f\"], [0.2222222222222222, \"#7201a8\"], [0.3333333333333333, \"#9c179e\"], [0.4444444444444444, \"#bd3786\"], [0.5555555555555556, \"#d8576b\"], [0.6666666666666666, \"#ed7953\"], [0.7777777777777778, \"#fb9f3a\"], [0.8888888888888888, \"#fdca26\"], [1.0, \"#f0f921\"]], \"type\": \"heatmap\"}], \"heatmapgl\": [{\"colorbar\": {\"outlinewidth\": 0, \"ticks\": \"\"}, \"colorscale\": [[0.0, \"#0d0887\"], [0.1111111111111111, \"#46039f\"], [0.2222222222222222, \"#7201a8\"], [0.3333333333333333, \"#9c179e\"], [0.4444444444444444, \"#bd3786\"], [0.5555555555555556, \"#d8576b\"], [0.6666666666666666, \"#ed7953\"], [0.7777777777777778, \"#fb9f3a\"], [0.8888888888888888, \"#fdca26\"], [1.0, \"#f0f921\"]], \"type\": \"heatmapgl\"}], \"histogram\": [{\"marker\": {\"colorbar\": {\"outlinewidth\": 0, \"ticks\": \"\"}}, \"type\": \"histogram\"}], \"histogram2d\": [{\"colorbar\": {\"outlinewidth\": 0, \"ticks\": \"\"}, \"colorscale\": [[0.0, \"#0d0887\"], [0.1111111111111111, \"#46039f\"], [0.2222222222222222, \"#7201a8\"], [0.3333333333333333, \"#9c179e\"], [0.4444444444444444, \"#bd3786\"], [0.5555555555555556, \"#d8576b\"], [0.6666666666666666, \"#ed7953\"], [0.7777777777777778, \"#fb9f3a\"], [0.8888888888888888, \"#fdca26\"], [1.0, \"#f0f921\"]], \"type\": \"histogram2d\"}], \"histogram2dcontour\": [{\"colorbar\": {\"outlinewidth\": 0, \"ticks\": \"\"}, \"colorscale\": [[0.0, \"#0d0887\"], [0.1111111111111111, \"#46039f\"], [0.2222222222222222, \"#7201a8\"], [0.3333333333333333, \"#9c179e\"], [0.4444444444444444, \"#bd3786\"], [0.5555555555555556, \"#d8576b\"], [0.6666666666666666, \"#ed7953\"], [0.7777777777777778, \"#fb9f3a\"], [0.8888888888888888, \"#fdca26\"], [1.0, \"#f0f921\"]], \"type\": \"histogram2dcontour\"}], \"mesh3d\": [{\"colorbar\": {\"outlinewidth\": 0, \"ticks\": \"\"}, \"type\": \"mesh3d\"}], \"parcoords\": [{\"line\": {\"colorbar\": {\"outlinewidth\": 0, \"ticks\": \"\"}}, \"type\": \"parcoords\"}], \"scatter\": [{\"marker\": {\"colorbar\": {\"outlinewidth\": 0, \"ticks\": \"\"}}, \"type\": \"scatter\"}], \"scatter3d\": [{\"line\": {\"colorbar\": {\"outlinewidth\": 0, \"ticks\": \"\"}}, \"marker\": {\"colorbar\": {\"outlinewidth\": 0, \"ticks\": \"\"}}, \"type\": \"scatter3d\"}], \"scattercarpet\": [{\"marker\": {\"colorbar\": {\"outlinewidth\": 0, \"ticks\": \"\"}}, \"type\": \"scattercarpet\"}], \"scattergeo\": [{\"marker\": {\"colorbar\": {\"outlinewidth\": 0, \"ticks\": \"\"}}, \"type\": \"scattergeo\"}], \"scattergl\": [{\"marker\": {\"colorbar\": {\"outlinewidth\": 0, \"ticks\": \"\"}}, \"type\": \"scattergl\"}], \"scattermapbox\": [{\"marker\": {\"colorbar\": {\"outlinewidth\": 0, \"ticks\": \"\"}}, \"type\": \"scattermapbox\"}], \"scatterpolar\": [{\"marker\": {\"colorbar\": {\"outlinewidth\": 0, \"ticks\": \"\"}}, \"type\": \"scatterpolar\"}], \"scatterpolargl\": [{\"marker\": {\"colorbar\": {\"outlinewidth\": 0, \"ticks\": \"\"}}, \"type\": \"scatterpolargl\"}], \"scatterternary\": [{\"marker\": {\"colorbar\": {\"outlinewidth\": 0, \"ticks\": \"\"}}, \"type\": \"scatterternary\"}], \"surface\": [{\"colorbar\": {\"outlinewidth\": 0, \"ticks\": \"\"}, \"colorscale\": [[0.0, \"#0d0887\"], [0.1111111111111111, \"#46039f\"], [0.2222222222222222, \"#7201a8\"], [0.3333333333333333, \"#9c179e\"], [0.4444444444444444, \"#bd3786\"], [0.5555555555555556, \"#d8576b\"], [0.6666666666666666, \"#ed7953\"], [0.7777777777777778, \"#fb9f3a\"], [0.8888888888888888, \"#fdca26\"], [1.0, \"#f0f921\"]], \"type\": \"surface\"}], \"table\": [{\"cells\": {\"fill\": {\"color\": \"#EBF0F8\"}, \"line\": {\"color\": \"white\"}}, \"header\": {\"fill\": {\"color\": \"#C8D4E3\"}, \"line\": {\"color\": \"white\"}}, \"type\": \"table\"}]}, \"layout\": {\"annotationdefaults\": {\"arrowcolor\": \"#2a3f5f\", \"arrowhead\": 0, \"arrowwidth\": 1}, \"colorscale\": {\"diverging\": [[0, \"#8e0152\"], [0.1, \"#c51b7d\"], [0.2, \"#de77ae\"], [0.3, \"#f1b6da\"], [0.4, \"#fde0ef\"], [0.5, \"#f7f7f7\"], [0.6, \"#e6f5d0\"], [0.7, \"#b8e186\"], [0.8, \"#7fbc41\"], [0.9, \"#4d9221\"], [1, \"#276419\"]], \"sequential\": [[0.0, \"#0d0887\"], [0.1111111111111111, \"#46039f\"], [0.2222222222222222, \"#7201a8\"], [0.3333333333333333, \"#9c179e\"], [0.4444444444444444, \"#bd3786\"], [0.5555555555555556, \"#d8576b\"], [0.6666666666666666, \"#ed7953\"], [0.7777777777777778, \"#fb9f3a\"], [0.8888888888888888, \"#fdca26\"], [1.0, \"#f0f921\"]], \"sequentialminus\": [[0.0, \"#0d0887\"], [0.1111111111111111, \"#46039f\"], [0.2222222222222222, \"#7201a8\"], [0.3333333333333333, \"#9c179e\"], [0.4444444444444444, \"#bd3786\"], [0.5555555555555556, \"#d8576b\"], [0.6666666666666666, \"#ed7953\"], [0.7777777777777778, \"#fb9f3a\"], [0.8888888888888888, \"#fdca26\"], [1.0, \"#f0f921\"]]}, \"colorway\": [\"#636efa\", \"#EF553B\", \"#00cc96\", \"#ab63fa\", \"#FFA15A\", \"#19d3f3\", \"#FF6692\", \"#B6E880\", \"#FF97FF\", \"#FECB52\"], \"font\": {\"color\": \"#2a3f5f\"}, \"geo\": {\"bgcolor\": \"white\", \"lakecolor\": \"white\", \"landcolor\": \"#E5ECF6\", \"showlakes\": true, \"showland\": true, \"subunitcolor\": \"white\"}, \"hoverlabel\": {\"align\": \"left\"}, \"hovermode\": \"closest\", \"mapbox\": {\"style\": \"light\"}, \"paper_bgcolor\": \"white\", \"plot_bgcolor\": \"#E5ECF6\", \"polar\": {\"angularaxis\": {\"gridcolor\": \"white\", \"linecolor\": \"white\", \"ticks\": \"\"}, \"bgcolor\": \"#E5ECF6\", \"radialaxis\": {\"gridcolor\": \"white\", \"linecolor\": \"white\", \"ticks\": \"\"}}, \"scene\": {\"xaxis\": {\"backgroundcolor\": \"#E5ECF6\", \"gridcolor\": \"white\", \"gridwidth\": 2, \"linecolor\": \"white\", \"showbackground\": true, \"ticks\": \"\", \"zerolinecolor\": \"white\"}, \"yaxis\": {\"backgroundcolor\": \"#E5ECF6\", \"gridcolor\": \"white\", \"gridwidth\": 2, \"linecolor\": \"white\", \"showbackground\": true, \"ticks\": \"\", \"zerolinecolor\": \"white\"}, \"zaxis\": {\"backgroundcolor\": \"#E5ECF6\", \"gridcolor\": \"white\", \"gridwidth\": 2, \"linecolor\": \"white\", \"showbackground\": true, \"ticks\": \"\", \"zerolinecolor\": \"white\"}}, \"shapedefaults\": {\"line\": {\"color\": \"#2a3f5f\"}}, \"ternary\": {\"aaxis\": {\"gridcolor\": \"white\", \"linecolor\": \"white\", \"ticks\": \"\"}, \"baxis\": {\"gridcolor\": \"white\", \"linecolor\": \"white\", \"ticks\": \"\"}, \"bgcolor\": \"#E5ECF6\", \"caxis\": {\"gridcolor\": \"white\", \"linecolor\": \"white\", \"ticks\": \"\"}}, \"title\": {\"x\": 0.05}, \"xaxis\": {\"automargin\": true, \"gridcolor\": \"white\", \"linecolor\": \"white\", \"ticks\": \"\", \"zerolinecolor\": \"white\", \"zerolinewidth\": 2}, \"yaxis\": {\"automargin\": true, \"gridcolor\": \"white\", \"linecolor\": \"white\", \"ticks\": \"\", \"zerolinecolor\": \"white\", \"zerolinewidth\": 2}}}, \"title\": {\"font\": {\"color\": \"#4D5663\"}}, \"xaxis\": {\"gridcolor\": \"#E1E5ED\", \"showgrid\": true, \"tickfont\": {\"color\": \"#4D5663\"}, \"title\": {\"font\": {\"color\": \"#4D5663\"}, \"text\": \"\"}, \"zerolinecolor\": \"#E1E5ED\"}, \"yaxis\": {\"gridcolor\": \"#E1E5ED\", \"showgrid\": true, \"tickfont\": {\"color\": \"#4D5663\"}, \"title\": {\"font\": {\"color\": \"#4D5663\"}, \"text\": \"\"}, \"zerolinecolor\": \"#E1E5ED\"}},\n",
       "                        {\"showLink\": true, \"linkText\": \"Export to plot.ly\", \"plotlyServerURL\": \"https://plot.ly\", \"responsive\": true}\n",
       "                    ).then(function(){\n",
       "                            \n",
       "var gd = document.getElementById('1d3435f6-54ae-49b3-aed7-4d08ff31add1');\n",
       "var x = new MutationObserver(function (mutations, observer) {{\n",
       "        var display = window.getComputedStyle(gd).display;\n",
       "        if (!display || display === 'none') {{\n",
       "            console.log([gd, 'removed!']);\n",
       "            Plotly.purge(gd);\n",
       "            observer.disconnect();\n",
       "        }}\n",
       "}});\n",
       "\n",
       "// Listen for the removal of the full notebook cells\n",
       "var notebookContainer = gd.closest('#notebook-container');\n",
       "if (notebookContainer) {{\n",
       "    x.observe(notebookContainer, {childList: true});\n",
       "}}\n",
       "\n",
       "// Listen for the clearing of the current output cell\n",
       "var outputEl = gd.closest('.output');\n",
       "if (outputEl) {{\n",
       "    x.observe(outputEl, {childList: true});\n",
       "}}\n",
       "\n",
       "                        })\n",
       "                };\n",
       "                });\n",
       "            </script>\n",
       "        </div>"
      ]
     },
     "metadata": {},
     "output_type": "display_data"
    }
   ],
   "source": [
    "df3.iplot(kind = 'surface', colorscale = 'rdylbu')\n",
    "\n",
    "## We can change the colors of our plot by callind the colorscale parameter -> Do not match up exactly with matplotlib's\n",
    "## colormaps"
   ]
  },
  {
   "cell_type": "code",
   "execution_count": 21,
   "metadata": {},
   "outputs": [
    {
     "data": {
      "application/vnd.plotly.v1+json": {
       "config": {
        "linkText": "Export to plot.ly",
        "plotlyServerURL": "https://plot.ly",
        "showLink": true
       },
       "data": [
        {
         "histfunc": "count",
         "histnorm": "",
         "marker": {
          "color": "rgba(255, 153, 51, 1.0)",
          "line": {
           "color": "#4D5663",
           "width": 1.3
          }
         },
         "name": "A",
         "nbinsx": 50,
         "opacity": 0.8,
         "orientation": "v",
         "type": "histogram",
         "x": [
          -0.06542778015912247,
          -0.4983315985004792,
          -0.3932665761127589,
          -0.10616396259826238,
          -0.26207506689955234,
          0.7886670736320832,
          -0.14377426502187782,
          -0.15273724910094455,
          -1.1338234021817963,
          0.0009770267116028946,
          -0.7324620416267447,
          0.06043111318599064,
          0.623615648635299,
          -0.9898932119379665,
          -0.45086070577257026,
          -0.830303964658216,
          1.5716630654715504,
          -1.0974693696329356,
          0.4558388327103945,
          1.2170495932316205,
          -0.32981680298429955,
          0.2582423394595888,
          0.4888856866509463,
          -0.6121681967574407,
          -0.5414245020009553,
          2.713140457391276,
          1.7423907028996293,
          0.14142226924657475,
          1.6632119799987835,
          -1.1316432740780005,
          0.3761480797940717,
          -0.5145111245715915,
          0.15963736908855272,
          0.8356735998848508,
          -0.3565600825442002,
          1.157899333248228,
          -0.4096165797423869,
          0.5249195501867103,
          0.5653237593734552,
          1.072675824030473,
          -1.7986968659667908,
          0.09444932233020178,
          0.37476626326860707,
          -0.06564736959465206,
          0.28052433882468464,
          0.7190140964012359,
          -1.5830392770914365,
          0.2644929549909655,
          -1.0006939493489782,
          0.23636146599124183,
          0.39176536250665306,
          1.0010977258940492,
          0.10143316005483165,
          -0.3368213254581548,
          -0.2971587471713649,
          -0.026228244623694424,
          0.6624173371633474,
          -1.7218637928707545,
          -0.5923164125061781,
          -0.34970068099215595,
          -0.12555665412014028,
          -0.16897186432076375,
          0.40905865555379467,
          -0.6632048676391282,
          1.0816531446896442,
          -0.08061085564831709,
          -0.6898727254749667,
          -0.05582287614843459,
          0.019644984580532536,
          -0.24593277126504068,
          0.2647198186254047,
          -2.6985599960128646,
          -0.2857060352657619,
          -0.7059336808840253,
          0.17851344877915792,
          -1.1872112018363015,
          0.356400427218362,
          0.6949620719212402,
          1.7193507242959798,
          0.15045354017786597,
          -0.18479491530568848,
          -1.239764615178371,
          0.09444746482720447,
          -0.45253402974609547,
          1.5240444051796522,
          -0.7166957289144503,
          1.5593468757849867,
          -1.8811576668979677,
          -1.4952705913795905,
          0.23129604965371198,
          -0.008759735894900082,
          0.15443482118378815,
          -1.4297427857966751,
          -0.06765988265773787,
          -0.996787930590609,
          -0.4145939334371296,
          -0.43632955465216916,
          -0.7186990577837588,
          0.5636984699664023,
          0.21842881420586344
         ]
        }
       ],
       "layout": {
        "barmode": "overlay",
        "legend": {
         "bgcolor": "#F5F6F9",
         "font": {
          "color": "#4D5663"
         }
        },
        "paper_bgcolor": "#F5F6F9",
        "plot_bgcolor": "#F5F6F9",
        "template": {
         "data": {
          "bar": [
           {
            "error_x": {
             "color": "#2a3f5f"
            },
            "error_y": {
             "color": "#2a3f5f"
            },
            "marker": {
             "line": {
              "color": "#E5ECF6",
              "width": 0.5
             }
            },
            "type": "bar"
           }
          ],
          "barpolar": [
           {
            "marker": {
             "line": {
              "color": "#E5ECF6",
              "width": 0.5
             }
            },
            "type": "barpolar"
           }
          ],
          "carpet": [
           {
            "aaxis": {
             "endlinecolor": "#2a3f5f",
             "gridcolor": "white",
             "linecolor": "white",
             "minorgridcolor": "white",
             "startlinecolor": "#2a3f5f"
            },
            "baxis": {
             "endlinecolor": "#2a3f5f",
             "gridcolor": "white",
             "linecolor": "white",
             "minorgridcolor": "white",
             "startlinecolor": "#2a3f5f"
            },
            "type": "carpet"
           }
          ],
          "choropleth": [
           {
            "colorbar": {
             "outlinewidth": 0,
             "ticks": ""
            },
            "type": "choropleth"
           }
          ],
          "contour": [
           {
            "colorbar": {
             "outlinewidth": 0,
             "ticks": ""
            },
            "colorscale": [
             [
              0,
              "#0d0887"
             ],
             [
              0.1111111111111111,
              "#46039f"
             ],
             [
              0.2222222222222222,
              "#7201a8"
             ],
             [
              0.3333333333333333,
              "#9c179e"
             ],
             [
              0.4444444444444444,
              "#bd3786"
             ],
             [
              0.5555555555555556,
              "#d8576b"
             ],
             [
              0.6666666666666666,
              "#ed7953"
             ],
             [
              0.7777777777777778,
              "#fb9f3a"
             ],
             [
              0.8888888888888888,
              "#fdca26"
             ],
             [
              1,
              "#f0f921"
             ]
            ],
            "type": "contour"
           }
          ],
          "contourcarpet": [
           {
            "colorbar": {
             "outlinewidth": 0,
             "ticks": ""
            },
            "type": "contourcarpet"
           }
          ],
          "heatmap": [
           {
            "colorbar": {
             "outlinewidth": 0,
             "ticks": ""
            },
            "colorscale": [
             [
              0,
              "#0d0887"
             ],
             [
              0.1111111111111111,
              "#46039f"
             ],
             [
              0.2222222222222222,
              "#7201a8"
             ],
             [
              0.3333333333333333,
              "#9c179e"
             ],
             [
              0.4444444444444444,
              "#bd3786"
             ],
             [
              0.5555555555555556,
              "#d8576b"
             ],
             [
              0.6666666666666666,
              "#ed7953"
             ],
             [
              0.7777777777777778,
              "#fb9f3a"
             ],
             [
              0.8888888888888888,
              "#fdca26"
             ],
             [
              1,
              "#f0f921"
             ]
            ],
            "type": "heatmap"
           }
          ],
          "heatmapgl": [
           {
            "colorbar": {
             "outlinewidth": 0,
             "ticks": ""
            },
            "colorscale": [
             [
              0,
              "#0d0887"
             ],
             [
              0.1111111111111111,
              "#46039f"
             ],
             [
              0.2222222222222222,
              "#7201a8"
             ],
             [
              0.3333333333333333,
              "#9c179e"
             ],
             [
              0.4444444444444444,
              "#bd3786"
             ],
             [
              0.5555555555555556,
              "#d8576b"
             ],
             [
              0.6666666666666666,
              "#ed7953"
             ],
             [
              0.7777777777777778,
              "#fb9f3a"
             ],
             [
              0.8888888888888888,
              "#fdca26"
             ],
             [
              1,
              "#f0f921"
             ]
            ],
            "type": "heatmapgl"
           }
          ],
          "histogram": [
           {
            "marker": {
             "colorbar": {
              "outlinewidth": 0,
              "ticks": ""
             }
            },
            "type": "histogram"
           }
          ],
          "histogram2d": [
           {
            "colorbar": {
             "outlinewidth": 0,
             "ticks": ""
            },
            "colorscale": [
             [
              0,
              "#0d0887"
             ],
             [
              0.1111111111111111,
              "#46039f"
             ],
             [
              0.2222222222222222,
              "#7201a8"
             ],
             [
              0.3333333333333333,
              "#9c179e"
             ],
             [
              0.4444444444444444,
              "#bd3786"
             ],
             [
              0.5555555555555556,
              "#d8576b"
             ],
             [
              0.6666666666666666,
              "#ed7953"
             ],
             [
              0.7777777777777778,
              "#fb9f3a"
             ],
             [
              0.8888888888888888,
              "#fdca26"
             ],
             [
              1,
              "#f0f921"
             ]
            ],
            "type": "histogram2d"
           }
          ],
          "histogram2dcontour": [
           {
            "colorbar": {
             "outlinewidth": 0,
             "ticks": ""
            },
            "colorscale": [
             [
              0,
              "#0d0887"
             ],
             [
              0.1111111111111111,
              "#46039f"
             ],
             [
              0.2222222222222222,
              "#7201a8"
             ],
             [
              0.3333333333333333,
              "#9c179e"
             ],
             [
              0.4444444444444444,
              "#bd3786"
             ],
             [
              0.5555555555555556,
              "#d8576b"
             ],
             [
              0.6666666666666666,
              "#ed7953"
             ],
             [
              0.7777777777777778,
              "#fb9f3a"
             ],
             [
              0.8888888888888888,
              "#fdca26"
             ],
             [
              1,
              "#f0f921"
             ]
            ],
            "type": "histogram2dcontour"
           }
          ],
          "mesh3d": [
           {
            "colorbar": {
             "outlinewidth": 0,
             "ticks": ""
            },
            "type": "mesh3d"
           }
          ],
          "parcoords": [
           {
            "line": {
             "colorbar": {
              "outlinewidth": 0,
              "ticks": ""
             }
            },
            "type": "parcoords"
           }
          ],
          "scatter": [
           {
            "marker": {
             "colorbar": {
              "outlinewidth": 0,
              "ticks": ""
             }
            },
            "type": "scatter"
           }
          ],
          "scatter3d": [
           {
            "line": {
             "colorbar": {
              "outlinewidth": 0,
              "ticks": ""
             }
            },
            "marker": {
             "colorbar": {
              "outlinewidth": 0,
              "ticks": ""
             }
            },
            "type": "scatter3d"
           }
          ],
          "scattercarpet": [
           {
            "marker": {
             "colorbar": {
              "outlinewidth": 0,
              "ticks": ""
             }
            },
            "type": "scattercarpet"
           }
          ],
          "scattergeo": [
           {
            "marker": {
             "colorbar": {
              "outlinewidth": 0,
              "ticks": ""
             }
            },
            "type": "scattergeo"
           }
          ],
          "scattergl": [
           {
            "marker": {
             "colorbar": {
              "outlinewidth": 0,
              "ticks": ""
             }
            },
            "type": "scattergl"
           }
          ],
          "scattermapbox": [
           {
            "marker": {
             "colorbar": {
              "outlinewidth": 0,
              "ticks": ""
             }
            },
            "type": "scattermapbox"
           }
          ],
          "scatterpolar": [
           {
            "marker": {
             "colorbar": {
              "outlinewidth": 0,
              "ticks": ""
             }
            },
            "type": "scatterpolar"
           }
          ],
          "scatterpolargl": [
           {
            "marker": {
             "colorbar": {
              "outlinewidth": 0,
              "ticks": ""
             }
            },
            "type": "scatterpolargl"
           }
          ],
          "scatterternary": [
           {
            "marker": {
             "colorbar": {
              "outlinewidth": 0,
              "ticks": ""
             }
            },
            "type": "scatterternary"
           }
          ],
          "surface": [
           {
            "colorbar": {
             "outlinewidth": 0,
             "ticks": ""
            },
            "colorscale": [
             [
              0,
              "#0d0887"
             ],
             [
              0.1111111111111111,
              "#46039f"
             ],
             [
              0.2222222222222222,
              "#7201a8"
             ],
             [
              0.3333333333333333,
              "#9c179e"
             ],
             [
              0.4444444444444444,
              "#bd3786"
             ],
             [
              0.5555555555555556,
              "#d8576b"
             ],
             [
              0.6666666666666666,
              "#ed7953"
             ],
             [
              0.7777777777777778,
              "#fb9f3a"
             ],
             [
              0.8888888888888888,
              "#fdca26"
             ],
             [
              1,
              "#f0f921"
             ]
            ],
            "type": "surface"
           }
          ],
          "table": [
           {
            "cells": {
             "fill": {
              "color": "#EBF0F8"
             },
             "line": {
              "color": "white"
             }
            },
            "header": {
             "fill": {
              "color": "#C8D4E3"
             },
             "line": {
              "color": "white"
             }
            },
            "type": "table"
           }
          ]
         },
         "layout": {
          "annotationdefaults": {
           "arrowcolor": "#2a3f5f",
           "arrowhead": 0,
           "arrowwidth": 1
          },
          "colorscale": {
           "diverging": [
            [
             0,
             "#8e0152"
            ],
            [
             0.1,
             "#c51b7d"
            ],
            [
             0.2,
             "#de77ae"
            ],
            [
             0.3,
             "#f1b6da"
            ],
            [
             0.4,
             "#fde0ef"
            ],
            [
             0.5,
             "#f7f7f7"
            ],
            [
             0.6,
             "#e6f5d0"
            ],
            [
             0.7,
             "#b8e186"
            ],
            [
             0.8,
             "#7fbc41"
            ],
            [
             0.9,
             "#4d9221"
            ],
            [
             1,
             "#276419"
            ]
           ],
           "sequential": [
            [
             0,
             "#0d0887"
            ],
            [
             0.1111111111111111,
             "#46039f"
            ],
            [
             0.2222222222222222,
             "#7201a8"
            ],
            [
             0.3333333333333333,
             "#9c179e"
            ],
            [
             0.4444444444444444,
             "#bd3786"
            ],
            [
             0.5555555555555556,
             "#d8576b"
            ],
            [
             0.6666666666666666,
             "#ed7953"
            ],
            [
             0.7777777777777778,
             "#fb9f3a"
            ],
            [
             0.8888888888888888,
             "#fdca26"
            ],
            [
             1,
             "#f0f921"
            ]
           ],
           "sequentialminus": [
            [
             0,
             "#0d0887"
            ],
            [
             0.1111111111111111,
             "#46039f"
            ],
            [
             0.2222222222222222,
             "#7201a8"
            ],
            [
             0.3333333333333333,
             "#9c179e"
            ],
            [
             0.4444444444444444,
             "#bd3786"
            ],
            [
             0.5555555555555556,
             "#d8576b"
            ],
            [
             0.6666666666666666,
             "#ed7953"
            ],
            [
             0.7777777777777778,
             "#fb9f3a"
            ],
            [
             0.8888888888888888,
             "#fdca26"
            ],
            [
             1,
             "#f0f921"
            ]
           ]
          },
          "colorway": [
           "#636efa",
           "#EF553B",
           "#00cc96",
           "#ab63fa",
           "#FFA15A",
           "#19d3f3",
           "#FF6692",
           "#B6E880",
           "#FF97FF",
           "#FECB52"
          ],
          "font": {
           "color": "#2a3f5f"
          },
          "geo": {
           "bgcolor": "white",
           "lakecolor": "white",
           "landcolor": "#E5ECF6",
           "showlakes": true,
           "showland": true,
           "subunitcolor": "white"
          },
          "hoverlabel": {
           "align": "left"
          },
          "hovermode": "closest",
          "mapbox": {
           "style": "light"
          },
          "paper_bgcolor": "white",
          "plot_bgcolor": "#E5ECF6",
          "polar": {
           "angularaxis": {
            "gridcolor": "white",
            "linecolor": "white",
            "ticks": ""
           },
           "bgcolor": "#E5ECF6",
           "radialaxis": {
            "gridcolor": "white",
            "linecolor": "white",
            "ticks": ""
           }
          },
          "scene": {
           "xaxis": {
            "backgroundcolor": "#E5ECF6",
            "gridcolor": "white",
            "gridwidth": 2,
            "linecolor": "white",
            "showbackground": true,
            "ticks": "",
            "zerolinecolor": "white"
           },
           "yaxis": {
            "backgroundcolor": "#E5ECF6",
            "gridcolor": "white",
            "gridwidth": 2,
            "linecolor": "white",
            "showbackground": true,
            "ticks": "",
            "zerolinecolor": "white"
           },
           "zaxis": {
            "backgroundcolor": "#E5ECF6",
            "gridcolor": "white",
            "gridwidth": 2,
            "linecolor": "white",
            "showbackground": true,
            "ticks": "",
            "zerolinecolor": "white"
           }
          },
          "shapedefaults": {
           "line": {
            "color": "#2a3f5f"
           }
          },
          "ternary": {
           "aaxis": {
            "gridcolor": "white",
            "linecolor": "white",
            "ticks": ""
           },
           "baxis": {
            "gridcolor": "white",
            "linecolor": "white",
            "ticks": ""
           },
           "bgcolor": "#E5ECF6",
           "caxis": {
            "gridcolor": "white",
            "linecolor": "white",
            "ticks": ""
           }
          },
          "title": {
           "x": 0.05
          },
          "xaxis": {
           "automargin": true,
           "gridcolor": "white",
           "linecolor": "white",
           "ticks": "",
           "zerolinecolor": "white",
           "zerolinewidth": 2
          },
          "yaxis": {
           "automargin": true,
           "gridcolor": "white",
           "linecolor": "white",
           "ticks": "",
           "zerolinecolor": "white",
           "zerolinewidth": 2
          }
         }
        },
        "title": {
         "font": {
          "color": "#4D5663"
         }
        },
        "xaxis": {
         "gridcolor": "#E1E5ED",
         "showgrid": true,
         "tickfont": {
          "color": "#4D5663"
         },
         "title": {
          "font": {
           "color": "#4D5663"
          },
          "text": ""
         },
         "zerolinecolor": "#E1E5ED"
        },
        "yaxis": {
         "gridcolor": "#E1E5ED",
         "showgrid": true,
         "tickfont": {
          "color": "#4D5663"
         },
         "title": {
          "font": {
           "color": "#4D5663"
          },
          "text": ""
         },
         "zerolinecolor": "#E1E5ED"
        }
       }
      },
      "text/html": [
       "<div>\n",
       "        \n",
       "        \n",
       "            <div id=\"7d9a3f8e-5513-4074-9902-b35305ec579c\" class=\"plotly-graph-div\" style=\"height:525px; width:100%;\"></div>\n",
       "            <script type=\"text/javascript\">\n",
       "                require([\"plotly\"], function(Plotly) {\n",
       "                    window.PLOTLYENV=window.PLOTLYENV || {};\n",
       "                    window.PLOTLYENV.BASE_URL='https://plot.ly';\n",
       "                    \n",
       "                if (document.getElementById(\"7d9a3f8e-5513-4074-9902-b35305ec579c\")) {\n",
       "                    Plotly.newPlot(\n",
       "                        '7d9a3f8e-5513-4074-9902-b35305ec579c',\n",
       "                        [{\"histfunc\": \"count\", \"histnorm\": \"\", \"marker\": {\"color\": \"rgba(255, 153, 51, 1.0)\", \"line\": {\"color\": \"#4D5663\", \"width\": 1.3}}, \"name\": \"A\", \"nbinsx\": 50, \"opacity\": 0.8, \"orientation\": \"v\", \"type\": \"histogram\", \"x\": [-0.06542778015912247, -0.4983315985004792, -0.3932665761127589, -0.10616396259826238, -0.26207506689955234, 0.7886670736320832, -0.14377426502187782, -0.15273724910094455, -1.1338234021817963, 0.0009770267116028946, -0.7324620416267447, 0.06043111318599064, 0.623615648635299, -0.9898932119379665, -0.45086070577257026, -0.830303964658216, 1.5716630654715504, -1.0974693696329356, 0.4558388327103945, 1.2170495932316205, -0.32981680298429955, 0.2582423394595888, 0.4888856866509463, -0.6121681967574407, -0.5414245020009553, 2.713140457391276, 1.7423907028996293, 0.14142226924657475, 1.6632119799987835, -1.1316432740780005, 0.3761480797940717, -0.5145111245715915, 0.15963736908855272, 0.8356735998848508, -0.3565600825442002, 1.157899333248228, -0.4096165797423869, 0.5249195501867103, 0.5653237593734552, 1.072675824030473, -1.7986968659667908, 0.09444932233020178, 0.37476626326860707, -0.06564736959465206, 0.28052433882468464, 0.7190140964012359, -1.5830392770914365, 0.2644929549909655, -1.0006939493489782, 0.23636146599124183, 0.39176536250665306, 1.0010977258940492, 0.10143316005483165, -0.3368213254581548, -0.2971587471713649, -0.026228244623694424, 0.6624173371633474, -1.7218637928707545, -0.5923164125061781, -0.34970068099215595, -0.12555665412014028, -0.16897186432076375, 0.40905865555379467, -0.6632048676391282, 1.0816531446896442, -0.08061085564831709, -0.6898727254749667, -0.05582287614843459, 0.019644984580532536, -0.24593277126504068, 0.2647198186254047, -2.6985599960128646, -0.2857060352657619, -0.7059336808840253, 0.17851344877915792, -1.1872112018363015, 0.356400427218362, 0.6949620719212402, 1.7193507242959798, 0.15045354017786597, -0.18479491530568848, -1.239764615178371, 0.09444746482720447, -0.45253402974609547, 1.5240444051796522, -0.7166957289144503, 1.5593468757849867, -1.8811576668979677, -1.4952705913795905, 0.23129604965371198, -0.008759735894900082, 0.15443482118378815, -1.4297427857966751, -0.06765988265773787, -0.996787930590609, -0.4145939334371296, -0.43632955465216916, -0.7186990577837588, 0.5636984699664023, 0.21842881420586344]}],\n",
       "                        {\"barmode\": \"overlay\", \"legend\": {\"bgcolor\": \"#F5F6F9\", \"font\": {\"color\": \"#4D5663\"}}, \"paper_bgcolor\": \"#F5F6F9\", \"plot_bgcolor\": \"#F5F6F9\", \"template\": {\"data\": {\"bar\": [{\"error_x\": {\"color\": \"#2a3f5f\"}, \"error_y\": {\"color\": \"#2a3f5f\"}, \"marker\": {\"line\": {\"color\": \"#E5ECF6\", \"width\": 0.5}}, \"type\": \"bar\"}], \"barpolar\": [{\"marker\": {\"line\": {\"color\": \"#E5ECF6\", \"width\": 0.5}}, \"type\": \"barpolar\"}], \"carpet\": [{\"aaxis\": {\"endlinecolor\": \"#2a3f5f\", \"gridcolor\": \"white\", \"linecolor\": \"white\", \"minorgridcolor\": \"white\", \"startlinecolor\": \"#2a3f5f\"}, \"baxis\": {\"endlinecolor\": \"#2a3f5f\", \"gridcolor\": \"white\", \"linecolor\": \"white\", \"minorgridcolor\": \"white\", \"startlinecolor\": \"#2a3f5f\"}, \"type\": \"carpet\"}], \"choropleth\": [{\"colorbar\": {\"outlinewidth\": 0, \"ticks\": \"\"}, \"type\": \"choropleth\"}], \"contour\": [{\"colorbar\": {\"outlinewidth\": 0, \"ticks\": \"\"}, \"colorscale\": [[0.0, \"#0d0887\"], [0.1111111111111111, \"#46039f\"], [0.2222222222222222, \"#7201a8\"], [0.3333333333333333, \"#9c179e\"], [0.4444444444444444, \"#bd3786\"], [0.5555555555555556, \"#d8576b\"], [0.6666666666666666, \"#ed7953\"], [0.7777777777777778, \"#fb9f3a\"], [0.8888888888888888, \"#fdca26\"], [1.0, \"#f0f921\"]], \"type\": \"contour\"}], \"contourcarpet\": [{\"colorbar\": {\"outlinewidth\": 0, \"ticks\": \"\"}, \"type\": \"contourcarpet\"}], \"heatmap\": [{\"colorbar\": {\"outlinewidth\": 0, \"ticks\": \"\"}, \"colorscale\": [[0.0, \"#0d0887\"], [0.1111111111111111, \"#46039f\"], [0.2222222222222222, \"#7201a8\"], [0.3333333333333333, \"#9c179e\"], [0.4444444444444444, \"#bd3786\"], [0.5555555555555556, \"#d8576b\"], [0.6666666666666666, \"#ed7953\"], [0.7777777777777778, \"#fb9f3a\"], [0.8888888888888888, \"#fdca26\"], [1.0, \"#f0f921\"]], \"type\": \"heatmap\"}], \"heatmapgl\": [{\"colorbar\": {\"outlinewidth\": 0, \"ticks\": \"\"}, \"colorscale\": [[0.0, \"#0d0887\"], [0.1111111111111111, \"#46039f\"], [0.2222222222222222, \"#7201a8\"], [0.3333333333333333, \"#9c179e\"], [0.4444444444444444, \"#bd3786\"], [0.5555555555555556, \"#d8576b\"], [0.6666666666666666, \"#ed7953\"], [0.7777777777777778, \"#fb9f3a\"], [0.8888888888888888, \"#fdca26\"], [1.0, \"#f0f921\"]], \"type\": \"heatmapgl\"}], \"histogram\": [{\"marker\": {\"colorbar\": {\"outlinewidth\": 0, \"ticks\": \"\"}}, \"type\": \"histogram\"}], \"histogram2d\": [{\"colorbar\": {\"outlinewidth\": 0, \"ticks\": \"\"}, \"colorscale\": [[0.0, \"#0d0887\"], [0.1111111111111111, \"#46039f\"], [0.2222222222222222, \"#7201a8\"], [0.3333333333333333, \"#9c179e\"], [0.4444444444444444, \"#bd3786\"], [0.5555555555555556, \"#d8576b\"], [0.6666666666666666, \"#ed7953\"], [0.7777777777777778, \"#fb9f3a\"], [0.8888888888888888, \"#fdca26\"], [1.0, \"#f0f921\"]], \"type\": \"histogram2d\"}], \"histogram2dcontour\": [{\"colorbar\": {\"outlinewidth\": 0, \"ticks\": \"\"}, \"colorscale\": [[0.0, \"#0d0887\"], [0.1111111111111111, \"#46039f\"], [0.2222222222222222, \"#7201a8\"], [0.3333333333333333, \"#9c179e\"], [0.4444444444444444, \"#bd3786\"], [0.5555555555555556, \"#d8576b\"], [0.6666666666666666, \"#ed7953\"], [0.7777777777777778, \"#fb9f3a\"], [0.8888888888888888, \"#fdca26\"], [1.0, \"#f0f921\"]], \"type\": \"histogram2dcontour\"}], \"mesh3d\": [{\"colorbar\": {\"outlinewidth\": 0, \"ticks\": \"\"}, \"type\": \"mesh3d\"}], \"parcoords\": [{\"line\": {\"colorbar\": {\"outlinewidth\": 0, \"ticks\": \"\"}}, \"type\": \"parcoords\"}], \"scatter\": [{\"marker\": {\"colorbar\": {\"outlinewidth\": 0, \"ticks\": \"\"}}, \"type\": \"scatter\"}], \"scatter3d\": [{\"line\": {\"colorbar\": {\"outlinewidth\": 0, \"ticks\": \"\"}}, \"marker\": {\"colorbar\": {\"outlinewidth\": 0, \"ticks\": \"\"}}, \"type\": \"scatter3d\"}], \"scattercarpet\": [{\"marker\": {\"colorbar\": {\"outlinewidth\": 0, \"ticks\": \"\"}}, \"type\": \"scattercarpet\"}], \"scattergeo\": [{\"marker\": {\"colorbar\": {\"outlinewidth\": 0, \"ticks\": \"\"}}, \"type\": \"scattergeo\"}], \"scattergl\": [{\"marker\": {\"colorbar\": {\"outlinewidth\": 0, \"ticks\": \"\"}}, \"type\": \"scattergl\"}], \"scattermapbox\": [{\"marker\": {\"colorbar\": {\"outlinewidth\": 0, \"ticks\": \"\"}}, \"type\": \"scattermapbox\"}], \"scatterpolar\": [{\"marker\": {\"colorbar\": {\"outlinewidth\": 0, \"ticks\": \"\"}}, \"type\": \"scatterpolar\"}], \"scatterpolargl\": [{\"marker\": {\"colorbar\": {\"outlinewidth\": 0, \"ticks\": \"\"}}, \"type\": \"scatterpolargl\"}], \"scatterternary\": [{\"marker\": {\"colorbar\": {\"outlinewidth\": 0, \"ticks\": \"\"}}, \"type\": \"scatterternary\"}], \"surface\": [{\"colorbar\": {\"outlinewidth\": 0, \"ticks\": \"\"}, \"colorscale\": [[0.0, \"#0d0887\"], [0.1111111111111111, \"#46039f\"], [0.2222222222222222, \"#7201a8\"], [0.3333333333333333, \"#9c179e\"], [0.4444444444444444, \"#bd3786\"], [0.5555555555555556, \"#d8576b\"], [0.6666666666666666, \"#ed7953\"], [0.7777777777777778, \"#fb9f3a\"], [0.8888888888888888, \"#fdca26\"], [1.0, \"#f0f921\"]], \"type\": \"surface\"}], \"table\": [{\"cells\": {\"fill\": {\"color\": \"#EBF0F8\"}, \"line\": {\"color\": \"white\"}}, \"header\": {\"fill\": {\"color\": \"#C8D4E3\"}, \"line\": {\"color\": \"white\"}}, \"type\": \"table\"}]}, \"layout\": {\"annotationdefaults\": {\"arrowcolor\": \"#2a3f5f\", \"arrowhead\": 0, \"arrowwidth\": 1}, \"colorscale\": {\"diverging\": [[0, \"#8e0152\"], [0.1, \"#c51b7d\"], [0.2, \"#de77ae\"], [0.3, \"#f1b6da\"], [0.4, \"#fde0ef\"], [0.5, \"#f7f7f7\"], [0.6, \"#e6f5d0\"], [0.7, \"#b8e186\"], [0.8, \"#7fbc41\"], [0.9, \"#4d9221\"], [1, \"#276419\"]], \"sequential\": [[0.0, \"#0d0887\"], [0.1111111111111111, \"#46039f\"], [0.2222222222222222, \"#7201a8\"], [0.3333333333333333, \"#9c179e\"], [0.4444444444444444, \"#bd3786\"], [0.5555555555555556, \"#d8576b\"], [0.6666666666666666, \"#ed7953\"], [0.7777777777777778, \"#fb9f3a\"], [0.8888888888888888, \"#fdca26\"], [1.0, \"#f0f921\"]], \"sequentialminus\": [[0.0, \"#0d0887\"], [0.1111111111111111, \"#46039f\"], [0.2222222222222222, \"#7201a8\"], [0.3333333333333333, \"#9c179e\"], [0.4444444444444444, \"#bd3786\"], [0.5555555555555556, \"#d8576b\"], [0.6666666666666666, \"#ed7953\"], [0.7777777777777778, \"#fb9f3a\"], [0.8888888888888888, \"#fdca26\"], [1.0, \"#f0f921\"]]}, \"colorway\": [\"#636efa\", \"#EF553B\", \"#00cc96\", \"#ab63fa\", \"#FFA15A\", \"#19d3f3\", \"#FF6692\", \"#B6E880\", \"#FF97FF\", \"#FECB52\"], \"font\": {\"color\": \"#2a3f5f\"}, \"geo\": {\"bgcolor\": \"white\", \"lakecolor\": \"white\", \"landcolor\": \"#E5ECF6\", \"showlakes\": true, \"showland\": true, \"subunitcolor\": \"white\"}, \"hoverlabel\": {\"align\": \"left\"}, \"hovermode\": \"closest\", \"mapbox\": {\"style\": \"light\"}, \"paper_bgcolor\": \"white\", \"plot_bgcolor\": \"#E5ECF6\", \"polar\": {\"angularaxis\": {\"gridcolor\": \"white\", \"linecolor\": \"white\", \"ticks\": \"\"}, \"bgcolor\": \"#E5ECF6\", \"radialaxis\": {\"gridcolor\": \"white\", \"linecolor\": \"white\", \"ticks\": \"\"}}, \"scene\": {\"xaxis\": {\"backgroundcolor\": \"#E5ECF6\", \"gridcolor\": \"white\", \"gridwidth\": 2, \"linecolor\": \"white\", \"showbackground\": true, \"ticks\": \"\", \"zerolinecolor\": \"white\"}, \"yaxis\": {\"backgroundcolor\": \"#E5ECF6\", \"gridcolor\": \"white\", \"gridwidth\": 2, \"linecolor\": \"white\", \"showbackground\": true, \"ticks\": \"\", \"zerolinecolor\": \"white\"}, \"zaxis\": {\"backgroundcolor\": \"#E5ECF6\", \"gridcolor\": \"white\", \"gridwidth\": 2, \"linecolor\": \"white\", \"showbackground\": true, \"ticks\": \"\", \"zerolinecolor\": \"white\"}}, \"shapedefaults\": {\"line\": {\"color\": \"#2a3f5f\"}}, \"ternary\": {\"aaxis\": {\"gridcolor\": \"white\", \"linecolor\": \"white\", \"ticks\": \"\"}, \"baxis\": {\"gridcolor\": \"white\", \"linecolor\": \"white\", \"ticks\": \"\"}, \"bgcolor\": \"#E5ECF6\", \"caxis\": {\"gridcolor\": \"white\", \"linecolor\": \"white\", \"ticks\": \"\"}}, \"title\": {\"x\": 0.05}, \"xaxis\": {\"automargin\": true, \"gridcolor\": \"white\", \"linecolor\": \"white\", \"ticks\": \"\", \"zerolinecolor\": \"white\", \"zerolinewidth\": 2}, \"yaxis\": {\"automargin\": true, \"gridcolor\": \"white\", \"linecolor\": \"white\", \"ticks\": \"\", \"zerolinecolor\": \"white\", \"zerolinewidth\": 2}}}, \"title\": {\"font\": {\"color\": \"#4D5663\"}}, \"xaxis\": {\"gridcolor\": \"#E1E5ED\", \"showgrid\": true, \"tickfont\": {\"color\": \"#4D5663\"}, \"title\": {\"font\": {\"color\": \"#4D5663\"}, \"text\": \"\"}, \"zerolinecolor\": \"#E1E5ED\"}, \"yaxis\": {\"gridcolor\": \"#E1E5ED\", \"showgrid\": true, \"tickfont\": {\"color\": \"#4D5663\"}, \"title\": {\"font\": {\"color\": \"#4D5663\"}, \"text\": \"\"}, \"zerolinecolor\": \"#E1E5ED\"}},\n",
       "                        {\"showLink\": true, \"linkText\": \"Export to plot.ly\", \"plotlyServerURL\": \"https://plot.ly\", \"responsive\": true}\n",
       "                    ).then(function(){\n",
       "                            \n",
       "var gd = document.getElementById('7d9a3f8e-5513-4074-9902-b35305ec579c');\n",
       "var x = new MutationObserver(function (mutations, observer) {{\n",
       "        var display = window.getComputedStyle(gd).display;\n",
       "        if (!display || display === 'none') {{\n",
       "            console.log([gd, 'removed!']);\n",
       "            Plotly.purge(gd);\n",
       "            observer.disconnect();\n",
       "        }}\n",
       "}});\n",
       "\n",
       "// Listen for the removal of the full notebook cells\n",
       "var notebookContainer = gd.closest('#notebook-container');\n",
       "if (notebookContainer) {{\n",
       "    x.observe(notebookContainer, {childList: true});\n",
       "}}\n",
       "\n",
       "// Listen for the clearing of the current output cell\n",
       "var outputEl = gd.closest('.output');\n",
       "if (outputEl) {{\n",
       "    x.observe(outputEl, {childList: true});\n",
       "}}\n",
       "\n",
       "                        })\n",
       "                };\n",
       "                });\n",
       "            </script>\n",
       "        </div>"
      ]
     },
     "metadata": {},
     "output_type": "display_data"
    }
   ],
   "source": [
    " ## Ex.6 Histograms \n",
    "    \n",
    "df['A'].iplot(kind = 'hist', bins = 50) ##We can also pass the whole dataframe and toggle the desired columns "
   ]
  },
  {
   "cell_type": "code",
   "execution_count": 22,
   "metadata": {},
   "outputs": [
    {
     "data": {
      "application/vnd.plotly.v1+json": {
       "config": {
        "linkText": "Export to plot.ly",
        "plotlyServerURL": "https://plot.ly",
        "showLink": true
       },
       "data": [
        {
         "histfunc": "count",
         "histnorm": "",
         "marker": {
          "color": "rgba(255, 153, 51, 1.0)",
          "line": {
           "color": "#4D5663",
           "width": 1.3
          }
         },
         "name": "A",
         "opacity": 0.8,
         "orientation": "v",
         "type": "histogram",
         "x": [
          -0.06542778015912247,
          -0.4983315985004792,
          -0.3932665761127589,
          -0.10616396259826238,
          -0.26207506689955234,
          0.7886670736320832,
          -0.14377426502187782,
          -0.15273724910094455,
          -1.1338234021817963,
          0.0009770267116028946,
          -0.7324620416267447,
          0.06043111318599064,
          0.623615648635299,
          -0.9898932119379665,
          -0.45086070577257026,
          -0.830303964658216,
          1.5716630654715504,
          -1.0974693696329356,
          0.4558388327103945,
          1.2170495932316205,
          -0.32981680298429955,
          0.2582423394595888,
          0.4888856866509463,
          -0.6121681967574407,
          -0.5414245020009553,
          2.713140457391276,
          1.7423907028996293,
          0.14142226924657475,
          1.6632119799987835,
          -1.1316432740780005,
          0.3761480797940717,
          -0.5145111245715915,
          0.15963736908855272,
          0.8356735998848508,
          -0.3565600825442002,
          1.157899333248228,
          -0.4096165797423869,
          0.5249195501867103,
          0.5653237593734552,
          1.072675824030473,
          -1.7986968659667908,
          0.09444932233020178,
          0.37476626326860707,
          -0.06564736959465206,
          0.28052433882468464,
          0.7190140964012359,
          -1.5830392770914365,
          0.2644929549909655,
          -1.0006939493489782,
          0.23636146599124183,
          0.39176536250665306,
          1.0010977258940492,
          0.10143316005483165,
          -0.3368213254581548,
          -0.2971587471713649,
          -0.026228244623694424,
          0.6624173371633474,
          -1.7218637928707545,
          -0.5923164125061781,
          -0.34970068099215595,
          -0.12555665412014028,
          -0.16897186432076375,
          0.40905865555379467,
          -0.6632048676391282,
          1.0816531446896442,
          -0.08061085564831709,
          -0.6898727254749667,
          -0.05582287614843459,
          0.019644984580532536,
          -0.24593277126504068,
          0.2647198186254047,
          -2.6985599960128646,
          -0.2857060352657619,
          -0.7059336808840253,
          0.17851344877915792,
          -1.1872112018363015,
          0.356400427218362,
          0.6949620719212402,
          1.7193507242959798,
          0.15045354017786597,
          -0.18479491530568848,
          -1.239764615178371,
          0.09444746482720447,
          -0.45253402974609547,
          1.5240444051796522,
          -0.7166957289144503,
          1.5593468757849867,
          -1.8811576668979677,
          -1.4952705913795905,
          0.23129604965371198,
          -0.008759735894900082,
          0.15443482118378815,
          -1.4297427857966751,
          -0.06765988265773787,
          -0.996787930590609,
          -0.4145939334371296,
          -0.43632955465216916,
          -0.7186990577837588,
          0.5636984699664023,
          0.21842881420586344
         ]
        },
        {
         "histfunc": "count",
         "histnorm": "",
         "marker": {
          "color": "rgba(55, 128, 191, 1.0)",
          "line": {
           "color": "#4D5663",
           "width": 1.3
          }
         },
         "name": "B",
         "opacity": 0.8,
         "orientation": "v",
         "type": "histogram",
         "x": [
          -0.8411370469674633,
          0.8465936719276874,
          -2.0769241221253196,
          -0.6700626862026585,
          -0.5718851695463921,
          -0.09755403761810581,
          -0.44096635857130717,
          -0.19909691093629908,
          1.5488170316881231,
          -0.058357642546699194,
          0.919790098361005,
          0.3594851568227443,
          -0.8769963650114245,
          -0.269976233378358,
          0.24765485950810773,
          0.269321910169165,
          -0.5505010270008414,
          -0.4072869079940033,
          0.3517877394913619,
          -1.524489635082197,
          0.12522454045167053,
          0.9987328546532094,
          -1.3791792776183134,
          0.05423843887016417,
          0.2688011121653173,
          -0.19041155308139934,
          0.10695575141382495,
          1.7095876419986396,
          -1.170502100390321,
          0.9290949508011905,
          -0.1939790752819657,
          -0.9278782561160333,
          -0.38128376570696293,
          1.4196422528454338,
          -0.3327314727625212,
          1.1991026923111583,
          0.34681659229915696,
          -0.6206391541625019,
          0.12742134556200654,
          1.3243431685994702,
          -0.8269302595340654,
          0.37966686811781725,
          -0.10344807908893425,
          -2.0544188879512295,
          -0.7464815409567633,
          -0.7767402402381235,
          -0.6637804281354422,
          1.2517385487669808,
          0.694873957911729,
          -0.06616754426101021,
          0.0826020637563963,
          -0.8335126220950743,
          1.5472354491421703,
          -1.1883781356830807,
          0.6959161155628883,
          1.6809774728363294,
          -0.23254175749586706,
          -1.9896207513535749,
          -0.23331842485528928,
          2.178970408821887,
          1.4573427100091558,
          -0.908432032880107,
          -0.44244867207382027,
          -0.4769298465440546,
          1.3442857447410939,
          0.8937306771278547,
          1.2884460982984527,
          0.25783105542154644,
          -0.5664819169183514,
          -0.18098321446330418,
          0.331616555740629,
          -0.8005687231433739,
          1.0988721156679697,
          0.23696136067638396,
          0.46500651711300106,
          -0.7528153647155813,
          1.3412978052129945,
          -1.0199703145796095,
          0.6413002728832091,
          -0.3193840554624845,
          -0.11664683969933677,
          0.9687749026453907,
          1.3239859553061233,
          -0.1362061691984603,
          1.2241312871811287,
          0.21623446478982422,
          -0.21314367553319472,
          0.720151826365811,
          1.462740448667771,
          -0.3436916812967713,
          0.4324993105508277,
          -1.5619649073250985,
          -2.112441929480903,
          0.06564522053701284,
          -0.28106050711775143,
          -0.07673876751490212,
          0.9800922196622552,
          0.03668337598725406,
          0.22327999074166194,
          0.37285586455157954
         ]
        },
        {
         "histfunc": "count",
         "histnorm": "",
         "marker": {
          "color": "rgba(50, 171, 96, 1.0)",
          "line": {
           "color": "#4D5663",
           "width": 1.3
          }
         },
         "name": "C",
         "opacity": 0.8,
         "orientation": "v",
         "type": "histogram",
         "x": [
          -0.7966720853754534,
          0.6477728052325428,
          0.4831523041440157,
          0.3644435184704144,
          1.7007141482853403,
          0.9692581547170372,
          -1.0325150866471589,
          0.8894145090528843,
          0.026234933397009344,
          -1.4532861300849287,
          0.9996873342754028,
          -3.1540275979967087,
          0.4286746196441421,
          0.21544993442106897,
          0.32815484899890135,
          -0.2557793997881791,
          -0.5510292782435066,
          -0.037864298663310474,
          -0.3001542781668278,
          0.6547112586968563,
          -0.2638110259566244,
          0.04270028556177357,
          0.4588145661267505,
          0.6827466435778821,
          -0.6797951695755131,
          -0.631628789264434,
          1.2686739319914158,
          -0.13697469209737578,
          -0.37601739069121415,
          -0.8836269003850051,
          -1.4608143618016922,
          1.3273721485353875,
          -0.3303442629457333,
          -0.4926836056813009,
          -0.30853302763456075,
          0.12524399651365264,
          -1.0046688429128623,
          1.6056414456082,
          -0.6229691448825764,
          1.4544036889163034,
          -0.17925644736933535,
          0.6457018928601556,
          1.3057340404004254,
          1.0377701562575992,
          0.10067046378193285,
          -0.5193570479240552,
          1.018866169958515,
          -1.0160196153677243,
          0.5337100384623303,
          1.6205355319322285,
          -0.7913727440688946,
          -0.49715952576613726,
          -0.16625713899727948,
          0.11911935123826942,
          -1.0818057514661825,
          0.6097568557060469,
          -1.2965456248093972,
          1.0870876169513466,
          1.0750964186435534,
          0.05160589607207159,
          0.3245215550322822,
          0.5356023888365272,
          -0.4871544420614186,
          0.19487622359893275,
          1.5356466295486764,
          -0.14339976837204832,
          -0.09037003239094622,
          -0.15840485892250952,
          2.256471565398644,
          -0.40382312657022357,
          0.2748706392238591,
          -0.535589705332484,
          -0.3062539118189085,
          -0.6890911081506442,
          -0.3888945228846208,
          -2.5564725209949843,
          -1.7287793754882044,
          -0.17981800885973726,
          -2.031603307882673,
          -0.5612039428452245,
          -1.2630554683468047,
          0.33852167207166245,
          1.0099798166528304,
          -0.2860404232817684,
          1.315694043920557,
          0.46960186531811526,
          0.30832256911797395,
          -0.18939386825932636,
          1.6175828171719604,
          1.0777304529374765,
          -1.4665396721322217,
          -0.040704511478725704,
          -0.7183414312124572,
          -0.725399399095399,
          -0.5756244801360568,
          -0.6038091390486322,
          -1.1789772630804674,
          0.26877630285131504,
          -0.4822196912052415,
          1.0846006541025943
         ]
        },
        {
         "histfunc": "count",
         "histnorm": "",
         "marker": {
          "color": "rgba(128, 0, 128, 1.0)",
          "line": {
           "color": "#4D5663",
           "width": 1.3
          }
         },
         "name": "D",
         "opacity": 0.8,
         "orientation": "v",
         "type": "histogram",
         "x": [
          -0.1676826507525291,
          1.2118809377684863,
          -0.14438510911805277,
          -1.2551541941825473,
          0.47279567513124054,
          -0.13691972737133096,
          -0.6546286217807619,
          -2.0102159510958035,
          1.1208802815514152,
          -0.29512508742796867,
          -1.5022522770964233,
          1.228763629283435,
          0.44696925851188624,
          -0.2503946001911159,
          1.345947912693738,
          -0.7338677287033788,
          -0.7782797541960733,
          0.45719078900464705,
          0.30022047398068186,
          1.273494902181814,
          -0.942096576425137,
          -1.5984355314179504,
          -0.2081335137358246,
          -1.119897696669353,
          1.1558179289865356,
          0.5253760769966458,
          1.4829236805169717,
          -0.20820180768859525,
          0.2599409088733281,
          0.8299263627400496,
          0.6945443956044238,
          0.9487852193715961,
          1.6049832655815006,
          0.6936468603647309,
          0.2576136153170773,
          0.35604033694235443,
          -0.9478443375481954,
          -1.803235372150516,
          -0.17490836960946665,
          1.2990750788239707,
          -0.11963436583981464,
          -0.14107216164782235,
          -0.4994749068208888,
          -0.5039462481034059,
          0.4078937285732624,
          -1.3623983044468144,
          -0.5599219479314879,
          -0.8890190693870289,
          -0.5453171088827993,
          -0.19400809571131336,
          0.4379296859477579,
          0.9569927628817722,
          0.568551150400114,
          0.4901505521614311,
          -0.629448856594338,
          -0.1760792563046624,
          2.1872697925391145,
          -1.7987168928322443,
          0.00021761034255523358,
          -0.1493581045492578,
          -0.005807956057387215,
          -0.2521294841944818,
          0.5150335079331775,
          -0.33282032997917643,
          0.7320714223225012,
          1.213091682920328,
          0.08904856186822144,
          0.546964360145978,
          -0.5654829559521772,
          -0.5280370228475944,
          1.569885386573116,
          0.06951485652561938,
          0.5586098056639801,
          0.9944724520541559,
          -1.232692345109615,
          0.20649908737588069,
          0.9274326694569818,
          -1.4931803060081321,
          0.5069500577515356,
          -0.10169518484504181,
          0.7706117793406162,
          -0.6517223336891163,
          -2.0926704674673844,
          0.31484554724907154,
          1.9575227469312708,
          -0.4301303958607313,
          -0.5787778118510103,
          -1.0119872017638747,
          -0.40228534601618143,
          2.038756953851408,
          -0.12949232464568516,
          -0.6066494611386877,
          0.3603753685797563,
          0.34132630582604756,
          0.5730529829040087,
          1.0288673586415396,
          1.664345573048318,
          1.3486877908341262,
          -0.484387603012384,
          0.3733001066111924
         ]
        }
       ],
       "layout": {
        "barmode": "overlay",
        "legend": {
         "bgcolor": "#F5F6F9",
         "font": {
          "color": "#4D5663"
         }
        },
        "paper_bgcolor": "#F5F6F9",
        "plot_bgcolor": "#F5F6F9",
        "template": {
         "data": {
          "bar": [
           {
            "error_x": {
             "color": "#2a3f5f"
            },
            "error_y": {
             "color": "#2a3f5f"
            },
            "marker": {
             "line": {
              "color": "#E5ECF6",
              "width": 0.5
             }
            },
            "type": "bar"
           }
          ],
          "barpolar": [
           {
            "marker": {
             "line": {
              "color": "#E5ECF6",
              "width": 0.5
             }
            },
            "type": "barpolar"
           }
          ],
          "carpet": [
           {
            "aaxis": {
             "endlinecolor": "#2a3f5f",
             "gridcolor": "white",
             "linecolor": "white",
             "minorgridcolor": "white",
             "startlinecolor": "#2a3f5f"
            },
            "baxis": {
             "endlinecolor": "#2a3f5f",
             "gridcolor": "white",
             "linecolor": "white",
             "minorgridcolor": "white",
             "startlinecolor": "#2a3f5f"
            },
            "type": "carpet"
           }
          ],
          "choropleth": [
           {
            "colorbar": {
             "outlinewidth": 0,
             "ticks": ""
            },
            "type": "choropleth"
           }
          ],
          "contour": [
           {
            "colorbar": {
             "outlinewidth": 0,
             "ticks": ""
            },
            "colorscale": [
             [
              0,
              "#0d0887"
             ],
             [
              0.1111111111111111,
              "#46039f"
             ],
             [
              0.2222222222222222,
              "#7201a8"
             ],
             [
              0.3333333333333333,
              "#9c179e"
             ],
             [
              0.4444444444444444,
              "#bd3786"
             ],
             [
              0.5555555555555556,
              "#d8576b"
             ],
             [
              0.6666666666666666,
              "#ed7953"
             ],
             [
              0.7777777777777778,
              "#fb9f3a"
             ],
             [
              0.8888888888888888,
              "#fdca26"
             ],
             [
              1,
              "#f0f921"
             ]
            ],
            "type": "contour"
           }
          ],
          "contourcarpet": [
           {
            "colorbar": {
             "outlinewidth": 0,
             "ticks": ""
            },
            "type": "contourcarpet"
           }
          ],
          "heatmap": [
           {
            "colorbar": {
             "outlinewidth": 0,
             "ticks": ""
            },
            "colorscale": [
             [
              0,
              "#0d0887"
             ],
             [
              0.1111111111111111,
              "#46039f"
             ],
             [
              0.2222222222222222,
              "#7201a8"
             ],
             [
              0.3333333333333333,
              "#9c179e"
             ],
             [
              0.4444444444444444,
              "#bd3786"
             ],
             [
              0.5555555555555556,
              "#d8576b"
             ],
             [
              0.6666666666666666,
              "#ed7953"
             ],
             [
              0.7777777777777778,
              "#fb9f3a"
             ],
             [
              0.8888888888888888,
              "#fdca26"
             ],
             [
              1,
              "#f0f921"
             ]
            ],
            "type": "heatmap"
           }
          ],
          "heatmapgl": [
           {
            "colorbar": {
             "outlinewidth": 0,
             "ticks": ""
            },
            "colorscale": [
             [
              0,
              "#0d0887"
             ],
             [
              0.1111111111111111,
              "#46039f"
             ],
             [
              0.2222222222222222,
              "#7201a8"
             ],
             [
              0.3333333333333333,
              "#9c179e"
             ],
             [
              0.4444444444444444,
              "#bd3786"
             ],
             [
              0.5555555555555556,
              "#d8576b"
             ],
             [
              0.6666666666666666,
              "#ed7953"
             ],
             [
              0.7777777777777778,
              "#fb9f3a"
             ],
             [
              0.8888888888888888,
              "#fdca26"
             ],
             [
              1,
              "#f0f921"
             ]
            ],
            "type": "heatmapgl"
           }
          ],
          "histogram": [
           {
            "marker": {
             "colorbar": {
              "outlinewidth": 0,
              "ticks": ""
             }
            },
            "type": "histogram"
           }
          ],
          "histogram2d": [
           {
            "colorbar": {
             "outlinewidth": 0,
             "ticks": ""
            },
            "colorscale": [
             [
              0,
              "#0d0887"
             ],
             [
              0.1111111111111111,
              "#46039f"
             ],
             [
              0.2222222222222222,
              "#7201a8"
             ],
             [
              0.3333333333333333,
              "#9c179e"
             ],
             [
              0.4444444444444444,
              "#bd3786"
             ],
             [
              0.5555555555555556,
              "#d8576b"
             ],
             [
              0.6666666666666666,
              "#ed7953"
             ],
             [
              0.7777777777777778,
              "#fb9f3a"
             ],
             [
              0.8888888888888888,
              "#fdca26"
             ],
             [
              1,
              "#f0f921"
             ]
            ],
            "type": "histogram2d"
           }
          ],
          "histogram2dcontour": [
           {
            "colorbar": {
             "outlinewidth": 0,
             "ticks": ""
            },
            "colorscale": [
             [
              0,
              "#0d0887"
             ],
             [
              0.1111111111111111,
              "#46039f"
             ],
             [
              0.2222222222222222,
              "#7201a8"
             ],
             [
              0.3333333333333333,
              "#9c179e"
             ],
             [
              0.4444444444444444,
              "#bd3786"
             ],
             [
              0.5555555555555556,
              "#d8576b"
             ],
             [
              0.6666666666666666,
              "#ed7953"
             ],
             [
              0.7777777777777778,
              "#fb9f3a"
             ],
             [
              0.8888888888888888,
              "#fdca26"
             ],
             [
              1,
              "#f0f921"
             ]
            ],
            "type": "histogram2dcontour"
           }
          ],
          "mesh3d": [
           {
            "colorbar": {
             "outlinewidth": 0,
             "ticks": ""
            },
            "type": "mesh3d"
           }
          ],
          "parcoords": [
           {
            "line": {
             "colorbar": {
              "outlinewidth": 0,
              "ticks": ""
             }
            },
            "type": "parcoords"
           }
          ],
          "scatter": [
           {
            "marker": {
             "colorbar": {
              "outlinewidth": 0,
              "ticks": ""
             }
            },
            "type": "scatter"
           }
          ],
          "scatter3d": [
           {
            "line": {
             "colorbar": {
              "outlinewidth": 0,
              "ticks": ""
             }
            },
            "marker": {
             "colorbar": {
              "outlinewidth": 0,
              "ticks": ""
             }
            },
            "type": "scatter3d"
           }
          ],
          "scattercarpet": [
           {
            "marker": {
             "colorbar": {
              "outlinewidth": 0,
              "ticks": ""
             }
            },
            "type": "scattercarpet"
           }
          ],
          "scattergeo": [
           {
            "marker": {
             "colorbar": {
              "outlinewidth": 0,
              "ticks": ""
             }
            },
            "type": "scattergeo"
           }
          ],
          "scattergl": [
           {
            "marker": {
             "colorbar": {
              "outlinewidth": 0,
              "ticks": ""
             }
            },
            "type": "scattergl"
           }
          ],
          "scattermapbox": [
           {
            "marker": {
             "colorbar": {
              "outlinewidth": 0,
              "ticks": ""
             }
            },
            "type": "scattermapbox"
           }
          ],
          "scatterpolar": [
           {
            "marker": {
             "colorbar": {
              "outlinewidth": 0,
              "ticks": ""
             }
            },
            "type": "scatterpolar"
           }
          ],
          "scatterpolargl": [
           {
            "marker": {
             "colorbar": {
              "outlinewidth": 0,
              "ticks": ""
             }
            },
            "type": "scatterpolargl"
           }
          ],
          "scatterternary": [
           {
            "marker": {
             "colorbar": {
              "outlinewidth": 0,
              "ticks": ""
             }
            },
            "type": "scatterternary"
           }
          ],
          "surface": [
           {
            "colorbar": {
             "outlinewidth": 0,
             "ticks": ""
            },
            "colorscale": [
             [
              0,
              "#0d0887"
             ],
             [
              0.1111111111111111,
              "#46039f"
             ],
             [
              0.2222222222222222,
              "#7201a8"
             ],
             [
              0.3333333333333333,
              "#9c179e"
             ],
             [
              0.4444444444444444,
              "#bd3786"
             ],
             [
              0.5555555555555556,
              "#d8576b"
             ],
             [
              0.6666666666666666,
              "#ed7953"
             ],
             [
              0.7777777777777778,
              "#fb9f3a"
             ],
             [
              0.8888888888888888,
              "#fdca26"
             ],
             [
              1,
              "#f0f921"
             ]
            ],
            "type": "surface"
           }
          ],
          "table": [
           {
            "cells": {
             "fill": {
              "color": "#EBF0F8"
             },
             "line": {
              "color": "white"
             }
            },
            "header": {
             "fill": {
              "color": "#C8D4E3"
             },
             "line": {
              "color": "white"
             }
            },
            "type": "table"
           }
          ]
         },
         "layout": {
          "annotationdefaults": {
           "arrowcolor": "#2a3f5f",
           "arrowhead": 0,
           "arrowwidth": 1
          },
          "colorscale": {
           "diverging": [
            [
             0,
             "#8e0152"
            ],
            [
             0.1,
             "#c51b7d"
            ],
            [
             0.2,
             "#de77ae"
            ],
            [
             0.3,
             "#f1b6da"
            ],
            [
             0.4,
             "#fde0ef"
            ],
            [
             0.5,
             "#f7f7f7"
            ],
            [
             0.6,
             "#e6f5d0"
            ],
            [
             0.7,
             "#b8e186"
            ],
            [
             0.8,
             "#7fbc41"
            ],
            [
             0.9,
             "#4d9221"
            ],
            [
             1,
             "#276419"
            ]
           ],
           "sequential": [
            [
             0,
             "#0d0887"
            ],
            [
             0.1111111111111111,
             "#46039f"
            ],
            [
             0.2222222222222222,
             "#7201a8"
            ],
            [
             0.3333333333333333,
             "#9c179e"
            ],
            [
             0.4444444444444444,
             "#bd3786"
            ],
            [
             0.5555555555555556,
             "#d8576b"
            ],
            [
             0.6666666666666666,
             "#ed7953"
            ],
            [
             0.7777777777777778,
             "#fb9f3a"
            ],
            [
             0.8888888888888888,
             "#fdca26"
            ],
            [
             1,
             "#f0f921"
            ]
           ],
           "sequentialminus": [
            [
             0,
             "#0d0887"
            ],
            [
             0.1111111111111111,
             "#46039f"
            ],
            [
             0.2222222222222222,
             "#7201a8"
            ],
            [
             0.3333333333333333,
             "#9c179e"
            ],
            [
             0.4444444444444444,
             "#bd3786"
            ],
            [
             0.5555555555555556,
             "#d8576b"
            ],
            [
             0.6666666666666666,
             "#ed7953"
            ],
            [
             0.7777777777777778,
             "#fb9f3a"
            ],
            [
             0.8888888888888888,
             "#fdca26"
            ],
            [
             1,
             "#f0f921"
            ]
           ]
          },
          "colorway": [
           "#636efa",
           "#EF553B",
           "#00cc96",
           "#ab63fa",
           "#FFA15A",
           "#19d3f3",
           "#FF6692",
           "#B6E880",
           "#FF97FF",
           "#FECB52"
          ],
          "font": {
           "color": "#2a3f5f"
          },
          "geo": {
           "bgcolor": "white",
           "lakecolor": "white",
           "landcolor": "#E5ECF6",
           "showlakes": true,
           "showland": true,
           "subunitcolor": "white"
          },
          "hoverlabel": {
           "align": "left"
          },
          "hovermode": "closest",
          "mapbox": {
           "style": "light"
          },
          "paper_bgcolor": "white",
          "plot_bgcolor": "#E5ECF6",
          "polar": {
           "angularaxis": {
            "gridcolor": "white",
            "linecolor": "white",
            "ticks": ""
           },
           "bgcolor": "#E5ECF6",
           "radialaxis": {
            "gridcolor": "white",
            "linecolor": "white",
            "ticks": ""
           }
          },
          "scene": {
           "xaxis": {
            "backgroundcolor": "#E5ECF6",
            "gridcolor": "white",
            "gridwidth": 2,
            "linecolor": "white",
            "showbackground": true,
            "ticks": "",
            "zerolinecolor": "white"
           },
           "yaxis": {
            "backgroundcolor": "#E5ECF6",
            "gridcolor": "white",
            "gridwidth": 2,
            "linecolor": "white",
            "showbackground": true,
            "ticks": "",
            "zerolinecolor": "white"
           },
           "zaxis": {
            "backgroundcolor": "#E5ECF6",
            "gridcolor": "white",
            "gridwidth": 2,
            "linecolor": "white",
            "showbackground": true,
            "ticks": "",
            "zerolinecolor": "white"
           }
          },
          "shapedefaults": {
           "line": {
            "color": "#2a3f5f"
           }
          },
          "ternary": {
           "aaxis": {
            "gridcolor": "white",
            "linecolor": "white",
            "ticks": ""
           },
           "baxis": {
            "gridcolor": "white",
            "linecolor": "white",
            "ticks": ""
           },
           "bgcolor": "#E5ECF6",
           "caxis": {
            "gridcolor": "white",
            "linecolor": "white",
            "ticks": ""
           }
          },
          "title": {
           "x": 0.05
          },
          "xaxis": {
           "automargin": true,
           "gridcolor": "white",
           "linecolor": "white",
           "ticks": "",
           "zerolinecolor": "white",
           "zerolinewidth": 2
          },
          "yaxis": {
           "automargin": true,
           "gridcolor": "white",
           "linecolor": "white",
           "ticks": "",
           "zerolinecolor": "white",
           "zerolinewidth": 2
          }
         }
        },
        "title": {
         "font": {
          "color": "#4D5663"
         }
        },
        "xaxis": {
         "gridcolor": "#E1E5ED",
         "showgrid": true,
         "tickfont": {
          "color": "#4D5663"
         },
         "title": {
          "font": {
           "color": "#4D5663"
          },
          "text": ""
         },
         "zerolinecolor": "#E1E5ED"
        },
        "yaxis": {
         "gridcolor": "#E1E5ED",
         "showgrid": true,
         "tickfont": {
          "color": "#4D5663"
         },
         "title": {
          "font": {
           "color": "#4D5663"
          },
          "text": ""
         },
         "zerolinecolor": "#E1E5ED"
        }
       }
      },
      "text/html": [
       "<div>\n",
       "        \n",
       "        \n",
       "            <div id=\"7694fdd7-7caa-4c9b-ab96-b0fe15971067\" class=\"plotly-graph-div\" style=\"height:525px; width:100%;\"></div>\n",
       "            <script type=\"text/javascript\">\n",
       "                require([\"plotly\"], function(Plotly) {\n",
       "                    window.PLOTLYENV=window.PLOTLYENV || {};\n",
       "                    window.PLOTLYENV.BASE_URL='https://plot.ly';\n",
       "                    \n",
       "                if (document.getElementById(\"7694fdd7-7caa-4c9b-ab96-b0fe15971067\")) {\n",
       "                    Plotly.newPlot(\n",
       "                        '7694fdd7-7caa-4c9b-ab96-b0fe15971067',\n",
       "                        [{\"histfunc\": \"count\", \"histnorm\": \"\", \"marker\": {\"color\": \"rgba(255, 153, 51, 1.0)\", \"line\": {\"color\": \"#4D5663\", \"width\": 1.3}}, \"name\": \"A\", \"opacity\": 0.8, \"orientation\": \"v\", \"type\": \"histogram\", \"x\": [-0.06542778015912247, -0.4983315985004792, -0.3932665761127589, -0.10616396259826238, -0.26207506689955234, 0.7886670736320832, -0.14377426502187782, -0.15273724910094455, -1.1338234021817963, 0.0009770267116028946, -0.7324620416267447, 0.06043111318599064, 0.623615648635299, -0.9898932119379665, -0.45086070577257026, -0.830303964658216, 1.5716630654715504, -1.0974693696329356, 0.4558388327103945, 1.2170495932316205, -0.32981680298429955, 0.2582423394595888, 0.4888856866509463, -0.6121681967574407, -0.5414245020009553, 2.713140457391276, 1.7423907028996293, 0.14142226924657475, 1.6632119799987835, -1.1316432740780005, 0.3761480797940717, -0.5145111245715915, 0.15963736908855272, 0.8356735998848508, -0.3565600825442002, 1.157899333248228, -0.4096165797423869, 0.5249195501867103, 0.5653237593734552, 1.072675824030473, -1.7986968659667908, 0.09444932233020178, 0.37476626326860707, -0.06564736959465206, 0.28052433882468464, 0.7190140964012359, -1.5830392770914365, 0.2644929549909655, -1.0006939493489782, 0.23636146599124183, 0.39176536250665306, 1.0010977258940492, 0.10143316005483165, -0.3368213254581548, -0.2971587471713649, -0.026228244623694424, 0.6624173371633474, -1.7218637928707545, -0.5923164125061781, -0.34970068099215595, -0.12555665412014028, -0.16897186432076375, 0.40905865555379467, -0.6632048676391282, 1.0816531446896442, -0.08061085564831709, -0.6898727254749667, -0.05582287614843459, 0.019644984580532536, -0.24593277126504068, 0.2647198186254047, -2.6985599960128646, -0.2857060352657619, -0.7059336808840253, 0.17851344877915792, -1.1872112018363015, 0.356400427218362, 0.6949620719212402, 1.7193507242959798, 0.15045354017786597, -0.18479491530568848, -1.239764615178371, 0.09444746482720447, -0.45253402974609547, 1.5240444051796522, -0.7166957289144503, 1.5593468757849867, -1.8811576668979677, -1.4952705913795905, 0.23129604965371198, -0.008759735894900082, 0.15443482118378815, -1.4297427857966751, -0.06765988265773787, -0.996787930590609, -0.4145939334371296, -0.43632955465216916, -0.7186990577837588, 0.5636984699664023, 0.21842881420586344]}, {\"histfunc\": \"count\", \"histnorm\": \"\", \"marker\": {\"color\": \"rgba(55, 128, 191, 1.0)\", \"line\": {\"color\": \"#4D5663\", \"width\": 1.3}}, \"name\": \"B\", \"opacity\": 0.8, \"orientation\": \"v\", \"type\": \"histogram\", \"x\": [-0.8411370469674633, 0.8465936719276874, -2.0769241221253196, -0.6700626862026585, -0.5718851695463921, -0.09755403761810581, -0.44096635857130717, -0.19909691093629908, 1.5488170316881231, -0.058357642546699194, 0.919790098361005, 0.3594851568227443, -0.8769963650114245, -0.269976233378358, 0.24765485950810773, 0.269321910169165, -0.5505010270008414, -0.4072869079940033, 0.3517877394913619, -1.524489635082197, 0.12522454045167053, 0.9987328546532094, -1.3791792776183134, 0.05423843887016417, 0.2688011121653173, -0.19041155308139934, 0.10695575141382495, 1.7095876419986396, -1.170502100390321, 0.9290949508011905, -0.1939790752819657, -0.9278782561160333, -0.38128376570696293, 1.4196422528454338, -0.3327314727625212, 1.1991026923111583, 0.34681659229915696, -0.6206391541625019, 0.12742134556200654, 1.3243431685994702, -0.8269302595340654, 0.37966686811781725, -0.10344807908893425, -2.0544188879512295, -0.7464815409567633, -0.7767402402381235, -0.6637804281354422, 1.2517385487669808, 0.694873957911729, -0.06616754426101021, 0.0826020637563963, -0.8335126220950743, 1.5472354491421703, -1.1883781356830807, 0.6959161155628883, 1.6809774728363294, -0.23254175749586706, -1.9896207513535749, -0.23331842485528928, 2.178970408821887, 1.4573427100091558, -0.908432032880107, -0.44244867207382027, -0.4769298465440546, 1.3442857447410939, 0.8937306771278547, 1.2884460982984527, 0.25783105542154644, -0.5664819169183514, -0.18098321446330418, 0.331616555740629, -0.8005687231433739, 1.0988721156679697, 0.23696136067638396, 0.46500651711300106, -0.7528153647155813, 1.3412978052129945, -1.0199703145796095, 0.6413002728832091, -0.3193840554624845, -0.11664683969933677, 0.9687749026453907, 1.3239859553061233, -0.1362061691984603, 1.2241312871811287, 0.21623446478982422, -0.21314367553319472, 0.720151826365811, 1.462740448667771, -0.3436916812967713, 0.4324993105508277, -1.5619649073250985, -2.112441929480903, 0.06564522053701284, -0.28106050711775143, -0.07673876751490212, 0.9800922196622552, 0.03668337598725406, 0.22327999074166194, 0.37285586455157954]}, {\"histfunc\": \"count\", \"histnorm\": \"\", \"marker\": {\"color\": \"rgba(50, 171, 96, 1.0)\", \"line\": {\"color\": \"#4D5663\", \"width\": 1.3}}, \"name\": \"C\", \"opacity\": 0.8, \"orientation\": \"v\", \"type\": \"histogram\", \"x\": [-0.7966720853754534, 0.6477728052325428, 0.4831523041440157, 0.3644435184704144, 1.7007141482853403, 0.9692581547170372, -1.0325150866471589, 0.8894145090528843, 0.026234933397009344, -1.4532861300849287, 0.9996873342754028, -3.1540275979967087, 0.4286746196441421, 0.21544993442106897, 0.32815484899890135, -0.2557793997881791, -0.5510292782435066, -0.037864298663310474, -0.3001542781668278, 0.6547112586968563, -0.2638110259566244, 0.04270028556177357, 0.4588145661267505, 0.6827466435778821, -0.6797951695755131, -0.631628789264434, 1.2686739319914158, -0.13697469209737578, -0.37601739069121415, -0.8836269003850051, -1.4608143618016922, 1.3273721485353875, -0.3303442629457333, -0.4926836056813009, -0.30853302763456075, 0.12524399651365264, -1.0046688429128623, 1.6056414456082, -0.6229691448825764, 1.4544036889163034, -0.17925644736933535, 0.6457018928601556, 1.3057340404004254, 1.0377701562575992, 0.10067046378193285, -0.5193570479240552, 1.018866169958515, -1.0160196153677243, 0.5337100384623303, 1.6205355319322285, -0.7913727440688946, -0.49715952576613726, -0.16625713899727948, 0.11911935123826942, -1.0818057514661825, 0.6097568557060469, -1.2965456248093972, 1.0870876169513466, 1.0750964186435534, 0.05160589607207159, 0.3245215550322822, 0.5356023888365272, -0.4871544420614186, 0.19487622359893275, 1.5356466295486764, -0.14339976837204832, -0.09037003239094622, -0.15840485892250952, 2.256471565398644, -0.40382312657022357, 0.2748706392238591, -0.535589705332484, -0.3062539118189085, -0.6890911081506442, -0.3888945228846208, -2.5564725209949843, -1.7287793754882044, -0.17981800885973726, -2.031603307882673, -0.5612039428452245, -1.2630554683468047, 0.33852167207166245, 1.0099798166528304, -0.2860404232817684, 1.315694043920557, 0.46960186531811526, 0.30832256911797395, -0.18939386825932636, 1.6175828171719604, 1.0777304529374765, -1.4665396721322217, -0.040704511478725704, -0.7183414312124572, -0.725399399095399, -0.5756244801360568, -0.6038091390486322, -1.1789772630804674, 0.26877630285131504, -0.4822196912052415, 1.0846006541025943]}, {\"histfunc\": \"count\", \"histnorm\": \"\", \"marker\": {\"color\": \"rgba(128, 0, 128, 1.0)\", \"line\": {\"color\": \"#4D5663\", \"width\": 1.3}}, \"name\": \"D\", \"opacity\": 0.8, \"orientation\": \"v\", \"type\": \"histogram\", \"x\": [-0.1676826507525291, 1.2118809377684863, -0.14438510911805277, -1.2551541941825473, 0.47279567513124054, -0.13691972737133096, -0.6546286217807619, -2.0102159510958035, 1.1208802815514152, -0.29512508742796867, -1.5022522770964233, 1.228763629283435, 0.44696925851188624, -0.2503946001911159, 1.345947912693738, -0.7338677287033788, -0.7782797541960733, 0.45719078900464705, 0.30022047398068186, 1.273494902181814, -0.942096576425137, -1.5984355314179504, -0.2081335137358246, -1.119897696669353, 1.1558179289865356, 0.5253760769966458, 1.4829236805169717, -0.20820180768859525, 0.2599409088733281, 0.8299263627400496, 0.6945443956044238, 0.9487852193715961, 1.6049832655815006, 0.6936468603647309, 0.2576136153170773, 0.35604033694235443, -0.9478443375481954, -1.803235372150516, -0.17490836960946665, 1.2990750788239707, -0.11963436583981464, -0.14107216164782235, -0.4994749068208888, -0.5039462481034059, 0.4078937285732624, -1.3623983044468144, -0.5599219479314879, -0.8890190693870289, -0.5453171088827993, -0.19400809571131336, 0.4379296859477579, 0.9569927628817722, 0.568551150400114, 0.4901505521614311, -0.629448856594338, -0.1760792563046624, 2.1872697925391145, -1.7987168928322443, 0.00021761034255523358, -0.1493581045492578, -0.005807956057387215, -0.2521294841944818, 0.5150335079331775, -0.33282032997917643, 0.7320714223225012, 1.213091682920328, 0.08904856186822144, 0.546964360145978, -0.5654829559521772, -0.5280370228475944, 1.569885386573116, 0.06951485652561938, 0.5586098056639801, 0.9944724520541559, -1.232692345109615, 0.20649908737588069, 0.9274326694569818, -1.4931803060081321, 0.5069500577515356, -0.10169518484504181, 0.7706117793406162, -0.6517223336891163, -2.0926704674673844, 0.31484554724907154, 1.9575227469312708, -0.4301303958607313, -0.5787778118510103, -1.0119872017638747, -0.40228534601618143, 2.038756953851408, -0.12949232464568516, -0.6066494611386877, 0.3603753685797563, 0.34132630582604756, 0.5730529829040087, 1.0288673586415396, 1.664345573048318, 1.3486877908341262, -0.484387603012384, 0.3733001066111924]}],\n",
       "                        {\"barmode\": \"overlay\", \"legend\": {\"bgcolor\": \"#F5F6F9\", \"font\": {\"color\": \"#4D5663\"}}, \"paper_bgcolor\": \"#F5F6F9\", \"plot_bgcolor\": \"#F5F6F9\", \"template\": {\"data\": {\"bar\": [{\"error_x\": {\"color\": \"#2a3f5f\"}, \"error_y\": {\"color\": \"#2a3f5f\"}, \"marker\": {\"line\": {\"color\": \"#E5ECF6\", \"width\": 0.5}}, \"type\": \"bar\"}], \"barpolar\": [{\"marker\": {\"line\": {\"color\": \"#E5ECF6\", \"width\": 0.5}}, \"type\": \"barpolar\"}], \"carpet\": [{\"aaxis\": {\"endlinecolor\": \"#2a3f5f\", \"gridcolor\": \"white\", \"linecolor\": \"white\", \"minorgridcolor\": \"white\", \"startlinecolor\": \"#2a3f5f\"}, \"baxis\": {\"endlinecolor\": \"#2a3f5f\", \"gridcolor\": \"white\", \"linecolor\": \"white\", \"minorgridcolor\": \"white\", \"startlinecolor\": \"#2a3f5f\"}, \"type\": \"carpet\"}], \"choropleth\": [{\"colorbar\": {\"outlinewidth\": 0, \"ticks\": \"\"}, \"type\": \"choropleth\"}], \"contour\": [{\"colorbar\": {\"outlinewidth\": 0, \"ticks\": \"\"}, \"colorscale\": [[0.0, \"#0d0887\"], [0.1111111111111111, \"#46039f\"], [0.2222222222222222, \"#7201a8\"], [0.3333333333333333, \"#9c179e\"], [0.4444444444444444, \"#bd3786\"], [0.5555555555555556, \"#d8576b\"], [0.6666666666666666, \"#ed7953\"], [0.7777777777777778, \"#fb9f3a\"], [0.8888888888888888, \"#fdca26\"], [1.0, \"#f0f921\"]], \"type\": \"contour\"}], \"contourcarpet\": [{\"colorbar\": {\"outlinewidth\": 0, \"ticks\": \"\"}, \"type\": \"contourcarpet\"}], \"heatmap\": [{\"colorbar\": {\"outlinewidth\": 0, \"ticks\": \"\"}, \"colorscale\": [[0.0, \"#0d0887\"], [0.1111111111111111, \"#46039f\"], [0.2222222222222222, \"#7201a8\"], [0.3333333333333333, \"#9c179e\"], [0.4444444444444444, \"#bd3786\"], [0.5555555555555556, \"#d8576b\"], [0.6666666666666666, \"#ed7953\"], [0.7777777777777778, \"#fb9f3a\"], [0.8888888888888888, \"#fdca26\"], [1.0, \"#f0f921\"]], \"type\": \"heatmap\"}], \"heatmapgl\": [{\"colorbar\": {\"outlinewidth\": 0, \"ticks\": \"\"}, \"colorscale\": [[0.0, \"#0d0887\"], [0.1111111111111111, \"#46039f\"], [0.2222222222222222, \"#7201a8\"], [0.3333333333333333, \"#9c179e\"], [0.4444444444444444, \"#bd3786\"], [0.5555555555555556, \"#d8576b\"], [0.6666666666666666, \"#ed7953\"], [0.7777777777777778, \"#fb9f3a\"], [0.8888888888888888, \"#fdca26\"], [1.0, \"#f0f921\"]], \"type\": \"heatmapgl\"}], \"histogram\": [{\"marker\": {\"colorbar\": {\"outlinewidth\": 0, \"ticks\": \"\"}}, \"type\": \"histogram\"}], \"histogram2d\": [{\"colorbar\": {\"outlinewidth\": 0, \"ticks\": \"\"}, \"colorscale\": [[0.0, \"#0d0887\"], [0.1111111111111111, \"#46039f\"], [0.2222222222222222, \"#7201a8\"], [0.3333333333333333, \"#9c179e\"], [0.4444444444444444, \"#bd3786\"], [0.5555555555555556, \"#d8576b\"], [0.6666666666666666, \"#ed7953\"], [0.7777777777777778, \"#fb9f3a\"], [0.8888888888888888, \"#fdca26\"], [1.0, \"#f0f921\"]], \"type\": \"histogram2d\"}], \"histogram2dcontour\": [{\"colorbar\": {\"outlinewidth\": 0, \"ticks\": \"\"}, \"colorscale\": [[0.0, \"#0d0887\"], [0.1111111111111111, \"#46039f\"], [0.2222222222222222, \"#7201a8\"], [0.3333333333333333, \"#9c179e\"], [0.4444444444444444, \"#bd3786\"], [0.5555555555555556, \"#d8576b\"], [0.6666666666666666, \"#ed7953\"], [0.7777777777777778, \"#fb9f3a\"], [0.8888888888888888, \"#fdca26\"], [1.0, \"#f0f921\"]], \"type\": \"histogram2dcontour\"}], \"mesh3d\": [{\"colorbar\": {\"outlinewidth\": 0, \"ticks\": \"\"}, \"type\": \"mesh3d\"}], \"parcoords\": [{\"line\": {\"colorbar\": {\"outlinewidth\": 0, \"ticks\": \"\"}}, \"type\": \"parcoords\"}], \"scatter\": [{\"marker\": {\"colorbar\": {\"outlinewidth\": 0, \"ticks\": \"\"}}, \"type\": \"scatter\"}], \"scatter3d\": [{\"line\": {\"colorbar\": {\"outlinewidth\": 0, \"ticks\": \"\"}}, \"marker\": {\"colorbar\": {\"outlinewidth\": 0, \"ticks\": \"\"}}, \"type\": \"scatter3d\"}], \"scattercarpet\": [{\"marker\": {\"colorbar\": {\"outlinewidth\": 0, \"ticks\": \"\"}}, \"type\": \"scattercarpet\"}], \"scattergeo\": [{\"marker\": {\"colorbar\": {\"outlinewidth\": 0, \"ticks\": \"\"}}, \"type\": \"scattergeo\"}], \"scattergl\": [{\"marker\": {\"colorbar\": {\"outlinewidth\": 0, \"ticks\": \"\"}}, \"type\": \"scattergl\"}], \"scattermapbox\": [{\"marker\": {\"colorbar\": {\"outlinewidth\": 0, \"ticks\": \"\"}}, \"type\": \"scattermapbox\"}], \"scatterpolar\": [{\"marker\": {\"colorbar\": {\"outlinewidth\": 0, \"ticks\": \"\"}}, \"type\": \"scatterpolar\"}], \"scatterpolargl\": [{\"marker\": {\"colorbar\": {\"outlinewidth\": 0, \"ticks\": \"\"}}, \"type\": \"scatterpolargl\"}], \"scatterternary\": [{\"marker\": {\"colorbar\": {\"outlinewidth\": 0, \"ticks\": \"\"}}, \"type\": \"scatterternary\"}], \"surface\": [{\"colorbar\": {\"outlinewidth\": 0, \"ticks\": \"\"}, \"colorscale\": [[0.0, \"#0d0887\"], [0.1111111111111111, \"#46039f\"], [0.2222222222222222, \"#7201a8\"], [0.3333333333333333, \"#9c179e\"], [0.4444444444444444, \"#bd3786\"], [0.5555555555555556, \"#d8576b\"], [0.6666666666666666, \"#ed7953\"], [0.7777777777777778, \"#fb9f3a\"], [0.8888888888888888, \"#fdca26\"], [1.0, \"#f0f921\"]], \"type\": \"surface\"}], \"table\": [{\"cells\": {\"fill\": {\"color\": \"#EBF0F8\"}, \"line\": {\"color\": \"white\"}}, \"header\": {\"fill\": {\"color\": \"#C8D4E3\"}, \"line\": {\"color\": \"white\"}}, \"type\": \"table\"}]}, \"layout\": {\"annotationdefaults\": {\"arrowcolor\": \"#2a3f5f\", \"arrowhead\": 0, \"arrowwidth\": 1}, \"colorscale\": {\"diverging\": [[0, \"#8e0152\"], [0.1, \"#c51b7d\"], [0.2, \"#de77ae\"], [0.3, \"#f1b6da\"], [0.4, \"#fde0ef\"], [0.5, \"#f7f7f7\"], [0.6, \"#e6f5d0\"], [0.7, \"#b8e186\"], [0.8, \"#7fbc41\"], [0.9, \"#4d9221\"], [1, \"#276419\"]], \"sequential\": [[0.0, \"#0d0887\"], [0.1111111111111111, \"#46039f\"], [0.2222222222222222, \"#7201a8\"], [0.3333333333333333, \"#9c179e\"], [0.4444444444444444, \"#bd3786\"], [0.5555555555555556, \"#d8576b\"], [0.6666666666666666, \"#ed7953\"], [0.7777777777777778, \"#fb9f3a\"], [0.8888888888888888, \"#fdca26\"], [1.0, \"#f0f921\"]], \"sequentialminus\": [[0.0, \"#0d0887\"], [0.1111111111111111, \"#46039f\"], [0.2222222222222222, \"#7201a8\"], [0.3333333333333333, \"#9c179e\"], [0.4444444444444444, \"#bd3786\"], [0.5555555555555556, \"#d8576b\"], [0.6666666666666666, \"#ed7953\"], [0.7777777777777778, \"#fb9f3a\"], [0.8888888888888888, \"#fdca26\"], [1.0, \"#f0f921\"]]}, \"colorway\": [\"#636efa\", \"#EF553B\", \"#00cc96\", \"#ab63fa\", \"#FFA15A\", \"#19d3f3\", \"#FF6692\", \"#B6E880\", \"#FF97FF\", \"#FECB52\"], \"font\": {\"color\": \"#2a3f5f\"}, \"geo\": {\"bgcolor\": \"white\", \"lakecolor\": \"white\", \"landcolor\": \"#E5ECF6\", \"showlakes\": true, \"showland\": true, \"subunitcolor\": \"white\"}, \"hoverlabel\": {\"align\": \"left\"}, \"hovermode\": \"closest\", \"mapbox\": {\"style\": \"light\"}, \"paper_bgcolor\": \"white\", \"plot_bgcolor\": \"#E5ECF6\", \"polar\": {\"angularaxis\": {\"gridcolor\": \"white\", \"linecolor\": \"white\", \"ticks\": \"\"}, \"bgcolor\": \"#E5ECF6\", \"radialaxis\": {\"gridcolor\": \"white\", \"linecolor\": \"white\", \"ticks\": \"\"}}, \"scene\": {\"xaxis\": {\"backgroundcolor\": \"#E5ECF6\", \"gridcolor\": \"white\", \"gridwidth\": 2, \"linecolor\": \"white\", \"showbackground\": true, \"ticks\": \"\", \"zerolinecolor\": \"white\"}, \"yaxis\": {\"backgroundcolor\": \"#E5ECF6\", \"gridcolor\": \"white\", \"gridwidth\": 2, \"linecolor\": \"white\", \"showbackground\": true, \"ticks\": \"\", \"zerolinecolor\": \"white\"}, \"zaxis\": {\"backgroundcolor\": \"#E5ECF6\", \"gridcolor\": \"white\", \"gridwidth\": 2, \"linecolor\": \"white\", \"showbackground\": true, \"ticks\": \"\", \"zerolinecolor\": \"white\"}}, \"shapedefaults\": {\"line\": {\"color\": \"#2a3f5f\"}}, \"ternary\": {\"aaxis\": {\"gridcolor\": \"white\", \"linecolor\": \"white\", \"ticks\": \"\"}, \"baxis\": {\"gridcolor\": \"white\", \"linecolor\": \"white\", \"ticks\": \"\"}, \"bgcolor\": \"#E5ECF6\", \"caxis\": {\"gridcolor\": \"white\", \"linecolor\": \"white\", \"ticks\": \"\"}}, \"title\": {\"x\": 0.05}, \"xaxis\": {\"automargin\": true, \"gridcolor\": \"white\", \"linecolor\": \"white\", \"ticks\": \"\", \"zerolinecolor\": \"white\", \"zerolinewidth\": 2}, \"yaxis\": {\"automargin\": true, \"gridcolor\": \"white\", \"linecolor\": \"white\", \"ticks\": \"\", \"zerolinecolor\": \"white\", \"zerolinewidth\": 2}}}, \"title\": {\"font\": {\"color\": \"#4D5663\"}}, \"xaxis\": {\"gridcolor\": \"#E1E5ED\", \"showgrid\": true, \"tickfont\": {\"color\": \"#4D5663\"}, \"title\": {\"font\": {\"color\": \"#4D5663\"}, \"text\": \"\"}, \"zerolinecolor\": \"#E1E5ED\"}, \"yaxis\": {\"gridcolor\": \"#E1E5ED\", \"showgrid\": true, \"tickfont\": {\"color\": \"#4D5663\"}, \"title\": {\"font\": {\"color\": \"#4D5663\"}, \"text\": \"\"}, \"zerolinecolor\": \"#E1E5ED\"}},\n",
       "                        {\"showLink\": true, \"linkText\": \"Export to plot.ly\", \"plotlyServerURL\": \"https://plot.ly\", \"responsive\": true}\n",
       "                    ).then(function(){\n",
       "                            \n",
       "var gd = document.getElementById('7694fdd7-7caa-4c9b-ab96-b0fe15971067');\n",
       "var x = new MutationObserver(function (mutations, observer) {{\n",
       "        var display = window.getComputedStyle(gd).display;\n",
       "        if (!display || display === 'none') {{\n",
       "            console.log([gd, 'removed!']);\n",
       "            Plotly.purge(gd);\n",
       "            observer.disconnect();\n",
       "        }}\n",
       "}});\n",
       "\n",
       "// Listen for the removal of the full notebook cells\n",
       "var notebookContainer = gd.closest('#notebook-container');\n",
       "if (notebookContainer) {{\n",
       "    x.observe(notebookContainer, {childList: true});\n",
       "}}\n",
       "\n",
       "// Listen for the clearing of the current output cell\n",
       "var outputEl = gd.closest('.output');\n",
       "if (outputEl) {{\n",
       "    x.observe(outputEl, {childList: true});\n",
       "}}\n",
       "\n",
       "                        })\n",
       "                };\n",
       "                });\n",
       "            </script>\n",
       "        </div>"
      ]
     },
     "metadata": {},
     "output_type": "display_data"
    }
   ],
   "source": [
    "df.iplot(kind = 'hist')"
   ]
  },
  {
   "cell_type": "code",
   "execution_count": 23,
   "metadata": {},
   "outputs": [
    {
     "data": {
      "application/vnd.plotly.v1+json": {
       "config": {
        "linkText": "Export to plot.ly",
        "plotlyServerURL": "https://plot.ly",
        "showLink": true
       },
       "data": [
        {
         "line": {
          "color": "rgba(255, 153, 51, 1.0)",
          "dash": "solid",
          "shape": "linear",
          "width": 1.3
         },
         "mode": "lines",
         "name": "A",
         "text": "",
         "type": "scatter",
         "x": [
          0,
          1,
          2,
          3,
          4,
          5,
          6,
          7,
          8,
          9,
          10,
          11,
          12,
          13,
          14,
          15,
          16,
          17,
          18,
          19,
          20,
          21,
          22,
          23,
          24,
          25,
          26,
          27,
          28,
          29,
          30,
          31,
          32,
          33,
          34,
          35,
          36,
          37,
          38,
          39,
          40,
          41,
          42,
          43,
          44,
          45,
          46,
          47,
          48,
          49,
          50,
          51,
          52,
          53,
          54,
          55,
          56,
          57,
          58,
          59,
          60,
          61,
          62,
          63,
          64,
          65,
          66,
          67,
          68,
          69,
          70,
          71,
          72,
          73,
          74,
          75,
          76,
          77,
          78,
          79,
          80,
          81,
          82,
          83,
          84,
          85,
          86,
          87,
          88,
          89,
          90,
          91,
          92,
          93,
          94,
          95,
          96,
          97,
          98,
          99
         ],
         "y": [
          -0.06542778015912247,
          -0.4983315985004792,
          -0.3932665761127589,
          -0.10616396259826238,
          -0.26207506689955234,
          0.7886670736320832,
          -0.14377426502187782,
          -0.15273724910094455,
          -1.1338234021817963,
          0.0009770267116028946,
          -0.7324620416267447,
          0.06043111318599064,
          0.623615648635299,
          -0.9898932119379665,
          -0.45086070577257026,
          -0.830303964658216,
          1.5716630654715504,
          -1.0974693696329356,
          0.4558388327103945,
          1.2170495932316205,
          -0.32981680298429955,
          0.2582423394595888,
          0.4888856866509463,
          -0.6121681967574407,
          -0.5414245020009553,
          2.713140457391276,
          1.7423907028996293,
          0.14142226924657475,
          1.6632119799987835,
          -1.1316432740780005,
          0.3761480797940717,
          -0.5145111245715915,
          0.15963736908855272,
          0.8356735998848508,
          -0.3565600825442002,
          1.157899333248228,
          -0.4096165797423869,
          0.5249195501867103,
          0.5653237593734552,
          1.072675824030473,
          -1.7986968659667908,
          0.09444932233020178,
          0.37476626326860707,
          -0.06564736959465206,
          0.28052433882468464,
          0.7190140964012359,
          -1.5830392770914365,
          0.2644929549909655,
          -1.0006939493489782,
          0.23636146599124183,
          0.39176536250665306,
          1.0010977258940492,
          0.10143316005483165,
          -0.3368213254581548,
          -0.2971587471713649,
          -0.026228244623694424,
          0.6624173371633474,
          -1.7218637928707545,
          -0.5923164125061781,
          -0.34970068099215595,
          -0.12555665412014028,
          -0.16897186432076375,
          0.40905865555379467,
          -0.6632048676391282,
          1.0816531446896442,
          -0.08061085564831709,
          -0.6898727254749667,
          -0.05582287614843459,
          0.019644984580532536,
          -0.24593277126504068,
          0.2647198186254047,
          -2.6985599960128646,
          -0.2857060352657619,
          -0.7059336808840253,
          0.17851344877915792,
          -1.1872112018363015,
          0.356400427218362,
          0.6949620719212402,
          1.7193507242959798,
          0.15045354017786597,
          -0.18479491530568848,
          -1.239764615178371,
          0.09444746482720447,
          -0.45253402974609547,
          1.5240444051796522,
          -0.7166957289144503,
          1.5593468757849867,
          -1.8811576668979677,
          -1.4952705913795905,
          0.23129604965371198,
          -0.008759735894900082,
          0.15443482118378815,
          -1.4297427857966751,
          -0.06765988265773787,
          -0.996787930590609,
          -0.4145939334371296,
          -0.43632955465216916,
          -0.7186990577837588,
          0.5636984699664023,
          0.21842881420586344
         ]
        },
        {
         "line": {
          "color": "rgba(55, 128, 191, 1.0)",
          "dash": "solid",
          "shape": "linear",
          "width": 1.3
         },
         "mode": "lines",
         "name": "B",
         "text": "",
         "type": "scatter",
         "x": [
          0,
          1,
          2,
          3,
          4,
          5,
          6,
          7,
          8,
          9,
          10,
          11,
          12,
          13,
          14,
          15,
          16,
          17,
          18,
          19,
          20,
          21,
          22,
          23,
          24,
          25,
          26,
          27,
          28,
          29,
          30,
          31,
          32,
          33,
          34,
          35,
          36,
          37,
          38,
          39,
          40,
          41,
          42,
          43,
          44,
          45,
          46,
          47,
          48,
          49,
          50,
          51,
          52,
          53,
          54,
          55,
          56,
          57,
          58,
          59,
          60,
          61,
          62,
          63,
          64,
          65,
          66,
          67,
          68,
          69,
          70,
          71,
          72,
          73,
          74,
          75,
          76,
          77,
          78,
          79,
          80,
          81,
          82,
          83,
          84,
          85,
          86,
          87,
          88,
          89,
          90,
          91,
          92,
          93,
          94,
          95,
          96,
          97,
          98,
          99
         ],
         "y": [
          -0.8411370469674633,
          0.8465936719276874,
          -2.0769241221253196,
          -0.6700626862026585,
          -0.5718851695463921,
          -0.09755403761810581,
          -0.44096635857130717,
          -0.19909691093629908,
          1.5488170316881231,
          -0.058357642546699194,
          0.919790098361005,
          0.3594851568227443,
          -0.8769963650114245,
          -0.269976233378358,
          0.24765485950810773,
          0.269321910169165,
          -0.5505010270008414,
          -0.4072869079940033,
          0.3517877394913619,
          -1.524489635082197,
          0.12522454045167053,
          0.9987328546532094,
          -1.3791792776183134,
          0.05423843887016417,
          0.2688011121653173,
          -0.19041155308139934,
          0.10695575141382495,
          1.7095876419986396,
          -1.170502100390321,
          0.9290949508011905,
          -0.1939790752819657,
          -0.9278782561160333,
          -0.38128376570696293,
          1.4196422528454338,
          -0.3327314727625212,
          1.1991026923111583,
          0.34681659229915696,
          -0.6206391541625019,
          0.12742134556200654,
          1.3243431685994702,
          -0.8269302595340654,
          0.37966686811781725,
          -0.10344807908893425,
          -2.0544188879512295,
          -0.7464815409567633,
          -0.7767402402381235,
          -0.6637804281354422,
          1.2517385487669808,
          0.694873957911729,
          -0.06616754426101021,
          0.0826020637563963,
          -0.8335126220950743,
          1.5472354491421703,
          -1.1883781356830807,
          0.6959161155628883,
          1.6809774728363294,
          -0.23254175749586706,
          -1.9896207513535749,
          -0.23331842485528928,
          2.178970408821887,
          1.4573427100091558,
          -0.908432032880107,
          -0.44244867207382027,
          -0.4769298465440546,
          1.3442857447410939,
          0.8937306771278547,
          1.2884460982984527,
          0.25783105542154644,
          -0.5664819169183514,
          -0.18098321446330418,
          0.331616555740629,
          -0.8005687231433739,
          1.0988721156679697,
          0.23696136067638396,
          0.46500651711300106,
          -0.7528153647155813,
          1.3412978052129945,
          -1.0199703145796095,
          0.6413002728832091,
          -0.3193840554624845,
          -0.11664683969933677,
          0.9687749026453907,
          1.3239859553061233,
          -0.1362061691984603,
          1.2241312871811287,
          0.21623446478982422,
          -0.21314367553319472,
          0.720151826365811,
          1.462740448667771,
          -0.3436916812967713,
          0.4324993105508277,
          -1.5619649073250985,
          -2.112441929480903,
          0.06564522053701284,
          -0.28106050711775143,
          -0.07673876751490212,
          0.9800922196622552,
          0.03668337598725406,
          0.22327999074166194,
          0.37285586455157954
         ]
        },
        {
         "connectgaps": false,
         "fill": "tozeroy",
         "line": {
          "color": "green",
          "dash": "solid",
          "shape": "linear",
          "width": 0.5
         },
         "mode": "lines",
         "name": "Spread",
         "showlegend": false,
         "type": "scatter",
         "x": [
          0,
          1,
          2,
          3,
          4,
          5,
          6,
          7,
          8,
          9,
          10,
          11,
          12,
          13,
          14,
          15,
          16,
          17,
          18,
          19,
          20,
          21,
          22,
          23,
          24,
          25,
          26,
          27,
          28,
          29,
          30,
          31,
          32,
          33,
          34,
          35,
          36,
          37,
          38,
          39,
          40,
          41,
          42,
          43,
          44,
          45,
          46,
          47,
          48,
          49,
          50,
          51,
          52,
          53,
          54,
          55,
          56,
          57,
          58,
          59,
          60,
          61,
          62,
          63,
          64,
          65,
          66,
          67,
          68,
          69,
          70,
          71,
          72,
          73,
          74,
          75,
          76,
          77,
          78,
          79,
          80,
          81,
          82,
          83,
          84,
          85,
          86,
          87,
          88,
          89,
          90,
          91,
          92,
          93,
          94,
          95,
          96,
          97,
          98,
          99
         ],
         "xaxis": "x2",
         "y": [
          0.7757092668083408,
          "",
          1.6836575460125607,
          0.5638987236043962,
          0.3098101026468398,
          0.886221111250189,
          0.2971920935494293,
          0.04635966183535453,
          "",
          0.05933466925830209,
          "",
          "",
          1.5006120136467236,
          "",
          "",
          "",
          2.1221640924723917,
          "",
          0.10405109321903261,
          2.7415392283138176,
          "",
          "",
          1.8680649642692597,
          "",
          "",
          2.9035520104726755,
          1.6354349514858044,
          "",
          2.8337140803891048,
          "",
          0.5701271550760374,
          0.4133671315444417,
          0.5409211347955156,
          "",
          "",
          "",
          "",
          1.1455587043492121,
          0.4379024138114487,
          "",
          "",
          "",
          0.47821434235754134,
          1.9887715183565775,
          1.027005879781448,
          1.4957543366393593,
          "",
          "",
          "",
          0.30252901025225204,
          0.3091632987502568,
          1.8346103479891234,
          "",
          0.8515568102249259,
          "",
          "",
          0.8949590946592144,
          0.26775695848282033,
          "",
          "",
          "",
          0.7394601685593433,
          0.8515073276276149,
          "",
          "",
          "",
          "",
          "",
          0.5861269014988839,
          "",
          "",
          "",
          "",
          "",
          "",
          "",
          "",
          1.7149323865008497,
          1.0780504514127707,
          0.46983759564035044,
          "",
          "",
          "",
          "",
          0.2999131179985235,
          "",
          1.7724905513181815,
          "",
          "",
          0.5749877309504833,
          "",
          1.7163997285088866,
          0.6826991436842278,
          "",
          "",
          "",
          "",
          "",
          0.34041847922474033,
          ""
         ],
         "yaxis": "y2"
        },
        {
         "connectgaps": false,
         "fill": "tozeroy",
         "line": {
          "color": "red",
          "dash": "solid",
          "shape": "linear",
          "width": 0.5
         },
         "mode": "lines",
         "name": "Spread",
         "showlegend": false,
         "type": "scatter",
         "x": [
          0,
          1,
          2,
          3,
          4,
          5,
          6,
          7,
          8,
          9,
          10,
          11,
          12,
          13,
          14,
          15,
          16,
          17,
          18,
          19,
          20,
          21,
          22,
          23,
          24,
          25,
          26,
          27,
          28,
          29,
          30,
          31,
          32,
          33,
          34,
          35,
          36,
          37,
          38,
          39,
          40,
          41,
          42,
          43,
          44,
          45,
          46,
          47,
          48,
          49,
          50,
          51,
          52,
          53,
          54,
          55,
          56,
          57,
          58,
          59,
          60,
          61,
          62,
          63,
          64,
          65,
          66,
          67,
          68,
          69,
          70,
          71,
          72,
          73,
          74,
          75,
          76,
          77,
          78,
          79,
          80,
          81,
          82,
          83,
          84,
          85,
          86,
          87,
          88,
          89,
          90,
          91,
          92,
          93,
          94,
          95,
          96,
          97,
          98,
          99
         ],
         "xaxis": "x2",
         "y": [
          "",
          -1.3449252704281667,
          "",
          "",
          "",
          "",
          "",
          "",
          -2.6826404338699197,
          "",
          -1.6522521399877497,
          -0.29905404363675364,
          "",
          -0.7199169785596085,
          -0.698515565280678,
          -1.099625874827381,
          "",
          -0.6901824616389323,
          "",
          "",
          -0.4550413434359701,
          -0.7404905151936205,
          "",
          -0.6664066356276049,
          -0.8102256141662726,
          "",
          "",
          -1.5681653727520648,
          "",
          -2.060738224879191,
          "",
          "",
          "",
          -0.583968652960583,
          -0.023828609781679,
          -0.04120335906293038,
          -0.7564331720415438,
          "",
          "",
          -0.2516673445689972,
          -0.9717666064327254,
          -0.2852175457876155,
          "",
          "",
          "",
          "",
          -0.9192588489559943,
          -0.9872455937760153,
          -1.695567907260707,
          "",
          "",
          "",
          -1.4458022890873385,
          "",
          -0.9930748627342533,
          -1.7072057174600237,
          "",
          "",
          -0.35899798765088875,
          -2.528671089814043,
          -1.582899364129296,
          "",
          "",
          -0.1862750210950736,
          -0.2626326000514496,
          -0.9743415327761717,
          -1.9783188237734195,
          -0.313653931569981,
          "",
          -0.0649495568017365,
          -0.06689673711522426,
          -1.8979912728694908,
          -1.3845781509337316,
          -0.9428950415604093,
          -0.28649306833384314,
          -0.43439583712072016,
          -0.9848973779946324,
          "",
          "",
          "",
          -0.06814807560635171,
          -2.2085395178237617,
          -1.2295384904789188,
          -0.3163278605476352,
          "",
          -0.9329301937042745,
          "",
          -2.601309493263779,
          -2.958011040047362,
          "",
          -0.4412590464457278,
          "",
          "",
          -0.1333051031947507,
          -0.7157274234728576,
          -0.3378551659222275,
          -1.4164217743144243,
          -0.7553824337710128,
          "",
          -0.1544270503457161
         ],
         "yaxis": "y2"
        }
       ],
       "layout": {
        "hovermode": "x",
        "legend": {
         "bgcolor": "#F5F6F9",
         "font": {
          "color": "#4D5663"
         }
        },
        "paper_bgcolor": "#F5F6F9",
        "plot_bgcolor": "#F5F6F9",
        "template": {
         "data": {
          "bar": [
           {
            "error_x": {
             "color": "#2a3f5f"
            },
            "error_y": {
             "color": "#2a3f5f"
            },
            "marker": {
             "line": {
              "color": "#E5ECF6",
              "width": 0.5
             }
            },
            "type": "bar"
           }
          ],
          "barpolar": [
           {
            "marker": {
             "line": {
              "color": "#E5ECF6",
              "width": 0.5
             }
            },
            "type": "barpolar"
           }
          ],
          "carpet": [
           {
            "aaxis": {
             "endlinecolor": "#2a3f5f",
             "gridcolor": "white",
             "linecolor": "white",
             "minorgridcolor": "white",
             "startlinecolor": "#2a3f5f"
            },
            "baxis": {
             "endlinecolor": "#2a3f5f",
             "gridcolor": "white",
             "linecolor": "white",
             "minorgridcolor": "white",
             "startlinecolor": "#2a3f5f"
            },
            "type": "carpet"
           }
          ],
          "choropleth": [
           {
            "colorbar": {
             "outlinewidth": 0,
             "ticks": ""
            },
            "type": "choropleth"
           }
          ],
          "contour": [
           {
            "colorbar": {
             "outlinewidth": 0,
             "ticks": ""
            },
            "colorscale": [
             [
              0,
              "#0d0887"
             ],
             [
              0.1111111111111111,
              "#46039f"
             ],
             [
              0.2222222222222222,
              "#7201a8"
             ],
             [
              0.3333333333333333,
              "#9c179e"
             ],
             [
              0.4444444444444444,
              "#bd3786"
             ],
             [
              0.5555555555555556,
              "#d8576b"
             ],
             [
              0.6666666666666666,
              "#ed7953"
             ],
             [
              0.7777777777777778,
              "#fb9f3a"
             ],
             [
              0.8888888888888888,
              "#fdca26"
             ],
             [
              1,
              "#f0f921"
             ]
            ],
            "type": "contour"
           }
          ],
          "contourcarpet": [
           {
            "colorbar": {
             "outlinewidth": 0,
             "ticks": ""
            },
            "type": "contourcarpet"
           }
          ],
          "heatmap": [
           {
            "colorbar": {
             "outlinewidth": 0,
             "ticks": ""
            },
            "colorscale": [
             [
              0,
              "#0d0887"
             ],
             [
              0.1111111111111111,
              "#46039f"
             ],
             [
              0.2222222222222222,
              "#7201a8"
             ],
             [
              0.3333333333333333,
              "#9c179e"
             ],
             [
              0.4444444444444444,
              "#bd3786"
             ],
             [
              0.5555555555555556,
              "#d8576b"
             ],
             [
              0.6666666666666666,
              "#ed7953"
             ],
             [
              0.7777777777777778,
              "#fb9f3a"
             ],
             [
              0.8888888888888888,
              "#fdca26"
             ],
             [
              1,
              "#f0f921"
             ]
            ],
            "type": "heatmap"
           }
          ],
          "heatmapgl": [
           {
            "colorbar": {
             "outlinewidth": 0,
             "ticks": ""
            },
            "colorscale": [
             [
              0,
              "#0d0887"
             ],
             [
              0.1111111111111111,
              "#46039f"
             ],
             [
              0.2222222222222222,
              "#7201a8"
             ],
             [
              0.3333333333333333,
              "#9c179e"
             ],
             [
              0.4444444444444444,
              "#bd3786"
             ],
             [
              0.5555555555555556,
              "#d8576b"
             ],
             [
              0.6666666666666666,
              "#ed7953"
             ],
             [
              0.7777777777777778,
              "#fb9f3a"
             ],
             [
              0.8888888888888888,
              "#fdca26"
             ],
             [
              1,
              "#f0f921"
             ]
            ],
            "type": "heatmapgl"
           }
          ],
          "histogram": [
           {
            "marker": {
             "colorbar": {
              "outlinewidth": 0,
              "ticks": ""
             }
            },
            "type": "histogram"
           }
          ],
          "histogram2d": [
           {
            "colorbar": {
             "outlinewidth": 0,
             "ticks": ""
            },
            "colorscale": [
             [
              0,
              "#0d0887"
             ],
             [
              0.1111111111111111,
              "#46039f"
             ],
             [
              0.2222222222222222,
              "#7201a8"
             ],
             [
              0.3333333333333333,
              "#9c179e"
             ],
             [
              0.4444444444444444,
              "#bd3786"
             ],
             [
              0.5555555555555556,
              "#d8576b"
             ],
             [
              0.6666666666666666,
              "#ed7953"
             ],
             [
              0.7777777777777778,
              "#fb9f3a"
             ],
             [
              0.8888888888888888,
              "#fdca26"
             ],
             [
              1,
              "#f0f921"
             ]
            ],
            "type": "histogram2d"
           }
          ],
          "histogram2dcontour": [
           {
            "colorbar": {
             "outlinewidth": 0,
             "ticks": ""
            },
            "colorscale": [
             [
              0,
              "#0d0887"
             ],
             [
              0.1111111111111111,
              "#46039f"
             ],
             [
              0.2222222222222222,
              "#7201a8"
             ],
             [
              0.3333333333333333,
              "#9c179e"
             ],
             [
              0.4444444444444444,
              "#bd3786"
             ],
             [
              0.5555555555555556,
              "#d8576b"
             ],
             [
              0.6666666666666666,
              "#ed7953"
             ],
             [
              0.7777777777777778,
              "#fb9f3a"
             ],
             [
              0.8888888888888888,
              "#fdca26"
             ],
             [
              1,
              "#f0f921"
             ]
            ],
            "type": "histogram2dcontour"
           }
          ],
          "mesh3d": [
           {
            "colorbar": {
             "outlinewidth": 0,
             "ticks": ""
            },
            "type": "mesh3d"
           }
          ],
          "parcoords": [
           {
            "line": {
             "colorbar": {
              "outlinewidth": 0,
              "ticks": ""
             }
            },
            "type": "parcoords"
           }
          ],
          "scatter": [
           {
            "marker": {
             "colorbar": {
              "outlinewidth": 0,
              "ticks": ""
             }
            },
            "type": "scatter"
           }
          ],
          "scatter3d": [
           {
            "line": {
             "colorbar": {
              "outlinewidth": 0,
              "ticks": ""
             }
            },
            "marker": {
             "colorbar": {
              "outlinewidth": 0,
              "ticks": ""
             }
            },
            "type": "scatter3d"
           }
          ],
          "scattercarpet": [
           {
            "marker": {
             "colorbar": {
              "outlinewidth": 0,
              "ticks": ""
             }
            },
            "type": "scattercarpet"
           }
          ],
          "scattergeo": [
           {
            "marker": {
             "colorbar": {
              "outlinewidth": 0,
              "ticks": ""
             }
            },
            "type": "scattergeo"
           }
          ],
          "scattergl": [
           {
            "marker": {
             "colorbar": {
              "outlinewidth": 0,
              "ticks": ""
             }
            },
            "type": "scattergl"
           }
          ],
          "scattermapbox": [
           {
            "marker": {
             "colorbar": {
              "outlinewidth": 0,
              "ticks": ""
             }
            },
            "type": "scattermapbox"
           }
          ],
          "scatterpolar": [
           {
            "marker": {
             "colorbar": {
              "outlinewidth": 0,
              "ticks": ""
             }
            },
            "type": "scatterpolar"
           }
          ],
          "scatterpolargl": [
           {
            "marker": {
             "colorbar": {
              "outlinewidth": 0,
              "ticks": ""
             }
            },
            "type": "scatterpolargl"
           }
          ],
          "scatterternary": [
           {
            "marker": {
             "colorbar": {
              "outlinewidth": 0,
              "ticks": ""
             }
            },
            "type": "scatterternary"
           }
          ],
          "surface": [
           {
            "colorbar": {
             "outlinewidth": 0,
             "ticks": ""
            },
            "colorscale": [
             [
              0,
              "#0d0887"
             ],
             [
              0.1111111111111111,
              "#46039f"
             ],
             [
              0.2222222222222222,
              "#7201a8"
             ],
             [
              0.3333333333333333,
              "#9c179e"
             ],
             [
              0.4444444444444444,
              "#bd3786"
             ],
             [
              0.5555555555555556,
              "#d8576b"
             ],
             [
              0.6666666666666666,
              "#ed7953"
             ],
             [
              0.7777777777777778,
              "#fb9f3a"
             ],
             [
              0.8888888888888888,
              "#fdca26"
             ],
             [
              1,
              "#f0f921"
             ]
            ],
            "type": "surface"
           }
          ],
          "table": [
           {
            "cells": {
             "fill": {
              "color": "#EBF0F8"
             },
             "line": {
              "color": "white"
             }
            },
            "header": {
             "fill": {
              "color": "#C8D4E3"
             },
             "line": {
              "color": "white"
             }
            },
            "type": "table"
           }
          ]
         },
         "layout": {
          "annotationdefaults": {
           "arrowcolor": "#2a3f5f",
           "arrowhead": 0,
           "arrowwidth": 1
          },
          "colorscale": {
           "diverging": [
            [
             0,
             "#8e0152"
            ],
            [
             0.1,
             "#c51b7d"
            ],
            [
             0.2,
             "#de77ae"
            ],
            [
             0.3,
             "#f1b6da"
            ],
            [
             0.4,
             "#fde0ef"
            ],
            [
             0.5,
             "#f7f7f7"
            ],
            [
             0.6,
             "#e6f5d0"
            ],
            [
             0.7,
             "#b8e186"
            ],
            [
             0.8,
             "#7fbc41"
            ],
            [
             0.9,
             "#4d9221"
            ],
            [
             1,
             "#276419"
            ]
           ],
           "sequential": [
            [
             0,
             "#0d0887"
            ],
            [
             0.1111111111111111,
             "#46039f"
            ],
            [
             0.2222222222222222,
             "#7201a8"
            ],
            [
             0.3333333333333333,
             "#9c179e"
            ],
            [
             0.4444444444444444,
             "#bd3786"
            ],
            [
             0.5555555555555556,
             "#d8576b"
            ],
            [
             0.6666666666666666,
             "#ed7953"
            ],
            [
             0.7777777777777778,
             "#fb9f3a"
            ],
            [
             0.8888888888888888,
             "#fdca26"
            ],
            [
             1,
             "#f0f921"
            ]
           ],
           "sequentialminus": [
            [
             0,
             "#0d0887"
            ],
            [
             0.1111111111111111,
             "#46039f"
            ],
            [
             0.2222222222222222,
             "#7201a8"
            ],
            [
             0.3333333333333333,
             "#9c179e"
            ],
            [
             0.4444444444444444,
             "#bd3786"
            ],
            [
             0.5555555555555556,
             "#d8576b"
            ],
            [
             0.6666666666666666,
             "#ed7953"
            ],
            [
             0.7777777777777778,
             "#fb9f3a"
            ],
            [
             0.8888888888888888,
             "#fdca26"
            ],
            [
             1,
             "#f0f921"
            ]
           ]
          },
          "colorway": [
           "#636efa",
           "#EF553B",
           "#00cc96",
           "#ab63fa",
           "#FFA15A",
           "#19d3f3",
           "#FF6692",
           "#B6E880",
           "#FF97FF",
           "#FECB52"
          ],
          "font": {
           "color": "#2a3f5f"
          },
          "geo": {
           "bgcolor": "white",
           "lakecolor": "white",
           "landcolor": "#E5ECF6",
           "showlakes": true,
           "showland": true,
           "subunitcolor": "white"
          },
          "hoverlabel": {
           "align": "left"
          },
          "hovermode": "closest",
          "mapbox": {
           "style": "light"
          },
          "paper_bgcolor": "white",
          "plot_bgcolor": "#E5ECF6",
          "polar": {
           "angularaxis": {
            "gridcolor": "white",
            "linecolor": "white",
            "ticks": ""
           },
           "bgcolor": "#E5ECF6",
           "radialaxis": {
            "gridcolor": "white",
            "linecolor": "white",
            "ticks": ""
           }
          },
          "scene": {
           "xaxis": {
            "backgroundcolor": "#E5ECF6",
            "gridcolor": "white",
            "gridwidth": 2,
            "linecolor": "white",
            "showbackground": true,
            "ticks": "",
            "zerolinecolor": "white"
           },
           "yaxis": {
            "backgroundcolor": "#E5ECF6",
            "gridcolor": "white",
            "gridwidth": 2,
            "linecolor": "white",
            "showbackground": true,
            "ticks": "",
            "zerolinecolor": "white"
           },
           "zaxis": {
            "backgroundcolor": "#E5ECF6",
            "gridcolor": "white",
            "gridwidth": 2,
            "linecolor": "white",
            "showbackground": true,
            "ticks": "",
            "zerolinecolor": "white"
           }
          },
          "shapedefaults": {
           "line": {
            "color": "#2a3f5f"
           }
          },
          "ternary": {
           "aaxis": {
            "gridcolor": "white",
            "linecolor": "white",
            "ticks": ""
           },
           "baxis": {
            "gridcolor": "white",
            "linecolor": "white",
            "ticks": ""
           },
           "bgcolor": "#E5ECF6",
           "caxis": {
            "gridcolor": "white",
            "linecolor": "white",
            "ticks": ""
           }
          },
          "title": {
           "x": 0.05
          },
          "xaxis": {
           "automargin": true,
           "gridcolor": "white",
           "linecolor": "white",
           "ticks": "",
           "zerolinecolor": "white",
           "zerolinewidth": 2
          },
          "yaxis": {
           "automargin": true,
           "gridcolor": "white",
           "linecolor": "white",
           "ticks": "",
           "zerolinecolor": "white",
           "zerolinewidth": 2
          }
         }
        },
        "title": {
         "font": {
          "color": "#4D5663"
         }
        },
        "xaxis": {
         "gridcolor": "#E1E5ED",
         "showgrid": true,
         "tickfont": {
          "color": "#4D5663"
         },
         "title": {
          "font": {
           "color": "#4D5663"
          },
          "text": ""
         },
         "zerolinecolor": "#E1E5ED"
        },
        "xaxis2": {
         "anchor": "y2",
         "gridcolor": "#E1E5ED",
         "showgrid": true,
         "showticklabels": false,
         "tickfont": {
          "color": "#4D5663"
         },
         "title": {
          "font": {
           "color": "#4D5663"
          },
          "text": ""
         },
         "zerolinecolor": "#E1E5ED"
        },
        "yaxis": {
         "domain": [
          0.3,
          1
         ],
         "gridcolor": "#E1E5ED",
         "showgrid": true,
         "tickfont": {
          "color": "#4D5663"
         },
         "title": {
          "font": {
           "color": "#4D5663"
          },
          "text": ""
         },
         "zerolinecolor": "#E1E5ED"
        },
        "yaxis2": {
         "domain": [
          0,
          0.25
         ],
         "gridcolor": "#E1E5ED",
         "showgrid": true,
         "tickfont": {
          "color": "#4D5663"
         },
         "title": {
          "font": {
           "color": "#4D5663"
          },
          "text": "Spread"
         },
         "zerolinecolor": "#E1E5ED"
        }
       }
      },
      "text/html": [
       "<div>\n",
       "        \n",
       "        \n",
       "            <div id=\"ff6155a2-d0fd-4752-9803-bece0e587c1b\" class=\"plotly-graph-div\" style=\"height:525px; width:100%;\"></div>\n",
       "            <script type=\"text/javascript\">\n",
       "                require([\"plotly\"], function(Plotly) {\n",
       "                    window.PLOTLYENV=window.PLOTLYENV || {};\n",
       "                    window.PLOTLYENV.BASE_URL='https://plot.ly';\n",
       "                    \n",
       "                if (document.getElementById(\"ff6155a2-d0fd-4752-9803-bece0e587c1b\")) {\n",
       "                    Plotly.newPlot(\n",
       "                        'ff6155a2-d0fd-4752-9803-bece0e587c1b',\n",
       "                        [{\"line\": {\"color\": \"rgba(255, 153, 51, 1.0)\", \"dash\": \"solid\", \"shape\": \"linear\", \"width\": 1.3}, \"mode\": \"lines\", \"name\": \"A\", \"text\": \"\", \"type\": \"scatter\", \"x\": [0, 1, 2, 3, 4, 5, 6, 7, 8, 9, 10, 11, 12, 13, 14, 15, 16, 17, 18, 19, 20, 21, 22, 23, 24, 25, 26, 27, 28, 29, 30, 31, 32, 33, 34, 35, 36, 37, 38, 39, 40, 41, 42, 43, 44, 45, 46, 47, 48, 49, 50, 51, 52, 53, 54, 55, 56, 57, 58, 59, 60, 61, 62, 63, 64, 65, 66, 67, 68, 69, 70, 71, 72, 73, 74, 75, 76, 77, 78, 79, 80, 81, 82, 83, 84, 85, 86, 87, 88, 89, 90, 91, 92, 93, 94, 95, 96, 97, 98, 99], \"y\": [-0.06542778015912247, -0.4983315985004792, -0.3932665761127589, -0.10616396259826238, -0.26207506689955234, 0.7886670736320832, -0.14377426502187782, -0.15273724910094455, -1.1338234021817963, 0.0009770267116028946, -0.7324620416267447, 0.06043111318599064, 0.623615648635299, -0.9898932119379665, -0.45086070577257026, -0.830303964658216, 1.5716630654715504, -1.0974693696329356, 0.4558388327103945, 1.2170495932316205, -0.32981680298429955, 0.2582423394595888, 0.4888856866509463, -0.6121681967574407, -0.5414245020009553, 2.713140457391276, 1.7423907028996293, 0.14142226924657475, 1.6632119799987835, -1.1316432740780005, 0.3761480797940717, -0.5145111245715915, 0.15963736908855272, 0.8356735998848508, -0.3565600825442002, 1.157899333248228, -0.4096165797423869, 0.5249195501867103, 0.5653237593734552, 1.072675824030473, -1.7986968659667908, 0.09444932233020178, 0.37476626326860707, -0.06564736959465206, 0.28052433882468464, 0.7190140964012359, -1.5830392770914365, 0.2644929549909655, -1.0006939493489782, 0.23636146599124183, 0.39176536250665306, 1.0010977258940492, 0.10143316005483165, -0.3368213254581548, -0.2971587471713649, -0.026228244623694424, 0.6624173371633474, -1.7218637928707545, -0.5923164125061781, -0.34970068099215595, -0.12555665412014028, -0.16897186432076375, 0.40905865555379467, -0.6632048676391282, 1.0816531446896442, -0.08061085564831709, -0.6898727254749667, -0.05582287614843459, 0.019644984580532536, -0.24593277126504068, 0.2647198186254047, -2.6985599960128646, -0.2857060352657619, -0.7059336808840253, 0.17851344877915792, -1.1872112018363015, 0.356400427218362, 0.6949620719212402, 1.7193507242959798, 0.15045354017786597, -0.18479491530568848, -1.239764615178371, 0.09444746482720447, -0.45253402974609547, 1.5240444051796522, -0.7166957289144503, 1.5593468757849867, -1.8811576668979677, -1.4952705913795905, 0.23129604965371198, -0.008759735894900082, 0.15443482118378815, -1.4297427857966751, -0.06765988265773787, -0.996787930590609, -0.4145939334371296, -0.43632955465216916, -0.7186990577837588, 0.5636984699664023, 0.21842881420586344]}, {\"line\": {\"color\": \"rgba(55, 128, 191, 1.0)\", \"dash\": \"solid\", \"shape\": \"linear\", \"width\": 1.3}, \"mode\": \"lines\", \"name\": \"B\", \"text\": \"\", \"type\": \"scatter\", \"x\": [0, 1, 2, 3, 4, 5, 6, 7, 8, 9, 10, 11, 12, 13, 14, 15, 16, 17, 18, 19, 20, 21, 22, 23, 24, 25, 26, 27, 28, 29, 30, 31, 32, 33, 34, 35, 36, 37, 38, 39, 40, 41, 42, 43, 44, 45, 46, 47, 48, 49, 50, 51, 52, 53, 54, 55, 56, 57, 58, 59, 60, 61, 62, 63, 64, 65, 66, 67, 68, 69, 70, 71, 72, 73, 74, 75, 76, 77, 78, 79, 80, 81, 82, 83, 84, 85, 86, 87, 88, 89, 90, 91, 92, 93, 94, 95, 96, 97, 98, 99], \"y\": [-0.8411370469674633, 0.8465936719276874, -2.0769241221253196, -0.6700626862026585, -0.5718851695463921, -0.09755403761810581, -0.44096635857130717, -0.19909691093629908, 1.5488170316881231, -0.058357642546699194, 0.919790098361005, 0.3594851568227443, -0.8769963650114245, -0.269976233378358, 0.24765485950810773, 0.269321910169165, -0.5505010270008414, -0.4072869079940033, 0.3517877394913619, -1.524489635082197, 0.12522454045167053, 0.9987328546532094, -1.3791792776183134, 0.05423843887016417, 0.2688011121653173, -0.19041155308139934, 0.10695575141382495, 1.7095876419986396, -1.170502100390321, 0.9290949508011905, -0.1939790752819657, -0.9278782561160333, -0.38128376570696293, 1.4196422528454338, -0.3327314727625212, 1.1991026923111583, 0.34681659229915696, -0.6206391541625019, 0.12742134556200654, 1.3243431685994702, -0.8269302595340654, 0.37966686811781725, -0.10344807908893425, -2.0544188879512295, -0.7464815409567633, -0.7767402402381235, -0.6637804281354422, 1.2517385487669808, 0.694873957911729, -0.06616754426101021, 0.0826020637563963, -0.8335126220950743, 1.5472354491421703, -1.1883781356830807, 0.6959161155628883, 1.6809774728363294, -0.23254175749586706, -1.9896207513535749, -0.23331842485528928, 2.178970408821887, 1.4573427100091558, -0.908432032880107, -0.44244867207382027, -0.4769298465440546, 1.3442857447410939, 0.8937306771278547, 1.2884460982984527, 0.25783105542154644, -0.5664819169183514, -0.18098321446330418, 0.331616555740629, -0.8005687231433739, 1.0988721156679697, 0.23696136067638396, 0.46500651711300106, -0.7528153647155813, 1.3412978052129945, -1.0199703145796095, 0.6413002728832091, -0.3193840554624845, -0.11664683969933677, 0.9687749026453907, 1.3239859553061233, -0.1362061691984603, 1.2241312871811287, 0.21623446478982422, -0.21314367553319472, 0.720151826365811, 1.462740448667771, -0.3436916812967713, 0.4324993105508277, -1.5619649073250985, -2.112441929480903, 0.06564522053701284, -0.28106050711775143, -0.07673876751490212, 0.9800922196622552, 0.03668337598725406, 0.22327999074166194, 0.37285586455157954]}, {\"connectgaps\": false, \"fill\": \"tozeroy\", \"line\": {\"color\": \"green\", \"dash\": \"solid\", \"shape\": \"linear\", \"width\": 0.5}, \"mode\": \"lines\", \"name\": \"Spread\", \"showlegend\": false, \"type\": \"scatter\", \"x\": [0, 1, 2, 3, 4, 5, 6, 7, 8, 9, 10, 11, 12, 13, 14, 15, 16, 17, 18, 19, 20, 21, 22, 23, 24, 25, 26, 27, 28, 29, 30, 31, 32, 33, 34, 35, 36, 37, 38, 39, 40, 41, 42, 43, 44, 45, 46, 47, 48, 49, 50, 51, 52, 53, 54, 55, 56, 57, 58, 59, 60, 61, 62, 63, 64, 65, 66, 67, 68, 69, 70, 71, 72, 73, 74, 75, 76, 77, 78, 79, 80, 81, 82, 83, 84, 85, 86, 87, 88, 89, 90, 91, 92, 93, 94, 95, 96, 97, 98, 99], \"xaxis\": \"x2\", \"y\": [0.7757092668083408, \"\", 1.6836575460125607, 0.5638987236043962, 0.3098101026468398, 0.886221111250189, 0.2971920935494293, 0.04635966183535453, \"\", 0.05933466925830209, \"\", \"\", 1.5006120136467236, \"\", \"\", \"\", 2.1221640924723917, \"\", 0.10405109321903261, 2.7415392283138176, \"\", \"\", 1.8680649642692597, \"\", \"\", 2.9035520104726755, 1.6354349514858044, \"\", 2.8337140803891048, \"\", 0.5701271550760374, 0.4133671315444417, 0.5409211347955156, \"\", \"\", \"\", \"\", 1.1455587043492121, 0.4379024138114487, \"\", \"\", \"\", 0.47821434235754134, 1.9887715183565775, 1.027005879781448, 1.4957543366393593, \"\", \"\", \"\", 0.30252901025225204, 0.3091632987502568, 1.8346103479891234, \"\", 0.8515568102249259, \"\", \"\", 0.8949590946592144, 0.26775695848282033, \"\", \"\", \"\", 0.7394601685593433, 0.8515073276276149, \"\", \"\", \"\", \"\", \"\", 0.5861269014988839, \"\", \"\", \"\", \"\", \"\", \"\", \"\", \"\", 1.7149323865008497, 1.0780504514127707, 0.46983759564035044, \"\", \"\", \"\", \"\", 0.2999131179985235, \"\", 1.7724905513181815, \"\", \"\", 0.5749877309504833, \"\", 1.7163997285088866, 0.6826991436842278, \"\", \"\", \"\", \"\", \"\", 0.34041847922474033, \"\"], \"yaxis\": \"y2\"}, {\"connectgaps\": false, \"fill\": \"tozeroy\", \"line\": {\"color\": \"red\", \"dash\": \"solid\", \"shape\": \"linear\", \"width\": 0.5}, \"mode\": \"lines\", \"name\": \"Spread\", \"showlegend\": false, \"type\": \"scatter\", \"x\": [0, 1, 2, 3, 4, 5, 6, 7, 8, 9, 10, 11, 12, 13, 14, 15, 16, 17, 18, 19, 20, 21, 22, 23, 24, 25, 26, 27, 28, 29, 30, 31, 32, 33, 34, 35, 36, 37, 38, 39, 40, 41, 42, 43, 44, 45, 46, 47, 48, 49, 50, 51, 52, 53, 54, 55, 56, 57, 58, 59, 60, 61, 62, 63, 64, 65, 66, 67, 68, 69, 70, 71, 72, 73, 74, 75, 76, 77, 78, 79, 80, 81, 82, 83, 84, 85, 86, 87, 88, 89, 90, 91, 92, 93, 94, 95, 96, 97, 98, 99], \"xaxis\": \"x2\", \"y\": [\"\", -1.3449252704281667, \"\", \"\", \"\", \"\", \"\", \"\", -2.6826404338699197, \"\", -1.6522521399877497, -0.29905404363675364, \"\", -0.7199169785596085, -0.698515565280678, -1.099625874827381, \"\", -0.6901824616389323, \"\", \"\", -0.4550413434359701, -0.7404905151936205, \"\", -0.6664066356276049, -0.8102256141662726, \"\", \"\", -1.5681653727520648, \"\", -2.060738224879191, \"\", \"\", \"\", -0.583968652960583, -0.023828609781679, -0.04120335906293038, -0.7564331720415438, \"\", \"\", -0.2516673445689972, -0.9717666064327254, -0.2852175457876155, \"\", \"\", \"\", \"\", -0.9192588489559943, -0.9872455937760153, -1.695567907260707, \"\", \"\", \"\", -1.4458022890873385, \"\", -0.9930748627342533, -1.7072057174600237, \"\", \"\", -0.35899798765088875, -2.528671089814043, -1.582899364129296, \"\", \"\", -0.1862750210950736, -0.2626326000514496, -0.9743415327761717, -1.9783188237734195, -0.313653931569981, \"\", -0.0649495568017365, -0.06689673711522426, -1.8979912728694908, -1.3845781509337316, -0.9428950415604093, -0.28649306833384314, -0.43439583712072016, -0.9848973779946324, \"\", \"\", \"\", -0.06814807560635171, -2.2085395178237617, -1.2295384904789188, -0.3163278605476352, \"\", -0.9329301937042745, \"\", -2.601309493263779, -2.958011040047362, \"\", -0.4412590464457278, \"\", \"\", -0.1333051031947507, -0.7157274234728576, -0.3378551659222275, -1.4164217743144243, -0.7553824337710128, \"\", -0.1544270503457161], \"yaxis\": \"y2\"}],\n",
       "                        {\"hovermode\": \"x\", \"legend\": {\"bgcolor\": \"#F5F6F9\", \"font\": {\"color\": \"#4D5663\"}}, \"paper_bgcolor\": \"#F5F6F9\", \"plot_bgcolor\": \"#F5F6F9\", \"template\": {\"data\": {\"bar\": [{\"error_x\": {\"color\": \"#2a3f5f\"}, \"error_y\": {\"color\": \"#2a3f5f\"}, \"marker\": {\"line\": {\"color\": \"#E5ECF6\", \"width\": 0.5}}, \"type\": \"bar\"}], \"barpolar\": [{\"marker\": {\"line\": {\"color\": \"#E5ECF6\", \"width\": 0.5}}, \"type\": \"barpolar\"}], \"carpet\": [{\"aaxis\": {\"endlinecolor\": \"#2a3f5f\", \"gridcolor\": \"white\", \"linecolor\": \"white\", \"minorgridcolor\": \"white\", \"startlinecolor\": \"#2a3f5f\"}, \"baxis\": {\"endlinecolor\": \"#2a3f5f\", \"gridcolor\": \"white\", \"linecolor\": \"white\", \"minorgridcolor\": \"white\", \"startlinecolor\": \"#2a3f5f\"}, \"type\": \"carpet\"}], \"choropleth\": [{\"colorbar\": {\"outlinewidth\": 0, \"ticks\": \"\"}, \"type\": \"choropleth\"}], \"contour\": [{\"colorbar\": {\"outlinewidth\": 0, \"ticks\": \"\"}, \"colorscale\": [[0.0, \"#0d0887\"], [0.1111111111111111, \"#46039f\"], [0.2222222222222222, \"#7201a8\"], [0.3333333333333333, \"#9c179e\"], [0.4444444444444444, \"#bd3786\"], [0.5555555555555556, \"#d8576b\"], [0.6666666666666666, \"#ed7953\"], [0.7777777777777778, \"#fb9f3a\"], [0.8888888888888888, \"#fdca26\"], [1.0, \"#f0f921\"]], \"type\": \"contour\"}], \"contourcarpet\": [{\"colorbar\": {\"outlinewidth\": 0, \"ticks\": \"\"}, \"type\": \"contourcarpet\"}], \"heatmap\": [{\"colorbar\": {\"outlinewidth\": 0, \"ticks\": \"\"}, \"colorscale\": [[0.0, \"#0d0887\"], [0.1111111111111111, \"#46039f\"], [0.2222222222222222, \"#7201a8\"], [0.3333333333333333, \"#9c179e\"], [0.4444444444444444, \"#bd3786\"], [0.5555555555555556, \"#d8576b\"], [0.6666666666666666, \"#ed7953\"], [0.7777777777777778, \"#fb9f3a\"], [0.8888888888888888, \"#fdca26\"], [1.0, \"#f0f921\"]], \"type\": \"heatmap\"}], \"heatmapgl\": [{\"colorbar\": {\"outlinewidth\": 0, \"ticks\": \"\"}, \"colorscale\": [[0.0, \"#0d0887\"], [0.1111111111111111, \"#46039f\"], [0.2222222222222222, \"#7201a8\"], [0.3333333333333333, \"#9c179e\"], [0.4444444444444444, \"#bd3786\"], [0.5555555555555556, \"#d8576b\"], [0.6666666666666666, \"#ed7953\"], [0.7777777777777778, \"#fb9f3a\"], [0.8888888888888888, \"#fdca26\"], [1.0, \"#f0f921\"]], \"type\": \"heatmapgl\"}], \"histogram\": [{\"marker\": {\"colorbar\": {\"outlinewidth\": 0, \"ticks\": \"\"}}, \"type\": \"histogram\"}], \"histogram2d\": [{\"colorbar\": {\"outlinewidth\": 0, \"ticks\": \"\"}, \"colorscale\": [[0.0, \"#0d0887\"], [0.1111111111111111, \"#46039f\"], [0.2222222222222222, \"#7201a8\"], [0.3333333333333333, \"#9c179e\"], [0.4444444444444444, \"#bd3786\"], [0.5555555555555556, \"#d8576b\"], [0.6666666666666666, \"#ed7953\"], [0.7777777777777778, \"#fb9f3a\"], [0.8888888888888888, \"#fdca26\"], [1.0, \"#f0f921\"]], \"type\": \"histogram2d\"}], \"histogram2dcontour\": [{\"colorbar\": {\"outlinewidth\": 0, \"ticks\": \"\"}, \"colorscale\": [[0.0, \"#0d0887\"], [0.1111111111111111, \"#46039f\"], [0.2222222222222222, \"#7201a8\"], [0.3333333333333333, \"#9c179e\"], [0.4444444444444444, \"#bd3786\"], [0.5555555555555556, \"#d8576b\"], [0.6666666666666666, \"#ed7953\"], [0.7777777777777778, \"#fb9f3a\"], [0.8888888888888888, \"#fdca26\"], [1.0, \"#f0f921\"]], \"type\": \"histogram2dcontour\"}], \"mesh3d\": [{\"colorbar\": {\"outlinewidth\": 0, \"ticks\": \"\"}, \"type\": \"mesh3d\"}], \"parcoords\": [{\"line\": {\"colorbar\": {\"outlinewidth\": 0, \"ticks\": \"\"}}, \"type\": \"parcoords\"}], \"scatter\": [{\"marker\": {\"colorbar\": {\"outlinewidth\": 0, \"ticks\": \"\"}}, \"type\": \"scatter\"}], \"scatter3d\": [{\"line\": {\"colorbar\": {\"outlinewidth\": 0, \"ticks\": \"\"}}, \"marker\": {\"colorbar\": {\"outlinewidth\": 0, \"ticks\": \"\"}}, \"type\": \"scatter3d\"}], \"scattercarpet\": [{\"marker\": {\"colorbar\": {\"outlinewidth\": 0, \"ticks\": \"\"}}, \"type\": \"scattercarpet\"}], \"scattergeo\": [{\"marker\": {\"colorbar\": {\"outlinewidth\": 0, \"ticks\": \"\"}}, \"type\": \"scattergeo\"}], \"scattergl\": [{\"marker\": {\"colorbar\": {\"outlinewidth\": 0, \"ticks\": \"\"}}, \"type\": \"scattergl\"}], \"scattermapbox\": [{\"marker\": {\"colorbar\": {\"outlinewidth\": 0, \"ticks\": \"\"}}, \"type\": \"scattermapbox\"}], \"scatterpolar\": [{\"marker\": {\"colorbar\": {\"outlinewidth\": 0, \"ticks\": \"\"}}, \"type\": \"scatterpolar\"}], \"scatterpolargl\": [{\"marker\": {\"colorbar\": {\"outlinewidth\": 0, \"ticks\": \"\"}}, \"type\": \"scatterpolargl\"}], \"scatterternary\": [{\"marker\": {\"colorbar\": {\"outlinewidth\": 0, \"ticks\": \"\"}}, \"type\": \"scatterternary\"}], \"surface\": [{\"colorbar\": {\"outlinewidth\": 0, \"ticks\": \"\"}, \"colorscale\": [[0.0, \"#0d0887\"], [0.1111111111111111, \"#46039f\"], [0.2222222222222222, \"#7201a8\"], [0.3333333333333333, \"#9c179e\"], [0.4444444444444444, \"#bd3786\"], [0.5555555555555556, \"#d8576b\"], [0.6666666666666666, \"#ed7953\"], [0.7777777777777778, \"#fb9f3a\"], [0.8888888888888888, \"#fdca26\"], [1.0, \"#f0f921\"]], \"type\": \"surface\"}], \"table\": [{\"cells\": {\"fill\": {\"color\": \"#EBF0F8\"}, \"line\": {\"color\": \"white\"}}, \"header\": {\"fill\": {\"color\": \"#C8D4E3\"}, \"line\": {\"color\": \"white\"}}, \"type\": \"table\"}]}, \"layout\": {\"annotationdefaults\": {\"arrowcolor\": \"#2a3f5f\", \"arrowhead\": 0, \"arrowwidth\": 1}, \"colorscale\": {\"diverging\": [[0, \"#8e0152\"], [0.1, \"#c51b7d\"], [0.2, \"#de77ae\"], [0.3, \"#f1b6da\"], [0.4, \"#fde0ef\"], [0.5, \"#f7f7f7\"], [0.6, \"#e6f5d0\"], [0.7, \"#b8e186\"], [0.8, \"#7fbc41\"], [0.9, \"#4d9221\"], [1, \"#276419\"]], \"sequential\": [[0.0, \"#0d0887\"], [0.1111111111111111, \"#46039f\"], [0.2222222222222222, \"#7201a8\"], [0.3333333333333333, \"#9c179e\"], [0.4444444444444444, \"#bd3786\"], [0.5555555555555556, \"#d8576b\"], [0.6666666666666666, \"#ed7953\"], [0.7777777777777778, \"#fb9f3a\"], [0.8888888888888888, \"#fdca26\"], [1.0, \"#f0f921\"]], \"sequentialminus\": [[0.0, \"#0d0887\"], [0.1111111111111111, \"#46039f\"], [0.2222222222222222, \"#7201a8\"], [0.3333333333333333, \"#9c179e\"], [0.4444444444444444, \"#bd3786\"], [0.5555555555555556, \"#d8576b\"], [0.6666666666666666, \"#ed7953\"], [0.7777777777777778, \"#fb9f3a\"], [0.8888888888888888, \"#fdca26\"], [1.0, \"#f0f921\"]]}, \"colorway\": [\"#636efa\", \"#EF553B\", \"#00cc96\", \"#ab63fa\", \"#FFA15A\", \"#19d3f3\", \"#FF6692\", \"#B6E880\", \"#FF97FF\", \"#FECB52\"], \"font\": {\"color\": \"#2a3f5f\"}, \"geo\": {\"bgcolor\": \"white\", \"lakecolor\": \"white\", \"landcolor\": \"#E5ECF6\", \"showlakes\": true, \"showland\": true, \"subunitcolor\": \"white\"}, \"hoverlabel\": {\"align\": \"left\"}, \"hovermode\": \"closest\", \"mapbox\": {\"style\": \"light\"}, \"paper_bgcolor\": \"white\", \"plot_bgcolor\": \"#E5ECF6\", \"polar\": {\"angularaxis\": {\"gridcolor\": \"white\", \"linecolor\": \"white\", \"ticks\": \"\"}, \"bgcolor\": \"#E5ECF6\", \"radialaxis\": {\"gridcolor\": \"white\", \"linecolor\": \"white\", \"ticks\": \"\"}}, \"scene\": {\"xaxis\": {\"backgroundcolor\": \"#E5ECF6\", \"gridcolor\": \"white\", \"gridwidth\": 2, \"linecolor\": \"white\", \"showbackground\": true, \"ticks\": \"\", \"zerolinecolor\": \"white\"}, \"yaxis\": {\"backgroundcolor\": \"#E5ECF6\", \"gridcolor\": \"white\", \"gridwidth\": 2, \"linecolor\": \"white\", \"showbackground\": true, \"ticks\": \"\", \"zerolinecolor\": \"white\"}, \"zaxis\": {\"backgroundcolor\": \"#E5ECF6\", \"gridcolor\": \"white\", \"gridwidth\": 2, \"linecolor\": \"white\", \"showbackground\": true, \"ticks\": \"\", \"zerolinecolor\": \"white\"}}, \"shapedefaults\": {\"line\": {\"color\": \"#2a3f5f\"}}, \"ternary\": {\"aaxis\": {\"gridcolor\": \"white\", \"linecolor\": \"white\", \"ticks\": \"\"}, \"baxis\": {\"gridcolor\": \"white\", \"linecolor\": \"white\", \"ticks\": \"\"}, \"bgcolor\": \"#E5ECF6\", \"caxis\": {\"gridcolor\": \"white\", \"linecolor\": \"white\", \"ticks\": \"\"}}, \"title\": {\"x\": 0.05}, \"xaxis\": {\"automargin\": true, \"gridcolor\": \"white\", \"linecolor\": \"white\", \"ticks\": \"\", \"zerolinecolor\": \"white\", \"zerolinewidth\": 2}, \"yaxis\": {\"automargin\": true, \"gridcolor\": \"white\", \"linecolor\": \"white\", \"ticks\": \"\", \"zerolinecolor\": \"white\", \"zerolinewidth\": 2}}}, \"title\": {\"font\": {\"color\": \"#4D5663\"}}, \"xaxis\": {\"gridcolor\": \"#E1E5ED\", \"showgrid\": true, \"tickfont\": {\"color\": \"#4D5663\"}, \"title\": {\"font\": {\"color\": \"#4D5663\"}, \"text\": \"\"}, \"zerolinecolor\": \"#E1E5ED\"}, \"xaxis2\": {\"anchor\": \"y2\", \"gridcolor\": \"#E1E5ED\", \"showgrid\": true, \"showticklabels\": false, \"tickfont\": {\"color\": \"#4D5663\"}, \"title\": {\"font\": {\"color\": \"#4D5663\"}, \"text\": \"\"}, \"zerolinecolor\": \"#E1E5ED\"}, \"yaxis\": {\"domain\": [0.3, 1], \"gridcolor\": \"#E1E5ED\", \"showgrid\": true, \"tickfont\": {\"color\": \"#4D5663\"}, \"title\": {\"font\": {\"color\": \"#4D5663\"}, \"text\": \"\"}, \"zerolinecolor\": \"#E1E5ED\"}, \"yaxis2\": {\"domain\": [0, 0.25], \"gridcolor\": \"#E1E5ED\", \"showgrid\": true, \"tickfont\": {\"color\": \"#4D5663\"}, \"title\": {\"font\": {\"color\": \"#4D5663\"}, \"text\": \"Spread\"}, \"zerolinecolor\": \"#E1E5ED\"}},\n",
       "                        {\"showLink\": true, \"linkText\": \"Export to plot.ly\", \"plotlyServerURL\": \"https://plot.ly\", \"responsive\": true}\n",
       "                    ).then(function(){\n",
       "                            \n",
       "var gd = document.getElementById('ff6155a2-d0fd-4752-9803-bece0e587c1b');\n",
       "var x = new MutationObserver(function (mutations, observer) {{\n",
       "        var display = window.getComputedStyle(gd).display;\n",
       "        if (!display || display === 'none') {{\n",
       "            console.log([gd, 'removed!']);\n",
       "            Plotly.purge(gd);\n",
       "            observer.disconnect();\n",
       "        }}\n",
       "}});\n",
       "\n",
       "// Listen for the removal of the full notebook cells\n",
       "var notebookContainer = gd.closest('#notebook-container');\n",
       "if (notebookContainer) {{\n",
       "    x.observe(notebookContainer, {childList: true});\n",
       "}}\n",
       "\n",
       "// Listen for the clearing of the current output cell\n",
       "var outputEl = gd.closest('.output');\n",
       "if (outputEl) {{\n",
       "    x.observe(outputEl, {childList: true});\n",
       "}}\n",
       "\n",
       "                        })\n",
       "                };\n",
       "                });\n",
       "            </script>\n",
       "        </div>"
      ]
     },
     "metadata": {},
     "output_type": "display_data"
    }
   ],
   "source": [
    " ## Ex.7 Spread \n",
    "\n",
    "df[['A','B']].iplot(kind = 'spread') ##Useful to see the spread when analyzing stock data"
   ]
  },
  {
   "cell_type": "code",
   "execution_count": 24,
   "metadata": {},
   "outputs": [
    {
     "data": {
      "application/vnd.plotly.v1+json": {
       "config": {
        "linkText": "Export to plot.ly",
        "plotlyServerURL": "https://plot.ly",
        "showLink": true
       },
       "data": [
        {
         "marker": {
          "color": [
           "rgb(255, 153, 51)",
           "rgb(55, 128, 191)",
           "rgb(50, 171, 96)",
           "rgb(128, 0, 128)",
           "rgb(219, 64, 82)",
           "rgb(0, 128, 128)",
           "rgb(255, 255, 51)",
           "rgb(128, 128, 0)",
           "rgb(251, 128, 114)",
           "rgb(128, 177, 211)"
          ],
          "line": {
           "width": 1.3
          },
          "size": [
           55,
           82,
           79,
           77,
           101,
           88,
           51,
           86,
           70,
           43,
           88,
           12,
           78,
           74,
           76,
           65,
           60,
           69,
           64,
           82,
           65,
           71,
           78,
           82,
           57,
           58,
           93,
           67,
           63,
           53,
           43,
           94,
           64,
           61,
           64,
           72,
           51,
           99,
           58,
           97,
           66,
           82,
           94,
           89,
           72,
           60,
           89,
           51,
           80,
           100,
           55,
           61,
           67,
           72,
           50,
           81,
           46,
           90,
           90,
           71,
           76,
           80,
           61,
           73,
           98,
           67,
           68,
           67,
           112,
           62,
           75,
           60,
           64,
           57,
           63,
           23,
           38,
           66,
           32,
           59,
           46,
           76,
           88,
           65,
           94,
           78,
           75,
           66,
           100,
           90,
           43,
           69,
           57,
           56,
           59,
           59,
           48,
           75,
           61,
           90
          ],
          "symbol": "circle"
         },
         "mode": "markers",
         "text": "",
         "type": "scatter",
         "x": [
          -0.06542778015912247,
          -0.4983315985004792,
          -0.3932665761127589,
          -0.10616396259826238,
          -0.26207506689955234,
          0.7886670736320832,
          -0.14377426502187782,
          -0.15273724910094455,
          -1.1338234021817963,
          0.0009770267116028946,
          -0.7324620416267447,
          0.06043111318599064,
          0.623615648635299,
          -0.9898932119379665,
          -0.45086070577257026,
          -0.830303964658216,
          1.5716630654715504,
          -1.0974693696329356,
          0.4558388327103945,
          1.2170495932316205,
          -0.32981680298429955,
          0.2582423394595888,
          0.4888856866509463,
          -0.6121681967574407,
          -0.5414245020009553,
          2.713140457391276,
          1.7423907028996293,
          0.14142226924657475,
          1.6632119799987835,
          -1.1316432740780005,
          0.3761480797940717,
          -0.5145111245715915,
          0.15963736908855272,
          0.8356735998848508,
          -0.3565600825442002,
          1.157899333248228,
          -0.4096165797423869,
          0.5249195501867103,
          0.5653237593734552,
          1.072675824030473,
          -1.7986968659667908,
          0.09444932233020178,
          0.37476626326860707,
          -0.06564736959465206,
          0.28052433882468464,
          0.7190140964012359,
          -1.5830392770914365,
          0.2644929549909655,
          -1.0006939493489782,
          0.23636146599124183,
          0.39176536250665306,
          1.0010977258940492,
          0.10143316005483165,
          -0.3368213254581548,
          -0.2971587471713649,
          -0.026228244623694424,
          0.6624173371633474,
          -1.7218637928707545,
          -0.5923164125061781,
          -0.34970068099215595,
          -0.12555665412014028,
          -0.16897186432076375,
          0.40905865555379467,
          -0.6632048676391282,
          1.0816531446896442,
          -0.08061085564831709,
          -0.6898727254749667,
          -0.05582287614843459,
          0.019644984580532536,
          -0.24593277126504068,
          0.2647198186254047,
          -2.6985599960128646,
          -0.2857060352657619,
          -0.7059336808840253,
          0.17851344877915792,
          -1.1872112018363015,
          0.356400427218362,
          0.6949620719212402,
          1.7193507242959798,
          0.15045354017786597,
          -0.18479491530568848,
          -1.239764615178371,
          0.09444746482720447,
          -0.45253402974609547,
          1.5240444051796522,
          -0.7166957289144503,
          1.5593468757849867,
          -1.8811576668979677,
          -1.4952705913795905,
          0.23129604965371198,
          -0.008759735894900082,
          0.15443482118378815,
          -1.4297427857966751,
          -0.06765988265773787,
          -0.996787930590609,
          -0.4145939334371296,
          -0.43632955465216916,
          -0.7186990577837588,
          0.5636984699664023,
          0.21842881420586344
         ],
         "y": [
          -0.8411370469674633,
          0.8465936719276874,
          -2.0769241221253196,
          -0.6700626862026585,
          -0.5718851695463921,
          -0.09755403761810581,
          -0.44096635857130717,
          -0.19909691093629908,
          1.5488170316881231,
          -0.058357642546699194,
          0.919790098361005,
          0.3594851568227443,
          -0.8769963650114245,
          -0.269976233378358,
          0.24765485950810773,
          0.269321910169165,
          -0.5505010270008414,
          -0.4072869079940033,
          0.3517877394913619,
          -1.524489635082197,
          0.12522454045167053,
          0.9987328546532094,
          -1.3791792776183134,
          0.05423843887016417,
          0.2688011121653173,
          -0.19041155308139934,
          0.10695575141382495,
          1.7095876419986396,
          -1.170502100390321,
          0.9290949508011905,
          -0.1939790752819657,
          -0.9278782561160333,
          -0.38128376570696293,
          1.4196422528454338,
          -0.3327314727625212,
          1.1991026923111583,
          0.34681659229915696,
          -0.6206391541625019,
          0.12742134556200654,
          1.3243431685994702,
          -0.8269302595340654,
          0.37966686811781725,
          -0.10344807908893425,
          -2.0544188879512295,
          -0.7464815409567633,
          -0.7767402402381235,
          -0.6637804281354422,
          1.2517385487669808,
          0.694873957911729,
          -0.06616754426101021,
          0.0826020637563963,
          -0.8335126220950743,
          1.5472354491421703,
          -1.1883781356830807,
          0.6959161155628883,
          1.6809774728363294,
          -0.23254175749586706,
          -1.9896207513535749,
          -0.23331842485528928,
          2.178970408821887,
          1.4573427100091558,
          -0.908432032880107,
          -0.44244867207382027,
          -0.4769298465440546,
          1.3442857447410939,
          0.8937306771278547,
          1.2884460982984527,
          0.25783105542154644,
          -0.5664819169183514,
          -0.18098321446330418,
          0.331616555740629,
          -0.8005687231433739,
          1.0988721156679697,
          0.23696136067638396,
          0.46500651711300106,
          -0.7528153647155813,
          1.3412978052129945,
          -1.0199703145796095,
          0.6413002728832091,
          -0.3193840554624845,
          -0.11664683969933677,
          0.9687749026453907,
          1.3239859553061233,
          -0.1362061691984603,
          1.2241312871811287,
          0.21623446478982422,
          -0.21314367553319472,
          0.720151826365811,
          1.462740448667771,
          -0.3436916812967713,
          0.4324993105508277,
          -1.5619649073250985,
          -2.112441929480903,
          0.06564522053701284,
          -0.28106050711775143,
          -0.07673876751490212,
          0.9800922196622552,
          0.03668337598725406,
          0.22327999074166194,
          0.37285586455157954
         ]
        }
       ],
       "layout": {
        "legend": {
         "bgcolor": "#F5F6F9",
         "font": {
          "color": "#4D5663"
         }
        },
        "paper_bgcolor": "#F5F6F9",
        "plot_bgcolor": "#F5F6F9",
        "template": {
         "data": {
          "bar": [
           {
            "error_x": {
             "color": "#2a3f5f"
            },
            "error_y": {
             "color": "#2a3f5f"
            },
            "marker": {
             "line": {
              "color": "#E5ECF6",
              "width": 0.5
             }
            },
            "type": "bar"
           }
          ],
          "barpolar": [
           {
            "marker": {
             "line": {
              "color": "#E5ECF6",
              "width": 0.5
             }
            },
            "type": "barpolar"
           }
          ],
          "carpet": [
           {
            "aaxis": {
             "endlinecolor": "#2a3f5f",
             "gridcolor": "white",
             "linecolor": "white",
             "minorgridcolor": "white",
             "startlinecolor": "#2a3f5f"
            },
            "baxis": {
             "endlinecolor": "#2a3f5f",
             "gridcolor": "white",
             "linecolor": "white",
             "minorgridcolor": "white",
             "startlinecolor": "#2a3f5f"
            },
            "type": "carpet"
           }
          ],
          "choropleth": [
           {
            "colorbar": {
             "outlinewidth": 0,
             "ticks": ""
            },
            "type": "choropleth"
           }
          ],
          "contour": [
           {
            "colorbar": {
             "outlinewidth": 0,
             "ticks": ""
            },
            "colorscale": [
             [
              0,
              "#0d0887"
             ],
             [
              0.1111111111111111,
              "#46039f"
             ],
             [
              0.2222222222222222,
              "#7201a8"
             ],
             [
              0.3333333333333333,
              "#9c179e"
             ],
             [
              0.4444444444444444,
              "#bd3786"
             ],
             [
              0.5555555555555556,
              "#d8576b"
             ],
             [
              0.6666666666666666,
              "#ed7953"
             ],
             [
              0.7777777777777778,
              "#fb9f3a"
             ],
             [
              0.8888888888888888,
              "#fdca26"
             ],
             [
              1,
              "#f0f921"
             ]
            ],
            "type": "contour"
           }
          ],
          "contourcarpet": [
           {
            "colorbar": {
             "outlinewidth": 0,
             "ticks": ""
            },
            "type": "contourcarpet"
           }
          ],
          "heatmap": [
           {
            "colorbar": {
             "outlinewidth": 0,
             "ticks": ""
            },
            "colorscale": [
             [
              0,
              "#0d0887"
             ],
             [
              0.1111111111111111,
              "#46039f"
             ],
             [
              0.2222222222222222,
              "#7201a8"
             ],
             [
              0.3333333333333333,
              "#9c179e"
             ],
             [
              0.4444444444444444,
              "#bd3786"
             ],
             [
              0.5555555555555556,
              "#d8576b"
             ],
             [
              0.6666666666666666,
              "#ed7953"
             ],
             [
              0.7777777777777778,
              "#fb9f3a"
             ],
             [
              0.8888888888888888,
              "#fdca26"
             ],
             [
              1,
              "#f0f921"
             ]
            ],
            "type": "heatmap"
           }
          ],
          "heatmapgl": [
           {
            "colorbar": {
             "outlinewidth": 0,
             "ticks": ""
            },
            "colorscale": [
             [
              0,
              "#0d0887"
             ],
             [
              0.1111111111111111,
              "#46039f"
             ],
             [
              0.2222222222222222,
              "#7201a8"
             ],
             [
              0.3333333333333333,
              "#9c179e"
             ],
             [
              0.4444444444444444,
              "#bd3786"
             ],
             [
              0.5555555555555556,
              "#d8576b"
             ],
             [
              0.6666666666666666,
              "#ed7953"
             ],
             [
              0.7777777777777778,
              "#fb9f3a"
             ],
             [
              0.8888888888888888,
              "#fdca26"
             ],
             [
              1,
              "#f0f921"
             ]
            ],
            "type": "heatmapgl"
           }
          ],
          "histogram": [
           {
            "marker": {
             "colorbar": {
              "outlinewidth": 0,
              "ticks": ""
             }
            },
            "type": "histogram"
           }
          ],
          "histogram2d": [
           {
            "colorbar": {
             "outlinewidth": 0,
             "ticks": ""
            },
            "colorscale": [
             [
              0,
              "#0d0887"
             ],
             [
              0.1111111111111111,
              "#46039f"
             ],
             [
              0.2222222222222222,
              "#7201a8"
             ],
             [
              0.3333333333333333,
              "#9c179e"
             ],
             [
              0.4444444444444444,
              "#bd3786"
             ],
             [
              0.5555555555555556,
              "#d8576b"
             ],
             [
              0.6666666666666666,
              "#ed7953"
             ],
             [
              0.7777777777777778,
              "#fb9f3a"
             ],
             [
              0.8888888888888888,
              "#fdca26"
             ],
             [
              1,
              "#f0f921"
             ]
            ],
            "type": "histogram2d"
           }
          ],
          "histogram2dcontour": [
           {
            "colorbar": {
             "outlinewidth": 0,
             "ticks": ""
            },
            "colorscale": [
             [
              0,
              "#0d0887"
             ],
             [
              0.1111111111111111,
              "#46039f"
             ],
             [
              0.2222222222222222,
              "#7201a8"
             ],
             [
              0.3333333333333333,
              "#9c179e"
             ],
             [
              0.4444444444444444,
              "#bd3786"
             ],
             [
              0.5555555555555556,
              "#d8576b"
             ],
             [
              0.6666666666666666,
              "#ed7953"
             ],
             [
              0.7777777777777778,
              "#fb9f3a"
             ],
             [
              0.8888888888888888,
              "#fdca26"
             ],
             [
              1,
              "#f0f921"
             ]
            ],
            "type": "histogram2dcontour"
           }
          ],
          "mesh3d": [
           {
            "colorbar": {
             "outlinewidth": 0,
             "ticks": ""
            },
            "type": "mesh3d"
           }
          ],
          "parcoords": [
           {
            "line": {
             "colorbar": {
              "outlinewidth": 0,
              "ticks": ""
             }
            },
            "type": "parcoords"
           }
          ],
          "scatter": [
           {
            "marker": {
             "colorbar": {
              "outlinewidth": 0,
              "ticks": ""
             }
            },
            "type": "scatter"
           }
          ],
          "scatter3d": [
           {
            "line": {
             "colorbar": {
              "outlinewidth": 0,
              "ticks": ""
             }
            },
            "marker": {
             "colorbar": {
              "outlinewidth": 0,
              "ticks": ""
             }
            },
            "type": "scatter3d"
           }
          ],
          "scattercarpet": [
           {
            "marker": {
             "colorbar": {
              "outlinewidth": 0,
              "ticks": ""
             }
            },
            "type": "scattercarpet"
           }
          ],
          "scattergeo": [
           {
            "marker": {
             "colorbar": {
              "outlinewidth": 0,
              "ticks": ""
             }
            },
            "type": "scattergeo"
           }
          ],
          "scattergl": [
           {
            "marker": {
             "colorbar": {
              "outlinewidth": 0,
              "ticks": ""
             }
            },
            "type": "scattergl"
           }
          ],
          "scattermapbox": [
           {
            "marker": {
             "colorbar": {
              "outlinewidth": 0,
              "ticks": ""
             }
            },
            "type": "scattermapbox"
           }
          ],
          "scatterpolar": [
           {
            "marker": {
             "colorbar": {
              "outlinewidth": 0,
              "ticks": ""
             }
            },
            "type": "scatterpolar"
           }
          ],
          "scatterpolargl": [
           {
            "marker": {
             "colorbar": {
              "outlinewidth": 0,
              "ticks": ""
             }
            },
            "type": "scatterpolargl"
           }
          ],
          "scatterternary": [
           {
            "marker": {
             "colorbar": {
              "outlinewidth": 0,
              "ticks": ""
             }
            },
            "type": "scatterternary"
           }
          ],
          "surface": [
           {
            "colorbar": {
             "outlinewidth": 0,
             "ticks": ""
            },
            "colorscale": [
             [
              0,
              "#0d0887"
             ],
             [
              0.1111111111111111,
              "#46039f"
             ],
             [
              0.2222222222222222,
              "#7201a8"
             ],
             [
              0.3333333333333333,
              "#9c179e"
             ],
             [
              0.4444444444444444,
              "#bd3786"
             ],
             [
              0.5555555555555556,
              "#d8576b"
             ],
             [
              0.6666666666666666,
              "#ed7953"
             ],
             [
              0.7777777777777778,
              "#fb9f3a"
             ],
             [
              0.8888888888888888,
              "#fdca26"
             ],
             [
              1,
              "#f0f921"
             ]
            ],
            "type": "surface"
           }
          ],
          "table": [
           {
            "cells": {
             "fill": {
              "color": "#EBF0F8"
             },
             "line": {
              "color": "white"
             }
            },
            "header": {
             "fill": {
              "color": "#C8D4E3"
             },
             "line": {
              "color": "white"
             }
            },
            "type": "table"
           }
          ]
         },
         "layout": {
          "annotationdefaults": {
           "arrowcolor": "#2a3f5f",
           "arrowhead": 0,
           "arrowwidth": 1
          },
          "colorscale": {
           "diverging": [
            [
             0,
             "#8e0152"
            ],
            [
             0.1,
             "#c51b7d"
            ],
            [
             0.2,
             "#de77ae"
            ],
            [
             0.3,
             "#f1b6da"
            ],
            [
             0.4,
             "#fde0ef"
            ],
            [
             0.5,
             "#f7f7f7"
            ],
            [
             0.6,
             "#e6f5d0"
            ],
            [
             0.7,
             "#b8e186"
            ],
            [
             0.8,
             "#7fbc41"
            ],
            [
             0.9,
             "#4d9221"
            ],
            [
             1,
             "#276419"
            ]
           ],
           "sequential": [
            [
             0,
             "#0d0887"
            ],
            [
             0.1111111111111111,
             "#46039f"
            ],
            [
             0.2222222222222222,
             "#7201a8"
            ],
            [
             0.3333333333333333,
             "#9c179e"
            ],
            [
             0.4444444444444444,
             "#bd3786"
            ],
            [
             0.5555555555555556,
             "#d8576b"
            ],
            [
             0.6666666666666666,
             "#ed7953"
            ],
            [
             0.7777777777777778,
             "#fb9f3a"
            ],
            [
             0.8888888888888888,
             "#fdca26"
            ],
            [
             1,
             "#f0f921"
            ]
           ],
           "sequentialminus": [
            [
             0,
             "#0d0887"
            ],
            [
             0.1111111111111111,
             "#46039f"
            ],
            [
             0.2222222222222222,
             "#7201a8"
            ],
            [
             0.3333333333333333,
             "#9c179e"
            ],
            [
             0.4444444444444444,
             "#bd3786"
            ],
            [
             0.5555555555555556,
             "#d8576b"
            ],
            [
             0.6666666666666666,
             "#ed7953"
            ],
            [
             0.7777777777777778,
             "#fb9f3a"
            ],
            [
             0.8888888888888888,
             "#fdca26"
            ],
            [
             1,
             "#f0f921"
            ]
           ]
          },
          "colorway": [
           "#636efa",
           "#EF553B",
           "#00cc96",
           "#ab63fa",
           "#FFA15A",
           "#19d3f3",
           "#FF6692",
           "#B6E880",
           "#FF97FF",
           "#FECB52"
          ],
          "font": {
           "color": "#2a3f5f"
          },
          "geo": {
           "bgcolor": "white",
           "lakecolor": "white",
           "landcolor": "#E5ECF6",
           "showlakes": true,
           "showland": true,
           "subunitcolor": "white"
          },
          "hoverlabel": {
           "align": "left"
          },
          "hovermode": "closest",
          "mapbox": {
           "style": "light"
          },
          "paper_bgcolor": "white",
          "plot_bgcolor": "#E5ECF6",
          "polar": {
           "angularaxis": {
            "gridcolor": "white",
            "linecolor": "white",
            "ticks": ""
           },
           "bgcolor": "#E5ECF6",
           "radialaxis": {
            "gridcolor": "white",
            "linecolor": "white",
            "ticks": ""
           }
          },
          "scene": {
           "xaxis": {
            "backgroundcolor": "#E5ECF6",
            "gridcolor": "white",
            "gridwidth": 2,
            "linecolor": "white",
            "showbackground": true,
            "ticks": "",
            "zerolinecolor": "white"
           },
           "yaxis": {
            "backgroundcolor": "#E5ECF6",
            "gridcolor": "white",
            "gridwidth": 2,
            "linecolor": "white",
            "showbackground": true,
            "ticks": "",
            "zerolinecolor": "white"
           },
           "zaxis": {
            "backgroundcolor": "#E5ECF6",
            "gridcolor": "white",
            "gridwidth": 2,
            "linecolor": "white",
            "showbackground": true,
            "ticks": "",
            "zerolinecolor": "white"
           }
          },
          "shapedefaults": {
           "line": {
            "color": "#2a3f5f"
           }
          },
          "ternary": {
           "aaxis": {
            "gridcolor": "white",
            "linecolor": "white",
            "ticks": ""
           },
           "baxis": {
            "gridcolor": "white",
            "linecolor": "white",
            "ticks": ""
           },
           "bgcolor": "#E5ECF6",
           "caxis": {
            "gridcolor": "white",
            "linecolor": "white",
            "ticks": ""
           }
          },
          "title": {
           "x": 0.05
          },
          "xaxis": {
           "automargin": true,
           "gridcolor": "white",
           "linecolor": "white",
           "ticks": "",
           "zerolinecolor": "white",
           "zerolinewidth": 2
          },
          "yaxis": {
           "automargin": true,
           "gridcolor": "white",
           "linecolor": "white",
           "ticks": "",
           "zerolinecolor": "white",
           "zerolinewidth": 2
          }
         }
        },
        "title": {
         "font": {
          "color": "#4D5663"
         }
        },
        "xaxis": {
         "gridcolor": "#E1E5ED",
         "showgrid": true,
         "tickfont": {
          "color": "#4D5663"
         },
         "title": {
          "font": {
           "color": "#4D5663"
          },
          "text": ""
         },
         "zerolinecolor": "#E1E5ED"
        },
        "yaxis": {
         "gridcolor": "#E1E5ED",
         "showgrid": true,
         "tickfont": {
          "color": "#4D5663"
         },
         "title": {
          "font": {
           "color": "#4D5663"
          },
          "text": ""
         },
         "zerolinecolor": "#E1E5ED"
        }
       }
      },
      "text/html": [
       "<div>\n",
       "        \n",
       "        \n",
       "            <div id=\"0b3c0bbc-7c89-4050-a362-68e1593aa466\" class=\"plotly-graph-div\" style=\"height:525px; width:100%;\"></div>\n",
       "            <script type=\"text/javascript\">\n",
       "                require([\"plotly\"], function(Plotly) {\n",
       "                    window.PLOTLYENV=window.PLOTLYENV || {};\n",
       "                    window.PLOTLYENV.BASE_URL='https://plot.ly';\n",
       "                    \n",
       "                if (document.getElementById(\"0b3c0bbc-7c89-4050-a362-68e1593aa466\")) {\n",
       "                    Plotly.newPlot(\n",
       "                        '0b3c0bbc-7c89-4050-a362-68e1593aa466',\n",
       "                        [{\"marker\": {\"color\": [\"rgb(255, 153, 51)\", \"rgb(55, 128, 191)\", \"rgb(50, 171, 96)\", \"rgb(128, 0, 128)\", \"rgb(219, 64, 82)\", \"rgb(0, 128, 128)\", \"rgb(255, 255, 51)\", \"rgb(128, 128, 0)\", \"rgb(251, 128, 114)\", \"rgb(128, 177, 211)\"], \"line\": {\"width\": 1.3}, \"size\": [55, 82, 79, 77, 101, 88, 51, 86, 70, 43, 88, 12, 78, 74, 76, 65, 60, 69, 64, 82, 65, 71, 78, 82, 57, 58, 93, 67, 63, 53, 43, 94, 64, 61, 64, 72, 51, 99, 58, 97, 66, 82, 94, 89, 72, 60, 89, 51, 80, 100, 55, 61, 67, 72, 50, 81, 46, 90, 90, 71, 76, 80, 61, 73, 98, 67, 68, 67, 112, 62, 75, 60, 64, 57, 63, 23, 38, 66, 32, 59, 46, 76, 88, 65, 94, 78, 75, 66, 100, 90, 43, 69, 57, 56, 59, 59, 48, 75, 61, 90], \"symbol\": \"circle\"}, \"mode\": \"markers\", \"text\": \"\", \"type\": \"scatter\", \"x\": [-0.06542778015912247, -0.4983315985004792, -0.3932665761127589, -0.10616396259826238, -0.26207506689955234, 0.7886670736320832, -0.14377426502187782, -0.15273724910094455, -1.1338234021817963, 0.0009770267116028946, -0.7324620416267447, 0.06043111318599064, 0.623615648635299, -0.9898932119379665, -0.45086070577257026, -0.830303964658216, 1.5716630654715504, -1.0974693696329356, 0.4558388327103945, 1.2170495932316205, -0.32981680298429955, 0.2582423394595888, 0.4888856866509463, -0.6121681967574407, -0.5414245020009553, 2.713140457391276, 1.7423907028996293, 0.14142226924657475, 1.6632119799987835, -1.1316432740780005, 0.3761480797940717, -0.5145111245715915, 0.15963736908855272, 0.8356735998848508, -0.3565600825442002, 1.157899333248228, -0.4096165797423869, 0.5249195501867103, 0.5653237593734552, 1.072675824030473, -1.7986968659667908, 0.09444932233020178, 0.37476626326860707, -0.06564736959465206, 0.28052433882468464, 0.7190140964012359, -1.5830392770914365, 0.2644929549909655, -1.0006939493489782, 0.23636146599124183, 0.39176536250665306, 1.0010977258940492, 0.10143316005483165, -0.3368213254581548, -0.2971587471713649, -0.026228244623694424, 0.6624173371633474, -1.7218637928707545, -0.5923164125061781, -0.34970068099215595, -0.12555665412014028, -0.16897186432076375, 0.40905865555379467, -0.6632048676391282, 1.0816531446896442, -0.08061085564831709, -0.6898727254749667, -0.05582287614843459, 0.019644984580532536, -0.24593277126504068, 0.2647198186254047, -2.6985599960128646, -0.2857060352657619, -0.7059336808840253, 0.17851344877915792, -1.1872112018363015, 0.356400427218362, 0.6949620719212402, 1.7193507242959798, 0.15045354017786597, -0.18479491530568848, -1.239764615178371, 0.09444746482720447, -0.45253402974609547, 1.5240444051796522, -0.7166957289144503, 1.5593468757849867, -1.8811576668979677, -1.4952705913795905, 0.23129604965371198, -0.008759735894900082, 0.15443482118378815, -1.4297427857966751, -0.06765988265773787, -0.996787930590609, -0.4145939334371296, -0.43632955465216916, -0.7186990577837588, 0.5636984699664023, 0.21842881420586344], \"y\": [-0.8411370469674633, 0.8465936719276874, -2.0769241221253196, -0.6700626862026585, -0.5718851695463921, -0.09755403761810581, -0.44096635857130717, -0.19909691093629908, 1.5488170316881231, -0.058357642546699194, 0.919790098361005, 0.3594851568227443, -0.8769963650114245, -0.269976233378358, 0.24765485950810773, 0.269321910169165, -0.5505010270008414, -0.4072869079940033, 0.3517877394913619, -1.524489635082197, 0.12522454045167053, 0.9987328546532094, -1.3791792776183134, 0.05423843887016417, 0.2688011121653173, -0.19041155308139934, 0.10695575141382495, 1.7095876419986396, -1.170502100390321, 0.9290949508011905, -0.1939790752819657, -0.9278782561160333, -0.38128376570696293, 1.4196422528454338, -0.3327314727625212, 1.1991026923111583, 0.34681659229915696, -0.6206391541625019, 0.12742134556200654, 1.3243431685994702, -0.8269302595340654, 0.37966686811781725, -0.10344807908893425, -2.0544188879512295, -0.7464815409567633, -0.7767402402381235, -0.6637804281354422, 1.2517385487669808, 0.694873957911729, -0.06616754426101021, 0.0826020637563963, -0.8335126220950743, 1.5472354491421703, -1.1883781356830807, 0.6959161155628883, 1.6809774728363294, -0.23254175749586706, -1.9896207513535749, -0.23331842485528928, 2.178970408821887, 1.4573427100091558, -0.908432032880107, -0.44244867207382027, -0.4769298465440546, 1.3442857447410939, 0.8937306771278547, 1.2884460982984527, 0.25783105542154644, -0.5664819169183514, -0.18098321446330418, 0.331616555740629, -0.8005687231433739, 1.0988721156679697, 0.23696136067638396, 0.46500651711300106, -0.7528153647155813, 1.3412978052129945, -1.0199703145796095, 0.6413002728832091, -0.3193840554624845, -0.11664683969933677, 0.9687749026453907, 1.3239859553061233, -0.1362061691984603, 1.2241312871811287, 0.21623446478982422, -0.21314367553319472, 0.720151826365811, 1.462740448667771, -0.3436916812967713, 0.4324993105508277, -1.5619649073250985, -2.112441929480903, 0.06564522053701284, -0.28106050711775143, -0.07673876751490212, 0.9800922196622552, 0.03668337598725406, 0.22327999074166194, 0.37285586455157954]}],\n",
       "                        {\"legend\": {\"bgcolor\": \"#F5F6F9\", \"font\": {\"color\": \"#4D5663\"}}, \"paper_bgcolor\": \"#F5F6F9\", \"plot_bgcolor\": \"#F5F6F9\", \"template\": {\"data\": {\"bar\": [{\"error_x\": {\"color\": \"#2a3f5f\"}, \"error_y\": {\"color\": \"#2a3f5f\"}, \"marker\": {\"line\": {\"color\": \"#E5ECF6\", \"width\": 0.5}}, \"type\": \"bar\"}], \"barpolar\": [{\"marker\": {\"line\": {\"color\": \"#E5ECF6\", \"width\": 0.5}}, \"type\": \"barpolar\"}], \"carpet\": [{\"aaxis\": {\"endlinecolor\": \"#2a3f5f\", \"gridcolor\": \"white\", \"linecolor\": \"white\", \"minorgridcolor\": \"white\", \"startlinecolor\": \"#2a3f5f\"}, \"baxis\": {\"endlinecolor\": \"#2a3f5f\", \"gridcolor\": \"white\", \"linecolor\": \"white\", \"minorgridcolor\": \"white\", \"startlinecolor\": \"#2a3f5f\"}, \"type\": \"carpet\"}], \"choropleth\": [{\"colorbar\": {\"outlinewidth\": 0, \"ticks\": \"\"}, \"type\": \"choropleth\"}], \"contour\": [{\"colorbar\": {\"outlinewidth\": 0, \"ticks\": \"\"}, \"colorscale\": [[0.0, \"#0d0887\"], [0.1111111111111111, \"#46039f\"], [0.2222222222222222, \"#7201a8\"], [0.3333333333333333, \"#9c179e\"], [0.4444444444444444, \"#bd3786\"], [0.5555555555555556, \"#d8576b\"], [0.6666666666666666, \"#ed7953\"], [0.7777777777777778, \"#fb9f3a\"], [0.8888888888888888, \"#fdca26\"], [1.0, \"#f0f921\"]], \"type\": \"contour\"}], \"contourcarpet\": [{\"colorbar\": {\"outlinewidth\": 0, \"ticks\": \"\"}, \"type\": \"contourcarpet\"}], \"heatmap\": [{\"colorbar\": {\"outlinewidth\": 0, \"ticks\": \"\"}, \"colorscale\": [[0.0, \"#0d0887\"], [0.1111111111111111, \"#46039f\"], [0.2222222222222222, \"#7201a8\"], [0.3333333333333333, \"#9c179e\"], [0.4444444444444444, \"#bd3786\"], [0.5555555555555556, \"#d8576b\"], [0.6666666666666666, \"#ed7953\"], [0.7777777777777778, \"#fb9f3a\"], [0.8888888888888888, \"#fdca26\"], [1.0, \"#f0f921\"]], \"type\": \"heatmap\"}], \"heatmapgl\": [{\"colorbar\": {\"outlinewidth\": 0, \"ticks\": \"\"}, \"colorscale\": [[0.0, \"#0d0887\"], [0.1111111111111111, \"#46039f\"], [0.2222222222222222, \"#7201a8\"], [0.3333333333333333, \"#9c179e\"], [0.4444444444444444, \"#bd3786\"], [0.5555555555555556, \"#d8576b\"], [0.6666666666666666, \"#ed7953\"], [0.7777777777777778, \"#fb9f3a\"], [0.8888888888888888, \"#fdca26\"], [1.0, \"#f0f921\"]], \"type\": \"heatmapgl\"}], \"histogram\": [{\"marker\": {\"colorbar\": {\"outlinewidth\": 0, \"ticks\": \"\"}}, \"type\": \"histogram\"}], \"histogram2d\": [{\"colorbar\": {\"outlinewidth\": 0, \"ticks\": \"\"}, \"colorscale\": [[0.0, \"#0d0887\"], [0.1111111111111111, \"#46039f\"], [0.2222222222222222, \"#7201a8\"], [0.3333333333333333, \"#9c179e\"], [0.4444444444444444, \"#bd3786\"], [0.5555555555555556, \"#d8576b\"], [0.6666666666666666, \"#ed7953\"], [0.7777777777777778, \"#fb9f3a\"], [0.8888888888888888, \"#fdca26\"], [1.0, \"#f0f921\"]], \"type\": \"histogram2d\"}], \"histogram2dcontour\": [{\"colorbar\": {\"outlinewidth\": 0, \"ticks\": \"\"}, \"colorscale\": [[0.0, \"#0d0887\"], [0.1111111111111111, \"#46039f\"], [0.2222222222222222, \"#7201a8\"], [0.3333333333333333, \"#9c179e\"], [0.4444444444444444, \"#bd3786\"], [0.5555555555555556, \"#d8576b\"], [0.6666666666666666, \"#ed7953\"], [0.7777777777777778, \"#fb9f3a\"], [0.8888888888888888, \"#fdca26\"], [1.0, \"#f0f921\"]], \"type\": \"histogram2dcontour\"}], \"mesh3d\": [{\"colorbar\": {\"outlinewidth\": 0, \"ticks\": \"\"}, \"type\": \"mesh3d\"}], \"parcoords\": [{\"line\": {\"colorbar\": {\"outlinewidth\": 0, \"ticks\": \"\"}}, \"type\": \"parcoords\"}], \"scatter\": [{\"marker\": {\"colorbar\": {\"outlinewidth\": 0, \"ticks\": \"\"}}, \"type\": \"scatter\"}], \"scatter3d\": [{\"line\": {\"colorbar\": {\"outlinewidth\": 0, \"ticks\": \"\"}}, \"marker\": {\"colorbar\": {\"outlinewidth\": 0, \"ticks\": \"\"}}, \"type\": \"scatter3d\"}], \"scattercarpet\": [{\"marker\": {\"colorbar\": {\"outlinewidth\": 0, \"ticks\": \"\"}}, \"type\": \"scattercarpet\"}], \"scattergeo\": [{\"marker\": {\"colorbar\": {\"outlinewidth\": 0, \"ticks\": \"\"}}, \"type\": \"scattergeo\"}], \"scattergl\": [{\"marker\": {\"colorbar\": {\"outlinewidth\": 0, \"ticks\": \"\"}}, \"type\": \"scattergl\"}], \"scattermapbox\": [{\"marker\": {\"colorbar\": {\"outlinewidth\": 0, \"ticks\": \"\"}}, \"type\": \"scattermapbox\"}], \"scatterpolar\": [{\"marker\": {\"colorbar\": {\"outlinewidth\": 0, \"ticks\": \"\"}}, \"type\": \"scatterpolar\"}], \"scatterpolargl\": [{\"marker\": {\"colorbar\": {\"outlinewidth\": 0, \"ticks\": \"\"}}, \"type\": \"scatterpolargl\"}], \"scatterternary\": [{\"marker\": {\"colorbar\": {\"outlinewidth\": 0, \"ticks\": \"\"}}, \"type\": \"scatterternary\"}], \"surface\": [{\"colorbar\": {\"outlinewidth\": 0, \"ticks\": \"\"}, \"colorscale\": [[0.0, \"#0d0887\"], [0.1111111111111111, \"#46039f\"], [0.2222222222222222, \"#7201a8\"], [0.3333333333333333, \"#9c179e\"], [0.4444444444444444, \"#bd3786\"], [0.5555555555555556, \"#d8576b\"], [0.6666666666666666, \"#ed7953\"], [0.7777777777777778, \"#fb9f3a\"], [0.8888888888888888, \"#fdca26\"], [1.0, \"#f0f921\"]], \"type\": \"surface\"}], \"table\": [{\"cells\": {\"fill\": {\"color\": \"#EBF0F8\"}, \"line\": {\"color\": \"white\"}}, \"header\": {\"fill\": {\"color\": \"#C8D4E3\"}, \"line\": {\"color\": \"white\"}}, \"type\": \"table\"}]}, \"layout\": {\"annotationdefaults\": {\"arrowcolor\": \"#2a3f5f\", \"arrowhead\": 0, \"arrowwidth\": 1}, \"colorscale\": {\"diverging\": [[0, \"#8e0152\"], [0.1, \"#c51b7d\"], [0.2, \"#de77ae\"], [0.3, \"#f1b6da\"], [0.4, \"#fde0ef\"], [0.5, \"#f7f7f7\"], [0.6, \"#e6f5d0\"], [0.7, \"#b8e186\"], [0.8, \"#7fbc41\"], [0.9, \"#4d9221\"], [1, \"#276419\"]], \"sequential\": [[0.0, \"#0d0887\"], [0.1111111111111111, \"#46039f\"], [0.2222222222222222, \"#7201a8\"], [0.3333333333333333, \"#9c179e\"], [0.4444444444444444, \"#bd3786\"], [0.5555555555555556, \"#d8576b\"], [0.6666666666666666, \"#ed7953\"], [0.7777777777777778, \"#fb9f3a\"], [0.8888888888888888, \"#fdca26\"], [1.0, \"#f0f921\"]], \"sequentialminus\": [[0.0, \"#0d0887\"], [0.1111111111111111, \"#46039f\"], [0.2222222222222222, \"#7201a8\"], [0.3333333333333333, \"#9c179e\"], [0.4444444444444444, \"#bd3786\"], [0.5555555555555556, \"#d8576b\"], [0.6666666666666666, \"#ed7953\"], [0.7777777777777778, \"#fb9f3a\"], [0.8888888888888888, \"#fdca26\"], [1.0, \"#f0f921\"]]}, \"colorway\": [\"#636efa\", \"#EF553B\", \"#00cc96\", \"#ab63fa\", \"#FFA15A\", \"#19d3f3\", \"#FF6692\", \"#B6E880\", \"#FF97FF\", \"#FECB52\"], \"font\": {\"color\": \"#2a3f5f\"}, \"geo\": {\"bgcolor\": \"white\", \"lakecolor\": \"white\", \"landcolor\": \"#E5ECF6\", \"showlakes\": true, \"showland\": true, \"subunitcolor\": \"white\"}, \"hoverlabel\": {\"align\": \"left\"}, \"hovermode\": \"closest\", \"mapbox\": {\"style\": \"light\"}, \"paper_bgcolor\": \"white\", \"plot_bgcolor\": \"#E5ECF6\", \"polar\": {\"angularaxis\": {\"gridcolor\": \"white\", \"linecolor\": \"white\", \"ticks\": \"\"}, \"bgcolor\": \"#E5ECF6\", \"radialaxis\": {\"gridcolor\": \"white\", \"linecolor\": \"white\", \"ticks\": \"\"}}, \"scene\": {\"xaxis\": {\"backgroundcolor\": \"#E5ECF6\", \"gridcolor\": \"white\", \"gridwidth\": 2, \"linecolor\": \"white\", \"showbackground\": true, \"ticks\": \"\", \"zerolinecolor\": \"white\"}, \"yaxis\": {\"backgroundcolor\": \"#E5ECF6\", \"gridcolor\": \"white\", \"gridwidth\": 2, \"linecolor\": \"white\", \"showbackground\": true, \"ticks\": \"\", \"zerolinecolor\": \"white\"}, \"zaxis\": {\"backgroundcolor\": \"#E5ECF6\", \"gridcolor\": \"white\", \"gridwidth\": 2, \"linecolor\": \"white\", \"showbackground\": true, \"ticks\": \"\", \"zerolinecolor\": \"white\"}}, \"shapedefaults\": {\"line\": {\"color\": \"#2a3f5f\"}}, \"ternary\": {\"aaxis\": {\"gridcolor\": \"white\", \"linecolor\": \"white\", \"ticks\": \"\"}, \"baxis\": {\"gridcolor\": \"white\", \"linecolor\": \"white\", \"ticks\": \"\"}, \"bgcolor\": \"#E5ECF6\", \"caxis\": {\"gridcolor\": \"white\", \"linecolor\": \"white\", \"ticks\": \"\"}}, \"title\": {\"x\": 0.05}, \"xaxis\": {\"automargin\": true, \"gridcolor\": \"white\", \"linecolor\": \"white\", \"ticks\": \"\", \"zerolinecolor\": \"white\", \"zerolinewidth\": 2}, \"yaxis\": {\"automargin\": true, \"gridcolor\": \"white\", \"linecolor\": \"white\", \"ticks\": \"\", \"zerolinecolor\": \"white\", \"zerolinewidth\": 2}}}, \"title\": {\"font\": {\"color\": \"#4D5663\"}}, \"xaxis\": {\"gridcolor\": \"#E1E5ED\", \"showgrid\": true, \"tickfont\": {\"color\": \"#4D5663\"}, \"title\": {\"font\": {\"color\": \"#4D5663\"}, \"text\": \"\"}, \"zerolinecolor\": \"#E1E5ED\"}, \"yaxis\": {\"gridcolor\": \"#E1E5ED\", \"showgrid\": true, \"tickfont\": {\"color\": \"#4D5663\"}, \"title\": {\"font\": {\"color\": \"#4D5663\"}, \"text\": \"\"}, \"zerolinecolor\": \"#E1E5ED\"}},\n",
       "                        {\"showLink\": true, \"linkText\": \"Export to plot.ly\", \"plotlyServerURL\": \"https://plot.ly\", \"responsive\": true}\n",
       "                    ).then(function(){\n",
       "                            \n",
       "var gd = document.getElementById('0b3c0bbc-7c89-4050-a362-68e1593aa466');\n",
       "var x = new MutationObserver(function (mutations, observer) {{\n",
       "        var display = window.getComputedStyle(gd).display;\n",
       "        if (!display || display === 'none') {{\n",
       "            console.log([gd, 'removed!']);\n",
       "            Plotly.purge(gd);\n",
       "            observer.disconnect();\n",
       "        }}\n",
       "}});\n",
       "\n",
       "// Listen for the removal of the full notebook cells\n",
       "var notebookContainer = gd.closest('#notebook-container');\n",
       "if (notebookContainer) {{\n",
       "    x.observe(notebookContainer, {childList: true});\n",
       "}}\n",
       "\n",
       "// Listen for the clearing of the current output cell\n",
       "var outputEl = gd.closest('.output');\n",
       "if (outputEl) {{\n",
       "    x.observe(outputEl, {childList: true});\n",
       "}}\n",
       "\n",
       "                        })\n",
       "                };\n",
       "                });\n",
       "            </script>\n",
       "        </div>"
      ]
     },
     "metadata": {},
     "output_type": "display_data"
    }
   ],
   "source": [
    "## Ex 8 - Bubble plot -> Similar to a scatter plot. Scatter points sizes will change depending on other variables \n",
    "\n",
    "df.iplot(kind = 'bubble', x = 'A', y = 'B', size = 'C') ## Specify the size of the points based on column 'C'\n",
    "                                                        ## Used in applications such as comparing World GDP vs Population\n",
    "                                                        ## Happiness factors -> UN reports\n",
    "                                                "
   ]
  },
  {
   "cell_type": "code",
   "execution_count": 25,
   "metadata": {},
   "outputs": [
    {
     "data": {
      "application/vnd.plotly.v1+json": {
       "config": {
        "linkText": "Export to plot.ly",
        "plotlyServerURL": "https://plot.ly",
        "showLink": true
       },
       "data": [
        {
         "histfunc": "count",
         "histnorm": "",
         "marker": {
          "color": "rgba(255, 153, 51, 1.0)",
          "line": {
           "color": "#4D5663",
           "width": 1.3
          }
         },
         "name": "A",
         "nbinsx": 10,
         "opacity": 0.8,
         "orientation": "v",
         "type": "histogram",
         "x": [
          -0.06542778015912247,
          -0.4983315985004792,
          -0.3932665761127589,
          -0.10616396259826238,
          -0.26207506689955234,
          0.7886670736320832,
          -0.14377426502187782,
          -0.15273724910094455,
          -1.1338234021817963,
          0.0009770267116028946,
          -0.7324620416267447,
          0.06043111318599064,
          0.623615648635299,
          -0.9898932119379665,
          -0.45086070577257026,
          -0.830303964658216,
          1.5716630654715504,
          -1.0974693696329356,
          0.4558388327103945,
          1.2170495932316205,
          -0.32981680298429955,
          0.2582423394595888,
          0.4888856866509463,
          -0.6121681967574407,
          -0.5414245020009553,
          2.713140457391276,
          1.7423907028996293,
          0.14142226924657475,
          1.6632119799987835,
          -1.1316432740780005,
          0.3761480797940717,
          -0.5145111245715915,
          0.15963736908855272,
          0.8356735998848508,
          -0.3565600825442002,
          1.157899333248228,
          -0.4096165797423869,
          0.5249195501867103,
          0.5653237593734552,
          1.072675824030473,
          -1.7986968659667908,
          0.09444932233020178,
          0.37476626326860707,
          -0.06564736959465206,
          0.28052433882468464,
          0.7190140964012359,
          -1.5830392770914365,
          0.2644929549909655,
          -1.0006939493489782,
          0.23636146599124183,
          0.39176536250665306,
          1.0010977258940492,
          0.10143316005483165,
          -0.3368213254581548,
          -0.2971587471713649,
          -0.026228244623694424,
          0.6624173371633474,
          -1.7218637928707545,
          -0.5923164125061781,
          -0.34970068099215595,
          -0.12555665412014028,
          -0.16897186432076375,
          0.40905865555379467,
          -0.6632048676391282,
          1.0816531446896442,
          -0.08061085564831709,
          -0.6898727254749667,
          -0.05582287614843459,
          0.019644984580532536,
          -0.24593277126504068,
          0.2647198186254047,
          -2.6985599960128646,
          -0.2857060352657619,
          -0.7059336808840253,
          0.17851344877915792,
          -1.1872112018363015,
          0.356400427218362,
          0.6949620719212402,
          1.7193507242959798,
          0.15045354017786597,
          -0.18479491530568848,
          -1.239764615178371,
          0.09444746482720447,
          -0.45253402974609547,
          1.5240444051796522,
          -0.7166957289144503,
          1.5593468757849867,
          -1.8811576668979677,
          -1.4952705913795905,
          0.23129604965371198,
          -0.008759735894900082,
          0.15443482118378815,
          -1.4297427857966751,
          -0.06765988265773787,
          -0.996787930590609,
          -0.4145939334371296,
          -0.43632955465216916,
          -0.7186990577837588,
          0.5636984699664023,
          0.21842881420586344
         ],
         "xaxis": "x",
         "yaxis": "y"
        },
        {
         "line": {
          "color": "rgba(128, 128, 128, 1.0)",
          "dash": "solid",
          "shape": "linear",
          "width": 1.3
         },
         "marker": {
          "size": 2,
          "symbol": "circle"
         },
         "mode": "markers",
         "name": "A",
         "text": "",
         "type": "scatter",
         "x": [
          -0.8411370469674633,
          0.8465936719276874,
          -2.0769241221253196,
          -0.6700626862026585,
          -0.5718851695463921,
          -0.09755403761810581,
          -0.44096635857130717,
          -0.19909691093629908,
          1.5488170316881231,
          -0.058357642546699194,
          0.919790098361005,
          0.3594851568227443,
          -0.8769963650114245,
          -0.269976233378358,
          0.24765485950810773,
          0.269321910169165,
          -0.5505010270008414,
          -0.4072869079940033,
          0.3517877394913619,
          -1.524489635082197,
          0.12522454045167053,
          0.9987328546532094,
          -1.3791792776183134,
          0.05423843887016417,
          0.2688011121653173,
          -0.19041155308139934,
          0.10695575141382495,
          1.7095876419986396,
          -1.170502100390321,
          0.9290949508011905,
          -0.1939790752819657,
          -0.9278782561160333,
          -0.38128376570696293,
          1.4196422528454338,
          -0.3327314727625212,
          1.1991026923111583,
          0.34681659229915696,
          -0.6206391541625019,
          0.12742134556200654,
          1.3243431685994702,
          -0.8269302595340654,
          0.37966686811781725,
          -0.10344807908893425,
          -2.0544188879512295,
          -0.7464815409567633,
          -0.7767402402381235,
          -0.6637804281354422,
          1.2517385487669808,
          0.694873957911729,
          -0.06616754426101021,
          0.0826020637563963,
          -0.8335126220950743,
          1.5472354491421703,
          -1.1883781356830807,
          0.6959161155628883,
          1.6809774728363294,
          -0.23254175749586706,
          -1.9896207513535749,
          -0.23331842485528928,
          2.178970408821887,
          1.4573427100091558,
          -0.908432032880107,
          -0.44244867207382027,
          -0.4769298465440546,
          1.3442857447410939,
          0.8937306771278547,
          1.2884460982984527,
          0.25783105542154644,
          -0.5664819169183514,
          -0.18098321446330418,
          0.331616555740629,
          -0.8005687231433739,
          1.0988721156679697,
          0.23696136067638396,
          0.46500651711300106,
          -0.7528153647155813,
          1.3412978052129945,
          -1.0199703145796095,
          0.6413002728832091,
          -0.3193840554624845,
          -0.11664683969933677,
          0.9687749026453907,
          1.3239859553061233,
          -0.1362061691984603,
          1.2241312871811287,
          0.21623446478982422,
          -0.21314367553319472,
          0.720151826365811,
          1.462740448667771,
          -0.3436916812967713,
          0.4324993105508277,
          -1.5619649073250985,
          -2.112441929480903,
          0.06564522053701284,
          -0.28106050711775143,
          -0.07673876751490212,
          0.9800922196622552,
          0.03668337598725406,
          0.22327999074166194,
          0.37285586455157954
         ],
         "xaxis": "x2",
         "y": [
          -0.06542778015912247,
          -0.4983315985004792,
          -0.3932665761127589,
          -0.10616396259826238,
          -0.26207506689955234,
          0.7886670736320832,
          -0.14377426502187782,
          -0.15273724910094455,
          -1.1338234021817963,
          0.0009770267116028946,
          -0.7324620416267447,
          0.06043111318599064,
          0.623615648635299,
          -0.9898932119379665,
          -0.45086070577257026,
          -0.830303964658216,
          1.5716630654715504,
          -1.0974693696329356,
          0.4558388327103945,
          1.2170495932316205,
          -0.32981680298429955,
          0.2582423394595888,
          0.4888856866509463,
          -0.6121681967574407,
          -0.5414245020009553,
          2.713140457391276,
          1.7423907028996293,
          0.14142226924657475,
          1.6632119799987835,
          -1.1316432740780005,
          0.3761480797940717,
          -0.5145111245715915,
          0.15963736908855272,
          0.8356735998848508,
          -0.3565600825442002,
          1.157899333248228,
          -0.4096165797423869,
          0.5249195501867103,
          0.5653237593734552,
          1.072675824030473,
          -1.7986968659667908,
          0.09444932233020178,
          0.37476626326860707,
          -0.06564736959465206,
          0.28052433882468464,
          0.7190140964012359,
          -1.5830392770914365,
          0.2644929549909655,
          -1.0006939493489782,
          0.23636146599124183,
          0.39176536250665306,
          1.0010977258940492,
          0.10143316005483165,
          -0.3368213254581548,
          -0.2971587471713649,
          -0.026228244623694424,
          0.6624173371633474,
          -1.7218637928707545,
          -0.5923164125061781,
          -0.34970068099215595,
          -0.12555665412014028,
          -0.16897186432076375,
          0.40905865555379467,
          -0.6632048676391282,
          1.0816531446896442,
          -0.08061085564831709,
          -0.6898727254749667,
          -0.05582287614843459,
          0.019644984580532536,
          -0.24593277126504068,
          0.2647198186254047,
          -2.6985599960128646,
          -0.2857060352657619,
          -0.7059336808840253,
          0.17851344877915792,
          -1.1872112018363015,
          0.356400427218362,
          0.6949620719212402,
          1.7193507242959798,
          0.15045354017786597,
          -0.18479491530568848,
          -1.239764615178371,
          0.09444746482720447,
          -0.45253402974609547,
          1.5240444051796522,
          -0.7166957289144503,
          1.5593468757849867,
          -1.8811576668979677,
          -1.4952705913795905,
          0.23129604965371198,
          -0.008759735894900082,
          0.15443482118378815,
          -1.4297427857966751,
          -0.06765988265773787,
          -0.996787930590609,
          -0.4145939334371296,
          -0.43632955465216916,
          -0.7186990577837588,
          0.5636984699664023,
          0.21842881420586344
         ],
         "yaxis": "y2"
        },
        {
         "line": {
          "color": "rgba(128, 128, 128, 1.0)",
          "dash": "solid",
          "shape": "linear",
          "width": 1.3
         },
         "marker": {
          "size": 2,
          "symbol": "circle"
         },
         "mode": "markers",
         "name": "A",
         "text": "",
         "type": "scatter",
         "x": [
          -0.7966720853754534,
          0.6477728052325428,
          0.4831523041440157,
          0.3644435184704144,
          1.7007141482853403,
          0.9692581547170372,
          -1.0325150866471589,
          0.8894145090528843,
          0.026234933397009344,
          -1.4532861300849287,
          0.9996873342754028,
          -3.1540275979967087,
          0.4286746196441421,
          0.21544993442106897,
          0.32815484899890135,
          -0.2557793997881791,
          -0.5510292782435066,
          -0.037864298663310474,
          -0.3001542781668278,
          0.6547112586968563,
          -0.2638110259566244,
          0.04270028556177357,
          0.4588145661267505,
          0.6827466435778821,
          -0.6797951695755131,
          -0.631628789264434,
          1.2686739319914158,
          -0.13697469209737578,
          -0.37601739069121415,
          -0.8836269003850051,
          -1.4608143618016922,
          1.3273721485353875,
          -0.3303442629457333,
          -0.4926836056813009,
          -0.30853302763456075,
          0.12524399651365264,
          -1.0046688429128623,
          1.6056414456082,
          -0.6229691448825764,
          1.4544036889163034,
          -0.17925644736933535,
          0.6457018928601556,
          1.3057340404004254,
          1.0377701562575992,
          0.10067046378193285,
          -0.5193570479240552,
          1.018866169958515,
          -1.0160196153677243,
          0.5337100384623303,
          1.6205355319322285,
          -0.7913727440688946,
          -0.49715952576613726,
          -0.16625713899727948,
          0.11911935123826942,
          -1.0818057514661825,
          0.6097568557060469,
          -1.2965456248093972,
          1.0870876169513466,
          1.0750964186435534,
          0.05160589607207159,
          0.3245215550322822,
          0.5356023888365272,
          -0.4871544420614186,
          0.19487622359893275,
          1.5356466295486764,
          -0.14339976837204832,
          -0.09037003239094622,
          -0.15840485892250952,
          2.256471565398644,
          -0.40382312657022357,
          0.2748706392238591,
          -0.535589705332484,
          -0.3062539118189085,
          -0.6890911081506442,
          -0.3888945228846208,
          -2.5564725209949843,
          -1.7287793754882044,
          -0.17981800885973726,
          -2.031603307882673,
          -0.5612039428452245,
          -1.2630554683468047,
          0.33852167207166245,
          1.0099798166528304,
          -0.2860404232817684,
          1.315694043920557,
          0.46960186531811526,
          0.30832256911797395,
          -0.18939386825932636,
          1.6175828171719604,
          1.0777304529374765,
          -1.4665396721322217,
          -0.040704511478725704,
          -0.7183414312124572,
          -0.725399399095399,
          -0.5756244801360568,
          -0.6038091390486322,
          -1.1789772630804674,
          0.26877630285131504,
          -0.4822196912052415,
          1.0846006541025943
         ],
         "xaxis": "x3",
         "y": [
          -0.06542778015912247,
          -0.4983315985004792,
          -0.3932665761127589,
          -0.10616396259826238,
          -0.26207506689955234,
          0.7886670736320832,
          -0.14377426502187782,
          -0.15273724910094455,
          -1.1338234021817963,
          0.0009770267116028946,
          -0.7324620416267447,
          0.06043111318599064,
          0.623615648635299,
          -0.9898932119379665,
          -0.45086070577257026,
          -0.830303964658216,
          1.5716630654715504,
          -1.0974693696329356,
          0.4558388327103945,
          1.2170495932316205,
          -0.32981680298429955,
          0.2582423394595888,
          0.4888856866509463,
          -0.6121681967574407,
          -0.5414245020009553,
          2.713140457391276,
          1.7423907028996293,
          0.14142226924657475,
          1.6632119799987835,
          -1.1316432740780005,
          0.3761480797940717,
          -0.5145111245715915,
          0.15963736908855272,
          0.8356735998848508,
          -0.3565600825442002,
          1.157899333248228,
          -0.4096165797423869,
          0.5249195501867103,
          0.5653237593734552,
          1.072675824030473,
          -1.7986968659667908,
          0.09444932233020178,
          0.37476626326860707,
          -0.06564736959465206,
          0.28052433882468464,
          0.7190140964012359,
          -1.5830392770914365,
          0.2644929549909655,
          -1.0006939493489782,
          0.23636146599124183,
          0.39176536250665306,
          1.0010977258940492,
          0.10143316005483165,
          -0.3368213254581548,
          -0.2971587471713649,
          -0.026228244623694424,
          0.6624173371633474,
          -1.7218637928707545,
          -0.5923164125061781,
          -0.34970068099215595,
          -0.12555665412014028,
          -0.16897186432076375,
          0.40905865555379467,
          -0.6632048676391282,
          1.0816531446896442,
          -0.08061085564831709,
          -0.6898727254749667,
          -0.05582287614843459,
          0.019644984580532536,
          -0.24593277126504068,
          0.2647198186254047,
          -2.6985599960128646,
          -0.2857060352657619,
          -0.7059336808840253,
          0.17851344877915792,
          -1.1872112018363015,
          0.356400427218362,
          0.6949620719212402,
          1.7193507242959798,
          0.15045354017786597,
          -0.18479491530568848,
          -1.239764615178371,
          0.09444746482720447,
          -0.45253402974609547,
          1.5240444051796522,
          -0.7166957289144503,
          1.5593468757849867,
          -1.8811576668979677,
          -1.4952705913795905,
          0.23129604965371198,
          -0.008759735894900082,
          0.15443482118378815,
          -1.4297427857966751,
          -0.06765988265773787,
          -0.996787930590609,
          -0.4145939334371296,
          -0.43632955465216916,
          -0.7186990577837588,
          0.5636984699664023,
          0.21842881420586344
         ],
         "yaxis": "y3"
        },
        {
         "line": {
          "color": "rgba(128, 128, 128, 1.0)",
          "dash": "solid",
          "shape": "linear",
          "width": 1.3
         },
         "marker": {
          "size": 2,
          "symbol": "circle"
         },
         "mode": "markers",
         "name": "A",
         "text": "",
         "type": "scatter",
         "x": [
          -0.1676826507525291,
          1.2118809377684863,
          -0.14438510911805277,
          -1.2551541941825473,
          0.47279567513124054,
          -0.13691972737133096,
          -0.6546286217807619,
          -2.0102159510958035,
          1.1208802815514152,
          -0.29512508742796867,
          -1.5022522770964233,
          1.228763629283435,
          0.44696925851188624,
          -0.2503946001911159,
          1.345947912693738,
          -0.7338677287033788,
          -0.7782797541960733,
          0.45719078900464705,
          0.30022047398068186,
          1.273494902181814,
          -0.942096576425137,
          -1.5984355314179504,
          -0.2081335137358246,
          -1.119897696669353,
          1.1558179289865356,
          0.5253760769966458,
          1.4829236805169717,
          -0.20820180768859525,
          0.2599409088733281,
          0.8299263627400496,
          0.6945443956044238,
          0.9487852193715961,
          1.6049832655815006,
          0.6936468603647309,
          0.2576136153170773,
          0.35604033694235443,
          -0.9478443375481954,
          -1.803235372150516,
          -0.17490836960946665,
          1.2990750788239707,
          -0.11963436583981464,
          -0.14107216164782235,
          -0.4994749068208888,
          -0.5039462481034059,
          0.4078937285732624,
          -1.3623983044468144,
          -0.5599219479314879,
          -0.8890190693870289,
          -0.5453171088827993,
          -0.19400809571131336,
          0.4379296859477579,
          0.9569927628817722,
          0.568551150400114,
          0.4901505521614311,
          -0.629448856594338,
          -0.1760792563046624,
          2.1872697925391145,
          -1.7987168928322443,
          0.00021761034255523358,
          -0.1493581045492578,
          -0.005807956057387215,
          -0.2521294841944818,
          0.5150335079331775,
          -0.33282032997917643,
          0.7320714223225012,
          1.213091682920328,
          0.08904856186822144,
          0.546964360145978,
          -0.5654829559521772,
          -0.5280370228475944,
          1.569885386573116,
          0.06951485652561938,
          0.5586098056639801,
          0.9944724520541559,
          -1.232692345109615,
          0.20649908737588069,
          0.9274326694569818,
          -1.4931803060081321,
          0.5069500577515356,
          -0.10169518484504181,
          0.7706117793406162,
          -0.6517223336891163,
          -2.0926704674673844,
          0.31484554724907154,
          1.9575227469312708,
          -0.4301303958607313,
          -0.5787778118510103,
          -1.0119872017638747,
          -0.40228534601618143,
          2.038756953851408,
          -0.12949232464568516,
          -0.6066494611386877,
          0.3603753685797563,
          0.34132630582604756,
          0.5730529829040087,
          1.0288673586415396,
          1.664345573048318,
          1.3486877908341262,
          -0.484387603012384,
          0.3733001066111924
         ],
         "xaxis": "x4",
         "y": [
          -0.06542778015912247,
          -0.4983315985004792,
          -0.3932665761127589,
          -0.10616396259826238,
          -0.26207506689955234,
          0.7886670736320832,
          -0.14377426502187782,
          -0.15273724910094455,
          -1.1338234021817963,
          0.0009770267116028946,
          -0.7324620416267447,
          0.06043111318599064,
          0.623615648635299,
          -0.9898932119379665,
          -0.45086070577257026,
          -0.830303964658216,
          1.5716630654715504,
          -1.0974693696329356,
          0.4558388327103945,
          1.2170495932316205,
          -0.32981680298429955,
          0.2582423394595888,
          0.4888856866509463,
          -0.6121681967574407,
          -0.5414245020009553,
          2.713140457391276,
          1.7423907028996293,
          0.14142226924657475,
          1.6632119799987835,
          -1.1316432740780005,
          0.3761480797940717,
          -0.5145111245715915,
          0.15963736908855272,
          0.8356735998848508,
          -0.3565600825442002,
          1.157899333248228,
          -0.4096165797423869,
          0.5249195501867103,
          0.5653237593734552,
          1.072675824030473,
          -1.7986968659667908,
          0.09444932233020178,
          0.37476626326860707,
          -0.06564736959465206,
          0.28052433882468464,
          0.7190140964012359,
          -1.5830392770914365,
          0.2644929549909655,
          -1.0006939493489782,
          0.23636146599124183,
          0.39176536250665306,
          1.0010977258940492,
          0.10143316005483165,
          -0.3368213254581548,
          -0.2971587471713649,
          -0.026228244623694424,
          0.6624173371633474,
          -1.7218637928707545,
          -0.5923164125061781,
          -0.34970068099215595,
          -0.12555665412014028,
          -0.16897186432076375,
          0.40905865555379467,
          -0.6632048676391282,
          1.0816531446896442,
          -0.08061085564831709,
          -0.6898727254749667,
          -0.05582287614843459,
          0.019644984580532536,
          -0.24593277126504068,
          0.2647198186254047,
          -2.6985599960128646,
          -0.2857060352657619,
          -0.7059336808840253,
          0.17851344877915792,
          -1.1872112018363015,
          0.356400427218362,
          0.6949620719212402,
          1.7193507242959798,
          0.15045354017786597,
          -0.18479491530568848,
          -1.239764615178371,
          0.09444746482720447,
          -0.45253402974609547,
          1.5240444051796522,
          -0.7166957289144503,
          1.5593468757849867,
          -1.8811576668979677,
          -1.4952705913795905,
          0.23129604965371198,
          -0.008759735894900082,
          0.15443482118378815,
          -1.4297427857966751,
          -0.06765988265773787,
          -0.996787930590609,
          -0.4145939334371296,
          -0.43632955465216916,
          -0.7186990577837588,
          0.5636984699664023,
          0.21842881420586344
         ],
         "yaxis": "y4"
        },
        {
         "line": {
          "color": "rgba(128, 128, 128, 1.0)",
          "dash": "solid",
          "shape": "linear",
          "width": 1.3
         },
         "marker": {
          "size": 2,
          "symbol": "circle"
         },
         "mode": "markers",
         "name": "B",
         "text": "",
         "type": "scatter",
         "x": [
          -0.06542778015912247,
          -0.4983315985004792,
          -0.3932665761127589,
          -0.10616396259826238,
          -0.26207506689955234,
          0.7886670736320832,
          -0.14377426502187782,
          -0.15273724910094455,
          -1.1338234021817963,
          0.0009770267116028946,
          -0.7324620416267447,
          0.06043111318599064,
          0.623615648635299,
          -0.9898932119379665,
          -0.45086070577257026,
          -0.830303964658216,
          1.5716630654715504,
          -1.0974693696329356,
          0.4558388327103945,
          1.2170495932316205,
          -0.32981680298429955,
          0.2582423394595888,
          0.4888856866509463,
          -0.6121681967574407,
          -0.5414245020009553,
          2.713140457391276,
          1.7423907028996293,
          0.14142226924657475,
          1.6632119799987835,
          -1.1316432740780005,
          0.3761480797940717,
          -0.5145111245715915,
          0.15963736908855272,
          0.8356735998848508,
          -0.3565600825442002,
          1.157899333248228,
          -0.4096165797423869,
          0.5249195501867103,
          0.5653237593734552,
          1.072675824030473,
          -1.7986968659667908,
          0.09444932233020178,
          0.37476626326860707,
          -0.06564736959465206,
          0.28052433882468464,
          0.7190140964012359,
          -1.5830392770914365,
          0.2644929549909655,
          -1.0006939493489782,
          0.23636146599124183,
          0.39176536250665306,
          1.0010977258940492,
          0.10143316005483165,
          -0.3368213254581548,
          -0.2971587471713649,
          -0.026228244623694424,
          0.6624173371633474,
          -1.7218637928707545,
          -0.5923164125061781,
          -0.34970068099215595,
          -0.12555665412014028,
          -0.16897186432076375,
          0.40905865555379467,
          -0.6632048676391282,
          1.0816531446896442,
          -0.08061085564831709,
          -0.6898727254749667,
          -0.05582287614843459,
          0.019644984580532536,
          -0.24593277126504068,
          0.2647198186254047,
          -2.6985599960128646,
          -0.2857060352657619,
          -0.7059336808840253,
          0.17851344877915792,
          -1.1872112018363015,
          0.356400427218362,
          0.6949620719212402,
          1.7193507242959798,
          0.15045354017786597,
          -0.18479491530568848,
          -1.239764615178371,
          0.09444746482720447,
          -0.45253402974609547,
          1.5240444051796522,
          -0.7166957289144503,
          1.5593468757849867,
          -1.8811576668979677,
          -1.4952705913795905,
          0.23129604965371198,
          -0.008759735894900082,
          0.15443482118378815,
          -1.4297427857966751,
          -0.06765988265773787,
          -0.996787930590609,
          -0.4145939334371296,
          -0.43632955465216916,
          -0.7186990577837588,
          0.5636984699664023,
          0.21842881420586344
         ],
         "xaxis": "x5",
         "y": [
          -0.8411370469674633,
          0.8465936719276874,
          -2.0769241221253196,
          -0.6700626862026585,
          -0.5718851695463921,
          -0.09755403761810581,
          -0.44096635857130717,
          -0.19909691093629908,
          1.5488170316881231,
          -0.058357642546699194,
          0.919790098361005,
          0.3594851568227443,
          -0.8769963650114245,
          -0.269976233378358,
          0.24765485950810773,
          0.269321910169165,
          -0.5505010270008414,
          -0.4072869079940033,
          0.3517877394913619,
          -1.524489635082197,
          0.12522454045167053,
          0.9987328546532094,
          -1.3791792776183134,
          0.05423843887016417,
          0.2688011121653173,
          -0.19041155308139934,
          0.10695575141382495,
          1.7095876419986396,
          -1.170502100390321,
          0.9290949508011905,
          -0.1939790752819657,
          -0.9278782561160333,
          -0.38128376570696293,
          1.4196422528454338,
          -0.3327314727625212,
          1.1991026923111583,
          0.34681659229915696,
          -0.6206391541625019,
          0.12742134556200654,
          1.3243431685994702,
          -0.8269302595340654,
          0.37966686811781725,
          -0.10344807908893425,
          -2.0544188879512295,
          -0.7464815409567633,
          -0.7767402402381235,
          -0.6637804281354422,
          1.2517385487669808,
          0.694873957911729,
          -0.06616754426101021,
          0.0826020637563963,
          -0.8335126220950743,
          1.5472354491421703,
          -1.1883781356830807,
          0.6959161155628883,
          1.6809774728363294,
          -0.23254175749586706,
          -1.9896207513535749,
          -0.23331842485528928,
          2.178970408821887,
          1.4573427100091558,
          -0.908432032880107,
          -0.44244867207382027,
          -0.4769298465440546,
          1.3442857447410939,
          0.8937306771278547,
          1.2884460982984527,
          0.25783105542154644,
          -0.5664819169183514,
          -0.18098321446330418,
          0.331616555740629,
          -0.8005687231433739,
          1.0988721156679697,
          0.23696136067638396,
          0.46500651711300106,
          -0.7528153647155813,
          1.3412978052129945,
          -1.0199703145796095,
          0.6413002728832091,
          -0.3193840554624845,
          -0.11664683969933677,
          0.9687749026453907,
          1.3239859553061233,
          -0.1362061691984603,
          1.2241312871811287,
          0.21623446478982422,
          -0.21314367553319472,
          0.720151826365811,
          1.462740448667771,
          -0.3436916812967713,
          0.4324993105508277,
          -1.5619649073250985,
          -2.112441929480903,
          0.06564522053701284,
          -0.28106050711775143,
          -0.07673876751490212,
          0.9800922196622552,
          0.03668337598725406,
          0.22327999074166194,
          0.37285586455157954
         ],
         "yaxis": "y5"
        },
        {
         "histfunc": "count",
         "histnorm": "",
         "marker": {
          "color": "rgba(55, 128, 191, 1.0)",
          "line": {
           "color": "#4D5663",
           "width": 1.3
          }
         },
         "name": "B",
         "nbinsx": 10,
         "opacity": 0.8,
         "orientation": "v",
         "type": "histogram",
         "x": [
          -0.8411370469674633,
          0.8465936719276874,
          -2.0769241221253196,
          -0.6700626862026585,
          -0.5718851695463921,
          -0.09755403761810581,
          -0.44096635857130717,
          -0.19909691093629908,
          1.5488170316881231,
          -0.058357642546699194,
          0.919790098361005,
          0.3594851568227443,
          -0.8769963650114245,
          -0.269976233378358,
          0.24765485950810773,
          0.269321910169165,
          -0.5505010270008414,
          -0.4072869079940033,
          0.3517877394913619,
          -1.524489635082197,
          0.12522454045167053,
          0.9987328546532094,
          -1.3791792776183134,
          0.05423843887016417,
          0.2688011121653173,
          -0.19041155308139934,
          0.10695575141382495,
          1.7095876419986396,
          -1.170502100390321,
          0.9290949508011905,
          -0.1939790752819657,
          -0.9278782561160333,
          -0.38128376570696293,
          1.4196422528454338,
          -0.3327314727625212,
          1.1991026923111583,
          0.34681659229915696,
          -0.6206391541625019,
          0.12742134556200654,
          1.3243431685994702,
          -0.8269302595340654,
          0.37966686811781725,
          -0.10344807908893425,
          -2.0544188879512295,
          -0.7464815409567633,
          -0.7767402402381235,
          -0.6637804281354422,
          1.2517385487669808,
          0.694873957911729,
          -0.06616754426101021,
          0.0826020637563963,
          -0.8335126220950743,
          1.5472354491421703,
          -1.1883781356830807,
          0.6959161155628883,
          1.6809774728363294,
          -0.23254175749586706,
          -1.9896207513535749,
          -0.23331842485528928,
          2.178970408821887,
          1.4573427100091558,
          -0.908432032880107,
          -0.44244867207382027,
          -0.4769298465440546,
          1.3442857447410939,
          0.8937306771278547,
          1.2884460982984527,
          0.25783105542154644,
          -0.5664819169183514,
          -0.18098321446330418,
          0.331616555740629,
          -0.8005687231433739,
          1.0988721156679697,
          0.23696136067638396,
          0.46500651711300106,
          -0.7528153647155813,
          1.3412978052129945,
          -1.0199703145796095,
          0.6413002728832091,
          -0.3193840554624845,
          -0.11664683969933677,
          0.9687749026453907,
          1.3239859553061233,
          -0.1362061691984603,
          1.2241312871811287,
          0.21623446478982422,
          -0.21314367553319472,
          0.720151826365811,
          1.462740448667771,
          -0.3436916812967713,
          0.4324993105508277,
          -1.5619649073250985,
          -2.112441929480903,
          0.06564522053701284,
          -0.28106050711775143,
          -0.07673876751490212,
          0.9800922196622552,
          0.03668337598725406,
          0.22327999074166194,
          0.37285586455157954
         ],
         "xaxis": "x6",
         "yaxis": "y6"
        },
        {
         "line": {
          "color": "rgba(128, 128, 128, 1.0)",
          "dash": "solid",
          "shape": "linear",
          "width": 1.3
         },
         "marker": {
          "size": 2,
          "symbol": "circle"
         },
         "mode": "markers",
         "name": "B",
         "text": "",
         "type": "scatter",
         "x": [
          -0.7966720853754534,
          0.6477728052325428,
          0.4831523041440157,
          0.3644435184704144,
          1.7007141482853403,
          0.9692581547170372,
          -1.0325150866471589,
          0.8894145090528843,
          0.026234933397009344,
          -1.4532861300849287,
          0.9996873342754028,
          -3.1540275979967087,
          0.4286746196441421,
          0.21544993442106897,
          0.32815484899890135,
          -0.2557793997881791,
          -0.5510292782435066,
          -0.037864298663310474,
          -0.3001542781668278,
          0.6547112586968563,
          -0.2638110259566244,
          0.04270028556177357,
          0.4588145661267505,
          0.6827466435778821,
          -0.6797951695755131,
          -0.631628789264434,
          1.2686739319914158,
          -0.13697469209737578,
          -0.37601739069121415,
          -0.8836269003850051,
          -1.4608143618016922,
          1.3273721485353875,
          -0.3303442629457333,
          -0.4926836056813009,
          -0.30853302763456075,
          0.12524399651365264,
          -1.0046688429128623,
          1.6056414456082,
          -0.6229691448825764,
          1.4544036889163034,
          -0.17925644736933535,
          0.6457018928601556,
          1.3057340404004254,
          1.0377701562575992,
          0.10067046378193285,
          -0.5193570479240552,
          1.018866169958515,
          -1.0160196153677243,
          0.5337100384623303,
          1.6205355319322285,
          -0.7913727440688946,
          -0.49715952576613726,
          -0.16625713899727948,
          0.11911935123826942,
          -1.0818057514661825,
          0.6097568557060469,
          -1.2965456248093972,
          1.0870876169513466,
          1.0750964186435534,
          0.05160589607207159,
          0.3245215550322822,
          0.5356023888365272,
          -0.4871544420614186,
          0.19487622359893275,
          1.5356466295486764,
          -0.14339976837204832,
          -0.09037003239094622,
          -0.15840485892250952,
          2.256471565398644,
          -0.40382312657022357,
          0.2748706392238591,
          -0.535589705332484,
          -0.3062539118189085,
          -0.6890911081506442,
          -0.3888945228846208,
          -2.5564725209949843,
          -1.7287793754882044,
          -0.17981800885973726,
          -2.031603307882673,
          -0.5612039428452245,
          -1.2630554683468047,
          0.33852167207166245,
          1.0099798166528304,
          -0.2860404232817684,
          1.315694043920557,
          0.46960186531811526,
          0.30832256911797395,
          -0.18939386825932636,
          1.6175828171719604,
          1.0777304529374765,
          -1.4665396721322217,
          -0.040704511478725704,
          -0.7183414312124572,
          -0.725399399095399,
          -0.5756244801360568,
          -0.6038091390486322,
          -1.1789772630804674,
          0.26877630285131504,
          -0.4822196912052415,
          1.0846006541025943
         ],
         "xaxis": "x7",
         "y": [
          -0.8411370469674633,
          0.8465936719276874,
          -2.0769241221253196,
          -0.6700626862026585,
          -0.5718851695463921,
          -0.09755403761810581,
          -0.44096635857130717,
          -0.19909691093629908,
          1.5488170316881231,
          -0.058357642546699194,
          0.919790098361005,
          0.3594851568227443,
          -0.8769963650114245,
          -0.269976233378358,
          0.24765485950810773,
          0.269321910169165,
          -0.5505010270008414,
          -0.4072869079940033,
          0.3517877394913619,
          -1.524489635082197,
          0.12522454045167053,
          0.9987328546532094,
          -1.3791792776183134,
          0.05423843887016417,
          0.2688011121653173,
          -0.19041155308139934,
          0.10695575141382495,
          1.7095876419986396,
          -1.170502100390321,
          0.9290949508011905,
          -0.1939790752819657,
          -0.9278782561160333,
          -0.38128376570696293,
          1.4196422528454338,
          -0.3327314727625212,
          1.1991026923111583,
          0.34681659229915696,
          -0.6206391541625019,
          0.12742134556200654,
          1.3243431685994702,
          -0.8269302595340654,
          0.37966686811781725,
          -0.10344807908893425,
          -2.0544188879512295,
          -0.7464815409567633,
          -0.7767402402381235,
          -0.6637804281354422,
          1.2517385487669808,
          0.694873957911729,
          -0.06616754426101021,
          0.0826020637563963,
          -0.8335126220950743,
          1.5472354491421703,
          -1.1883781356830807,
          0.6959161155628883,
          1.6809774728363294,
          -0.23254175749586706,
          -1.9896207513535749,
          -0.23331842485528928,
          2.178970408821887,
          1.4573427100091558,
          -0.908432032880107,
          -0.44244867207382027,
          -0.4769298465440546,
          1.3442857447410939,
          0.8937306771278547,
          1.2884460982984527,
          0.25783105542154644,
          -0.5664819169183514,
          -0.18098321446330418,
          0.331616555740629,
          -0.8005687231433739,
          1.0988721156679697,
          0.23696136067638396,
          0.46500651711300106,
          -0.7528153647155813,
          1.3412978052129945,
          -1.0199703145796095,
          0.6413002728832091,
          -0.3193840554624845,
          -0.11664683969933677,
          0.9687749026453907,
          1.3239859553061233,
          -0.1362061691984603,
          1.2241312871811287,
          0.21623446478982422,
          -0.21314367553319472,
          0.720151826365811,
          1.462740448667771,
          -0.3436916812967713,
          0.4324993105508277,
          -1.5619649073250985,
          -2.112441929480903,
          0.06564522053701284,
          -0.28106050711775143,
          -0.07673876751490212,
          0.9800922196622552,
          0.03668337598725406,
          0.22327999074166194,
          0.37285586455157954
         ],
         "yaxis": "y7"
        },
        {
         "line": {
          "color": "rgba(128, 128, 128, 1.0)",
          "dash": "solid",
          "shape": "linear",
          "width": 1.3
         },
         "marker": {
          "size": 2,
          "symbol": "circle"
         },
         "mode": "markers",
         "name": "B",
         "text": "",
         "type": "scatter",
         "x": [
          -0.1676826507525291,
          1.2118809377684863,
          -0.14438510911805277,
          -1.2551541941825473,
          0.47279567513124054,
          -0.13691972737133096,
          -0.6546286217807619,
          -2.0102159510958035,
          1.1208802815514152,
          -0.29512508742796867,
          -1.5022522770964233,
          1.228763629283435,
          0.44696925851188624,
          -0.2503946001911159,
          1.345947912693738,
          -0.7338677287033788,
          -0.7782797541960733,
          0.45719078900464705,
          0.30022047398068186,
          1.273494902181814,
          -0.942096576425137,
          -1.5984355314179504,
          -0.2081335137358246,
          -1.119897696669353,
          1.1558179289865356,
          0.5253760769966458,
          1.4829236805169717,
          -0.20820180768859525,
          0.2599409088733281,
          0.8299263627400496,
          0.6945443956044238,
          0.9487852193715961,
          1.6049832655815006,
          0.6936468603647309,
          0.2576136153170773,
          0.35604033694235443,
          -0.9478443375481954,
          -1.803235372150516,
          -0.17490836960946665,
          1.2990750788239707,
          -0.11963436583981464,
          -0.14107216164782235,
          -0.4994749068208888,
          -0.5039462481034059,
          0.4078937285732624,
          -1.3623983044468144,
          -0.5599219479314879,
          -0.8890190693870289,
          -0.5453171088827993,
          -0.19400809571131336,
          0.4379296859477579,
          0.9569927628817722,
          0.568551150400114,
          0.4901505521614311,
          -0.629448856594338,
          -0.1760792563046624,
          2.1872697925391145,
          -1.7987168928322443,
          0.00021761034255523358,
          -0.1493581045492578,
          -0.005807956057387215,
          -0.2521294841944818,
          0.5150335079331775,
          -0.33282032997917643,
          0.7320714223225012,
          1.213091682920328,
          0.08904856186822144,
          0.546964360145978,
          -0.5654829559521772,
          -0.5280370228475944,
          1.569885386573116,
          0.06951485652561938,
          0.5586098056639801,
          0.9944724520541559,
          -1.232692345109615,
          0.20649908737588069,
          0.9274326694569818,
          -1.4931803060081321,
          0.5069500577515356,
          -0.10169518484504181,
          0.7706117793406162,
          -0.6517223336891163,
          -2.0926704674673844,
          0.31484554724907154,
          1.9575227469312708,
          -0.4301303958607313,
          -0.5787778118510103,
          -1.0119872017638747,
          -0.40228534601618143,
          2.038756953851408,
          -0.12949232464568516,
          -0.6066494611386877,
          0.3603753685797563,
          0.34132630582604756,
          0.5730529829040087,
          1.0288673586415396,
          1.664345573048318,
          1.3486877908341262,
          -0.484387603012384,
          0.3733001066111924
         ],
         "xaxis": "x8",
         "y": [
          -0.8411370469674633,
          0.8465936719276874,
          -2.0769241221253196,
          -0.6700626862026585,
          -0.5718851695463921,
          -0.09755403761810581,
          -0.44096635857130717,
          -0.19909691093629908,
          1.5488170316881231,
          -0.058357642546699194,
          0.919790098361005,
          0.3594851568227443,
          -0.8769963650114245,
          -0.269976233378358,
          0.24765485950810773,
          0.269321910169165,
          -0.5505010270008414,
          -0.4072869079940033,
          0.3517877394913619,
          -1.524489635082197,
          0.12522454045167053,
          0.9987328546532094,
          -1.3791792776183134,
          0.05423843887016417,
          0.2688011121653173,
          -0.19041155308139934,
          0.10695575141382495,
          1.7095876419986396,
          -1.170502100390321,
          0.9290949508011905,
          -0.1939790752819657,
          -0.9278782561160333,
          -0.38128376570696293,
          1.4196422528454338,
          -0.3327314727625212,
          1.1991026923111583,
          0.34681659229915696,
          -0.6206391541625019,
          0.12742134556200654,
          1.3243431685994702,
          -0.8269302595340654,
          0.37966686811781725,
          -0.10344807908893425,
          -2.0544188879512295,
          -0.7464815409567633,
          -0.7767402402381235,
          -0.6637804281354422,
          1.2517385487669808,
          0.694873957911729,
          -0.06616754426101021,
          0.0826020637563963,
          -0.8335126220950743,
          1.5472354491421703,
          -1.1883781356830807,
          0.6959161155628883,
          1.6809774728363294,
          -0.23254175749586706,
          -1.9896207513535749,
          -0.23331842485528928,
          2.178970408821887,
          1.4573427100091558,
          -0.908432032880107,
          -0.44244867207382027,
          -0.4769298465440546,
          1.3442857447410939,
          0.8937306771278547,
          1.2884460982984527,
          0.25783105542154644,
          -0.5664819169183514,
          -0.18098321446330418,
          0.331616555740629,
          -0.8005687231433739,
          1.0988721156679697,
          0.23696136067638396,
          0.46500651711300106,
          -0.7528153647155813,
          1.3412978052129945,
          -1.0199703145796095,
          0.6413002728832091,
          -0.3193840554624845,
          -0.11664683969933677,
          0.9687749026453907,
          1.3239859553061233,
          -0.1362061691984603,
          1.2241312871811287,
          0.21623446478982422,
          -0.21314367553319472,
          0.720151826365811,
          1.462740448667771,
          -0.3436916812967713,
          0.4324993105508277,
          -1.5619649073250985,
          -2.112441929480903,
          0.06564522053701284,
          -0.28106050711775143,
          -0.07673876751490212,
          0.9800922196622552,
          0.03668337598725406,
          0.22327999074166194,
          0.37285586455157954
         ],
         "yaxis": "y8"
        },
        {
         "line": {
          "color": "rgba(128, 128, 128, 1.0)",
          "dash": "solid",
          "shape": "linear",
          "width": 1.3
         },
         "marker": {
          "size": 2,
          "symbol": "circle"
         },
         "mode": "markers",
         "name": "C",
         "text": "",
         "type": "scatter",
         "x": [
          -0.06542778015912247,
          -0.4983315985004792,
          -0.3932665761127589,
          -0.10616396259826238,
          -0.26207506689955234,
          0.7886670736320832,
          -0.14377426502187782,
          -0.15273724910094455,
          -1.1338234021817963,
          0.0009770267116028946,
          -0.7324620416267447,
          0.06043111318599064,
          0.623615648635299,
          -0.9898932119379665,
          -0.45086070577257026,
          -0.830303964658216,
          1.5716630654715504,
          -1.0974693696329356,
          0.4558388327103945,
          1.2170495932316205,
          -0.32981680298429955,
          0.2582423394595888,
          0.4888856866509463,
          -0.6121681967574407,
          -0.5414245020009553,
          2.713140457391276,
          1.7423907028996293,
          0.14142226924657475,
          1.6632119799987835,
          -1.1316432740780005,
          0.3761480797940717,
          -0.5145111245715915,
          0.15963736908855272,
          0.8356735998848508,
          -0.3565600825442002,
          1.157899333248228,
          -0.4096165797423869,
          0.5249195501867103,
          0.5653237593734552,
          1.072675824030473,
          -1.7986968659667908,
          0.09444932233020178,
          0.37476626326860707,
          -0.06564736959465206,
          0.28052433882468464,
          0.7190140964012359,
          -1.5830392770914365,
          0.2644929549909655,
          -1.0006939493489782,
          0.23636146599124183,
          0.39176536250665306,
          1.0010977258940492,
          0.10143316005483165,
          -0.3368213254581548,
          -0.2971587471713649,
          -0.026228244623694424,
          0.6624173371633474,
          -1.7218637928707545,
          -0.5923164125061781,
          -0.34970068099215595,
          -0.12555665412014028,
          -0.16897186432076375,
          0.40905865555379467,
          -0.6632048676391282,
          1.0816531446896442,
          -0.08061085564831709,
          -0.6898727254749667,
          -0.05582287614843459,
          0.019644984580532536,
          -0.24593277126504068,
          0.2647198186254047,
          -2.6985599960128646,
          -0.2857060352657619,
          -0.7059336808840253,
          0.17851344877915792,
          -1.1872112018363015,
          0.356400427218362,
          0.6949620719212402,
          1.7193507242959798,
          0.15045354017786597,
          -0.18479491530568848,
          -1.239764615178371,
          0.09444746482720447,
          -0.45253402974609547,
          1.5240444051796522,
          -0.7166957289144503,
          1.5593468757849867,
          -1.8811576668979677,
          -1.4952705913795905,
          0.23129604965371198,
          -0.008759735894900082,
          0.15443482118378815,
          -1.4297427857966751,
          -0.06765988265773787,
          -0.996787930590609,
          -0.4145939334371296,
          -0.43632955465216916,
          -0.7186990577837588,
          0.5636984699664023,
          0.21842881420586344
         ],
         "xaxis": "x9",
         "y": [
          -0.7966720853754534,
          0.6477728052325428,
          0.4831523041440157,
          0.3644435184704144,
          1.7007141482853403,
          0.9692581547170372,
          -1.0325150866471589,
          0.8894145090528843,
          0.026234933397009344,
          -1.4532861300849287,
          0.9996873342754028,
          -3.1540275979967087,
          0.4286746196441421,
          0.21544993442106897,
          0.32815484899890135,
          -0.2557793997881791,
          -0.5510292782435066,
          -0.037864298663310474,
          -0.3001542781668278,
          0.6547112586968563,
          -0.2638110259566244,
          0.04270028556177357,
          0.4588145661267505,
          0.6827466435778821,
          -0.6797951695755131,
          -0.631628789264434,
          1.2686739319914158,
          -0.13697469209737578,
          -0.37601739069121415,
          -0.8836269003850051,
          -1.4608143618016922,
          1.3273721485353875,
          -0.3303442629457333,
          -0.4926836056813009,
          -0.30853302763456075,
          0.12524399651365264,
          -1.0046688429128623,
          1.6056414456082,
          -0.6229691448825764,
          1.4544036889163034,
          -0.17925644736933535,
          0.6457018928601556,
          1.3057340404004254,
          1.0377701562575992,
          0.10067046378193285,
          -0.5193570479240552,
          1.018866169958515,
          -1.0160196153677243,
          0.5337100384623303,
          1.6205355319322285,
          -0.7913727440688946,
          -0.49715952576613726,
          -0.16625713899727948,
          0.11911935123826942,
          -1.0818057514661825,
          0.6097568557060469,
          -1.2965456248093972,
          1.0870876169513466,
          1.0750964186435534,
          0.05160589607207159,
          0.3245215550322822,
          0.5356023888365272,
          -0.4871544420614186,
          0.19487622359893275,
          1.5356466295486764,
          -0.14339976837204832,
          -0.09037003239094622,
          -0.15840485892250952,
          2.256471565398644,
          -0.40382312657022357,
          0.2748706392238591,
          -0.535589705332484,
          -0.3062539118189085,
          -0.6890911081506442,
          -0.3888945228846208,
          -2.5564725209949843,
          -1.7287793754882044,
          -0.17981800885973726,
          -2.031603307882673,
          -0.5612039428452245,
          -1.2630554683468047,
          0.33852167207166245,
          1.0099798166528304,
          -0.2860404232817684,
          1.315694043920557,
          0.46960186531811526,
          0.30832256911797395,
          -0.18939386825932636,
          1.6175828171719604,
          1.0777304529374765,
          -1.4665396721322217,
          -0.040704511478725704,
          -0.7183414312124572,
          -0.725399399095399,
          -0.5756244801360568,
          -0.6038091390486322,
          -1.1789772630804674,
          0.26877630285131504,
          -0.4822196912052415,
          1.0846006541025943
         ],
         "yaxis": "y9"
        },
        {
         "line": {
          "color": "rgba(128, 128, 128, 1.0)",
          "dash": "solid",
          "shape": "linear",
          "width": 1.3
         },
         "marker": {
          "size": 2,
          "symbol": "circle"
         },
         "mode": "markers",
         "name": "C",
         "text": "",
         "type": "scatter",
         "x": [
          -0.8411370469674633,
          0.8465936719276874,
          -2.0769241221253196,
          -0.6700626862026585,
          -0.5718851695463921,
          -0.09755403761810581,
          -0.44096635857130717,
          -0.19909691093629908,
          1.5488170316881231,
          -0.058357642546699194,
          0.919790098361005,
          0.3594851568227443,
          -0.8769963650114245,
          -0.269976233378358,
          0.24765485950810773,
          0.269321910169165,
          -0.5505010270008414,
          -0.4072869079940033,
          0.3517877394913619,
          -1.524489635082197,
          0.12522454045167053,
          0.9987328546532094,
          -1.3791792776183134,
          0.05423843887016417,
          0.2688011121653173,
          -0.19041155308139934,
          0.10695575141382495,
          1.7095876419986396,
          -1.170502100390321,
          0.9290949508011905,
          -0.1939790752819657,
          -0.9278782561160333,
          -0.38128376570696293,
          1.4196422528454338,
          -0.3327314727625212,
          1.1991026923111583,
          0.34681659229915696,
          -0.6206391541625019,
          0.12742134556200654,
          1.3243431685994702,
          -0.8269302595340654,
          0.37966686811781725,
          -0.10344807908893425,
          -2.0544188879512295,
          -0.7464815409567633,
          -0.7767402402381235,
          -0.6637804281354422,
          1.2517385487669808,
          0.694873957911729,
          -0.06616754426101021,
          0.0826020637563963,
          -0.8335126220950743,
          1.5472354491421703,
          -1.1883781356830807,
          0.6959161155628883,
          1.6809774728363294,
          -0.23254175749586706,
          -1.9896207513535749,
          -0.23331842485528928,
          2.178970408821887,
          1.4573427100091558,
          -0.908432032880107,
          -0.44244867207382027,
          -0.4769298465440546,
          1.3442857447410939,
          0.8937306771278547,
          1.2884460982984527,
          0.25783105542154644,
          -0.5664819169183514,
          -0.18098321446330418,
          0.331616555740629,
          -0.8005687231433739,
          1.0988721156679697,
          0.23696136067638396,
          0.46500651711300106,
          -0.7528153647155813,
          1.3412978052129945,
          -1.0199703145796095,
          0.6413002728832091,
          -0.3193840554624845,
          -0.11664683969933677,
          0.9687749026453907,
          1.3239859553061233,
          -0.1362061691984603,
          1.2241312871811287,
          0.21623446478982422,
          -0.21314367553319472,
          0.720151826365811,
          1.462740448667771,
          -0.3436916812967713,
          0.4324993105508277,
          -1.5619649073250985,
          -2.112441929480903,
          0.06564522053701284,
          -0.28106050711775143,
          -0.07673876751490212,
          0.9800922196622552,
          0.03668337598725406,
          0.22327999074166194,
          0.37285586455157954
         ],
         "xaxis": "x10",
         "y": [
          -0.7966720853754534,
          0.6477728052325428,
          0.4831523041440157,
          0.3644435184704144,
          1.7007141482853403,
          0.9692581547170372,
          -1.0325150866471589,
          0.8894145090528843,
          0.026234933397009344,
          -1.4532861300849287,
          0.9996873342754028,
          -3.1540275979967087,
          0.4286746196441421,
          0.21544993442106897,
          0.32815484899890135,
          -0.2557793997881791,
          -0.5510292782435066,
          -0.037864298663310474,
          -0.3001542781668278,
          0.6547112586968563,
          -0.2638110259566244,
          0.04270028556177357,
          0.4588145661267505,
          0.6827466435778821,
          -0.6797951695755131,
          -0.631628789264434,
          1.2686739319914158,
          -0.13697469209737578,
          -0.37601739069121415,
          -0.8836269003850051,
          -1.4608143618016922,
          1.3273721485353875,
          -0.3303442629457333,
          -0.4926836056813009,
          -0.30853302763456075,
          0.12524399651365264,
          -1.0046688429128623,
          1.6056414456082,
          -0.6229691448825764,
          1.4544036889163034,
          -0.17925644736933535,
          0.6457018928601556,
          1.3057340404004254,
          1.0377701562575992,
          0.10067046378193285,
          -0.5193570479240552,
          1.018866169958515,
          -1.0160196153677243,
          0.5337100384623303,
          1.6205355319322285,
          -0.7913727440688946,
          -0.49715952576613726,
          -0.16625713899727948,
          0.11911935123826942,
          -1.0818057514661825,
          0.6097568557060469,
          -1.2965456248093972,
          1.0870876169513466,
          1.0750964186435534,
          0.05160589607207159,
          0.3245215550322822,
          0.5356023888365272,
          -0.4871544420614186,
          0.19487622359893275,
          1.5356466295486764,
          -0.14339976837204832,
          -0.09037003239094622,
          -0.15840485892250952,
          2.256471565398644,
          -0.40382312657022357,
          0.2748706392238591,
          -0.535589705332484,
          -0.3062539118189085,
          -0.6890911081506442,
          -0.3888945228846208,
          -2.5564725209949843,
          -1.7287793754882044,
          -0.17981800885973726,
          -2.031603307882673,
          -0.5612039428452245,
          -1.2630554683468047,
          0.33852167207166245,
          1.0099798166528304,
          -0.2860404232817684,
          1.315694043920557,
          0.46960186531811526,
          0.30832256911797395,
          -0.18939386825932636,
          1.6175828171719604,
          1.0777304529374765,
          -1.4665396721322217,
          -0.040704511478725704,
          -0.7183414312124572,
          -0.725399399095399,
          -0.5756244801360568,
          -0.6038091390486322,
          -1.1789772630804674,
          0.26877630285131504,
          -0.4822196912052415,
          1.0846006541025943
         ],
         "yaxis": "y10"
        },
        {
         "histfunc": "count",
         "histnorm": "",
         "marker": {
          "color": "rgba(50, 171, 96, 1.0)",
          "line": {
           "color": "#4D5663",
           "width": 1.3
          }
         },
         "name": "C",
         "nbinsx": 10,
         "opacity": 0.8,
         "orientation": "v",
         "type": "histogram",
         "x": [
          -0.7966720853754534,
          0.6477728052325428,
          0.4831523041440157,
          0.3644435184704144,
          1.7007141482853403,
          0.9692581547170372,
          -1.0325150866471589,
          0.8894145090528843,
          0.026234933397009344,
          -1.4532861300849287,
          0.9996873342754028,
          -3.1540275979967087,
          0.4286746196441421,
          0.21544993442106897,
          0.32815484899890135,
          -0.2557793997881791,
          -0.5510292782435066,
          -0.037864298663310474,
          -0.3001542781668278,
          0.6547112586968563,
          -0.2638110259566244,
          0.04270028556177357,
          0.4588145661267505,
          0.6827466435778821,
          -0.6797951695755131,
          -0.631628789264434,
          1.2686739319914158,
          -0.13697469209737578,
          -0.37601739069121415,
          -0.8836269003850051,
          -1.4608143618016922,
          1.3273721485353875,
          -0.3303442629457333,
          -0.4926836056813009,
          -0.30853302763456075,
          0.12524399651365264,
          -1.0046688429128623,
          1.6056414456082,
          -0.6229691448825764,
          1.4544036889163034,
          -0.17925644736933535,
          0.6457018928601556,
          1.3057340404004254,
          1.0377701562575992,
          0.10067046378193285,
          -0.5193570479240552,
          1.018866169958515,
          -1.0160196153677243,
          0.5337100384623303,
          1.6205355319322285,
          -0.7913727440688946,
          -0.49715952576613726,
          -0.16625713899727948,
          0.11911935123826942,
          -1.0818057514661825,
          0.6097568557060469,
          -1.2965456248093972,
          1.0870876169513466,
          1.0750964186435534,
          0.05160589607207159,
          0.3245215550322822,
          0.5356023888365272,
          -0.4871544420614186,
          0.19487622359893275,
          1.5356466295486764,
          -0.14339976837204832,
          -0.09037003239094622,
          -0.15840485892250952,
          2.256471565398644,
          -0.40382312657022357,
          0.2748706392238591,
          -0.535589705332484,
          -0.3062539118189085,
          -0.6890911081506442,
          -0.3888945228846208,
          -2.5564725209949843,
          -1.7287793754882044,
          -0.17981800885973726,
          -2.031603307882673,
          -0.5612039428452245,
          -1.2630554683468047,
          0.33852167207166245,
          1.0099798166528304,
          -0.2860404232817684,
          1.315694043920557,
          0.46960186531811526,
          0.30832256911797395,
          -0.18939386825932636,
          1.6175828171719604,
          1.0777304529374765,
          -1.4665396721322217,
          -0.040704511478725704,
          -0.7183414312124572,
          -0.725399399095399,
          -0.5756244801360568,
          -0.6038091390486322,
          -1.1789772630804674,
          0.26877630285131504,
          -0.4822196912052415,
          1.0846006541025943
         ],
         "xaxis": "x11",
         "yaxis": "y11"
        },
        {
         "line": {
          "color": "rgba(128, 128, 128, 1.0)",
          "dash": "solid",
          "shape": "linear",
          "width": 1.3
         },
         "marker": {
          "size": 2,
          "symbol": "circle"
         },
         "mode": "markers",
         "name": "C",
         "text": "",
         "type": "scatter",
         "x": [
          -0.1676826507525291,
          1.2118809377684863,
          -0.14438510911805277,
          -1.2551541941825473,
          0.47279567513124054,
          -0.13691972737133096,
          -0.6546286217807619,
          -2.0102159510958035,
          1.1208802815514152,
          -0.29512508742796867,
          -1.5022522770964233,
          1.228763629283435,
          0.44696925851188624,
          -0.2503946001911159,
          1.345947912693738,
          -0.7338677287033788,
          -0.7782797541960733,
          0.45719078900464705,
          0.30022047398068186,
          1.273494902181814,
          -0.942096576425137,
          -1.5984355314179504,
          -0.2081335137358246,
          -1.119897696669353,
          1.1558179289865356,
          0.5253760769966458,
          1.4829236805169717,
          -0.20820180768859525,
          0.2599409088733281,
          0.8299263627400496,
          0.6945443956044238,
          0.9487852193715961,
          1.6049832655815006,
          0.6936468603647309,
          0.2576136153170773,
          0.35604033694235443,
          -0.9478443375481954,
          -1.803235372150516,
          -0.17490836960946665,
          1.2990750788239707,
          -0.11963436583981464,
          -0.14107216164782235,
          -0.4994749068208888,
          -0.5039462481034059,
          0.4078937285732624,
          -1.3623983044468144,
          -0.5599219479314879,
          -0.8890190693870289,
          -0.5453171088827993,
          -0.19400809571131336,
          0.4379296859477579,
          0.9569927628817722,
          0.568551150400114,
          0.4901505521614311,
          -0.629448856594338,
          -0.1760792563046624,
          2.1872697925391145,
          -1.7987168928322443,
          0.00021761034255523358,
          -0.1493581045492578,
          -0.005807956057387215,
          -0.2521294841944818,
          0.5150335079331775,
          -0.33282032997917643,
          0.7320714223225012,
          1.213091682920328,
          0.08904856186822144,
          0.546964360145978,
          -0.5654829559521772,
          -0.5280370228475944,
          1.569885386573116,
          0.06951485652561938,
          0.5586098056639801,
          0.9944724520541559,
          -1.232692345109615,
          0.20649908737588069,
          0.9274326694569818,
          -1.4931803060081321,
          0.5069500577515356,
          -0.10169518484504181,
          0.7706117793406162,
          -0.6517223336891163,
          -2.0926704674673844,
          0.31484554724907154,
          1.9575227469312708,
          -0.4301303958607313,
          -0.5787778118510103,
          -1.0119872017638747,
          -0.40228534601618143,
          2.038756953851408,
          -0.12949232464568516,
          -0.6066494611386877,
          0.3603753685797563,
          0.34132630582604756,
          0.5730529829040087,
          1.0288673586415396,
          1.664345573048318,
          1.3486877908341262,
          -0.484387603012384,
          0.3733001066111924
         ],
         "xaxis": "x12",
         "y": [
          -0.7966720853754534,
          0.6477728052325428,
          0.4831523041440157,
          0.3644435184704144,
          1.7007141482853403,
          0.9692581547170372,
          -1.0325150866471589,
          0.8894145090528843,
          0.026234933397009344,
          -1.4532861300849287,
          0.9996873342754028,
          -3.1540275979967087,
          0.4286746196441421,
          0.21544993442106897,
          0.32815484899890135,
          -0.2557793997881791,
          -0.5510292782435066,
          -0.037864298663310474,
          -0.3001542781668278,
          0.6547112586968563,
          -0.2638110259566244,
          0.04270028556177357,
          0.4588145661267505,
          0.6827466435778821,
          -0.6797951695755131,
          -0.631628789264434,
          1.2686739319914158,
          -0.13697469209737578,
          -0.37601739069121415,
          -0.8836269003850051,
          -1.4608143618016922,
          1.3273721485353875,
          -0.3303442629457333,
          -0.4926836056813009,
          -0.30853302763456075,
          0.12524399651365264,
          -1.0046688429128623,
          1.6056414456082,
          -0.6229691448825764,
          1.4544036889163034,
          -0.17925644736933535,
          0.6457018928601556,
          1.3057340404004254,
          1.0377701562575992,
          0.10067046378193285,
          -0.5193570479240552,
          1.018866169958515,
          -1.0160196153677243,
          0.5337100384623303,
          1.6205355319322285,
          -0.7913727440688946,
          -0.49715952576613726,
          -0.16625713899727948,
          0.11911935123826942,
          -1.0818057514661825,
          0.6097568557060469,
          -1.2965456248093972,
          1.0870876169513466,
          1.0750964186435534,
          0.05160589607207159,
          0.3245215550322822,
          0.5356023888365272,
          -0.4871544420614186,
          0.19487622359893275,
          1.5356466295486764,
          -0.14339976837204832,
          -0.09037003239094622,
          -0.15840485892250952,
          2.256471565398644,
          -0.40382312657022357,
          0.2748706392238591,
          -0.535589705332484,
          -0.3062539118189085,
          -0.6890911081506442,
          -0.3888945228846208,
          -2.5564725209949843,
          -1.7287793754882044,
          -0.17981800885973726,
          -2.031603307882673,
          -0.5612039428452245,
          -1.2630554683468047,
          0.33852167207166245,
          1.0099798166528304,
          -0.2860404232817684,
          1.315694043920557,
          0.46960186531811526,
          0.30832256911797395,
          -0.18939386825932636,
          1.6175828171719604,
          1.0777304529374765,
          -1.4665396721322217,
          -0.040704511478725704,
          -0.7183414312124572,
          -0.725399399095399,
          -0.5756244801360568,
          -0.6038091390486322,
          -1.1789772630804674,
          0.26877630285131504,
          -0.4822196912052415,
          1.0846006541025943
         ],
         "yaxis": "y12"
        },
        {
         "line": {
          "color": "rgba(128, 128, 128, 1.0)",
          "dash": "solid",
          "shape": "linear",
          "width": 1.3
         },
         "marker": {
          "size": 2,
          "symbol": "circle"
         },
         "mode": "markers",
         "name": "D",
         "text": "",
         "type": "scatter",
         "x": [
          -0.06542778015912247,
          -0.4983315985004792,
          -0.3932665761127589,
          -0.10616396259826238,
          -0.26207506689955234,
          0.7886670736320832,
          -0.14377426502187782,
          -0.15273724910094455,
          -1.1338234021817963,
          0.0009770267116028946,
          -0.7324620416267447,
          0.06043111318599064,
          0.623615648635299,
          -0.9898932119379665,
          -0.45086070577257026,
          -0.830303964658216,
          1.5716630654715504,
          -1.0974693696329356,
          0.4558388327103945,
          1.2170495932316205,
          -0.32981680298429955,
          0.2582423394595888,
          0.4888856866509463,
          -0.6121681967574407,
          -0.5414245020009553,
          2.713140457391276,
          1.7423907028996293,
          0.14142226924657475,
          1.6632119799987835,
          -1.1316432740780005,
          0.3761480797940717,
          -0.5145111245715915,
          0.15963736908855272,
          0.8356735998848508,
          -0.3565600825442002,
          1.157899333248228,
          -0.4096165797423869,
          0.5249195501867103,
          0.5653237593734552,
          1.072675824030473,
          -1.7986968659667908,
          0.09444932233020178,
          0.37476626326860707,
          -0.06564736959465206,
          0.28052433882468464,
          0.7190140964012359,
          -1.5830392770914365,
          0.2644929549909655,
          -1.0006939493489782,
          0.23636146599124183,
          0.39176536250665306,
          1.0010977258940492,
          0.10143316005483165,
          -0.3368213254581548,
          -0.2971587471713649,
          -0.026228244623694424,
          0.6624173371633474,
          -1.7218637928707545,
          -0.5923164125061781,
          -0.34970068099215595,
          -0.12555665412014028,
          -0.16897186432076375,
          0.40905865555379467,
          -0.6632048676391282,
          1.0816531446896442,
          -0.08061085564831709,
          -0.6898727254749667,
          -0.05582287614843459,
          0.019644984580532536,
          -0.24593277126504068,
          0.2647198186254047,
          -2.6985599960128646,
          -0.2857060352657619,
          -0.7059336808840253,
          0.17851344877915792,
          -1.1872112018363015,
          0.356400427218362,
          0.6949620719212402,
          1.7193507242959798,
          0.15045354017786597,
          -0.18479491530568848,
          -1.239764615178371,
          0.09444746482720447,
          -0.45253402974609547,
          1.5240444051796522,
          -0.7166957289144503,
          1.5593468757849867,
          -1.8811576668979677,
          -1.4952705913795905,
          0.23129604965371198,
          -0.008759735894900082,
          0.15443482118378815,
          -1.4297427857966751,
          -0.06765988265773787,
          -0.996787930590609,
          -0.4145939334371296,
          -0.43632955465216916,
          -0.7186990577837588,
          0.5636984699664023,
          0.21842881420586344
         ],
         "xaxis": "x13",
         "y": [
          -0.1676826507525291,
          1.2118809377684863,
          -0.14438510911805277,
          -1.2551541941825473,
          0.47279567513124054,
          -0.13691972737133096,
          -0.6546286217807619,
          -2.0102159510958035,
          1.1208802815514152,
          -0.29512508742796867,
          -1.5022522770964233,
          1.228763629283435,
          0.44696925851188624,
          -0.2503946001911159,
          1.345947912693738,
          -0.7338677287033788,
          -0.7782797541960733,
          0.45719078900464705,
          0.30022047398068186,
          1.273494902181814,
          -0.942096576425137,
          -1.5984355314179504,
          -0.2081335137358246,
          -1.119897696669353,
          1.1558179289865356,
          0.5253760769966458,
          1.4829236805169717,
          -0.20820180768859525,
          0.2599409088733281,
          0.8299263627400496,
          0.6945443956044238,
          0.9487852193715961,
          1.6049832655815006,
          0.6936468603647309,
          0.2576136153170773,
          0.35604033694235443,
          -0.9478443375481954,
          -1.803235372150516,
          -0.17490836960946665,
          1.2990750788239707,
          -0.11963436583981464,
          -0.14107216164782235,
          -0.4994749068208888,
          -0.5039462481034059,
          0.4078937285732624,
          -1.3623983044468144,
          -0.5599219479314879,
          -0.8890190693870289,
          -0.5453171088827993,
          -0.19400809571131336,
          0.4379296859477579,
          0.9569927628817722,
          0.568551150400114,
          0.4901505521614311,
          -0.629448856594338,
          -0.1760792563046624,
          2.1872697925391145,
          -1.7987168928322443,
          0.00021761034255523358,
          -0.1493581045492578,
          -0.005807956057387215,
          -0.2521294841944818,
          0.5150335079331775,
          -0.33282032997917643,
          0.7320714223225012,
          1.213091682920328,
          0.08904856186822144,
          0.546964360145978,
          -0.5654829559521772,
          -0.5280370228475944,
          1.569885386573116,
          0.06951485652561938,
          0.5586098056639801,
          0.9944724520541559,
          -1.232692345109615,
          0.20649908737588069,
          0.9274326694569818,
          -1.4931803060081321,
          0.5069500577515356,
          -0.10169518484504181,
          0.7706117793406162,
          -0.6517223336891163,
          -2.0926704674673844,
          0.31484554724907154,
          1.9575227469312708,
          -0.4301303958607313,
          -0.5787778118510103,
          -1.0119872017638747,
          -0.40228534601618143,
          2.038756953851408,
          -0.12949232464568516,
          -0.6066494611386877,
          0.3603753685797563,
          0.34132630582604756,
          0.5730529829040087,
          1.0288673586415396,
          1.664345573048318,
          1.3486877908341262,
          -0.484387603012384,
          0.3733001066111924
         ],
         "yaxis": "y13"
        },
        {
         "line": {
          "color": "rgba(128, 128, 128, 1.0)",
          "dash": "solid",
          "shape": "linear",
          "width": 1.3
         },
         "marker": {
          "size": 2,
          "symbol": "circle"
         },
         "mode": "markers",
         "name": "D",
         "text": "",
         "type": "scatter",
         "x": [
          -0.8411370469674633,
          0.8465936719276874,
          -2.0769241221253196,
          -0.6700626862026585,
          -0.5718851695463921,
          -0.09755403761810581,
          -0.44096635857130717,
          -0.19909691093629908,
          1.5488170316881231,
          -0.058357642546699194,
          0.919790098361005,
          0.3594851568227443,
          -0.8769963650114245,
          -0.269976233378358,
          0.24765485950810773,
          0.269321910169165,
          -0.5505010270008414,
          -0.4072869079940033,
          0.3517877394913619,
          -1.524489635082197,
          0.12522454045167053,
          0.9987328546532094,
          -1.3791792776183134,
          0.05423843887016417,
          0.2688011121653173,
          -0.19041155308139934,
          0.10695575141382495,
          1.7095876419986396,
          -1.170502100390321,
          0.9290949508011905,
          -0.1939790752819657,
          -0.9278782561160333,
          -0.38128376570696293,
          1.4196422528454338,
          -0.3327314727625212,
          1.1991026923111583,
          0.34681659229915696,
          -0.6206391541625019,
          0.12742134556200654,
          1.3243431685994702,
          -0.8269302595340654,
          0.37966686811781725,
          -0.10344807908893425,
          -2.0544188879512295,
          -0.7464815409567633,
          -0.7767402402381235,
          -0.6637804281354422,
          1.2517385487669808,
          0.694873957911729,
          -0.06616754426101021,
          0.0826020637563963,
          -0.8335126220950743,
          1.5472354491421703,
          -1.1883781356830807,
          0.6959161155628883,
          1.6809774728363294,
          -0.23254175749586706,
          -1.9896207513535749,
          -0.23331842485528928,
          2.178970408821887,
          1.4573427100091558,
          -0.908432032880107,
          -0.44244867207382027,
          -0.4769298465440546,
          1.3442857447410939,
          0.8937306771278547,
          1.2884460982984527,
          0.25783105542154644,
          -0.5664819169183514,
          -0.18098321446330418,
          0.331616555740629,
          -0.8005687231433739,
          1.0988721156679697,
          0.23696136067638396,
          0.46500651711300106,
          -0.7528153647155813,
          1.3412978052129945,
          -1.0199703145796095,
          0.6413002728832091,
          -0.3193840554624845,
          -0.11664683969933677,
          0.9687749026453907,
          1.3239859553061233,
          -0.1362061691984603,
          1.2241312871811287,
          0.21623446478982422,
          -0.21314367553319472,
          0.720151826365811,
          1.462740448667771,
          -0.3436916812967713,
          0.4324993105508277,
          -1.5619649073250985,
          -2.112441929480903,
          0.06564522053701284,
          -0.28106050711775143,
          -0.07673876751490212,
          0.9800922196622552,
          0.03668337598725406,
          0.22327999074166194,
          0.37285586455157954
         ],
         "xaxis": "x14",
         "y": [
          -0.1676826507525291,
          1.2118809377684863,
          -0.14438510911805277,
          -1.2551541941825473,
          0.47279567513124054,
          -0.13691972737133096,
          -0.6546286217807619,
          -2.0102159510958035,
          1.1208802815514152,
          -0.29512508742796867,
          -1.5022522770964233,
          1.228763629283435,
          0.44696925851188624,
          -0.2503946001911159,
          1.345947912693738,
          -0.7338677287033788,
          -0.7782797541960733,
          0.45719078900464705,
          0.30022047398068186,
          1.273494902181814,
          -0.942096576425137,
          -1.5984355314179504,
          -0.2081335137358246,
          -1.119897696669353,
          1.1558179289865356,
          0.5253760769966458,
          1.4829236805169717,
          -0.20820180768859525,
          0.2599409088733281,
          0.8299263627400496,
          0.6945443956044238,
          0.9487852193715961,
          1.6049832655815006,
          0.6936468603647309,
          0.2576136153170773,
          0.35604033694235443,
          -0.9478443375481954,
          -1.803235372150516,
          -0.17490836960946665,
          1.2990750788239707,
          -0.11963436583981464,
          -0.14107216164782235,
          -0.4994749068208888,
          -0.5039462481034059,
          0.4078937285732624,
          -1.3623983044468144,
          -0.5599219479314879,
          -0.8890190693870289,
          -0.5453171088827993,
          -0.19400809571131336,
          0.4379296859477579,
          0.9569927628817722,
          0.568551150400114,
          0.4901505521614311,
          -0.629448856594338,
          -0.1760792563046624,
          2.1872697925391145,
          -1.7987168928322443,
          0.00021761034255523358,
          -0.1493581045492578,
          -0.005807956057387215,
          -0.2521294841944818,
          0.5150335079331775,
          -0.33282032997917643,
          0.7320714223225012,
          1.213091682920328,
          0.08904856186822144,
          0.546964360145978,
          -0.5654829559521772,
          -0.5280370228475944,
          1.569885386573116,
          0.06951485652561938,
          0.5586098056639801,
          0.9944724520541559,
          -1.232692345109615,
          0.20649908737588069,
          0.9274326694569818,
          -1.4931803060081321,
          0.5069500577515356,
          -0.10169518484504181,
          0.7706117793406162,
          -0.6517223336891163,
          -2.0926704674673844,
          0.31484554724907154,
          1.9575227469312708,
          -0.4301303958607313,
          -0.5787778118510103,
          -1.0119872017638747,
          -0.40228534601618143,
          2.038756953851408,
          -0.12949232464568516,
          -0.6066494611386877,
          0.3603753685797563,
          0.34132630582604756,
          0.5730529829040087,
          1.0288673586415396,
          1.664345573048318,
          1.3486877908341262,
          -0.484387603012384,
          0.3733001066111924
         ],
         "yaxis": "y14"
        },
        {
         "line": {
          "color": "rgba(128, 128, 128, 1.0)",
          "dash": "solid",
          "shape": "linear",
          "width": 1.3
         },
         "marker": {
          "size": 2,
          "symbol": "circle"
         },
         "mode": "markers",
         "name": "D",
         "text": "",
         "type": "scatter",
         "x": [
          -0.7966720853754534,
          0.6477728052325428,
          0.4831523041440157,
          0.3644435184704144,
          1.7007141482853403,
          0.9692581547170372,
          -1.0325150866471589,
          0.8894145090528843,
          0.026234933397009344,
          -1.4532861300849287,
          0.9996873342754028,
          -3.1540275979967087,
          0.4286746196441421,
          0.21544993442106897,
          0.32815484899890135,
          -0.2557793997881791,
          -0.5510292782435066,
          -0.037864298663310474,
          -0.3001542781668278,
          0.6547112586968563,
          -0.2638110259566244,
          0.04270028556177357,
          0.4588145661267505,
          0.6827466435778821,
          -0.6797951695755131,
          -0.631628789264434,
          1.2686739319914158,
          -0.13697469209737578,
          -0.37601739069121415,
          -0.8836269003850051,
          -1.4608143618016922,
          1.3273721485353875,
          -0.3303442629457333,
          -0.4926836056813009,
          -0.30853302763456075,
          0.12524399651365264,
          -1.0046688429128623,
          1.6056414456082,
          -0.6229691448825764,
          1.4544036889163034,
          -0.17925644736933535,
          0.6457018928601556,
          1.3057340404004254,
          1.0377701562575992,
          0.10067046378193285,
          -0.5193570479240552,
          1.018866169958515,
          -1.0160196153677243,
          0.5337100384623303,
          1.6205355319322285,
          -0.7913727440688946,
          -0.49715952576613726,
          -0.16625713899727948,
          0.11911935123826942,
          -1.0818057514661825,
          0.6097568557060469,
          -1.2965456248093972,
          1.0870876169513466,
          1.0750964186435534,
          0.05160589607207159,
          0.3245215550322822,
          0.5356023888365272,
          -0.4871544420614186,
          0.19487622359893275,
          1.5356466295486764,
          -0.14339976837204832,
          -0.09037003239094622,
          -0.15840485892250952,
          2.256471565398644,
          -0.40382312657022357,
          0.2748706392238591,
          -0.535589705332484,
          -0.3062539118189085,
          -0.6890911081506442,
          -0.3888945228846208,
          -2.5564725209949843,
          -1.7287793754882044,
          -0.17981800885973726,
          -2.031603307882673,
          -0.5612039428452245,
          -1.2630554683468047,
          0.33852167207166245,
          1.0099798166528304,
          -0.2860404232817684,
          1.315694043920557,
          0.46960186531811526,
          0.30832256911797395,
          -0.18939386825932636,
          1.6175828171719604,
          1.0777304529374765,
          -1.4665396721322217,
          -0.040704511478725704,
          -0.7183414312124572,
          -0.725399399095399,
          -0.5756244801360568,
          -0.6038091390486322,
          -1.1789772630804674,
          0.26877630285131504,
          -0.4822196912052415,
          1.0846006541025943
         ],
         "xaxis": "x15",
         "y": [
          -0.1676826507525291,
          1.2118809377684863,
          -0.14438510911805277,
          -1.2551541941825473,
          0.47279567513124054,
          -0.13691972737133096,
          -0.6546286217807619,
          -2.0102159510958035,
          1.1208802815514152,
          -0.29512508742796867,
          -1.5022522770964233,
          1.228763629283435,
          0.44696925851188624,
          -0.2503946001911159,
          1.345947912693738,
          -0.7338677287033788,
          -0.7782797541960733,
          0.45719078900464705,
          0.30022047398068186,
          1.273494902181814,
          -0.942096576425137,
          -1.5984355314179504,
          -0.2081335137358246,
          -1.119897696669353,
          1.1558179289865356,
          0.5253760769966458,
          1.4829236805169717,
          -0.20820180768859525,
          0.2599409088733281,
          0.8299263627400496,
          0.6945443956044238,
          0.9487852193715961,
          1.6049832655815006,
          0.6936468603647309,
          0.2576136153170773,
          0.35604033694235443,
          -0.9478443375481954,
          -1.803235372150516,
          -0.17490836960946665,
          1.2990750788239707,
          -0.11963436583981464,
          -0.14107216164782235,
          -0.4994749068208888,
          -0.5039462481034059,
          0.4078937285732624,
          -1.3623983044468144,
          -0.5599219479314879,
          -0.8890190693870289,
          -0.5453171088827993,
          -0.19400809571131336,
          0.4379296859477579,
          0.9569927628817722,
          0.568551150400114,
          0.4901505521614311,
          -0.629448856594338,
          -0.1760792563046624,
          2.1872697925391145,
          -1.7987168928322443,
          0.00021761034255523358,
          -0.1493581045492578,
          -0.005807956057387215,
          -0.2521294841944818,
          0.5150335079331775,
          -0.33282032997917643,
          0.7320714223225012,
          1.213091682920328,
          0.08904856186822144,
          0.546964360145978,
          -0.5654829559521772,
          -0.5280370228475944,
          1.569885386573116,
          0.06951485652561938,
          0.5586098056639801,
          0.9944724520541559,
          -1.232692345109615,
          0.20649908737588069,
          0.9274326694569818,
          -1.4931803060081321,
          0.5069500577515356,
          -0.10169518484504181,
          0.7706117793406162,
          -0.6517223336891163,
          -2.0926704674673844,
          0.31484554724907154,
          1.9575227469312708,
          -0.4301303958607313,
          -0.5787778118510103,
          -1.0119872017638747,
          -0.40228534601618143,
          2.038756953851408,
          -0.12949232464568516,
          -0.6066494611386877,
          0.3603753685797563,
          0.34132630582604756,
          0.5730529829040087,
          1.0288673586415396,
          1.664345573048318,
          1.3486877908341262,
          -0.484387603012384,
          0.3733001066111924
         ],
         "yaxis": "y15"
        },
        {
         "histfunc": "count",
         "histnorm": "",
         "marker": {
          "color": "rgba(128, 0, 128, 1.0)",
          "line": {
           "color": "#4D5663",
           "width": 1.3
          }
         },
         "name": "D",
         "nbinsx": 10,
         "opacity": 0.8,
         "orientation": "v",
         "type": "histogram",
         "x": [
          -0.1676826507525291,
          1.2118809377684863,
          -0.14438510911805277,
          -1.2551541941825473,
          0.47279567513124054,
          -0.13691972737133096,
          -0.6546286217807619,
          -2.0102159510958035,
          1.1208802815514152,
          -0.29512508742796867,
          -1.5022522770964233,
          1.228763629283435,
          0.44696925851188624,
          -0.2503946001911159,
          1.345947912693738,
          -0.7338677287033788,
          -0.7782797541960733,
          0.45719078900464705,
          0.30022047398068186,
          1.273494902181814,
          -0.942096576425137,
          -1.5984355314179504,
          -0.2081335137358246,
          -1.119897696669353,
          1.1558179289865356,
          0.5253760769966458,
          1.4829236805169717,
          -0.20820180768859525,
          0.2599409088733281,
          0.8299263627400496,
          0.6945443956044238,
          0.9487852193715961,
          1.6049832655815006,
          0.6936468603647309,
          0.2576136153170773,
          0.35604033694235443,
          -0.9478443375481954,
          -1.803235372150516,
          -0.17490836960946665,
          1.2990750788239707,
          -0.11963436583981464,
          -0.14107216164782235,
          -0.4994749068208888,
          -0.5039462481034059,
          0.4078937285732624,
          -1.3623983044468144,
          -0.5599219479314879,
          -0.8890190693870289,
          -0.5453171088827993,
          -0.19400809571131336,
          0.4379296859477579,
          0.9569927628817722,
          0.568551150400114,
          0.4901505521614311,
          -0.629448856594338,
          -0.1760792563046624,
          2.1872697925391145,
          -1.7987168928322443,
          0.00021761034255523358,
          -0.1493581045492578,
          -0.005807956057387215,
          -0.2521294841944818,
          0.5150335079331775,
          -0.33282032997917643,
          0.7320714223225012,
          1.213091682920328,
          0.08904856186822144,
          0.546964360145978,
          -0.5654829559521772,
          -0.5280370228475944,
          1.569885386573116,
          0.06951485652561938,
          0.5586098056639801,
          0.9944724520541559,
          -1.232692345109615,
          0.20649908737588069,
          0.9274326694569818,
          -1.4931803060081321,
          0.5069500577515356,
          -0.10169518484504181,
          0.7706117793406162,
          -0.6517223336891163,
          -2.0926704674673844,
          0.31484554724907154,
          1.9575227469312708,
          -0.4301303958607313,
          -0.5787778118510103,
          -1.0119872017638747,
          -0.40228534601618143,
          2.038756953851408,
          -0.12949232464568516,
          -0.6066494611386877,
          0.3603753685797563,
          0.34132630582604756,
          0.5730529829040087,
          1.0288673586415396,
          1.664345573048318,
          1.3486877908341262,
          -0.484387603012384,
          0.3733001066111924
         ],
         "xaxis": "x16",
         "yaxis": "y16"
        }
       ],
       "layout": {
        "bargap": 0.02,
        "legend": {
         "bgcolor": "#F5F6F9",
         "font": {
          "color": "#4D5663"
         }
        },
        "paper_bgcolor": "#F5F6F9",
        "plot_bgcolor": "#F5F6F9",
        "showlegend": false,
        "template": {
         "data": {
          "bar": [
           {
            "error_x": {
             "color": "#2a3f5f"
            },
            "error_y": {
             "color": "#2a3f5f"
            },
            "marker": {
             "line": {
              "color": "#E5ECF6",
              "width": 0.5
             }
            },
            "type": "bar"
           }
          ],
          "barpolar": [
           {
            "marker": {
             "line": {
              "color": "#E5ECF6",
              "width": 0.5
             }
            },
            "type": "barpolar"
           }
          ],
          "carpet": [
           {
            "aaxis": {
             "endlinecolor": "#2a3f5f",
             "gridcolor": "white",
             "linecolor": "white",
             "minorgridcolor": "white",
             "startlinecolor": "#2a3f5f"
            },
            "baxis": {
             "endlinecolor": "#2a3f5f",
             "gridcolor": "white",
             "linecolor": "white",
             "minorgridcolor": "white",
             "startlinecolor": "#2a3f5f"
            },
            "type": "carpet"
           }
          ],
          "choropleth": [
           {
            "colorbar": {
             "outlinewidth": 0,
             "ticks": ""
            },
            "type": "choropleth"
           }
          ],
          "contour": [
           {
            "colorbar": {
             "outlinewidth": 0,
             "ticks": ""
            },
            "colorscale": [
             [
              0,
              "#0d0887"
             ],
             [
              0.1111111111111111,
              "#46039f"
             ],
             [
              0.2222222222222222,
              "#7201a8"
             ],
             [
              0.3333333333333333,
              "#9c179e"
             ],
             [
              0.4444444444444444,
              "#bd3786"
             ],
             [
              0.5555555555555556,
              "#d8576b"
             ],
             [
              0.6666666666666666,
              "#ed7953"
             ],
             [
              0.7777777777777778,
              "#fb9f3a"
             ],
             [
              0.8888888888888888,
              "#fdca26"
             ],
             [
              1,
              "#f0f921"
             ]
            ],
            "type": "contour"
           }
          ],
          "contourcarpet": [
           {
            "colorbar": {
             "outlinewidth": 0,
             "ticks": ""
            },
            "type": "contourcarpet"
           }
          ],
          "heatmap": [
           {
            "colorbar": {
             "outlinewidth": 0,
             "ticks": ""
            },
            "colorscale": [
             [
              0,
              "#0d0887"
             ],
             [
              0.1111111111111111,
              "#46039f"
             ],
             [
              0.2222222222222222,
              "#7201a8"
             ],
             [
              0.3333333333333333,
              "#9c179e"
             ],
             [
              0.4444444444444444,
              "#bd3786"
             ],
             [
              0.5555555555555556,
              "#d8576b"
             ],
             [
              0.6666666666666666,
              "#ed7953"
             ],
             [
              0.7777777777777778,
              "#fb9f3a"
             ],
             [
              0.8888888888888888,
              "#fdca26"
             ],
             [
              1,
              "#f0f921"
             ]
            ],
            "type": "heatmap"
           }
          ],
          "heatmapgl": [
           {
            "colorbar": {
             "outlinewidth": 0,
             "ticks": ""
            },
            "colorscale": [
             [
              0,
              "#0d0887"
             ],
             [
              0.1111111111111111,
              "#46039f"
             ],
             [
              0.2222222222222222,
              "#7201a8"
             ],
             [
              0.3333333333333333,
              "#9c179e"
             ],
             [
              0.4444444444444444,
              "#bd3786"
             ],
             [
              0.5555555555555556,
              "#d8576b"
             ],
             [
              0.6666666666666666,
              "#ed7953"
             ],
             [
              0.7777777777777778,
              "#fb9f3a"
             ],
             [
              0.8888888888888888,
              "#fdca26"
             ],
             [
              1,
              "#f0f921"
             ]
            ],
            "type": "heatmapgl"
           }
          ],
          "histogram": [
           {
            "marker": {
             "colorbar": {
              "outlinewidth": 0,
              "ticks": ""
             }
            },
            "type": "histogram"
           }
          ],
          "histogram2d": [
           {
            "colorbar": {
             "outlinewidth": 0,
             "ticks": ""
            },
            "colorscale": [
             [
              0,
              "#0d0887"
             ],
             [
              0.1111111111111111,
              "#46039f"
             ],
             [
              0.2222222222222222,
              "#7201a8"
             ],
             [
              0.3333333333333333,
              "#9c179e"
             ],
             [
              0.4444444444444444,
              "#bd3786"
             ],
             [
              0.5555555555555556,
              "#d8576b"
             ],
             [
              0.6666666666666666,
              "#ed7953"
             ],
             [
              0.7777777777777778,
              "#fb9f3a"
             ],
             [
              0.8888888888888888,
              "#fdca26"
             ],
             [
              1,
              "#f0f921"
             ]
            ],
            "type": "histogram2d"
           }
          ],
          "histogram2dcontour": [
           {
            "colorbar": {
             "outlinewidth": 0,
             "ticks": ""
            },
            "colorscale": [
             [
              0,
              "#0d0887"
             ],
             [
              0.1111111111111111,
              "#46039f"
             ],
             [
              0.2222222222222222,
              "#7201a8"
             ],
             [
              0.3333333333333333,
              "#9c179e"
             ],
             [
              0.4444444444444444,
              "#bd3786"
             ],
             [
              0.5555555555555556,
              "#d8576b"
             ],
             [
              0.6666666666666666,
              "#ed7953"
             ],
             [
              0.7777777777777778,
              "#fb9f3a"
             ],
             [
              0.8888888888888888,
              "#fdca26"
             ],
             [
              1,
              "#f0f921"
             ]
            ],
            "type": "histogram2dcontour"
           }
          ],
          "mesh3d": [
           {
            "colorbar": {
             "outlinewidth": 0,
             "ticks": ""
            },
            "type": "mesh3d"
           }
          ],
          "parcoords": [
           {
            "line": {
             "colorbar": {
              "outlinewidth": 0,
              "ticks": ""
             }
            },
            "type": "parcoords"
           }
          ],
          "scatter": [
           {
            "marker": {
             "colorbar": {
              "outlinewidth": 0,
              "ticks": ""
             }
            },
            "type": "scatter"
           }
          ],
          "scatter3d": [
           {
            "line": {
             "colorbar": {
              "outlinewidth": 0,
              "ticks": ""
             }
            },
            "marker": {
             "colorbar": {
              "outlinewidth": 0,
              "ticks": ""
             }
            },
            "type": "scatter3d"
           }
          ],
          "scattercarpet": [
           {
            "marker": {
             "colorbar": {
              "outlinewidth": 0,
              "ticks": ""
             }
            },
            "type": "scattercarpet"
           }
          ],
          "scattergeo": [
           {
            "marker": {
             "colorbar": {
              "outlinewidth": 0,
              "ticks": ""
             }
            },
            "type": "scattergeo"
           }
          ],
          "scattergl": [
           {
            "marker": {
             "colorbar": {
              "outlinewidth": 0,
              "ticks": ""
             }
            },
            "type": "scattergl"
           }
          ],
          "scattermapbox": [
           {
            "marker": {
             "colorbar": {
              "outlinewidth": 0,
              "ticks": ""
             }
            },
            "type": "scattermapbox"
           }
          ],
          "scatterpolar": [
           {
            "marker": {
             "colorbar": {
              "outlinewidth": 0,
              "ticks": ""
             }
            },
            "type": "scatterpolar"
           }
          ],
          "scatterpolargl": [
           {
            "marker": {
             "colorbar": {
              "outlinewidth": 0,
              "ticks": ""
             }
            },
            "type": "scatterpolargl"
           }
          ],
          "scatterternary": [
           {
            "marker": {
             "colorbar": {
              "outlinewidth": 0,
              "ticks": ""
             }
            },
            "type": "scatterternary"
           }
          ],
          "surface": [
           {
            "colorbar": {
             "outlinewidth": 0,
             "ticks": ""
            },
            "colorscale": [
             [
              0,
              "#0d0887"
             ],
             [
              0.1111111111111111,
              "#46039f"
             ],
             [
              0.2222222222222222,
              "#7201a8"
             ],
             [
              0.3333333333333333,
              "#9c179e"
             ],
             [
              0.4444444444444444,
              "#bd3786"
             ],
             [
              0.5555555555555556,
              "#d8576b"
             ],
             [
              0.6666666666666666,
              "#ed7953"
             ],
             [
              0.7777777777777778,
              "#fb9f3a"
             ],
             [
              0.8888888888888888,
              "#fdca26"
             ],
             [
              1,
              "#f0f921"
             ]
            ],
            "type": "surface"
           }
          ],
          "table": [
           {
            "cells": {
             "fill": {
              "color": "#EBF0F8"
             },
             "line": {
              "color": "white"
             }
            },
            "header": {
             "fill": {
              "color": "#C8D4E3"
             },
             "line": {
              "color": "white"
             }
            },
            "type": "table"
           }
          ]
         },
         "layout": {
          "annotationdefaults": {
           "arrowcolor": "#2a3f5f",
           "arrowhead": 0,
           "arrowwidth": 1
          },
          "colorscale": {
           "diverging": [
            [
             0,
             "#8e0152"
            ],
            [
             0.1,
             "#c51b7d"
            ],
            [
             0.2,
             "#de77ae"
            ],
            [
             0.3,
             "#f1b6da"
            ],
            [
             0.4,
             "#fde0ef"
            ],
            [
             0.5,
             "#f7f7f7"
            ],
            [
             0.6,
             "#e6f5d0"
            ],
            [
             0.7,
             "#b8e186"
            ],
            [
             0.8,
             "#7fbc41"
            ],
            [
             0.9,
             "#4d9221"
            ],
            [
             1,
             "#276419"
            ]
           ],
           "sequential": [
            [
             0,
             "#0d0887"
            ],
            [
             0.1111111111111111,
             "#46039f"
            ],
            [
             0.2222222222222222,
             "#7201a8"
            ],
            [
             0.3333333333333333,
             "#9c179e"
            ],
            [
             0.4444444444444444,
             "#bd3786"
            ],
            [
             0.5555555555555556,
             "#d8576b"
            ],
            [
             0.6666666666666666,
             "#ed7953"
            ],
            [
             0.7777777777777778,
             "#fb9f3a"
            ],
            [
             0.8888888888888888,
             "#fdca26"
            ],
            [
             1,
             "#f0f921"
            ]
           ],
           "sequentialminus": [
            [
             0,
             "#0d0887"
            ],
            [
             0.1111111111111111,
             "#46039f"
            ],
            [
             0.2222222222222222,
             "#7201a8"
            ],
            [
             0.3333333333333333,
             "#9c179e"
            ],
            [
             0.4444444444444444,
             "#bd3786"
            ],
            [
             0.5555555555555556,
             "#d8576b"
            ],
            [
             0.6666666666666666,
             "#ed7953"
            ],
            [
             0.7777777777777778,
             "#fb9f3a"
            ],
            [
             0.8888888888888888,
             "#fdca26"
            ],
            [
             1,
             "#f0f921"
            ]
           ]
          },
          "colorway": [
           "#636efa",
           "#EF553B",
           "#00cc96",
           "#ab63fa",
           "#FFA15A",
           "#19d3f3",
           "#FF6692",
           "#B6E880",
           "#FF97FF",
           "#FECB52"
          ],
          "font": {
           "color": "#2a3f5f"
          },
          "geo": {
           "bgcolor": "white",
           "lakecolor": "white",
           "landcolor": "#E5ECF6",
           "showlakes": true,
           "showland": true,
           "subunitcolor": "white"
          },
          "hoverlabel": {
           "align": "left"
          },
          "hovermode": "closest",
          "mapbox": {
           "style": "light"
          },
          "paper_bgcolor": "white",
          "plot_bgcolor": "#E5ECF6",
          "polar": {
           "angularaxis": {
            "gridcolor": "white",
            "linecolor": "white",
            "ticks": ""
           },
           "bgcolor": "#E5ECF6",
           "radialaxis": {
            "gridcolor": "white",
            "linecolor": "white",
            "ticks": ""
           }
          },
          "scene": {
           "xaxis": {
            "backgroundcolor": "#E5ECF6",
            "gridcolor": "white",
            "gridwidth": 2,
            "linecolor": "white",
            "showbackground": true,
            "ticks": "",
            "zerolinecolor": "white"
           },
           "yaxis": {
            "backgroundcolor": "#E5ECF6",
            "gridcolor": "white",
            "gridwidth": 2,
            "linecolor": "white",
            "showbackground": true,
            "ticks": "",
            "zerolinecolor": "white"
           },
           "zaxis": {
            "backgroundcolor": "#E5ECF6",
            "gridcolor": "white",
            "gridwidth": 2,
            "linecolor": "white",
            "showbackground": true,
            "ticks": "",
            "zerolinecolor": "white"
           }
          },
          "shapedefaults": {
           "line": {
            "color": "#2a3f5f"
           }
          },
          "ternary": {
           "aaxis": {
            "gridcolor": "white",
            "linecolor": "white",
            "ticks": ""
           },
           "baxis": {
            "gridcolor": "white",
            "linecolor": "white",
            "ticks": ""
           },
           "bgcolor": "#E5ECF6",
           "caxis": {
            "gridcolor": "white",
            "linecolor": "white",
            "ticks": ""
           }
          },
          "title": {
           "x": 0.05
          },
          "xaxis": {
           "automargin": true,
           "gridcolor": "white",
           "linecolor": "white",
           "ticks": "",
           "zerolinecolor": "white",
           "zerolinewidth": 2
          },
          "yaxis": {
           "automargin": true,
           "gridcolor": "white",
           "linecolor": "white",
           "ticks": "",
           "zerolinecolor": "white",
           "zerolinewidth": 2
          }
         }
        },
        "title": {
         "font": {
          "color": "#4D5663"
         }
        },
        "xaxis": {
         "anchor": "y",
         "domain": [
          0,
          0.2125
         ],
         "gridcolor": "#E1E5ED",
         "showgrid": false,
         "tickfont": {
          "color": "#4D5663"
         },
         "title": {
          "font": {
           "color": "#4D5663"
          },
          "text": ""
         },
         "zerolinecolor": "#E1E5ED"
        },
        "xaxis10": {
         "anchor": "y10",
         "domain": [
          0.2625,
          0.475
         ],
         "gridcolor": "#E1E5ED",
         "showgrid": false,
         "tickfont": {
          "color": "#4D5663"
         },
         "title": {
          "font": {
           "color": "#4D5663"
          },
          "text": ""
         },
         "zerolinecolor": "#E1E5ED"
        },
        "xaxis11": {
         "anchor": "y11",
         "domain": [
          0.525,
          0.7375
         ],
         "gridcolor": "#E1E5ED",
         "showgrid": false,
         "tickfont": {
          "color": "#4D5663"
         },
         "title": {
          "font": {
           "color": "#4D5663"
          },
          "text": ""
         },
         "zerolinecolor": "#E1E5ED"
        },
        "xaxis12": {
         "anchor": "y12",
         "domain": [
          0.7875,
          1
         ],
         "gridcolor": "#E1E5ED",
         "showgrid": false,
         "tickfont": {
          "color": "#4D5663"
         },
         "title": {
          "font": {
           "color": "#4D5663"
          },
          "text": ""
         },
         "zerolinecolor": "#E1E5ED"
        },
        "xaxis13": {
         "anchor": "y13",
         "domain": [
          0,
          0.2125
         ],
         "gridcolor": "#E1E5ED",
         "showgrid": false,
         "tickfont": {
          "color": "#4D5663"
         },
         "title": {
          "font": {
           "color": "#4D5663"
          },
          "text": ""
         },
         "zerolinecolor": "#E1E5ED"
        },
        "xaxis14": {
         "anchor": "y14",
         "domain": [
          0.2625,
          0.475
         ],
         "gridcolor": "#E1E5ED",
         "showgrid": false,
         "tickfont": {
          "color": "#4D5663"
         },
         "title": {
          "font": {
           "color": "#4D5663"
          },
          "text": ""
         },
         "zerolinecolor": "#E1E5ED"
        },
        "xaxis15": {
         "anchor": "y15",
         "domain": [
          0.525,
          0.7375
         ],
         "gridcolor": "#E1E5ED",
         "showgrid": false,
         "tickfont": {
          "color": "#4D5663"
         },
         "title": {
          "font": {
           "color": "#4D5663"
          },
          "text": ""
         },
         "zerolinecolor": "#E1E5ED"
        },
        "xaxis16": {
         "anchor": "y16",
         "domain": [
          0.7875,
          1
         ],
         "gridcolor": "#E1E5ED",
         "showgrid": false,
         "tickfont": {
          "color": "#4D5663"
         },
         "title": {
          "font": {
           "color": "#4D5663"
          },
          "text": ""
         },
         "zerolinecolor": "#E1E5ED"
        },
        "xaxis2": {
         "anchor": "y2",
         "domain": [
          0.2625,
          0.475
         ],
         "gridcolor": "#E1E5ED",
         "showgrid": false,
         "tickfont": {
          "color": "#4D5663"
         },
         "title": {
          "font": {
           "color": "#4D5663"
          },
          "text": ""
         },
         "zerolinecolor": "#E1E5ED"
        },
        "xaxis3": {
         "anchor": "y3",
         "domain": [
          0.525,
          0.7375
         ],
         "gridcolor": "#E1E5ED",
         "showgrid": false,
         "tickfont": {
          "color": "#4D5663"
         },
         "title": {
          "font": {
           "color": "#4D5663"
          },
          "text": ""
         },
         "zerolinecolor": "#E1E5ED"
        },
        "xaxis4": {
         "anchor": "y4",
         "domain": [
          0.7875,
          1
         ],
         "gridcolor": "#E1E5ED",
         "showgrid": false,
         "tickfont": {
          "color": "#4D5663"
         },
         "title": {
          "font": {
           "color": "#4D5663"
          },
          "text": ""
         },
         "zerolinecolor": "#E1E5ED"
        },
        "xaxis5": {
         "anchor": "y5",
         "domain": [
          0,
          0.2125
         ],
         "gridcolor": "#E1E5ED",
         "showgrid": false,
         "tickfont": {
          "color": "#4D5663"
         },
         "title": {
          "font": {
           "color": "#4D5663"
          },
          "text": ""
         },
         "zerolinecolor": "#E1E5ED"
        },
        "xaxis6": {
         "anchor": "y6",
         "domain": [
          0.2625,
          0.475
         ],
         "gridcolor": "#E1E5ED",
         "showgrid": false,
         "tickfont": {
          "color": "#4D5663"
         },
         "title": {
          "font": {
           "color": "#4D5663"
          },
          "text": ""
         },
         "zerolinecolor": "#E1E5ED"
        },
        "xaxis7": {
         "anchor": "y7",
         "domain": [
          0.525,
          0.7375
         ],
         "gridcolor": "#E1E5ED",
         "showgrid": false,
         "tickfont": {
          "color": "#4D5663"
         },
         "title": {
          "font": {
           "color": "#4D5663"
          },
          "text": ""
         },
         "zerolinecolor": "#E1E5ED"
        },
        "xaxis8": {
         "anchor": "y8",
         "domain": [
          0.7875,
          1
         ],
         "gridcolor": "#E1E5ED",
         "showgrid": false,
         "tickfont": {
          "color": "#4D5663"
         },
         "title": {
          "font": {
           "color": "#4D5663"
          },
          "text": ""
         },
         "zerolinecolor": "#E1E5ED"
        },
        "xaxis9": {
         "anchor": "y9",
         "domain": [
          0,
          0.2125
         ],
         "gridcolor": "#E1E5ED",
         "showgrid": false,
         "tickfont": {
          "color": "#4D5663"
         },
         "title": {
          "font": {
           "color": "#4D5663"
          },
          "text": ""
         },
         "zerolinecolor": "#E1E5ED"
        },
        "yaxis": {
         "anchor": "x",
         "domain": [
          0.8025,
          1
         ],
         "gridcolor": "#E1E5ED",
         "showgrid": false,
         "tickfont": {
          "color": "#4D5663"
         },
         "title": {
          "font": {
           "color": "#4D5663"
          },
          "text": ""
         },
         "zerolinecolor": "#E1E5ED"
        },
        "yaxis10": {
         "anchor": "x10",
         "domain": [
          0.2675,
          0.465
         ],
         "gridcolor": "#E1E5ED",
         "showgrid": false,
         "tickfont": {
          "color": "#4D5663"
         },
         "title": {
          "font": {
           "color": "#4D5663"
          },
          "text": ""
         },
         "zerolinecolor": "#E1E5ED"
        },
        "yaxis11": {
         "anchor": "x11",
         "domain": [
          0.2675,
          0.465
         ],
         "gridcolor": "#E1E5ED",
         "showgrid": false,
         "tickfont": {
          "color": "#4D5663"
         },
         "title": {
          "font": {
           "color": "#4D5663"
          },
          "text": ""
         },
         "zerolinecolor": "#E1E5ED"
        },
        "yaxis12": {
         "anchor": "x12",
         "domain": [
          0.2675,
          0.465
         ],
         "gridcolor": "#E1E5ED",
         "showgrid": false,
         "tickfont": {
          "color": "#4D5663"
         },
         "title": {
          "font": {
           "color": "#4D5663"
          },
          "text": ""
         },
         "zerolinecolor": "#E1E5ED"
        },
        "yaxis13": {
         "anchor": "x13",
         "domain": [
          0,
          0.1975
         ],
         "gridcolor": "#E1E5ED",
         "showgrid": false,
         "tickfont": {
          "color": "#4D5663"
         },
         "title": {
          "font": {
           "color": "#4D5663"
          },
          "text": ""
         },
         "zerolinecolor": "#E1E5ED"
        },
        "yaxis14": {
         "anchor": "x14",
         "domain": [
          0,
          0.1975
         ],
         "gridcolor": "#E1E5ED",
         "showgrid": false,
         "tickfont": {
          "color": "#4D5663"
         },
         "title": {
          "font": {
           "color": "#4D5663"
          },
          "text": ""
         },
         "zerolinecolor": "#E1E5ED"
        },
        "yaxis15": {
         "anchor": "x15",
         "domain": [
          0,
          0.1975
         ],
         "gridcolor": "#E1E5ED",
         "showgrid": false,
         "tickfont": {
          "color": "#4D5663"
         },
         "title": {
          "font": {
           "color": "#4D5663"
          },
          "text": ""
         },
         "zerolinecolor": "#E1E5ED"
        },
        "yaxis16": {
         "anchor": "x16",
         "domain": [
          0,
          0.1975
         ],
         "gridcolor": "#E1E5ED",
         "showgrid": false,
         "tickfont": {
          "color": "#4D5663"
         },
         "title": {
          "font": {
           "color": "#4D5663"
          },
          "text": ""
         },
         "zerolinecolor": "#E1E5ED"
        },
        "yaxis2": {
         "anchor": "x2",
         "domain": [
          0.8025,
          1
         ],
         "gridcolor": "#E1E5ED",
         "showgrid": false,
         "tickfont": {
          "color": "#4D5663"
         },
         "title": {
          "font": {
           "color": "#4D5663"
          },
          "text": ""
         },
         "zerolinecolor": "#E1E5ED"
        },
        "yaxis3": {
         "anchor": "x3",
         "domain": [
          0.8025,
          1
         ],
         "gridcolor": "#E1E5ED",
         "showgrid": false,
         "tickfont": {
          "color": "#4D5663"
         },
         "title": {
          "font": {
           "color": "#4D5663"
          },
          "text": ""
         },
         "zerolinecolor": "#E1E5ED"
        },
        "yaxis4": {
         "anchor": "x4",
         "domain": [
          0.8025,
          1
         ],
         "gridcolor": "#E1E5ED",
         "showgrid": false,
         "tickfont": {
          "color": "#4D5663"
         },
         "title": {
          "font": {
           "color": "#4D5663"
          },
          "text": ""
         },
         "zerolinecolor": "#E1E5ED"
        },
        "yaxis5": {
         "anchor": "x5",
         "domain": [
          0.535,
          0.7325
         ],
         "gridcolor": "#E1E5ED",
         "showgrid": false,
         "tickfont": {
          "color": "#4D5663"
         },
         "title": {
          "font": {
           "color": "#4D5663"
          },
          "text": ""
         },
         "zerolinecolor": "#E1E5ED"
        },
        "yaxis6": {
         "anchor": "x6",
         "domain": [
          0.535,
          0.7325
         ],
         "gridcolor": "#E1E5ED",
         "showgrid": false,
         "tickfont": {
          "color": "#4D5663"
         },
         "title": {
          "font": {
           "color": "#4D5663"
          },
          "text": ""
         },
         "zerolinecolor": "#E1E5ED"
        },
        "yaxis7": {
         "anchor": "x7",
         "domain": [
          0.535,
          0.7325
         ],
         "gridcolor": "#E1E5ED",
         "showgrid": false,
         "tickfont": {
          "color": "#4D5663"
         },
         "title": {
          "font": {
           "color": "#4D5663"
          },
          "text": ""
         },
         "zerolinecolor": "#E1E5ED"
        },
        "yaxis8": {
         "anchor": "x8",
         "domain": [
          0.535,
          0.7325
         ],
         "gridcolor": "#E1E5ED",
         "showgrid": false,
         "tickfont": {
          "color": "#4D5663"
         },
         "title": {
          "font": {
           "color": "#4D5663"
          },
          "text": ""
         },
         "zerolinecolor": "#E1E5ED"
        },
        "yaxis9": {
         "anchor": "x9",
         "domain": [
          0.2675,
          0.465
         ],
         "gridcolor": "#E1E5ED",
         "showgrid": false,
         "tickfont": {
          "color": "#4D5663"
         },
         "title": {
          "font": {
           "color": "#4D5663"
          },
          "text": ""
         },
         "zerolinecolor": "#E1E5ED"
        }
       }
      },
      "text/html": [
       "<div>\n",
       "        \n",
       "        \n",
       "            <div id=\"44b27d94-664f-43df-9608-9541adf0ba7b\" class=\"plotly-graph-div\" style=\"height:525px; width:100%;\"></div>\n",
       "            <script type=\"text/javascript\">\n",
       "                require([\"plotly\"], function(Plotly) {\n",
       "                    window.PLOTLYENV=window.PLOTLYENV || {};\n",
       "                    window.PLOTLYENV.BASE_URL='https://plot.ly';\n",
       "                    \n",
       "                if (document.getElementById(\"44b27d94-664f-43df-9608-9541adf0ba7b\")) {\n",
       "                    Plotly.newPlot(\n",
       "                        '44b27d94-664f-43df-9608-9541adf0ba7b',\n",
       "                        [{\"histfunc\": \"count\", \"histnorm\": \"\", \"marker\": {\"color\": \"rgba(255, 153, 51, 1.0)\", \"line\": {\"color\": \"#4D5663\", \"width\": 1.3}}, \"name\": \"A\", \"nbinsx\": 10, \"opacity\": 0.8, \"orientation\": \"v\", \"type\": \"histogram\", \"x\": [-0.06542778015912247, -0.4983315985004792, -0.3932665761127589, -0.10616396259826238, -0.26207506689955234, 0.7886670736320832, -0.14377426502187782, -0.15273724910094455, -1.1338234021817963, 0.0009770267116028946, -0.7324620416267447, 0.06043111318599064, 0.623615648635299, -0.9898932119379665, -0.45086070577257026, -0.830303964658216, 1.5716630654715504, -1.0974693696329356, 0.4558388327103945, 1.2170495932316205, -0.32981680298429955, 0.2582423394595888, 0.4888856866509463, -0.6121681967574407, -0.5414245020009553, 2.713140457391276, 1.7423907028996293, 0.14142226924657475, 1.6632119799987835, -1.1316432740780005, 0.3761480797940717, -0.5145111245715915, 0.15963736908855272, 0.8356735998848508, -0.3565600825442002, 1.157899333248228, -0.4096165797423869, 0.5249195501867103, 0.5653237593734552, 1.072675824030473, -1.7986968659667908, 0.09444932233020178, 0.37476626326860707, -0.06564736959465206, 0.28052433882468464, 0.7190140964012359, -1.5830392770914365, 0.2644929549909655, -1.0006939493489782, 0.23636146599124183, 0.39176536250665306, 1.0010977258940492, 0.10143316005483165, -0.3368213254581548, -0.2971587471713649, -0.026228244623694424, 0.6624173371633474, -1.7218637928707545, -0.5923164125061781, -0.34970068099215595, -0.12555665412014028, -0.16897186432076375, 0.40905865555379467, -0.6632048676391282, 1.0816531446896442, -0.08061085564831709, -0.6898727254749667, -0.05582287614843459, 0.019644984580532536, -0.24593277126504068, 0.2647198186254047, -2.6985599960128646, -0.2857060352657619, -0.7059336808840253, 0.17851344877915792, -1.1872112018363015, 0.356400427218362, 0.6949620719212402, 1.7193507242959798, 0.15045354017786597, -0.18479491530568848, -1.239764615178371, 0.09444746482720447, -0.45253402974609547, 1.5240444051796522, -0.7166957289144503, 1.5593468757849867, -1.8811576668979677, -1.4952705913795905, 0.23129604965371198, -0.008759735894900082, 0.15443482118378815, -1.4297427857966751, -0.06765988265773787, -0.996787930590609, -0.4145939334371296, -0.43632955465216916, -0.7186990577837588, 0.5636984699664023, 0.21842881420586344], \"xaxis\": \"x\", \"yaxis\": \"y\"}, {\"line\": {\"color\": \"rgba(128, 128, 128, 1.0)\", \"dash\": \"solid\", \"shape\": \"linear\", \"width\": 1.3}, \"marker\": {\"size\": 2, \"symbol\": \"circle\"}, \"mode\": \"markers\", \"name\": \"A\", \"text\": \"\", \"type\": \"scatter\", \"x\": [-0.8411370469674633, 0.8465936719276874, -2.0769241221253196, -0.6700626862026585, -0.5718851695463921, -0.09755403761810581, -0.44096635857130717, -0.19909691093629908, 1.5488170316881231, -0.058357642546699194, 0.919790098361005, 0.3594851568227443, -0.8769963650114245, -0.269976233378358, 0.24765485950810773, 0.269321910169165, -0.5505010270008414, -0.4072869079940033, 0.3517877394913619, -1.524489635082197, 0.12522454045167053, 0.9987328546532094, -1.3791792776183134, 0.05423843887016417, 0.2688011121653173, -0.19041155308139934, 0.10695575141382495, 1.7095876419986396, -1.170502100390321, 0.9290949508011905, -0.1939790752819657, -0.9278782561160333, -0.38128376570696293, 1.4196422528454338, -0.3327314727625212, 1.1991026923111583, 0.34681659229915696, -0.6206391541625019, 0.12742134556200654, 1.3243431685994702, -0.8269302595340654, 0.37966686811781725, -0.10344807908893425, -2.0544188879512295, -0.7464815409567633, -0.7767402402381235, -0.6637804281354422, 1.2517385487669808, 0.694873957911729, -0.06616754426101021, 0.0826020637563963, -0.8335126220950743, 1.5472354491421703, -1.1883781356830807, 0.6959161155628883, 1.6809774728363294, -0.23254175749586706, -1.9896207513535749, -0.23331842485528928, 2.178970408821887, 1.4573427100091558, -0.908432032880107, -0.44244867207382027, -0.4769298465440546, 1.3442857447410939, 0.8937306771278547, 1.2884460982984527, 0.25783105542154644, -0.5664819169183514, -0.18098321446330418, 0.331616555740629, -0.8005687231433739, 1.0988721156679697, 0.23696136067638396, 0.46500651711300106, -0.7528153647155813, 1.3412978052129945, -1.0199703145796095, 0.6413002728832091, -0.3193840554624845, -0.11664683969933677, 0.9687749026453907, 1.3239859553061233, -0.1362061691984603, 1.2241312871811287, 0.21623446478982422, -0.21314367553319472, 0.720151826365811, 1.462740448667771, -0.3436916812967713, 0.4324993105508277, -1.5619649073250985, -2.112441929480903, 0.06564522053701284, -0.28106050711775143, -0.07673876751490212, 0.9800922196622552, 0.03668337598725406, 0.22327999074166194, 0.37285586455157954], \"xaxis\": \"x2\", \"y\": [-0.06542778015912247, -0.4983315985004792, -0.3932665761127589, -0.10616396259826238, -0.26207506689955234, 0.7886670736320832, -0.14377426502187782, -0.15273724910094455, -1.1338234021817963, 0.0009770267116028946, -0.7324620416267447, 0.06043111318599064, 0.623615648635299, -0.9898932119379665, -0.45086070577257026, -0.830303964658216, 1.5716630654715504, -1.0974693696329356, 0.4558388327103945, 1.2170495932316205, -0.32981680298429955, 0.2582423394595888, 0.4888856866509463, -0.6121681967574407, -0.5414245020009553, 2.713140457391276, 1.7423907028996293, 0.14142226924657475, 1.6632119799987835, -1.1316432740780005, 0.3761480797940717, -0.5145111245715915, 0.15963736908855272, 0.8356735998848508, -0.3565600825442002, 1.157899333248228, -0.4096165797423869, 0.5249195501867103, 0.5653237593734552, 1.072675824030473, -1.7986968659667908, 0.09444932233020178, 0.37476626326860707, -0.06564736959465206, 0.28052433882468464, 0.7190140964012359, -1.5830392770914365, 0.2644929549909655, -1.0006939493489782, 0.23636146599124183, 0.39176536250665306, 1.0010977258940492, 0.10143316005483165, -0.3368213254581548, -0.2971587471713649, -0.026228244623694424, 0.6624173371633474, -1.7218637928707545, -0.5923164125061781, -0.34970068099215595, -0.12555665412014028, -0.16897186432076375, 0.40905865555379467, -0.6632048676391282, 1.0816531446896442, -0.08061085564831709, -0.6898727254749667, -0.05582287614843459, 0.019644984580532536, -0.24593277126504068, 0.2647198186254047, -2.6985599960128646, -0.2857060352657619, -0.7059336808840253, 0.17851344877915792, -1.1872112018363015, 0.356400427218362, 0.6949620719212402, 1.7193507242959798, 0.15045354017786597, -0.18479491530568848, -1.239764615178371, 0.09444746482720447, -0.45253402974609547, 1.5240444051796522, -0.7166957289144503, 1.5593468757849867, -1.8811576668979677, -1.4952705913795905, 0.23129604965371198, -0.008759735894900082, 0.15443482118378815, -1.4297427857966751, -0.06765988265773787, -0.996787930590609, -0.4145939334371296, -0.43632955465216916, -0.7186990577837588, 0.5636984699664023, 0.21842881420586344], \"yaxis\": \"y2\"}, {\"line\": {\"color\": \"rgba(128, 128, 128, 1.0)\", \"dash\": \"solid\", \"shape\": \"linear\", \"width\": 1.3}, \"marker\": {\"size\": 2, \"symbol\": \"circle\"}, \"mode\": \"markers\", \"name\": \"A\", \"text\": \"\", \"type\": \"scatter\", \"x\": [-0.7966720853754534, 0.6477728052325428, 0.4831523041440157, 0.3644435184704144, 1.7007141482853403, 0.9692581547170372, -1.0325150866471589, 0.8894145090528843, 0.026234933397009344, -1.4532861300849287, 0.9996873342754028, -3.1540275979967087, 0.4286746196441421, 0.21544993442106897, 0.32815484899890135, -0.2557793997881791, -0.5510292782435066, -0.037864298663310474, -0.3001542781668278, 0.6547112586968563, -0.2638110259566244, 0.04270028556177357, 0.4588145661267505, 0.6827466435778821, -0.6797951695755131, -0.631628789264434, 1.2686739319914158, -0.13697469209737578, -0.37601739069121415, -0.8836269003850051, -1.4608143618016922, 1.3273721485353875, -0.3303442629457333, -0.4926836056813009, -0.30853302763456075, 0.12524399651365264, -1.0046688429128623, 1.6056414456082, -0.6229691448825764, 1.4544036889163034, -0.17925644736933535, 0.6457018928601556, 1.3057340404004254, 1.0377701562575992, 0.10067046378193285, -0.5193570479240552, 1.018866169958515, -1.0160196153677243, 0.5337100384623303, 1.6205355319322285, -0.7913727440688946, -0.49715952576613726, -0.16625713899727948, 0.11911935123826942, -1.0818057514661825, 0.6097568557060469, -1.2965456248093972, 1.0870876169513466, 1.0750964186435534, 0.05160589607207159, 0.3245215550322822, 0.5356023888365272, -0.4871544420614186, 0.19487622359893275, 1.5356466295486764, -0.14339976837204832, -0.09037003239094622, -0.15840485892250952, 2.256471565398644, -0.40382312657022357, 0.2748706392238591, -0.535589705332484, -0.3062539118189085, -0.6890911081506442, -0.3888945228846208, -2.5564725209949843, -1.7287793754882044, -0.17981800885973726, -2.031603307882673, -0.5612039428452245, -1.2630554683468047, 0.33852167207166245, 1.0099798166528304, -0.2860404232817684, 1.315694043920557, 0.46960186531811526, 0.30832256911797395, -0.18939386825932636, 1.6175828171719604, 1.0777304529374765, -1.4665396721322217, -0.040704511478725704, -0.7183414312124572, -0.725399399095399, -0.5756244801360568, -0.6038091390486322, -1.1789772630804674, 0.26877630285131504, -0.4822196912052415, 1.0846006541025943], \"xaxis\": \"x3\", \"y\": [-0.06542778015912247, -0.4983315985004792, -0.3932665761127589, -0.10616396259826238, -0.26207506689955234, 0.7886670736320832, -0.14377426502187782, -0.15273724910094455, -1.1338234021817963, 0.0009770267116028946, -0.7324620416267447, 0.06043111318599064, 0.623615648635299, -0.9898932119379665, -0.45086070577257026, -0.830303964658216, 1.5716630654715504, -1.0974693696329356, 0.4558388327103945, 1.2170495932316205, -0.32981680298429955, 0.2582423394595888, 0.4888856866509463, -0.6121681967574407, -0.5414245020009553, 2.713140457391276, 1.7423907028996293, 0.14142226924657475, 1.6632119799987835, -1.1316432740780005, 0.3761480797940717, -0.5145111245715915, 0.15963736908855272, 0.8356735998848508, -0.3565600825442002, 1.157899333248228, -0.4096165797423869, 0.5249195501867103, 0.5653237593734552, 1.072675824030473, -1.7986968659667908, 0.09444932233020178, 0.37476626326860707, -0.06564736959465206, 0.28052433882468464, 0.7190140964012359, -1.5830392770914365, 0.2644929549909655, -1.0006939493489782, 0.23636146599124183, 0.39176536250665306, 1.0010977258940492, 0.10143316005483165, -0.3368213254581548, -0.2971587471713649, -0.026228244623694424, 0.6624173371633474, -1.7218637928707545, -0.5923164125061781, -0.34970068099215595, -0.12555665412014028, -0.16897186432076375, 0.40905865555379467, -0.6632048676391282, 1.0816531446896442, -0.08061085564831709, -0.6898727254749667, -0.05582287614843459, 0.019644984580532536, -0.24593277126504068, 0.2647198186254047, -2.6985599960128646, -0.2857060352657619, -0.7059336808840253, 0.17851344877915792, -1.1872112018363015, 0.356400427218362, 0.6949620719212402, 1.7193507242959798, 0.15045354017786597, -0.18479491530568848, -1.239764615178371, 0.09444746482720447, -0.45253402974609547, 1.5240444051796522, -0.7166957289144503, 1.5593468757849867, -1.8811576668979677, -1.4952705913795905, 0.23129604965371198, -0.008759735894900082, 0.15443482118378815, -1.4297427857966751, -0.06765988265773787, -0.996787930590609, -0.4145939334371296, -0.43632955465216916, -0.7186990577837588, 0.5636984699664023, 0.21842881420586344], \"yaxis\": \"y3\"}, {\"line\": {\"color\": \"rgba(128, 128, 128, 1.0)\", \"dash\": \"solid\", \"shape\": \"linear\", \"width\": 1.3}, \"marker\": {\"size\": 2, \"symbol\": \"circle\"}, \"mode\": \"markers\", \"name\": \"A\", \"text\": \"\", \"type\": \"scatter\", \"x\": [-0.1676826507525291, 1.2118809377684863, -0.14438510911805277, -1.2551541941825473, 0.47279567513124054, -0.13691972737133096, -0.6546286217807619, -2.0102159510958035, 1.1208802815514152, -0.29512508742796867, -1.5022522770964233, 1.228763629283435, 0.44696925851188624, -0.2503946001911159, 1.345947912693738, -0.7338677287033788, -0.7782797541960733, 0.45719078900464705, 0.30022047398068186, 1.273494902181814, -0.942096576425137, -1.5984355314179504, -0.2081335137358246, -1.119897696669353, 1.1558179289865356, 0.5253760769966458, 1.4829236805169717, -0.20820180768859525, 0.2599409088733281, 0.8299263627400496, 0.6945443956044238, 0.9487852193715961, 1.6049832655815006, 0.6936468603647309, 0.2576136153170773, 0.35604033694235443, -0.9478443375481954, -1.803235372150516, -0.17490836960946665, 1.2990750788239707, -0.11963436583981464, -0.14107216164782235, -0.4994749068208888, -0.5039462481034059, 0.4078937285732624, -1.3623983044468144, -0.5599219479314879, -0.8890190693870289, -0.5453171088827993, -0.19400809571131336, 0.4379296859477579, 0.9569927628817722, 0.568551150400114, 0.4901505521614311, -0.629448856594338, -0.1760792563046624, 2.1872697925391145, -1.7987168928322443, 0.00021761034255523358, -0.1493581045492578, -0.005807956057387215, -0.2521294841944818, 0.5150335079331775, -0.33282032997917643, 0.7320714223225012, 1.213091682920328, 0.08904856186822144, 0.546964360145978, -0.5654829559521772, -0.5280370228475944, 1.569885386573116, 0.06951485652561938, 0.5586098056639801, 0.9944724520541559, -1.232692345109615, 0.20649908737588069, 0.9274326694569818, -1.4931803060081321, 0.5069500577515356, -0.10169518484504181, 0.7706117793406162, -0.6517223336891163, -2.0926704674673844, 0.31484554724907154, 1.9575227469312708, -0.4301303958607313, -0.5787778118510103, -1.0119872017638747, -0.40228534601618143, 2.038756953851408, -0.12949232464568516, -0.6066494611386877, 0.3603753685797563, 0.34132630582604756, 0.5730529829040087, 1.0288673586415396, 1.664345573048318, 1.3486877908341262, -0.484387603012384, 0.3733001066111924], \"xaxis\": \"x4\", \"y\": [-0.06542778015912247, -0.4983315985004792, -0.3932665761127589, -0.10616396259826238, -0.26207506689955234, 0.7886670736320832, -0.14377426502187782, -0.15273724910094455, -1.1338234021817963, 0.0009770267116028946, -0.7324620416267447, 0.06043111318599064, 0.623615648635299, -0.9898932119379665, -0.45086070577257026, -0.830303964658216, 1.5716630654715504, -1.0974693696329356, 0.4558388327103945, 1.2170495932316205, -0.32981680298429955, 0.2582423394595888, 0.4888856866509463, -0.6121681967574407, -0.5414245020009553, 2.713140457391276, 1.7423907028996293, 0.14142226924657475, 1.6632119799987835, -1.1316432740780005, 0.3761480797940717, -0.5145111245715915, 0.15963736908855272, 0.8356735998848508, -0.3565600825442002, 1.157899333248228, -0.4096165797423869, 0.5249195501867103, 0.5653237593734552, 1.072675824030473, -1.7986968659667908, 0.09444932233020178, 0.37476626326860707, -0.06564736959465206, 0.28052433882468464, 0.7190140964012359, -1.5830392770914365, 0.2644929549909655, -1.0006939493489782, 0.23636146599124183, 0.39176536250665306, 1.0010977258940492, 0.10143316005483165, -0.3368213254581548, -0.2971587471713649, -0.026228244623694424, 0.6624173371633474, -1.7218637928707545, -0.5923164125061781, -0.34970068099215595, -0.12555665412014028, -0.16897186432076375, 0.40905865555379467, -0.6632048676391282, 1.0816531446896442, -0.08061085564831709, -0.6898727254749667, -0.05582287614843459, 0.019644984580532536, -0.24593277126504068, 0.2647198186254047, -2.6985599960128646, -0.2857060352657619, -0.7059336808840253, 0.17851344877915792, -1.1872112018363015, 0.356400427218362, 0.6949620719212402, 1.7193507242959798, 0.15045354017786597, -0.18479491530568848, -1.239764615178371, 0.09444746482720447, -0.45253402974609547, 1.5240444051796522, -0.7166957289144503, 1.5593468757849867, -1.8811576668979677, -1.4952705913795905, 0.23129604965371198, -0.008759735894900082, 0.15443482118378815, -1.4297427857966751, -0.06765988265773787, -0.996787930590609, -0.4145939334371296, -0.43632955465216916, -0.7186990577837588, 0.5636984699664023, 0.21842881420586344], \"yaxis\": \"y4\"}, {\"line\": {\"color\": \"rgba(128, 128, 128, 1.0)\", \"dash\": \"solid\", \"shape\": \"linear\", \"width\": 1.3}, \"marker\": {\"size\": 2, \"symbol\": \"circle\"}, \"mode\": \"markers\", \"name\": \"B\", \"text\": \"\", \"type\": \"scatter\", \"x\": [-0.06542778015912247, -0.4983315985004792, -0.3932665761127589, -0.10616396259826238, -0.26207506689955234, 0.7886670736320832, -0.14377426502187782, -0.15273724910094455, -1.1338234021817963, 0.0009770267116028946, -0.7324620416267447, 0.06043111318599064, 0.623615648635299, -0.9898932119379665, -0.45086070577257026, -0.830303964658216, 1.5716630654715504, -1.0974693696329356, 0.4558388327103945, 1.2170495932316205, -0.32981680298429955, 0.2582423394595888, 0.4888856866509463, -0.6121681967574407, -0.5414245020009553, 2.713140457391276, 1.7423907028996293, 0.14142226924657475, 1.6632119799987835, -1.1316432740780005, 0.3761480797940717, -0.5145111245715915, 0.15963736908855272, 0.8356735998848508, -0.3565600825442002, 1.157899333248228, -0.4096165797423869, 0.5249195501867103, 0.5653237593734552, 1.072675824030473, -1.7986968659667908, 0.09444932233020178, 0.37476626326860707, -0.06564736959465206, 0.28052433882468464, 0.7190140964012359, -1.5830392770914365, 0.2644929549909655, -1.0006939493489782, 0.23636146599124183, 0.39176536250665306, 1.0010977258940492, 0.10143316005483165, -0.3368213254581548, -0.2971587471713649, -0.026228244623694424, 0.6624173371633474, -1.7218637928707545, -0.5923164125061781, -0.34970068099215595, -0.12555665412014028, -0.16897186432076375, 0.40905865555379467, -0.6632048676391282, 1.0816531446896442, -0.08061085564831709, -0.6898727254749667, -0.05582287614843459, 0.019644984580532536, -0.24593277126504068, 0.2647198186254047, -2.6985599960128646, -0.2857060352657619, -0.7059336808840253, 0.17851344877915792, -1.1872112018363015, 0.356400427218362, 0.6949620719212402, 1.7193507242959798, 0.15045354017786597, -0.18479491530568848, -1.239764615178371, 0.09444746482720447, -0.45253402974609547, 1.5240444051796522, -0.7166957289144503, 1.5593468757849867, -1.8811576668979677, -1.4952705913795905, 0.23129604965371198, -0.008759735894900082, 0.15443482118378815, -1.4297427857966751, -0.06765988265773787, -0.996787930590609, -0.4145939334371296, -0.43632955465216916, -0.7186990577837588, 0.5636984699664023, 0.21842881420586344], \"xaxis\": \"x5\", \"y\": [-0.8411370469674633, 0.8465936719276874, -2.0769241221253196, -0.6700626862026585, -0.5718851695463921, -0.09755403761810581, -0.44096635857130717, -0.19909691093629908, 1.5488170316881231, -0.058357642546699194, 0.919790098361005, 0.3594851568227443, -0.8769963650114245, -0.269976233378358, 0.24765485950810773, 0.269321910169165, -0.5505010270008414, -0.4072869079940033, 0.3517877394913619, -1.524489635082197, 0.12522454045167053, 0.9987328546532094, -1.3791792776183134, 0.05423843887016417, 0.2688011121653173, -0.19041155308139934, 0.10695575141382495, 1.7095876419986396, -1.170502100390321, 0.9290949508011905, -0.1939790752819657, -0.9278782561160333, -0.38128376570696293, 1.4196422528454338, -0.3327314727625212, 1.1991026923111583, 0.34681659229915696, -0.6206391541625019, 0.12742134556200654, 1.3243431685994702, -0.8269302595340654, 0.37966686811781725, -0.10344807908893425, -2.0544188879512295, -0.7464815409567633, -0.7767402402381235, -0.6637804281354422, 1.2517385487669808, 0.694873957911729, -0.06616754426101021, 0.0826020637563963, -0.8335126220950743, 1.5472354491421703, -1.1883781356830807, 0.6959161155628883, 1.6809774728363294, -0.23254175749586706, -1.9896207513535749, -0.23331842485528928, 2.178970408821887, 1.4573427100091558, -0.908432032880107, -0.44244867207382027, -0.4769298465440546, 1.3442857447410939, 0.8937306771278547, 1.2884460982984527, 0.25783105542154644, -0.5664819169183514, -0.18098321446330418, 0.331616555740629, -0.8005687231433739, 1.0988721156679697, 0.23696136067638396, 0.46500651711300106, -0.7528153647155813, 1.3412978052129945, -1.0199703145796095, 0.6413002728832091, -0.3193840554624845, -0.11664683969933677, 0.9687749026453907, 1.3239859553061233, -0.1362061691984603, 1.2241312871811287, 0.21623446478982422, -0.21314367553319472, 0.720151826365811, 1.462740448667771, -0.3436916812967713, 0.4324993105508277, -1.5619649073250985, -2.112441929480903, 0.06564522053701284, -0.28106050711775143, -0.07673876751490212, 0.9800922196622552, 0.03668337598725406, 0.22327999074166194, 0.37285586455157954], \"yaxis\": \"y5\"}, {\"histfunc\": \"count\", \"histnorm\": \"\", \"marker\": {\"color\": \"rgba(55, 128, 191, 1.0)\", \"line\": {\"color\": \"#4D5663\", \"width\": 1.3}}, \"name\": \"B\", \"nbinsx\": 10, \"opacity\": 0.8, \"orientation\": \"v\", \"type\": \"histogram\", \"x\": [-0.8411370469674633, 0.8465936719276874, -2.0769241221253196, -0.6700626862026585, -0.5718851695463921, -0.09755403761810581, -0.44096635857130717, -0.19909691093629908, 1.5488170316881231, -0.058357642546699194, 0.919790098361005, 0.3594851568227443, -0.8769963650114245, -0.269976233378358, 0.24765485950810773, 0.269321910169165, -0.5505010270008414, -0.4072869079940033, 0.3517877394913619, -1.524489635082197, 0.12522454045167053, 0.9987328546532094, -1.3791792776183134, 0.05423843887016417, 0.2688011121653173, -0.19041155308139934, 0.10695575141382495, 1.7095876419986396, -1.170502100390321, 0.9290949508011905, -0.1939790752819657, -0.9278782561160333, -0.38128376570696293, 1.4196422528454338, -0.3327314727625212, 1.1991026923111583, 0.34681659229915696, -0.6206391541625019, 0.12742134556200654, 1.3243431685994702, -0.8269302595340654, 0.37966686811781725, -0.10344807908893425, -2.0544188879512295, -0.7464815409567633, -0.7767402402381235, -0.6637804281354422, 1.2517385487669808, 0.694873957911729, -0.06616754426101021, 0.0826020637563963, -0.8335126220950743, 1.5472354491421703, -1.1883781356830807, 0.6959161155628883, 1.6809774728363294, -0.23254175749586706, -1.9896207513535749, -0.23331842485528928, 2.178970408821887, 1.4573427100091558, -0.908432032880107, -0.44244867207382027, -0.4769298465440546, 1.3442857447410939, 0.8937306771278547, 1.2884460982984527, 0.25783105542154644, -0.5664819169183514, -0.18098321446330418, 0.331616555740629, -0.8005687231433739, 1.0988721156679697, 0.23696136067638396, 0.46500651711300106, -0.7528153647155813, 1.3412978052129945, -1.0199703145796095, 0.6413002728832091, -0.3193840554624845, -0.11664683969933677, 0.9687749026453907, 1.3239859553061233, -0.1362061691984603, 1.2241312871811287, 0.21623446478982422, -0.21314367553319472, 0.720151826365811, 1.462740448667771, -0.3436916812967713, 0.4324993105508277, -1.5619649073250985, -2.112441929480903, 0.06564522053701284, -0.28106050711775143, -0.07673876751490212, 0.9800922196622552, 0.03668337598725406, 0.22327999074166194, 0.37285586455157954], \"xaxis\": \"x6\", \"yaxis\": \"y6\"}, {\"line\": {\"color\": \"rgba(128, 128, 128, 1.0)\", \"dash\": \"solid\", \"shape\": \"linear\", \"width\": 1.3}, \"marker\": {\"size\": 2, \"symbol\": \"circle\"}, \"mode\": \"markers\", \"name\": \"B\", \"text\": \"\", \"type\": \"scatter\", \"x\": [-0.7966720853754534, 0.6477728052325428, 0.4831523041440157, 0.3644435184704144, 1.7007141482853403, 0.9692581547170372, -1.0325150866471589, 0.8894145090528843, 0.026234933397009344, -1.4532861300849287, 0.9996873342754028, -3.1540275979967087, 0.4286746196441421, 0.21544993442106897, 0.32815484899890135, -0.2557793997881791, -0.5510292782435066, -0.037864298663310474, -0.3001542781668278, 0.6547112586968563, -0.2638110259566244, 0.04270028556177357, 0.4588145661267505, 0.6827466435778821, -0.6797951695755131, -0.631628789264434, 1.2686739319914158, -0.13697469209737578, -0.37601739069121415, -0.8836269003850051, -1.4608143618016922, 1.3273721485353875, -0.3303442629457333, -0.4926836056813009, -0.30853302763456075, 0.12524399651365264, -1.0046688429128623, 1.6056414456082, -0.6229691448825764, 1.4544036889163034, -0.17925644736933535, 0.6457018928601556, 1.3057340404004254, 1.0377701562575992, 0.10067046378193285, -0.5193570479240552, 1.018866169958515, -1.0160196153677243, 0.5337100384623303, 1.6205355319322285, -0.7913727440688946, -0.49715952576613726, -0.16625713899727948, 0.11911935123826942, -1.0818057514661825, 0.6097568557060469, -1.2965456248093972, 1.0870876169513466, 1.0750964186435534, 0.05160589607207159, 0.3245215550322822, 0.5356023888365272, -0.4871544420614186, 0.19487622359893275, 1.5356466295486764, -0.14339976837204832, -0.09037003239094622, -0.15840485892250952, 2.256471565398644, -0.40382312657022357, 0.2748706392238591, -0.535589705332484, -0.3062539118189085, -0.6890911081506442, -0.3888945228846208, -2.5564725209949843, -1.7287793754882044, -0.17981800885973726, -2.031603307882673, -0.5612039428452245, -1.2630554683468047, 0.33852167207166245, 1.0099798166528304, -0.2860404232817684, 1.315694043920557, 0.46960186531811526, 0.30832256911797395, -0.18939386825932636, 1.6175828171719604, 1.0777304529374765, -1.4665396721322217, -0.040704511478725704, -0.7183414312124572, -0.725399399095399, -0.5756244801360568, -0.6038091390486322, -1.1789772630804674, 0.26877630285131504, -0.4822196912052415, 1.0846006541025943], \"xaxis\": \"x7\", \"y\": [-0.8411370469674633, 0.8465936719276874, -2.0769241221253196, -0.6700626862026585, -0.5718851695463921, -0.09755403761810581, -0.44096635857130717, -0.19909691093629908, 1.5488170316881231, -0.058357642546699194, 0.919790098361005, 0.3594851568227443, -0.8769963650114245, -0.269976233378358, 0.24765485950810773, 0.269321910169165, -0.5505010270008414, -0.4072869079940033, 0.3517877394913619, -1.524489635082197, 0.12522454045167053, 0.9987328546532094, -1.3791792776183134, 0.05423843887016417, 0.2688011121653173, -0.19041155308139934, 0.10695575141382495, 1.7095876419986396, -1.170502100390321, 0.9290949508011905, -0.1939790752819657, -0.9278782561160333, -0.38128376570696293, 1.4196422528454338, -0.3327314727625212, 1.1991026923111583, 0.34681659229915696, -0.6206391541625019, 0.12742134556200654, 1.3243431685994702, -0.8269302595340654, 0.37966686811781725, -0.10344807908893425, -2.0544188879512295, -0.7464815409567633, -0.7767402402381235, -0.6637804281354422, 1.2517385487669808, 0.694873957911729, -0.06616754426101021, 0.0826020637563963, -0.8335126220950743, 1.5472354491421703, -1.1883781356830807, 0.6959161155628883, 1.6809774728363294, -0.23254175749586706, -1.9896207513535749, -0.23331842485528928, 2.178970408821887, 1.4573427100091558, -0.908432032880107, -0.44244867207382027, -0.4769298465440546, 1.3442857447410939, 0.8937306771278547, 1.2884460982984527, 0.25783105542154644, -0.5664819169183514, -0.18098321446330418, 0.331616555740629, -0.8005687231433739, 1.0988721156679697, 0.23696136067638396, 0.46500651711300106, -0.7528153647155813, 1.3412978052129945, -1.0199703145796095, 0.6413002728832091, -0.3193840554624845, -0.11664683969933677, 0.9687749026453907, 1.3239859553061233, -0.1362061691984603, 1.2241312871811287, 0.21623446478982422, -0.21314367553319472, 0.720151826365811, 1.462740448667771, -0.3436916812967713, 0.4324993105508277, -1.5619649073250985, -2.112441929480903, 0.06564522053701284, -0.28106050711775143, -0.07673876751490212, 0.9800922196622552, 0.03668337598725406, 0.22327999074166194, 0.37285586455157954], \"yaxis\": \"y7\"}, {\"line\": {\"color\": \"rgba(128, 128, 128, 1.0)\", \"dash\": \"solid\", \"shape\": \"linear\", \"width\": 1.3}, \"marker\": {\"size\": 2, \"symbol\": \"circle\"}, \"mode\": \"markers\", \"name\": \"B\", \"text\": \"\", \"type\": \"scatter\", \"x\": [-0.1676826507525291, 1.2118809377684863, -0.14438510911805277, -1.2551541941825473, 0.47279567513124054, -0.13691972737133096, -0.6546286217807619, -2.0102159510958035, 1.1208802815514152, -0.29512508742796867, -1.5022522770964233, 1.228763629283435, 0.44696925851188624, -0.2503946001911159, 1.345947912693738, -0.7338677287033788, -0.7782797541960733, 0.45719078900464705, 0.30022047398068186, 1.273494902181814, -0.942096576425137, -1.5984355314179504, -0.2081335137358246, -1.119897696669353, 1.1558179289865356, 0.5253760769966458, 1.4829236805169717, -0.20820180768859525, 0.2599409088733281, 0.8299263627400496, 0.6945443956044238, 0.9487852193715961, 1.6049832655815006, 0.6936468603647309, 0.2576136153170773, 0.35604033694235443, -0.9478443375481954, -1.803235372150516, -0.17490836960946665, 1.2990750788239707, -0.11963436583981464, -0.14107216164782235, -0.4994749068208888, -0.5039462481034059, 0.4078937285732624, -1.3623983044468144, -0.5599219479314879, -0.8890190693870289, -0.5453171088827993, -0.19400809571131336, 0.4379296859477579, 0.9569927628817722, 0.568551150400114, 0.4901505521614311, -0.629448856594338, -0.1760792563046624, 2.1872697925391145, -1.7987168928322443, 0.00021761034255523358, -0.1493581045492578, -0.005807956057387215, -0.2521294841944818, 0.5150335079331775, -0.33282032997917643, 0.7320714223225012, 1.213091682920328, 0.08904856186822144, 0.546964360145978, -0.5654829559521772, -0.5280370228475944, 1.569885386573116, 0.06951485652561938, 0.5586098056639801, 0.9944724520541559, -1.232692345109615, 0.20649908737588069, 0.9274326694569818, -1.4931803060081321, 0.5069500577515356, -0.10169518484504181, 0.7706117793406162, -0.6517223336891163, -2.0926704674673844, 0.31484554724907154, 1.9575227469312708, -0.4301303958607313, -0.5787778118510103, -1.0119872017638747, -0.40228534601618143, 2.038756953851408, -0.12949232464568516, -0.6066494611386877, 0.3603753685797563, 0.34132630582604756, 0.5730529829040087, 1.0288673586415396, 1.664345573048318, 1.3486877908341262, -0.484387603012384, 0.3733001066111924], \"xaxis\": \"x8\", \"y\": [-0.8411370469674633, 0.8465936719276874, -2.0769241221253196, -0.6700626862026585, -0.5718851695463921, -0.09755403761810581, -0.44096635857130717, -0.19909691093629908, 1.5488170316881231, -0.058357642546699194, 0.919790098361005, 0.3594851568227443, -0.8769963650114245, -0.269976233378358, 0.24765485950810773, 0.269321910169165, -0.5505010270008414, -0.4072869079940033, 0.3517877394913619, -1.524489635082197, 0.12522454045167053, 0.9987328546532094, -1.3791792776183134, 0.05423843887016417, 0.2688011121653173, -0.19041155308139934, 0.10695575141382495, 1.7095876419986396, -1.170502100390321, 0.9290949508011905, -0.1939790752819657, -0.9278782561160333, -0.38128376570696293, 1.4196422528454338, -0.3327314727625212, 1.1991026923111583, 0.34681659229915696, -0.6206391541625019, 0.12742134556200654, 1.3243431685994702, -0.8269302595340654, 0.37966686811781725, -0.10344807908893425, -2.0544188879512295, -0.7464815409567633, -0.7767402402381235, -0.6637804281354422, 1.2517385487669808, 0.694873957911729, -0.06616754426101021, 0.0826020637563963, -0.8335126220950743, 1.5472354491421703, -1.1883781356830807, 0.6959161155628883, 1.6809774728363294, -0.23254175749586706, -1.9896207513535749, -0.23331842485528928, 2.178970408821887, 1.4573427100091558, -0.908432032880107, -0.44244867207382027, -0.4769298465440546, 1.3442857447410939, 0.8937306771278547, 1.2884460982984527, 0.25783105542154644, -0.5664819169183514, -0.18098321446330418, 0.331616555740629, -0.8005687231433739, 1.0988721156679697, 0.23696136067638396, 0.46500651711300106, -0.7528153647155813, 1.3412978052129945, -1.0199703145796095, 0.6413002728832091, -0.3193840554624845, -0.11664683969933677, 0.9687749026453907, 1.3239859553061233, -0.1362061691984603, 1.2241312871811287, 0.21623446478982422, -0.21314367553319472, 0.720151826365811, 1.462740448667771, -0.3436916812967713, 0.4324993105508277, -1.5619649073250985, -2.112441929480903, 0.06564522053701284, -0.28106050711775143, -0.07673876751490212, 0.9800922196622552, 0.03668337598725406, 0.22327999074166194, 0.37285586455157954], \"yaxis\": \"y8\"}, {\"line\": {\"color\": \"rgba(128, 128, 128, 1.0)\", \"dash\": \"solid\", \"shape\": \"linear\", \"width\": 1.3}, \"marker\": {\"size\": 2, \"symbol\": \"circle\"}, \"mode\": \"markers\", \"name\": \"C\", \"text\": \"\", \"type\": \"scatter\", \"x\": [-0.06542778015912247, -0.4983315985004792, -0.3932665761127589, -0.10616396259826238, -0.26207506689955234, 0.7886670736320832, -0.14377426502187782, -0.15273724910094455, -1.1338234021817963, 0.0009770267116028946, -0.7324620416267447, 0.06043111318599064, 0.623615648635299, -0.9898932119379665, -0.45086070577257026, -0.830303964658216, 1.5716630654715504, -1.0974693696329356, 0.4558388327103945, 1.2170495932316205, -0.32981680298429955, 0.2582423394595888, 0.4888856866509463, -0.6121681967574407, -0.5414245020009553, 2.713140457391276, 1.7423907028996293, 0.14142226924657475, 1.6632119799987835, -1.1316432740780005, 0.3761480797940717, -0.5145111245715915, 0.15963736908855272, 0.8356735998848508, -0.3565600825442002, 1.157899333248228, -0.4096165797423869, 0.5249195501867103, 0.5653237593734552, 1.072675824030473, -1.7986968659667908, 0.09444932233020178, 0.37476626326860707, -0.06564736959465206, 0.28052433882468464, 0.7190140964012359, -1.5830392770914365, 0.2644929549909655, -1.0006939493489782, 0.23636146599124183, 0.39176536250665306, 1.0010977258940492, 0.10143316005483165, -0.3368213254581548, -0.2971587471713649, -0.026228244623694424, 0.6624173371633474, -1.7218637928707545, -0.5923164125061781, -0.34970068099215595, -0.12555665412014028, -0.16897186432076375, 0.40905865555379467, -0.6632048676391282, 1.0816531446896442, -0.08061085564831709, -0.6898727254749667, -0.05582287614843459, 0.019644984580532536, -0.24593277126504068, 0.2647198186254047, -2.6985599960128646, -0.2857060352657619, -0.7059336808840253, 0.17851344877915792, -1.1872112018363015, 0.356400427218362, 0.6949620719212402, 1.7193507242959798, 0.15045354017786597, -0.18479491530568848, -1.239764615178371, 0.09444746482720447, -0.45253402974609547, 1.5240444051796522, -0.7166957289144503, 1.5593468757849867, -1.8811576668979677, -1.4952705913795905, 0.23129604965371198, -0.008759735894900082, 0.15443482118378815, -1.4297427857966751, -0.06765988265773787, -0.996787930590609, -0.4145939334371296, -0.43632955465216916, -0.7186990577837588, 0.5636984699664023, 0.21842881420586344], \"xaxis\": \"x9\", \"y\": [-0.7966720853754534, 0.6477728052325428, 0.4831523041440157, 0.3644435184704144, 1.7007141482853403, 0.9692581547170372, -1.0325150866471589, 0.8894145090528843, 0.026234933397009344, -1.4532861300849287, 0.9996873342754028, -3.1540275979967087, 0.4286746196441421, 0.21544993442106897, 0.32815484899890135, -0.2557793997881791, -0.5510292782435066, -0.037864298663310474, -0.3001542781668278, 0.6547112586968563, -0.2638110259566244, 0.04270028556177357, 0.4588145661267505, 0.6827466435778821, -0.6797951695755131, -0.631628789264434, 1.2686739319914158, -0.13697469209737578, -0.37601739069121415, -0.8836269003850051, -1.4608143618016922, 1.3273721485353875, -0.3303442629457333, -0.4926836056813009, -0.30853302763456075, 0.12524399651365264, -1.0046688429128623, 1.6056414456082, -0.6229691448825764, 1.4544036889163034, -0.17925644736933535, 0.6457018928601556, 1.3057340404004254, 1.0377701562575992, 0.10067046378193285, -0.5193570479240552, 1.018866169958515, -1.0160196153677243, 0.5337100384623303, 1.6205355319322285, -0.7913727440688946, -0.49715952576613726, -0.16625713899727948, 0.11911935123826942, -1.0818057514661825, 0.6097568557060469, -1.2965456248093972, 1.0870876169513466, 1.0750964186435534, 0.05160589607207159, 0.3245215550322822, 0.5356023888365272, -0.4871544420614186, 0.19487622359893275, 1.5356466295486764, -0.14339976837204832, -0.09037003239094622, -0.15840485892250952, 2.256471565398644, -0.40382312657022357, 0.2748706392238591, -0.535589705332484, -0.3062539118189085, -0.6890911081506442, -0.3888945228846208, -2.5564725209949843, -1.7287793754882044, -0.17981800885973726, -2.031603307882673, -0.5612039428452245, -1.2630554683468047, 0.33852167207166245, 1.0099798166528304, -0.2860404232817684, 1.315694043920557, 0.46960186531811526, 0.30832256911797395, -0.18939386825932636, 1.6175828171719604, 1.0777304529374765, -1.4665396721322217, -0.040704511478725704, -0.7183414312124572, -0.725399399095399, -0.5756244801360568, -0.6038091390486322, -1.1789772630804674, 0.26877630285131504, -0.4822196912052415, 1.0846006541025943], \"yaxis\": \"y9\"}, {\"line\": {\"color\": \"rgba(128, 128, 128, 1.0)\", \"dash\": \"solid\", \"shape\": \"linear\", \"width\": 1.3}, \"marker\": {\"size\": 2, \"symbol\": \"circle\"}, \"mode\": \"markers\", \"name\": \"C\", \"text\": \"\", \"type\": \"scatter\", \"x\": [-0.8411370469674633, 0.8465936719276874, -2.0769241221253196, -0.6700626862026585, -0.5718851695463921, -0.09755403761810581, -0.44096635857130717, -0.19909691093629908, 1.5488170316881231, -0.058357642546699194, 0.919790098361005, 0.3594851568227443, -0.8769963650114245, -0.269976233378358, 0.24765485950810773, 0.269321910169165, -0.5505010270008414, -0.4072869079940033, 0.3517877394913619, -1.524489635082197, 0.12522454045167053, 0.9987328546532094, -1.3791792776183134, 0.05423843887016417, 0.2688011121653173, -0.19041155308139934, 0.10695575141382495, 1.7095876419986396, -1.170502100390321, 0.9290949508011905, -0.1939790752819657, -0.9278782561160333, -0.38128376570696293, 1.4196422528454338, -0.3327314727625212, 1.1991026923111583, 0.34681659229915696, -0.6206391541625019, 0.12742134556200654, 1.3243431685994702, -0.8269302595340654, 0.37966686811781725, -0.10344807908893425, -2.0544188879512295, -0.7464815409567633, -0.7767402402381235, -0.6637804281354422, 1.2517385487669808, 0.694873957911729, -0.06616754426101021, 0.0826020637563963, -0.8335126220950743, 1.5472354491421703, -1.1883781356830807, 0.6959161155628883, 1.6809774728363294, -0.23254175749586706, -1.9896207513535749, -0.23331842485528928, 2.178970408821887, 1.4573427100091558, -0.908432032880107, -0.44244867207382027, -0.4769298465440546, 1.3442857447410939, 0.8937306771278547, 1.2884460982984527, 0.25783105542154644, -0.5664819169183514, -0.18098321446330418, 0.331616555740629, -0.8005687231433739, 1.0988721156679697, 0.23696136067638396, 0.46500651711300106, -0.7528153647155813, 1.3412978052129945, -1.0199703145796095, 0.6413002728832091, -0.3193840554624845, -0.11664683969933677, 0.9687749026453907, 1.3239859553061233, -0.1362061691984603, 1.2241312871811287, 0.21623446478982422, -0.21314367553319472, 0.720151826365811, 1.462740448667771, -0.3436916812967713, 0.4324993105508277, -1.5619649073250985, -2.112441929480903, 0.06564522053701284, -0.28106050711775143, -0.07673876751490212, 0.9800922196622552, 0.03668337598725406, 0.22327999074166194, 0.37285586455157954], \"xaxis\": \"x10\", \"y\": [-0.7966720853754534, 0.6477728052325428, 0.4831523041440157, 0.3644435184704144, 1.7007141482853403, 0.9692581547170372, -1.0325150866471589, 0.8894145090528843, 0.026234933397009344, -1.4532861300849287, 0.9996873342754028, -3.1540275979967087, 0.4286746196441421, 0.21544993442106897, 0.32815484899890135, -0.2557793997881791, -0.5510292782435066, -0.037864298663310474, -0.3001542781668278, 0.6547112586968563, -0.2638110259566244, 0.04270028556177357, 0.4588145661267505, 0.6827466435778821, -0.6797951695755131, -0.631628789264434, 1.2686739319914158, -0.13697469209737578, -0.37601739069121415, -0.8836269003850051, -1.4608143618016922, 1.3273721485353875, -0.3303442629457333, -0.4926836056813009, -0.30853302763456075, 0.12524399651365264, -1.0046688429128623, 1.6056414456082, -0.6229691448825764, 1.4544036889163034, -0.17925644736933535, 0.6457018928601556, 1.3057340404004254, 1.0377701562575992, 0.10067046378193285, -0.5193570479240552, 1.018866169958515, -1.0160196153677243, 0.5337100384623303, 1.6205355319322285, -0.7913727440688946, -0.49715952576613726, -0.16625713899727948, 0.11911935123826942, -1.0818057514661825, 0.6097568557060469, -1.2965456248093972, 1.0870876169513466, 1.0750964186435534, 0.05160589607207159, 0.3245215550322822, 0.5356023888365272, -0.4871544420614186, 0.19487622359893275, 1.5356466295486764, -0.14339976837204832, -0.09037003239094622, -0.15840485892250952, 2.256471565398644, -0.40382312657022357, 0.2748706392238591, -0.535589705332484, -0.3062539118189085, -0.6890911081506442, -0.3888945228846208, -2.5564725209949843, -1.7287793754882044, -0.17981800885973726, -2.031603307882673, -0.5612039428452245, -1.2630554683468047, 0.33852167207166245, 1.0099798166528304, -0.2860404232817684, 1.315694043920557, 0.46960186531811526, 0.30832256911797395, -0.18939386825932636, 1.6175828171719604, 1.0777304529374765, -1.4665396721322217, -0.040704511478725704, -0.7183414312124572, -0.725399399095399, -0.5756244801360568, -0.6038091390486322, -1.1789772630804674, 0.26877630285131504, -0.4822196912052415, 1.0846006541025943], \"yaxis\": \"y10\"}, {\"histfunc\": \"count\", \"histnorm\": \"\", \"marker\": {\"color\": \"rgba(50, 171, 96, 1.0)\", \"line\": {\"color\": \"#4D5663\", \"width\": 1.3}}, \"name\": \"C\", \"nbinsx\": 10, \"opacity\": 0.8, \"orientation\": \"v\", \"type\": \"histogram\", \"x\": [-0.7966720853754534, 0.6477728052325428, 0.4831523041440157, 0.3644435184704144, 1.7007141482853403, 0.9692581547170372, -1.0325150866471589, 0.8894145090528843, 0.026234933397009344, -1.4532861300849287, 0.9996873342754028, -3.1540275979967087, 0.4286746196441421, 0.21544993442106897, 0.32815484899890135, -0.2557793997881791, -0.5510292782435066, -0.037864298663310474, -0.3001542781668278, 0.6547112586968563, -0.2638110259566244, 0.04270028556177357, 0.4588145661267505, 0.6827466435778821, -0.6797951695755131, -0.631628789264434, 1.2686739319914158, -0.13697469209737578, -0.37601739069121415, -0.8836269003850051, -1.4608143618016922, 1.3273721485353875, -0.3303442629457333, -0.4926836056813009, -0.30853302763456075, 0.12524399651365264, -1.0046688429128623, 1.6056414456082, -0.6229691448825764, 1.4544036889163034, -0.17925644736933535, 0.6457018928601556, 1.3057340404004254, 1.0377701562575992, 0.10067046378193285, -0.5193570479240552, 1.018866169958515, -1.0160196153677243, 0.5337100384623303, 1.6205355319322285, -0.7913727440688946, -0.49715952576613726, -0.16625713899727948, 0.11911935123826942, -1.0818057514661825, 0.6097568557060469, -1.2965456248093972, 1.0870876169513466, 1.0750964186435534, 0.05160589607207159, 0.3245215550322822, 0.5356023888365272, -0.4871544420614186, 0.19487622359893275, 1.5356466295486764, -0.14339976837204832, -0.09037003239094622, -0.15840485892250952, 2.256471565398644, -0.40382312657022357, 0.2748706392238591, -0.535589705332484, -0.3062539118189085, -0.6890911081506442, -0.3888945228846208, -2.5564725209949843, -1.7287793754882044, -0.17981800885973726, -2.031603307882673, -0.5612039428452245, -1.2630554683468047, 0.33852167207166245, 1.0099798166528304, -0.2860404232817684, 1.315694043920557, 0.46960186531811526, 0.30832256911797395, -0.18939386825932636, 1.6175828171719604, 1.0777304529374765, -1.4665396721322217, -0.040704511478725704, -0.7183414312124572, -0.725399399095399, -0.5756244801360568, -0.6038091390486322, -1.1789772630804674, 0.26877630285131504, -0.4822196912052415, 1.0846006541025943], \"xaxis\": \"x11\", \"yaxis\": \"y11\"}, {\"line\": {\"color\": \"rgba(128, 128, 128, 1.0)\", \"dash\": \"solid\", \"shape\": \"linear\", \"width\": 1.3}, \"marker\": {\"size\": 2, \"symbol\": \"circle\"}, \"mode\": \"markers\", \"name\": \"C\", \"text\": \"\", \"type\": \"scatter\", \"x\": [-0.1676826507525291, 1.2118809377684863, -0.14438510911805277, -1.2551541941825473, 0.47279567513124054, -0.13691972737133096, -0.6546286217807619, -2.0102159510958035, 1.1208802815514152, -0.29512508742796867, -1.5022522770964233, 1.228763629283435, 0.44696925851188624, -0.2503946001911159, 1.345947912693738, -0.7338677287033788, -0.7782797541960733, 0.45719078900464705, 0.30022047398068186, 1.273494902181814, -0.942096576425137, -1.5984355314179504, -0.2081335137358246, -1.119897696669353, 1.1558179289865356, 0.5253760769966458, 1.4829236805169717, -0.20820180768859525, 0.2599409088733281, 0.8299263627400496, 0.6945443956044238, 0.9487852193715961, 1.6049832655815006, 0.6936468603647309, 0.2576136153170773, 0.35604033694235443, -0.9478443375481954, -1.803235372150516, -0.17490836960946665, 1.2990750788239707, -0.11963436583981464, -0.14107216164782235, -0.4994749068208888, -0.5039462481034059, 0.4078937285732624, -1.3623983044468144, -0.5599219479314879, -0.8890190693870289, -0.5453171088827993, -0.19400809571131336, 0.4379296859477579, 0.9569927628817722, 0.568551150400114, 0.4901505521614311, -0.629448856594338, -0.1760792563046624, 2.1872697925391145, -1.7987168928322443, 0.00021761034255523358, -0.1493581045492578, -0.005807956057387215, -0.2521294841944818, 0.5150335079331775, -0.33282032997917643, 0.7320714223225012, 1.213091682920328, 0.08904856186822144, 0.546964360145978, -0.5654829559521772, -0.5280370228475944, 1.569885386573116, 0.06951485652561938, 0.5586098056639801, 0.9944724520541559, -1.232692345109615, 0.20649908737588069, 0.9274326694569818, -1.4931803060081321, 0.5069500577515356, -0.10169518484504181, 0.7706117793406162, -0.6517223336891163, -2.0926704674673844, 0.31484554724907154, 1.9575227469312708, -0.4301303958607313, -0.5787778118510103, -1.0119872017638747, -0.40228534601618143, 2.038756953851408, -0.12949232464568516, -0.6066494611386877, 0.3603753685797563, 0.34132630582604756, 0.5730529829040087, 1.0288673586415396, 1.664345573048318, 1.3486877908341262, -0.484387603012384, 0.3733001066111924], \"xaxis\": \"x12\", \"y\": [-0.7966720853754534, 0.6477728052325428, 0.4831523041440157, 0.3644435184704144, 1.7007141482853403, 0.9692581547170372, -1.0325150866471589, 0.8894145090528843, 0.026234933397009344, -1.4532861300849287, 0.9996873342754028, -3.1540275979967087, 0.4286746196441421, 0.21544993442106897, 0.32815484899890135, -0.2557793997881791, -0.5510292782435066, -0.037864298663310474, -0.3001542781668278, 0.6547112586968563, -0.2638110259566244, 0.04270028556177357, 0.4588145661267505, 0.6827466435778821, -0.6797951695755131, -0.631628789264434, 1.2686739319914158, -0.13697469209737578, -0.37601739069121415, -0.8836269003850051, -1.4608143618016922, 1.3273721485353875, -0.3303442629457333, -0.4926836056813009, -0.30853302763456075, 0.12524399651365264, -1.0046688429128623, 1.6056414456082, -0.6229691448825764, 1.4544036889163034, -0.17925644736933535, 0.6457018928601556, 1.3057340404004254, 1.0377701562575992, 0.10067046378193285, -0.5193570479240552, 1.018866169958515, -1.0160196153677243, 0.5337100384623303, 1.6205355319322285, -0.7913727440688946, -0.49715952576613726, -0.16625713899727948, 0.11911935123826942, -1.0818057514661825, 0.6097568557060469, -1.2965456248093972, 1.0870876169513466, 1.0750964186435534, 0.05160589607207159, 0.3245215550322822, 0.5356023888365272, -0.4871544420614186, 0.19487622359893275, 1.5356466295486764, -0.14339976837204832, -0.09037003239094622, -0.15840485892250952, 2.256471565398644, -0.40382312657022357, 0.2748706392238591, -0.535589705332484, -0.3062539118189085, -0.6890911081506442, -0.3888945228846208, -2.5564725209949843, -1.7287793754882044, -0.17981800885973726, -2.031603307882673, -0.5612039428452245, -1.2630554683468047, 0.33852167207166245, 1.0099798166528304, -0.2860404232817684, 1.315694043920557, 0.46960186531811526, 0.30832256911797395, -0.18939386825932636, 1.6175828171719604, 1.0777304529374765, -1.4665396721322217, -0.040704511478725704, -0.7183414312124572, -0.725399399095399, -0.5756244801360568, -0.6038091390486322, -1.1789772630804674, 0.26877630285131504, -0.4822196912052415, 1.0846006541025943], \"yaxis\": \"y12\"}, {\"line\": {\"color\": \"rgba(128, 128, 128, 1.0)\", \"dash\": \"solid\", \"shape\": \"linear\", \"width\": 1.3}, \"marker\": {\"size\": 2, \"symbol\": \"circle\"}, \"mode\": \"markers\", \"name\": \"D\", \"text\": \"\", \"type\": \"scatter\", \"x\": [-0.06542778015912247, -0.4983315985004792, -0.3932665761127589, -0.10616396259826238, -0.26207506689955234, 0.7886670736320832, -0.14377426502187782, -0.15273724910094455, -1.1338234021817963, 0.0009770267116028946, -0.7324620416267447, 0.06043111318599064, 0.623615648635299, -0.9898932119379665, -0.45086070577257026, -0.830303964658216, 1.5716630654715504, -1.0974693696329356, 0.4558388327103945, 1.2170495932316205, -0.32981680298429955, 0.2582423394595888, 0.4888856866509463, -0.6121681967574407, -0.5414245020009553, 2.713140457391276, 1.7423907028996293, 0.14142226924657475, 1.6632119799987835, -1.1316432740780005, 0.3761480797940717, -0.5145111245715915, 0.15963736908855272, 0.8356735998848508, -0.3565600825442002, 1.157899333248228, -0.4096165797423869, 0.5249195501867103, 0.5653237593734552, 1.072675824030473, -1.7986968659667908, 0.09444932233020178, 0.37476626326860707, -0.06564736959465206, 0.28052433882468464, 0.7190140964012359, -1.5830392770914365, 0.2644929549909655, -1.0006939493489782, 0.23636146599124183, 0.39176536250665306, 1.0010977258940492, 0.10143316005483165, -0.3368213254581548, -0.2971587471713649, -0.026228244623694424, 0.6624173371633474, -1.7218637928707545, -0.5923164125061781, -0.34970068099215595, -0.12555665412014028, -0.16897186432076375, 0.40905865555379467, -0.6632048676391282, 1.0816531446896442, -0.08061085564831709, -0.6898727254749667, -0.05582287614843459, 0.019644984580532536, -0.24593277126504068, 0.2647198186254047, -2.6985599960128646, -0.2857060352657619, -0.7059336808840253, 0.17851344877915792, -1.1872112018363015, 0.356400427218362, 0.6949620719212402, 1.7193507242959798, 0.15045354017786597, -0.18479491530568848, -1.239764615178371, 0.09444746482720447, -0.45253402974609547, 1.5240444051796522, -0.7166957289144503, 1.5593468757849867, -1.8811576668979677, -1.4952705913795905, 0.23129604965371198, -0.008759735894900082, 0.15443482118378815, -1.4297427857966751, -0.06765988265773787, -0.996787930590609, -0.4145939334371296, -0.43632955465216916, -0.7186990577837588, 0.5636984699664023, 0.21842881420586344], \"xaxis\": \"x13\", \"y\": [-0.1676826507525291, 1.2118809377684863, -0.14438510911805277, -1.2551541941825473, 0.47279567513124054, -0.13691972737133096, -0.6546286217807619, -2.0102159510958035, 1.1208802815514152, -0.29512508742796867, -1.5022522770964233, 1.228763629283435, 0.44696925851188624, -0.2503946001911159, 1.345947912693738, -0.7338677287033788, -0.7782797541960733, 0.45719078900464705, 0.30022047398068186, 1.273494902181814, -0.942096576425137, -1.5984355314179504, -0.2081335137358246, -1.119897696669353, 1.1558179289865356, 0.5253760769966458, 1.4829236805169717, -0.20820180768859525, 0.2599409088733281, 0.8299263627400496, 0.6945443956044238, 0.9487852193715961, 1.6049832655815006, 0.6936468603647309, 0.2576136153170773, 0.35604033694235443, -0.9478443375481954, -1.803235372150516, -0.17490836960946665, 1.2990750788239707, -0.11963436583981464, -0.14107216164782235, -0.4994749068208888, -0.5039462481034059, 0.4078937285732624, -1.3623983044468144, -0.5599219479314879, -0.8890190693870289, -0.5453171088827993, -0.19400809571131336, 0.4379296859477579, 0.9569927628817722, 0.568551150400114, 0.4901505521614311, -0.629448856594338, -0.1760792563046624, 2.1872697925391145, -1.7987168928322443, 0.00021761034255523358, -0.1493581045492578, -0.005807956057387215, -0.2521294841944818, 0.5150335079331775, -0.33282032997917643, 0.7320714223225012, 1.213091682920328, 0.08904856186822144, 0.546964360145978, -0.5654829559521772, -0.5280370228475944, 1.569885386573116, 0.06951485652561938, 0.5586098056639801, 0.9944724520541559, -1.232692345109615, 0.20649908737588069, 0.9274326694569818, -1.4931803060081321, 0.5069500577515356, -0.10169518484504181, 0.7706117793406162, -0.6517223336891163, -2.0926704674673844, 0.31484554724907154, 1.9575227469312708, -0.4301303958607313, -0.5787778118510103, -1.0119872017638747, -0.40228534601618143, 2.038756953851408, -0.12949232464568516, -0.6066494611386877, 0.3603753685797563, 0.34132630582604756, 0.5730529829040087, 1.0288673586415396, 1.664345573048318, 1.3486877908341262, -0.484387603012384, 0.3733001066111924], \"yaxis\": \"y13\"}, {\"line\": {\"color\": \"rgba(128, 128, 128, 1.0)\", \"dash\": \"solid\", \"shape\": \"linear\", \"width\": 1.3}, \"marker\": {\"size\": 2, \"symbol\": \"circle\"}, \"mode\": \"markers\", \"name\": \"D\", \"text\": \"\", \"type\": \"scatter\", \"x\": [-0.8411370469674633, 0.8465936719276874, -2.0769241221253196, -0.6700626862026585, -0.5718851695463921, -0.09755403761810581, -0.44096635857130717, -0.19909691093629908, 1.5488170316881231, -0.058357642546699194, 0.919790098361005, 0.3594851568227443, -0.8769963650114245, -0.269976233378358, 0.24765485950810773, 0.269321910169165, -0.5505010270008414, -0.4072869079940033, 0.3517877394913619, -1.524489635082197, 0.12522454045167053, 0.9987328546532094, -1.3791792776183134, 0.05423843887016417, 0.2688011121653173, -0.19041155308139934, 0.10695575141382495, 1.7095876419986396, -1.170502100390321, 0.9290949508011905, -0.1939790752819657, -0.9278782561160333, -0.38128376570696293, 1.4196422528454338, -0.3327314727625212, 1.1991026923111583, 0.34681659229915696, -0.6206391541625019, 0.12742134556200654, 1.3243431685994702, -0.8269302595340654, 0.37966686811781725, -0.10344807908893425, -2.0544188879512295, -0.7464815409567633, -0.7767402402381235, -0.6637804281354422, 1.2517385487669808, 0.694873957911729, -0.06616754426101021, 0.0826020637563963, -0.8335126220950743, 1.5472354491421703, -1.1883781356830807, 0.6959161155628883, 1.6809774728363294, -0.23254175749586706, -1.9896207513535749, -0.23331842485528928, 2.178970408821887, 1.4573427100091558, -0.908432032880107, -0.44244867207382027, -0.4769298465440546, 1.3442857447410939, 0.8937306771278547, 1.2884460982984527, 0.25783105542154644, -0.5664819169183514, -0.18098321446330418, 0.331616555740629, -0.8005687231433739, 1.0988721156679697, 0.23696136067638396, 0.46500651711300106, -0.7528153647155813, 1.3412978052129945, -1.0199703145796095, 0.6413002728832091, -0.3193840554624845, -0.11664683969933677, 0.9687749026453907, 1.3239859553061233, -0.1362061691984603, 1.2241312871811287, 0.21623446478982422, -0.21314367553319472, 0.720151826365811, 1.462740448667771, -0.3436916812967713, 0.4324993105508277, -1.5619649073250985, -2.112441929480903, 0.06564522053701284, -0.28106050711775143, -0.07673876751490212, 0.9800922196622552, 0.03668337598725406, 0.22327999074166194, 0.37285586455157954], \"xaxis\": \"x14\", \"y\": [-0.1676826507525291, 1.2118809377684863, -0.14438510911805277, -1.2551541941825473, 0.47279567513124054, -0.13691972737133096, -0.6546286217807619, -2.0102159510958035, 1.1208802815514152, -0.29512508742796867, -1.5022522770964233, 1.228763629283435, 0.44696925851188624, -0.2503946001911159, 1.345947912693738, -0.7338677287033788, -0.7782797541960733, 0.45719078900464705, 0.30022047398068186, 1.273494902181814, -0.942096576425137, -1.5984355314179504, -0.2081335137358246, -1.119897696669353, 1.1558179289865356, 0.5253760769966458, 1.4829236805169717, -0.20820180768859525, 0.2599409088733281, 0.8299263627400496, 0.6945443956044238, 0.9487852193715961, 1.6049832655815006, 0.6936468603647309, 0.2576136153170773, 0.35604033694235443, -0.9478443375481954, -1.803235372150516, -0.17490836960946665, 1.2990750788239707, -0.11963436583981464, -0.14107216164782235, -0.4994749068208888, -0.5039462481034059, 0.4078937285732624, -1.3623983044468144, -0.5599219479314879, -0.8890190693870289, -0.5453171088827993, -0.19400809571131336, 0.4379296859477579, 0.9569927628817722, 0.568551150400114, 0.4901505521614311, -0.629448856594338, -0.1760792563046624, 2.1872697925391145, -1.7987168928322443, 0.00021761034255523358, -0.1493581045492578, -0.005807956057387215, -0.2521294841944818, 0.5150335079331775, -0.33282032997917643, 0.7320714223225012, 1.213091682920328, 0.08904856186822144, 0.546964360145978, -0.5654829559521772, -0.5280370228475944, 1.569885386573116, 0.06951485652561938, 0.5586098056639801, 0.9944724520541559, -1.232692345109615, 0.20649908737588069, 0.9274326694569818, -1.4931803060081321, 0.5069500577515356, -0.10169518484504181, 0.7706117793406162, -0.6517223336891163, -2.0926704674673844, 0.31484554724907154, 1.9575227469312708, -0.4301303958607313, -0.5787778118510103, -1.0119872017638747, -0.40228534601618143, 2.038756953851408, -0.12949232464568516, -0.6066494611386877, 0.3603753685797563, 0.34132630582604756, 0.5730529829040087, 1.0288673586415396, 1.664345573048318, 1.3486877908341262, -0.484387603012384, 0.3733001066111924], \"yaxis\": \"y14\"}, {\"line\": {\"color\": \"rgba(128, 128, 128, 1.0)\", \"dash\": \"solid\", \"shape\": \"linear\", \"width\": 1.3}, \"marker\": {\"size\": 2, \"symbol\": \"circle\"}, \"mode\": \"markers\", \"name\": \"D\", \"text\": \"\", \"type\": \"scatter\", \"x\": [-0.7966720853754534, 0.6477728052325428, 0.4831523041440157, 0.3644435184704144, 1.7007141482853403, 0.9692581547170372, -1.0325150866471589, 0.8894145090528843, 0.026234933397009344, -1.4532861300849287, 0.9996873342754028, -3.1540275979967087, 0.4286746196441421, 0.21544993442106897, 0.32815484899890135, -0.2557793997881791, -0.5510292782435066, -0.037864298663310474, -0.3001542781668278, 0.6547112586968563, -0.2638110259566244, 0.04270028556177357, 0.4588145661267505, 0.6827466435778821, -0.6797951695755131, -0.631628789264434, 1.2686739319914158, -0.13697469209737578, -0.37601739069121415, -0.8836269003850051, -1.4608143618016922, 1.3273721485353875, -0.3303442629457333, -0.4926836056813009, -0.30853302763456075, 0.12524399651365264, -1.0046688429128623, 1.6056414456082, -0.6229691448825764, 1.4544036889163034, -0.17925644736933535, 0.6457018928601556, 1.3057340404004254, 1.0377701562575992, 0.10067046378193285, -0.5193570479240552, 1.018866169958515, -1.0160196153677243, 0.5337100384623303, 1.6205355319322285, -0.7913727440688946, -0.49715952576613726, -0.16625713899727948, 0.11911935123826942, -1.0818057514661825, 0.6097568557060469, -1.2965456248093972, 1.0870876169513466, 1.0750964186435534, 0.05160589607207159, 0.3245215550322822, 0.5356023888365272, -0.4871544420614186, 0.19487622359893275, 1.5356466295486764, -0.14339976837204832, -0.09037003239094622, -0.15840485892250952, 2.256471565398644, -0.40382312657022357, 0.2748706392238591, -0.535589705332484, -0.3062539118189085, -0.6890911081506442, -0.3888945228846208, -2.5564725209949843, -1.7287793754882044, -0.17981800885973726, -2.031603307882673, -0.5612039428452245, -1.2630554683468047, 0.33852167207166245, 1.0099798166528304, -0.2860404232817684, 1.315694043920557, 0.46960186531811526, 0.30832256911797395, -0.18939386825932636, 1.6175828171719604, 1.0777304529374765, -1.4665396721322217, -0.040704511478725704, -0.7183414312124572, -0.725399399095399, -0.5756244801360568, -0.6038091390486322, -1.1789772630804674, 0.26877630285131504, -0.4822196912052415, 1.0846006541025943], \"xaxis\": \"x15\", \"y\": [-0.1676826507525291, 1.2118809377684863, -0.14438510911805277, -1.2551541941825473, 0.47279567513124054, -0.13691972737133096, -0.6546286217807619, -2.0102159510958035, 1.1208802815514152, -0.29512508742796867, -1.5022522770964233, 1.228763629283435, 0.44696925851188624, -0.2503946001911159, 1.345947912693738, -0.7338677287033788, -0.7782797541960733, 0.45719078900464705, 0.30022047398068186, 1.273494902181814, -0.942096576425137, -1.5984355314179504, -0.2081335137358246, -1.119897696669353, 1.1558179289865356, 0.5253760769966458, 1.4829236805169717, -0.20820180768859525, 0.2599409088733281, 0.8299263627400496, 0.6945443956044238, 0.9487852193715961, 1.6049832655815006, 0.6936468603647309, 0.2576136153170773, 0.35604033694235443, -0.9478443375481954, -1.803235372150516, -0.17490836960946665, 1.2990750788239707, -0.11963436583981464, -0.14107216164782235, -0.4994749068208888, -0.5039462481034059, 0.4078937285732624, -1.3623983044468144, -0.5599219479314879, -0.8890190693870289, -0.5453171088827993, -0.19400809571131336, 0.4379296859477579, 0.9569927628817722, 0.568551150400114, 0.4901505521614311, -0.629448856594338, -0.1760792563046624, 2.1872697925391145, -1.7987168928322443, 0.00021761034255523358, -0.1493581045492578, -0.005807956057387215, -0.2521294841944818, 0.5150335079331775, -0.33282032997917643, 0.7320714223225012, 1.213091682920328, 0.08904856186822144, 0.546964360145978, -0.5654829559521772, -0.5280370228475944, 1.569885386573116, 0.06951485652561938, 0.5586098056639801, 0.9944724520541559, -1.232692345109615, 0.20649908737588069, 0.9274326694569818, -1.4931803060081321, 0.5069500577515356, -0.10169518484504181, 0.7706117793406162, -0.6517223336891163, -2.0926704674673844, 0.31484554724907154, 1.9575227469312708, -0.4301303958607313, -0.5787778118510103, -1.0119872017638747, -0.40228534601618143, 2.038756953851408, -0.12949232464568516, -0.6066494611386877, 0.3603753685797563, 0.34132630582604756, 0.5730529829040087, 1.0288673586415396, 1.664345573048318, 1.3486877908341262, -0.484387603012384, 0.3733001066111924], \"yaxis\": \"y15\"}, {\"histfunc\": \"count\", \"histnorm\": \"\", \"marker\": {\"color\": \"rgba(128, 0, 128, 1.0)\", \"line\": {\"color\": \"#4D5663\", \"width\": 1.3}}, \"name\": \"D\", \"nbinsx\": 10, \"opacity\": 0.8, \"orientation\": \"v\", \"type\": \"histogram\", \"x\": [-0.1676826507525291, 1.2118809377684863, -0.14438510911805277, -1.2551541941825473, 0.47279567513124054, -0.13691972737133096, -0.6546286217807619, -2.0102159510958035, 1.1208802815514152, -0.29512508742796867, -1.5022522770964233, 1.228763629283435, 0.44696925851188624, -0.2503946001911159, 1.345947912693738, -0.7338677287033788, -0.7782797541960733, 0.45719078900464705, 0.30022047398068186, 1.273494902181814, -0.942096576425137, -1.5984355314179504, -0.2081335137358246, -1.119897696669353, 1.1558179289865356, 0.5253760769966458, 1.4829236805169717, -0.20820180768859525, 0.2599409088733281, 0.8299263627400496, 0.6945443956044238, 0.9487852193715961, 1.6049832655815006, 0.6936468603647309, 0.2576136153170773, 0.35604033694235443, -0.9478443375481954, -1.803235372150516, -0.17490836960946665, 1.2990750788239707, -0.11963436583981464, -0.14107216164782235, -0.4994749068208888, -0.5039462481034059, 0.4078937285732624, -1.3623983044468144, -0.5599219479314879, -0.8890190693870289, -0.5453171088827993, -0.19400809571131336, 0.4379296859477579, 0.9569927628817722, 0.568551150400114, 0.4901505521614311, -0.629448856594338, -0.1760792563046624, 2.1872697925391145, -1.7987168928322443, 0.00021761034255523358, -0.1493581045492578, -0.005807956057387215, -0.2521294841944818, 0.5150335079331775, -0.33282032997917643, 0.7320714223225012, 1.213091682920328, 0.08904856186822144, 0.546964360145978, -0.5654829559521772, -0.5280370228475944, 1.569885386573116, 0.06951485652561938, 0.5586098056639801, 0.9944724520541559, -1.232692345109615, 0.20649908737588069, 0.9274326694569818, -1.4931803060081321, 0.5069500577515356, -0.10169518484504181, 0.7706117793406162, -0.6517223336891163, -2.0926704674673844, 0.31484554724907154, 1.9575227469312708, -0.4301303958607313, -0.5787778118510103, -1.0119872017638747, -0.40228534601618143, 2.038756953851408, -0.12949232464568516, -0.6066494611386877, 0.3603753685797563, 0.34132630582604756, 0.5730529829040087, 1.0288673586415396, 1.664345573048318, 1.3486877908341262, -0.484387603012384, 0.3733001066111924], \"xaxis\": \"x16\", \"yaxis\": \"y16\"}],\n",
       "                        {\"bargap\": 0.02, \"legend\": {\"bgcolor\": \"#F5F6F9\", \"font\": {\"color\": \"#4D5663\"}}, \"paper_bgcolor\": \"#F5F6F9\", \"plot_bgcolor\": \"#F5F6F9\", \"showlegend\": false, \"template\": {\"data\": {\"bar\": [{\"error_x\": {\"color\": \"#2a3f5f\"}, \"error_y\": {\"color\": \"#2a3f5f\"}, \"marker\": {\"line\": {\"color\": \"#E5ECF6\", \"width\": 0.5}}, \"type\": \"bar\"}], \"barpolar\": [{\"marker\": {\"line\": {\"color\": \"#E5ECF6\", \"width\": 0.5}}, \"type\": \"barpolar\"}], \"carpet\": [{\"aaxis\": {\"endlinecolor\": \"#2a3f5f\", \"gridcolor\": \"white\", \"linecolor\": \"white\", \"minorgridcolor\": \"white\", \"startlinecolor\": \"#2a3f5f\"}, \"baxis\": {\"endlinecolor\": \"#2a3f5f\", \"gridcolor\": \"white\", \"linecolor\": \"white\", \"minorgridcolor\": \"white\", \"startlinecolor\": \"#2a3f5f\"}, \"type\": \"carpet\"}], \"choropleth\": [{\"colorbar\": {\"outlinewidth\": 0, \"ticks\": \"\"}, \"type\": \"choropleth\"}], \"contour\": [{\"colorbar\": {\"outlinewidth\": 0, \"ticks\": \"\"}, \"colorscale\": [[0.0, \"#0d0887\"], [0.1111111111111111, \"#46039f\"], [0.2222222222222222, \"#7201a8\"], [0.3333333333333333, \"#9c179e\"], [0.4444444444444444, \"#bd3786\"], [0.5555555555555556, \"#d8576b\"], [0.6666666666666666, \"#ed7953\"], [0.7777777777777778, \"#fb9f3a\"], [0.8888888888888888, \"#fdca26\"], [1.0, \"#f0f921\"]], \"type\": \"contour\"}], \"contourcarpet\": [{\"colorbar\": {\"outlinewidth\": 0, \"ticks\": \"\"}, \"type\": \"contourcarpet\"}], \"heatmap\": [{\"colorbar\": {\"outlinewidth\": 0, \"ticks\": \"\"}, \"colorscale\": [[0.0, \"#0d0887\"], [0.1111111111111111, \"#46039f\"], [0.2222222222222222, \"#7201a8\"], [0.3333333333333333, \"#9c179e\"], [0.4444444444444444, \"#bd3786\"], [0.5555555555555556, \"#d8576b\"], [0.6666666666666666, \"#ed7953\"], [0.7777777777777778, \"#fb9f3a\"], [0.8888888888888888, \"#fdca26\"], [1.0, \"#f0f921\"]], \"type\": \"heatmap\"}], \"heatmapgl\": [{\"colorbar\": {\"outlinewidth\": 0, \"ticks\": \"\"}, \"colorscale\": [[0.0, \"#0d0887\"], [0.1111111111111111, \"#46039f\"], [0.2222222222222222, \"#7201a8\"], [0.3333333333333333, \"#9c179e\"], [0.4444444444444444, \"#bd3786\"], [0.5555555555555556, \"#d8576b\"], [0.6666666666666666, \"#ed7953\"], [0.7777777777777778, \"#fb9f3a\"], [0.8888888888888888, \"#fdca26\"], [1.0, \"#f0f921\"]], \"type\": \"heatmapgl\"}], \"histogram\": [{\"marker\": {\"colorbar\": {\"outlinewidth\": 0, \"ticks\": \"\"}}, \"type\": \"histogram\"}], \"histogram2d\": [{\"colorbar\": {\"outlinewidth\": 0, \"ticks\": \"\"}, \"colorscale\": [[0.0, \"#0d0887\"], [0.1111111111111111, \"#46039f\"], [0.2222222222222222, \"#7201a8\"], [0.3333333333333333, \"#9c179e\"], [0.4444444444444444, \"#bd3786\"], [0.5555555555555556, \"#d8576b\"], [0.6666666666666666, \"#ed7953\"], [0.7777777777777778, \"#fb9f3a\"], [0.8888888888888888, \"#fdca26\"], [1.0, \"#f0f921\"]], \"type\": \"histogram2d\"}], \"histogram2dcontour\": [{\"colorbar\": {\"outlinewidth\": 0, \"ticks\": \"\"}, \"colorscale\": [[0.0, \"#0d0887\"], [0.1111111111111111, \"#46039f\"], [0.2222222222222222, \"#7201a8\"], [0.3333333333333333, \"#9c179e\"], [0.4444444444444444, \"#bd3786\"], [0.5555555555555556, \"#d8576b\"], [0.6666666666666666, \"#ed7953\"], [0.7777777777777778, \"#fb9f3a\"], [0.8888888888888888, \"#fdca26\"], [1.0, \"#f0f921\"]], \"type\": \"histogram2dcontour\"}], \"mesh3d\": [{\"colorbar\": {\"outlinewidth\": 0, \"ticks\": \"\"}, \"type\": \"mesh3d\"}], \"parcoords\": [{\"line\": {\"colorbar\": {\"outlinewidth\": 0, \"ticks\": \"\"}}, \"type\": \"parcoords\"}], \"scatter\": [{\"marker\": {\"colorbar\": {\"outlinewidth\": 0, \"ticks\": \"\"}}, \"type\": \"scatter\"}], \"scatter3d\": [{\"line\": {\"colorbar\": {\"outlinewidth\": 0, \"ticks\": \"\"}}, \"marker\": {\"colorbar\": {\"outlinewidth\": 0, \"ticks\": \"\"}}, \"type\": \"scatter3d\"}], \"scattercarpet\": [{\"marker\": {\"colorbar\": {\"outlinewidth\": 0, \"ticks\": \"\"}}, \"type\": \"scattercarpet\"}], \"scattergeo\": [{\"marker\": {\"colorbar\": {\"outlinewidth\": 0, \"ticks\": \"\"}}, \"type\": \"scattergeo\"}], \"scattergl\": [{\"marker\": {\"colorbar\": {\"outlinewidth\": 0, \"ticks\": \"\"}}, \"type\": \"scattergl\"}], \"scattermapbox\": [{\"marker\": {\"colorbar\": {\"outlinewidth\": 0, \"ticks\": \"\"}}, \"type\": \"scattermapbox\"}], \"scatterpolar\": [{\"marker\": {\"colorbar\": {\"outlinewidth\": 0, \"ticks\": \"\"}}, \"type\": \"scatterpolar\"}], \"scatterpolargl\": [{\"marker\": {\"colorbar\": {\"outlinewidth\": 0, \"ticks\": \"\"}}, \"type\": \"scatterpolargl\"}], \"scatterternary\": [{\"marker\": {\"colorbar\": {\"outlinewidth\": 0, \"ticks\": \"\"}}, \"type\": \"scatterternary\"}], \"surface\": [{\"colorbar\": {\"outlinewidth\": 0, \"ticks\": \"\"}, \"colorscale\": [[0.0, \"#0d0887\"], [0.1111111111111111, \"#46039f\"], [0.2222222222222222, \"#7201a8\"], [0.3333333333333333, \"#9c179e\"], [0.4444444444444444, \"#bd3786\"], [0.5555555555555556, \"#d8576b\"], [0.6666666666666666, \"#ed7953\"], [0.7777777777777778, \"#fb9f3a\"], [0.8888888888888888, \"#fdca26\"], [1.0, \"#f0f921\"]], \"type\": \"surface\"}], \"table\": [{\"cells\": {\"fill\": {\"color\": \"#EBF0F8\"}, \"line\": {\"color\": \"white\"}}, \"header\": {\"fill\": {\"color\": \"#C8D4E3\"}, \"line\": {\"color\": \"white\"}}, \"type\": \"table\"}]}, \"layout\": {\"annotationdefaults\": {\"arrowcolor\": \"#2a3f5f\", \"arrowhead\": 0, \"arrowwidth\": 1}, \"colorscale\": {\"diverging\": [[0, \"#8e0152\"], [0.1, \"#c51b7d\"], [0.2, \"#de77ae\"], [0.3, \"#f1b6da\"], [0.4, \"#fde0ef\"], [0.5, \"#f7f7f7\"], [0.6, \"#e6f5d0\"], [0.7, \"#b8e186\"], [0.8, \"#7fbc41\"], [0.9, \"#4d9221\"], [1, \"#276419\"]], \"sequential\": [[0.0, \"#0d0887\"], [0.1111111111111111, \"#46039f\"], [0.2222222222222222, \"#7201a8\"], [0.3333333333333333, \"#9c179e\"], [0.4444444444444444, \"#bd3786\"], [0.5555555555555556, \"#d8576b\"], [0.6666666666666666, \"#ed7953\"], [0.7777777777777778, \"#fb9f3a\"], [0.8888888888888888, \"#fdca26\"], [1.0, \"#f0f921\"]], \"sequentialminus\": [[0.0, \"#0d0887\"], [0.1111111111111111, \"#46039f\"], [0.2222222222222222, \"#7201a8\"], [0.3333333333333333, \"#9c179e\"], [0.4444444444444444, \"#bd3786\"], [0.5555555555555556, \"#d8576b\"], [0.6666666666666666, \"#ed7953\"], [0.7777777777777778, \"#fb9f3a\"], [0.8888888888888888, \"#fdca26\"], [1.0, \"#f0f921\"]]}, \"colorway\": [\"#636efa\", \"#EF553B\", \"#00cc96\", \"#ab63fa\", \"#FFA15A\", \"#19d3f3\", \"#FF6692\", \"#B6E880\", \"#FF97FF\", \"#FECB52\"], \"font\": {\"color\": \"#2a3f5f\"}, \"geo\": {\"bgcolor\": \"white\", \"lakecolor\": \"white\", \"landcolor\": \"#E5ECF6\", \"showlakes\": true, \"showland\": true, \"subunitcolor\": \"white\"}, \"hoverlabel\": {\"align\": \"left\"}, \"hovermode\": \"closest\", \"mapbox\": {\"style\": \"light\"}, \"paper_bgcolor\": \"white\", \"plot_bgcolor\": \"#E5ECF6\", \"polar\": {\"angularaxis\": {\"gridcolor\": \"white\", \"linecolor\": \"white\", \"ticks\": \"\"}, \"bgcolor\": \"#E5ECF6\", \"radialaxis\": {\"gridcolor\": \"white\", \"linecolor\": \"white\", \"ticks\": \"\"}}, \"scene\": {\"xaxis\": {\"backgroundcolor\": \"#E5ECF6\", \"gridcolor\": \"white\", \"gridwidth\": 2, \"linecolor\": \"white\", \"showbackground\": true, \"ticks\": \"\", \"zerolinecolor\": \"white\"}, \"yaxis\": {\"backgroundcolor\": \"#E5ECF6\", \"gridcolor\": \"white\", \"gridwidth\": 2, \"linecolor\": \"white\", \"showbackground\": true, \"ticks\": \"\", \"zerolinecolor\": \"white\"}, \"zaxis\": {\"backgroundcolor\": \"#E5ECF6\", \"gridcolor\": \"white\", \"gridwidth\": 2, \"linecolor\": \"white\", \"showbackground\": true, \"ticks\": \"\", \"zerolinecolor\": \"white\"}}, \"shapedefaults\": {\"line\": {\"color\": \"#2a3f5f\"}}, \"ternary\": {\"aaxis\": {\"gridcolor\": \"white\", \"linecolor\": \"white\", \"ticks\": \"\"}, \"baxis\": {\"gridcolor\": \"white\", \"linecolor\": \"white\", \"ticks\": \"\"}, \"bgcolor\": \"#E5ECF6\", \"caxis\": {\"gridcolor\": \"white\", \"linecolor\": \"white\", \"ticks\": \"\"}}, \"title\": {\"x\": 0.05}, \"xaxis\": {\"automargin\": true, \"gridcolor\": \"white\", \"linecolor\": \"white\", \"ticks\": \"\", \"zerolinecolor\": \"white\", \"zerolinewidth\": 2}, \"yaxis\": {\"automargin\": true, \"gridcolor\": \"white\", \"linecolor\": \"white\", \"ticks\": \"\", \"zerolinecolor\": \"white\", \"zerolinewidth\": 2}}}, \"title\": {\"font\": {\"color\": \"#4D5663\"}}, \"xaxis\": {\"anchor\": \"y\", \"domain\": [0.0, 0.2125], \"gridcolor\": \"#E1E5ED\", \"showgrid\": false, \"tickfont\": {\"color\": \"#4D5663\"}, \"title\": {\"font\": {\"color\": \"#4D5663\"}, \"text\": \"\"}, \"zerolinecolor\": \"#E1E5ED\"}, \"xaxis10\": {\"anchor\": \"y10\", \"domain\": [0.2625, 0.475], \"gridcolor\": \"#E1E5ED\", \"showgrid\": false, \"tickfont\": {\"color\": \"#4D5663\"}, \"title\": {\"font\": {\"color\": \"#4D5663\"}, \"text\": \"\"}, \"zerolinecolor\": \"#E1E5ED\"}, \"xaxis11\": {\"anchor\": \"y11\", \"domain\": [0.525, 0.7375], \"gridcolor\": \"#E1E5ED\", \"showgrid\": false, \"tickfont\": {\"color\": \"#4D5663\"}, \"title\": {\"font\": {\"color\": \"#4D5663\"}, \"text\": \"\"}, \"zerolinecolor\": \"#E1E5ED\"}, \"xaxis12\": {\"anchor\": \"y12\", \"domain\": [0.7875, 1.0], \"gridcolor\": \"#E1E5ED\", \"showgrid\": false, \"tickfont\": {\"color\": \"#4D5663\"}, \"title\": {\"font\": {\"color\": \"#4D5663\"}, \"text\": \"\"}, \"zerolinecolor\": \"#E1E5ED\"}, \"xaxis13\": {\"anchor\": \"y13\", \"domain\": [0.0, 0.2125], \"gridcolor\": \"#E1E5ED\", \"showgrid\": false, \"tickfont\": {\"color\": \"#4D5663\"}, \"title\": {\"font\": {\"color\": \"#4D5663\"}, \"text\": \"\"}, \"zerolinecolor\": \"#E1E5ED\"}, \"xaxis14\": {\"anchor\": \"y14\", \"domain\": [0.2625, 0.475], \"gridcolor\": \"#E1E5ED\", \"showgrid\": false, \"tickfont\": {\"color\": \"#4D5663\"}, \"title\": {\"font\": {\"color\": \"#4D5663\"}, \"text\": \"\"}, \"zerolinecolor\": \"#E1E5ED\"}, \"xaxis15\": {\"anchor\": \"y15\", \"domain\": [0.525, 0.7375], \"gridcolor\": \"#E1E5ED\", \"showgrid\": false, \"tickfont\": {\"color\": \"#4D5663\"}, \"title\": {\"font\": {\"color\": \"#4D5663\"}, \"text\": \"\"}, \"zerolinecolor\": \"#E1E5ED\"}, \"xaxis16\": {\"anchor\": \"y16\", \"domain\": [0.7875, 1.0], \"gridcolor\": \"#E1E5ED\", \"showgrid\": false, \"tickfont\": {\"color\": \"#4D5663\"}, \"title\": {\"font\": {\"color\": \"#4D5663\"}, \"text\": \"\"}, \"zerolinecolor\": \"#E1E5ED\"}, \"xaxis2\": {\"anchor\": \"y2\", \"domain\": [0.2625, 0.475], \"gridcolor\": \"#E1E5ED\", \"showgrid\": false, \"tickfont\": {\"color\": \"#4D5663\"}, \"title\": {\"font\": {\"color\": \"#4D5663\"}, \"text\": \"\"}, \"zerolinecolor\": \"#E1E5ED\"}, \"xaxis3\": {\"anchor\": \"y3\", \"domain\": [0.525, 0.7375], \"gridcolor\": \"#E1E5ED\", \"showgrid\": false, \"tickfont\": {\"color\": \"#4D5663\"}, \"title\": {\"font\": {\"color\": \"#4D5663\"}, \"text\": \"\"}, \"zerolinecolor\": \"#E1E5ED\"}, \"xaxis4\": {\"anchor\": \"y4\", \"domain\": [0.7875, 1.0], \"gridcolor\": \"#E1E5ED\", \"showgrid\": false, \"tickfont\": {\"color\": \"#4D5663\"}, \"title\": {\"font\": {\"color\": \"#4D5663\"}, \"text\": \"\"}, \"zerolinecolor\": \"#E1E5ED\"}, \"xaxis5\": {\"anchor\": \"y5\", \"domain\": [0.0, 0.2125], \"gridcolor\": \"#E1E5ED\", \"showgrid\": false, \"tickfont\": {\"color\": \"#4D5663\"}, \"title\": {\"font\": {\"color\": \"#4D5663\"}, \"text\": \"\"}, \"zerolinecolor\": \"#E1E5ED\"}, \"xaxis6\": {\"anchor\": \"y6\", \"domain\": [0.2625, 0.475], \"gridcolor\": \"#E1E5ED\", \"showgrid\": false, \"tickfont\": {\"color\": \"#4D5663\"}, \"title\": {\"font\": {\"color\": \"#4D5663\"}, \"text\": \"\"}, \"zerolinecolor\": \"#E1E5ED\"}, \"xaxis7\": {\"anchor\": \"y7\", \"domain\": [0.525, 0.7375], \"gridcolor\": \"#E1E5ED\", \"showgrid\": false, \"tickfont\": {\"color\": \"#4D5663\"}, \"title\": {\"font\": {\"color\": \"#4D5663\"}, \"text\": \"\"}, \"zerolinecolor\": \"#E1E5ED\"}, \"xaxis8\": {\"anchor\": \"y8\", \"domain\": [0.7875, 1.0], \"gridcolor\": \"#E1E5ED\", \"showgrid\": false, \"tickfont\": {\"color\": \"#4D5663\"}, \"title\": {\"font\": {\"color\": \"#4D5663\"}, \"text\": \"\"}, \"zerolinecolor\": \"#E1E5ED\"}, \"xaxis9\": {\"anchor\": \"y9\", \"domain\": [0.0, 0.2125], \"gridcolor\": \"#E1E5ED\", \"showgrid\": false, \"tickfont\": {\"color\": \"#4D5663\"}, \"title\": {\"font\": {\"color\": \"#4D5663\"}, \"text\": \"\"}, \"zerolinecolor\": \"#E1E5ED\"}, \"yaxis\": {\"anchor\": \"x\", \"domain\": [0.8025, 1.0], \"gridcolor\": \"#E1E5ED\", \"showgrid\": false, \"tickfont\": {\"color\": \"#4D5663\"}, \"title\": {\"font\": {\"color\": \"#4D5663\"}, \"text\": \"\"}, \"zerolinecolor\": \"#E1E5ED\"}, \"yaxis10\": {\"anchor\": \"x10\", \"domain\": [0.2675, 0.465], \"gridcolor\": \"#E1E5ED\", \"showgrid\": false, \"tickfont\": {\"color\": \"#4D5663\"}, \"title\": {\"font\": {\"color\": \"#4D5663\"}, \"text\": \"\"}, \"zerolinecolor\": \"#E1E5ED\"}, \"yaxis11\": {\"anchor\": \"x11\", \"domain\": [0.2675, 0.465], \"gridcolor\": \"#E1E5ED\", \"showgrid\": false, \"tickfont\": {\"color\": \"#4D5663\"}, \"title\": {\"font\": {\"color\": \"#4D5663\"}, \"text\": \"\"}, \"zerolinecolor\": \"#E1E5ED\"}, \"yaxis12\": {\"anchor\": \"x12\", \"domain\": [0.2675, 0.465], \"gridcolor\": \"#E1E5ED\", \"showgrid\": false, \"tickfont\": {\"color\": \"#4D5663\"}, \"title\": {\"font\": {\"color\": \"#4D5663\"}, \"text\": \"\"}, \"zerolinecolor\": \"#E1E5ED\"}, \"yaxis13\": {\"anchor\": \"x13\", \"domain\": [0.0, 0.1975], \"gridcolor\": \"#E1E5ED\", \"showgrid\": false, \"tickfont\": {\"color\": \"#4D5663\"}, \"title\": {\"font\": {\"color\": \"#4D5663\"}, \"text\": \"\"}, \"zerolinecolor\": \"#E1E5ED\"}, \"yaxis14\": {\"anchor\": \"x14\", \"domain\": [0.0, 0.1975], \"gridcolor\": \"#E1E5ED\", \"showgrid\": false, \"tickfont\": {\"color\": \"#4D5663\"}, \"title\": {\"font\": {\"color\": \"#4D5663\"}, \"text\": \"\"}, \"zerolinecolor\": \"#E1E5ED\"}, \"yaxis15\": {\"anchor\": \"x15\", \"domain\": [0.0, 0.1975], \"gridcolor\": \"#E1E5ED\", \"showgrid\": false, \"tickfont\": {\"color\": \"#4D5663\"}, \"title\": {\"font\": {\"color\": \"#4D5663\"}, \"text\": \"\"}, \"zerolinecolor\": \"#E1E5ED\"}, \"yaxis16\": {\"anchor\": \"x16\", \"domain\": [0.0, 0.1975], \"gridcolor\": \"#E1E5ED\", \"showgrid\": false, \"tickfont\": {\"color\": \"#4D5663\"}, \"title\": {\"font\": {\"color\": \"#4D5663\"}, \"text\": \"\"}, \"zerolinecolor\": \"#E1E5ED\"}, \"yaxis2\": {\"anchor\": \"x2\", \"domain\": [0.8025, 1.0], \"gridcolor\": \"#E1E5ED\", \"showgrid\": false, \"tickfont\": {\"color\": \"#4D5663\"}, \"title\": {\"font\": {\"color\": \"#4D5663\"}, \"text\": \"\"}, \"zerolinecolor\": \"#E1E5ED\"}, \"yaxis3\": {\"anchor\": \"x3\", \"domain\": [0.8025, 1.0], \"gridcolor\": \"#E1E5ED\", \"showgrid\": false, \"tickfont\": {\"color\": \"#4D5663\"}, \"title\": {\"font\": {\"color\": \"#4D5663\"}, \"text\": \"\"}, \"zerolinecolor\": \"#E1E5ED\"}, \"yaxis4\": {\"anchor\": \"x4\", \"domain\": [0.8025, 1.0], \"gridcolor\": \"#E1E5ED\", \"showgrid\": false, \"tickfont\": {\"color\": \"#4D5663\"}, \"title\": {\"font\": {\"color\": \"#4D5663\"}, \"text\": \"\"}, \"zerolinecolor\": \"#E1E5ED\"}, \"yaxis5\": {\"anchor\": \"x5\", \"domain\": [0.535, 0.7325], \"gridcolor\": \"#E1E5ED\", \"showgrid\": false, \"tickfont\": {\"color\": \"#4D5663\"}, \"title\": {\"font\": {\"color\": \"#4D5663\"}, \"text\": \"\"}, \"zerolinecolor\": \"#E1E5ED\"}, \"yaxis6\": {\"anchor\": \"x6\", \"domain\": [0.535, 0.7325], \"gridcolor\": \"#E1E5ED\", \"showgrid\": false, \"tickfont\": {\"color\": \"#4D5663\"}, \"title\": {\"font\": {\"color\": \"#4D5663\"}, \"text\": \"\"}, \"zerolinecolor\": \"#E1E5ED\"}, \"yaxis7\": {\"anchor\": \"x7\", \"domain\": [0.535, 0.7325], \"gridcolor\": \"#E1E5ED\", \"showgrid\": false, \"tickfont\": {\"color\": \"#4D5663\"}, \"title\": {\"font\": {\"color\": \"#4D5663\"}, \"text\": \"\"}, \"zerolinecolor\": \"#E1E5ED\"}, \"yaxis8\": {\"anchor\": \"x8\", \"domain\": [0.535, 0.7325], \"gridcolor\": \"#E1E5ED\", \"showgrid\": false, \"tickfont\": {\"color\": \"#4D5663\"}, \"title\": {\"font\": {\"color\": \"#4D5663\"}, \"text\": \"\"}, \"zerolinecolor\": \"#E1E5ED\"}, \"yaxis9\": {\"anchor\": \"x9\", \"domain\": [0.2675, 0.465], \"gridcolor\": \"#E1E5ED\", \"showgrid\": false, \"tickfont\": {\"color\": \"#4D5663\"}, \"title\": {\"font\": {\"color\": \"#4D5663\"}, \"text\": \"\"}, \"zerolinecolor\": \"#E1E5ED\"}},\n",
       "                        {\"showLink\": true, \"linkText\": \"Export to plot.ly\", \"plotlyServerURL\": \"https://plot.ly\", \"responsive\": true}\n",
       "                    ).then(function(){\n",
       "                            \n",
       "var gd = document.getElementById('44b27d94-664f-43df-9608-9541adf0ba7b');\n",
       "var x = new MutationObserver(function (mutations, observer) {{\n",
       "        var display = window.getComputedStyle(gd).display;\n",
       "        if (!display || display === 'none') {{\n",
       "            console.log([gd, 'removed!']);\n",
       "            Plotly.purge(gd);\n",
       "            observer.disconnect();\n",
       "        }}\n",
       "}});\n",
       "\n",
       "// Listen for the removal of the full notebook cells\n",
       "var notebookContainer = gd.closest('#notebook-container');\n",
       "if (notebookContainer) {{\n",
       "    x.observe(notebookContainer, {childList: true});\n",
       "}}\n",
       "\n",
       "// Listen for the clearing of the current output cell\n",
       "var outputEl = gd.closest('.output');\n",
       "if (outputEl) {{\n",
       "    x.observe(outputEl, {childList: true});\n",
       "}}\n",
       "\n",
       "                        })\n",
       "                };\n",
       "                });\n",
       "            </script>\n",
       "        </div>"
      ]
     },
     "metadata": {},
     "output_type": "display_data"
    }
   ],
   "source": [
    "## Ex.9 Scatter Matrix -> Very similar to seaborn's pairplot -> Creates a scatter matrix of all the numerical columns\n",
    "                    ##  there are. Be careful when using very large datasets -> May crash the Python Kernel\n",
    "\n",
    "df.scatter_matrix()"
   ]
  },
  {
   "cell_type": "code",
   "execution_count": 26,
   "metadata": {},
   "outputs": [],
   "source": [
    "### More details in the cufflinks github page \n",
    "\n",
    "## Technical analysis capability available on cufflinks -> Used for financial analysis  "
   ]
  }
 ],
 "metadata": {
  "kernelspec": {
   "display_name": "Python 3",
   "language": "python",
   "name": "python3"
  },
  "language_info": {
   "codemirror_mode": {
    "name": "ipython",
    "version": 3
   },
   "file_extension": ".py",
   "mimetype": "text/x-python",
   "name": "python",
   "nbconvert_exporter": "python",
   "pygments_lexer": "ipython3",
   "version": "3.7.3"
  }
 },
 "nbformat": 4,
 "nbformat_minor": 2
}
