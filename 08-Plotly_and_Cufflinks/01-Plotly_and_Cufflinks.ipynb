{
 "cells": [
  {
   "cell_type": "markdown",
   "metadata": {},
   "source": [
    "# Section 11: Python for Data Visualization - Plotly and Cufflinks"
   ]
  },
  {
   "cell_type": "markdown",
   "metadata": {},
   "source": [
    "# 01-Plotly and Cufflinks\n"
   ]
  },
  {
   "cell_type": "code",
   "execution_count": 1,
   "metadata": {},
   "outputs": [],
   "source": [
    "## Introduction \n",
    "\n",
    "## We are going to learn of the background of Plotly and Cufflinks which will allow us to create Interactive \n",
    "## Data visualizations. \n",
    "\n",
    "## - Plotly is an intercative visualization library \n",
    "## - Cufflinks connects pltly with Pandas \n",
    "\n",
    "##Installing plotly with pip: \n",
    "\n",
    "## pip install plotly -> Not available for the conda install \n",
    "## pip install cufflinks "
   ]
  },
  {
   "cell_type": "code",
   "execution_count": 2,
   "metadata": {},
   "outputs": [],
   "source": [
    "import pandas as pd \n",
    "import numpy as np \n",
    "from plotly import __version__\n",
    "%matplotlib inline"
   ]
  },
  {
   "cell_type": "code",
   "execution_count": 3,
   "metadata": {},
   "outputs": [
    {
     "name": "stdout",
     "output_type": "stream",
     "text": [
      "4.2.1\n"
     ]
    }
   ],
   "source": [
    "print(__version__)"
   ]
  },
  {
   "cell_type": "code",
   "execution_count": 4,
   "metadata": {},
   "outputs": [],
   "source": [
    "import cufflinks as cf"
   ]
  },
  {
   "cell_type": "code",
   "execution_count": 5,
   "metadata": {},
   "outputs": [],
   "source": [
    "from plotly.offline import download_plotlyjs, init_notebook_mode, iplot"
   ]
  },
  {
   "cell_type": "code",
   "execution_count": 6,
   "metadata": {},
   "outputs": [
    {
     "data": {
      "text/html": [
       "        <script type=\"text/javascript\">\n",
       "        window.PlotlyConfig = {MathJaxConfig: 'local'};\n",
       "        if (window.MathJax) {MathJax.Hub.Config({SVG: {font: \"STIX-Web\"}});}\n",
       "        if (typeof require !== 'undefined') {\n",
       "        require.undef(\"plotly\");\n",
       "        requirejs.config({\n",
       "            paths: {\n",
       "                'plotly': ['https://cdn.plot.ly/plotly-latest.min']\n",
       "            }\n",
       "        });\n",
       "        require(['plotly'], function(Plotly) {\n",
       "            window._Plotly = Plotly;\n",
       "        });\n",
       "        }\n",
       "        </script>\n",
       "        "
      ]
     },
     "metadata": {},
     "output_type": "display_data"
    }
   ],
   "source": [
    "init_notebook_mode(connected = True) ## Connects JavaScript to our notebook, plotly connects pandas a Python to an\n",
    "                                     ## interactive JavaScript library "
   ]
  },
  {
   "cell_type": "code",
   "execution_count": 7,
   "metadata": {},
   "outputs": [
    {
     "data": {
      "text/html": [
       "        <script type=\"text/javascript\">\n",
       "        window.PlotlyConfig = {MathJaxConfig: 'local'};\n",
       "        if (window.MathJax) {MathJax.Hub.Config({SVG: {font: \"STIX-Web\"}});}\n",
       "        if (typeof require !== 'undefined') {\n",
       "        require.undef(\"plotly\");\n",
       "        requirejs.config({\n",
       "            paths: {\n",
       "                'plotly': ['https://cdn.plot.ly/plotly-latest.min']\n",
       "            }\n",
       "        });\n",
       "        require(['plotly'], function(Plotly) {\n",
       "            window._Plotly = Plotly;\n",
       "        });\n",
       "        }\n",
       "        </script>\n",
       "        "
      ]
     },
     "metadata": {},
     "output_type": "display_data"
    }
   ],
   "source": [
    "cf.go_offline() ##This method allows us to use cufflinks online"
   ]
  },
  {
   "cell_type": "code",
   "execution_count": 8,
   "metadata": {},
   "outputs": [],
   "source": [
    "df = pd.DataFrame(np.random.randn(100,4), columns = 'A B C D'.split())"
   ]
  },
  {
   "cell_type": "code",
   "execution_count": 9,
   "metadata": {},
   "outputs": [
    {
     "data": {
      "text/html": [
       "<div>\n",
       "<style scoped>\n",
       "    .dataframe tbody tr th:only-of-type {\n",
       "        vertical-align: middle;\n",
       "    }\n",
       "\n",
       "    .dataframe tbody tr th {\n",
       "        vertical-align: top;\n",
       "    }\n",
       "\n",
       "    .dataframe thead th {\n",
       "        text-align: right;\n",
       "    }\n",
       "</style>\n",
       "<table border=\"1\" class=\"dataframe\">\n",
       "  <thead>\n",
       "    <tr style=\"text-align: right;\">\n",
       "      <th></th>\n",
       "      <th>A</th>\n",
       "      <th>B</th>\n",
       "      <th>C</th>\n",
       "      <th>D</th>\n",
       "    </tr>\n",
       "  </thead>\n",
       "  <tbody>\n",
       "    <tr>\n",
       "      <td>0</td>\n",
       "      <td>0.267720</td>\n",
       "      <td>-0.432532</td>\n",
       "      <td>-1.491583</td>\n",
       "      <td>-0.702516</td>\n",
       "    </tr>\n",
       "    <tr>\n",
       "      <td>1</td>\n",
       "      <td>0.029402</td>\n",
       "      <td>-1.546092</td>\n",
       "      <td>-2.112020</td>\n",
       "      <td>1.310908</td>\n",
       "    </tr>\n",
       "    <tr>\n",
       "      <td>2</td>\n",
       "      <td>1.633316</td>\n",
       "      <td>0.102736</td>\n",
       "      <td>-0.832992</td>\n",
       "      <td>-0.510361</td>\n",
       "    </tr>\n",
       "    <tr>\n",
       "      <td>3</td>\n",
       "      <td>-0.153951</td>\n",
       "      <td>-0.436752</td>\n",
       "      <td>1.782321</td>\n",
       "      <td>0.149881</td>\n",
       "    </tr>\n",
       "    <tr>\n",
       "      <td>4</td>\n",
       "      <td>-0.144135</td>\n",
       "      <td>-0.372509</td>\n",
       "      <td>-0.719281</td>\n",
       "      <td>1.601942</td>\n",
       "    </tr>\n",
       "  </tbody>\n",
       "</table>\n",
       "</div>"
      ],
      "text/plain": [
       "          A         B         C         D\n",
       "0  0.267720 -0.432532 -1.491583 -0.702516\n",
       "1  0.029402 -1.546092 -2.112020  1.310908\n",
       "2  1.633316  0.102736 -0.832992 -0.510361\n",
       "3 -0.153951 -0.436752  1.782321  0.149881\n",
       "4 -0.144135 -0.372509 -0.719281  1.601942"
      ]
     },
     "execution_count": 9,
     "metadata": {},
     "output_type": "execute_result"
    }
   ],
   "source": [
    "df.head()"
   ]
  },
  {
   "cell_type": "code",
   "execution_count": 10,
   "metadata": {},
   "outputs": [],
   "source": [
    "df2 = pd.DataFrame({'Category':['A', 'B', 'C'], 'Values': [32,43,50]})"
   ]
  },
  {
   "cell_type": "code",
   "execution_count": 11,
   "metadata": {},
   "outputs": [
    {
     "data": {
      "text/html": [
       "<div>\n",
       "<style scoped>\n",
       "    .dataframe tbody tr th:only-of-type {\n",
       "        vertical-align: middle;\n",
       "    }\n",
       "\n",
       "    .dataframe tbody tr th {\n",
       "        vertical-align: top;\n",
       "    }\n",
       "\n",
       "    .dataframe thead th {\n",
       "        text-align: right;\n",
       "    }\n",
       "</style>\n",
       "<table border=\"1\" class=\"dataframe\">\n",
       "  <thead>\n",
       "    <tr style=\"text-align: right;\">\n",
       "      <th></th>\n",
       "      <th>Category</th>\n",
       "      <th>Values</th>\n",
       "    </tr>\n",
       "  </thead>\n",
       "  <tbody>\n",
       "    <tr>\n",
       "      <td>0</td>\n",
       "      <td>A</td>\n",
       "      <td>32</td>\n",
       "    </tr>\n",
       "    <tr>\n",
       "      <td>1</td>\n",
       "      <td>B</td>\n",
       "      <td>43</td>\n",
       "    </tr>\n",
       "    <tr>\n",
       "      <td>2</td>\n",
       "      <td>C</td>\n",
       "      <td>50</td>\n",
       "    </tr>\n",
       "  </tbody>\n",
       "</table>\n",
       "</div>"
      ],
      "text/plain": [
       "  Category  Values\n",
       "0        A      32\n",
       "1        B      43\n",
       "2        C      50"
      ]
     },
     "execution_count": 11,
     "metadata": {},
     "output_type": "execute_result"
    }
   ],
   "source": [
    "df2 ##Used later for a bar plot"
   ]
  },
  {
   "cell_type": "code",
   "execution_count": 12,
   "metadata": {},
   "outputs": [
    {
     "data": {
      "text/plain": [
       "<matplotlib.axes._subplots.AxesSubplot at 0x7f6f4aa9d8d0>"
      ]
     },
     "execution_count": 12,
     "metadata": {},
     "output_type": "execute_result"
    },
    {
     "data": {
      "image/png": "[encoded data removed]",
      "text/plain": [
       "<Figure size 432x288 with 1 Axes>"
      ]
     },
     "metadata": {
      "needs_background": "light"
     },
     "output_type": "display_data"
    }
   ],
   "source": [
    "### Using cufflinks and iplot \n",
    "\n",
    "df.plot() ##Plotted with pandas"
   ]
  },
  {
   "cell_type": "code",
   "execution_count": 13,
   "metadata": {},
   "outputs": [
    {
     "data": {
      "application/vnd.plotly.v1+json": {
       "config": {
        "linkText": "Export to plot.ly",
        "plotlyServerURL": "https://plot.ly",
        "showLink": true
       },
       "data": [
        {
         "line": {
          "color": "rgba(255, 153, 51, 1.0)",
          "dash": "solid",
          "shape": "linear",
          "width": 1.3
         },
         "mode": "lines",
         "name": "A",
         "text": "",
         "type": "scatter",
         "x": [
          0,
          1,
          2,
          3,
          4,
          5,
          6,
          7,
          8,
          9,
          10,
          11,
          12,
          13,
          14,
          15,
          16,
          17,
          18,
          19,
          20,
          21,
          22,
          23,
          24,
          25,
          26,
          27,
          28,
          29,
          30,
          31,
          32,
          33,
          34,
          35,
          36,
          37,
          38,
          39,
          40,
          41,
          42,
          43,
          44,
          45,
          46,
          47,
          48,
          49,
          50,
          51,
          52,
          53,
          54,
          55,
          56,
          57,
          58,
          59,
          60,
          61,
          62,
          63,
          64,
          65,
          66,
          67,
          68,
          69,
          70,
          71,
          72,
          73,
          74,
          75,
          76,
          77,
          78,
          79,
          80,
          81,
          82,
          83,
          84,
          85,
          86,
          87,
          88,
          89,
          90,
          91,
          92,
          93,
          94,
          95,
          96,
          97,
          98,
          99
         ],
         "y": [
          0.2677202100092553,
          0.029401801300603495,
          1.6333155976582325,
          -0.15395081213775003,
          -0.14413501408846446,
          -1.6449448335712324,
          -0.14949460123467992,
          0.3339491948644246,
          -2.597094399834224,
          0.31658962768094867,
          0.8786647987727886,
          -1.3432173218877443,
          -0.7847668533324995,
          -0.837875974898997,
          -0.16072258922436436,
          0.5380362625214631,
          0.8018472514118294,
          2.225050418870336,
          0.06312688222115209,
          -0.2819821780153154,
          0.4561975529941592,
          0.9540050098411976,
          -0.5772141596534164,
          0.2533501925563586,
          -1.8640188679329512,
          0.24686965021478458,
          -1.5145631567705737,
          0.8539396046950519,
          0.0530587181385824,
          -1.1056944602495598,
          -0.8106609561461899,
          1.9999438998844243,
          -1.696019592198367,
          0.27035476500109734,
          0.3448685019844587,
          2.4332894470526885,
          1.0183035709639316,
          -1.0635862704484549,
          -0.4404129255558789,
          -1.2016635715406303,
          -0.7349321325596352,
          0.2912459365897682,
          1.1057264089740584,
          -1.3474952757494583,
          1.3656261037787343,
          1.4668789210387587,
          1.1341137118535645,
          -0.797166045752831,
          -0.8437538847577685,
          -0.6578538590564416,
          -2.800744340160438,
          -1.464933962422879,
          0.18579368606777028,
          0.2716661071690678,
          -1.388396543205864,
          0.5651575972514904,
          1.870569345198021,
          -0.01803795079444882,
          0.5445561374341695,
          1.3100419598906323,
          0.9269117310037176,
          1.2170550881202022,
          0.5977731119509945,
          1.4658503908815197,
          -0.7133295308487775,
          -1.6072561105549357,
          -1.1583952519354686,
          -0.5675193850198321,
          0.18395561276829986,
          1.5629117365627527,
          -0.6459481567494111,
          0.6451808366860189,
          -1.140277317678325,
          0.9201965824358878,
          0.5628508849829402,
          0.06223168643101446,
          0.3830041460378295,
          -1.7425635857356514,
          2.68853762149162,
          -1.5873613032422402,
          1.2103667304439776,
          0.4483515828616707,
          0.3069526013666004,
          -0.3056869359478956,
          0.43649977563834447,
          -0.3367048914567436,
          -0.8743257220013367,
          0.9018109380439379,
          0.4495422955436478,
          -1.1129199575924928,
          0.8875442142140842,
          -1.0279242303493357,
          2.1826050258379954,
          1.3416997099219075,
          -0.5444380801553921,
          -1.3906335395822353,
          0.603842679050368,
          1.4479816718381482,
          2.2801894155665146,
          0.2948305425715559
         ]
        },
        {
         "line": {
          "color": "rgba(55, 128, 191, 1.0)",
          "dash": "solid",
          "shape": "linear",
          "width": 1.3
         },
         "mode": "lines",
         "name": "B",
         "text": "",
         "type": "scatter",
         "x": [
          0,
          1,
          2,
          3,
          4,
          5,
          6,
          7,
          8,
          9,
          10,
          11,
          12,
          13,
          14,
          15,
          16,
          17,
          18,
          19,
          20,
          21,
          22,
          23,
          24,
          25,
          26,
          27,
          28,
          29,
          30,
          31,
          32,
          33,
          34,
          35,
          36,
          37,
          38,
          39,
          40,
          41,
          42,
          43,
          44,
          45,
          46,
          47,
          48,
          49,
          50,
          51,
          52,
          53,
          54,
          55,
          56,
          57,
          58,
          59,
          60,
          61,
          62,
          63,
          64,
          65,
          66,
          67,
          68,
          69,
          70,
          71,
          72,
          73,
          74,
          75,
          76,
          77,
          78,
          79,
          80,
          81,
          82,
          83,
          84,
          85,
          86,
          87,
          88,
          89,
          90,
          91,
          92,
          93,
          94,
          95,
          96,
          97,
          98,
          99
         ],
         "y": [
          -0.4325321712751128,
          -1.5460924544980112,
          0.10273563589960194,
          -0.4367522969617371,
          -0.37250903654265705,
          2.495901049673792,
          0.4543077408140475,
          -0.30651567349031394,
          -0.38977321361290346,
          0.25333239787958034,
          -0.6518531750893366,
          -1.1598463133588912,
          -0.2502549143354412,
          -0.20151676688773343,
          1.5980566808370873,
          0.029402384373415722,
          -0.2269876865330706,
          -0.33008870211174673,
          0.8804252708319859,
          0.540454682551017,
          -0.056564992295370896,
          -1.543266073278203,
          -0.1517454722774265,
          0.48850921701499184,
          -1.5218659923324995,
          0.48252528692933,
          -1.1739288126024365,
          -0.2661170255448922,
          -0.12089999686922906,
          2.207181673471075,
          1.3492640917725967,
          -0.07360631969307191,
          -0.8428718809880091,
          0.6541993474215966,
          1.832577954017896,
          -0.8000301318162512,
          0.5912931904834581,
          -0.1648826924515067,
          0.7513998380294736,
          -0.36636501022202067,
          0.4479585738911855,
          0.01652610289102157,
          1.4436301181798241,
          1.198114629977769,
          -0.12417129548519844,
          -1.635490725015796,
          0.9659152618319634,
          -0.22163192420780028,
          0.13906379998407672,
          -0.5933198954392768,
          0.09517724473066766,
          -0.6565492491460867,
          -0.7362795364472919,
          -0.4868621253603264,
          -1.0520977748564473,
          -2.4117622058518284,
          -2.131492724081454,
          0.8115720023991889,
          -0.2685434009579712,
          -0.5963652446589135,
          2.474124392200335,
          0.06911688071229449,
          -1.1365645282692047,
          -0.7563200775798268,
          -0.8945050849648055,
          0.8551433639677785,
          -0.18826810908634953,
          1.4656718925668768,
          -0.056481576159804245,
          0.982213228229109,
          1.2540302807344708,
          2.269188395378155,
          0.5868297415228718,
          -1.3920972094032944,
          0.2580819064645278,
          -0.5126588457434668,
          0.8421125394269273,
          -0.7731775605236191,
          -2.401552932218778,
          -1.0766545233237557,
          -1.0115670858119716,
          0.5303470084085685,
          -0.02356719985016988,
          -0.11813249614427222,
          0.6296570442736785,
          -0.8320580612521427,
          -0.49955935500329185,
          -0.13027097894996809,
          -0.081474351975949,
          0.27830415447931356,
          1.218265733122561,
          1.4955858477436832,
          -0.11999165184828173,
          -2.0658962422542575,
          -1.2836654857950553,
          -2.868162817942856,
          -2.363789031238105,
          -0.5279276194071908,
          -0.08225036746740437,
          -0.47129768728363813
         ]
        },
        {
         "line": {
          "color": "rgba(50, 171, 96, 1.0)",
          "dash": "solid",
          "shape": "linear",
          "width": 1.3
         },
         "mode": "lines",
         "name": "C",
         "text": "",
         "type": "scatter",
         "x": [
          0,
          1,
          2,
          3,
          4,
          5,
          6,
          7,
          8,
          9,
          10,
          11,
          12,
          13,
          14,
          15,
          16,
          17,
          18,
          19,
          20,
          21,
          22,
          23,
          24,
          25,
          26,
          27,
          28,
          29,
          30,
          31,
          32,
          33,
          34,
          35,
          36,
          37,
          38,
          39,
          40,
          41,
          42,
          43,
          44,
          45,
          46,
          47,
          48,
          49,
          50,
          51,
          52,
          53,
          54,
          55,
          56,
          57,
          58,
          59,
          60,
          61,
          62,
          63,
          64,
          65,
          66,
          67,
          68,
          69,
          70,
          71,
          72,
          73,
          74,
          75,
          76,
          77,
          78,
          79,
          80,
          81,
          82,
          83,
          84,
          85,
          86,
          87,
          88,
          89,
          90,
          91,
          92,
          93,
          94,
          95,
          96,
          97,
          98,
          99
         ],
         "y": [
          -1.4915827436378635,
          -2.112020006549017,
          -0.8329924095346284,
          1.7823209334611574,
          -0.7192814711428236,
          -0.5657555679446309,
          0.29374616132364456,
          1.6996285110354985,
          -0.41935449712171036,
          1.8049666970050822,
          0.9950818115963185,
          -0.3561521976707872,
          0.35746595441843676,
          0.16665249127587373,
          -0.30997250971580614,
          1.320875064102547,
          -2.2275645560572377,
          -0.558859659944914,
          -0.3395427132529864,
          -0.6172227810131552,
          0.5598324593996644,
          2.3176340765173293,
          1.3868298905679506,
          0.7074025099455857,
          0.9968354698286394,
          0.5759027018023721,
          -1.1902446827365922,
          -0.566420905406603,
          -2.5787457879446936,
          1.0448765267217333,
          0.0575222219029565,
          0.553843648368937,
          -0.5848856885732062,
          -0.9167844605684892,
          -0.4116034641618978,
          0.3403504234759874,
          -0.09015529136674685,
          0.9605253449617726,
          0.41295230460834553,
          0.17606893005627136,
          0.1394835567699609,
          -0.24824526562589908,
          -0.31426882930239164,
          0.690792933252245,
          -0.9878882957890283,
          -0.4735071596684798,
          1.6512343595147854,
          2.609770180786801,
          -0.7648625754422158,
          0.0712398856157923,
          -0.5049747112309024,
          0.4912486112813825,
          0.9885021263519854,
          0.7712407604431888,
          0.1290524490715323,
          0.04448892449874012,
          0.37191418104278157,
          0.5511476627085021,
          0.2145247287208951,
          0.6179232564946322,
          -0.21505308570241372,
          0.11415534786549235,
          0.49730667627105724,
          -1.3539767876323532,
          1.5029693022889137,
          -0.8955210319309673,
          1.5236031046781657,
          -0.5511762908172061,
          -0.48435904644665134,
          0.06780795963216768,
          0.10577749158140741,
          -0.7613594055094629,
          -0.0807678779419743,
          -1.100340014759591,
          0.13473733868437426,
          -0.5554032514491901,
          -2.1040562904224527,
          1.3785472966882482,
          0.20358444370538267,
          2.8953721028734596,
          0.3130398408759578,
          0.14002930904544209,
          -1.3728158956282914,
          -0.35819175282054805,
          0.22958757977878763,
          -0.003913314093714403,
          -1.9865998428720206,
          -1.4995645715031976,
          -1.610787403627202,
          -0.7673634249080489,
          -0.3989395546614242,
          2.6703375578543307,
          1.790563716962692,
          -1.1414208367513043,
          0.6848848569715895,
          0.7269276441464714,
          -0.2956929541095785,
          -0.4582838725550537,
          -0.31906036078748545,
          -2.1211963434778136
         ]
        },
        {
         "line": {
          "color": "rgba(128, 0, 128, 1.0)",
          "dash": "solid",
          "shape": "linear",
          "width": 1.3
         },
         "mode": "lines",
         "name": "D",
         "text": "",
         "type": "scatter",
         "x": [
          0,
          1,
          2,
          3,
          4,
          5,
          6,
          7,
          8,
          9,
          10,
          11,
          12,
          13,
          14,
          15,
          16,
          17,
          18,
          19,
          20,
          21,
          22,
          23,
          24,
          25,
          26,
          27,
          28,
          29,
          30,
          31,
          32,
          33,
          34,
          35,
          36,
          37,
          38,
          39,
          40,
          41,
          42,
          43,
          44,
          45,
          46,
          47,
          48,
          49,
          50,
          51,
          52,
          53,
          54,
          55,
          56,
          57,
          58,
          59,
          60,
          61,
          62,
          63,
          64,
          65,
          66,
          67,
          68,
          69,
          70,
          71,
          72,
          73,
          74,
          75,
          76,
          77,
          78,
          79,
          80,
          81,
          82,
          83,
          84,
          85,
          86,
          87,
          88,
          89,
          90,
          91,
          92,
          93,
          94,
          95,
          96,
          97,
          98,
          99
         ],
         "y": [
          -0.7025160410480839,
          1.3109081667544578,
          -0.510361468081794,
          0.14988146373890324,
          1.6019418730762025,
          -0.349053248547214,
          -0.4166299933795874,
          -2.4680739874503113,
          0.025067974485122674,
          -0.19871976026948518,
          0.5953950686273765,
          0.7511049301039473,
          0.5720049651864383,
          -2.4835048163036797,
          0.2109330444317143,
          1.4767934570912753,
          -0.035966329295487084,
          -0.6810201187166933,
          -1.3957264827789182,
          0.34492934974635153,
          -0.22948438014191513,
          0.9944106854012644,
          1.1245846524485843,
          1.7267038383309876,
          0.5044357665376124,
          -0.35664609529375235,
          -0.17181976879078467,
          -1.173535775728522,
          0.06374348058106245,
          0.7848220619723575,
          -0.2564503272297871,
          1.8315920467331734,
          2.032589934699792,
          0.6513614616376907,
          -0.1424870213724532,
          1.7632791185368706,
          0.720715119660739,
          -1.7333097242317494,
          0.1253668772189341,
          -0.6906249181043568,
          -0.5850487211742301,
          0.7651300905830513,
          0.12186453381870625,
          -0.4150343239864852,
          0.660759717712707,
          1.2753300935459693,
          -1.4496646904364807,
          0.19710775617052026,
          -0.18528700914977536,
          0.6884493145711821,
          0.16201470238935398,
          -0.03200110632704644,
          -0.08702335075885158,
          1.3271464353502238,
          -0.07768790979240572,
          -1.4135203973646147,
          -0.5787944728418192,
          0.5022055952444596,
          0.454460398888486,
          0.49952080788698844,
          1.3937837027809206,
          -0.22705333578165374,
          1.7601645652112776,
          1.1693672723203297,
          0.006168973030320437,
          -1.2946412347695087,
          0.9359192670481432,
          -0.34135313067712797,
          -0.8991078674578962,
          -1.4180420040265282,
          -0.3141498370012541,
          1.3284588340190397,
          0.43436365261630805,
          -0.06019913519325379,
          0.7229731593151011,
          -0.059130641011031916,
          0.18691418901314508,
          -0.579051175367635,
          0.6863533149215727,
          2.2073437656015202,
          0.6189359844436157,
          -1.4371023486349348,
          0.20509646795438427,
          0.5351249753977271,
          1.1588687922005507,
          -0.3865337149383086,
          0.3199797712139598,
          -0.17461766180681795,
          -0.7182557946851779,
          1.9110973156231161,
          -1.480052452610233,
          -1.0388907279053714,
          1.9265638251231678,
          0.6879312442723563,
          -0.5989968078733376,
          2.010769856789577,
          0.5928355998139698,
          -1.3997036184021738,
          -1.597976868291814,
          -0.7472119617588053
         ]
        }
       ],
       "layout": {
        "legend": {
         "bgcolor": "#F5F6F9",
         "font": {
          "color": "#4D5663"
         }
        },
        "paper_bgcolor": "#F5F6F9",
        "plot_bgcolor": "#F5F6F9",
        "template": {
         "data": {
          "bar": [
           {
            "error_x": {
             "color": "#2a3f5f"
            },
            "error_y": {
             "color": "#2a3f5f"
            },
            "marker": {
             "line": {
              "color": "#E5ECF6",
              "width": 0.5
             }
            },
            "type": "bar"
           }
          ],
          "barpolar": [
           {
            "marker": {
             "line": {
              "color": "#E5ECF6",
              "width": 0.5
             }
            },
            "type": "barpolar"
           }
          ],
          "carpet": [
           {
            "aaxis": {
             "endlinecolor": "#2a3f5f",
             "gridcolor": "white",
             "linecolor": "white",
             "minorgridcolor": "white",
             "startlinecolor": "#2a3f5f"
            },
            "baxis": {
             "endlinecolor": "#2a3f5f",
             "gridcolor": "white",
             "linecolor": "white",
             "minorgridcolor": "white",
             "startlinecolor": "#2a3f5f"
            },
            "type": "carpet"
           }
          ],
          "choropleth": [
           {
            "colorbar": {
             "outlinewidth": 0,
             "ticks": ""
            },
            "type": "choropleth"
           }
          ],
          "contour": [
           {
            "colorbar": {
             "outlinewidth": 0,
             "ticks": ""
            },
            "colorscale": [
             [
              0,
              "#0d0887"
             ],
             [
              0.1111111111111111,
              "#46039f"
             ],
             [
              0.2222222222222222,
              "#7201a8"
             ],
             [
              0.3333333333333333,
              "#9c179e"
             ],
             [
              0.4444444444444444,
              "#bd3786"
             ],
             [
              0.5555555555555556,
              "#d8576b"
             ],
             [
              0.6666666666666666,
              "#ed7953"
             ],
             [
              0.7777777777777778,
              "#fb9f3a"
             ],
             [
              0.8888888888888888,
              "#fdca26"
             ],
             [
              1,
              "#f0f921"
             ]
            ],
            "type": "contour"
           }
          ],
          "contourcarpet": [
           {
            "colorbar": {
             "outlinewidth": 0,
             "ticks": ""
            },
            "type": "contourcarpet"
           }
          ],
          "heatmap": [
           {
            "colorbar": {
             "outlinewidth": 0,
             "ticks": ""
            },
            "colorscale": [
             [
              0,
              "#0d0887"
             ],
             [
              0.1111111111111111,
              "#46039f"
             ],
             [
              0.2222222222222222,
              "#7201a8"
             ],
             [
              0.3333333333333333,
              "#9c179e"
             ],
             [
              0.4444444444444444,
              "#bd3786"
             ],
             [
              0.5555555555555556,
              "#d8576b"
             ],
             [
              0.6666666666666666,
              "#ed7953"
             ],
             [
              0.7777777777777778,
              "#fb9f3a"
             ],
             [
              0.8888888888888888,
              "#fdca26"
             ],
             [
              1,
              "#f0f921"
             ]
            ],
            "type": "heatmap"
           }
          ],
          "heatmapgl": [
           {
            "colorbar": {
             "outlinewidth": 0,
             "ticks": ""
            },
            "colorscale": [
             [
              0,
              "#0d0887"
             ],
             [
              0.1111111111111111,
              "#46039f"
             ],
             [
              0.2222222222222222,
              "#7201a8"
             ],
             [
              0.3333333333333333,
              "#9c179e"
             ],
             [
              0.4444444444444444,
              "#bd3786"
             ],
             [
              0.5555555555555556,
              "#d8576b"
             ],
             [
              0.6666666666666666,
              "#ed7953"
             ],
             [
              0.7777777777777778,
              "#fb9f3a"
             ],
             [
              0.8888888888888888,
              "#fdca26"
             ],
             [
              1,
              "#f0f921"
             ]
            ],
            "type": "heatmapgl"
           }
          ],
          "histogram": [
           {
            "marker": {
             "colorbar": {
              "outlinewidth": 0,
              "ticks": ""
             }
            },
            "type": "histogram"
           }
          ],
          "histogram2d": [
           {
            "colorbar": {
             "outlinewidth": 0,
             "ticks": ""
            },
            "colorscale": [
             [
              0,
              "#0d0887"
             ],
             [
              0.1111111111111111,
              "#46039f"
             ],
             [
              0.2222222222222222,
              "#7201a8"
             ],
             [
              0.3333333333333333,
              "#9c179e"
             ],
             [
              0.4444444444444444,
              "#bd3786"
             ],
             [
              0.5555555555555556,
              "#d8576b"
             ],
             [
              0.6666666666666666,
              "#ed7953"
             ],
             [
              0.7777777777777778,
              "#fb9f3a"
             ],
             [
              0.8888888888888888,
              "#fdca26"
             ],
             [
              1,
              "#f0f921"
             ]
            ],
            "type": "histogram2d"
           }
          ],
          "histogram2dcontour": [
           {
            "colorbar": {
             "outlinewidth": 0,
             "ticks": ""
            },
            "colorscale": [
             [
              0,
              "#0d0887"
             ],
             [
              0.1111111111111111,
              "#46039f"
             ],
             [
              0.2222222222222222,
              "#7201a8"
             ],
             [
              0.3333333333333333,
              "#9c179e"
             ],
             [
              0.4444444444444444,
              "#bd3786"
             ],
             [
              0.5555555555555556,
              "#d8576b"
             ],
             [
              0.6666666666666666,
              "#ed7953"
             ],
             [
              0.7777777777777778,
              "#fb9f3a"
             ],
             [
              0.8888888888888888,
              "#fdca26"
             ],
             [
              1,
              "#f0f921"
             ]
            ],
            "type": "histogram2dcontour"
           }
          ],
          "mesh3d": [
           {
            "colorbar": {
             "outlinewidth": 0,
             "ticks": ""
            },
            "type": "mesh3d"
           }
          ],
          "parcoords": [
           {
            "line": {
             "colorbar": {
              "outlinewidth": 0,
              "ticks": ""
             }
            },
            "type": "parcoords"
           }
          ],
          "scatter": [
           {
            "marker": {
             "colorbar": {
              "outlinewidth": 0,
              "ticks": ""
             }
            },
            "type": "scatter"
           }
          ],
          "scatter3d": [
           {
            "line": {
             "colorbar": {
              "outlinewidth": 0,
              "ticks": ""
             }
            },
            "marker": {
             "colorbar": {
              "outlinewidth": 0,
              "ticks": ""
             }
            },
            "type": "scatter3d"
           }
          ],
          "scattercarpet": [
           {
            "marker": {
             "colorbar": {
              "outlinewidth": 0,
              "ticks": ""
             }
            },
            "type": "scattercarpet"
           }
          ],
          "scattergeo": [
           {
            "marker": {
             "colorbar": {
              "outlinewidth": 0,
              "ticks": ""
             }
            },
            "type": "scattergeo"
           }
          ],
          "scattergl": [
           {
            "marker": {
             "colorbar": {
              "outlinewidth": 0,
              "ticks": ""
             }
            },
            "type": "scattergl"
           }
          ],
          "scattermapbox": [
           {
            "marker": {
             "colorbar": {
              "outlinewidth": 0,
              "ticks": ""
             }
            },
            "type": "scattermapbox"
           }
          ],
          "scatterpolar": [
           {
            "marker": {
             "colorbar": {
              "outlinewidth": 0,
              "ticks": ""
             }
            },
            "type": "scatterpolar"
           }
          ],
          "scatterpolargl": [
           {
            "marker": {
             "colorbar": {
              "outlinewidth": 0,
              "ticks": ""
             }
            },
            "type": "scatterpolargl"
           }
          ],
          "scatterternary": [
           {
            "marker": {
             "colorbar": {
              "outlinewidth": 0,
              "ticks": ""
             }
            },
            "type": "scatterternary"
           }
          ],
          "surface": [
           {
            "colorbar": {
             "outlinewidth": 0,
             "ticks": ""
            },
            "colorscale": [
             [
              0,
              "#0d0887"
             ],
             [
              0.1111111111111111,
              "#46039f"
             ],
             [
              0.2222222222222222,
              "#7201a8"
             ],
             [
              0.3333333333333333,
              "#9c179e"
             ],
             [
              0.4444444444444444,
              "#bd3786"
             ],
             [
              0.5555555555555556,
              "#d8576b"
             ],
             [
              0.6666666666666666,
              "#ed7953"
             ],
             [
              0.7777777777777778,
              "#fb9f3a"
             ],
             [
              0.8888888888888888,
              "#fdca26"
             ],
             [
              1,
              "#f0f921"
             ]
            ],
            "type": "surface"
           }
          ],
          "table": [
           {
            "cells": {
             "fill": {
              "color": "#EBF0F8"
             },
             "line": {
              "color": "white"
             }
            },
            "header": {
             "fill": {
              "color": "#C8D4E3"
             },
             "line": {
              "color": "white"
             }
            },
            "type": "table"
           }
          ]
         },
         "layout": {
          "annotationdefaults": {
           "arrowcolor": "#2a3f5f",
           "arrowhead": 0,
           "arrowwidth": 1
          },
          "colorscale": {
           "diverging": [
            [
             0,
             "#8e0152"
            ],
            [
             0.1,
             "#c51b7d"
            ],
            [
             0.2,
             "#de77ae"
            ],
            [
             0.3,
             "#f1b6da"
            ],
            [
             0.4,
             "#fde0ef"
            ],
            [
             0.5,
             "#f7f7f7"
            ],
            [
             0.6,
             "#e6f5d0"
            ],
            [
             0.7,
             "#b8e186"
            ],
            [
             0.8,
             "#7fbc41"
            ],
            [
             0.9,
             "#4d9221"
            ],
            [
             1,
             "#276419"
            ]
           ],
           "sequential": [
            [
             0,
             "#0d0887"
            ],
            [
             0.1111111111111111,
             "#46039f"
            ],
            [
             0.2222222222222222,
             "#7201a8"
            ],
            [
             0.3333333333333333,
             "#9c179e"
            ],
            [
             0.4444444444444444,
             "#bd3786"
            ],
            [
             0.5555555555555556,
             "#d8576b"
            ],
            [
             0.6666666666666666,
             "#ed7953"
            ],
            [
             0.7777777777777778,
             "#fb9f3a"
            ],
            [
             0.8888888888888888,
             "#fdca26"
            ],
            [
             1,
             "#f0f921"
            ]
           ],
           "sequentialminus": [
            [
             0,
             "#0d0887"
            ],
            [
             0.1111111111111111,
             "#46039f"
            ],
            [
             0.2222222222222222,
             "#7201a8"
            ],
            [
             0.3333333333333333,
             "#9c179e"
            ],
            [
             0.4444444444444444,
             "#bd3786"
            ],
            [
             0.5555555555555556,
             "#d8576b"
            ],
            [
             0.6666666666666666,
             "#ed7953"
            ],
            [
             0.7777777777777778,
             "#fb9f3a"
            ],
            [
             0.8888888888888888,
             "#fdca26"
            ],
            [
             1,
             "#f0f921"
            ]
           ]
          },
          "colorway": [
           "#636efa",
           "#EF553B",
           "#00cc96",
           "#ab63fa",
           "#FFA15A",
           "#19d3f3",
           "#FF6692",
           "#B6E880",
           "#FF97FF",
           "#FECB52"
          ],
          "font": {
           "color": "#2a3f5f"
          },
          "geo": {
           "bgcolor": "white",
           "lakecolor": "white",
           "landcolor": "#E5ECF6",
           "showlakes": true,
           "showland": true,
           "subunitcolor": "white"
          },
          "hoverlabel": {
           "align": "left"
          },
          "hovermode": "closest",
          "mapbox": {
           "style": "light"
          },
          "paper_bgcolor": "white",
          "plot_bgcolor": "#E5ECF6",
          "polar": {
           "angularaxis": {
            "gridcolor": "white",
            "linecolor": "white",
            "ticks": ""
           },
           "bgcolor": "#E5ECF6",
           "radialaxis": {
            "gridcolor": "white",
            "linecolor": "white",
            "ticks": ""
           }
          },
          "scene": {
           "xaxis": {
            "backgroundcolor": "#E5ECF6",
            "gridcolor": "white",
            "gridwidth": 2,
            "linecolor": "white",
            "showbackground": true,
            "ticks": "",
            "zerolinecolor": "white"
           },
           "yaxis": {
            "backgroundcolor": "#E5ECF6",
            "gridcolor": "white",
            "gridwidth": 2,
            "linecolor": "white",
            "showbackground": true,
            "ticks": "",
            "zerolinecolor": "white"
           },
           "zaxis": {
            "backgroundcolor": "#E5ECF6",
            "gridcolor": "white",
            "gridwidth": 2,
            "linecolor": "white",
            "showbackground": true,
            "ticks": "",
            "zerolinecolor": "white"
           }
          },
          "shapedefaults": {
           "line": {
            "color": "#2a3f5f"
           }
          },
          "ternary": {
           "aaxis": {
            "gridcolor": "white",
            "linecolor": "white",
            "ticks": ""
           },
           "baxis": {
            "gridcolor": "white",
            "linecolor": "white",
            "ticks": ""
           },
           "bgcolor": "#E5ECF6",
           "caxis": {
            "gridcolor": "white",
            "linecolor": "white",
            "ticks": ""
           }
          },
          "title": {
           "x": 0.05
          },
          "xaxis": {
           "automargin": true,
           "gridcolor": "white",
           "linecolor": "white",
           "ticks": "",
           "zerolinecolor": "white",
           "zerolinewidth": 2
          },
          "yaxis": {
           "automargin": true,
           "gridcolor": "white",
           "linecolor": "white",
           "ticks": "",
           "zerolinecolor": "white",
           "zerolinewidth": 2
          }
         }
        },
        "title": {
         "font": {
          "color": "#4D5663"
         }
        },
        "xaxis": {
         "gridcolor": "#E1E5ED",
         "showgrid": true,
         "tickfont": {
          "color": "#4D5663"
         },
         "title": {
          "font": {
           "color": "#4D5663"
          },
          "text": ""
         },
         "zerolinecolor": "#E1E5ED"
        },
        "yaxis": {
         "gridcolor": "#E1E5ED",
         "showgrid": true,
         "tickfont": {
          "color": "#4D5663"
         },
         "title": {
          "font": {
           "color": "#4D5663"
          },
          "text": ""
         },
         "zerolinecolor": "#E1E5ED"
        }
       }
      },
      "text/html": [
       "<div>\n",
       "        \n",
       "        \n",
       "            <div id=\"0bba76d3-dee9-4b08-b15e-c089803645f4\" class=\"plotly-graph-div\" style=\"height:525px; width:100%;\"></div>\n",
       "            <script type=\"text/javascript\">\n",
       "                require([\"plotly\"], function(Plotly) {\n",
       "                    window.PLOTLYENV=window.PLOTLYENV || {};\n",
       "                    window.PLOTLYENV.BASE_URL='https://plot.ly';\n",
       "                    \n",
       "                if (document.getElementById(\"0bba76d3-dee9-4b08-b15e-c089803645f4\")) {\n",
       "                    Plotly.newPlot(\n",
       "                        '0bba76d3-dee9-4b08-b15e-c089803645f4',\n",
       "                        [{\"line\": {\"color\": \"rgba(255, 153, 51, 1.0)\", \"dash\": \"solid\", \"shape\": \"linear\", \"width\": 1.3}, \"mode\": \"lines\", \"name\": \"A\", \"text\": \"\", \"type\": \"scatter\", \"x\": [0, 1, 2, 3, 4, 5, 6, 7, 8, 9, 10, 11, 12, 13, 14, 15, 16, 17, 18, 19, 20, 21, 22, 23, 24, 25, 26, 27, 28, 29, 30, 31, 32, 33, 34, 35, 36, 37, 38, 39, 40, 41, 42, 43, 44, 45, 46, 47, 48, 49, 50, 51, 52, 53, 54, 55, 56, 57, 58, 59, 60, 61, 62, 63, 64, 65, 66, 67, 68, 69, 70, 71, 72, 73, 74, 75, 76, 77, 78, 79, 80, 81, 82, 83, 84, 85, 86, 87, 88, 89, 90, 91, 92, 93, 94, 95, 96, 97, 98, 99], \"y\": [0.2677202100092553, 0.029401801300603495, 1.6333155976582325, -0.15395081213775003, -0.14413501408846446, -1.6449448335712324, -0.14949460123467992, 0.3339491948644246, -2.597094399834224, 0.31658962768094867, 0.8786647987727886, -1.3432173218877443, -0.7847668533324995, -0.837875974898997, -0.16072258922436436, 0.5380362625214631, 0.8018472514118294, 2.225050418870336, 0.06312688222115209, -0.2819821780153154, 0.4561975529941592, 0.9540050098411976, -0.5772141596534164, 0.2533501925563586, -1.8640188679329512, 0.24686965021478458, -1.5145631567705737, 0.8539396046950519, 0.0530587181385824, -1.1056944602495598, -0.8106609561461899, 1.9999438998844243, -1.696019592198367, 0.27035476500109734, 0.3448685019844587, 2.4332894470526885, 1.0183035709639316, -1.0635862704484549, -0.4404129255558789, -1.2016635715406303, -0.7349321325596352, 0.2912459365897682, 1.1057264089740584, -1.3474952757494583, 1.3656261037787343, 1.4668789210387587, 1.1341137118535645, -0.797166045752831, -0.8437538847577685, -0.6578538590564416, -2.800744340160438, -1.464933962422879, 0.18579368606777028, 0.2716661071690678, -1.388396543205864, 0.5651575972514904, 1.870569345198021, -0.01803795079444882, 0.5445561374341695, 1.3100419598906323, 0.9269117310037176, 1.2170550881202022, 0.5977731119509945, 1.4658503908815197, -0.7133295308487775, -1.6072561105549357, -1.1583952519354686, -0.5675193850198321, 0.18395561276829986, 1.5629117365627527, -0.6459481567494111, 0.6451808366860189, -1.140277317678325, 0.9201965824358878, 0.5628508849829402, 0.06223168643101446, 0.3830041460378295, -1.7425635857356514, 2.68853762149162, -1.5873613032422402, 1.2103667304439776, 0.4483515828616707, 0.3069526013666004, -0.3056869359478956, 0.43649977563834447, -0.3367048914567436, -0.8743257220013367, 0.9018109380439379, 0.4495422955436478, -1.1129199575924928, 0.8875442142140842, -1.0279242303493357, 2.1826050258379954, 1.3416997099219075, -0.5444380801553921, -1.3906335395822353, 0.603842679050368, 1.4479816718381482, 2.2801894155665146, 0.2948305425715559]}, {\"line\": {\"color\": \"rgba(55, 128, 191, 1.0)\", \"dash\": \"solid\", \"shape\": \"linear\", \"width\": 1.3}, \"mode\": \"lines\", \"name\": \"B\", \"text\": \"\", \"type\": \"scatter\", \"x\": [0, 1, 2, 3, 4, 5, 6, 7, 8, 9, 10, 11, 12, 13, 14, 15, 16, 17, 18, 19, 20, 21, 22, 23, 24, 25, 26, 27, 28, 29, 30, 31, 32, 33, 34, 35, 36, 37, 38, 39, 40, 41, 42, 43, 44, 45, 46, 47, 48, 49, 50, 51, 52, 53, 54, 55, 56, 57, 58, 59, 60, 61, 62, 63, 64, 65, 66, 67, 68, 69, 70, 71, 72, 73, 74, 75, 76, 77, 78, 79, 80, 81, 82, 83, 84, 85, 86, 87, 88, 89, 90, 91, 92, 93, 94, 95, 96, 97, 98, 99], \"y\": [-0.4325321712751128, -1.5460924544980112, 0.10273563589960194, -0.4367522969617371, -0.37250903654265705, 2.495901049673792, 0.4543077408140475, -0.30651567349031394, -0.38977321361290346, 0.25333239787958034, -0.6518531750893366, -1.1598463133588912, -0.2502549143354412, -0.20151676688773343, 1.5980566808370873, 0.029402384373415722, -0.2269876865330706, -0.33008870211174673, 0.8804252708319859, 0.540454682551017, -0.056564992295370896, -1.543266073278203, -0.1517454722774265, 0.48850921701499184, -1.5218659923324995, 0.48252528692933, -1.1739288126024365, -0.2661170255448922, -0.12089999686922906, 2.207181673471075, 1.3492640917725967, -0.07360631969307191, -0.8428718809880091, 0.6541993474215966, 1.832577954017896, -0.8000301318162512, 0.5912931904834581, -0.1648826924515067, 0.7513998380294736, -0.36636501022202067, 0.4479585738911855, 0.01652610289102157, 1.4436301181798241, 1.198114629977769, -0.12417129548519844, -1.635490725015796, 0.9659152618319634, -0.22163192420780028, 0.13906379998407672, -0.5933198954392768, 0.09517724473066766, -0.6565492491460867, -0.7362795364472919, -0.4868621253603264, -1.0520977748564473, -2.4117622058518284, -2.131492724081454, 0.8115720023991889, -0.2685434009579712, -0.5963652446589135, 2.474124392200335, 0.06911688071229449, -1.1365645282692047, -0.7563200775798268, -0.8945050849648055, 0.8551433639677785, -0.18826810908634953, 1.4656718925668768, -0.056481576159804245, 0.982213228229109, 1.2540302807344708, 2.269188395378155, 0.5868297415228718, -1.3920972094032944, 0.2580819064645278, -0.5126588457434668, 0.8421125394269273, -0.7731775605236191, -2.401552932218778, -1.0766545233237557, -1.0115670858119716, 0.5303470084085685, -0.02356719985016988, -0.11813249614427222, 0.6296570442736785, -0.8320580612521427, -0.49955935500329185, -0.13027097894996809, -0.081474351975949, 0.27830415447931356, 1.218265733122561, 1.4955858477436832, -0.11999165184828173, -2.0658962422542575, -1.2836654857950553, -2.868162817942856, -2.363789031238105, -0.5279276194071908, -0.08225036746740437, -0.47129768728363813]}, {\"line\": {\"color\": \"rgba(50, 171, 96, 1.0)\", \"dash\": \"solid\", \"shape\": \"linear\", \"width\": 1.3}, \"mode\": \"lines\", \"name\": \"C\", \"text\": \"\", \"type\": \"scatter\", \"x\": [0, 1, 2, 3, 4, 5, 6, 7, 8, 9, 10, 11, 12, 13, 14, 15, 16, 17, 18, 19, 20, 21, 22, 23, 24, 25, 26, 27, 28, 29, 30, 31, 32, 33, 34, 35, 36, 37, 38, 39, 40, 41, 42, 43, 44, 45, 46, 47, 48, 49, 50, 51, 52, 53, 54, 55, 56, 57, 58, 59, 60, 61, 62, 63, 64, 65, 66, 67, 68, 69, 70, 71, 72, 73, 74, 75, 76, 77, 78, 79, 80, 81, 82, 83, 84, 85, 86, 87, 88, 89, 90, 91, 92, 93, 94, 95, 96, 97, 98, 99], \"y\": [-1.4915827436378635, -2.112020006549017, -0.8329924095346284, 1.7823209334611574, -0.7192814711428236, -0.5657555679446309, 0.29374616132364456, 1.6996285110354985, -0.41935449712171036, 1.8049666970050822, 0.9950818115963185, -0.3561521976707872, 0.35746595441843676, 0.16665249127587373, -0.30997250971580614, 1.320875064102547, -2.2275645560572377, -0.558859659944914, -0.3395427132529864, -0.6172227810131552, 0.5598324593996644, 2.3176340765173293, 1.3868298905679506, 0.7074025099455857, 0.9968354698286394, 0.5759027018023721, -1.1902446827365922, -0.566420905406603, -2.5787457879446936, 1.0448765267217333, 0.0575222219029565, 0.553843648368937, -0.5848856885732062, -0.9167844605684892, -0.4116034641618978, 0.3403504234759874, -0.09015529136674685, 0.9605253449617726, 0.41295230460834553, 0.17606893005627136, 0.1394835567699609, -0.24824526562589908, -0.31426882930239164, 0.690792933252245, -0.9878882957890283, -0.4735071596684798, 1.6512343595147854, 2.609770180786801, -0.7648625754422158, 0.0712398856157923, -0.5049747112309024, 0.4912486112813825, 0.9885021263519854, 0.7712407604431888, 0.1290524490715323, 0.04448892449874012, 0.37191418104278157, 0.5511476627085021, 0.2145247287208951, 0.6179232564946322, -0.21505308570241372, 0.11415534786549235, 0.49730667627105724, -1.3539767876323532, 1.5029693022889137, -0.8955210319309673, 1.5236031046781657, -0.5511762908172061, -0.48435904644665134, 0.06780795963216768, 0.10577749158140741, -0.7613594055094629, -0.0807678779419743, -1.100340014759591, 0.13473733868437426, -0.5554032514491901, -2.1040562904224527, 1.3785472966882482, 0.20358444370538267, 2.8953721028734596, 0.3130398408759578, 0.14002930904544209, -1.3728158956282914, -0.35819175282054805, 0.22958757977878763, -0.003913314093714403, -1.9865998428720206, -1.4995645715031976, -1.610787403627202, -0.7673634249080489, -0.3989395546614242, 2.6703375578543307, 1.790563716962692, -1.1414208367513043, 0.6848848569715895, 0.7269276441464714, -0.2956929541095785, -0.4582838725550537, -0.31906036078748545, -2.1211963434778136]}, {\"line\": {\"color\": \"rgba(128, 0, 128, 1.0)\", \"dash\": \"solid\", \"shape\": \"linear\", \"width\": 1.3}, \"mode\": \"lines\", \"name\": \"D\", \"text\": \"\", \"type\": \"scatter\", \"x\": [0, 1, 2, 3, 4, 5, 6, 7, 8, 9, 10, 11, 12, 13, 14, 15, 16, 17, 18, 19, 20, 21, 22, 23, 24, 25, 26, 27, 28, 29, 30, 31, 32, 33, 34, 35, 36, 37, 38, 39, 40, 41, 42, 43, 44, 45, 46, 47, 48, 49, 50, 51, 52, 53, 54, 55, 56, 57, 58, 59, 60, 61, 62, 63, 64, 65, 66, 67, 68, 69, 70, 71, 72, 73, 74, 75, 76, 77, 78, 79, 80, 81, 82, 83, 84, 85, 86, 87, 88, 89, 90, 91, 92, 93, 94, 95, 96, 97, 98, 99], \"y\": [-0.7025160410480839, 1.3109081667544578, -0.510361468081794, 0.14988146373890324, 1.6019418730762025, -0.349053248547214, -0.4166299933795874, -2.4680739874503113, 0.025067974485122674, -0.19871976026948518, 0.5953950686273765, 0.7511049301039473, 0.5720049651864383, -2.4835048163036797, 0.2109330444317143, 1.4767934570912753, -0.035966329295487084, -0.6810201187166933, -1.3957264827789182, 0.34492934974635153, -0.22948438014191513, 0.9944106854012644, 1.1245846524485843, 1.7267038383309876, 0.5044357665376124, -0.35664609529375235, -0.17181976879078467, -1.173535775728522, 0.06374348058106245, 0.7848220619723575, -0.2564503272297871, 1.8315920467331734, 2.032589934699792, 0.6513614616376907, -0.1424870213724532, 1.7632791185368706, 0.720715119660739, -1.7333097242317494, 0.1253668772189341, -0.6906249181043568, -0.5850487211742301, 0.7651300905830513, 0.12186453381870625, -0.4150343239864852, 0.660759717712707, 1.2753300935459693, -1.4496646904364807, 0.19710775617052026, -0.18528700914977536, 0.6884493145711821, 0.16201470238935398, -0.03200110632704644, -0.08702335075885158, 1.3271464353502238, -0.07768790979240572, -1.4135203973646147, -0.5787944728418192, 0.5022055952444596, 0.454460398888486, 0.49952080788698844, 1.3937837027809206, -0.22705333578165374, 1.7601645652112776, 1.1693672723203297, 0.006168973030320437, -1.2946412347695087, 0.9359192670481432, -0.34135313067712797, -0.8991078674578962, -1.4180420040265282, -0.3141498370012541, 1.3284588340190397, 0.43436365261630805, -0.06019913519325379, 0.7229731593151011, -0.059130641011031916, 0.18691418901314508, -0.579051175367635, 0.6863533149215727, 2.2073437656015202, 0.6189359844436157, -1.4371023486349348, 0.20509646795438427, 0.5351249753977271, 1.1588687922005507, -0.3865337149383086, 0.3199797712139598, -0.17461766180681795, -0.7182557946851779, 1.9110973156231161, -1.480052452610233, -1.0388907279053714, 1.9265638251231678, 0.6879312442723563, -0.5989968078733376, 2.010769856789577, 0.5928355998139698, -1.3997036184021738, -1.597976868291814, -0.7472119617588053]}],\n",
       "                        {\"legend\": {\"bgcolor\": \"#F5F6F9\", \"font\": {\"color\": \"#4D5663\"}}, \"paper_bgcolor\": \"#F5F6F9\", \"plot_bgcolor\": \"#F5F6F9\", \"template\": {\"data\": {\"bar\": [{\"error_x\": {\"color\": \"#2a3f5f\"}, \"error_y\": {\"color\": \"#2a3f5f\"}, \"marker\": {\"line\": {\"color\": \"#E5ECF6\", \"width\": 0.5}}, \"type\": \"bar\"}], \"barpolar\": [{\"marker\": {\"line\": {\"color\": \"#E5ECF6\", \"width\": 0.5}}, \"type\": \"barpolar\"}], \"carpet\": [{\"aaxis\": {\"endlinecolor\": \"#2a3f5f\", \"gridcolor\": \"white\", \"linecolor\": \"white\", \"minorgridcolor\": \"white\", \"startlinecolor\": \"#2a3f5f\"}, \"baxis\": {\"endlinecolor\": \"#2a3f5f\", \"gridcolor\": \"white\", \"linecolor\": \"white\", \"minorgridcolor\": \"white\", \"startlinecolor\": \"#2a3f5f\"}, \"type\": \"carpet\"}], \"choropleth\": [{\"colorbar\": {\"outlinewidth\": 0, \"ticks\": \"\"}, \"type\": \"choropleth\"}], \"contour\": [{\"colorbar\": {\"outlinewidth\": 0, \"ticks\": \"\"}, \"colorscale\": [[0.0, \"#0d0887\"], [0.1111111111111111, \"#46039f\"], [0.2222222222222222, \"#7201a8\"], [0.3333333333333333, \"#9c179e\"], [0.4444444444444444, \"#bd3786\"], [0.5555555555555556, \"#d8576b\"], [0.6666666666666666, \"#ed7953\"], [0.7777777777777778, \"#fb9f3a\"], [0.8888888888888888, \"#fdca26\"], [1.0, \"#f0f921\"]], \"type\": \"contour\"}], \"contourcarpet\": [{\"colorbar\": {\"outlinewidth\": 0, \"ticks\": \"\"}, \"type\": \"contourcarpet\"}], \"heatmap\": [{\"colorbar\": {\"outlinewidth\": 0, \"ticks\": \"\"}, \"colorscale\": [[0.0, \"#0d0887\"], [0.1111111111111111, \"#46039f\"], [0.2222222222222222, \"#7201a8\"], [0.3333333333333333, \"#9c179e\"], [0.4444444444444444, \"#bd3786\"], [0.5555555555555556, \"#d8576b\"], [0.6666666666666666, \"#ed7953\"], [0.7777777777777778, \"#fb9f3a\"], [0.8888888888888888, \"#fdca26\"], [1.0, \"#f0f921\"]], \"type\": \"heatmap\"}], \"heatmapgl\": [{\"colorbar\": {\"outlinewidth\": 0, \"ticks\": \"\"}, \"colorscale\": [[0.0, \"#0d0887\"], [0.1111111111111111, \"#46039f\"], [0.2222222222222222, \"#7201a8\"], [0.3333333333333333, \"#9c179e\"], [0.4444444444444444, \"#bd3786\"], [0.5555555555555556, \"#d8576b\"], [0.6666666666666666, \"#ed7953\"], [0.7777777777777778, \"#fb9f3a\"], [0.8888888888888888, \"#fdca26\"], [1.0, \"#f0f921\"]], \"type\": \"heatmapgl\"}], \"histogram\": [{\"marker\": {\"colorbar\": {\"outlinewidth\": 0, \"ticks\": \"\"}}, \"type\": \"histogram\"}], \"histogram2d\": [{\"colorbar\": {\"outlinewidth\": 0, \"ticks\": \"\"}, \"colorscale\": [[0.0, \"#0d0887\"], [0.1111111111111111, \"#46039f\"], [0.2222222222222222, \"#7201a8\"], [0.3333333333333333, \"#9c179e\"], [0.4444444444444444, \"#bd3786\"], [0.5555555555555556, \"#d8576b\"], [0.6666666666666666, \"#ed7953\"], [0.7777777777777778, \"#fb9f3a\"], [0.8888888888888888, \"#fdca26\"], [1.0, \"#f0f921\"]], \"type\": \"histogram2d\"}], \"histogram2dcontour\": [{\"colorbar\": {\"outlinewidth\": 0, \"ticks\": \"\"}, \"colorscale\": [[0.0, \"#0d0887\"], [0.1111111111111111, \"#46039f\"], [0.2222222222222222, \"#7201a8\"], [0.3333333333333333, \"#9c179e\"], [0.4444444444444444, \"#bd3786\"], [0.5555555555555556, \"#d8576b\"], [0.6666666666666666, \"#ed7953\"], [0.7777777777777778, \"#fb9f3a\"], [0.8888888888888888, \"#fdca26\"], [1.0, \"#f0f921\"]], \"type\": \"histogram2dcontour\"}], \"mesh3d\": [{\"colorbar\": {\"outlinewidth\": 0, \"ticks\": \"\"}, \"type\": \"mesh3d\"}], \"parcoords\": [{\"line\": {\"colorbar\": {\"outlinewidth\": 0, \"ticks\": \"\"}}, \"type\": \"parcoords\"}], \"scatter\": [{\"marker\": {\"colorbar\": {\"outlinewidth\": 0, \"ticks\": \"\"}}, \"type\": \"scatter\"}], \"scatter3d\": [{\"line\": {\"colorbar\": {\"outlinewidth\": 0, \"ticks\": \"\"}}, \"marker\": {\"colorbar\": {\"outlinewidth\": 0, \"ticks\": \"\"}}, \"type\": \"scatter3d\"}], \"scattercarpet\": [{\"marker\": {\"colorbar\": {\"outlinewidth\": 0, \"ticks\": \"\"}}, \"type\": \"scattercarpet\"}], \"scattergeo\": [{\"marker\": {\"colorbar\": {\"outlinewidth\": 0, \"ticks\": \"\"}}, \"type\": \"scattergeo\"}], \"scattergl\": [{\"marker\": {\"colorbar\": {\"outlinewidth\": 0, \"ticks\": \"\"}}, \"type\": \"scattergl\"}], \"scattermapbox\": [{\"marker\": {\"colorbar\": {\"outlinewidth\": 0, \"ticks\": \"\"}}, \"type\": \"scattermapbox\"}], \"scatterpolar\": [{\"marker\": {\"colorbar\": {\"outlinewidth\": 0, \"ticks\": \"\"}}, \"type\": \"scatterpolar\"}], \"scatterpolargl\": [{\"marker\": {\"colorbar\": {\"outlinewidth\": 0, \"ticks\": \"\"}}, \"type\": \"scatterpolargl\"}], \"scatterternary\": [{\"marker\": {\"colorbar\": {\"outlinewidth\": 0, \"ticks\": \"\"}}, \"type\": \"scatterternary\"}], \"surface\": [{\"colorbar\": {\"outlinewidth\": 0, \"ticks\": \"\"}, \"colorscale\": [[0.0, \"#0d0887\"], [0.1111111111111111, \"#46039f\"], [0.2222222222222222, \"#7201a8\"], [0.3333333333333333, \"#9c179e\"], [0.4444444444444444, \"#bd3786\"], [0.5555555555555556, \"#d8576b\"], [0.6666666666666666, \"#ed7953\"], [0.7777777777777778, \"#fb9f3a\"], [0.8888888888888888, \"#fdca26\"], [1.0, \"#f0f921\"]], \"type\": \"surface\"}], \"table\": [{\"cells\": {\"fill\": {\"color\": \"#EBF0F8\"}, \"line\": {\"color\": \"white\"}}, \"header\": {\"fill\": {\"color\": \"#C8D4E3\"}, \"line\": {\"color\": \"white\"}}, \"type\": \"table\"}]}, \"layout\": {\"annotationdefaults\": {\"arrowcolor\": \"#2a3f5f\", \"arrowhead\": 0, \"arrowwidth\": 1}, \"colorscale\": {\"diverging\": [[0, \"#8e0152\"], [0.1, \"#c51b7d\"], [0.2, \"#de77ae\"], [0.3, \"#f1b6da\"], [0.4, \"#fde0ef\"], [0.5, \"#f7f7f7\"], [0.6, \"#e6f5d0\"], [0.7, \"#b8e186\"], [0.8, \"#7fbc41\"], [0.9, \"#4d9221\"], [1, \"#276419\"]], \"sequential\": [[0.0, \"#0d0887\"], [0.1111111111111111, \"#46039f\"], [0.2222222222222222, \"#7201a8\"], [0.3333333333333333, \"#9c179e\"], [0.4444444444444444, \"#bd3786\"], [0.5555555555555556, \"#d8576b\"], [0.6666666666666666, \"#ed7953\"], [0.7777777777777778, \"#fb9f3a\"], [0.8888888888888888, \"#fdca26\"], [1.0, \"#f0f921\"]], \"sequentialminus\": [[0.0, \"#0d0887\"], [0.1111111111111111, \"#46039f\"], [0.2222222222222222, \"#7201a8\"], [0.3333333333333333, \"#9c179e\"], [0.4444444444444444, \"#bd3786\"], [0.5555555555555556, \"#d8576b\"], [0.6666666666666666, \"#ed7953\"], [0.7777777777777778, \"#fb9f3a\"], [0.8888888888888888, \"#fdca26\"], [1.0, \"#f0f921\"]]}, \"colorway\": [\"#636efa\", \"#EF553B\", \"#00cc96\", \"#ab63fa\", \"#FFA15A\", \"#19d3f3\", \"#FF6692\", \"#B6E880\", \"#FF97FF\", \"#FECB52\"], \"font\": {\"color\": \"#2a3f5f\"}, \"geo\": {\"bgcolor\": \"white\", \"lakecolor\": \"white\", \"landcolor\": \"#E5ECF6\", \"showlakes\": true, \"showland\": true, \"subunitcolor\": \"white\"}, \"hoverlabel\": {\"align\": \"left\"}, \"hovermode\": \"closest\", \"mapbox\": {\"style\": \"light\"}, \"paper_bgcolor\": \"white\", \"plot_bgcolor\": \"#E5ECF6\", \"polar\": {\"angularaxis\": {\"gridcolor\": \"white\", \"linecolor\": \"white\", \"ticks\": \"\"}, \"bgcolor\": \"#E5ECF6\", \"radialaxis\": {\"gridcolor\": \"white\", \"linecolor\": \"white\", \"ticks\": \"\"}}, \"scene\": {\"xaxis\": {\"backgroundcolor\": \"#E5ECF6\", \"gridcolor\": \"white\", \"gridwidth\": 2, \"linecolor\": \"white\", \"showbackground\": true, \"ticks\": \"\", \"zerolinecolor\": \"white\"}, \"yaxis\": {\"backgroundcolor\": \"#E5ECF6\", \"gridcolor\": \"white\", \"gridwidth\": 2, \"linecolor\": \"white\", \"showbackground\": true, \"ticks\": \"\", \"zerolinecolor\": \"white\"}, \"zaxis\": {\"backgroundcolor\": \"#E5ECF6\", \"gridcolor\": \"white\", \"gridwidth\": 2, \"linecolor\": \"white\", \"showbackground\": true, \"ticks\": \"\", \"zerolinecolor\": \"white\"}}, \"shapedefaults\": {\"line\": {\"color\": \"#2a3f5f\"}}, \"ternary\": {\"aaxis\": {\"gridcolor\": \"white\", \"linecolor\": \"white\", \"ticks\": \"\"}, \"baxis\": {\"gridcolor\": \"white\", \"linecolor\": \"white\", \"ticks\": \"\"}, \"bgcolor\": \"#E5ECF6\", \"caxis\": {\"gridcolor\": \"white\", \"linecolor\": \"white\", \"ticks\": \"\"}}, \"title\": {\"x\": 0.05}, \"xaxis\": {\"automargin\": true, \"gridcolor\": \"white\", \"linecolor\": \"white\", \"ticks\": \"\", \"zerolinecolor\": \"white\", \"zerolinewidth\": 2}, \"yaxis\": {\"automargin\": true, \"gridcolor\": \"white\", \"linecolor\": \"white\", \"ticks\": \"\", \"zerolinecolor\": \"white\", \"zerolinewidth\": 2}}}, \"title\": {\"font\": {\"color\": \"#4D5663\"}}, \"xaxis\": {\"gridcolor\": \"#E1E5ED\", \"showgrid\": true, \"tickfont\": {\"color\": \"#4D5663\"}, \"title\": {\"font\": {\"color\": \"#4D5663\"}, \"text\": \"\"}, \"zerolinecolor\": \"#E1E5ED\"}, \"yaxis\": {\"gridcolor\": \"#E1E5ED\", \"showgrid\": true, \"tickfont\": {\"color\": \"#4D5663\"}, \"title\": {\"font\": {\"color\": \"#4D5663\"}, \"text\": \"\"}, \"zerolinecolor\": \"#E1E5ED\"}},\n",
       "                        {\"showLink\": true, \"linkText\": \"Export to plot.ly\", \"plotlyServerURL\": \"https://plot.ly\", \"responsive\": true}\n",
       "                    ).then(function(){\n",
       "                            \n",
       "var gd = document.getElementById('0bba76d3-dee9-4b08-b15e-c089803645f4');\n",
       "var x = new MutationObserver(function (mutations, observer) {{\n",
       "        var display = window.getComputedStyle(gd).display;\n",
       "        if (!display || display === 'none') {{\n",
       "            console.log([gd, 'removed!']);\n",
       "            Plotly.purge(gd);\n",
       "            observer.disconnect();\n",
       "        }}\n",
       "}});\n",
       "\n",
       "// Listen for the removal of the full notebook cells\n",
       "var notebookContainer = gd.closest('#notebook-container');\n",
       "if (notebookContainer) {{\n",
       "    x.observe(notebookContainer, {childList: true});\n",
       "}}\n",
       "\n",
       "// Listen for the clearing of the current output cell\n",
       "var outputEl = gd.closest('.output');\n",
       "if (outputEl) {{\n",
       "    x.observe(outputEl, {childList: true});\n",
       "}}\n",
       "\n",
       "                        })\n",
       "                };\n",
       "                });\n",
       "            </script>\n",
       "        </div>"
      ]
     },
     "metadata": {},
     "output_type": "display_data"
    }
   ],
   "source": [
    "## We can create an interactive plot using the iplot method, this is a very simple example\n",
    "df.iplot()"
   ]
  },
  {
   "cell_type": "code",
   "execution_count": 14,
   "metadata": {},
   "outputs": [
    {
     "data": {
      "application/vnd.plotly.v1+json": {
       "config": {
        "linkText": "Export to plot.ly",
        "plotlyServerURL": "https://plot.ly",
        "showLink": true
       },
       "data": [
        {
         "line": {
          "color": "rgba(255, 153, 51, 1.0)",
          "dash": "solid",
          "shape": "linear",
          "width": 1.3
         },
         "marker": {
          "size": 20,
          "symbol": "circle"
         },
         "mode": "markers",
         "name": "B",
         "text": "",
         "type": "scatter",
         "x": [
          0.2677202100092553,
          0.029401801300603495,
          1.6333155976582325,
          -0.15395081213775003,
          -0.14413501408846446,
          -1.6449448335712324,
          -0.14949460123467992,
          0.3339491948644246,
          -2.597094399834224,
          0.31658962768094867,
          0.8786647987727886,
          -1.3432173218877443,
          -0.7847668533324995,
          -0.837875974898997,
          -0.16072258922436436,
          0.5380362625214631,
          0.8018472514118294,
          2.225050418870336,
          0.06312688222115209,
          -0.2819821780153154,
          0.4561975529941592,
          0.9540050098411976,
          -0.5772141596534164,
          0.2533501925563586,
          -1.8640188679329512,
          0.24686965021478458,
          -1.5145631567705737,
          0.8539396046950519,
          0.0530587181385824,
          -1.1056944602495598,
          -0.8106609561461899,
          1.9999438998844243,
          -1.696019592198367,
          0.27035476500109734,
          0.3448685019844587,
          2.4332894470526885,
          1.0183035709639316,
          -1.0635862704484549,
          -0.4404129255558789,
          -1.2016635715406303,
          -0.7349321325596352,
          0.2912459365897682,
          1.1057264089740584,
          -1.3474952757494583,
          1.3656261037787343,
          1.4668789210387587,
          1.1341137118535645,
          -0.797166045752831,
          -0.8437538847577685,
          -0.6578538590564416,
          -2.800744340160438,
          -1.464933962422879,
          0.18579368606777028,
          0.2716661071690678,
          -1.388396543205864,
          0.5651575972514904,
          1.870569345198021,
          -0.01803795079444882,
          0.5445561374341695,
          1.3100419598906323,
          0.9269117310037176,
          1.2170550881202022,
          0.5977731119509945,
          1.4658503908815197,
          -0.7133295308487775,
          -1.6072561105549357,
          -1.1583952519354686,
          -0.5675193850198321,
          0.18395561276829986,
          1.5629117365627527,
          -0.6459481567494111,
          0.6451808366860189,
          -1.140277317678325,
          0.9201965824358878,
          0.5628508849829402,
          0.06223168643101446,
          0.3830041460378295,
          -1.7425635857356514,
          2.68853762149162,
          -1.5873613032422402,
          1.2103667304439776,
          0.4483515828616707,
          0.3069526013666004,
          -0.3056869359478956,
          0.43649977563834447,
          -0.3367048914567436,
          -0.8743257220013367,
          0.9018109380439379,
          0.4495422955436478,
          -1.1129199575924928,
          0.8875442142140842,
          -1.0279242303493357,
          2.1826050258379954,
          1.3416997099219075,
          -0.5444380801553921,
          -1.3906335395822353,
          0.603842679050368,
          1.4479816718381482,
          2.2801894155665146,
          0.2948305425715559
         ],
         "y": [
          -0.4325321712751128,
          -1.5460924544980112,
          0.10273563589960194,
          -0.4367522969617371,
          -0.37250903654265705,
          2.495901049673792,
          0.4543077408140475,
          -0.30651567349031394,
          -0.38977321361290346,
          0.25333239787958034,
          -0.6518531750893366,
          -1.1598463133588912,
          -0.2502549143354412,
          -0.20151676688773343,
          1.5980566808370873,
          0.029402384373415722,
          -0.2269876865330706,
          -0.33008870211174673,
          0.8804252708319859,
          0.540454682551017,
          -0.056564992295370896,
          -1.543266073278203,
          -0.1517454722774265,
          0.48850921701499184,
          -1.5218659923324995,
          0.48252528692933,
          -1.1739288126024365,
          -0.2661170255448922,
          -0.12089999686922906,
          2.207181673471075,
          1.3492640917725967,
          -0.07360631969307191,
          -0.8428718809880091,
          0.6541993474215966,
          1.832577954017896,
          -0.8000301318162512,
          0.5912931904834581,
          -0.1648826924515067,
          0.7513998380294736,
          -0.36636501022202067,
          0.4479585738911855,
          0.01652610289102157,
          1.4436301181798241,
          1.198114629977769,
          -0.12417129548519844,
          -1.635490725015796,
          0.9659152618319634,
          -0.22163192420780028,
          0.13906379998407672,
          -0.5933198954392768,
          0.09517724473066766,
          -0.6565492491460867,
          -0.7362795364472919,
          -0.4868621253603264,
          -1.0520977748564473,
          -2.4117622058518284,
          -2.131492724081454,
          0.8115720023991889,
          -0.2685434009579712,
          -0.5963652446589135,
          2.474124392200335,
          0.06911688071229449,
          -1.1365645282692047,
          -0.7563200775798268,
          -0.8945050849648055,
          0.8551433639677785,
          -0.18826810908634953,
          1.4656718925668768,
          -0.056481576159804245,
          0.982213228229109,
          1.2540302807344708,
          2.269188395378155,
          0.5868297415228718,
          -1.3920972094032944,
          0.2580819064645278,
          -0.5126588457434668,
          0.8421125394269273,
          -0.7731775605236191,
          -2.401552932218778,
          -1.0766545233237557,
          -1.0115670858119716,
          0.5303470084085685,
          -0.02356719985016988,
          -0.11813249614427222,
          0.6296570442736785,
          -0.8320580612521427,
          -0.49955935500329185,
          -0.13027097894996809,
          -0.081474351975949,
          0.27830415447931356,
          1.218265733122561,
          1.4955858477436832,
          -0.11999165184828173,
          -2.0658962422542575,
          -1.2836654857950553,
          -2.868162817942856,
          -2.363789031238105,
          -0.5279276194071908,
          -0.08225036746740437,
          -0.47129768728363813
         ]
        }
       ],
       "layout": {
        "legend": {
         "bgcolor": "#F5F6F9",
         "font": {
          "color": "#4D5663"
         }
        },
        "paper_bgcolor": "#F5F6F9",
        "plot_bgcolor": "#F5F6F9",
        "template": {
         "data": {
          "bar": [
           {
            "error_x": {
             "color": "#2a3f5f"
            },
            "error_y": {
             "color": "#2a3f5f"
            },
            "marker": {
             "line": {
              "color": "#E5ECF6",
              "width": 0.5
             }
            },
            "type": "bar"
           }
          ],
          "barpolar": [
           {
            "marker": {
             "line": {
              "color": "#E5ECF6",
              "width": 0.5
             }
            },
            "type": "barpolar"
           }
          ],
          "carpet": [
           {
            "aaxis": {
             "endlinecolor": "#2a3f5f",
             "gridcolor": "white",
             "linecolor": "white",
             "minorgridcolor": "white",
             "startlinecolor": "#2a3f5f"
            },
            "baxis": {
             "endlinecolor": "#2a3f5f",
             "gridcolor": "white",
             "linecolor": "white",
             "minorgridcolor": "white",
             "startlinecolor": "#2a3f5f"
            },
            "type": "carpet"
           }
          ],
          "choropleth": [
           {
            "colorbar": {
             "outlinewidth": 0,
             "ticks": ""
            },
            "type": "choropleth"
           }
          ],
          "contour": [
           {
            "colorbar": {
             "outlinewidth": 0,
             "ticks": ""
            },
            "colorscale": [
             [
              0,
              "#0d0887"
             ],
             [
              0.1111111111111111,
              "#46039f"
             ],
             [
              0.2222222222222222,
              "#7201a8"
             ],
             [
              0.3333333333333333,
              "#9c179e"
             ],
             [
              0.4444444444444444,
              "#bd3786"
             ],
             [
              0.5555555555555556,
              "#d8576b"
             ],
             [
              0.6666666666666666,
              "#ed7953"
             ],
             [
              0.7777777777777778,
              "#fb9f3a"
             ],
             [
              0.8888888888888888,
              "#fdca26"
             ],
             [
              1,
              "#f0f921"
             ]
            ],
            "type": "contour"
           }
          ],
          "contourcarpet": [
           {
            "colorbar": {
             "outlinewidth": 0,
             "ticks": ""
            },
            "type": "contourcarpet"
           }
          ],
          "heatmap": [
           {
            "colorbar": {
             "outlinewidth": 0,
             "ticks": ""
            },
            "colorscale": [
             [
              0,
              "#0d0887"
             ],
             [
              0.1111111111111111,
              "#46039f"
             ],
             [
              0.2222222222222222,
              "#7201a8"
             ],
             [
              0.3333333333333333,
              "#9c179e"
             ],
             [
              0.4444444444444444,
              "#bd3786"
             ],
             [
              0.5555555555555556,
              "#d8576b"
             ],
             [
              0.6666666666666666,
              "#ed7953"
             ],
             [
              0.7777777777777778,
              "#fb9f3a"
             ],
             [
              0.8888888888888888,
              "#fdca26"
             ],
             [
              1,
              "#f0f921"
             ]
            ],
            "type": "heatmap"
           }
          ],
          "heatmapgl": [
           {
            "colorbar": {
             "outlinewidth": 0,
             "ticks": ""
            },
            "colorscale": [
             [
              0,
              "#0d0887"
             ],
             [
              0.1111111111111111,
              "#46039f"
             ],
             [
              0.2222222222222222,
              "#7201a8"
             ],
             [
              0.3333333333333333,
              "#9c179e"
             ],
             [
              0.4444444444444444,
              "#bd3786"
             ],
             [
              0.5555555555555556,
              "#d8576b"
             ],
             [
              0.6666666666666666,
              "#ed7953"
             ],
             [
              0.7777777777777778,
              "#fb9f3a"
             ],
             [
              0.8888888888888888,
              "#fdca26"
             ],
             [
              1,
              "#f0f921"
             ]
            ],
            "type": "heatmapgl"
           }
          ],
          "histogram": [
           {
            "marker": {
             "colorbar": {
              "outlinewidth": 0,
              "ticks": ""
             }
            },
            "type": "histogram"
           }
          ],
          "histogram2d": [
           {
            "colorbar": {
             "outlinewidth": 0,
             "ticks": ""
            },
            "colorscale": [
             [
              0,
              "#0d0887"
             ],
             [
              0.1111111111111111,
              "#46039f"
             ],
             [
              0.2222222222222222,
              "#7201a8"
             ],
             [
              0.3333333333333333,
              "#9c179e"
             ],
             [
              0.4444444444444444,
              "#bd3786"
             ],
             [
              0.5555555555555556,
              "#d8576b"
             ],
             [
              0.6666666666666666,
              "#ed7953"
             ],
             [
              0.7777777777777778,
              "#fb9f3a"
             ],
             [
              0.8888888888888888,
              "#fdca26"
             ],
             [
              1,
              "#f0f921"
             ]
            ],
            "type": "histogram2d"
           }
          ],
          "histogram2dcontour": [
           {
            "colorbar": {
             "outlinewidth": 0,
             "ticks": ""
            },
            "colorscale": [
             [
              0,
              "#0d0887"
             ],
             [
              0.1111111111111111,
              "#46039f"
             ],
             [
              0.2222222222222222,
              "#7201a8"
             ],
             [
              0.3333333333333333,
              "#9c179e"
             ],
             [
              0.4444444444444444,
              "#bd3786"
             ],
             [
              0.5555555555555556,
              "#d8576b"
             ],
             [
              0.6666666666666666,
              "#ed7953"
             ],
             [
              0.7777777777777778,
              "#fb9f3a"
             ],
             [
              0.8888888888888888,
              "#fdca26"
             ],
             [
              1,
              "#f0f921"
             ]
            ],
            "type": "histogram2dcontour"
           }
          ],
          "mesh3d": [
           {
            "colorbar": {
             "outlinewidth": 0,
             "ticks": ""
            },
            "type": "mesh3d"
           }
          ],
          "parcoords": [
           {
            "line": {
             "colorbar": {
              "outlinewidth": 0,
              "ticks": ""
             }
            },
            "type": "parcoords"
           }
          ],
          "scatter": [
           {
            "marker": {
             "colorbar": {
              "outlinewidth": 0,
              "ticks": ""
             }
            },
            "type": "scatter"
           }
          ],
          "scatter3d": [
           {
            "line": {
             "colorbar": {
              "outlinewidth": 0,
              "ticks": ""
             }
            },
            "marker": {
             "colorbar": {
              "outlinewidth": 0,
              "ticks": ""
             }
            },
            "type": "scatter3d"
           }
          ],
          "scattercarpet": [
           {
            "marker": {
             "colorbar": {
              "outlinewidth": 0,
              "ticks": ""
             }
            },
            "type": "scattercarpet"
           }
          ],
          "scattergeo": [
           {
            "marker": {
             "colorbar": {
              "outlinewidth": 0,
              "ticks": ""
             }
            },
            "type": "scattergeo"
           }
          ],
          "scattergl": [
           {
            "marker": {
             "colorbar": {
              "outlinewidth": 0,
              "ticks": ""
             }
            },
            "type": "scattergl"
           }
          ],
          "scattermapbox": [
           {
            "marker": {
             "colorbar": {
              "outlinewidth": 0,
              "ticks": ""
             }
            },
            "type": "scattermapbox"
           }
          ],
          "scatterpolar": [
           {
            "marker": {
             "colorbar": {
              "outlinewidth": 0,
              "ticks": ""
             }
            },
            "type": "scatterpolar"
           }
          ],
          "scatterpolargl": [
           {
            "marker": {
             "colorbar": {
              "outlinewidth": 0,
              "ticks": ""
             }
            },
            "type": "scatterpolargl"
           }
          ],
          "scatterternary": [
           {
            "marker": {
             "colorbar": {
              "outlinewidth": 0,
              "ticks": ""
             }
            },
            "type": "scatterternary"
           }
          ],
          "surface": [
           {
            "colorbar": {
             "outlinewidth": 0,
             "ticks": ""
            },
            "colorscale": [
             [
              0,
              "#0d0887"
             ],
             [
              0.1111111111111111,
              "#46039f"
             ],
             [
              0.2222222222222222,
              "#7201a8"
             ],
             [
              0.3333333333333333,
              "#9c179e"
             ],
             [
              0.4444444444444444,
              "#bd3786"
             ],
             [
              0.5555555555555556,
              "#d8576b"
             ],
             [
              0.6666666666666666,
              "#ed7953"
             ],
             [
              0.7777777777777778,
              "#fb9f3a"
             ],
             [
              0.8888888888888888,
              "#fdca26"
             ],
             [
              1,
              "#f0f921"
             ]
            ],
            "type": "surface"
           }
          ],
          "table": [
           {
            "cells": {
             "fill": {
              "color": "#EBF0F8"
             },
             "line": {
              "color": "white"
             }
            },
            "header": {
             "fill": {
              "color": "#C8D4E3"
             },
             "line": {
              "color": "white"
             }
            },
            "type": "table"
           }
          ]
         },
         "layout": {
          "annotationdefaults": {
           "arrowcolor": "#2a3f5f",
           "arrowhead": 0,
           "arrowwidth": 1
          },
          "colorscale": {
           "diverging": [
            [
             0,
             "#8e0152"
            ],
            [
             0.1,
             "#c51b7d"
            ],
            [
             0.2,
             "#de77ae"
            ],
            [
             0.3,
             "#f1b6da"
            ],
            [
             0.4,
             "#fde0ef"
            ],
            [
             0.5,
             "#f7f7f7"
            ],
            [
             0.6,
             "#e6f5d0"
            ],
            [
             0.7,
             "#b8e186"
            ],
            [
             0.8,
             "#7fbc41"
            ],
            [
             0.9,
             "#4d9221"
            ],
            [
             1,
             "#276419"
            ]
           ],
           "sequential": [
            [
             0,
             "#0d0887"
            ],
            [
             0.1111111111111111,
             "#46039f"
            ],
            [
             0.2222222222222222,
             "#7201a8"
            ],
            [
             0.3333333333333333,
             "#9c179e"
            ],
            [
             0.4444444444444444,
             "#bd3786"
            ],
            [
             0.5555555555555556,
             "#d8576b"
            ],
            [
             0.6666666666666666,
             "#ed7953"
            ],
            [
             0.7777777777777778,
             "#fb9f3a"
            ],
            [
             0.8888888888888888,
             "#fdca26"
            ],
            [
             1,
             "#f0f921"
            ]
           ],
           "sequentialminus": [
            [
             0,
             "#0d0887"
            ],
            [
             0.1111111111111111,
             "#46039f"
            ],
            [
             0.2222222222222222,
             "#7201a8"
            ],
            [
             0.3333333333333333,
             "#9c179e"
            ],
            [
             0.4444444444444444,
             "#bd3786"
            ],
            [
             0.5555555555555556,
             "#d8576b"
            ],
            [
             0.6666666666666666,
             "#ed7953"
            ],
            [
             0.7777777777777778,
             "#fb9f3a"
            ],
            [
             0.8888888888888888,
             "#fdca26"
            ],
            [
             1,
             "#f0f921"
            ]
           ]
          },
          "colorway": [
           "#636efa",
           "#EF553B",
           "#00cc96",
           "#ab63fa",
           "#FFA15A",
           "#19d3f3",
           "#FF6692",
           "#B6E880",
           "#FF97FF",
           "#FECB52"
          ],
          "font": {
           "color": "#2a3f5f"
          },
          "geo": {
           "bgcolor": "white",
           "lakecolor": "white",
           "landcolor": "#E5ECF6",
           "showlakes": true,
           "showland": true,
           "subunitcolor": "white"
          },
          "hoverlabel": {
           "align": "left"
          },
          "hovermode": "closest",
          "mapbox": {
           "style": "light"
          },
          "paper_bgcolor": "white",
          "plot_bgcolor": "#E5ECF6",
          "polar": {
           "angularaxis": {
            "gridcolor": "white",
            "linecolor": "white",
            "ticks": ""
           },
           "bgcolor": "#E5ECF6",
           "radialaxis": {
            "gridcolor": "white",
            "linecolor": "white",
            "ticks": ""
           }
          },
          "scene": {
           "xaxis": {
            "backgroundcolor": "#E5ECF6",
            "gridcolor": "white",
            "gridwidth": 2,
            "linecolor": "white",
            "showbackground": true,
            "ticks": "",
            "zerolinecolor": "white"
           },
           "yaxis": {
            "backgroundcolor": "#E5ECF6",
            "gridcolor": "white",
            "gridwidth": 2,
            "linecolor": "white",
            "showbackground": true,
            "ticks": "",
            "zerolinecolor": "white"
           },
           "zaxis": {
            "backgroundcolor": "#E5ECF6",
            "gridcolor": "white",
            "gridwidth": 2,
            "linecolor": "white",
            "showbackground": true,
            "ticks": "",
            "zerolinecolor": "white"
           }
          },
          "shapedefaults": {
           "line": {
            "color": "#2a3f5f"
           }
          },
          "ternary": {
           "aaxis": {
            "gridcolor": "white",
            "linecolor": "white",
            "ticks": ""
           },
           "baxis": {
            "gridcolor": "white",
            "linecolor": "white",
            "ticks": ""
           },
           "bgcolor": "#E5ECF6",
           "caxis": {
            "gridcolor": "white",
            "linecolor": "white",
            "ticks": ""
           }
          },
          "title": {
           "x": 0.05
          },
          "xaxis": {
           "automargin": true,
           "gridcolor": "white",
           "linecolor": "white",
           "ticks": "",
           "zerolinecolor": "white",
           "zerolinewidth": 2
          },
          "yaxis": {
           "automargin": true,
           "gridcolor": "white",
           "linecolor": "white",
           "ticks": "",
           "zerolinecolor": "white",
           "zerolinewidth": 2
          }
         }
        },
        "title": {
         "font": {
          "color": "#4D5663"
         }
        },
        "xaxis": {
         "gridcolor": "#E1E5ED",
         "showgrid": true,
         "tickfont": {
          "color": "#4D5663"
         },
         "title": {
          "font": {
           "color": "#4D5663"
          },
          "text": ""
         },
         "zerolinecolor": "#E1E5ED"
        },
        "yaxis": {
         "gridcolor": "#E1E5ED",
         "showgrid": true,
         "tickfont": {
          "color": "#4D5663"
         },
         "title": {
          "font": {
           "color": "#4D5663"
          },
          "text": ""
         },
         "zerolinecolor": "#E1E5ED"
        }
       }
      },
      "text/html": [
       "<div>\n",
       "        \n",
       "        \n",
       "            <div id=\"34211635-f6bd-4d27-82cc-98be76197a4f\" class=\"plotly-graph-div\" style=\"height:525px; width:100%;\"></div>\n",
       "            <script type=\"text/javascript\">\n",
       "                require([\"plotly\"], function(Plotly) {\n",
       "                    window.PLOTLYENV=window.PLOTLYENV || {};\n",
       "                    window.PLOTLYENV.BASE_URL='https://plot.ly';\n",
       "                    \n",
       "                if (document.getElementById(\"34211635-f6bd-4d27-82cc-98be76197a4f\")) {\n",
       "                    Plotly.newPlot(\n",
       "                        '34211635-f6bd-4d27-82cc-98be76197a4f',\n",
       "                        [{\"line\": {\"color\": \"rgba(255, 153, 51, 1.0)\", \"dash\": \"solid\", \"shape\": \"linear\", \"width\": 1.3}, \"marker\": {\"size\": 20, \"symbol\": \"circle\"}, \"mode\": \"markers\", \"name\": \"B\", \"text\": \"\", \"type\": \"scatter\", \"x\": [0.2677202100092553, 0.029401801300603495, 1.6333155976582325, -0.15395081213775003, -0.14413501408846446, -1.6449448335712324, -0.14949460123467992, 0.3339491948644246, -2.597094399834224, 0.31658962768094867, 0.8786647987727886, -1.3432173218877443, -0.7847668533324995, -0.837875974898997, -0.16072258922436436, 0.5380362625214631, 0.8018472514118294, 2.225050418870336, 0.06312688222115209, -0.2819821780153154, 0.4561975529941592, 0.9540050098411976, -0.5772141596534164, 0.2533501925563586, -1.8640188679329512, 0.24686965021478458, -1.5145631567705737, 0.8539396046950519, 0.0530587181385824, -1.1056944602495598, -0.8106609561461899, 1.9999438998844243, -1.696019592198367, 0.27035476500109734, 0.3448685019844587, 2.4332894470526885, 1.0183035709639316, -1.0635862704484549, -0.4404129255558789, -1.2016635715406303, -0.7349321325596352, 0.2912459365897682, 1.1057264089740584, -1.3474952757494583, 1.3656261037787343, 1.4668789210387587, 1.1341137118535645, -0.797166045752831, -0.8437538847577685, -0.6578538590564416, -2.800744340160438, -1.464933962422879, 0.18579368606777028, 0.2716661071690678, -1.388396543205864, 0.5651575972514904, 1.870569345198021, -0.01803795079444882, 0.5445561374341695, 1.3100419598906323, 0.9269117310037176, 1.2170550881202022, 0.5977731119509945, 1.4658503908815197, -0.7133295308487775, -1.6072561105549357, -1.1583952519354686, -0.5675193850198321, 0.18395561276829986, 1.5629117365627527, -0.6459481567494111, 0.6451808366860189, -1.140277317678325, 0.9201965824358878, 0.5628508849829402, 0.06223168643101446, 0.3830041460378295, -1.7425635857356514, 2.68853762149162, -1.5873613032422402, 1.2103667304439776, 0.4483515828616707, 0.3069526013666004, -0.3056869359478956, 0.43649977563834447, -0.3367048914567436, -0.8743257220013367, 0.9018109380439379, 0.4495422955436478, -1.1129199575924928, 0.8875442142140842, -1.0279242303493357, 2.1826050258379954, 1.3416997099219075, -0.5444380801553921, -1.3906335395822353, 0.603842679050368, 1.4479816718381482, 2.2801894155665146, 0.2948305425715559], \"y\": [-0.4325321712751128, -1.5460924544980112, 0.10273563589960194, -0.4367522969617371, -0.37250903654265705, 2.495901049673792, 0.4543077408140475, -0.30651567349031394, -0.38977321361290346, 0.25333239787958034, -0.6518531750893366, -1.1598463133588912, -0.2502549143354412, -0.20151676688773343, 1.5980566808370873, 0.029402384373415722, -0.2269876865330706, -0.33008870211174673, 0.8804252708319859, 0.540454682551017, -0.056564992295370896, -1.543266073278203, -0.1517454722774265, 0.48850921701499184, -1.5218659923324995, 0.48252528692933, -1.1739288126024365, -0.2661170255448922, -0.12089999686922906, 2.207181673471075, 1.3492640917725967, -0.07360631969307191, -0.8428718809880091, 0.6541993474215966, 1.832577954017896, -0.8000301318162512, 0.5912931904834581, -0.1648826924515067, 0.7513998380294736, -0.36636501022202067, 0.4479585738911855, 0.01652610289102157, 1.4436301181798241, 1.198114629977769, -0.12417129548519844, -1.635490725015796, 0.9659152618319634, -0.22163192420780028, 0.13906379998407672, -0.5933198954392768, 0.09517724473066766, -0.6565492491460867, -0.7362795364472919, -0.4868621253603264, -1.0520977748564473, -2.4117622058518284, -2.131492724081454, 0.8115720023991889, -0.2685434009579712, -0.5963652446589135, 2.474124392200335, 0.06911688071229449, -1.1365645282692047, -0.7563200775798268, -0.8945050849648055, 0.8551433639677785, -0.18826810908634953, 1.4656718925668768, -0.056481576159804245, 0.982213228229109, 1.2540302807344708, 2.269188395378155, 0.5868297415228718, -1.3920972094032944, 0.2580819064645278, -0.5126588457434668, 0.8421125394269273, -0.7731775605236191, -2.401552932218778, -1.0766545233237557, -1.0115670858119716, 0.5303470084085685, -0.02356719985016988, -0.11813249614427222, 0.6296570442736785, -0.8320580612521427, -0.49955935500329185, -0.13027097894996809, -0.081474351975949, 0.27830415447931356, 1.218265733122561, 1.4955858477436832, -0.11999165184828173, -2.0658962422542575, -1.2836654857950553, -2.868162817942856, -2.363789031238105, -0.5279276194071908, -0.08225036746740437, -0.47129768728363813]}],\n",
       "                        {\"legend\": {\"bgcolor\": \"#F5F6F9\", \"font\": {\"color\": \"#4D5663\"}}, \"paper_bgcolor\": \"#F5F6F9\", \"plot_bgcolor\": \"#F5F6F9\", \"template\": {\"data\": {\"bar\": [{\"error_x\": {\"color\": \"#2a3f5f\"}, \"error_y\": {\"color\": \"#2a3f5f\"}, \"marker\": {\"line\": {\"color\": \"#E5ECF6\", \"width\": 0.5}}, \"type\": \"bar\"}], \"barpolar\": [{\"marker\": {\"line\": {\"color\": \"#E5ECF6\", \"width\": 0.5}}, \"type\": \"barpolar\"}], \"carpet\": [{\"aaxis\": {\"endlinecolor\": \"#2a3f5f\", \"gridcolor\": \"white\", \"linecolor\": \"white\", \"minorgridcolor\": \"white\", \"startlinecolor\": \"#2a3f5f\"}, \"baxis\": {\"endlinecolor\": \"#2a3f5f\", \"gridcolor\": \"white\", \"linecolor\": \"white\", \"minorgridcolor\": \"white\", \"startlinecolor\": \"#2a3f5f\"}, \"type\": \"carpet\"}], \"choropleth\": [{\"colorbar\": {\"outlinewidth\": 0, \"ticks\": \"\"}, \"type\": \"choropleth\"}], \"contour\": [{\"colorbar\": {\"outlinewidth\": 0, \"ticks\": \"\"}, \"colorscale\": [[0.0, \"#0d0887\"], [0.1111111111111111, \"#46039f\"], [0.2222222222222222, \"#7201a8\"], [0.3333333333333333, \"#9c179e\"], [0.4444444444444444, \"#bd3786\"], [0.5555555555555556, \"#d8576b\"], [0.6666666666666666, \"#ed7953\"], [0.7777777777777778, \"#fb9f3a\"], [0.8888888888888888, \"#fdca26\"], [1.0, \"#f0f921\"]], \"type\": \"contour\"}], \"contourcarpet\": [{\"colorbar\": {\"outlinewidth\": 0, \"ticks\": \"\"}, \"type\": \"contourcarpet\"}], \"heatmap\": [{\"colorbar\": {\"outlinewidth\": 0, \"ticks\": \"\"}, \"colorscale\": [[0.0, \"#0d0887\"], [0.1111111111111111, \"#46039f\"], [0.2222222222222222, \"#7201a8\"], [0.3333333333333333, \"#9c179e\"], [0.4444444444444444, \"#bd3786\"], [0.5555555555555556, \"#d8576b\"], [0.6666666666666666, \"#ed7953\"], [0.7777777777777778, \"#fb9f3a\"], [0.8888888888888888, \"#fdca26\"], [1.0, \"#f0f921\"]], \"type\": \"heatmap\"}], \"heatmapgl\": [{\"colorbar\": {\"outlinewidth\": 0, \"ticks\": \"\"}, \"colorscale\": [[0.0, \"#0d0887\"], [0.1111111111111111, \"#46039f\"], [0.2222222222222222, \"#7201a8\"], [0.3333333333333333, \"#9c179e\"], [0.4444444444444444, \"#bd3786\"], [0.5555555555555556, \"#d8576b\"], [0.6666666666666666, \"#ed7953\"], [0.7777777777777778, \"#fb9f3a\"], [0.8888888888888888, \"#fdca26\"], [1.0, \"#f0f921\"]], \"type\": \"heatmapgl\"}], \"histogram\": [{\"marker\": {\"colorbar\": {\"outlinewidth\": 0, \"ticks\": \"\"}}, \"type\": \"histogram\"}], \"histogram2d\": [{\"colorbar\": {\"outlinewidth\": 0, \"ticks\": \"\"}, \"colorscale\": [[0.0, \"#0d0887\"], [0.1111111111111111, \"#46039f\"], [0.2222222222222222, \"#7201a8\"], [0.3333333333333333, \"#9c179e\"], [0.4444444444444444, \"#bd3786\"], [0.5555555555555556, \"#d8576b\"], [0.6666666666666666, \"#ed7953\"], [0.7777777777777778, \"#fb9f3a\"], [0.8888888888888888, \"#fdca26\"], [1.0, \"#f0f921\"]], \"type\": \"histogram2d\"}], \"histogram2dcontour\": [{\"colorbar\": {\"outlinewidth\": 0, \"ticks\": \"\"}, \"colorscale\": [[0.0, \"#0d0887\"], [0.1111111111111111, \"#46039f\"], [0.2222222222222222, \"#7201a8\"], [0.3333333333333333, \"#9c179e\"], [0.4444444444444444, \"#bd3786\"], [0.5555555555555556, \"#d8576b\"], [0.6666666666666666, \"#ed7953\"], [0.7777777777777778, \"#fb9f3a\"], [0.8888888888888888, \"#fdca26\"], [1.0, \"#f0f921\"]], \"type\": \"histogram2dcontour\"}], \"mesh3d\": [{\"colorbar\": {\"outlinewidth\": 0, \"ticks\": \"\"}, \"type\": \"mesh3d\"}], \"parcoords\": [{\"line\": {\"colorbar\": {\"outlinewidth\": 0, \"ticks\": \"\"}}, \"type\": \"parcoords\"}], \"scatter\": [{\"marker\": {\"colorbar\": {\"outlinewidth\": 0, \"ticks\": \"\"}}, \"type\": \"scatter\"}], \"scatter3d\": [{\"line\": {\"colorbar\": {\"outlinewidth\": 0, \"ticks\": \"\"}}, \"marker\": {\"colorbar\": {\"outlinewidth\": 0, \"ticks\": \"\"}}, \"type\": \"scatter3d\"}], \"scattercarpet\": [{\"marker\": {\"colorbar\": {\"outlinewidth\": 0, \"ticks\": \"\"}}, \"type\": \"scattercarpet\"}], \"scattergeo\": [{\"marker\": {\"colorbar\": {\"outlinewidth\": 0, \"ticks\": \"\"}}, \"type\": \"scattergeo\"}], \"scattergl\": [{\"marker\": {\"colorbar\": {\"outlinewidth\": 0, \"ticks\": \"\"}}, \"type\": \"scattergl\"}], \"scattermapbox\": [{\"marker\": {\"colorbar\": {\"outlinewidth\": 0, \"ticks\": \"\"}}, \"type\": \"scattermapbox\"}], \"scatterpolar\": [{\"marker\": {\"colorbar\": {\"outlinewidth\": 0, \"ticks\": \"\"}}, \"type\": \"scatterpolar\"}], \"scatterpolargl\": [{\"marker\": {\"colorbar\": {\"outlinewidth\": 0, \"ticks\": \"\"}}, \"type\": \"scatterpolargl\"}], \"scatterternary\": [{\"marker\": {\"colorbar\": {\"outlinewidth\": 0, \"ticks\": \"\"}}, \"type\": \"scatterternary\"}], \"surface\": [{\"colorbar\": {\"outlinewidth\": 0, \"ticks\": \"\"}, \"colorscale\": [[0.0, \"#0d0887\"], [0.1111111111111111, \"#46039f\"], [0.2222222222222222, \"#7201a8\"], [0.3333333333333333, \"#9c179e\"], [0.4444444444444444, \"#bd3786\"], [0.5555555555555556, \"#d8576b\"], [0.6666666666666666, \"#ed7953\"], [0.7777777777777778, \"#fb9f3a\"], [0.8888888888888888, \"#fdca26\"], [1.0, \"#f0f921\"]], \"type\": \"surface\"}], \"table\": [{\"cells\": {\"fill\": {\"color\": \"#EBF0F8\"}, \"line\": {\"color\": \"white\"}}, \"header\": {\"fill\": {\"color\": \"#C8D4E3\"}, \"line\": {\"color\": \"white\"}}, \"type\": \"table\"}]}, \"layout\": {\"annotationdefaults\": {\"arrowcolor\": \"#2a3f5f\", \"arrowhead\": 0, \"arrowwidth\": 1}, \"colorscale\": {\"diverging\": [[0, \"#8e0152\"], [0.1, \"#c51b7d\"], [0.2, \"#de77ae\"], [0.3, \"#f1b6da\"], [0.4, \"#fde0ef\"], [0.5, \"#f7f7f7\"], [0.6, \"#e6f5d0\"], [0.7, \"#b8e186\"], [0.8, \"#7fbc41\"], [0.9, \"#4d9221\"], [1, \"#276419\"]], \"sequential\": [[0.0, \"#0d0887\"], [0.1111111111111111, \"#46039f\"], [0.2222222222222222, \"#7201a8\"], [0.3333333333333333, \"#9c179e\"], [0.4444444444444444, \"#bd3786\"], [0.5555555555555556, \"#d8576b\"], [0.6666666666666666, \"#ed7953\"], [0.7777777777777778, \"#fb9f3a\"], [0.8888888888888888, \"#fdca26\"], [1.0, \"#f0f921\"]], \"sequentialminus\": [[0.0, \"#0d0887\"], [0.1111111111111111, \"#46039f\"], [0.2222222222222222, \"#7201a8\"], [0.3333333333333333, \"#9c179e\"], [0.4444444444444444, \"#bd3786\"], [0.5555555555555556, \"#d8576b\"], [0.6666666666666666, \"#ed7953\"], [0.7777777777777778, \"#fb9f3a\"], [0.8888888888888888, \"#fdca26\"], [1.0, \"#f0f921\"]]}, \"colorway\": [\"#636efa\", \"#EF553B\", \"#00cc96\", \"#ab63fa\", \"#FFA15A\", \"#19d3f3\", \"#FF6692\", \"#B6E880\", \"#FF97FF\", \"#FECB52\"], \"font\": {\"color\": \"#2a3f5f\"}, \"geo\": {\"bgcolor\": \"white\", \"lakecolor\": \"white\", \"landcolor\": \"#E5ECF6\", \"showlakes\": true, \"showland\": true, \"subunitcolor\": \"white\"}, \"hoverlabel\": {\"align\": \"left\"}, \"hovermode\": \"closest\", \"mapbox\": {\"style\": \"light\"}, \"paper_bgcolor\": \"white\", \"plot_bgcolor\": \"#E5ECF6\", \"polar\": {\"angularaxis\": {\"gridcolor\": \"white\", \"linecolor\": \"white\", \"ticks\": \"\"}, \"bgcolor\": \"#E5ECF6\", \"radialaxis\": {\"gridcolor\": \"white\", \"linecolor\": \"white\", \"ticks\": \"\"}}, \"scene\": {\"xaxis\": {\"backgroundcolor\": \"#E5ECF6\", \"gridcolor\": \"white\", \"gridwidth\": 2, \"linecolor\": \"white\", \"showbackground\": true, \"ticks\": \"\", \"zerolinecolor\": \"white\"}, \"yaxis\": {\"backgroundcolor\": \"#E5ECF6\", \"gridcolor\": \"white\", \"gridwidth\": 2, \"linecolor\": \"white\", \"showbackground\": true, \"ticks\": \"\", \"zerolinecolor\": \"white\"}, \"zaxis\": {\"backgroundcolor\": \"#E5ECF6\", \"gridcolor\": \"white\", \"gridwidth\": 2, \"linecolor\": \"white\", \"showbackground\": true, \"ticks\": \"\", \"zerolinecolor\": \"white\"}}, \"shapedefaults\": {\"line\": {\"color\": \"#2a3f5f\"}}, \"ternary\": {\"aaxis\": {\"gridcolor\": \"white\", \"linecolor\": \"white\", \"ticks\": \"\"}, \"baxis\": {\"gridcolor\": \"white\", \"linecolor\": \"white\", \"ticks\": \"\"}, \"bgcolor\": \"#E5ECF6\", \"caxis\": {\"gridcolor\": \"white\", \"linecolor\": \"white\", \"ticks\": \"\"}}, \"title\": {\"x\": 0.05}, \"xaxis\": {\"automargin\": true, \"gridcolor\": \"white\", \"linecolor\": \"white\", \"ticks\": \"\", \"zerolinecolor\": \"white\", \"zerolinewidth\": 2}, \"yaxis\": {\"automargin\": true, \"gridcolor\": \"white\", \"linecolor\": \"white\", \"ticks\": \"\", \"zerolinecolor\": \"white\", \"zerolinewidth\": 2}}}, \"title\": {\"font\": {\"color\": \"#4D5663\"}}, \"xaxis\": {\"gridcolor\": \"#E1E5ED\", \"showgrid\": true, \"tickfont\": {\"color\": \"#4D5663\"}, \"title\": {\"font\": {\"color\": \"#4D5663\"}, \"text\": \"\"}, \"zerolinecolor\": \"#E1E5ED\"}, \"yaxis\": {\"gridcolor\": \"#E1E5ED\", \"showgrid\": true, \"tickfont\": {\"color\": \"#4D5663\"}, \"title\": {\"font\": {\"color\": \"#4D5663\"}, \"text\": \"\"}, \"zerolinecolor\": \"#E1E5ED\"}},\n",
       "                        {\"showLink\": true, \"linkText\": \"Export to plot.ly\", \"plotlyServerURL\": \"https://plot.ly\", \"responsive\": true}\n",
       "                    ).then(function(){\n",
       "                            \n",
       "var gd = document.getElementById('34211635-f6bd-4d27-82cc-98be76197a4f');\n",
       "var x = new MutationObserver(function (mutations, observer) {{\n",
       "        var display = window.getComputedStyle(gd).display;\n",
       "        if (!display || display === 'none') {{\n",
       "            console.log([gd, 'removed!']);\n",
       "            Plotly.purge(gd);\n",
       "            observer.disconnect();\n",
       "        }}\n",
       "}});\n",
       "\n",
       "// Listen for the removal of the full notebook cells\n",
       "var notebookContainer = gd.closest('#notebook-container');\n",
       "if (notebookContainer) {{\n",
       "    x.observe(notebookContainer, {childList: true});\n",
       "}}\n",
       "\n",
       "// Listen for the clearing of the current output cell\n",
       "var outputEl = gd.closest('.output');\n",
       "if (outputEl) {{\n",
       "    x.observe(outputEl, {childList: true});\n",
       "}}\n",
       "\n",
       "                        })\n",
       "                };\n",
       "                });\n",
       "            </script>\n",
       "        </div>"
      ]
     },
     "metadata": {},
     "output_type": "display_data"
    }
   ],
   "source": [
    "## Now, lets use iplot to create other types of plots: \n",
    "\n",
    "## Ex.1 Scatterplot\n",
    "\n",
    "df.iplot(kind = 'scatter', x = 'A', y = 'B', mode = 'markers', size = 20) \n",
    "                                             ## plotly is going to try and create a line by default \n",
    "                                             ## We can pass the parameter mode = 'markers' to avoid this\n",
    "                                             ## Use the size parameter to obtain larger markers "
   ]
  },
  {
   "cell_type": "code",
   "execution_count": 15,
   "metadata": {},
   "outputs": [
    {
     "data": {
      "application/vnd.plotly.v1+json": {
       "config": {
        "linkText": "Export to plot.ly",
        "plotlyServerURL": "https://plot.ly",
        "showLink": true
       },
       "data": [
        {
         "marker": {
          "color": "rgba(255, 153, 51, 0.6)",
          "line": {
           "color": "rgba(255, 153, 51, 1.0)",
           "width": 1
          }
         },
         "name": "Values",
         "orientation": "v",
         "text": "",
         "type": "bar",
         "x": [
          "A",
          "B",
          "C"
         ],
         "y": [
          32,
          43,
          50
         ]
        }
       ],
       "layout": {
        "legend": {
         "bgcolor": "#F5F6F9",
         "font": {
          "color": "#4D5663"
         }
        },
        "paper_bgcolor": "#F5F6F9",
        "plot_bgcolor": "#F5F6F9",
        "template": {
         "data": {
          "bar": [
           {
            "error_x": {
             "color": "#2a3f5f"
            },
            "error_y": {
             "color": "#2a3f5f"
            },
            "marker": {
             "line": {
              "color": "#E5ECF6",
              "width": 0.5
             }
            },
            "type": "bar"
           }
          ],
          "barpolar": [
           {
            "marker": {
             "line": {
              "color": "#E5ECF6",
              "width": 0.5
             }
            },
            "type": "barpolar"
           }
          ],
          "carpet": [
           {
            "aaxis": {
             "endlinecolor": "#2a3f5f",
             "gridcolor": "white",
             "linecolor": "white",
             "minorgridcolor": "white",
             "startlinecolor": "#2a3f5f"
            },
            "baxis": {
             "endlinecolor": "#2a3f5f",
             "gridcolor": "white",
             "linecolor": "white",
             "minorgridcolor": "white",
             "startlinecolor": "#2a3f5f"
            },
            "type": "carpet"
           }
          ],
          "choropleth": [
           {
            "colorbar": {
             "outlinewidth": 0,
             "ticks": ""
            },
            "type": "choropleth"
           }
          ],
          "contour": [
           {
            "colorbar": {
             "outlinewidth": 0,
             "ticks": ""
            },
            "colorscale": [
             [
              0,
              "#0d0887"
             ],
             [
              0.1111111111111111,
              "#46039f"
             ],
             [
              0.2222222222222222,
              "#7201a8"
             ],
             [
              0.3333333333333333,
              "#9c179e"
             ],
             [
              0.4444444444444444,
              "#bd3786"
             ],
             [
              0.5555555555555556,
              "#d8576b"
             ],
             [
              0.6666666666666666,
              "#ed7953"
             ],
             [
              0.7777777777777778,
              "#fb9f3a"
             ],
             [
              0.8888888888888888,
              "#fdca26"
             ],
             [
              1,
              "#f0f921"
             ]
            ],
            "type": "contour"
           }
          ],
          "contourcarpet": [
           {
            "colorbar": {
             "outlinewidth": 0,
             "ticks": ""
            },
            "type": "contourcarpet"
           }
          ],
          "heatmap": [
           {
            "colorbar": {
             "outlinewidth": 0,
             "ticks": ""
            },
            "colorscale": [
             [
              0,
              "#0d0887"
             ],
             [
              0.1111111111111111,
              "#46039f"
             ],
             [
              0.2222222222222222,
              "#7201a8"
             ],
             [
              0.3333333333333333,
              "#9c179e"
             ],
             [
              0.4444444444444444,
              "#bd3786"
             ],
             [
              0.5555555555555556,
              "#d8576b"
             ],
             [
              0.6666666666666666,
              "#ed7953"
             ],
             [
              0.7777777777777778,
              "#fb9f3a"
             ],
             [
              0.8888888888888888,
              "#fdca26"
             ],
             [
              1,
              "#f0f921"
             ]
            ],
            "type": "heatmap"
           }
          ],
          "heatmapgl": [
           {
            "colorbar": {
             "outlinewidth": 0,
             "ticks": ""
            },
            "colorscale": [
             [
              0,
              "#0d0887"
             ],
             [
              0.1111111111111111,
              "#46039f"
             ],
             [
              0.2222222222222222,
              "#7201a8"
             ],
             [
              0.3333333333333333,
              "#9c179e"
             ],
             [
              0.4444444444444444,
              "#bd3786"
             ],
             [
              0.5555555555555556,
              "#d8576b"
             ],
             [
              0.6666666666666666,
              "#ed7953"
             ],
             [
              0.7777777777777778,
              "#fb9f3a"
             ],
             [
              0.8888888888888888,
              "#fdca26"
             ],
             [
              1,
              "#f0f921"
             ]
            ],
            "type": "heatmapgl"
           }
          ],
          "histogram": [
           {
            "marker": {
             "colorbar": {
              "outlinewidth": 0,
              "ticks": ""
             }
            },
            "type": "histogram"
           }
          ],
          "histogram2d": [
           {
            "colorbar": {
             "outlinewidth": 0,
             "ticks": ""
            },
            "colorscale": [
             [
              0,
              "#0d0887"
             ],
             [
              0.1111111111111111,
              "#46039f"
             ],
             [
              0.2222222222222222,
              "#7201a8"
             ],
             [
              0.3333333333333333,
              "#9c179e"
             ],
             [
              0.4444444444444444,
              "#bd3786"
             ],
             [
              0.5555555555555556,
              "#d8576b"
             ],
             [
              0.6666666666666666,
              "#ed7953"
             ],
             [
              0.7777777777777778,
              "#fb9f3a"
             ],
             [
              0.8888888888888888,
              "#fdca26"
             ],
             [
              1,
              "#f0f921"
             ]
            ],
            "type": "histogram2d"
           }
          ],
          "histogram2dcontour": [
           {
            "colorbar": {
             "outlinewidth": 0,
             "ticks": ""
            },
            "colorscale": [
             [
              0,
              "#0d0887"
             ],
             [
              0.1111111111111111,
              "#46039f"
             ],
             [
              0.2222222222222222,
              "#7201a8"
             ],
             [
              0.3333333333333333,
              "#9c179e"
             ],
             [
              0.4444444444444444,
              "#bd3786"
             ],
             [
              0.5555555555555556,
              "#d8576b"
             ],
             [
              0.6666666666666666,
              "#ed7953"
             ],
             [
              0.7777777777777778,
              "#fb9f3a"
             ],
             [
              0.8888888888888888,
              "#fdca26"
             ],
             [
              1,
              "#f0f921"
             ]
            ],
            "type": "histogram2dcontour"
           }
          ],
          "mesh3d": [
           {
            "colorbar": {
             "outlinewidth": 0,
             "ticks": ""
            },
            "type": "mesh3d"
           }
          ],
          "parcoords": [
           {
            "line": {
             "colorbar": {
              "outlinewidth": 0,
              "ticks": ""
             }
            },
            "type": "parcoords"
           }
          ],
          "scatter": [
           {
            "marker": {
             "colorbar": {
              "outlinewidth": 0,
              "ticks": ""
             }
            },
            "type": "scatter"
           }
          ],
          "scatter3d": [
           {
            "line": {
             "colorbar": {
              "outlinewidth": 0,
              "ticks": ""
             }
            },
            "marker": {
             "colorbar": {
              "outlinewidth": 0,
              "ticks": ""
             }
            },
            "type": "scatter3d"
           }
          ],
          "scattercarpet": [
           {
            "marker": {
             "colorbar": {
              "outlinewidth": 0,
              "ticks": ""
             }
            },
            "type": "scattercarpet"
           }
          ],
          "scattergeo": [
           {
            "marker": {
             "colorbar": {
              "outlinewidth": 0,
              "ticks": ""
             }
            },
            "type": "scattergeo"
           }
          ],
          "scattergl": [
           {
            "marker": {
             "colorbar": {
              "outlinewidth": 0,
              "ticks": ""
             }
            },
            "type": "scattergl"
           }
          ],
          "scattermapbox": [
           {
            "marker": {
             "colorbar": {
              "outlinewidth": 0,
              "ticks": ""
             }
            },
            "type": "scattermapbox"
           }
          ],
          "scatterpolar": [
           {
            "marker": {
             "colorbar": {
              "outlinewidth": 0,
              "ticks": ""
             }
            },
            "type": "scatterpolar"
           }
          ],
          "scatterpolargl": [
           {
            "marker": {
             "colorbar": {
              "outlinewidth": 0,
              "ticks": ""
             }
            },
            "type": "scatterpolargl"
           }
          ],
          "scatterternary": [
           {
            "marker": {
             "colorbar": {
              "outlinewidth": 0,
              "ticks": ""
             }
            },
            "type": "scatterternary"
           }
          ],
          "surface": [
           {
            "colorbar": {
             "outlinewidth": 0,
             "ticks": ""
            },
            "colorscale": [
             [
              0,
              "#0d0887"
             ],
             [
              0.1111111111111111,
              "#46039f"
             ],
             [
              0.2222222222222222,
              "#7201a8"
             ],
             [
              0.3333333333333333,
              "#9c179e"
             ],
             [
              0.4444444444444444,
              "#bd3786"
             ],
             [
              0.5555555555555556,
              "#d8576b"
             ],
             [
              0.6666666666666666,
              "#ed7953"
             ],
             [
              0.7777777777777778,
              "#fb9f3a"
             ],
             [
              0.8888888888888888,
              "#fdca26"
             ],
             [
              1,
              "#f0f921"
             ]
            ],
            "type": "surface"
           }
          ],
          "table": [
           {
            "cells": {
             "fill": {
              "color": "#EBF0F8"
             },
             "line": {
              "color": "white"
             }
            },
            "header": {
             "fill": {
              "color": "#C8D4E3"
             },
             "line": {
              "color": "white"
             }
            },
            "type": "table"
           }
          ]
         },
         "layout": {
          "annotationdefaults": {
           "arrowcolor": "#2a3f5f",
           "arrowhead": 0,
           "arrowwidth": 1
          },
          "colorscale": {
           "diverging": [
            [
             0,
             "#8e0152"
            ],
            [
             0.1,
             "#c51b7d"
            ],
            [
             0.2,
             "#de77ae"
            ],
            [
             0.3,
             "#f1b6da"
            ],
            [
             0.4,
             "#fde0ef"
            ],
            [
             0.5,
             "#f7f7f7"
            ],
            [
             0.6,
             "#e6f5d0"
            ],
            [
             0.7,
             "#b8e186"
            ],
            [
             0.8,
             "#7fbc41"
            ],
            [
             0.9,
             "#4d9221"
            ],
            [
             1,
             "#276419"
            ]
           ],
           "sequential": [
            [
             0,
             "#0d0887"
            ],
            [
             0.1111111111111111,
             "#46039f"
            ],
            [
             0.2222222222222222,
             "#7201a8"
            ],
            [
             0.3333333333333333,
             "#9c179e"
            ],
            [
             0.4444444444444444,
             "#bd3786"
            ],
            [
             0.5555555555555556,
             "#d8576b"
            ],
            [
             0.6666666666666666,
             "#ed7953"
            ],
            [
             0.7777777777777778,
             "#fb9f3a"
            ],
            [
             0.8888888888888888,
             "#fdca26"
            ],
            [
             1,
             "#f0f921"
            ]
           ],
           "sequentialminus": [
            [
             0,
             "#0d0887"
            ],
            [
             0.1111111111111111,
             "#46039f"
            ],
            [
             0.2222222222222222,
             "#7201a8"
            ],
            [
             0.3333333333333333,
             "#9c179e"
            ],
            [
             0.4444444444444444,
             "#bd3786"
            ],
            [
             0.5555555555555556,
             "#d8576b"
            ],
            [
             0.6666666666666666,
             "#ed7953"
            ],
            [
             0.7777777777777778,
             "#fb9f3a"
            ],
            [
             0.8888888888888888,
             "#fdca26"
            ],
            [
             1,
             "#f0f921"
            ]
           ]
          },
          "colorway": [
           "#636efa",
           "#EF553B",
           "#00cc96",
           "#ab63fa",
           "#FFA15A",
           "#19d3f3",
           "#FF6692",
           "#B6E880",
           "#FF97FF",
           "#FECB52"
          ],
          "font": {
           "color": "#2a3f5f"
          },
          "geo": {
           "bgcolor": "white",
           "lakecolor": "white",
           "landcolor": "#E5ECF6",
           "showlakes": true,
           "showland": true,
           "subunitcolor": "white"
          },
          "hoverlabel": {
           "align": "left"
          },
          "hovermode": "closest",
          "mapbox": {
           "style": "light"
          },
          "paper_bgcolor": "white",
          "plot_bgcolor": "#E5ECF6",
          "polar": {
           "angularaxis": {
            "gridcolor": "white",
            "linecolor": "white",
            "ticks": ""
           },
           "bgcolor": "#E5ECF6",
           "radialaxis": {
            "gridcolor": "white",
            "linecolor": "white",
            "ticks": ""
           }
          },
          "scene": {
           "xaxis": {
            "backgroundcolor": "#E5ECF6",
            "gridcolor": "white",
            "gridwidth": 2,
            "linecolor": "white",
            "showbackground": true,
            "ticks": "",
            "zerolinecolor": "white"
           },
           "yaxis": {
            "backgroundcolor": "#E5ECF6",
            "gridcolor": "white",
            "gridwidth": 2,
            "linecolor": "white",
            "showbackground": true,
            "ticks": "",
            "zerolinecolor": "white"
           },
           "zaxis": {
            "backgroundcolor": "#E5ECF6",
            "gridcolor": "white",
            "gridwidth": 2,
            "linecolor": "white",
            "showbackground": true,
            "ticks": "",
            "zerolinecolor": "white"
           }
          },
          "shapedefaults": {
           "line": {
            "color": "#2a3f5f"
           }
          },
          "ternary": {
           "aaxis": {
            "gridcolor": "white",
            "linecolor": "white",
            "ticks": ""
           },
           "baxis": {
            "gridcolor": "white",
            "linecolor": "white",
            "ticks": ""
           },
           "bgcolor": "#E5ECF6",
           "caxis": {
            "gridcolor": "white",
            "linecolor": "white",
            "ticks": ""
           }
          },
          "title": {
           "x": 0.05
          },
          "xaxis": {
           "automargin": true,
           "gridcolor": "white",
           "linecolor": "white",
           "ticks": "",
           "zerolinecolor": "white",
           "zerolinewidth": 2
          },
          "yaxis": {
           "automargin": true,
           "gridcolor": "white",
           "linecolor": "white",
           "ticks": "",
           "zerolinecolor": "white",
           "zerolinewidth": 2
          }
         }
        },
        "title": {
         "font": {
          "color": "#4D5663"
         }
        },
        "xaxis": {
         "gridcolor": "#E1E5ED",
         "showgrid": true,
         "tickfont": {
          "color": "#4D5663"
         },
         "title": {
          "font": {
           "color": "#4D5663"
          },
          "text": ""
         },
         "zerolinecolor": "#E1E5ED"
        },
        "yaxis": {
         "gridcolor": "#E1E5ED",
         "showgrid": true,
         "tickfont": {
          "color": "#4D5663"
         },
         "title": {
          "font": {
           "color": "#4D5663"
          },
          "text": ""
         },
         "zerolinecolor": "#E1E5ED"
        }
       }
      },
      "text/html": [
       "<div>\n",
       "        \n",
       "        \n",
       "            <div id=\"c6fd0d91-2388-494c-b5e1-93f48b10eb92\" class=\"plotly-graph-div\" style=\"height:525px; width:100%;\"></div>\n",
       "            <script type=\"text/javascript\">\n",
       "                require([\"plotly\"], function(Plotly) {\n",
       "                    window.PLOTLYENV=window.PLOTLYENV || {};\n",
       "                    window.PLOTLYENV.BASE_URL='https://plot.ly';\n",
       "                    \n",
       "                if (document.getElementById(\"c6fd0d91-2388-494c-b5e1-93f48b10eb92\")) {\n",
       "                    Plotly.newPlot(\n",
       "                        'c6fd0d91-2388-494c-b5e1-93f48b10eb92',\n",
       "                        [{\"marker\": {\"color\": \"rgba(255, 153, 51, 0.6)\", \"line\": {\"color\": \"rgba(255, 153, 51, 1.0)\", \"width\": 1}}, \"name\": \"Values\", \"orientation\": \"v\", \"text\": \"\", \"type\": \"bar\", \"x\": [\"A\", \"B\", \"C\"], \"y\": [32, 43, 50]}],\n",
       "                        {\"legend\": {\"bgcolor\": \"#F5F6F9\", \"font\": {\"color\": \"#4D5663\"}}, \"paper_bgcolor\": \"#F5F6F9\", \"plot_bgcolor\": \"#F5F6F9\", \"template\": {\"data\": {\"bar\": [{\"error_x\": {\"color\": \"#2a3f5f\"}, \"error_y\": {\"color\": \"#2a3f5f\"}, \"marker\": {\"line\": {\"color\": \"#E5ECF6\", \"width\": 0.5}}, \"type\": \"bar\"}], \"barpolar\": [{\"marker\": {\"line\": {\"color\": \"#E5ECF6\", \"width\": 0.5}}, \"type\": \"barpolar\"}], \"carpet\": [{\"aaxis\": {\"endlinecolor\": \"#2a3f5f\", \"gridcolor\": \"white\", \"linecolor\": \"white\", \"minorgridcolor\": \"white\", \"startlinecolor\": \"#2a3f5f\"}, \"baxis\": {\"endlinecolor\": \"#2a3f5f\", \"gridcolor\": \"white\", \"linecolor\": \"white\", \"minorgridcolor\": \"white\", \"startlinecolor\": \"#2a3f5f\"}, \"type\": \"carpet\"}], \"choropleth\": [{\"colorbar\": {\"outlinewidth\": 0, \"ticks\": \"\"}, \"type\": \"choropleth\"}], \"contour\": [{\"colorbar\": {\"outlinewidth\": 0, \"ticks\": \"\"}, \"colorscale\": [[0.0, \"#0d0887\"], [0.1111111111111111, \"#46039f\"], [0.2222222222222222, \"#7201a8\"], [0.3333333333333333, \"#9c179e\"], [0.4444444444444444, \"#bd3786\"], [0.5555555555555556, \"#d8576b\"], [0.6666666666666666, \"#ed7953\"], [0.7777777777777778, \"#fb9f3a\"], [0.8888888888888888, \"#fdca26\"], [1.0, \"#f0f921\"]], \"type\": \"contour\"}], \"contourcarpet\": [{\"colorbar\": {\"outlinewidth\": 0, \"ticks\": \"\"}, \"type\": \"contourcarpet\"}], \"heatmap\": [{\"colorbar\": {\"outlinewidth\": 0, \"ticks\": \"\"}, \"colorscale\": [[0.0, \"#0d0887\"], [0.1111111111111111, \"#46039f\"], [0.2222222222222222, \"#7201a8\"], [0.3333333333333333, \"#9c179e\"], [0.4444444444444444, \"#bd3786\"], [0.5555555555555556, \"#d8576b\"], [0.6666666666666666, \"#ed7953\"], [0.7777777777777778, \"#fb9f3a\"], [0.8888888888888888, \"#fdca26\"], [1.0, \"#f0f921\"]], \"type\": \"heatmap\"}], \"heatmapgl\": [{\"colorbar\": {\"outlinewidth\": 0, \"ticks\": \"\"}, \"colorscale\": [[0.0, \"#0d0887\"], [0.1111111111111111, \"#46039f\"], [0.2222222222222222, \"#7201a8\"], [0.3333333333333333, \"#9c179e\"], [0.4444444444444444, \"#bd3786\"], [0.5555555555555556, \"#d8576b\"], [0.6666666666666666, \"#ed7953\"], [0.7777777777777778, \"#fb9f3a\"], [0.8888888888888888, \"#fdca26\"], [1.0, \"#f0f921\"]], \"type\": \"heatmapgl\"}], \"histogram\": [{\"marker\": {\"colorbar\": {\"outlinewidth\": 0, \"ticks\": \"\"}}, \"type\": \"histogram\"}], \"histogram2d\": [{\"colorbar\": {\"outlinewidth\": 0, \"ticks\": \"\"}, \"colorscale\": [[0.0, \"#0d0887\"], [0.1111111111111111, \"#46039f\"], [0.2222222222222222, \"#7201a8\"], [0.3333333333333333, \"#9c179e\"], [0.4444444444444444, \"#bd3786\"], [0.5555555555555556, \"#d8576b\"], [0.6666666666666666, \"#ed7953\"], [0.7777777777777778, \"#fb9f3a\"], [0.8888888888888888, \"#fdca26\"], [1.0, \"#f0f921\"]], \"type\": \"histogram2d\"}], \"histogram2dcontour\": [{\"colorbar\": {\"outlinewidth\": 0, \"ticks\": \"\"}, \"colorscale\": [[0.0, \"#0d0887\"], [0.1111111111111111, \"#46039f\"], [0.2222222222222222, \"#7201a8\"], [0.3333333333333333, \"#9c179e\"], [0.4444444444444444, \"#bd3786\"], [0.5555555555555556, \"#d8576b\"], [0.6666666666666666, \"#ed7953\"], [0.7777777777777778, \"#fb9f3a\"], [0.8888888888888888, \"#fdca26\"], [1.0, \"#f0f921\"]], \"type\": \"histogram2dcontour\"}], \"mesh3d\": [{\"colorbar\": {\"outlinewidth\": 0, \"ticks\": \"\"}, \"type\": \"mesh3d\"}], \"parcoords\": [{\"line\": {\"colorbar\": {\"outlinewidth\": 0, \"ticks\": \"\"}}, \"type\": \"parcoords\"}], \"scatter\": [{\"marker\": {\"colorbar\": {\"outlinewidth\": 0, \"ticks\": \"\"}}, \"type\": \"scatter\"}], \"scatter3d\": [{\"line\": {\"colorbar\": {\"outlinewidth\": 0, \"ticks\": \"\"}}, \"marker\": {\"colorbar\": {\"outlinewidth\": 0, \"ticks\": \"\"}}, \"type\": \"scatter3d\"}], \"scattercarpet\": [{\"marker\": {\"colorbar\": {\"outlinewidth\": 0, \"ticks\": \"\"}}, \"type\": \"scattercarpet\"}], \"scattergeo\": [{\"marker\": {\"colorbar\": {\"outlinewidth\": 0, \"ticks\": \"\"}}, \"type\": \"scattergeo\"}], \"scattergl\": [{\"marker\": {\"colorbar\": {\"outlinewidth\": 0, \"ticks\": \"\"}}, \"type\": \"scattergl\"}], \"scattermapbox\": [{\"marker\": {\"colorbar\": {\"outlinewidth\": 0, \"ticks\": \"\"}}, \"type\": \"scattermapbox\"}], \"scatterpolar\": [{\"marker\": {\"colorbar\": {\"outlinewidth\": 0, \"ticks\": \"\"}}, \"type\": \"scatterpolar\"}], \"scatterpolargl\": [{\"marker\": {\"colorbar\": {\"outlinewidth\": 0, \"ticks\": \"\"}}, \"type\": \"scatterpolargl\"}], \"scatterternary\": [{\"marker\": {\"colorbar\": {\"outlinewidth\": 0, \"ticks\": \"\"}}, \"type\": \"scatterternary\"}], \"surface\": [{\"colorbar\": {\"outlinewidth\": 0, \"ticks\": \"\"}, \"colorscale\": [[0.0, \"#0d0887\"], [0.1111111111111111, \"#46039f\"], [0.2222222222222222, \"#7201a8\"], [0.3333333333333333, \"#9c179e\"], [0.4444444444444444, \"#bd3786\"], [0.5555555555555556, \"#d8576b\"], [0.6666666666666666, \"#ed7953\"], [0.7777777777777778, \"#fb9f3a\"], [0.8888888888888888, \"#fdca26\"], [1.0, \"#f0f921\"]], \"type\": \"surface\"}], \"table\": [{\"cells\": {\"fill\": {\"color\": \"#EBF0F8\"}, \"line\": {\"color\": \"white\"}}, \"header\": {\"fill\": {\"color\": \"#C8D4E3\"}, \"line\": {\"color\": \"white\"}}, \"type\": \"table\"}]}, \"layout\": {\"annotationdefaults\": {\"arrowcolor\": \"#2a3f5f\", \"arrowhead\": 0, \"arrowwidth\": 1}, \"colorscale\": {\"diverging\": [[0, \"#8e0152\"], [0.1, \"#c51b7d\"], [0.2, \"#de77ae\"], [0.3, \"#f1b6da\"], [0.4, \"#fde0ef\"], [0.5, \"#f7f7f7\"], [0.6, \"#e6f5d0\"], [0.7, \"#b8e186\"], [0.8, \"#7fbc41\"], [0.9, \"#4d9221\"], [1, \"#276419\"]], \"sequential\": [[0.0, \"#0d0887\"], [0.1111111111111111, \"#46039f\"], [0.2222222222222222, \"#7201a8\"], [0.3333333333333333, \"#9c179e\"], [0.4444444444444444, \"#bd3786\"], [0.5555555555555556, \"#d8576b\"], [0.6666666666666666, \"#ed7953\"], [0.7777777777777778, \"#fb9f3a\"], [0.8888888888888888, \"#fdca26\"], [1.0, \"#f0f921\"]], \"sequentialminus\": [[0.0, \"#0d0887\"], [0.1111111111111111, \"#46039f\"], [0.2222222222222222, \"#7201a8\"], [0.3333333333333333, \"#9c179e\"], [0.4444444444444444, \"#bd3786\"], [0.5555555555555556, \"#d8576b\"], [0.6666666666666666, \"#ed7953\"], [0.7777777777777778, \"#fb9f3a\"], [0.8888888888888888, \"#fdca26\"], [1.0, \"#f0f921\"]]}, \"colorway\": [\"#636efa\", \"#EF553B\", \"#00cc96\", \"#ab63fa\", \"#FFA15A\", \"#19d3f3\", \"#FF6692\", \"#B6E880\", \"#FF97FF\", \"#FECB52\"], \"font\": {\"color\": \"#2a3f5f\"}, \"geo\": {\"bgcolor\": \"white\", \"lakecolor\": \"white\", \"landcolor\": \"#E5ECF6\", \"showlakes\": true, \"showland\": true, \"subunitcolor\": \"white\"}, \"hoverlabel\": {\"align\": \"left\"}, \"hovermode\": \"closest\", \"mapbox\": {\"style\": \"light\"}, \"paper_bgcolor\": \"white\", \"plot_bgcolor\": \"#E5ECF6\", \"polar\": {\"angularaxis\": {\"gridcolor\": \"white\", \"linecolor\": \"white\", \"ticks\": \"\"}, \"bgcolor\": \"#E5ECF6\", \"radialaxis\": {\"gridcolor\": \"white\", \"linecolor\": \"white\", \"ticks\": \"\"}}, \"scene\": {\"xaxis\": {\"backgroundcolor\": \"#E5ECF6\", \"gridcolor\": \"white\", \"gridwidth\": 2, \"linecolor\": \"white\", \"showbackground\": true, \"ticks\": \"\", \"zerolinecolor\": \"white\"}, \"yaxis\": {\"backgroundcolor\": \"#E5ECF6\", \"gridcolor\": \"white\", \"gridwidth\": 2, \"linecolor\": \"white\", \"showbackground\": true, \"ticks\": \"\", \"zerolinecolor\": \"white\"}, \"zaxis\": {\"backgroundcolor\": \"#E5ECF6\", \"gridcolor\": \"white\", \"gridwidth\": 2, \"linecolor\": \"white\", \"showbackground\": true, \"ticks\": \"\", \"zerolinecolor\": \"white\"}}, \"shapedefaults\": {\"line\": {\"color\": \"#2a3f5f\"}}, \"ternary\": {\"aaxis\": {\"gridcolor\": \"white\", \"linecolor\": \"white\", \"ticks\": \"\"}, \"baxis\": {\"gridcolor\": \"white\", \"linecolor\": \"white\", \"ticks\": \"\"}, \"bgcolor\": \"#E5ECF6\", \"caxis\": {\"gridcolor\": \"white\", \"linecolor\": \"white\", \"ticks\": \"\"}}, \"title\": {\"x\": 0.05}, \"xaxis\": {\"automargin\": true, \"gridcolor\": \"white\", \"linecolor\": \"white\", \"ticks\": \"\", \"zerolinecolor\": \"white\", \"zerolinewidth\": 2}, \"yaxis\": {\"automargin\": true, \"gridcolor\": \"white\", \"linecolor\": \"white\", \"ticks\": \"\", \"zerolinecolor\": \"white\", \"zerolinewidth\": 2}}}, \"title\": {\"font\": {\"color\": \"#4D5663\"}}, \"xaxis\": {\"gridcolor\": \"#E1E5ED\", \"showgrid\": true, \"tickfont\": {\"color\": \"#4D5663\"}, \"title\": {\"font\": {\"color\": \"#4D5663\"}, \"text\": \"\"}, \"zerolinecolor\": \"#E1E5ED\"}, \"yaxis\": {\"gridcolor\": \"#E1E5ED\", \"showgrid\": true, \"tickfont\": {\"color\": \"#4D5663\"}, \"title\": {\"font\": {\"color\": \"#4D5663\"}, \"text\": \"\"}, \"zerolinecolor\": \"#E1E5ED\"}},\n",
       "                        {\"showLink\": true, \"linkText\": \"Export to plot.ly\", \"plotlyServerURL\": \"https://plot.ly\", \"responsive\": true}\n",
       "                    ).then(function(){\n",
       "                            \n",
       "var gd = document.getElementById('c6fd0d91-2388-494c-b5e1-93f48b10eb92');\n",
       "var x = new MutationObserver(function (mutations, observer) {{\n",
       "        var display = window.getComputedStyle(gd).display;\n",
       "        if (!display || display === 'none') {{\n",
       "            console.log([gd, 'removed!']);\n",
       "            Plotly.purge(gd);\n",
       "            observer.disconnect();\n",
       "        }}\n",
       "}});\n",
       "\n",
       "// Listen for the removal of the full notebook cells\n",
       "var notebookContainer = gd.closest('#notebook-container');\n",
       "if (notebookContainer) {{\n",
       "    x.observe(notebookContainer, {childList: true});\n",
       "}}\n",
       "\n",
       "// Listen for the clearing of the current output cell\n",
       "var outputEl = gd.closest('.output');\n",
       "if (outputEl) {{\n",
       "    x.observe(outputEl, {childList: true});\n",
       "}}\n",
       "\n",
       "                        })\n",
       "                };\n",
       "                });\n",
       "            </script>\n",
       "        </div>"
      ]
     },
     "metadata": {},
     "output_type": "display_data"
    }
   ],
   "source": [
    "## Ex.2 Barplot \n",
    "\n",
    "df2.iplot(kind = 'bar', x = 'Category', y = 'Values')"
   ]
  },
  {
   "cell_type": "code",
   "execution_count": 16,
   "metadata": {},
   "outputs": [
    {
     "data": {
      "application/vnd.plotly.v1+json": {
       "config": {
        "linkText": "Export to plot.ly",
        "plotlyServerURL": "https://plot.ly",
        "showLink": true
       },
       "data": [
        {
         "marker": {
          "color": "rgba(255, 153, 51, 0.6)",
          "line": {
           "color": "rgba(255, 153, 51, 1.0)",
           "width": 1
          }
         },
         "name": "None",
         "orientation": "v",
         "text": "",
         "type": "bar",
         "x": [
          "A",
          "B",
          "C",
          "D"
         ],
         "y": [
          6.911318954104221,
          -10.93112720095593,
          2.214377877022616,
          13.223506755083456
         ]
        }
       ],
       "layout": {
        "legend": {
         "bgcolor": "#F5F6F9",
         "font": {
          "color": "#4D5663"
         }
        },
        "paper_bgcolor": "#F5F6F9",
        "plot_bgcolor": "#F5F6F9",
        "template": {
         "data": {
          "bar": [
           {
            "error_x": {
             "color": "#2a3f5f"
            },
            "error_y": {
             "color": "#2a3f5f"
            },
            "marker": {
             "line": {
              "color": "#E5ECF6",
              "width": 0.5
             }
            },
            "type": "bar"
           }
          ],
          "barpolar": [
           {
            "marker": {
             "line": {
              "color": "#E5ECF6",
              "width": 0.5
             }
            },
            "type": "barpolar"
           }
          ],
          "carpet": [
           {
            "aaxis": {
             "endlinecolor": "#2a3f5f",
             "gridcolor": "white",
             "linecolor": "white",
             "minorgridcolor": "white",
             "startlinecolor": "#2a3f5f"
            },
            "baxis": {
             "endlinecolor": "#2a3f5f",
             "gridcolor": "white",
             "linecolor": "white",
             "minorgridcolor": "white",
             "startlinecolor": "#2a3f5f"
            },
            "type": "carpet"
           }
          ],
          "choropleth": [
           {
            "colorbar": {
             "outlinewidth": 0,
             "ticks": ""
            },
            "type": "choropleth"
           }
          ],
          "contour": [
           {
            "colorbar": {
             "outlinewidth": 0,
             "ticks": ""
            },
            "colorscale": [
             [
              0,
              "#0d0887"
             ],
             [
              0.1111111111111111,
              "#46039f"
             ],
             [
              0.2222222222222222,
              "#7201a8"
             ],
             [
              0.3333333333333333,
              "#9c179e"
             ],
             [
              0.4444444444444444,
              "#bd3786"
             ],
             [
              0.5555555555555556,
              "#d8576b"
             ],
             [
              0.6666666666666666,
              "#ed7953"
             ],
             [
              0.7777777777777778,
              "#fb9f3a"
             ],
             [
              0.8888888888888888,
              "#fdca26"
             ],
             [
              1,
              "#f0f921"
             ]
            ],
            "type": "contour"
           }
          ],
          "contourcarpet": [
           {
            "colorbar": {
             "outlinewidth": 0,
             "ticks": ""
            },
            "type": "contourcarpet"
           }
          ],
          "heatmap": [
           {
            "colorbar": {
             "outlinewidth": 0,
             "ticks": ""
            },
            "colorscale": [
             [
              0,
              "#0d0887"
             ],
             [
              0.1111111111111111,
              "#46039f"
             ],
             [
              0.2222222222222222,
              "#7201a8"
             ],
             [
              0.3333333333333333,
              "#9c179e"
             ],
             [
              0.4444444444444444,
              "#bd3786"
             ],
             [
              0.5555555555555556,
              "#d8576b"
             ],
             [
              0.6666666666666666,
              "#ed7953"
             ],
             [
              0.7777777777777778,
              "#fb9f3a"
             ],
             [
              0.8888888888888888,
              "#fdca26"
             ],
             [
              1,
              "#f0f921"
             ]
            ],
            "type": "heatmap"
           }
          ],
          "heatmapgl": [
           {
            "colorbar": {
             "outlinewidth": 0,
             "ticks": ""
            },
            "colorscale": [
             [
              0,
              "#0d0887"
             ],
             [
              0.1111111111111111,
              "#46039f"
             ],
             [
              0.2222222222222222,
              "#7201a8"
             ],
             [
              0.3333333333333333,
              "#9c179e"
             ],
             [
              0.4444444444444444,
              "#bd3786"
             ],
             [
              0.5555555555555556,
              "#d8576b"
             ],
             [
              0.6666666666666666,
              "#ed7953"
             ],
             [
              0.7777777777777778,
              "#fb9f3a"
             ],
             [
              0.8888888888888888,
              "#fdca26"
             ],
             [
              1,
              "#f0f921"
             ]
            ],
            "type": "heatmapgl"
           }
          ],
          "histogram": [
           {
            "marker": {
             "colorbar": {
              "outlinewidth": 0,
              "ticks": ""
             }
            },
            "type": "histogram"
           }
          ],
          "histogram2d": [
           {
            "colorbar": {
             "outlinewidth": 0,
             "ticks": ""
            },
            "colorscale": [
             [
              0,
              "#0d0887"
             ],
             [
              0.1111111111111111,
              "#46039f"
             ],
             [
              0.2222222222222222,
              "#7201a8"
             ],
             [
              0.3333333333333333,
              "#9c179e"
             ],
             [
              0.4444444444444444,
              "#bd3786"
             ],
             [
              0.5555555555555556,
              "#d8576b"
             ],
             [
              0.6666666666666666,
              "#ed7953"
             ],
             [
              0.7777777777777778,
              "#fb9f3a"
             ],
             [
              0.8888888888888888,
              "#fdca26"
             ],
             [
              1,
              "#f0f921"
             ]
            ],
            "type": "histogram2d"
           }
          ],
          "histogram2dcontour": [
           {
            "colorbar": {
             "outlinewidth": 0,
             "ticks": ""
            },
            "colorscale": [
             [
              0,
              "#0d0887"
             ],
             [
              0.1111111111111111,
              "#46039f"
             ],
             [
              0.2222222222222222,
              "#7201a8"
             ],
             [
              0.3333333333333333,
              "#9c179e"
             ],
             [
              0.4444444444444444,
              "#bd3786"
             ],
             [
              0.5555555555555556,
              "#d8576b"
             ],
             [
              0.6666666666666666,
              "#ed7953"
             ],
             [
              0.7777777777777778,
              "#fb9f3a"
             ],
             [
              0.8888888888888888,
              "#fdca26"
             ],
             [
              1,
              "#f0f921"
             ]
            ],
            "type": "histogram2dcontour"
           }
          ],
          "mesh3d": [
           {
            "colorbar": {
             "outlinewidth": 0,
             "ticks": ""
            },
            "type": "mesh3d"
           }
          ],
          "parcoords": [
           {
            "line": {
             "colorbar": {
              "outlinewidth": 0,
              "ticks": ""
             }
            },
            "type": "parcoords"
           }
          ],
          "scatter": [
           {
            "marker": {
             "colorbar": {
              "outlinewidth": 0,
              "ticks": ""
             }
            },
            "type": "scatter"
           }
          ],
          "scatter3d": [
           {
            "line": {
             "colorbar": {
              "outlinewidth": 0,
              "ticks": ""
             }
            },
            "marker": {
             "colorbar": {
              "outlinewidth": 0,
              "ticks": ""
             }
            },
            "type": "scatter3d"
           }
          ],
          "scattercarpet": [
           {
            "marker": {
             "colorbar": {
              "outlinewidth": 0,
              "ticks": ""
             }
            },
            "type": "scattercarpet"
           }
          ],
          "scattergeo": [
           {
            "marker": {
             "colorbar": {
              "outlinewidth": 0,
              "ticks": ""
             }
            },
            "type": "scattergeo"
           }
          ],
          "scattergl": [
           {
            "marker": {
             "colorbar": {
              "outlinewidth": 0,
              "ticks": ""
             }
            },
            "type": "scattergl"
           }
          ],
          "scattermapbox": [
           {
            "marker": {
             "colorbar": {
              "outlinewidth": 0,
              "ticks": ""
             }
            },
            "type": "scattermapbox"
           }
          ],
          "scatterpolar": [
           {
            "marker": {
             "colorbar": {
              "outlinewidth": 0,
              "ticks": ""
             }
            },
            "type": "scatterpolar"
           }
          ],
          "scatterpolargl": [
           {
            "marker": {
             "colorbar": {
              "outlinewidth": 0,
              "ticks": ""
             }
            },
            "type": "scatterpolargl"
           }
          ],
          "scatterternary": [
           {
            "marker": {
             "colorbar": {
              "outlinewidth": 0,
              "ticks": ""
             }
            },
            "type": "scatterternary"
           }
          ],
          "surface": [
           {
            "colorbar": {
             "outlinewidth": 0,
             "ticks": ""
            },
            "colorscale": [
             [
              0,
              "#0d0887"
             ],
             [
              0.1111111111111111,
              "#46039f"
             ],
             [
              0.2222222222222222,
              "#7201a8"
             ],
             [
              0.3333333333333333,
              "#9c179e"
             ],
             [
              0.4444444444444444,
              "#bd3786"
             ],
             [
              0.5555555555555556,
              "#d8576b"
             ],
             [
              0.6666666666666666,
              "#ed7953"
             ],
             [
              0.7777777777777778,
              "#fb9f3a"
             ],
             [
              0.8888888888888888,
              "#fdca26"
             ],
             [
              1,
              "#f0f921"
             ]
            ],
            "type": "surface"
           }
          ],
          "table": [
           {
            "cells": {
             "fill": {
              "color": "#EBF0F8"
             },
             "line": {
              "color": "white"
             }
            },
            "header": {
             "fill": {
              "color": "#C8D4E3"
             },
             "line": {
              "color": "white"
             }
            },
            "type": "table"
           }
          ]
         },
         "layout": {
          "annotationdefaults": {
           "arrowcolor": "#2a3f5f",
           "arrowhead": 0,
           "arrowwidth": 1
          },
          "colorscale": {
           "diverging": [
            [
             0,
             "#8e0152"
            ],
            [
             0.1,
             "#c51b7d"
            ],
            [
             0.2,
             "#de77ae"
            ],
            [
             0.3,
             "#f1b6da"
            ],
            [
             0.4,
             "#fde0ef"
            ],
            [
             0.5,
             "#f7f7f7"
            ],
            [
             0.6,
             "#e6f5d0"
            ],
            [
             0.7,
             "#b8e186"
            ],
            [
             0.8,
             "#7fbc41"
            ],
            [
             0.9,
             "#4d9221"
            ],
            [
             1,
             "#276419"
            ]
           ],
           "sequential": [
            [
             0,
             "#0d0887"
            ],
            [
             0.1111111111111111,
             "#46039f"
            ],
            [
             0.2222222222222222,
             "#7201a8"
            ],
            [
             0.3333333333333333,
             "#9c179e"
            ],
            [
             0.4444444444444444,
             "#bd3786"
            ],
            [
             0.5555555555555556,
             "#d8576b"
            ],
            [
             0.6666666666666666,
             "#ed7953"
            ],
            [
             0.7777777777777778,
             "#fb9f3a"
            ],
            [
             0.8888888888888888,
             "#fdca26"
            ],
            [
             1,
             "#f0f921"
            ]
           ],
           "sequentialminus": [
            [
             0,
             "#0d0887"
            ],
            [
             0.1111111111111111,
             "#46039f"
            ],
            [
             0.2222222222222222,
             "#7201a8"
            ],
            [
             0.3333333333333333,
             "#9c179e"
            ],
            [
             0.4444444444444444,
             "#bd3786"
            ],
            [
             0.5555555555555556,
             "#d8576b"
            ],
            [
             0.6666666666666666,
             "#ed7953"
            ],
            [
             0.7777777777777778,
             "#fb9f3a"
            ],
            [
             0.8888888888888888,
             "#fdca26"
            ],
            [
             1,
             "#f0f921"
            ]
           ]
          },
          "colorway": [
           "#636efa",
           "#EF553B",
           "#00cc96",
           "#ab63fa",
           "#FFA15A",
           "#19d3f3",
           "#FF6692",
           "#B6E880",
           "#FF97FF",
           "#FECB52"
          ],
          "font": {
           "color": "#2a3f5f"
          },
          "geo": {
           "bgcolor": "white",
           "lakecolor": "white",
           "landcolor": "#E5ECF6",
           "showlakes": true,
           "showland": true,
           "subunitcolor": "white"
          },
          "hoverlabel": {
           "align": "left"
          },
          "hovermode": "closest",
          "mapbox": {
           "style": "light"
          },
          "paper_bgcolor": "white",
          "plot_bgcolor": "#E5ECF6",
          "polar": {
           "angularaxis": {
            "gridcolor": "white",
            "linecolor": "white",
            "ticks": ""
           },
           "bgcolor": "#E5ECF6",
           "radialaxis": {
            "gridcolor": "white",
            "linecolor": "white",
            "ticks": ""
           }
          },
          "scene": {
           "xaxis": {
            "backgroundcolor": "#E5ECF6",
            "gridcolor": "white",
            "gridwidth": 2,
            "linecolor": "white",
            "showbackground": true,
            "ticks": "",
            "zerolinecolor": "white"
           },
           "yaxis": {
            "backgroundcolor": "#E5ECF6",
            "gridcolor": "white",
            "gridwidth": 2,
            "linecolor": "white",
            "showbackground": true,
            "ticks": "",
            "zerolinecolor": "white"
           },
           "zaxis": {
            "backgroundcolor": "#E5ECF6",
            "gridcolor": "white",
            "gridwidth": 2,
            "linecolor": "white",
            "showbackground": true,
            "ticks": "",
            "zerolinecolor": "white"
           }
          },
          "shapedefaults": {
           "line": {
            "color": "#2a3f5f"
           }
          },
          "ternary": {
           "aaxis": {
            "gridcolor": "white",
            "linecolor": "white",
            "ticks": ""
           },
           "baxis": {
            "gridcolor": "white",
            "linecolor": "white",
            "ticks": ""
           },
           "bgcolor": "#E5ECF6",
           "caxis": {
            "gridcolor": "white",
            "linecolor": "white",
            "ticks": ""
           }
          },
          "title": {
           "x": 0.05
          },
          "xaxis": {
           "automargin": true,
           "gridcolor": "white",
           "linecolor": "white",
           "ticks": "",
           "zerolinecolor": "white",
           "zerolinewidth": 2
          },
          "yaxis": {
           "automargin": true,
           "gridcolor": "white",
           "linecolor": "white",
           "ticks": "",
           "zerolinecolor": "white",
           "zerolinewidth": 2
          }
         }
        },
        "title": {
         "font": {
          "color": "#4D5663"
         }
        },
        "xaxis": {
         "gridcolor": "#E1E5ED",
         "showgrid": true,
         "tickfont": {
          "color": "#4D5663"
         },
         "title": {
          "font": {
           "color": "#4D5663"
          },
          "text": ""
         },
         "zerolinecolor": "#E1E5ED"
        },
        "yaxis": {
         "gridcolor": "#E1E5ED",
         "showgrid": true,
         "tickfont": {
          "color": "#4D5663"
         },
         "title": {
          "font": {
           "color": "#4D5663"
          },
          "text": ""
         },
         "zerolinecolor": "#E1E5ED"
        }
       }
      },
      "text/html": [
       "<div>\n",
       "        \n",
       "        \n",
       "            <div id=\"6a77fee5-b20f-4253-89c4-59513f5f40f0\" class=\"plotly-graph-div\" style=\"height:525px; width:100%;\"></div>\n",
       "            <script type=\"text/javascript\">\n",
       "                require([\"plotly\"], function(Plotly) {\n",
       "                    window.PLOTLYENV=window.PLOTLYENV || {};\n",
       "                    window.PLOTLYENV.BASE_URL='https://plot.ly';\n",
       "                    \n",
       "                if (document.getElementById(\"6a77fee5-b20f-4253-89c4-59513f5f40f0\")) {\n",
       "                    Plotly.newPlot(\n",
       "                        '6a77fee5-b20f-4253-89c4-59513f5f40f0',\n",
       "                        [{\"marker\": {\"color\": \"rgba(255, 153, 51, 0.6)\", \"line\": {\"color\": \"rgba(255, 153, 51, 1.0)\", \"width\": 1}}, \"name\": \"None\", \"orientation\": \"v\", \"text\": \"\", \"type\": \"bar\", \"x\": [\"A\", \"B\", \"C\", \"D\"], \"y\": [6.911318954104221, -10.93112720095593, 2.214377877022616, 13.223506755083456]}],\n",
       "                        {\"legend\": {\"bgcolor\": \"#F5F6F9\", \"font\": {\"color\": \"#4D5663\"}}, \"paper_bgcolor\": \"#F5F6F9\", \"plot_bgcolor\": \"#F5F6F9\", \"template\": {\"data\": {\"bar\": [{\"error_x\": {\"color\": \"#2a3f5f\"}, \"error_y\": {\"color\": \"#2a3f5f\"}, \"marker\": {\"line\": {\"color\": \"#E5ECF6\", \"width\": 0.5}}, \"type\": \"bar\"}], \"barpolar\": [{\"marker\": {\"line\": {\"color\": \"#E5ECF6\", \"width\": 0.5}}, \"type\": \"barpolar\"}], \"carpet\": [{\"aaxis\": {\"endlinecolor\": \"#2a3f5f\", \"gridcolor\": \"white\", \"linecolor\": \"white\", \"minorgridcolor\": \"white\", \"startlinecolor\": \"#2a3f5f\"}, \"baxis\": {\"endlinecolor\": \"#2a3f5f\", \"gridcolor\": \"white\", \"linecolor\": \"white\", \"minorgridcolor\": \"white\", \"startlinecolor\": \"#2a3f5f\"}, \"type\": \"carpet\"}], \"choropleth\": [{\"colorbar\": {\"outlinewidth\": 0, \"ticks\": \"\"}, \"type\": \"choropleth\"}], \"contour\": [{\"colorbar\": {\"outlinewidth\": 0, \"ticks\": \"\"}, \"colorscale\": [[0.0, \"#0d0887\"], [0.1111111111111111, \"#46039f\"], [0.2222222222222222, \"#7201a8\"], [0.3333333333333333, \"#9c179e\"], [0.4444444444444444, \"#bd3786\"], [0.5555555555555556, \"#d8576b\"], [0.6666666666666666, \"#ed7953\"], [0.7777777777777778, \"#fb9f3a\"], [0.8888888888888888, \"#fdca26\"], [1.0, \"#f0f921\"]], \"type\": \"contour\"}], \"contourcarpet\": [{\"colorbar\": {\"outlinewidth\": 0, \"ticks\": \"\"}, \"type\": \"contourcarpet\"}], \"heatmap\": [{\"colorbar\": {\"outlinewidth\": 0, \"ticks\": \"\"}, \"colorscale\": [[0.0, \"#0d0887\"], [0.1111111111111111, \"#46039f\"], [0.2222222222222222, \"#7201a8\"], [0.3333333333333333, \"#9c179e\"], [0.4444444444444444, \"#bd3786\"], [0.5555555555555556, \"#d8576b\"], [0.6666666666666666, \"#ed7953\"], [0.7777777777777778, \"#fb9f3a\"], [0.8888888888888888, \"#fdca26\"], [1.0, \"#f0f921\"]], \"type\": \"heatmap\"}], \"heatmapgl\": [{\"colorbar\": {\"outlinewidth\": 0, \"ticks\": \"\"}, \"colorscale\": [[0.0, \"#0d0887\"], [0.1111111111111111, \"#46039f\"], [0.2222222222222222, \"#7201a8\"], [0.3333333333333333, \"#9c179e\"], [0.4444444444444444, \"#bd3786\"], [0.5555555555555556, \"#d8576b\"], [0.6666666666666666, \"#ed7953\"], [0.7777777777777778, \"#fb9f3a\"], [0.8888888888888888, \"#fdca26\"], [1.0, \"#f0f921\"]], \"type\": \"heatmapgl\"}], \"histogram\": [{\"marker\": {\"colorbar\": {\"outlinewidth\": 0, \"ticks\": \"\"}}, \"type\": \"histogram\"}], \"histogram2d\": [{\"colorbar\": {\"outlinewidth\": 0, \"ticks\": \"\"}, \"colorscale\": [[0.0, \"#0d0887\"], [0.1111111111111111, \"#46039f\"], [0.2222222222222222, \"#7201a8\"], [0.3333333333333333, \"#9c179e\"], [0.4444444444444444, \"#bd3786\"], [0.5555555555555556, \"#d8576b\"], [0.6666666666666666, \"#ed7953\"], [0.7777777777777778, \"#fb9f3a\"], [0.8888888888888888, \"#fdca26\"], [1.0, \"#f0f921\"]], \"type\": \"histogram2d\"}], \"histogram2dcontour\": [{\"colorbar\": {\"outlinewidth\": 0, \"ticks\": \"\"}, \"colorscale\": [[0.0, \"#0d0887\"], [0.1111111111111111, \"#46039f\"], [0.2222222222222222, \"#7201a8\"], [0.3333333333333333, \"#9c179e\"], [0.4444444444444444, \"#bd3786\"], [0.5555555555555556, \"#d8576b\"], [0.6666666666666666, \"#ed7953\"], [0.7777777777777778, \"#fb9f3a\"], [0.8888888888888888, \"#fdca26\"], [1.0, \"#f0f921\"]], \"type\": \"histogram2dcontour\"}], \"mesh3d\": [{\"colorbar\": {\"outlinewidth\": 0, \"ticks\": \"\"}, \"type\": \"mesh3d\"}], \"parcoords\": [{\"line\": {\"colorbar\": {\"outlinewidth\": 0, \"ticks\": \"\"}}, \"type\": \"parcoords\"}], \"scatter\": [{\"marker\": {\"colorbar\": {\"outlinewidth\": 0, \"ticks\": \"\"}}, \"type\": \"scatter\"}], \"scatter3d\": [{\"line\": {\"colorbar\": {\"outlinewidth\": 0, \"ticks\": \"\"}}, \"marker\": {\"colorbar\": {\"outlinewidth\": 0, \"ticks\": \"\"}}, \"type\": \"scatter3d\"}], \"scattercarpet\": [{\"marker\": {\"colorbar\": {\"outlinewidth\": 0, \"ticks\": \"\"}}, \"type\": \"scattercarpet\"}], \"scattergeo\": [{\"marker\": {\"colorbar\": {\"outlinewidth\": 0, \"ticks\": \"\"}}, \"type\": \"scattergeo\"}], \"scattergl\": [{\"marker\": {\"colorbar\": {\"outlinewidth\": 0, \"ticks\": \"\"}}, \"type\": \"scattergl\"}], \"scattermapbox\": [{\"marker\": {\"colorbar\": {\"outlinewidth\": 0, \"ticks\": \"\"}}, \"type\": \"scattermapbox\"}], \"scatterpolar\": [{\"marker\": {\"colorbar\": {\"outlinewidth\": 0, \"ticks\": \"\"}}, \"type\": \"scatterpolar\"}], \"scatterpolargl\": [{\"marker\": {\"colorbar\": {\"outlinewidth\": 0, \"ticks\": \"\"}}, \"type\": \"scatterpolargl\"}], \"scatterternary\": [{\"marker\": {\"colorbar\": {\"outlinewidth\": 0, \"ticks\": \"\"}}, \"type\": \"scatterternary\"}], \"surface\": [{\"colorbar\": {\"outlinewidth\": 0, \"ticks\": \"\"}, \"colorscale\": [[0.0, \"#0d0887\"], [0.1111111111111111, \"#46039f\"], [0.2222222222222222, \"#7201a8\"], [0.3333333333333333, \"#9c179e\"], [0.4444444444444444, \"#bd3786\"], [0.5555555555555556, \"#d8576b\"], [0.6666666666666666, \"#ed7953\"], [0.7777777777777778, \"#fb9f3a\"], [0.8888888888888888, \"#fdca26\"], [1.0, \"#f0f921\"]], \"type\": \"surface\"}], \"table\": [{\"cells\": {\"fill\": {\"color\": \"#EBF0F8\"}, \"line\": {\"color\": \"white\"}}, \"header\": {\"fill\": {\"color\": \"#C8D4E3\"}, \"line\": {\"color\": \"white\"}}, \"type\": \"table\"}]}, \"layout\": {\"annotationdefaults\": {\"arrowcolor\": \"#2a3f5f\", \"arrowhead\": 0, \"arrowwidth\": 1}, \"colorscale\": {\"diverging\": [[0, \"#8e0152\"], [0.1, \"#c51b7d\"], [0.2, \"#de77ae\"], [0.3, \"#f1b6da\"], [0.4, \"#fde0ef\"], [0.5, \"#f7f7f7\"], [0.6, \"#e6f5d0\"], [0.7, \"#b8e186\"], [0.8, \"#7fbc41\"], [0.9, \"#4d9221\"], [1, \"#276419\"]], \"sequential\": [[0.0, \"#0d0887\"], [0.1111111111111111, \"#46039f\"], [0.2222222222222222, \"#7201a8\"], [0.3333333333333333, \"#9c179e\"], [0.4444444444444444, \"#bd3786\"], [0.5555555555555556, \"#d8576b\"], [0.6666666666666666, \"#ed7953\"], [0.7777777777777778, \"#fb9f3a\"], [0.8888888888888888, \"#fdca26\"], [1.0, \"#f0f921\"]], \"sequentialminus\": [[0.0, \"#0d0887\"], [0.1111111111111111, \"#46039f\"], [0.2222222222222222, \"#7201a8\"], [0.3333333333333333, \"#9c179e\"], [0.4444444444444444, \"#bd3786\"], [0.5555555555555556, \"#d8576b\"], [0.6666666666666666, \"#ed7953\"], [0.7777777777777778, \"#fb9f3a\"], [0.8888888888888888, \"#fdca26\"], [1.0, \"#f0f921\"]]}, \"colorway\": [\"#636efa\", \"#EF553B\", \"#00cc96\", \"#ab63fa\", \"#FFA15A\", \"#19d3f3\", \"#FF6692\", \"#B6E880\", \"#FF97FF\", \"#FECB52\"], \"font\": {\"color\": \"#2a3f5f\"}, \"geo\": {\"bgcolor\": \"white\", \"lakecolor\": \"white\", \"landcolor\": \"#E5ECF6\", \"showlakes\": true, \"showland\": true, \"subunitcolor\": \"white\"}, \"hoverlabel\": {\"align\": \"left\"}, \"hovermode\": \"closest\", \"mapbox\": {\"style\": \"light\"}, \"paper_bgcolor\": \"white\", \"plot_bgcolor\": \"#E5ECF6\", \"polar\": {\"angularaxis\": {\"gridcolor\": \"white\", \"linecolor\": \"white\", \"ticks\": \"\"}, \"bgcolor\": \"#E5ECF6\", \"radialaxis\": {\"gridcolor\": \"white\", \"linecolor\": \"white\", \"ticks\": \"\"}}, \"scene\": {\"xaxis\": {\"backgroundcolor\": \"#E5ECF6\", \"gridcolor\": \"white\", \"gridwidth\": 2, \"linecolor\": \"white\", \"showbackground\": true, \"ticks\": \"\", \"zerolinecolor\": \"white\"}, \"yaxis\": {\"backgroundcolor\": \"#E5ECF6\", \"gridcolor\": \"white\", \"gridwidth\": 2, \"linecolor\": \"white\", \"showbackground\": true, \"ticks\": \"\", \"zerolinecolor\": \"white\"}, \"zaxis\": {\"backgroundcolor\": \"#E5ECF6\", \"gridcolor\": \"white\", \"gridwidth\": 2, \"linecolor\": \"white\", \"showbackground\": true, \"ticks\": \"\", \"zerolinecolor\": \"white\"}}, \"shapedefaults\": {\"line\": {\"color\": \"#2a3f5f\"}}, \"ternary\": {\"aaxis\": {\"gridcolor\": \"white\", \"linecolor\": \"white\", \"ticks\": \"\"}, \"baxis\": {\"gridcolor\": \"white\", \"linecolor\": \"white\", \"ticks\": \"\"}, \"bgcolor\": \"#E5ECF6\", \"caxis\": {\"gridcolor\": \"white\", \"linecolor\": \"white\", \"ticks\": \"\"}}, \"title\": {\"x\": 0.05}, \"xaxis\": {\"automargin\": true, \"gridcolor\": \"white\", \"linecolor\": \"white\", \"ticks\": \"\", \"zerolinecolor\": \"white\", \"zerolinewidth\": 2}, \"yaxis\": {\"automargin\": true, \"gridcolor\": \"white\", \"linecolor\": \"white\", \"ticks\": \"\", \"zerolinecolor\": \"white\", \"zerolinewidth\": 2}}}, \"title\": {\"font\": {\"color\": \"#4D5663\"}}, \"xaxis\": {\"gridcolor\": \"#E1E5ED\", \"showgrid\": true, \"tickfont\": {\"color\": \"#4D5663\"}, \"title\": {\"font\": {\"color\": \"#4D5663\"}, \"text\": \"\"}, \"zerolinecolor\": \"#E1E5ED\"}, \"yaxis\": {\"gridcolor\": \"#E1E5ED\", \"showgrid\": true, \"tickfont\": {\"color\": \"#4D5663\"}, \"title\": {\"font\": {\"color\": \"#4D5663\"}, \"text\": \"\"}, \"zerolinecolor\": \"#E1E5ED\"}},\n",
       "                        {\"showLink\": true, \"linkText\": \"Export to plot.ly\", \"plotlyServerURL\": \"https://plot.ly\", \"responsive\": true}\n",
       "                    ).then(function(){\n",
       "                            \n",
       "var gd = document.getElementById('6a77fee5-b20f-4253-89c4-59513f5f40f0');\n",
       "var x = new MutationObserver(function (mutations, observer) {{\n",
       "        var display = window.getComputedStyle(gd).display;\n",
       "        if (!display || display === 'none') {{\n",
       "            console.log([gd, 'removed!']);\n",
       "            Plotly.purge(gd);\n",
       "            observer.disconnect();\n",
       "        }}\n",
       "}});\n",
       "\n",
       "// Listen for the removal of the full notebook cells\n",
       "var notebookContainer = gd.closest('#notebook-container');\n",
       "if (notebookContainer) {{\n",
       "    x.observe(notebookContainer, {childList: true});\n",
       "}}\n",
       "\n",
       "// Listen for the clearing of the current output cell\n",
       "var outputEl = gd.closest('.output');\n",
       "if (outputEl) {{\n",
       "    x.observe(outputEl, {childList: true});\n",
       "}}\n",
       "\n",
       "                        })\n",
       "                };\n",
       "                });\n",
       "            </script>\n",
       "        </div>"
      ]
     },
     "metadata": {},
     "output_type": "display_data"
    }
   ],
   "source": [
    "### Ex.3 - Sometimes, our data is not going to be conveniently placed -> We can use a groupby + aggregate function \n",
    "##         to obtain a convenient form where it makes sense to use a barplot. \n",
    "\n",
    "df.sum().iplot(kind = 'bar')"
   ]
  },
  {
   "cell_type": "code",
   "execution_count": 17,
   "metadata": {},
   "outputs": [
    {
     "data": {
      "application/vnd.plotly.v1+json": {
       "config": {
        "linkText": "Export to plot.ly",
        "plotlyServerURL": "https://plot.ly",
        "showLink": true
       },
       "data": [
        {
         "boxpoints": false,
         "line": {
          "width": 1.3
         },
         "marker": {
          "color": "rgba(255, 153, 51, 1.0)"
         },
         "name": "A",
         "orientation": "v",
         "type": "box",
         "y": [
          0.2677202100092553,
          0.029401801300603495,
          1.6333155976582325,
          -0.15395081213775003,
          -0.14413501408846446,
          -1.6449448335712324,
          -0.14949460123467992,
          0.3339491948644246,
          -2.597094399834224,
          0.31658962768094867,
          0.8786647987727886,
          -1.3432173218877443,
          -0.7847668533324995,
          -0.837875974898997,
          -0.16072258922436436,
          0.5380362625214631,
          0.8018472514118294,
          2.225050418870336,
          0.06312688222115209,
          -0.2819821780153154,
          0.4561975529941592,
          0.9540050098411976,
          -0.5772141596534164,
          0.2533501925563586,
          -1.8640188679329512,
          0.24686965021478458,
          -1.5145631567705737,
          0.8539396046950519,
          0.0530587181385824,
          -1.1056944602495598,
          -0.8106609561461899,
          1.9999438998844243,
          -1.696019592198367,
          0.27035476500109734,
          0.3448685019844587,
          2.4332894470526885,
          1.0183035709639316,
          -1.0635862704484549,
          -0.4404129255558789,
          -1.2016635715406303,
          -0.7349321325596352,
          0.2912459365897682,
          1.1057264089740584,
          -1.3474952757494583,
          1.3656261037787343,
          1.4668789210387587,
          1.1341137118535645,
          -0.797166045752831,
          -0.8437538847577685,
          -0.6578538590564416,
          -2.800744340160438,
          -1.464933962422879,
          0.18579368606777028,
          0.2716661071690678,
          -1.388396543205864,
          0.5651575972514904,
          1.870569345198021,
          -0.01803795079444882,
          0.5445561374341695,
          1.3100419598906323,
          0.9269117310037176,
          1.2170550881202022,
          0.5977731119509945,
          1.4658503908815197,
          -0.7133295308487775,
          -1.6072561105549357,
          -1.1583952519354686,
          -0.5675193850198321,
          0.18395561276829986,
          1.5629117365627527,
          -0.6459481567494111,
          0.6451808366860189,
          -1.140277317678325,
          0.9201965824358878,
          0.5628508849829402,
          0.06223168643101446,
          0.3830041460378295,
          -1.7425635857356514,
          2.68853762149162,
          -1.5873613032422402,
          1.2103667304439776,
          0.4483515828616707,
          0.3069526013666004,
          -0.3056869359478956,
          0.43649977563834447,
          -0.3367048914567436,
          -0.8743257220013367,
          0.9018109380439379,
          0.4495422955436478,
          -1.1129199575924928,
          0.8875442142140842,
          -1.0279242303493357,
          2.1826050258379954,
          1.3416997099219075,
          -0.5444380801553921,
          -1.3906335395822353,
          0.603842679050368,
          1.4479816718381482,
          2.2801894155665146,
          0.2948305425715559
         ]
        },
        {
         "boxpoints": false,
         "line": {
          "width": 1.3
         },
         "marker": {
          "color": "rgba(55, 128, 191, 1.0)"
         },
         "name": "B",
         "orientation": "v",
         "type": "box",
         "y": [
          -0.4325321712751128,
          -1.5460924544980112,
          0.10273563589960194,
          -0.4367522969617371,
          -0.37250903654265705,
          2.495901049673792,
          0.4543077408140475,
          -0.30651567349031394,
          -0.38977321361290346,
          0.25333239787958034,
          -0.6518531750893366,
          -1.1598463133588912,
          -0.2502549143354412,
          -0.20151676688773343,
          1.5980566808370873,
          0.029402384373415722,
          -0.2269876865330706,
          -0.33008870211174673,
          0.8804252708319859,
          0.540454682551017,
          -0.056564992295370896,
          -1.543266073278203,
          -0.1517454722774265,
          0.48850921701499184,
          -1.5218659923324995,
          0.48252528692933,
          -1.1739288126024365,
          -0.2661170255448922,
          -0.12089999686922906,
          2.207181673471075,
          1.3492640917725967,
          -0.07360631969307191,
          -0.8428718809880091,
          0.6541993474215966,
          1.832577954017896,
          -0.8000301318162512,
          0.5912931904834581,
          -0.1648826924515067,
          0.7513998380294736,
          -0.36636501022202067,
          0.4479585738911855,
          0.01652610289102157,
          1.4436301181798241,
          1.198114629977769,
          -0.12417129548519844,
          -1.635490725015796,
          0.9659152618319634,
          -0.22163192420780028,
          0.13906379998407672,
          -0.5933198954392768,
          0.09517724473066766,
          -0.6565492491460867,
          -0.7362795364472919,
          -0.4868621253603264,
          -1.0520977748564473,
          -2.4117622058518284,
          -2.131492724081454,
          0.8115720023991889,
          -0.2685434009579712,
          -0.5963652446589135,
          2.474124392200335,
          0.06911688071229449,
          -1.1365645282692047,
          -0.7563200775798268,
          -0.8945050849648055,
          0.8551433639677785,
          -0.18826810908634953,
          1.4656718925668768,
          -0.056481576159804245,
          0.982213228229109,
          1.2540302807344708,
          2.269188395378155,
          0.5868297415228718,
          -1.3920972094032944,
          0.2580819064645278,
          -0.5126588457434668,
          0.8421125394269273,
          -0.7731775605236191,
          -2.401552932218778,
          -1.0766545233237557,
          -1.0115670858119716,
          0.5303470084085685,
          -0.02356719985016988,
          -0.11813249614427222,
          0.6296570442736785,
          -0.8320580612521427,
          -0.49955935500329185,
          -0.13027097894996809,
          -0.081474351975949,
          0.27830415447931356,
          1.218265733122561,
          1.4955858477436832,
          -0.11999165184828173,
          -2.0658962422542575,
          -1.2836654857950553,
          -2.868162817942856,
          -2.363789031238105,
          -0.5279276194071908,
          -0.08225036746740437,
          -0.47129768728363813
         ]
        },
        {
         "boxpoints": false,
         "line": {
          "width": 1.3
         },
         "marker": {
          "color": "rgba(50, 171, 96, 1.0)"
         },
         "name": "C",
         "orientation": "v",
         "type": "box",
         "y": [
          -1.4915827436378635,
          -2.112020006549017,
          -0.8329924095346284,
          1.7823209334611574,
          -0.7192814711428236,
          -0.5657555679446309,
          0.29374616132364456,
          1.6996285110354985,
          -0.41935449712171036,
          1.8049666970050822,
          0.9950818115963185,
          -0.3561521976707872,
          0.35746595441843676,
          0.16665249127587373,
          -0.30997250971580614,
          1.320875064102547,
          -2.2275645560572377,
          -0.558859659944914,
          -0.3395427132529864,
          -0.6172227810131552,
          0.5598324593996644,
          2.3176340765173293,
          1.3868298905679506,
          0.7074025099455857,
          0.9968354698286394,
          0.5759027018023721,
          -1.1902446827365922,
          -0.566420905406603,
          -2.5787457879446936,
          1.0448765267217333,
          0.0575222219029565,
          0.553843648368937,
          -0.5848856885732062,
          -0.9167844605684892,
          -0.4116034641618978,
          0.3403504234759874,
          -0.09015529136674685,
          0.9605253449617726,
          0.41295230460834553,
          0.17606893005627136,
          0.1394835567699609,
          -0.24824526562589908,
          -0.31426882930239164,
          0.690792933252245,
          -0.9878882957890283,
          -0.4735071596684798,
          1.6512343595147854,
          2.609770180786801,
          -0.7648625754422158,
          0.0712398856157923,
          -0.5049747112309024,
          0.4912486112813825,
          0.9885021263519854,
          0.7712407604431888,
          0.1290524490715323,
          0.04448892449874012,
          0.37191418104278157,
          0.5511476627085021,
          0.2145247287208951,
          0.6179232564946322,
          -0.21505308570241372,
          0.11415534786549235,
          0.49730667627105724,
          -1.3539767876323532,
          1.5029693022889137,
          -0.8955210319309673,
          1.5236031046781657,
          -0.5511762908172061,
          -0.48435904644665134,
          0.06780795963216768,
          0.10577749158140741,
          -0.7613594055094629,
          -0.0807678779419743,
          -1.100340014759591,
          0.13473733868437426,
          -0.5554032514491901,
          -2.1040562904224527,
          1.3785472966882482,
          0.20358444370538267,
          2.8953721028734596,
          0.3130398408759578,
          0.14002930904544209,
          -1.3728158956282914,
          -0.35819175282054805,
          0.22958757977878763,
          -0.003913314093714403,
          -1.9865998428720206,
          -1.4995645715031976,
          -1.610787403627202,
          -0.7673634249080489,
          -0.3989395546614242,
          2.6703375578543307,
          1.790563716962692,
          -1.1414208367513043,
          0.6848848569715895,
          0.7269276441464714,
          -0.2956929541095785,
          -0.4582838725550537,
          -0.31906036078748545,
          -2.1211963434778136
         ]
        },
        {
         "boxpoints": false,
         "line": {
          "width": 1.3
         },
         "marker": {
          "color": "rgba(128, 0, 128, 1.0)"
         },
         "name": "D",
         "orientation": "v",
         "type": "box",
         "y": [
          -0.7025160410480839,
          1.3109081667544578,
          -0.510361468081794,
          0.14988146373890324,
          1.6019418730762025,
          -0.349053248547214,
          -0.4166299933795874,
          -2.4680739874503113,
          0.025067974485122674,
          -0.19871976026948518,
          0.5953950686273765,
          0.7511049301039473,
          0.5720049651864383,
          -2.4835048163036797,
          0.2109330444317143,
          1.4767934570912753,
          -0.035966329295487084,
          -0.6810201187166933,
          -1.3957264827789182,
          0.34492934974635153,
          -0.22948438014191513,
          0.9944106854012644,
          1.1245846524485843,
          1.7267038383309876,
          0.5044357665376124,
          -0.35664609529375235,
          -0.17181976879078467,
          -1.173535775728522,
          0.06374348058106245,
          0.7848220619723575,
          -0.2564503272297871,
          1.8315920467331734,
          2.032589934699792,
          0.6513614616376907,
          -0.1424870213724532,
          1.7632791185368706,
          0.720715119660739,
          -1.7333097242317494,
          0.1253668772189341,
          -0.6906249181043568,
          -0.5850487211742301,
          0.7651300905830513,
          0.12186453381870625,
          -0.4150343239864852,
          0.660759717712707,
          1.2753300935459693,
          -1.4496646904364807,
          0.19710775617052026,
          -0.18528700914977536,
          0.6884493145711821,
          0.16201470238935398,
          -0.03200110632704644,
          -0.08702335075885158,
          1.3271464353502238,
          -0.07768790979240572,
          -1.4135203973646147,
          -0.5787944728418192,
          0.5022055952444596,
          0.454460398888486,
          0.49952080788698844,
          1.3937837027809206,
          -0.22705333578165374,
          1.7601645652112776,
          1.1693672723203297,
          0.006168973030320437,
          -1.2946412347695087,
          0.9359192670481432,
          -0.34135313067712797,
          -0.8991078674578962,
          -1.4180420040265282,
          -0.3141498370012541,
          1.3284588340190397,
          0.43436365261630805,
          -0.06019913519325379,
          0.7229731593151011,
          -0.059130641011031916,
          0.18691418901314508,
          -0.579051175367635,
          0.6863533149215727,
          2.2073437656015202,
          0.6189359844436157,
          -1.4371023486349348,
          0.20509646795438427,
          0.5351249753977271,
          1.1588687922005507,
          -0.3865337149383086,
          0.3199797712139598,
          -0.17461766180681795,
          -0.7182557946851779,
          1.9110973156231161,
          -1.480052452610233,
          -1.0388907279053714,
          1.9265638251231678,
          0.6879312442723563,
          -0.5989968078733376,
          2.010769856789577,
          0.5928355998139698,
          -1.3997036184021738,
          -1.597976868291814,
          -0.7472119617588053
         ]
        }
       ],
       "layout": {
        "legend": {
         "bgcolor": "#F5F6F9",
         "font": {
          "color": "#4D5663"
         }
        },
        "paper_bgcolor": "#F5F6F9",
        "plot_bgcolor": "#F5F6F9",
        "template": {
         "data": {
          "bar": [
           {
            "error_x": {
             "color": "#2a3f5f"
            },
            "error_y": {
             "color": "#2a3f5f"
            },
            "marker": {
             "line": {
              "color": "#E5ECF6",
              "width": 0.5
             }
            },
            "type": "bar"
           }
          ],
          "barpolar": [
           {
            "marker": {
             "line": {
              "color": "#E5ECF6",
              "width": 0.5
             }
            },
            "type": "barpolar"
           }
          ],
          "carpet": [
           {
            "aaxis": {
             "endlinecolor": "#2a3f5f",
             "gridcolor": "white",
             "linecolor": "white",
             "minorgridcolor": "white",
             "startlinecolor": "#2a3f5f"
            },
            "baxis": {
             "endlinecolor": "#2a3f5f",
             "gridcolor": "white",
             "linecolor": "white",
             "minorgridcolor": "white",
             "startlinecolor": "#2a3f5f"
            },
            "type": "carpet"
           }
          ],
          "choropleth": [
           {
            "colorbar": {
             "outlinewidth": 0,
             "ticks": ""
            },
            "type": "choropleth"
           }
          ],
          "contour": [
           {
            "colorbar": {
             "outlinewidth": 0,
             "ticks": ""
            },
            "colorscale": [
             [
              0,
              "#0d0887"
             ],
             [
              0.1111111111111111,
              "#46039f"
             ],
             [
              0.2222222222222222,
              "#7201a8"
             ],
             [
              0.3333333333333333,
              "#9c179e"
             ],
             [
              0.4444444444444444,
              "#bd3786"
             ],
             [
              0.5555555555555556,
              "#d8576b"
             ],
             [
              0.6666666666666666,
              "#ed7953"
             ],
             [
              0.7777777777777778,
              "#fb9f3a"
             ],
             [
              0.8888888888888888,
              "#fdca26"
             ],
             [
              1,
              "#f0f921"
             ]
            ],
            "type": "contour"
           }
          ],
          "contourcarpet": [
           {
            "colorbar": {
             "outlinewidth": 0,
             "ticks": ""
            },
            "type": "contourcarpet"
           }
          ],
          "heatmap": [
           {
            "colorbar": {
             "outlinewidth": 0,
             "ticks": ""
            },
            "colorscale": [
             [
              0,
              "#0d0887"
             ],
             [
              0.1111111111111111,
              "#46039f"
             ],
             [
              0.2222222222222222,
              "#7201a8"
             ],
             [
              0.3333333333333333,
              "#9c179e"
             ],
             [
              0.4444444444444444,
              "#bd3786"
             ],
             [
              0.5555555555555556,
              "#d8576b"
             ],
             [
              0.6666666666666666,
              "#ed7953"
             ],
             [
              0.7777777777777778,
              "#fb9f3a"
             ],
             [
              0.8888888888888888,
              "#fdca26"
             ],
             [
              1,
              "#f0f921"
             ]
            ],
            "type": "heatmap"
           }
          ],
          "heatmapgl": [
           {
            "colorbar": {
             "outlinewidth": 0,
             "ticks": ""
            },
            "colorscale": [
             [
              0,
              "#0d0887"
             ],
             [
              0.1111111111111111,
              "#46039f"
             ],
             [
              0.2222222222222222,
              "#7201a8"
             ],
             [
              0.3333333333333333,
              "#9c179e"
             ],
             [
              0.4444444444444444,
              "#bd3786"
             ],
             [
              0.5555555555555556,
              "#d8576b"
             ],
             [
              0.6666666666666666,
              "#ed7953"
             ],
             [
              0.7777777777777778,
              "#fb9f3a"
             ],
             [
              0.8888888888888888,
              "#fdca26"
             ],
             [
              1,
              "#f0f921"
             ]
            ],
            "type": "heatmapgl"
           }
          ],
          "histogram": [
           {
            "marker": {
             "colorbar": {
              "outlinewidth": 0,
              "ticks": ""
             }
            },
            "type": "histogram"
           }
          ],
          "histogram2d": [
           {
            "colorbar": {
             "outlinewidth": 0,
             "ticks": ""
            },
            "colorscale": [
             [
              0,
              "#0d0887"
             ],
             [
              0.1111111111111111,
              "#46039f"
             ],
             [
              0.2222222222222222,
              "#7201a8"
             ],
             [
              0.3333333333333333,
              "#9c179e"
             ],
             [
              0.4444444444444444,
              "#bd3786"
             ],
             [
              0.5555555555555556,
              "#d8576b"
             ],
             [
              0.6666666666666666,
              "#ed7953"
             ],
             [
              0.7777777777777778,
              "#fb9f3a"
             ],
             [
              0.8888888888888888,
              "#fdca26"
             ],
             [
              1,
              "#f0f921"
             ]
            ],
            "type": "histogram2d"
           }
          ],
          "histogram2dcontour": [
           {
            "colorbar": {
             "outlinewidth": 0,
             "ticks": ""
            },
            "colorscale": [
             [
              0,
              "#0d0887"
             ],
             [
              0.1111111111111111,
              "#46039f"
             ],
             [
              0.2222222222222222,
              "#7201a8"
             ],
             [
              0.3333333333333333,
              "#9c179e"
             ],
             [
              0.4444444444444444,
              "#bd3786"
             ],
             [
              0.5555555555555556,
              "#d8576b"
             ],
             [
              0.6666666666666666,
              "#ed7953"
             ],
             [
              0.7777777777777778,
              "#fb9f3a"
             ],
             [
              0.8888888888888888,
              "#fdca26"
             ],
             [
              1,
              "#f0f921"
             ]
            ],
            "type": "histogram2dcontour"
           }
          ],
          "mesh3d": [
           {
            "colorbar": {
             "outlinewidth": 0,
             "ticks": ""
            },
            "type": "mesh3d"
           }
          ],
          "parcoords": [
           {
            "line": {
             "colorbar": {
              "outlinewidth": 0,
              "ticks": ""
             }
            },
            "type": "parcoords"
           }
          ],
          "scatter": [
           {
            "marker": {
             "colorbar": {
              "outlinewidth": 0,
              "ticks": ""
             }
            },
            "type": "scatter"
           }
          ],
          "scatter3d": [
           {
            "line": {
             "colorbar": {
              "outlinewidth": 0,
              "ticks": ""
             }
            },
            "marker": {
             "colorbar": {
              "outlinewidth": 0,
              "ticks": ""
             }
            },
            "type": "scatter3d"
           }
          ],
          "scattercarpet": [
           {
            "marker": {
             "colorbar": {
              "outlinewidth": 0,
              "ticks": ""
             }
            },
            "type": "scattercarpet"
           }
          ],
          "scattergeo": [
           {
            "marker": {
             "colorbar": {
              "outlinewidth": 0,
              "ticks": ""
             }
            },
            "type": "scattergeo"
           }
          ],
          "scattergl": [
           {
            "marker": {
             "colorbar": {
              "outlinewidth": 0,
              "ticks": ""
             }
            },
            "type": "scattergl"
           }
          ],
          "scattermapbox": [
           {
            "marker": {
             "colorbar": {
              "outlinewidth": 0,
              "ticks": ""
             }
            },
            "type": "scattermapbox"
           }
          ],
          "scatterpolar": [
           {
            "marker": {
             "colorbar": {
              "outlinewidth": 0,
              "ticks": ""
             }
            },
            "type": "scatterpolar"
           }
          ],
          "scatterpolargl": [
           {
            "marker": {
             "colorbar": {
              "outlinewidth": 0,
              "ticks": ""
             }
            },
            "type": "scatterpolargl"
           }
          ],
          "scatterternary": [
           {
            "marker": {
             "colorbar": {
              "outlinewidth": 0,
              "ticks": ""
             }
            },
            "type": "scatterternary"
           }
          ],
          "surface": [
           {
            "colorbar": {
             "outlinewidth": 0,
             "ticks": ""
            },
            "colorscale": [
             [
              0,
              "#0d0887"
             ],
             [
              0.1111111111111111,
              "#46039f"
             ],
             [
              0.2222222222222222,
              "#7201a8"
             ],
             [
              0.3333333333333333,
              "#9c179e"
             ],
             [
              0.4444444444444444,
              "#bd3786"
             ],
             [
              0.5555555555555556,
              "#d8576b"
             ],
             [
              0.6666666666666666,
              "#ed7953"
             ],
             [
              0.7777777777777778,
              "#fb9f3a"
             ],
             [
              0.8888888888888888,
              "#fdca26"
             ],
             [
              1,
              "#f0f921"
             ]
            ],
            "type": "surface"
           }
          ],
          "table": [
           {
            "cells": {
             "fill": {
              "color": "#EBF0F8"
             },
             "line": {
              "color": "white"
             }
            },
            "header": {
             "fill": {
              "color": "#C8D4E3"
             },
             "line": {
              "color": "white"
             }
            },
            "type": "table"
           }
          ]
         },
         "layout": {
          "annotationdefaults": {
           "arrowcolor": "#2a3f5f",
           "arrowhead": 0,
           "arrowwidth": 1
          },
          "colorscale": {
           "diverging": [
            [
             0,
             "#8e0152"
            ],
            [
             0.1,
             "#c51b7d"
            ],
            [
             0.2,
             "#de77ae"
            ],
            [
             0.3,
             "#f1b6da"
            ],
            [
             0.4,
             "#fde0ef"
            ],
            [
             0.5,
             "#f7f7f7"
            ],
            [
             0.6,
             "#e6f5d0"
            ],
            [
             0.7,
             "#b8e186"
            ],
            [
             0.8,
             "#7fbc41"
            ],
            [
             0.9,
             "#4d9221"
            ],
            [
             1,
             "#276419"
            ]
           ],
           "sequential": [
            [
             0,
             "#0d0887"
            ],
            [
             0.1111111111111111,
             "#46039f"
            ],
            [
             0.2222222222222222,
             "#7201a8"
            ],
            [
             0.3333333333333333,
             "#9c179e"
            ],
            [
             0.4444444444444444,
             "#bd3786"
            ],
            [
             0.5555555555555556,
             "#d8576b"
            ],
            [
             0.6666666666666666,
             "#ed7953"
            ],
            [
             0.7777777777777778,
             "#fb9f3a"
            ],
            [
             0.8888888888888888,
             "#fdca26"
            ],
            [
             1,
             "#f0f921"
            ]
           ],
           "sequentialminus": [
            [
             0,
             "#0d0887"
            ],
            [
             0.1111111111111111,
             "#46039f"
            ],
            [
             0.2222222222222222,
             "#7201a8"
            ],
            [
             0.3333333333333333,
             "#9c179e"
            ],
            [
             0.4444444444444444,
             "#bd3786"
            ],
            [
             0.5555555555555556,
             "#d8576b"
            ],
            [
             0.6666666666666666,
             "#ed7953"
            ],
            [
             0.7777777777777778,
             "#fb9f3a"
            ],
            [
             0.8888888888888888,
             "#fdca26"
            ],
            [
             1,
             "#f0f921"
            ]
           ]
          },
          "colorway": [
           "#636efa",
           "#EF553B",
           "#00cc96",
           "#ab63fa",
           "#FFA15A",
           "#19d3f3",
           "#FF6692",
           "#B6E880",
           "#FF97FF",
           "#FECB52"
          ],
          "font": {
           "color": "#2a3f5f"
          },
          "geo": {
           "bgcolor": "white",
           "lakecolor": "white",
           "landcolor": "#E5ECF6",
           "showlakes": true,
           "showland": true,
           "subunitcolor": "white"
          },
          "hoverlabel": {
           "align": "left"
          },
          "hovermode": "closest",
          "mapbox": {
           "style": "light"
          },
          "paper_bgcolor": "white",
          "plot_bgcolor": "#E5ECF6",
          "polar": {
           "angularaxis": {
            "gridcolor": "white",
            "linecolor": "white",
            "ticks": ""
           },
           "bgcolor": "#E5ECF6",
           "radialaxis": {
            "gridcolor": "white",
            "linecolor": "white",
            "ticks": ""
           }
          },
          "scene": {
           "xaxis": {
            "backgroundcolor": "#E5ECF6",
            "gridcolor": "white",
            "gridwidth": 2,
            "linecolor": "white",
            "showbackground": true,
            "ticks": "",
            "zerolinecolor": "white"
           },
           "yaxis": {
            "backgroundcolor": "#E5ECF6",
            "gridcolor": "white",
            "gridwidth": 2,
            "linecolor": "white",
            "showbackground": true,
            "ticks": "",
            "zerolinecolor": "white"
           },
           "zaxis": {
            "backgroundcolor": "#E5ECF6",
            "gridcolor": "white",
            "gridwidth": 2,
            "linecolor": "white",
            "showbackground": true,
            "ticks": "",
            "zerolinecolor": "white"
           }
          },
          "shapedefaults": {
           "line": {
            "color": "#2a3f5f"
           }
          },
          "ternary": {
           "aaxis": {
            "gridcolor": "white",
            "linecolor": "white",
            "ticks": ""
           },
           "baxis": {
            "gridcolor": "white",
            "linecolor": "white",
            "ticks": ""
           },
           "bgcolor": "#E5ECF6",
           "caxis": {
            "gridcolor": "white",
            "linecolor": "white",
            "ticks": ""
           }
          },
          "title": {
           "x": 0.05
          },
          "xaxis": {
           "automargin": true,
           "gridcolor": "white",
           "linecolor": "white",
           "ticks": "",
           "zerolinecolor": "white",
           "zerolinewidth": 2
          },
          "yaxis": {
           "automargin": true,
           "gridcolor": "white",
           "linecolor": "white",
           "ticks": "",
           "zerolinecolor": "white",
           "zerolinewidth": 2
          }
         }
        },
        "title": {
         "font": {
          "color": "#4D5663"
         }
        },
        "xaxis": {
         "gridcolor": "#E1E5ED",
         "showgrid": true,
         "tickfont": {
          "color": "#4D5663"
         },
         "title": {
          "font": {
           "color": "#4D5663"
          },
          "text": ""
         },
         "zerolinecolor": "#E1E5ED"
        },
        "yaxis": {
         "gridcolor": "#E1E5ED",
         "showgrid": true,
         "tickfont": {
          "color": "#4D5663"
         },
         "title": {
          "font": {
           "color": "#4D5663"
          },
          "text": ""
         },
         "zerolinecolor": "#E1E5ED"
        }
       }
      },
      "text/html": [
       "<div>\n",
       "        \n",
       "        \n",
       "            <div id=\"5102f410-9ded-4c69-b5b7-e8ade4418b19\" class=\"plotly-graph-div\" style=\"height:525px; width:100%;\"></div>\n",
       "            <script type=\"text/javascript\">\n",
       "                require([\"plotly\"], function(Plotly) {\n",
       "                    window.PLOTLYENV=window.PLOTLYENV || {};\n",
       "                    window.PLOTLYENV.BASE_URL='https://plot.ly';\n",
       "                    \n",
       "                if (document.getElementById(\"5102f410-9ded-4c69-b5b7-e8ade4418b19\")) {\n",
       "                    Plotly.newPlot(\n",
       "                        '5102f410-9ded-4c69-b5b7-e8ade4418b19',\n",
       "                        [{\"boxpoints\": false, \"line\": {\"width\": 1.3}, \"marker\": {\"color\": \"rgba(255, 153, 51, 1.0)\"}, \"name\": \"A\", \"orientation\": \"v\", \"type\": \"box\", \"y\": [0.2677202100092553, 0.029401801300603495, 1.6333155976582325, -0.15395081213775003, -0.14413501408846446, -1.6449448335712324, -0.14949460123467992, 0.3339491948644246, -2.597094399834224, 0.31658962768094867, 0.8786647987727886, -1.3432173218877443, -0.7847668533324995, -0.837875974898997, -0.16072258922436436, 0.5380362625214631, 0.8018472514118294, 2.225050418870336, 0.06312688222115209, -0.2819821780153154, 0.4561975529941592, 0.9540050098411976, -0.5772141596534164, 0.2533501925563586, -1.8640188679329512, 0.24686965021478458, -1.5145631567705737, 0.8539396046950519, 0.0530587181385824, -1.1056944602495598, -0.8106609561461899, 1.9999438998844243, -1.696019592198367, 0.27035476500109734, 0.3448685019844587, 2.4332894470526885, 1.0183035709639316, -1.0635862704484549, -0.4404129255558789, -1.2016635715406303, -0.7349321325596352, 0.2912459365897682, 1.1057264089740584, -1.3474952757494583, 1.3656261037787343, 1.4668789210387587, 1.1341137118535645, -0.797166045752831, -0.8437538847577685, -0.6578538590564416, -2.800744340160438, -1.464933962422879, 0.18579368606777028, 0.2716661071690678, -1.388396543205864, 0.5651575972514904, 1.870569345198021, -0.01803795079444882, 0.5445561374341695, 1.3100419598906323, 0.9269117310037176, 1.2170550881202022, 0.5977731119509945, 1.4658503908815197, -0.7133295308487775, -1.6072561105549357, -1.1583952519354686, -0.5675193850198321, 0.18395561276829986, 1.5629117365627527, -0.6459481567494111, 0.6451808366860189, -1.140277317678325, 0.9201965824358878, 0.5628508849829402, 0.06223168643101446, 0.3830041460378295, -1.7425635857356514, 2.68853762149162, -1.5873613032422402, 1.2103667304439776, 0.4483515828616707, 0.3069526013666004, -0.3056869359478956, 0.43649977563834447, -0.3367048914567436, -0.8743257220013367, 0.9018109380439379, 0.4495422955436478, -1.1129199575924928, 0.8875442142140842, -1.0279242303493357, 2.1826050258379954, 1.3416997099219075, -0.5444380801553921, -1.3906335395822353, 0.603842679050368, 1.4479816718381482, 2.2801894155665146, 0.2948305425715559]}, {\"boxpoints\": false, \"line\": {\"width\": 1.3}, \"marker\": {\"color\": \"rgba(55, 128, 191, 1.0)\"}, \"name\": \"B\", \"orientation\": \"v\", \"type\": \"box\", \"y\": [-0.4325321712751128, -1.5460924544980112, 0.10273563589960194, -0.4367522969617371, -0.37250903654265705, 2.495901049673792, 0.4543077408140475, -0.30651567349031394, -0.38977321361290346, 0.25333239787958034, -0.6518531750893366, -1.1598463133588912, -0.2502549143354412, -0.20151676688773343, 1.5980566808370873, 0.029402384373415722, -0.2269876865330706, -0.33008870211174673, 0.8804252708319859, 0.540454682551017, -0.056564992295370896, -1.543266073278203, -0.1517454722774265, 0.48850921701499184, -1.5218659923324995, 0.48252528692933, -1.1739288126024365, -0.2661170255448922, -0.12089999686922906, 2.207181673471075, 1.3492640917725967, -0.07360631969307191, -0.8428718809880091, 0.6541993474215966, 1.832577954017896, -0.8000301318162512, 0.5912931904834581, -0.1648826924515067, 0.7513998380294736, -0.36636501022202067, 0.4479585738911855, 0.01652610289102157, 1.4436301181798241, 1.198114629977769, -0.12417129548519844, -1.635490725015796, 0.9659152618319634, -0.22163192420780028, 0.13906379998407672, -0.5933198954392768, 0.09517724473066766, -0.6565492491460867, -0.7362795364472919, -0.4868621253603264, -1.0520977748564473, -2.4117622058518284, -2.131492724081454, 0.8115720023991889, -0.2685434009579712, -0.5963652446589135, 2.474124392200335, 0.06911688071229449, -1.1365645282692047, -0.7563200775798268, -0.8945050849648055, 0.8551433639677785, -0.18826810908634953, 1.4656718925668768, -0.056481576159804245, 0.982213228229109, 1.2540302807344708, 2.269188395378155, 0.5868297415228718, -1.3920972094032944, 0.2580819064645278, -0.5126588457434668, 0.8421125394269273, -0.7731775605236191, -2.401552932218778, -1.0766545233237557, -1.0115670858119716, 0.5303470084085685, -0.02356719985016988, -0.11813249614427222, 0.6296570442736785, -0.8320580612521427, -0.49955935500329185, -0.13027097894996809, -0.081474351975949, 0.27830415447931356, 1.218265733122561, 1.4955858477436832, -0.11999165184828173, -2.0658962422542575, -1.2836654857950553, -2.868162817942856, -2.363789031238105, -0.5279276194071908, -0.08225036746740437, -0.47129768728363813]}, {\"boxpoints\": false, \"line\": {\"width\": 1.3}, \"marker\": {\"color\": \"rgba(50, 171, 96, 1.0)\"}, \"name\": \"C\", \"orientation\": \"v\", \"type\": \"box\", \"y\": [-1.4915827436378635, -2.112020006549017, -0.8329924095346284, 1.7823209334611574, -0.7192814711428236, -0.5657555679446309, 0.29374616132364456, 1.6996285110354985, -0.41935449712171036, 1.8049666970050822, 0.9950818115963185, -0.3561521976707872, 0.35746595441843676, 0.16665249127587373, -0.30997250971580614, 1.320875064102547, -2.2275645560572377, -0.558859659944914, -0.3395427132529864, -0.6172227810131552, 0.5598324593996644, 2.3176340765173293, 1.3868298905679506, 0.7074025099455857, 0.9968354698286394, 0.5759027018023721, -1.1902446827365922, -0.566420905406603, -2.5787457879446936, 1.0448765267217333, 0.0575222219029565, 0.553843648368937, -0.5848856885732062, -0.9167844605684892, -0.4116034641618978, 0.3403504234759874, -0.09015529136674685, 0.9605253449617726, 0.41295230460834553, 0.17606893005627136, 0.1394835567699609, -0.24824526562589908, -0.31426882930239164, 0.690792933252245, -0.9878882957890283, -0.4735071596684798, 1.6512343595147854, 2.609770180786801, -0.7648625754422158, 0.0712398856157923, -0.5049747112309024, 0.4912486112813825, 0.9885021263519854, 0.7712407604431888, 0.1290524490715323, 0.04448892449874012, 0.37191418104278157, 0.5511476627085021, 0.2145247287208951, 0.6179232564946322, -0.21505308570241372, 0.11415534786549235, 0.49730667627105724, -1.3539767876323532, 1.5029693022889137, -0.8955210319309673, 1.5236031046781657, -0.5511762908172061, -0.48435904644665134, 0.06780795963216768, 0.10577749158140741, -0.7613594055094629, -0.0807678779419743, -1.100340014759591, 0.13473733868437426, -0.5554032514491901, -2.1040562904224527, 1.3785472966882482, 0.20358444370538267, 2.8953721028734596, 0.3130398408759578, 0.14002930904544209, -1.3728158956282914, -0.35819175282054805, 0.22958757977878763, -0.003913314093714403, -1.9865998428720206, -1.4995645715031976, -1.610787403627202, -0.7673634249080489, -0.3989395546614242, 2.6703375578543307, 1.790563716962692, -1.1414208367513043, 0.6848848569715895, 0.7269276441464714, -0.2956929541095785, -0.4582838725550537, -0.31906036078748545, -2.1211963434778136]}, {\"boxpoints\": false, \"line\": {\"width\": 1.3}, \"marker\": {\"color\": \"rgba(128, 0, 128, 1.0)\"}, \"name\": \"D\", \"orientation\": \"v\", \"type\": \"box\", \"y\": [-0.7025160410480839, 1.3109081667544578, -0.510361468081794, 0.14988146373890324, 1.6019418730762025, -0.349053248547214, -0.4166299933795874, -2.4680739874503113, 0.025067974485122674, -0.19871976026948518, 0.5953950686273765, 0.7511049301039473, 0.5720049651864383, -2.4835048163036797, 0.2109330444317143, 1.4767934570912753, -0.035966329295487084, -0.6810201187166933, -1.3957264827789182, 0.34492934974635153, -0.22948438014191513, 0.9944106854012644, 1.1245846524485843, 1.7267038383309876, 0.5044357665376124, -0.35664609529375235, -0.17181976879078467, -1.173535775728522, 0.06374348058106245, 0.7848220619723575, -0.2564503272297871, 1.8315920467331734, 2.032589934699792, 0.6513614616376907, -0.1424870213724532, 1.7632791185368706, 0.720715119660739, -1.7333097242317494, 0.1253668772189341, -0.6906249181043568, -0.5850487211742301, 0.7651300905830513, 0.12186453381870625, -0.4150343239864852, 0.660759717712707, 1.2753300935459693, -1.4496646904364807, 0.19710775617052026, -0.18528700914977536, 0.6884493145711821, 0.16201470238935398, -0.03200110632704644, -0.08702335075885158, 1.3271464353502238, -0.07768790979240572, -1.4135203973646147, -0.5787944728418192, 0.5022055952444596, 0.454460398888486, 0.49952080788698844, 1.3937837027809206, -0.22705333578165374, 1.7601645652112776, 1.1693672723203297, 0.006168973030320437, -1.2946412347695087, 0.9359192670481432, -0.34135313067712797, -0.8991078674578962, -1.4180420040265282, -0.3141498370012541, 1.3284588340190397, 0.43436365261630805, -0.06019913519325379, 0.7229731593151011, -0.059130641011031916, 0.18691418901314508, -0.579051175367635, 0.6863533149215727, 2.2073437656015202, 0.6189359844436157, -1.4371023486349348, 0.20509646795438427, 0.5351249753977271, 1.1588687922005507, -0.3865337149383086, 0.3199797712139598, -0.17461766180681795, -0.7182557946851779, 1.9110973156231161, -1.480052452610233, -1.0388907279053714, 1.9265638251231678, 0.6879312442723563, -0.5989968078733376, 2.010769856789577, 0.5928355998139698, -1.3997036184021738, -1.597976868291814, -0.7472119617588053]}],\n",
       "                        {\"legend\": {\"bgcolor\": \"#F5F6F9\", \"font\": {\"color\": \"#4D5663\"}}, \"paper_bgcolor\": \"#F5F6F9\", \"plot_bgcolor\": \"#F5F6F9\", \"template\": {\"data\": {\"bar\": [{\"error_x\": {\"color\": \"#2a3f5f\"}, \"error_y\": {\"color\": \"#2a3f5f\"}, \"marker\": {\"line\": {\"color\": \"#E5ECF6\", \"width\": 0.5}}, \"type\": \"bar\"}], \"barpolar\": [{\"marker\": {\"line\": {\"color\": \"#E5ECF6\", \"width\": 0.5}}, \"type\": \"barpolar\"}], \"carpet\": [{\"aaxis\": {\"endlinecolor\": \"#2a3f5f\", \"gridcolor\": \"white\", \"linecolor\": \"white\", \"minorgridcolor\": \"white\", \"startlinecolor\": \"#2a3f5f\"}, \"baxis\": {\"endlinecolor\": \"#2a3f5f\", \"gridcolor\": \"white\", \"linecolor\": \"white\", \"minorgridcolor\": \"white\", \"startlinecolor\": \"#2a3f5f\"}, \"type\": \"carpet\"}], \"choropleth\": [{\"colorbar\": {\"outlinewidth\": 0, \"ticks\": \"\"}, \"type\": \"choropleth\"}], \"contour\": [{\"colorbar\": {\"outlinewidth\": 0, \"ticks\": \"\"}, \"colorscale\": [[0.0, \"#0d0887\"], [0.1111111111111111, \"#46039f\"], [0.2222222222222222, \"#7201a8\"], [0.3333333333333333, \"#9c179e\"], [0.4444444444444444, \"#bd3786\"], [0.5555555555555556, \"#d8576b\"], [0.6666666666666666, \"#ed7953\"], [0.7777777777777778, \"#fb9f3a\"], [0.8888888888888888, \"#fdca26\"], [1.0, \"#f0f921\"]], \"type\": \"contour\"}], \"contourcarpet\": [{\"colorbar\": {\"outlinewidth\": 0, \"ticks\": \"\"}, \"type\": \"contourcarpet\"}], \"heatmap\": [{\"colorbar\": {\"outlinewidth\": 0, \"ticks\": \"\"}, \"colorscale\": [[0.0, \"#0d0887\"], [0.1111111111111111, \"#46039f\"], [0.2222222222222222, \"#7201a8\"], [0.3333333333333333, \"#9c179e\"], [0.4444444444444444, \"#bd3786\"], [0.5555555555555556, \"#d8576b\"], [0.6666666666666666, \"#ed7953\"], [0.7777777777777778, \"#fb9f3a\"], [0.8888888888888888, \"#fdca26\"], [1.0, \"#f0f921\"]], \"type\": \"heatmap\"}], \"heatmapgl\": [{\"colorbar\": {\"outlinewidth\": 0, \"ticks\": \"\"}, \"colorscale\": [[0.0, \"#0d0887\"], [0.1111111111111111, \"#46039f\"], [0.2222222222222222, \"#7201a8\"], [0.3333333333333333, \"#9c179e\"], [0.4444444444444444, \"#bd3786\"], [0.5555555555555556, \"#d8576b\"], [0.6666666666666666, \"#ed7953\"], [0.7777777777777778, \"#fb9f3a\"], [0.8888888888888888, \"#fdca26\"], [1.0, \"#f0f921\"]], \"type\": \"heatmapgl\"}], \"histogram\": [{\"marker\": {\"colorbar\": {\"outlinewidth\": 0, \"ticks\": \"\"}}, \"type\": \"histogram\"}], \"histogram2d\": [{\"colorbar\": {\"outlinewidth\": 0, \"ticks\": \"\"}, \"colorscale\": [[0.0, \"#0d0887\"], [0.1111111111111111, \"#46039f\"], [0.2222222222222222, \"#7201a8\"], [0.3333333333333333, \"#9c179e\"], [0.4444444444444444, \"#bd3786\"], [0.5555555555555556, \"#d8576b\"], [0.6666666666666666, \"#ed7953\"], [0.7777777777777778, \"#fb9f3a\"], [0.8888888888888888, \"#fdca26\"], [1.0, \"#f0f921\"]], \"type\": \"histogram2d\"}], \"histogram2dcontour\": [{\"colorbar\": {\"outlinewidth\": 0, \"ticks\": \"\"}, \"colorscale\": [[0.0, \"#0d0887\"], [0.1111111111111111, \"#46039f\"], [0.2222222222222222, \"#7201a8\"], [0.3333333333333333, \"#9c179e\"], [0.4444444444444444, \"#bd3786\"], [0.5555555555555556, \"#d8576b\"], [0.6666666666666666, \"#ed7953\"], [0.7777777777777778, \"#fb9f3a\"], [0.8888888888888888, \"#fdca26\"], [1.0, \"#f0f921\"]], \"type\": \"histogram2dcontour\"}], \"mesh3d\": [{\"colorbar\": {\"outlinewidth\": 0, \"ticks\": \"\"}, \"type\": \"mesh3d\"}], \"parcoords\": [{\"line\": {\"colorbar\": {\"outlinewidth\": 0, \"ticks\": \"\"}}, \"type\": \"parcoords\"}], \"scatter\": [{\"marker\": {\"colorbar\": {\"outlinewidth\": 0, \"ticks\": \"\"}}, \"type\": \"scatter\"}], \"scatter3d\": [{\"line\": {\"colorbar\": {\"outlinewidth\": 0, \"ticks\": \"\"}}, \"marker\": {\"colorbar\": {\"outlinewidth\": 0, \"ticks\": \"\"}}, \"type\": \"scatter3d\"}], \"scattercarpet\": [{\"marker\": {\"colorbar\": {\"outlinewidth\": 0, \"ticks\": \"\"}}, \"type\": \"scattercarpet\"}], \"scattergeo\": [{\"marker\": {\"colorbar\": {\"outlinewidth\": 0, \"ticks\": \"\"}}, \"type\": \"scattergeo\"}], \"scattergl\": [{\"marker\": {\"colorbar\": {\"outlinewidth\": 0, \"ticks\": \"\"}}, \"type\": \"scattergl\"}], \"scattermapbox\": [{\"marker\": {\"colorbar\": {\"outlinewidth\": 0, \"ticks\": \"\"}}, \"type\": \"scattermapbox\"}], \"scatterpolar\": [{\"marker\": {\"colorbar\": {\"outlinewidth\": 0, \"ticks\": \"\"}}, \"type\": \"scatterpolar\"}], \"scatterpolargl\": [{\"marker\": {\"colorbar\": {\"outlinewidth\": 0, \"ticks\": \"\"}}, \"type\": \"scatterpolargl\"}], \"scatterternary\": [{\"marker\": {\"colorbar\": {\"outlinewidth\": 0, \"ticks\": \"\"}}, \"type\": \"scatterternary\"}], \"surface\": [{\"colorbar\": {\"outlinewidth\": 0, \"ticks\": \"\"}, \"colorscale\": [[0.0, \"#0d0887\"], [0.1111111111111111, \"#46039f\"], [0.2222222222222222, \"#7201a8\"], [0.3333333333333333, \"#9c179e\"], [0.4444444444444444, \"#bd3786\"], [0.5555555555555556, \"#d8576b\"], [0.6666666666666666, \"#ed7953\"], [0.7777777777777778, \"#fb9f3a\"], [0.8888888888888888, \"#fdca26\"], [1.0, \"#f0f921\"]], \"type\": \"surface\"}], \"table\": [{\"cells\": {\"fill\": {\"color\": \"#EBF0F8\"}, \"line\": {\"color\": \"white\"}}, \"header\": {\"fill\": {\"color\": \"#C8D4E3\"}, \"line\": {\"color\": \"white\"}}, \"type\": \"table\"}]}, \"layout\": {\"annotationdefaults\": {\"arrowcolor\": \"#2a3f5f\", \"arrowhead\": 0, \"arrowwidth\": 1}, \"colorscale\": {\"diverging\": [[0, \"#8e0152\"], [0.1, \"#c51b7d\"], [0.2, \"#de77ae\"], [0.3, \"#f1b6da\"], [0.4, \"#fde0ef\"], [0.5, \"#f7f7f7\"], [0.6, \"#e6f5d0\"], [0.7, \"#b8e186\"], [0.8, \"#7fbc41\"], [0.9, \"#4d9221\"], [1, \"#276419\"]], \"sequential\": [[0.0, \"#0d0887\"], [0.1111111111111111, \"#46039f\"], [0.2222222222222222, \"#7201a8\"], [0.3333333333333333, \"#9c179e\"], [0.4444444444444444, \"#bd3786\"], [0.5555555555555556, \"#d8576b\"], [0.6666666666666666, \"#ed7953\"], [0.7777777777777778, \"#fb9f3a\"], [0.8888888888888888, \"#fdca26\"], [1.0, \"#f0f921\"]], \"sequentialminus\": [[0.0, \"#0d0887\"], [0.1111111111111111, \"#46039f\"], [0.2222222222222222, \"#7201a8\"], [0.3333333333333333, \"#9c179e\"], [0.4444444444444444, \"#bd3786\"], [0.5555555555555556, \"#d8576b\"], [0.6666666666666666, \"#ed7953\"], [0.7777777777777778, \"#fb9f3a\"], [0.8888888888888888, \"#fdca26\"], [1.0, \"#f0f921\"]]}, \"colorway\": [\"#636efa\", \"#EF553B\", \"#00cc96\", \"#ab63fa\", \"#FFA15A\", \"#19d3f3\", \"#FF6692\", \"#B6E880\", \"#FF97FF\", \"#FECB52\"], \"font\": {\"color\": \"#2a3f5f\"}, \"geo\": {\"bgcolor\": \"white\", \"lakecolor\": \"white\", \"landcolor\": \"#E5ECF6\", \"showlakes\": true, \"showland\": true, \"subunitcolor\": \"white\"}, \"hoverlabel\": {\"align\": \"left\"}, \"hovermode\": \"closest\", \"mapbox\": {\"style\": \"light\"}, \"paper_bgcolor\": \"white\", \"plot_bgcolor\": \"#E5ECF6\", \"polar\": {\"angularaxis\": {\"gridcolor\": \"white\", \"linecolor\": \"white\", \"ticks\": \"\"}, \"bgcolor\": \"#E5ECF6\", \"radialaxis\": {\"gridcolor\": \"white\", \"linecolor\": \"white\", \"ticks\": \"\"}}, \"scene\": {\"xaxis\": {\"backgroundcolor\": \"#E5ECF6\", \"gridcolor\": \"white\", \"gridwidth\": 2, \"linecolor\": \"white\", \"showbackground\": true, \"ticks\": \"\", \"zerolinecolor\": \"white\"}, \"yaxis\": {\"backgroundcolor\": \"#E5ECF6\", \"gridcolor\": \"white\", \"gridwidth\": 2, \"linecolor\": \"white\", \"showbackground\": true, \"ticks\": \"\", \"zerolinecolor\": \"white\"}, \"zaxis\": {\"backgroundcolor\": \"#E5ECF6\", \"gridcolor\": \"white\", \"gridwidth\": 2, \"linecolor\": \"white\", \"showbackground\": true, \"ticks\": \"\", \"zerolinecolor\": \"white\"}}, \"shapedefaults\": {\"line\": {\"color\": \"#2a3f5f\"}}, \"ternary\": {\"aaxis\": {\"gridcolor\": \"white\", \"linecolor\": \"white\", \"ticks\": \"\"}, \"baxis\": {\"gridcolor\": \"white\", \"linecolor\": \"white\", \"ticks\": \"\"}, \"bgcolor\": \"#E5ECF6\", \"caxis\": {\"gridcolor\": \"white\", \"linecolor\": \"white\", \"ticks\": \"\"}}, \"title\": {\"x\": 0.05}, \"xaxis\": {\"automargin\": true, \"gridcolor\": \"white\", \"linecolor\": \"white\", \"ticks\": \"\", \"zerolinecolor\": \"white\", \"zerolinewidth\": 2}, \"yaxis\": {\"automargin\": true, \"gridcolor\": \"white\", \"linecolor\": \"white\", \"ticks\": \"\", \"zerolinecolor\": \"white\", \"zerolinewidth\": 2}}}, \"title\": {\"font\": {\"color\": \"#4D5663\"}}, \"xaxis\": {\"gridcolor\": \"#E1E5ED\", \"showgrid\": true, \"tickfont\": {\"color\": \"#4D5663\"}, \"title\": {\"font\": {\"color\": \"#4D5663\"}, \"text\": \"\"}, \"zerolinecolor\": \"#E1E5ED\"}, \"yaxis\": {\"gridcolor\": \"#E1E5ED\", \"showgrid\": true, \"tickfont\": {\"color\": \"#4D5663\"}, \"title\": {\"font\": {\"color\": \"#4D5663\"}, \"text\": \"\"}, \"zerolinecolor\": \"#E1E5ED\"}},\n",
       "                        {\"showLink\": true, \"linkText\": \"Export to plot.ly\", \"plotlyServerURL\": \"https://plot.ly\", \"responsive\": true}\n",
       "                    ).then(function(){\n",
       "                            \n",
       "var gd = document.getElementById('5102f410-9ded-4c69-b5b7-e8ade4418b19');\n",
       "var x = new MutationObserver(function (mutations, observer) {{\n",
       "        var display = window.getComputedStyle(gd).display;\n",
       "        if (!display || display === 'none') {{\n",
       "            console.log([gd, 'removed!']);\n",
       "            Plotly.purge(gd);\n",
       "            observer.disconnect();\n",
       "        }}\n",
       "}});\n",
       "\n",
       "// Listen for the removal of the full notebook cells\n",
       "var notebookContainer = gd.closest('#notebook-container');\n",
       "if (notebookContainer) {{\n",
       "    x.observe(notebookContainer, {childList: true});\n",
       "}}\n",
       "\n",
       "// Listen for the clearing of the current output cell\n",
       "var outputEl = gd.closest('.output');\n",
       "if (outputEl) {{\n",
       "    x.observe(outputEl, {childList: true});\n",
       "}}\n",
       "\n",
       "                        })\n",
       "                };\n",
       "                });\n",
       "            </script>\n",
       "        </div>"
      ]
     },
     "metadata": {},
     "output_type": "display_data"
    }
   ],
   "source": [
    "## Ex.4 Boxplots \n",
    "\n",
    "## We can us df directly -> Boxplots will automatically do the aggregation for the distribution \n",
    "\n",
    "df.iplot(kind = 'box')"
   ]
  },
  {
   "cell_type": "code",
   "execution_count": 18,
   "metadata": {},
   "outputs": [],
   "source": [
    "## Ex.5 3D Surfaces plots \n",
    "\n",
    "df3 = pd.DataFrame({'x':[1,2,3,4,5], 'y':[10,20,30,20,10], 'z':[5,4,3,2,1]})"
   ]
  },
  {
   "cell_type": "code",
   "execution_count": 19,
   "metadata": {},
   "outputs": [
    {
     "data": {
      "text/html": [
       "<div>\n",
       "<style scoped>\n",
       "    .dataframe tbody tr th:only-of-type {\n",
       "        vertical-align: middle;\n",
       "    }\n",
       "\n",
       "    .dataframe tbody tr th {\n",
       "        vertical-align: top;\n",
       "    }\n",
       "\n",
       "    .dataframe thead th {\n",
       "        text-align: right;\n",
       "    }\n",
       "</style>\n",
       "<table border=\"1\" class=\"dataframe\">\n",
       "  <thead>\n",
       "    <tr style=\"text-align: right;\">\n",
       "      <th></th>\n",
       "      <th>x</th>\n",
       "      <th>y</th>\n",
       "      <th>z</th>\n",
       "    </tr>\n",
       "  </thead>\n",
       "  <tbody>\n",
       "    <tr>\n",
       "      <td>0</td>\n",
       "      <td>1</td>\n",
       "      <td>10</td>\n",
       "      <td>5</td>\n",
       "    </tr>\n",
       "    <tr>\n",
       "      <td>1</td>\n",
       "      <td>2</td>\n",
       "      <td>20</td>\n",
       "      <td>4</td>\n",
       "    </tr>\n",
       "    <tr>\n",
       "      <td>2</td>\n",
       "      <td>3</td>\n",
       "      <td>30</td>\n",
       "      <td>3</td>\n",
       "    </tr>\n",
       "    <tr>\n",
       "      <td>3</td>\n",
       "      <td>4</td>\n",
       "      <td>20</td>\n",
       "      <td>2</td>\n",
       "    </tr>\n",
       "    <tr>\n",
       "      <td>4</td>\n",
       "      <td>5</td>\n",
       "      <td>10</td>\n",
       "      <td>1</td>\n",
       "    </tr>\n",
       "  </tbody>\n",
       "</table>\n",
       "</div>"
      ],
      "text/plain": [
       "   x   y  z\n",
       "0  1  10  5\n",
       "1  2  20  4\n",
       "2  3  30  3\n",
       "3  4  20  2\n",
       "4  5  10  1"
      ]
     },
     "execution_count": 19,
     "metadata": {},
     "output_type": "execute_result"
    }
   ],
   "source": [
    "df3"
   ]
  },
  {
   "cell_type": "code",
   "execution_count": 20,
   "metadata": {
    "scrolled": false
   },
   "outputs": [
    {
     "data": {
      "application/vnd.plotly.v1+json": {
       "config": {
        "linkText": "Export to plot.ly",
        "plotlyServerURL": "https://plot.ly",
        "showLink": true
       },
       "data": [
        {
         "colorscale": [
          [
           0,
           "rgb(165,0,38)"
          ],
          [
           0.1,
           "rgb(215,48,39)"
          ],
          [
           0.2,
           "rgb(244,109,67)"
          ],
          [
           0.3,
           "rgb(253,174,97)"
          ],
          [
           0.4,
           "rgb(254,224,144)"
          ],
          [
           0.5,
           "rgb(255,255,191)"
          ],
          [
           0.6,
           "rgb(224,243,248)"
          ],
          [
           0.7,
           "rgb(171,217,233)"
          ],
          [
           0.8,
           "rgb(116,173,209)"
          ],
          [
           0.9,
           "rgb(69,117,180)"
          ],
          [
           1,
           "rgb(49,54,149)"
          ]
         ],
         "type": "surface",
         "x": [
          0,
          1,
          2,
          3,
          4
         ],
         "y": [
          "x",
          "y",
          "z"
         ],
         "z": [
          [
           1,
           2,
           3,
           4,
           5
          ],
          [
           10,
           20,
           30,
           20,
           10
          ],
          [
           5,
           4,
           3,
           2,
           1
          ]
         ]
        }
       ],
       "layout": {
        "legend": {
         "bgcolor": "#F5F6F9",
         "font": {
          "color": "#4D5663"
         }
        },
        "paper_bgcolor": "#F5F6F9",
        "plot_bgcolor": "#F5F6F9",
        "template": {
         "data": {
          "bar": [
           {
            "error_x": {
             "color": "#2a3f5f"
            },
            "error_y": {
             "color": "#2a3f5f"
            },
            "marker": {
             "line": {
              "color": "#E5ECF6",
              "width": 0.5
             }
            },
            "type": "bar"
           }
          ],
          "barpolar": [
           {
            "marker": {
             "line": {
              "color": "#E5ECF6",
              "width": 0.5
             }
            },
            "type": "barpolar"
           }
          ],
          "carpet": [
           {
            "aaxis": {
             "endlinecolor": "#2a3f5f",
             "gridcolor": "white",
             "linecolor": "white",
             "minorgridcolor": "white",
             "startlinecolor": "#2a3f5f"
            },
            "baxis": {
             "endlinecolor": "#2a3f5f",
             "gridcolor": "white",
             "linecolor": "white",
             "minorgridcolor": "white",
             "startlinecolor": "#2a3f5f"
            },
            "type": "carpet"
           }
          ],
          "choropleth": [
           {
            "colorbar": {
             "outlinewidth": 0,
             "ticks": ""
            },
            "type": "choropleth"
           }
          ],
          "contour": [
           {
            "colorbar": {
             "outlinewidth": 0,
             "ticks": ""
            },
            "colorscale": [
             [
              0,
              "#0d0887"
             ],
             [
              0.1111111111111111,
              "#46039f"
             ],
             [
              0.2222222222222222,
              "#7201a8"
             ],
             [
              0.3333333333333333,
              "#9c179e"
             ],
             [
              0.4444444444444444,
              "#bd3786"
             ],
             [
              0.5555555555555556,
              "#d8576b"
             ],
             [
              0.6666666666666666,
              "#ed7953"
             ],
             [
              0.7777777777777778,
              "#fb9f3a"
             ],
             [
              0.8888888888888888,
              "#fdca26"
             ],
             [
              1,
              "#f0f921"
             ]
            ],
            "type": "contour"
           }
          ],
          "contourcarpet": [
           {
            "colorbar": {
             "outlinewidth": 0,
             "ticks": ""
            },
            "type": "contourcarpet"
           }
          ],
          "heatmap": [
           {
            "colorbar": {
             "outlinewidth": 0,
             "ticks": ""
            },
            "colorscale": [
             [
              0,
              "#0d0887"
             ],
             [
              0.1111111111111111,
              "#46039f"
             ],
             [
              0.2222222222222222,
              "#7201a8"
             ],
             [
              0.3333333333333333,
              "#9c179e"
             ],
             [
              0.4444444444444444,
              "#bd3786"
             ],
             [
              0.5555555555555556,
              "#d8576b"
             ],
             [
              0.6666666666666666,
              "#ed7953"
             ],
             [
              0.7777777777777778,
              "#fb9f3a"
             ],
             [
              0.8888888888888888,
              "#fdca26"
             ],
             [
              1,
              "#f0f921"
             ]
            ],
            "type": "heatmap"
           }
          ],
          "heatmapgl": [
           {
            "colorbar": {
             "outlinewidth": 0,
             "ticks": ""
            },
            "colorscale": [
             [
              0,
              "#0d0887"
             ],
             [
              0.1111111111111111,
              "#46039f"
             ],
             [
              0.2222222222222222,
              "#7201a8"
             ],
             [
              0.3333333333333333,
              "#9c179e"
             ],
             [
              0.4444444444444444,
              "#bd3786"
             ],
             [
              0.5555555555555556,
              "#d8576b"
             ],
             [
              0.6666666666666666,
              "#ed7953"
             ],
             [
              0.7777777777777778,
              "#fb9f3a"
             ],
             [
              0.8888888888888888,
              "#fdca26"
             ],
             [
              1,
              "#f0f921"
             ]
            ],
            "type": "heatmapgl"
           }
          ],
          "histogram": [
           {
            "marker": {
             "colorbar": {
              "outlinewidth": 0,
              "ticks": ""
             }
            },
            "type": "histogram"
           }
          ],
          "histogram2d": [
           {
            "colorbar": {
             "outlinewidth": 0,
             "ticks": ""
            },
            "colorscale": [
             [
              0,
              "#0d0887"
             ],
             [
              0.1111111111111111,
              "#46039f"
             ],
             [
              0.2222222222222222,
              "#7201a8"
             ],
             [
              0.3333333333333333,
              "#9c179e"
             ],
             [
              0.4444444444444444,
              "#bd3786"
             ],
             [
              0.5555555555555556,
              "#d8576b"
             ],
             [
              0.6666666666666666,
              "#ed7953"
             ],
             [
              0.7777777777777778,
              "#fb9f3a"
             ],
             [
              0.8888888888888888,
              "#fdca26"
             ],
             [
              1,
              "#f0f921"
             ]
            ],
            "type": "histogram2d"
           }
          ],
          "histogram2dcontour": [
           {
            "colorbar": {
             "outlinewidth": 0,
             "ticks": ""
            },
            "colorscale": [
             [
              0,
              "#0d0887"
             ],
             [
              0.1111111111111111,
              "#46039f"
             ],
             [
              0.2222222222222222,
              "#7201a8"
             ],
             [
              0.3333333333333333,
              "#9c179e"
             ],
             [
              0.4444444444444444,
              "#bd3786"
             ],
             [
              0.5555555555555556,
              "#d8576b"
             ],
             [
              0.6666666666666666,
              "#ed7953"
             ],
             [
              0.7777777777777778,
              "#fb9f3a"
             ],
             [
              0.8888888888888888,
              "#fdca26"
             ],
             [
              1,
              "#f0f921"
             ]
            ],
            "type": "histogram2dcontour"
           }
          ],
          "mesh3d": [
           {
            "colorbar": {
             "outlinewidth": 0,
             "ticks": ""
            },
            "type": "mesh3d"
           }
          ],
          "parcoords": [
           {
            "line": {
             "colorbar": {
              "outlinewidth": 0,
              "ticks": ""
             }
            },
            "type": "parcoords"
           }
          ],
          "scatter": [
           {
            "marker": {
             "colorbar": {
              "outlinewidth": 0,
              "ticks": ""
             }
            },
            "type": "scatter"
           }
          ],
          "scatter3d": [
           {
            "line": {
             "colorbar": {
              "outlinewidth": 0,
              "ticks": ""
             }
            },
            "marker": {
             "colorbar": {
              "outlinewidth": 0,
              "ticks": ""
             }
            },
            "type": "scatter3d"
           }
          ],
          "scattercarpet": [
           {
            "marker": {
             "colorbar": {
              "outlinewidth": 0,
              "ticks": ""
             }
            },
            "type": "scattercarpet"
           }
          ],
          "scattergeo": [
           {
            "marker": {
             "colorbar": {
              "outlinewidth": 0,
              "ticks": ""
             }
            },
            "type": "scattergeo"
           }
          ],
          "scattergl": [
           {
            "marker": {
             "colorbar": {
              "outlinewidth": 0,
              "ticks": ""
             }
            },
            "type": "scattergl"
           }
          ],
          "scattermapbox": [
           {
            "marker": {
             "colorbar": {
              "outlinewidth": 0,
              "ticks": ""
             }
            },
            "type": "scattermapbox"
           }
          ],
          "scatterpolar": [
           {
            "marker": {
             "colorbar": {
              "outlinewidth": 0,
              "ticks": ""
             }
            },
            "type": "scatterpolar"
           }
          ],
          "scatterpolargl": [
           {
            "marker": {
             "colorbar": {
              "outlinewidth": 0,
              "ticks": ""
             }
            },
            "type": "scatterpolargl"
           }
          ],
          "scatterternary": [
           {
            "marker": {
             "colorbar": {
              "outlinewidth": 0,
              "ticks": ""
             }
            },
            "type": "scatterternary"
           }
          ],
          "surface": [
           {
            "colorbar": {
             "outlinewidth": 0,
             "ticks": ""
            },
            "colorscale": [
             [
              0,
              "#0d0887"
             ],
             [
              0.1111111111111111,
              "#46039f"
             ],
             [
              0.2222222222222222,
              "#7201a8"
             ],
             [
              0.3333333333333333,
              "#9c179e"
             ],
             [
              0.4444444444444444,
              "#bd3786"
             ],
             [
              0.5555555555555556,
              "#d8576b"
             ],
             [
              0.6666666666666666,
              "#ed7953"
             ],
             [
              0.7777777777777778,
              "#fb9f3a"
             ],
             [
              0.8888888888888888,
              "#fdca26"
             ],
             [
              1,
              "#f0f921"
             ]
            ],
            "type": "surface"
           }
          ],
          "table": [
           {
            "cells": {
             "fill": {
              "color": "#EBF0F8"
             },
             "line": {
              "color": "white"
             }
            },
            "header": {
             "fill": {
              "color": "#C8D4E3"
             },
             "line": {
              "color": "white"
             }
            },
            "type": "table"
           }
          ]
         },
         "layout": {
          "annotationdefaults": {
           "arrowcolor": "#2a3f5f",
           "arrowhead": 0,
           "arrowwidth": 1
          },
          "colorscale": {
           "diverging": [
            [
             0,
             "#8e0152"
            ],
            [
             0.1,
             "#c51b7d"
            ],
            [
             0.2,
             "#de77ae"
            ],
            [
             0.3,
             "#f1b6da"
            ],
            [
             0.4,
             "#fde0ef"
            ],
            [
             0.5,
             "#f7f7f7"
            ],
            [
             0.6,
             "#e6f5d0"
            ],
            [
             0.7,
             "#b8e186"
            ],
            [
             0.8,
             "#7fbc41"
            ],
            [
             0.9,
             "#4d9221"
            ],
            [
             1,
             "#276419"
            ]
           ],
           "sequential": [
            [
             0,
             "#0d0887"
            ],
            [
             0.1111111111111111,
             "#46039f"
            ],
            [
             0.2222222222222222,
             "#7201a8"
            ],
            [
             0.3333333333333333,
             "#9c179e"
            ],
            [
             0.4444444444444444,
             "#bd3786"
            ],
            [
             0.5555555555555556,
             "#d8576b"
            ],
            [
             0.6666666666666666,
             "#ed7953"
            ],
            [
             0.7777777777777778,
             "#fb9f3a"
            ],
            [
             0.8888888888888888,
             "#fdca26"
            ],
            [
             1,
             "#f0f921"
            ]
           ],
           "sequentialminus": [
            [
             0,
             "#0d0887"
            ],
            [
             0.1111111111111111,
             "#46039f"
            ],
            [
             0.2222222222222222,
             "#7201a8"
            ],
            [
             0.3333333333333333,
             "#9c179e"
            ],
            [
             0.4444444444444444,
             "#bd3786"
            ],
            [
             0.5555555555555556,
             "#d8576b"
            ],
            [
             0.6666666666666666,
             "#ed7953"
            ],
            [
             0.7777777777777778,
             "#fb9f3a"
            ],
            [
             0.8888888888888888,
             "#fdca26"
            ],
            [
             1,
             "#f0f921"
            ]
           ]
          },
          "colorway": [
           "#636efa",
           "#EF553B",
           "#00cc96",
           "#ab63fa",
           "#FFA15A",
           "#19d3f3",
           "#FF6692",
           "#B6E880",
           "#FF97FF",
           "#FECB52"
          ],
          "font": {
           "color": "#2a3f5f"
          },
          "geo": {
           "bgcolor": "white",
           "lakecolor": "white",
           "landcolor": "#E5ECF6",
           "showlakes": true,
           "showland": true,
           "subunitcolor": "white"
          },
          "hoverlabel": {
           "align": "left"
          },
          "hovermode": "closest",
          "mapbox": {
           "style": "light"
          },
          "paper_bgcolor": "white",
          "plot_bgcolor": "#E5ECF6",
          "polar": {
           "angularaxis": {
            "gridcolor": "white",
            "linecolor": "white",
            "ticks": ""
           },
           "bgcolor": "#E5ECF6",
           "radialaxis": {
            "gridcolor": "white",
            "linecolor": "white",
            "ticks": ""
           }
          },
          "scene": {
           "xaxis": {
            "backgroundcolor": "#E5ECF6",
            "gridcolor": "white",
            "gridwidth": 2,
            "linecolor": "white",
            "showbackground": true,
            "ticks": "",
            "zerolinecolor": "white"
           },
           "yaxis": {
            "backgroundcolor": "#E5ECF6",
            "gridcolor": "white",
            "gridwidth": 2,
            "linecolor": "white",
            "showbackground": true,
            "ticks": "",
            "zerolinecolor": "white"
           },
           "zaxis": {
            "backgroundcolor": "#E5ECF6",
            "gridcolor": "white",
            "gridwidth": 2,
            "linecolor": "white",
            "showbackground": true,
            "ticks": "",
            "zerolinecolor": "white"
           }
          },
          "shapedefaults": {
           "line": {
            "color": "#2a3f5f"
           }
          },
          "ternary": {
           "aaxis": {
            "gridcolor": "white",
            "linecolor": "white",
            "ticks": ""
           },
           "baxis": {
            "gridcolor": "white",
            "linecolor": "white",
            "ticks": ""
           },
           "bgcolor": "#E5ECF6",
           "caxis": {
            "gridcolor": "white",
            "linecolor": "white",
            "ticks": ""
           }
          },
          "title": {
           "x": 0.05
          },
          "xaxis": {
           "automargin": true,
           "gridcolor": "white",
           "linecolor": "white",
           "ticks": "",
           "zerolinecolor": "white",
           "zerolinewidth": 2
          },
          "yaxis": {
           "automargin": true,
           "gridcolor": "white",
           "linecolor": "white",
           "ticks": "",
           "zerolinecolor": "white",
           "zerolinewidth": 2
          }
         }
        },
        "title": {
         "font": {
          "color": "#4D5663"
         }
        },
        "xaxis": {
         "gridcolor": "#E1E5ED",
         "showgrid": true,
         "tickfont": {
          "color": "#4D5663"
         },
         "title": {
          "font": {
           "color": "#4D5663"
          },
          "text": ""
         },
         "zerolinecolor": "#E1E5ED"
        },
        "yaxis": {
         "gridcolor": "#E1E5ED",
         "showgrid": true,
         "tickfont": {
          "color": "#4D5663"
         },
         "title": {
          "font": {
           "color": "#4D5663"
          },
          "text": ""
         },
         "zerolinecolor": "#E1E5ED"
        }
       }
      },
      "text/html": [
       "<div>\n",
       "        \n",
       "        \n",
       "            <div id=\"09273a9f-f70b-4d3c-b8cc-97f17d613ada\" class=\"plotly-graph-div\" style=\"height:525px; width:100%;\"></div>\n",
       "            <script type=\"text/javascript\">\n",
       "                require([\"plotly\"], function(Plotly) {\n",
       "                    window.PLOTLYENV=window.PLOTLYENV || {};\n",
       "                    window.PLOTLYENV.BASE_URL='https://plot.ly';\n",
       "                    \n",
       "                if (document.getElementById(\"09273a9f-f70b-4d3c-b8cc-97f17d613ada\")) {\n",
       "                    Plotly.newPlot(\n",
       "                        '09273a9f-f70b-4d3c-b8cc-97f17d613ada',\n",
       "                        [{\"colorscale\": [[0.0, \"rgb(165,0,38)\"], [0.1, \"rgb(215,48,39)\"], [0.2, \"rgb(244,109,67)\"], [0.3, \"rgb(253,174,97)\"], [0.4, \"rgb(254,224,144)\"], [0.5, \"rgb(255,255,191)\"], [0.6, \"rgb(224,243,248)\"], [0.7, \"rgb(171,217,233)\"], [0.8, \"rgb(116,173,209)\"], [0.9, \"rgb(69,117,180)\"], [1.0, \"rgb(49,54,149)\"]], \"type\": \"surface\", \"x\": [0, 1, 2, 3, 4], \"y\": [\"x\", \"y\", \"z\"], \"z\": [[1, 2, 3, 4, 5], [10, 20, 30, 20, 10], [5, 4, 3, 2, 1]]}],\n",
       "                        {\"legend\": {\"bgcolor\": \"#F5F6F9\", \"font\": {\"color\": \"#4D5663\"}}, \"paper_bgcolor\": \"#F5F6F9\", \"plot_bgcolor\": \"#F5F6F9\", \"template\": {\"data\": {\"bar\": [{\"error_x\": {\"color\": \"#2a3f5f\"}, \"error_y\": {\"color\": \"#2a3f5f\"}, \"marker\": {\"line\": {\"color\": \"#E5ECF6\", \"width\": 0.5}}, \"type\": \"bar\"}], \"barpolar\": [{\"marker\": {\"line\": {\"color\": \"#E5ECF6\", \"width\": 0.5}}, \"type\": \"barpolar\"}], \"carpet\": [{\"aaxis\": {\"endlinecolor\": \"#2a3f5f\", \"gridcolor\": \"white\", \"linecolor\": \"white\", \"minorgridcolor\": \"white\", \"startlinecolor\": \"#2a3f5f\"}, \"baxis\": {\"endlinecolor\": \"#2a3f5f\", \"gridcolor\": \"white\", \"linecolor\": \"white\", \"minorgridcolor\": \"white\", \"startlinecolor\": \"#2a3f5f\"}, \"type\": \"carpet\"}], \"choropleth\": [{\"colorbar\": {\"outlinewidth\": 0, \"ticks\": \"\"}, \"type\": \"choropleth\"}], \"contour\": [{\"colorbar\": {\"outlinewidth\": 0, \"ticks\": \"\"}, \"colorscale\": [[0.0, \"#0d0887\"], [0.1111111111111111, \"#46039f\"], [0.2222222222222222, \"#7201a8\"], [0.3333333333333333, \"#9c179e\"], [0.4444444444444444, \"#bd3786\"], [0.5555555555555556, \"#d8576b\"], [0.6666666666666666, \"#ed7953\"], [0.7777777777777778, \"#fb9f3a\"], [0.8888888888888888, \"#fdca26\"], [1.0, \"#f0f921\"]], \"type\": \"contour\"}], \"contourcarpet\": [{\"colorbar\": {\"outlinewidth\": 0, \"ticks\": \"\"}, \"type\": \"contourcarpet\"}], \"heatmap\": [{\"colorbar\": {\"outlinewidth\": 0, \"ticks\": \"\"}, \"colorscale\": [[0.0, \"#0d0887\"], [0.1111111111111111, \"#46039f\"], [0.2222222222222222, \"#7201a8\"], [0.3333333333333333, \"#9c179e\"], [0.4444444444444444, \"#bd3786\"], [0.5555555555555556, \"#d8576b\"], [0.6666666666666666, \"#ed7953\"], [0.7777777777777778, \"#fb9f3a\"], [0.8888888888888888, \"#fdca26\"], [1.0, \"#f0f921\"]], \"type\": \"heatmap\"}], \"heatmapgl\": [{\"colorbar\": {\"outlinewidth\": 0, \"ticks\": \"\"}, \"colorscale\": [[0.0, \"#0d0887\"], [0.1111111111111111, \"#46039f\"], [0.2222222222222222, \"#7201a8\"], [0.3333333333333333, \"#9c179e\"], [0.4444444444444444, \"#bd3786\"], [0.5555555555555556, \"#d8576b\"], [0.6666666666666666, \"#ed7953\"], [0.7777777777777778, \"#fb9f3a\"], [0.8888888888888888, \"#fdca26\"], [1.0, \"#f0f921\"]], \"type\": \"heatmapgl\"}], \"histogram\": [{\"marker\": {\"colorbar\": {\"outlinewidth\": 0, \"ticks\": \"\"}}, \"type\": \"histogram\"}], \"histogram2d\": [{\"colorbar\": {\"outlinewidth\": 0, \"ticks\": \"\"}, \"colorscale\": [[0.0, \"#0d0887\"], [0.1111111111111111, \"#46039f\"], [0.2222222222222222, \"#7201a8\"], [0.3333333333333333, \"#9c179e\"], [0.4444444444444444, \"#bd3786\"], [0.5555555555555556, \"#d8576b\"], [0.6666666666666666, \"#ed7953\"], [0.7777777777777778, \"#fb9f3a\"], [0.8888888888888888, \"#fdca26\"], [1.0, \"#f0f921\"]], \"type\": \"histogram2d\"}], \"histogram2dcontour\": [{\"colorbar\": {\"outlinewidth\": 0, \"ticks\": \"\"}, \"colorscale\": [[0.0, \"#0d0887\"], [0.1111111111111111, \"#46039f\"], [0.2222222222222222, \"#7201a8\"], [0.3333333333333333, \"#9c179e\"], [0.4444444444444444, \"#bd3786\"], [0.5555555555555556, \"#d8576b\"], [0.6666666666666666, \"#ed7953\"], [0.7777777777777778, \"#fb9f3a\"], [0.8888888888888888, \"#fdca26\"], [1.0, \"#f0f921\"]], \"type\": \"histogram2dcontour\"}], \"mesh3d\": [{\"colorbar\": {\"outlinewidth\": 0, \"ticks\": \"\"}, \"type\": \"mesh3d\"}], \"parcoords\": [{\"line\": {\"colorbar\": {\"outlinewidth\": 0, \"ticks\": \"\"}}, \"type\": \"parcoords\"}], \"scatter\": [{\"marker\": {\"colorbar\": {\"outlinewidth\": 0, \"ticks\": \"\"}}, \"type\": \"scatter\"}], \"scatter3d\": [{\"line\": {\"colorbar\": {\"outlinewidth\": 0, \"ticks\": \"\"}}, \"marker\": {\"colorbar\": {\"outlinewidth\": 0, \"ticks\": \"\"}}, \"type\": \"scatter3d\"}], \"scattercarpet\": [{\"marker\": {\"colorbar\": {\"outlinewidth\": 0, \"ticks\": \"\"}}, \"type\": \"scattercarpet\"}], \"scattergeo\": [{\"marker\": {\"colorbar\": {\"outlinewidth\": 0, \"ticks\": \"\"}}, \"type\": \"scattergeo\"}], \"scattergl\": [{\"marker\": {\"colorbar\": {\"outlinewidth\": 0, \"ticks\": \"\"}}, \"type\": \"scattergl\"}], \"scattermapbox\": [{\"marker\": {\"colorbar\": {\"outlinewidth\": 0, \"ticks\": \"\"}}, \"type\": \"scattermapbox\"}], \"scatterpolar\": [{\"marker\": {\"colorbar\": {\"outlinewidth\": 0, \"ticks\": \"\"}}, \"type\": \"scatterpolar\"}], \"scatterpolargl\": [{\"marker\": {\"colorbar\": {\"outlinewidth\": 0, \"ticks\": \"\"}}, \"type\": \"scatterpolargl\"}], \"scatterternary\": [{\"marker\": {\"colorbar\": {\"outlinewidth\": 0, \"ticks\": \"\"}}, \"type\": \"scatterternary\"}], \"surface\": [{\"colorbar\": {\"outlinewidth\": 0, \"ticks\": \"\"}, \"colorscale\": [[0.0, \"#0d0887\"], [0.1111111111111111, \"#46039f\"], [0.2222222222222222, \"#7201a8\"], [0.3333333333333333, \"#9c179e\"], [0.4444444444444444, \"#bd3786\"], [0.5555555555555556, \"#d8576b\"], [0.6666666666666666, \"#ed7953\"], [0.7777777777777778, \"#fb9f3a\"], [0.8888888888888888, \"#fdca26\"], [1.0, \"#f0f921\"]], \"type\": \"surface\"}], \"table\": [{\"cells\": {\"fill\": {\"color\": \"#EBF0F8\"}, \"line\": {\"color\": \"white\"}}, \"header\": {\"fill\": {\"color\": \"#C8D4E3\"}, \"line\": {\"color\": \"white\"}}, \"type\": \"table\"}]}, \"layout\": {\"annotationdefaults\": {\"arrowcolor\": \"#2a3f5f\", \"arrowhead\": 0, \"arrowwidth\": 1}, \"colorscale\": {\"diverging\": [[0, \"#8e0152\"], [0.1, \"#c51b7d\"], [0.2, \"#de77ae\"], [0.3, \"#f1b6da\"], [0.4, \"#fde0ef\"], [0.5, \"#f7f7f7\"], [0.6, \"#e6f5d0\"], [0.7, \"#b8e186\"], [0.8, \"#7fbc41\"], [0.9, \"#4d9221\"], [1, \"#276419\"]], \"sequential\": [[0.0, \"#0d0887\"], [0.1111111111111111, \"#46039f\"], [0.2222222222222222, \"#7201a8\"], [0.3333333333333333, \"#9c179e\"], [0.4444444444444444, \"#bd3786\"], [0.5555555555555556, \"#d8576b\"], [0.6666666666666666, \"#ed7953\"], [0.7777777777777778, \"#fb9f3a\"], [0.8888888888888888, \"#fdca26\"], [1.0, \"#f0f921\"]], \"sequentialminus\": [[0.0, \"#0d0887\"], [0.1111111111111111, \"#46039f\"], [0.2222222222222222, \"#7201a8\"], [0.3333333333333333, \"#9c179e\"], [0.4444444444444444, \"#bd3786\"], [0.5555555555555556, \"#d8576b\"], [0.6666666666666666, \"#ed7953\"], [0.7777777777777778, \"#fb9f3a\"], [0.8888888888888888, \"#fdca26\"], [1.0, \"#f0f921\"]]}, \"colorway\": [\"#636efa\", \"#EF553B\", \"#00cc96\", \"#ab63fa\", \"#FFA15A\", \"#19d3f3\", \"#FF6692\", \"#B6E880\", \"#FF97FF\", \"#FECB52\"], \"font\": {\"color\": \"#2a3f5f\"}, \"geo\": {\"bgcolor\": \"white\", \"lakecolor\": \"white\", \"landcolor\": \"#E5ECF6\", \"showlakes\": true, \"showland\": true, \"subunitcolor\": \"white\"}, \"hoverlabel\": {\"align\": \"left\"}, \"hovermode\": \"closest\", \"mapbox\": {\"style\": \"light\"}, \"paper_bgcolor\": \"white\", \"plot_bgcolor\": \"#E5ECF6\", \"polar\": {\"angularaxis\": {\"gridcolor\": \"white\", \"linecolor\": \"white\", \"ticks\": \"\"}, \"bgcolor\": \"#E5ECF6\", \"radialaxis\": {\"gridcolor\": \"white\", \"linecolor\": \"white\", \"ticks\": \"\"}}, \"scene\": {\"xaxis\": {\"backgroundcolor\": \"#E5ECF6\", \"gridcolor\": \"white\", \"gridwidth\": 2, \"linecolor\": \"white\", \"showbackground\": true, \"ticks\": \"\", \"zerolinecolor\": \"white\"}, \"yaxis\": {\"backgroundcolor\": \"#E5ECF6\", \"gridcolor\": \"white\", \"gridwidth\": 2, \"linecolor\": \"white\", \"showbackground\": true, \"ticks\": \"\", \"zerolinecolor\": \"white\"}, \"zaxis\": {\"backgroundcolor\": \"#E5ECF6\", \"gridcolor\": \"white\", \"gridwidth\": 2, \"linecolor\": \"white\", \"showbackground\": true, \"ticks\": \"\", \"zerolinecolor\": \"white\"}}, \"shapedefaults\": {\"line\": {\"color\": \"#2a3f5f\"}}, \"ternary\": {\"aaxis\": {\"gridcolor\": \"white\", \"linecolor\": \"white\", \"ticks\": \"\"}, \"baxis\": {\"gridcolor\": \"white\", \"linecolor\": \"white\", \"ticks\": \"\"}, \"bgcolor\": \"#E5ECF6\", \"caxis\": {\"gridcolor\": \"white\", \"linecolor\": \"white\", \"ticks\": \"\"}}, \"title\": {\"x\": 0.05}, \"xaxis\": {\"automargin\": true, \"gridcolor\": \"white\", \"linecolor\": \"white\", \"ticks\": \"\", \"zerolinecolor\": \"white\", \"zerolinewidth\": 2}, \"yaxis\": {\"automargin\": true, \"gridcolor\": \"white\", \"linecolor\": \"white\", \"ticks\": \"\", \"zerolinecolor\": \"white\", \"zerolinewidth\": 2}}}, \"title\": {\"font\": {\"color\": \"#4D5663\"}}, \"xaxis\": {\"gridcolor\": \"#E1E5ED\", \"showgrid\": true, \"tickfont\": {\"color\": \"#4D5663\"}, \"title\": {\"font\": {\"color\": \"#4D5663\"}, \"text\": \"\"}, \"zerolinecolor\": \"#E1E5ED\"}, \"yaxis\": {\"gridcolor\": \"#E1E5ED\", \"showgrid\": true, \"tickfont\": {\"color\": \"#4D5663\"}, \"title\": {\"font\": {\"color\": \"#4D5663\"}, \"text\": \"\"}, \"zerolinecolor\": \"#E1E5ED\"}},\n",
       "                        {\"showLink\": true, \"linkText\": \"Export to plot.ly\", \"plotlyServerURL\": \"https://plot.ly\", \"responsive\": true}\n",
       "                    ).then(function(){\n",
       "                            \n",
       "var gd = document.getElementById('09273a9f-f70b-4d3c-b8cc-97f17d613ada');\n",
       "var x = new MutationObserver(function (mutations, observer) {{\n",
       "        var display = window.getComputedStyle(gd).display;\n",
       "        if (!display || display === 'none') {{\n",
       "            console.log([gd, 'removed!']);\n",
       "            Plotly.purge(gd);\n",
       "            observer.disconnect();\n",
       "        }}\n",
       "}});\n",
       "\n",
       "// Listen for the removal of the full notebook cells\n",
       "var notebookContainer = gd.closest('#notebook-container');\n",
       "if (notebookContainer) {{\n",
       "    x.observe(notebookContainer, {childList: true});\n",
       "}}\n",
       "\n",
       "// Listen for the clearing of the current output cell\n",
       "var outputEl = gd.closest('.output');\n",
       "if (outputEl) {{\n",
       "    x.observe(outputEl, {childList: true});\n",
       "}}\n",
       "\n",
       "                        })\n",
       "                };\n",
       "                });\n",
       "            </script>\n",
       "        </div>"
      ]
     },
     "metadata": {},
     "output_type": "display_data"
    }
   ],
   "source": [
    "df3.iplot(kind = 'surface', colorscale = 'rdylbu')\n",
    "\n",
    "## We can change the colors of our plot by callind the colorscale parameter -> Do not match up exactly with matplotlib's\n",
    "## colormaps"
   ]
  },
  {
   "cell_type": "code",
   "execution_count": 21,
   "metadata": {},
   "outputs": [
    {
     "data": {
      "application/vnd.plotly.v1+json": {
       "config": {
        "linkText": "Export to plot.ly",
        "plotlyServerURL": "https://plot.ly",
        "showLink": true
       },
       "data": [
        {
         "histfunc": "count",
         "histnorm": "",
         "marker": {
          "color": "rgba(255, 153, 51, 1.0)",
          "line": {
           "color": "#4D5663",
           "width": 1.3
          }
         },
         "name": "A",
         "nbinsx": 50,
         "opacity": 0.8,
         "orientation": "v",
         "type": "histogram",
         "x": [
          0.2677202100092553,
          0.029401801300603495,
          1.6333155976582325,
          -0.15395081213775003,
          -0.14413501408846446,
          -1.6449448335712324,
          -0.14949460123467992,
          0.3339491948644246,
          -2.597094399834224,
          0.31658962768094867,
          0.8786647987727886,
          -1.3432173218877443,
          -0.7847668533324995,
          -0.837875974898997,
          -0.16072258922436436,
          0.5380362625214631,
          0.8018472514118294,
          2.225050418870336,
          0.06312688222115209,
          -0.2819821780153154,
          0.4561975529941592,
          0.9540050098411976,
          -0.5772141596534164,
          0.2533501925563586,
          -1.8640188679329512,
          0.24686965021478458,
          -1.5145631567705737,
          0.8539396046950519,
          0.0530587181385824,
          -1.1056944602495598,
          -0.8106609561461899,
          1.9999438998844243,
          -1.696019592198367,
          0.27035476500109734,
          0.3448685019844587,
          2.4332894470526885,
          1.0183035709639316,
          -1.0635862704484549,
          -0.4404129255558789,
          -1.2016635715406303,
          -0.7349321325596352,
          0.2912459365897682,
          1.1057264089740584,
          -1.3474952757494583,
          1.3656261037787343,
          1.4668789210387587,
          1.1341137118535645,
          -0.797166045752831,
          -0.8437538847577685,
          -0.6578538590564416,
          -2.800744340160438,
          -1.464933962422879,
          0.18579368606777028,
          0.2716661071690678,
          -1.388396543205864,
          0.5651575972514904,
          1.870569345198021,
          -0.01803795079444882,
          0.5445561374341695,
          1.3100419598906323,
          0.9269117310037176,
          1.2170550881202022,
          0.5977731119509945,
          1.4658503908815197,
          -0.7133295308487775,
          -1.6072561105549357,
          -1.1583952519354686,
          -0.5675193850198321,
          0.18395561276829986,
          1.5629117365627527,
          -0.6459481567494111,
          0.6451808366860189,
          -1.140277317678325,
          0.9201965824358878,
          0.5628508849829402,
          0.06223168643101446,
          0.3830041460378295,
          -1.7425635857356514,
          2.68853762149162,
          -1.5873613032422402,
          1.2103667304439776,
          0.4483515828616707,
          0.3069526013666004,
          -0.3056869359478956,
          0.43649977563834447,
          -0.3367048914567436,
          -0.8743257220013367,
          0.9018109380439379,
          0.4495422955436478,
          -1.1129199575924928,
          0.8875442142140842,
          -1.0279242303493357,
          2.1826050258379954,
          1.3416997099219075,
          -0.5444380801553921,
          -1.3906335395822353,
          0.603842679050368,
          1.4479816718381482,
          2.2801894155665146,
          0.2948305425715559
         ]
        }
       ],
       "layout": {
        "barmode": "overlay",
        "legend": {
         "bgcolor": "#F5F6F9",
         "font": {
          "color": "#4D5663"
         }
        },
        "paper_bgcolor": "#F5F6F9",
        "plot_bgcolor": "#F5F6F9",
        "template": {
         "data": {
          "bar": [
           {
            "error_x": {
             "color": "#2a3f5f"
            },
            "error_y": {
             "color": "#2a3f5f"
            },
            "marker": {
             "line": {
              "color": "#E5ECF6",
              "width": 0.5
             }
            },
            "type": "bar"
           }
          ],
          "barpolar": [
           {
            "marker": {
             "line": {
              "color": "#E5ECF6",
              "width": 0.5
             }
            },
            "type": "barpolar"
           }
          ],
          "carpet": [
           {
            "aaxis": {
             "endlinecolor": "#2a3f5f",
             "gridcolor": "white",
             "linecolor": "white",
             "minorgridcolor": "white",
             "startlinecolor": "#2a3f5f"
            },
            "baxis": {
             "endlinecolor": "#2a3f5f",
             "gridcolor": "white",
             "linecolor": "white",
             "minorgridcolor": "white",
             "startlinecolor": "#2a3f5f"
            },
            "type": "carpet"
           }
          ],
          "choropleth": [
           {
            "colorbar": {
             "outlinewidth": 0,
             "ticks": ""
            },
            "type": "choropleth"
           }
          ],
          "contour": [
           {
            "colorbar": {
             "outlinewidth": 0,
             "ticks": ""
            },
            "colorscale": [
             [
              0,
              "#0d0887"
             ],
             [
              0.1111111111111111,
              "#46039f"
             ],
             [
              0.2222222222222222,
              "#7201a8"
             ],
             [
              0.3333333333333333,
              "#9c179e"
             ],
             [
              0.4444444444444444,
              "#bd3786"
             ],
             [
              0.5555555555555556,
              "#d8576b"
             ],
             [
              0.6666666666666666,
              "#ed7953"
             ],
             [
              0.7777777777777778,
              "#fb9f3a"
             ],
             [
              0.8888888888888888,
              "#fdca26"
             ],
             [
              1,
              "#f0f921"
             ]
            ],
            "type": "contour"
           }
          ],
          "contourcarpet": [
           {
            "colorbar": {
             "outlinewidth": 0,
             "ticks": ""
            },
            "type": "contourcarpet"
           }
          ],
          "heatmap": [
           {
            "colorbar": {
             "outlinewidth": 0,
             "ticks": ""
            },
            "colorscale": [
             [
              0,
              "#0d0887"
             ],
             [
              0.1111111111111111,
              "#46039f"
             ],
             [
              0.2222222222222222,
              "#7201a8"
             ],
             [
              0.3333333333333333,
              "#9c179e"
             ],
             [
              0.4444444444444444,
              "#bd3786"
             ],
             [
              0.5555555555555556,
              "#d8576b"
             ],
             [
              0.6666666666666666,
              "#ed7953"
             ],
             [
              0.7777777777777778,
              "#fb9f3a"
             ],
             [
              0.8888888888888888,
              "#fdca26"
             ],
             [
              1,
              "#f0f921"
             ]
            ],
            "type": "heatmap"
           }
          ],
          "heatmapgl": [
           {
            "colorbar": {
             "outlinewidth": 0,
             "ticks": ""
            },
            "colorscale": [
             [
              0,
              "#0d0887"
             ],
             [
              0.1111111111111111,
              "#46039f"
             ],
             [
              0.2222222222222222,
              "#7201a8"
             ],
             [
              0.3333333333333333,
              "#9c179e"
             ],
             [
              0.4444444444444444,
              "#bd3786"
             ],
             [
              0.5555555555555556,
              "#d8576b"
             ],
             [
              0.6666666666666666,
              "#ed7953"
             ],
             [
              0.7777777777777778,
              "#fb9f3a"
             ],
             [
              0.8888888888888888,
              "#fdca26"
             ],
             [
              1,
              "#f0f921"
             ]
            ],
            "type": "heatmapgl"
           }
          ],
          "histogram": [
           {
            "marker": {
             "colorbar": {
              "outlinewidth": 0,
              "ticks": ""
             }
            },
            "type": "histogram"
           }
          ],
          "histogram2d": [
           {
            "colorbar": {
             "outlinewidth": 0,
             "ticks": ""
            },
            "colorscale": [
             [
              0,
              "#0d0887"
             ],
             [
              0.1111111111111111,
              "#46039f"
             ],
             [
              0.2222222222222222,
              "#7201a8"
             ],
             [
              0.3333333333333333,
              "#9c179e"
             ],
             [
              0.4444444444444444,
              "#bd3786"
             ],
             [
              0.5555555555555556,
              "#d8576b"
             ],
             [
              0.6666666666666666,
              "#ed7953"
             ],
             [
              0.7777777777777778,
              "#fb9f3a"
             ],
             [
              0.8888888888888888,
              "#fdca26"
             ],
             [
              1,
              "#f0f921"
             ]
            ],
            "type": "histogram2d"
           }
          ],
          "histogram2dcontour": [
           {
            "colorbar": {
             "outlinewidth": 0,
             "ticks": ""
            },
            "colorscale": [
             [
              0,
              "#0d0887"
             ],
             [
              0.1111111111111111,
              "#46039f"
             ],
             [
              0.2222222222222222,
              "#7201a8"
             ],
             [
              0.3333333333333333,
              "#9c179e"
             ],
             [
              0.4444444444444444,
              "#bd3786"
             ],
             [
              0.5555555555555556,
              "#d8576b"
             ],
             [
              0.6666666666666666,
              "#ed7953"
             ],
             [
              0.7777777777777778,
              "#fb9f3a"
             ],
             [
              0.8888888888888888,
              "#fdca26"
             ],
             [
              1,
              "#f0f921"
             ]
            ],
            "type": "histogram2dcontour"
           }
          ],
          "mesh3d": [
           {
            "colorbar": {
             "outlinewidth": 0,
             "ticks": ""
            },
            "type": "mesh3d"
           }
          ],
          "parcoords": [
           {
            "line": {
             "colorbar": {
              "outlinewidth": 0,
              "ticks": ""
             }
            },
            "type": "parcoords"
           }
          ],
          "scatter": [
           {
            "marker": {
             "colorbar": {
              "outlinewidth": 0,
              "ticks": ""
             }
            },
            "type": "scatter"
           }
          ],
          "scatter3d": [
           {
            "line": {
             "colorbar": {
              "outlinewidth": 0,
              "ticks": ""
             }
            },
            "marker": {
             "colorbar": {
              "outlinewidth": 0,
              "ticks": ""
             }
            },
            "type": "scatter3d"
           }
          ],
          "scattercarpet": [
           {
            "marker": {
             "colorbar": {
              "outlinewidth": 0,
              "ticks": ""
             }
            },
            "type": "scattercarpet"
           }
          ],
          "scattergeo": [
           {
            "marker": {
             "colorbar": {
              "outlinewidth": 0,
              "ticks": ""
             }
            },
            "type": "scattergeo"
           }
          ],
          "scattergl": [
           {
            "marker": {
             "colorbar": {
              "outlinewidth": 0,
              "ticks": ""
             }
            },
            "type": "scattergl"
           }
          ],
          "scattermapbox": [
           {
            "marker": {
             "colorbar": {
              "outlinewidth": 0,
              "ticks": ""
             }
            },
            "type": "scattermapbox"
           }
          ],
          "scatterpolar": [
           {
            "marker": {
             "colorbar": {
              "outlinewidth": 0,
              "ticks": ""
             }
            },
            "type": "scatterpolar"
           }
          ],
          "scatterpolargl": [
           {
            "marker": {
             "colorbar": {
              "outlinewidth": 0,
              "ticks": ""
             }
            },
            "type": "scatterpolargl"
           }
          ],
          "scatterternary": [
           {
            "marker": {
             "colorbar": {
              "outlinewidth": 0,
              "ticks": ""
             }
            },
            "type": "scatterternary"
           }
          ],
          "surface": [
           {
            "colorbar": {
             "outlinewidth": 0,
             "ticks": ""
            },
            "colorscale": [
             [
              0,
              "#0d0887"
             ],
             [
              0.1111111111111111,
              "#46039f"
             ],
             [
              0.2222222222222222,
              "#7201a8"
             ],
             [
              0.3333333333333333,
              "#9c179e"
             ],
             [
              0.4444444444444444,
              "#bd3786"
             ],
             [
              0.5555555555555556,
              "#d8576b"
             ],
             [
              0.6666666666666666,
              "#ed7953"
             ],
             [
              0.7777777777777778,
              "#fb9f3a"
             ],
             [
              0.8888888888888888,
              "#fdca26"
             ],
             [
              1,
              "#f0f921"
             ]
            ],
            "type": "surface"
           }
          ],
          "table": [
           {
            "cells": {
             "fill": {
              "color": "#EBF0F8"
             },
             "line": {
              "color": "white"
             }
            },
            "header": {
             "fill": {
              "color": "#C8D4E3"
             },
             "line": {
              "color": "white"
             }
            },
            "type": "table"
           }
          ]
         },
         "layout": {
          "annotationdefaults": {
           "arrowcolor": "#2a3f5f",
           "arrowhead": 0,
           "arrowwidth": 1
          },
          "colorscale": {
           "diverging": [
            [
             0,
             "#8e0152"
            ],
            [
             0.1,
             "#c51b7d"
            ],
            [
             0.2,
             "#de77ae"
            ],
            [
             0.3,
             "#f1b6da"
            ],
            [
             0.4,
             "#fde0ef"
            ],
            [
             0.5,
             "#f7f7f7"
            ],
            [
             0.6,
             "#e6f5d0"
            ],
            [
             0.7,
             "#b8e186"
            ],
            [
             0.8,
             "#7fbc41"
            ],
            [
             0.9,
             "#4d9221"
            ],
            [
             1,
             "#276419"
            ]
           ],
           "sequential": [
            [
             0,
             "#0d0887"
            ],
            [
             0.1111111111111111,
             "#46039f"
            ],
            [
             0.2222222222222222,
             "#7201a8"
            ],
            [
             0.3333333333333333,
             "#9c179e"
            ],
            [
             0.4444444444444444,
             "#bd3786"
            ],
            [
             0.5555555555555556,
             "#d8576b"
            ],
            [
             0.6666666666666666,
             "#ed7953"
            ],
            [
             0.7777777777777778,
             "#fb9f3a"
            ],
            [
             0.8888888888888888,
             "#fdca26"
            ],
            [
             1,
             "#f0f921"
            ]
           ],
           "sequentialminus": [
            [
             0,
             "#0d0887"
            ],
            [
             0.1111111111111111,
             "#46039f"
            ],
            [
             0.2222222222222222,
             "#7201a8"
            ],
            [
             0.3333333333333333,
             "#9c179e"
            ],
            [
             0.4444444444444444,
             "#bd3786"
            ],
            [
             0.5555555555555556,
             "#d8576b"
            ],
            [
             0.6666666666666666,
             "#ed7953"
            ],
            [
             0.7777777777777778,
             "#fb9f3a"
            ],
            [
             0.8888888888888888,
             "#fdca26"
            ],
            [
             1,
             "#f0f921"
            ]
           ]
          },
          "colorway": [
           "#636efa",
           "#EF553B",
           "#00cc96",
           "#ab63fa",
           "#FFA15A",
           "#19d3f3",
           "#FF6692",
           "#B6E880",
           "#FF97FF",
           "#FECB52"
          ],
          "font": {
           "color": "#2a3f5f"
          },
          "geo": {
           "bgcolor": "white",
           "lakecolor": "white",
           "landcolor": "#E5ECF6",
           "showlakes": true,
           "showland": true,
           "subunitcolor": "white"
          },
          "hoverlabel": {
           "align": "left"
          },
          "hovermode": "closest",
          "mapbox": {
           "style": "light"
          },
          "paper_bgcolor": "white",
          "plot_bgcolor": "#E5ECF6",
          "polar": {
           "angularaxis": {
            "gridcolor": "white",
            "linecolor": "white",
            "ticks": ""
           },
           "bgcolor": "#E5ECF6",
           "radialaxis": {
            "gridcolor": "white",
            "linecolor": "white",
            "ticks": ""
           }
          },
          "scene": {
           "xaxis": {
            "backgroundcolor": "#E5ECF6",
            "gridcolor": "white",
            "gridwidth": 2,
            "linecolor": "white",
            "showbackground": true,
            "ticks": "",
            "zerolinecolor": "white"
           },
           "yaxis": {
            "backgroundcolor": "#E5ECF6",
            "gridcolor": "white",
            "gridwidth": 2,
            "linecolor": "white",
            "showbackground": true,
            "ticks": "",
            "zerolinecolor": "white"
           },
           "zaxis": {
            "backgroundcolor": "#E5ECF6",
            "gridcolor": "white",
            "gridwidth": 2,
            "linecolor": "white",
            "showbackground": true,
            "ticks": "",
            "zerolinecolor": "white"
           }
          },
          "shapedefaults": {
           "line": {
            "color": "#2a3f5f"
           }
          },
          "ternary": {
           "aaxis": {
            "gridcolor": "white",
            "linecolor": "white",
            "ticks": ""
           },
           "baxis": {
            "gridcolor": "white",
            "linecolor": "white",
            "ticks": ""
           },
           "bgcolor": "#E5ECF6",
           "caxis": {
            "gridcolor": "white",
            "linecolor": "white",
            "ticks": ""
           }
          },
          "title": {
           "x": 0.05
          },
          "xaxis": {
           "automargin": true,
           "gridcolor": "white",
           "linecolor": "white",
           "ticks": "",
           "zerolinecolor": "white",
           "zerolinewidth": 2
          },
          "yaxis": {
           "automargin": true,
           "gridcolor": "white",
           "linecolor": "white",
           "ticks": "",
           "zerolinecolor": "white",
           "zerolinewidth": 2
          }
         }
        },
        "title": {
         "font": {
          "color": "#4D5663"
         }
        },
        "xaxis": {
         "gridcolor": "#E1E5ED",
         "showgrid": true,
         "tickfont": {
          "color": "#4D5663"
         },
         "title": {
          "font": {
           "color": "#4D5663"
          },
          "text": ""
         },
         "zerolinecolor": "#E1E5ED"
        },
        "yaxis": {
         "gridcolor": "#E1E5ED",
         "showgrid": true,
         "tickfont": {
          "color": "#4D5663"
         },
         "title": {
          "font": {
           "color": "#4D5663"
          },
          "text": ""
         },
         "zerolinecolor": "#E1E5ED"
        }
       }
      },
      "text/html": [
       "<div>\n",
       "        \n",
       "        \n",
       "            <div id=\"6bb6ac80-48e9-4a94-9cd4-3c183fc7fb38\" class=\"plotly-graph-div\" style=\"height:525px; width:100%;\"></div>\n",
       "            <script type=\"text/javascript\">\n",
       "                require([\"plotly\"], function(Plotly) {\n",
       "                    window.PLOTLYENV=window.PLOTLYENV || {};\n",
       "                    window.PLOTLYENV.BASE_URL='https://plot.ly';\n",
       "                    \n",
       "                if (document.getElementById(\"6bb6ac80-48e9-4a94-9cd4-3c183fc7fb38\")) {\n",
       "                    Plotly.newPlot(\n",
       "                        '6bb6ac80-48e9-4a94-9cd4-3c183fc7fb38',\n",
       "                        [{\"histfunc\": \"count\", \"histnorm\": \"\", \"marker\": {\"color\": \"rgba(255, 153, 51, 1.0)\", \"line\": {\"color\": \"#4D5663\", \"width\": 1.3}}, \"name\": \"A\", \"nbinsx\": 50, \"opacity\": 0.8, \"orientation\": \"v\", \"type\": \"histogram\", \"x\": [0.2677202100092553, 0.029401801300603495, 1.6333155976582325, -0.15395081213775003, -0.14413501408846446, -1.6449448335712324, -0.14949460123467992, 0.3339491948644246, -2.597094399834224, 0.31658962768094867, 0.8786647987727886, -1.3432173218877443, -0.7847668533324995, -0.837875974898997, -0.16072258922436436, 0.5380362625214631, 0.8018472514118294, 2.225050418870336, 0.06312688222115209, -0.2819821780153154, 0.4561975529941592, 0.9540050098411976, -0.5772141596534164, 0.2533501925563586, -1.8640188679329512, 0.24686965021478458, -1.5145631567705737, 0.8539396046950519, 0.0530587181385824, -1.1056944602495598, -0.8106609561461899, 1.9999438998844243, -1.696019592198367, 0.27035476500109734, 0.3448685019844587, 2.4332894470526885, 1.0183035709639316, -1.0635862704484549, -0.4404129255558789, -1.2016635715406303, -0.7349321325596352, 0.2912459365897682, 1.1057264089740584, -1.3474952757494583, 1.3656261037787343, 1.4668789210387587, 1.1341137118535645, -0.797166045752831, -0.8437538847577685, -0.6578538590564416, -2.800744340160438, -1.464933962422879, 0.18579368606777028, 0.2716661071690678, -1.388396543205864, 0.5651575972514904, 1.870569345198021, -0.01803795079444882, 0.5445561374341695, 1.3100419598906323, 0.9269117310037176, 1.2170550881202022, 0.5977731119509945, 1.4658503908815197, -0.7133295308487775, -1.6072561105549357, -1.1583952519354686, -0.5675193850198321, 0.18395561276829986, 1.5629117365627527, -0.6459481567494111, 0.6451808366860189, -1.140277317678325, 0.9201965824358878, 0.5628508849829402, 0.06223168643101446, 0.3830041460378295, -1.7425635857356514, 2.68853762149162, -1.5873613032422402, 1.2103667304439776, 0.4483515828616707, 0.3069526013666004, -0.3056869359478956, 0.43649977563834447, -0.3367048914567436, -0.8743257220013367, 0.9018109380439379, 0.4495422955436478, -1.1129199575924928, 0.8875442142140842, -1.0279242303493357, 2.1826050258379954, 1.3416997099219075, -0.5444380801553921, -1.3906335395822353, 0.603842679050368, 1.4479816718381482, 2.2801894155665146, 0.2948305425715559]}],\n",
       "                        {\"barmode\": \"overlay\", \"legend\": {\"bgcolor\": \"#F5F6F9\", \"font\": {\"color\": \"#4D5663\"}}, \"paper_bgcolor\": \"#F5F6F9\", \"plot_bgcolor\": \"#F5F6F9\", \"template\": {\"data\": {\"bar\": [{\"error_x\": {\"color\": \"#2a3f5f\"}, \"error_y\": {\"color\": \"#2a3f5f\"}, \"marker\": {\"line\": {\"color\": \"#E5ECF6\", \"width\": 0.5}}, \"type\": \"bar\"}], \"barpolar\": [{\"marker\": {\"line\": {\"color\": \"#E5ECF6\", \"width\": 0.5}}, \"type\": \"barpolar\"}], \"carpet\": [{\"aaxis\": {\"endlinecolor\": \"#2a3f5f\", \"gridcolor\": \"white\", \"linecolor\": \"white\", \"minorgridcolor\": \"white\", \"startlinecolor\": \"#2a3f5f\"}, \"baxis\": {\"endlinecolor\": \"#2a3f5f\", \"gridcolor\": \"white\", \"linecolor\": \"white\", \"minorgridcolor\": \"white\", \"startlinecolor\": \"#2a3f5f\"}, \"type\": \"carpet\"}], \"choropleth\": [{\"colorbar\": {\"outlinewidth\": 0, \"ticks\": \"\"}, \"type\": \"choropleth\"}], \"contour\": [{\"colorbar\": {\"outlinewidth\": 0, \"ticks\": \"\"}, \"colorscale\": [[0.0, \"#0d0887\"], [0.1111111111111111, \"#46039f\"], [0.2222222222222222, \"#7201a8\"], [0.3333333333333333, \"#9c179e\"], [0.4444444444444444, \"#bd3786\"], [0.5555555555555556, \"#d8576b\"], [0.6666666666666666, \"#ed7953\"], [0.7777777777777778, \"#fb9f3a\"], [0.8888888888888888, \"#fdca26\"], [1.0, \"#f0f921\"]], \"type\": \"contour\"}], \"contourcarpet\": [{\"colorbar\": {\"outlinewidth\": 0, \"ticks\": \"\"}, \"type\": \"contourcarpet\"}], \"heatmap\": [{\"colorbar\": {\"outlinewidth\": 0, \"ticks\": \"\"}, \"colorscale\": [[0.0, \"#0d0887\"], [0.1111111111111111, \"#46039f\"], [0.2222222222222222, \"#7201a8\"], [0.3333333333333333, \"#9c179e\"], [0.4444444444444444, \"#bd3786\"], [0.5555555555555556, \"#d8576b\"], [0.6666666666666666, \"#ed7953\"], [0.7777777777777778, \"#fb9f3a\"], [0.8888888888888888, \"#fdca26\"], [1.0, \"#f0f921\"]], \"type\": \"heatmap\"}], \"heatmapgl\": [{\"colorbar\": {\"outlinewidth\": 0, \"ticks\": \"\"}, \"colorscale\": [[0.0, \"#0d0887\"], [0.1111111111111111, \"#46039f\"], [0.2222222222222222, \"#7201a8\"], [0.3333333333333333, \"#9c179e\"], [0.4444444444444444, \"#bd3786\"], [0.5555555555555556, \"#d8576b\"], [0.6666666666666666, \"#ed7953\"], [0.7777777777777778, \"#fb9f3a\"], [0.8888888888888888, \"#fdca26\"], [1.0, \"#f0f921\"]], \"type\": \"heatmapgl\"}], \"histogram\": [{\"marker\": {\"colorbar\": {\"outlinewidth\": 0, \"ticks\": \"\"}}, \"type\": \"histogram\"}], \"histogram2d\": [{\"colorbar\": {\"outlinewidth\": 0, \"ticks\": \"\"}, \"colorscale\": [[0.0, \"#0d0887\"], [0.1111111111111111, \"#46039f\"], [0.2222222222222222, \"#7201a8\"], [0.3333333333333333, \"#9c179e\"], [0.4444444444444444, \"#bd3786\"], [0.5555555555555556, \"#d8576b\"], [0.6666666666666666, \"#ed7953\"], [0.7777777777777778, \"#fb9f3a\"], [0.8888888888888888, \"#fdca26\"], [1.0, \"#f0f921\"]], \"type\": \"histogram2d\"}], \"histogram2dcontour\": [{\"colorbar\": {\"outlinewidth\": 0, \"ticks\": \"\"}, \"colorscale\": [[0.0, \"#0d0887\"], [0.1111111111111111, \"#46039f\"], [0.2222222222222222, \"#7201a8\"], [0.3333333333333333, \"#9c179e\"], [0.4444444444444444, \"#bd3786\"], [0.5555555555555556, \"#d8576b\"], [0.6666666666666666, \"#ed7953\"], [0.7777777777777778, \"#fb9f3a\"], [0.8888888888888888, \"#fdca26\"], [1.0, \"#f0f921\"]], \"type\": \"histogram2dcontour\"}], \"mesh3d\": [{\"colorbar\": {\"outlinewidth\": 0, \"ticks\": \"\"}, \"type\": \"mesh3d\"}], \"parcoords\": [{\"line\": {\"colorbar\": {\"outlinewidth\": 0, \"ticks\": \"\"}}, \"type\": \"parcoords\"}], \"scatter\": [{\"marker\": {\"colorbar\": {\"outlinewidth\": 0, \"ticks\": \"\"}}, \"type\": \"scatter\"}], \"scatter3d\": [{\"line\": {\"colorbar\": {\"outlinewidth\": 0, \"ticks\": \"\"}}, \"marker\": {\"colorbar\": {\"outlinewidth\": 0, \"ticks\": \"\"}}, \"type\": \"scatter3d\"}], \"scattercarpet\": [{\"marker\": {\"colorbar\": {\"outlinewidth\": 0, \"ticks\": \"\"}}, \"type\": \"scattercarpet\"}], \"scattergeo\": [{\"marker\": {\"colorbar\": {\"outlinewidth\": 0, \"ticks\": \"\"}}, \"type\": \"scattergeo\"}], \"scattergl\": [{\"marker\": {\"colorbar\": {\"outlinewidth\": 0, \"ticks\": \"\"}}, \"type\": \"scattergl\"}], \"scattermapbox\": [{\"marker\": {\"colorbar\": {\"outlinewidth\": 0, \"ticks\": \"\"}}, \"type\": \"scattermapbox\"}], \"scatterpolar\": [{\"marker\": {\"colorbar\": {\"outlinewidth\": 0, \"ticks\": \"\"}}, \"type\": \"scatterpolar\"}], \"scatterpolargl\": [{\"marker\": {\"colorbar\": {\"outlinewidth\": 0, \"ticks\": \"\"}}, \"type\": \"scatterpolargl\"}], \"scatterternary\": [{\"marker\": {\"colorbar\": {\"outlinewidth\": 0, \"ticks\": \"\"}}, \"type\": \"scatterternary\"}], \"surface\": [{\"colorbar\": {\"outlinewidth\": 0, \"ticks\": \"\"}, \"colorscale\": [[0.0, \"#0d0887\"], [0.1111111111111111, \"#46039f\"], [0.2222222222222222, \"#7201a8\"], [0.3333333333333333, \"#9c179e\"], [0.4444444444444444, \"#bd3786\"], [0.5555555555555556, \"#d8576b\"], [0.6666666666666666, \"#ed7953\"], [0.7777777777777778, \"#fb9f3a\"], [0.8888888888888888, \"#fdca26\"], [1.0, \"#f0f921\"]], \"type\": \"surface\"}], \"table\": [{\"cells\": {\"fill\": {\"color\": \"#EBF0F8\"}, \"line\": {\"color\": \"white\"}}, \"header\": {\"fill\": {\"color\": \"#C8D4E3\"}, \"line\": {\"color\": \"white\"}}, \"type\": \"table\"}]}, \"layout\": {\"annotationdefaults\": {\"arrowcolor\": \"#2a3f5f\", \"arrowhead\": 0, \"arrowwidth\": 1}, \"colorscale\": {\"diverging\": [[0, \"#8e0152\"], [0.1, \"#c51b7d\"], [0.2, \"#de77ae\"], [0.3, \"#f1b6da\"], [0.4, \"#fde0ef\"], [0.5, \"#f7f7f7\"], [0.6, \"#e6f5d0\"], [0.7, \"#b8e186\"], [0.8, \"#7fbc41\"], [0.9, \"#4d9221\"], [1, \"#276419\"]], \"sequential\": [[0.0, \"#0d0887\"], [0.1111111111111111, \"#46039f\"], [0.2222222222222222, \"#7201a8\"], [0.3333333333333333, \"#9c179e\"], [0.4444444444444444, \"#bd3786\"], [0.5555555555555556, \"#d8576b\"], [0.6666666666666666, \"#ed7953\"], [0.7777777777777778, \"#fb9f3a\"], [0.8888888888888888, \"#fdca26\"], [1.0, \"#f0f921\"]], \"sequentialminus\": [[0.0, \"#0d0887\"], [0.1111111111111111, \"#46039f\"], [0.2222222222222222, \"#7201a8\"], [0.3333333333333333, \"#9c179e\"], [0.4444444444444444, \"#bd3786\"], [0.5555555555555556, \"#d8576b\"], [0.6666666666666666, \"#ed7953\"], [0.7777777777777778, \"#fb9f3a\"], [0.8888888888888888, \"#fdca26\"], [1.0, \"#f0f921\"]]}, \"colorway\": [\"#636efa\", \"#EF553B\", \"#00cc96\", \"#ab63fa\", \"#FFA15A\", \"#19d3f3\", \"#FF6692\", \"#B6E880\", \"#FF97FF\", \"#FECB52\"], \"font\": {\"color\": \"#2a3f5f\"}, \"geo\": {\"bgcolor\": \"white\", \"lakecolor\": \"white\", \"landcolor\": \"#E5ECF6\", \"showlakes\": true, \"showland\": true, \"subunitcolor\": \"white\"}, \"hoverlabel\": {\"align\": \"left\"}, \"hovermode\": \"closest\", \"mapbox\": {\"style\": \"light\"}, \"paper_bgcolor\": \"white\", \"plot_bgcolor\": \"#E5ECF6\", \"polar\": {\"angularaxis\": {\"gridcolor\": \"white\", \"linecolor\": \"white\", \"ticks\": \"\"}, \"bgcolor\": \"#E5ECF6\", \"radialaxis\": {\"gridcolor\": \"white\", \"linecolor\": \"white\", \"ticks\": \"\"}}, \"scene\": {\"xaxis\": {\"backgroundcolor\": \"#E5ECF6\", \"gridcolor\": \"white\", \"gridwidth\": 2, \"linecolor\": \"white\", \"showbackground\": true, \"ticks\": \"\", \"zerolinecolor\": \"white\"}, \"yaxis\": {\"backgroundcolor\": \"#E5ECF6\", \"gridcolor\": \"white\", \"gridwidth\": 2, \"linecolor\": \"white\", \"showbackground\": true, \"ticks\": \"\", \"zerolinecolor\": \"white\"}, \"zaxis\": {\"backgroundcolor\": \"#E5ECF6\", \"gridcolor\": \"white\", \"gridwidth\": 2, \"linecolor\": \"white\", \"showbackground\": true, \"ticks\": \"\", \"zerolinecolor\": \"white\"}}, \"shapedefaults\": {\"line\": {\"color\": \"#2a3f5f\"}}, \"ternary\": {\"aaxis\": {\"gridcolor\": \"white\", \"linecolor\": \"white\", \"ticks\": \"\"}, \"baxis\": {\"gridcolor\": \"white\", \"linecolor\": \"white\", \"ticks\": \"\"}, \"bgcolor\": \"#E5ECF6\", \"caxis\": {\"gridcolor\": \"white\", \"linecolor\": \"white\", \"ticks\": \"\"}}, \"title\": {\"x\": 0.05}, \"xaxis\": {\"automargin\": true, \"gridcolor\": \"white\", \"linecolor\": \"white\", \"ticks\": \"\", \"zerolinecolor\": \"white\", \"zerolinewidth\": 2}, \"yaxis\": {\"automargin\": true, \"gridcolor\": \"white\", \"linecolor\": \"white\", \"ticks\": \"\", \"zerolinecolor\": \"white\", \"zerolinewidth\": 2}}}, \"title\": {\"font\": {\"color\": \"#4D5663\"}}, \"xaxis\": {\"gridcolor\": \"#E1E5ED\", \"showgrid\": true, \"tickfont\": {\"color\": \"#4D5663\"}, \"title\": {\"font\": {\"color\": \"#4D5663\"}, \"text\": \"\"}, \"zerolinecolor\": \"#E1E5ED\"}, \"yaxis\": {\"gridcolor\": \"#E1E5ED\", \"showgrid\": true, \"tickfont\": {\"color\": \"#4D5663\"}, \"title\": {\"font\": {\"color\": \"#4D5663\"}, \"text\": \"\"}, \"zerolinecolor\": \"#E1E5ED\"}},\n",
       "                        {\"showLink\": true, \"linkText\": \"Export to plot.ly\", \"plotlyServerURL\": \"https://plot.ly\", \"responsive\": true}\n",
       "                    ).then(function(){\n",
       "                            \n",
       "var gd = document.getElementById('6bb6ac80-48e9-4a94-9cd4-3c183fc7fb38');\n",
       "var x = new MutationObserver(function (mutations, observer) {{\n",
       "        var display = window.getComputedStyle(gd).display;\n",
       "        if (!display || display === 'none') {{\n",
       "            console.log([gd, 'removed!']);\n",
       "            Plotly.purge(gd);\n",
       "            observer.disconnect();\n",
       "        }}\n",
       "}});\n",
       "\n",
       "// Listen for the removal of the full notebook cells\n",
       "var notebookContainer = gd.closest('#notebook-container');\n",
       "if (notebookContainer) {{\n",
       "    x.observe(notebookContainer, {childList: true});\n",
       "}}\n",
       "\n",
       "// Listen for the clearing of the current output cell\n",
       "var outputEl = gd.closest('.output');\n",
       "if (outputEl) {{\n",
       "    x.observe(outputEl, {childList: true});\n",
       "}}\n",
       "\n",
       "                        })\n",
       "                };\n",
       "                });\n",
       "            </script>\n",
       "        </div>"
      ]
     },
     "metadata": {},
     "output_type": "display_data"
    }
   ],
   "source": [
    " ## Ex.6 Histograms \n",
    "    \n",
    "df['A'].iplot(kind = 'hist', bins = 50) ##We can also pass the whole dataframe and toggle the desired columns "
   ]
  },
  {
   "cell_type": "code",
   "execution_count": 22,
   "metadata": {},
   "outputs": [
    {
     "data": {
      "application/vnd.plotly.v1+json": {
       "config": {
        "linkText": "Export to plot.ly",
        "plotlyServerURL": "https://plot.ly",
        "showLink": true
       },
       "data": [
        {
         "histfunc": "count",
         "histnorm": "",
         "marker": {
          "color": "rgba(255, 153, 51, 1.0)",
          "line": {
           "color": "#4D5663",
           "width": 1.3
          }
         },
         "name": "A",
         "opacity": 0.8,
         "orientation": "v",
         "type": "histogram",
         "x": [
          0.2677202100092553,
          0.029401801300603495,
          1.6333155976582325,
          -0.15395081213775003,
          -0.14413501408846446,
          -1.6449448335712324,
          -0.14949460123467992,
          0.3339491948644246,
          -2.597094399834224,
          0.31658962768094867,
          0.8786647987727886,
          -1.3432173218877443,
          -0.7847668533324995,
          -0.837875974898997,
          -0.16072258922436436,
          0.5380362625214631,
          0.8018472514118294,
          2.225050418870336,
          0.06312688222115209,
          -0.2819821780153154,
          0.4561975529941592,
          0.9540050098411976,
          -0.5772141596534164,
          0.2533501925563586,
          -1.8640188679329512,
          0.24686965021478458,
          -1.5145631567705737,
          0.8539396046950519,
          0.0530587181385824,
          -1.1056944602495598,
          -0.8106609561461899,
          1.9999438998844243,
          -1.696019592198367,
          0.27035476500109734,
          0.3448685019844587,
          2.4332894470526885,
          1.0183035709639316,
          -1.0635862704484549,
          -0.4404129255558789,
          -1.2016635715406303,
          -0.7349321325596352,
          0.2912459365897682,
          1.1057264089740584,
          -1.3474952757494583,
          1.3656261037787343,
          1.4668789210387587,
          1.1341137118535645,
          -0.797166045752831,
          -0.8437538847577685,
          -0.6578538590564416,
          -2.800744340160438,
          -1.464933962422879,
          0.18579368606777028,
          0.2716661071690678,
          -1.388396543205864,
          0.5651575972514904,
          1.870569345198021,
          -0.01803795079444882,
          0.5445561374341695,
          1.3100419598906323,
          0.9269117310037176,
          1.2170550881202022,
          0.5977731119509945,
          1.4658503908815197,
          -0.7133295308487775,
          -1.6072561105549357,
          -1.1583952519354686,
          -0.5675193850198321,
          0.18395561276829986,
          1.5629117365627527,
          -0.6459481567494111,
          0.6451808366860189,
          -1.140277317678325,
          0.9201965824358878,
          0.5628508849829402,
          0.06223168643101446,
          0.3830041460378295,
          -1.7425635857356514,
          2.68853762149162,
          -1.5873613032422402,
          1.2103667304439776,
          0.4483515828616707,
          0.3069526013666004,
          -0.3056869359478956,
          0.43649977563834447,
          -0.3367048914567436,
          -0.8743257220013367,
          0.9018109380439379,
          0.4495422955436478,
          -1.1129199575924928,
          0.8875442142140842,
          -1.0279242303493357,
          2.1826050258379954,
          1.3416997099219075,
          -0.5444380801553921,
          -1.3906335395822353,
          0.603842679050368,
          1.4479816718381482,
          2.2801894155665146,
          0.2948305425715559
         ]
        },
        {
         "histfunc": "count",
         "histnorm": "",
         "marker": {
          "color": "rgba(55, 128, 191, 1.0)",
          "line": {
           "color": "#4D5663",
           "width": 1.3
          }
         },
         "name": "B",
         "opacity": 0.8,
         "orientation": "v",
         "type": "histogram",
         "x": [
          -0.4325321712751128,
          -1.5460924544980112,
          0.10273563589960194,
          -0.4367522969617371,
          -0.37250903654265705,
          2.495901049673792,
          0.4543077408140475,
          -0.30651567349031394,
          -0.38977321361290346,
          0.25333239787958034,
          -0.6518531750893366,
          -1.1598463133588912,
          -0.2502549143354412,
          -0.20151676688773343,
          1.5980566808370873,
          0.029402384373415722,
          -0.2269876865330706,
          -0.33008870211174673,
          0.8804252708319859,
          0.540454682551017,
          -0.056564992295370896,
          -1.543266073278203,
          -0.1517454722774265,
          0.48850921701499184,
          -1.5218659923324995,
          0.48252528692933,
          -1.1739288126024365,
          -0.2661170255448922,
          -0.12089999686922906,
          2.207181673471075,
          1.3492640917725967,
          -0.07360631969307191,
          -0.8428718809880091,
          0.6541993474215966,
          1.832577954017896,
          -0.8000301318162512,
          0.5912931904834581,
          -0.1648826924515067,
          0.7513998380294736,
          -0.36636501022202067,
          0.4479585738911855,
          0.01652610289102157,
          1.4436301181798241,
          1.198114629977769,
          -0.12417129548519844,
          -1.635490725015796,
          0.9659152618319634,
          -0.22163192420780028,
          0.13906379998407672,
          -0.5933198954392768,
          0.09517724473066766,
          -0.6565492491460867,
          -0.7362795364472919,
          -0.4868621253603264,
          -1.0520977748564473,
          -2.4117622058518284,
          -2.131492724081454,
          0.8115720023991889,
          -0.2685434009579712,
          -0.5963652446589135,
          2.474124392200335,
          0.06911688071229449,
          -1.1365645282692047,
          -0.7563200775798268,
          -0.8945050849648055,
          0.8551433639677785,
          -0.18826810908634953,
          1.4656718925668768,
          -0.056481576159804245,
          0.982213228229109,
          1.2540302807344708,
          2.269188395378155,
          0.5868297415228718,
          -1.3920972094032944,
          0.2580819064645278,
          -0.5126588457434668,
          0.8421125394269273,
          -0.7731775605236191,
          -2.401552932218778,
          -1.0766545233237557,
          -1.0115670858119716,
          0.5303470084085685,
          -0.02356719985016988,
          -0.11813249614427222,
          0.6296570442736785,
          -0.8320580612521427,
          -0.49955935500329185,
          -0.13027097894996809,
          -0.081474351975949,
          0.27830415447931356,
          1.218265733122561,
          1.4955858477436832,
          -0.11999165184828173,
          -2.0658962422542575,
          -1.2836654857950553,
          -2.868162817942856,
          -2.363789031238105,
          -0.5279276194071908,
          -0.08225036746740437,
          -0.47129768728363813
         ]
        },
        {
         "histfunc": "count",
         "histnorm": "",
         "marker": {
          "color": "rgba(50, 171, 96, 1.0)",
          "line": {
           "color": "#4D5663",
           "width": 1.3
          }
         },
         "name": "C",
         "opacity": 0.8,
         "orientation": "v",
         "type": "histogram",
         "x": [
          -1.4915827436378635,
          -2.112020006549017,
          -0.8329924095346284,
          1.7823209334611574,
          -0.7192814711428236,
          -0.5657555679446309,
          0.29374616132364456,
          1.6996285110354985,
          -0.41935449712171036,
          1.8049666970050822,
          0.9950818115963185,
          -0.3561521976707872,
          0.35746595441843676,
          0.16665249127587373,
          -0.30997250971580614,
          1.320875064102547,
          -2.2275645560572377,
          -0.558859659944914,
          -0.3395427132529864,
          -0.6172227810131552,
          0.5598324593996644,
          2.3176340765173293,
          1.3868298905679506,
          0.7074025099455857,
          0.9968354698286394,
          0.5759027018023721,
          -1.1902446827365922,
          -0.566420905406603,
          -2.5787457879446936,
          1.0448765267217333,
          0.0575222219029565,
          0.553843648368937,
          -0.5848856885732062,
          -0.9167844605684892,
          -0.4116034641618978,
          0.3403504234759874,
          -0.09015529136674685,
          0.9605253449617726,
          0.41295230460834553,
          0.17606893005627136,
          0.1394835567699609,
          -0.24824526562589908,
          -0.31426882930239164,
          0.690792933252245,
          -0.9878882957890283,
          -0.4735071596684798,
          1.6512343595147854,
          2.609770180786801,
          -0.7648625754422158,
          0.0712398856157923,
          -0.5049747112309024,
          0.4912486112813825,
          0.9885021263519854,
          0.7712407604431888,
          0.1290524490715323,
          0.04448892449874012,
          0.37191418104278157,
          0.5511476627085021,
          0.2145247287208951,
          0.6179232564946322,
          -0.21505308570241372,
          0.11415534786549235,
          0.49730667627105724,
          -1.3539767876323532,
          1.5029693022889137,
          -0.8955210319309673,
          1.5236031046781657,
          -0.5511762908172061,
          -0.48435904644665134,
          0.06780795963216768,
          0.10577749158140741,
          -0.7613594055094629,
          -0.0807678779419743,
          -1.100340014759591,
          0.13473733868437426,
          -0.5554032514491901,
          -2.1040562904224527,
          1.3785472966882482,
          0.20358444370538267,
          2.8953721028734596,
          0.3130398408759578,
          0.14002930904544209,
          -1.3728158956282914,
          -0.35819175282054805,
          0.22958757977878763,
          -0.003913314093714403,
          -1.9865998428720206,
          -1.4995645715031976,
          -1.610787403627202,
          -0.7673634249080489,
          -0.3989395546614242,
          2.6703375578543307,
          1.790563716962692,
          -1.1414208367513043,
          0.6848848569715895,
          0.7269276441464714,
          -0.2956929541095785,
          -0.4582838725550537,
          -0.31906036078748545,
          -2.1211963434778136
         ]
        },
        {
         "histfunc": "count",
         "histnorm": "",
         "marker": {
          "color": "rgba(128, 0, 128, 1.0)",
          "line": {
           "color": "#4D5663",
           "width": 1.3
          }
         },
         "name": "D",
         "opacity": 0.8,
         "orientation": "v",
         "type": "histogram",
         "x": [
          -0.7025160410480839,
          1.3109081667544578,
          -0.510361468081794,
          0.14988146373890324,
          1.6019418730762025,
          -0.349053248547214,
          -0.4166299933795874,
          -2.4680739874503113,
          0.025067974485122674,
          -0.19871976026948518,
          0.5953950686273765,
          0.7511049301039473,
          0.5720049651864383,
          -2.4835048163036797,
          0.2109330444317143,
          1.4767934570912753,
          -0.035966329295487084,
          -0.6810201187166933,
          -1.3957264827789182,
          0.34492934974635153,
          -0.22948438014191513,
          0.9944106854012644,
          1.1245846524485843,
          1.7267038383309876,
          0.5044357665376124,
          -0.35664609529375235,
          -0.17181976879078467,
          -1.173535775728522,
          0.06374348058106245,
          0.7848220619723575,
          -0.2564503272297871,
          1.8315920467331734,
          2.032589934699792,
          0.6513614616376907,
          -0.1424870213724532,
          1.7632791185368706,
          0.720715119660739,
          -1.7333097242317494,
          0.1253668772189341,
          -0.6906249181043568,
          -0.5850487211742301,
          0.7651300905830513,
          0.12186453381870625,
          -0.4150343239864852,
          0.660759717712707,
          1.2753300935459693,
          -1.4496646904364807,
          0.19710775617052026,
          -0.18528700914977536,
          0.6884493145711821,
          0.16201470238935398,
          -0.03200110632704644,
          -0.08702335075885158,
          1.3271464353502238,
          -0.07768790979240572,
          -1.4135203973646147,
          -0.5787944728418192,
          0.5022055952444596,
          0.454460398888486,
          0.49952080788698844,
          1.3937837027809206,
          -0.22705333578165374,
          1.7601645652112776,
          1.1693672723203297,
          0.006168973030320437,
          -1.2946412347695087,
          0.9359192670481432,
          -0.34135313067712797,
          -0.8991078674578962,
          -1.4180420040265282,
          -0.3141498370012541,
          1.3284588340190397,
          0.43436365261630805,
          -0.06019913519325379,
          0.7229731593151011,
          -0.059130641011031916,
          0.18691418901314508,
          -0.579051175367635,
          0.6863533149215727,
          2.2073437656015202,
          0.6189359844436157,
          -1.4371023486349348,
          0.20509646795438427,
          0.5351249753977271,
          1.1588687922005507,
          -0.3865337149383086,
          0.3199797712139598,
          -0.17461766180681795,
          -0.7182557946851779,
          1.9110973156231161,
          -1.480052452610233,
          -1.0388907279053714,
          1.9265638251231678,
          0.6879312442723563,
          -0.5989968078733376,
          2.010769856789577,
          0.5928355998139698,
          -1.3997036184021738,
          -1.597976868291814,
          -0.7472119617588053
         ]
        }
       ],
       "layout": {
        "barmode": "overlay",
        "legend": {
         "bgcolor": "#F5F6F9",
         "font": {
          "color": "#4D5663"
         }
        },
        "paper_bgcolor": "#F5F6F9",
        "plot_bgcolor": "#F5F6F9",
        "template": {
         "data": {
          "bar": [
           {
            "error_x": {
             "color": "#2a3f5f"
            },
            "error_y": {
             "color": "#2a3f5f"
            },
            "marker": {
             "line": {
              "color": "#E5ECF6",
              "width": 0.5
             }
            },
            "type": "bar"
           }
          ],
          "barpolar": [
           {
            "marker": {
             "line": {
              "color": "#E5ECF6",
              "width": 0.5
             }
            },
            "type": "barpolar"
           }
          ],
          "carpet": [
           {
            "aaxis": {
             "endlinecolor": "#2a3f5f",
             "gridcolor": "white",
             "linecolor": "white",
             "minorgridcolor": "white",
             "startlinecolor": "#2a3f5f"
            },
            "baxis": {
             "endlinecolor": "#2a3f5f",
             "gridcolor": "white",
             "linecolor": "white",
             "minorgridcolor": "white",
             "startlinecolor": "#2a3f5f"
            },
            "type": "carpet"
           }
          ],
          "choropleth": [
           {
            "colorbar": {
             "outlinewidth": 0,
             "ticks": ""
            },
            "type": "choropleth"
           }
          ],
          "contour": [
           {
            "colorbar": {
             "outlinewidth": 0,
             "ticks": ""
            },
            "colorscale": [
             [
              0,
              "#0d0887"
             ],
             [
              0.1111111111111111,
              "#46039f"
             ],
             [
              0.2222222222222222,
              "#7201a8"
             ],
             [
              0.3333333333333333,
              "#9c179e"
             ],
             [
              0.4444444444444444,
              "#bd3786"
             ],
             [
              0.5555555555555556,
              "#d8576b"
             ],
             [
              0.6666666666666666,
              "#ed7953"
             ],
             [
              0.7777777777777778,
              "#fb9f3a"
             ],
             [
              0.8888888888888888,
              "#fdca26"
             ],
             [
              1,
              "#f0f921"
             ]
            ],
            "type": "contour"
           }
          ],
          "contourcarpet": [
           {
            "colorbar": {
             "outlinewidth": 0,
             "ticks": ""
            },
            "type": "contourcarpet"
           }
          ],
          "heatmap": [
           {
            "colorbar": {
             "outlinewidth": 0,
             "ticks": ""
            },
            "colorscale": [
             [
              0,
              "#0d0887"
             ],
             [
              0.1111111111111111,
              "#46039f"
             ],
             [
              0.2222222222222222,
              "#7201a8"
             ],
             [
              0.3333333333333333,
              "#9c179e"
             ],
             [
              0.4444444444444444,
              "#bd3786"
             ],
             [
              0.5555555555555556,
              "#d8576b"
             ],
             [
              0.6666666666666666,
              "#ed7953"
             ],
             [
              0.7777777777777778,
              "#fb9f3a"
             ],
             [
              0.8888888888888888,
              "#fdca26"
             ],
             [
              1,
              "#f0f921"
             ]
            ],
            "type": "heatmap"
           }
          ],
          "heatmapgl": [
           {
            "colorbar": {
             "outlinewidth": 0,
             "ticks": ""
            },
            "colorscale": [
             [
              0,
              "#0d0887"
             ],
             [
              0.1111111111111111,
              "#46039f"
             ],
             [
              0.2222222222222222,
              "#7201a8"
             ],
             [
              0.3333333333333333,
              "#9c179e"
             ],
             [
              0.4444444444444444,
              "#bd3786"
             ],
             [
              0.5555555555555556,
              "#d8576b"
             ],
             [
              0.6666666666666666,
              "#ed7953"
             ],
             [
              0.7777777777777778,
              "#fb9f3a"
             ],
             [
              0.8888888888888888,
              "#fdca26"
             ],
             [
              1,
              "#f0f921"
             ]
            ],
            "type": "heatmapgl"
           }
          ],
          "histogram": [
           {
            "marker": {
             "colorbar": {
              "outlinewidth": 0,
              "ticks": ""
             }
            },
            "type": "histogram"
           }
          ],
          "histogram2d": [
           {
            "colorbar": {
             "outlinewidth": 0,
             "ticks": ""
            },
            "colorscale": [
             [
              0,
              "#0d0887"
             ],
             [
              0.1111111111111111,
              "#46039f"
             ],
             [
              0.2222222222222222,
              "#7201a8"
             ],
             [
              0.3333333333333333,
              "#9c179e"
             ],
             [
              0.4444444444444444,
              "#bd3786"
             ],
             [
              0.5555555555555556,
              "#d8576b"
             ],
             [
              0.6666666666666666,
              "#ed7953"
             ],
             [
              0.7777777777777778,
              "#fb9f3a"
             ],
             [
              0.8888888888888888,
              "#fdca26"
             ],
             [
              1,
              "#f0f921"
             ]
            ],
            "type": "histogram2d"
           }
          ],
          "histogram2dcontour": [
           {
            "colorbar": {
             "outlinewidth": 0,
             "ticks": ""
            },
            "colorscale": [
             [
              0,
              "#0d0887"
             ],
             [
              0.1111111111111111,
              "#46039f"
             ],
             [
              0.2222222222222222,
              "#7201a8"
             ],
             [
              0.3333333333333333,
              "#9c179e"
             ],
             [
              0.4444444444444444,
              "#bd3786"
             ],
             [
              0.5555555555555556,
              "#d8576b"
             ],
             [
              0.6666666666666666,
              "#ed7953"
             ],
             [
              0.7777777777777778,
              "#fb9f3a"
             ],
             [
              0.8888888888888888,
              "#fdca26"
             ],
             [
              1,
              "#f0f921"
             ]
            ],
            "type": "histogram2dcontour"
           }
          ],
          "mesh3d": [
           {
            "colorbar": {
             "outlinewidth": 0,
             "ticks": ""
            },
            "type": "mesh3d"
           }
          ],
          "parcoords": [
           {
            "line": {
             "colorbar": {
              "outlinewidth": 0,
              "ticks": ""
             }
            },
            "type": "parcoords"
           }
          ],
          "scatter": [
           {
            "marker": {
             "colorbar": {
              "outlinewidth": 0,
              "ticks": ""
             }
            },
            "type": "scatter"
           }
          ],
          "scatter3d": [
           {
            "line": {
             "colorbar": {
              "outlinewidth": 0,
              "ticks": ""
             }
            },
            "marker": {
             "colorbar": {
              "outlinewidth": 0,
              "ticks": ""
             }
            },
            "type": "scatter3d"
           }
          ],
          "scattercarpet": [
           {
            "marker": {
             "colorbar": {
              "outlinewidth": 0,
              "ticks": ""
             }
            },
            "type": "scattercarpet"
           }
          ],
          "scattergeo": [
           {
            "marker": {
             "colorbar": {
              "outlinewidth": 0,
              "ticks": ""
             }
            },
            "type": "scattergeo"
           }
          ],
          "scattergl": [
           {
            "marker": {
             "colorbar": {
              "outlinewidth": 0,
              "ticks": ""
             }
            },
            "type": "scattergl"
           }
          ],
          "scattermapbox": [
           {
            "marker": {
             "colorbar": {
              "outlinewidth": 0,
              "ticks": ""
             }
            },
            "type": "scattermapbox"
           }
          ],
          "scatterpolar": [
           {
            "marker": {
             "colorbar": {
              "outlinewidth": 0,
              "ticks": ""
             }
            },
            "type": "scatterpolar"
           }
          ],
          "scatterpolargl": [
           {
            "marker": {
             "colorbar": {
              "outlinewidth": 0,
              "ticks": ""
             }
            },
            "type": "scatterpolargl"
           }
          ],
          "scatterternary": [
           {
            "marker": {
             "colorbar": {
              "outlinewidth": 0,
              "ticks": ""
             }
            },
            "type": "scatterternary"
           }
          ],
          "surface": [
           {
            "colorbar": {
             "outlinewidth": 0,
             "ticks": ""
            },
            "colorscale": [
             [
              0,
              "#0d0887"
             ],
             [
              0.1111111111111111,
              "#46039f"
             ],
             [
              0.2222222222222222,
              "#7201a8"
             ],
             [
              0.3333333333333333,
              "#9c179e"
             ],
             [
              0.4444444444444444,
              "#bd3786"
             ],
             [
              0.5555555555555556,
              "#d8576b"
             ],
             [
              0.6666666666666666,
              "#ed7953"
             ],
             [
              0.7777777777777778,
              "#fb9f3a"
             ],
             [
              0.8888888888888888,
              "#fdca26"
             ],
             [
              1,
              "#f0f921"
             ]
            ],
            "type": "surface"
           }
          ],
          "table": [
           {
            "cells": {
             "fill": {
              "color": "#EBF0F8"
             },
             "line": {
              "color": "white"
             }
            },
            "header": {
             "fill": {
              "color": "#C8D4E3"
             },
             "line": {
              "color": "white"
             }
            },
            "type": "table"
           }
          ]
         },
         "layout": {
          "annotationdefaults": {
           "arrowcolor": "#2a3f5f",
           "arrowhead": 0,
           "arrowwidth": 1
          },
          "colorscale": {
           "diverging": [
            [
             0,
             "#8e0152"
            ],
            [
             0.1,
             "#c51b7d"
            ],
            [
             0.2,
             "#de77ae"
            ],
            [
             0.3,
             "#f1b6da"
            ],
            [
             0.4,
             "#fde0ef"
            ],
            [
             0.5,
             "#f7f7f7"
            ],
            [
             0.6,
             "#e6f5d0"
            ],
            [
             0.7,
             "#b8e186"
            ],
            [
             0.8,
             "#7fbc41"
            ],
            [
             0.9,
             "#4d9221"
            ],
            [
             1,
             "#276419"
            ]
           ],
           "sequential": [
            [
             0,
             "#0d0887"
            ],
            [
             0.1111111111111111,
             "#46039f"
            ],
            [
             0.2222222222222222,
             "#7201a8"
            ],
            [
             0.3333333333333333,
             "#9c179e"
            ],
            [
             0.4444444444444444,
             "#bd3786"
            ],
            [
             0.5555555555555556,
             "#d8576b"
            ],
            [
             0.6666666666666666,
             "#ed7953"
            ],
            [
             0.7777777777777778,
             "#fb9f3a"
            ],
            [
             0.8888888888888888,
             "#fdca26"
            ],
            [
             1,
             "#f0f921"
            ]
           ],
           "sequentialminus": [
            [
             0,
             "#0d0887"
            ],
            [
             0.1111111111111111,
             "#46039f"
            ],
            [
             0.2222222222222222,
             "#7201a8"
            ],
            [
             0.3333333333333333,
             "#9c179e"
            ],
            [
             0.4444444444444444,
             "#bd3786"
            ],
            [
             0.5555555555555556,
             "#d8576b"
            ],
            [
             0.6666666666666666,
             "#ed7953"
            ],
            [
             0.7777777777777778,
             "#fb9f3a"
            ],
            [
             0.8888888888888888,
             "#fdca26"
            ],
            [
             1,
             "#f0f921"
            ]
           ]
          },
          "colorway": [
           "#636efa",
           "#EF553B",
           "#00cc96",
           "#ab63fa",
           "#FFA15A",
           "#19d3f3",
           "#FF6692",
           "#B6E880",
           "#FF97FF",
           "#FECB52"
          ],
          "font": {
           "color": "#2a3f5f"
          },
          "geo": {
           "bgcolor": "white",
           "lakecolor": "white",
           "landcolor": "#E5ECF6",
           "showlakes": true,
           "showland": true,
           "subunitcolor": "white"
          },
          "hoverlabel": {
           "align": "left"
          },
          "hovermode": "closest",
          "mapbox": {
           "style": "light"
          },
          "paper_bgcolor": "white",
          "plot_bgcolor": "#E5ECF6",
          "polar": {
           "angularaxis": {
            "gridcolor": "white",
            "linecolor": "white",
            "ticks": ""
           },
           "bgcolor": "#E5ECF6",
           "radialaxis": {
            "gridcolor": "white",
            "linecolor": "white",
            "ticks": ""
           }
          },
          "scene": {
           "xaxis": {
            "backgroundcolor": "#E5ECF6",
            "gridcolor": "white",
            "gridwidth": 2,
            "linecolor": "white",
            "showbackground": true,
            "ticks": "",
            "zerolinecolor": "white"
           },
           "yaxis": {
            "backgroundcolor": "#E5ECF6",
            "gridcolor": "white",
            "gridwidth": 2,
            "linecolor": "white",
            "showbackground": true,
            "ticks": "",
            "zerolinecolor": "white"
           },
           "zaxis": {
            "backgroundcolor": "#E5ECF6",
            "gridcolor": "white",
            "gridwidth": 2,
            "linecolor": "white",
            "showbackground": true,
            "ticks": "",
            "zerolinecolor": "white"
           }
          },
          "shapedefaults": {
           "line": {
            "color": "#2a3f5f"
           }
          },
          "ternary": {
           "aaxis": {
            "gridcolor": "white",
            "linecolor": "white",
            "ticks": ""
           },
           "baxis": {
            "gridcolor": "white",
            "linecolor": "white",
            "ticks": ""
           },
           "bgcolor": "#E5ECF6",
           "caxis": {
            "gridcolor": "white",
            "linecolor": "white",
            "ticks": ""
           }
          },
          "title": {
           "x": 0.05
          },
          "xaxis": {
           "automargin": true,
           "gridcolor": "white",
           "linecolor": "white",
           "ticks": "",
           "zerolinecolor": "white",
           "zerolinewidth": 2
          },
          "yaxis": {
           "automargin": true,
           "gridcolor": "white",
           "linecolor": "white",
           "ticks": "",
           "zerolinecolor": "white",
           "zerolinewidth": 2
          }
         }
        },
        "title": {
         "font": {
          "color": "#4D5663"
         }
        },
        "xaxis": {
         "gridcolor": "#E1E5ED",
         "showgrid": true,
         "tickfont": {
          "color": "#4D5663"
         },
         "title": {
          "font": {
           "color": "#4D5663"
          },
          "text": ""
         },
         "zerolinecolor": "#E1E5ED"
        },
        "yaxis": {
         "gridcolor": "#E1E5ED",
         "showgrid": true,
         "tickfont": {
          "color": "#4D5663"
         },
         "title": {
          "font": {
           "color": "#4D5663"
          },
          "text": ""
         },
         "zerolinecolor": "#E1E5ED"
        }
       }
      },
      "text/html": [
       "<div>\n",
       "        \n",
       "        \n",
       "            <div id=\"273d8a54-28f6-4359-a8db-0eed0ee9f695\" class=\"plotly-graph-div\" style=\"height:525px; width:100%;\"></div>\n",
       "            <script type=\"text/javascript\">\n",
       "                require([\"plotly\"], function(Plotly) {\n",
       "                    window.PLOTLYENV=window.PLOTLYENV || {};\n",
       "                    window.PLOTLYENV.BASE_URL='https://plot.ly';\n",
       "                    \n",
       "                if (document.getElementById(\"273d8a54-28f6-4359-a8db-0eed0ee9f695\")) {\n",
       "                    Plotly.newPlot(\n",
       "                        '273d8a54-28f6-4359-a8db-0eed0ee9f695',\n",
       "                        [{\"histfunc\": \"count\", \"histnorm\": \"\", \"marker\": {\"color\": \"rgba(255, 153, 51, 1.0)\", \"line\": {\"color\": \"#4D5663\", \"width\": 1.3}}, \"name\": \"A\", \"opacity\": 0.8, \"orientation\": \"v\", \"type\": \"histogram\", \"x\": [0.2677202100092553, 0.029401801300603495, 1.6333155976582325, -0.15395081213775003, -0.14413501408846446, -1.6449448335712324, -0.14949460123467992, 0.3339491948644246, -2.597094399834224, 0.31658962768094867, 0.8786647987727886, -1.3432173218877443, -0.7847668533324995, -0.837875974898997, -0.16072258922436436, 0.5380362625214631, 0.8018472514118294, 2.225050418870336, 0.06312688222115209, -0.2819821780153154, 0.4561975529941592, 0.9540050098411976, -0.5772141596534164, 0.2533501925563586, -1.8640188679329512, 0.24686965021478458, -1.5145631567705737, 0.8539396046950519, 0.0530587181385824, -1.1056944602495598, -0.8106609561461899, 1.9999438998844243, -1.696019592198367, 0.27035476500109734, 0.3448685019844587, 2.4332894470526885, 1.0183035709639316, -1.0635862704484549, -0.4404129255558789, -1.2016635715406303, -0.7349321325596352, 0.2912459365897682, 1.1057264089740584, -1.3474952757494583, 1.3656261037787343, 1.4668789210387587, 1.1341137118535645, -0.797166045752831, -0.8437538847577685, -0.6578538590564416, -2.800744340160438, -1.464933962422879, 0.18579368606777028, 0.2716661071690678, -1.388396543205864, 0.5651575972514904, 1.870569345198021, -0.01803795079444882, 0.5445561374341695, 1.3100419598906323, 0.9269117310037176, 1.2170550881202022, 0.5977731119509945, 1.4658503908815197, -0.7133295308487775, -1.6072561105549357, -1.1583952519354686, -0.5675193850198321, 0.18395561276829986, 1.5629117365627527, -0.6459481567494111, 0.6451808366860189, -1.140277317678325, 0.9201965824358878, 0.5628508849829402, 0.06223168643101446, 0.3830041460378295, -1.7425635857356514, 2.68853762149162, -1.5873613032422402, 1.2103667304439776, 0.4483515828616707, 0.3069526013666004, -0.3056869359478956, 0.43649977563834447, -0.3367048914567436, -0.8743257220013367, 0.9018109380439379, 0.4495422955436478, -1.1129199575924928, 0.8875442142140842, -1.0279242303493357, 2.1826050258379954, 1.3416997099219075, -0.5444380801553921, -1.3906335395822353, 0.603842679050368, 1.4479816718381482, 2.2801894155665146, 0.2948305425715559]}, {\"histfunc\": \"count\", \"histnorm\": \"\", \"marker\": {\"color\": \"rgba(55, 128, 191, 1.0)\", \"line\": {\"color\": \"#4D5663\", \"width\": 1.3}}, \"name\": \"B\", \"opacity\": 0.8, \"orientation\": \"v\", \"type\": \"histogram\", \"x\": [-0.4325321712751128, -1.5460924544980112, 0.10273563589960194, -0.4367522969617371, -0.37250903654265705, 2.495901049673792, 0.4543077408140475, -0.30651567349031394, -0.38977321361290346, 0.25333239787958034, -0.6518531750893366, -1.1598463133588912, -0.2502549143354412, -0.20151676688773343, 1.5980566808370873, 0.029402384373415722, -0.2269876865330706, -0.33008870211174673, 0.8804252708319859, 0.540454682551017, -0.056564992295370896, -1.543266073278203, -0.1517454722774265, 0.48850921701499184, -1.5218659923324995, 0.48252528692933, -1.1739288126024365, -0.2661170255448922, -0.12089999686922906, 2.207181673471075, 1.3492640917725967, -0.07360631969307191, -0.8428718809880091, 0.6541993474215966, 1.832577954017896, -0.8000301318162512, 0.5912931904834581, -0.1648826924515067, 0.7513998380294736, -0.36636501022202067, 0.4479585738911855, 0.01652610289102157, 1.4436301181798241, 1.198114629977769, -0.12417129548519844, -1.635490725015796, 0.9659152618319634, -0.22163192420780028, 0.13906379998407672, -0.5933198954392768, 0.09517724473066766, -0.6565492491460867, -0.7362795364472919, -0.4868621253603264, -1.0520977748564473, -2.4117622058518284, -2.131492724081454, 0.8115720023991889, -0.2685434009579712, -0.5963652446589135, 2.474124392200335, 0.06911688071229449, -1.1365645282692047, -0.7563200775798268, -0.8945050849648055, 0.8551433639677785, -0.18826810908634953, 1.4656718925668768, -0.056481576159804245, 0.982213228229109, 1.2540302807344708, 2.269188395378155, 0.5868297415228718, -1.3920972094032944, 0.2580819064645278, -0.5126588457434668, 0.8421125394269273, -0.7731775605236191, -2.401552932218778, -1.0766545233237557, -1.0115670858119716, 0.5303470084085685, -0.02356719985016988, -0.11813249614427222, 0.6296570442736785, -0.8320580612521427, -0.49955935500329185, -0.13027097894996809, -0.081474351975949, 0.27830415447931356, 1.218265733122561, 1.4955858477436832, -0.11999165184828173, -2.0658962422542575, -1.2836654857950553, -2.868162817942856, -2.363789031238105, -0.5279276194071908, -0.08225036746740437, -0.47129768728363813]}, {\"histfunc\": \"count\", \"histnorm\": \"\", \"marker\": {\"color\": \"rgba(50, 171, 96, 1.0)\", \"line\": {\"color\": \"#4D5663\", \"width\": 1.3}}, \"name\": \"C\", \"opacity\": 0.8, \"orientation\": \"v\", \"type\": \"histogram\", \"x\": [-1.4915827436378635, -2.112020006549017, -0.8329924095346284, 1.7823209334611574, -0.7192814711428236, -0.5657555679446309, 0.29374616132364456, 1.6996285110354985, -0.41935449712171036, 1.8049666970050822, 0.9950818115963185, -0.3561521976707872, 0.35746595441843676, 0.16665249127587373, -0.30997250971580614, 1.320875064102547, -2.2275645560572377, -0.558859659944914, -0.3395427132529864, -0.6172227810131552, 0.5598324593996644, 2.3176340765173293, 1.3868298905679506, 0.7074025099455857, 0.9968354698286394, 0.5759027018023721, -1.1902446827365922, -0.566420905406603, -2.5787457879446936, 1.0448765267217333, 0.0575222219029565, 0.553843648368937, -0.5848856885732062, -0.9167844605684892, -0.4116034641618978, 0.3403504234759874, -0.09015529136674685, 0.9605253449617726, 0.41295230460834553, 0.17606893005627136, 0.1394835567699609, -0.24824526562589908, -0.31426882930239164, 0.690792933252245, -0.9878882957890283, -0.4735071596684798, 1.6512343595147854, 2.609770180786801, -0.7648625754422158, 0.0712398856157923, -0.5049747112309024, 0.4912486112813825, 0.9885021263519854, 0.7712407604431888, 0.1290524490715323, 0.04448892449874012, 0.37191418104278157, 0.5511476627085021, 0.2145247287208951, 0.6179232564946322, -0.21505308570241372, 0.11415534786549235, 0.49730667627105724, -1.3539767876323532, 1.5029693022889137, -0.8955210319309673, 1.5236031046781657, -0.5511762908172061, -0.48435904644665134, 0.06780795963216768, 0.10577749158140741, -0.7613594055094629, -0.0807678779419743, -1.100340014759591, 0.13473733868437426, -0.5554032514491901, -2.1040562904224527, 1.3785472966882482, 0.20358444370538267, 2.8953721028734596, 0.3130398408759578, 0.14002930904544209, -1.3728158956282914, -0.35819175282054805, 0.22958757977878763, -0.003913314093714403, -1.9865998428720206, -1.4995645715031976, -1.610787403627202, -0.7673634249080489, -0.3989395546614242, 2.6703375578543307, 1.790563716962692, -1.1414208367513043, 0.6848848569715895, 0.7269276441464714, -0.2956929541095785, -0.4582838725550537, -0.31906036078748545, -2.1211963434778136]}, {\"histfunc\": \"count\", \"histnorm\": \"\", \"marker\": {\"color\": \"rgba(128, 0, 128, 1.0)\", \"line\": {\"color\": \"#4D5663\", \"width\": 1.3}}, \"name\": \"D\", \"opacity\": 0.8, \"orientation\": \"v\", \"type\": \"histogram\", \"x\": [-0.7025160410480839, 1.3109081667544578, -0.510361468081794, 0.14988146373890324, 1.6019418730762025, -0.349053248547214, -0.4166299933795874, -2.4680739874503113, 0.025067974485122674, -0.19871976026948518, 0.5953950686273765, 0.7511049301039473, 0.5720049651864383, -2.4835048163036797, 0.2109330444317143, 1.4767934570912753, -0.035966329295487084, -0.6810201187166933, -1.3957264827789182, 0.34492934974635153, -0.22948438014191513, 0.9944106854012644, 1.1245846524485843, 1.7267038383309876, 0.5044357665376124, -0.35664609529375235, -0.17181976879078467, -1.173535775728522, 0.06374348058106245, 0.7848220619723575, -0.2564503272297871, 1.8315920467331734, 2.032589934699792, 0.6513614616376907, -0.1424870213724532, 1.7632791185368706, 0.720715119660739, -1.7333097242317494, 0.1253668772189341, -0.6906249181043568, -0.5850487211742301, 0.7651300905830513, 0.12186453381870625, -0.4150343239864852, 0.660759717712707, 1.2753300935459693, -1.4496646904364807, 0.19710775617052026, -0.18528700914977536, 0.6884493145711821, 0.16201470238935398, -0.03200110632704644, -0.08702335075885158, 1.3271464353502238, -0.07768790979240572, -1.4135203973646147, -0.5787944728418192, 0.5022055952444596, 0.454460398888486, 0.49952080788698844, 1.3937837027809206, -0.22705333578165374, 1.7601645652112776, 1.1693672723203297, 0.006168973030320437, -1.2946412347695087, 0.9359192670481432, -0.34135313067712797, -0.8991078674578962, -1.4180420040265282, -0.3141498370012541, 1.3284588340190397, 0.43436365261630805, -0.06019913519325379, 0.7229731593151011, -0.059130641011031916, 0.18691418901314508, -0.579051175367635, 0.6863533149215727, 2.2073437656015202, 0.6189359844436157, -1.4371023486349348, 0.20509646795438427, 0.5351249753977271, 1.1588687922005507, -0.3865337149383086, 0.3199797712139598, -0.17461766180681795, -0.7182557946851779, 1.9110973156231161, -1.480052452610233, -1.0388907279053714, 1.9265638251231678, 0.6879312442723563, -0.5989968078733376, 2.010769856789577, 0.5928355998139698, -1.3997036184021738, -1.597976868291814, -0.7472119617588053]}],\n",
       "                        {\"barmode\": \"overlay\", \"legend\": {\"bgcolor\": \"#F5F6F9\", \"font\": {\"color\": \"#4D5663\"}}, \"paper_bgcolor\": \"#F5F6F9\", \"plot_bgcolor\": \"#F5F6F9\", \"template\": {\"data\": {\"bar\": [{\"error_x\": {\"color\": \"#2a3f5f\"}, \"error_y\": {\"color\": \"#2a3f5f\"}, \"marker\": {\"line\": {\"color\": \"#E5ECF6\", \"width\": 0.5}}, \"type\": \"bar\"}], \"barpolar\": [{\"marker\": {\"line\": {\"color\": \"#E5ECF6\", \"width\": 0.5}}, \"type\": \"barpolar\"}], \"carpet\": [{\"aaxis\": {\"endlinecolor\": \"#2a3f5f\", \"gridcolor\": \"white\", \"linecolor\": \"white\", \"minorgridcolor\": \"white\", \"startlinecolor\": \"#2a3f5f\"}, \"baxis\": {\"endlinecolor\": \"#2a3f5f\", \"gridcolor\": \"white\", \"linecolor\": \"white\", \"minorgridcolor\": \"white\", \"startlinecolor\": \"#2a3f5f\"}, \"type\": \"carpet\"}], \"choropleth\": [{\"colorbar\": {\"outlinewidth\": 0, \"ticks\": \"\"}, \"type\": \"choropleth\"}], \"contour\": [{\"colorbar\": {\"outlinewidth\": 0, \"ticks\": \"\"}, \"colorscale\": [[0.0, \"#0d0887\"], [0.1111111111111111, \"#46039f\"], [0.2222222222222222, \"#7201a8\"], [0.3333333333333333, \"#9c179e\"], [0.4444444444444444, \"#bd3786\"], [0.5555555555555556, \"#d8576b\"], [0.6666666666666666, \"#ed7953\"], [0.7777777777777778, \"#fb9f3a\"], [0.8888888888888888, \"#fdca26\"], [1.0, \"#f0f921\"]], \"type\": \"contour\"}], \"contourcarpet\": [{\"colorbar\": {\"outlinewidth\": 0, \"ticks\": \"\"}, \"type\": \"contourcarpet\"}], \"heatmap\": [{\"colorbar\": {\"outlinewidth\": 0, \"ticks\": \"\"}, \"colorscale\": [[0.0, \"#0d0887\"], [0.1111111111111111, \"#46039f\"], [0.2222222222222222, \"#7201a8\"], [0.3333333333333333, \"#9c179e\"], [0.4444444444444444, \"#bd3786\"], [0.5555555555555556, \"#d8576b\"], [0.6666666666666666, \"#ed7953\"], [0.7777777777777778, \"#fb9f3a\"], [0.8888888888888888, \"#fdca26\"], [1.0, \"#f0f921\"]], \"type\": \"heatmap\"}], \"heatmapgl\": [{\"colorbar\": {\"outlinewidth\": 0, \"ticks\": \"\"}, \"colorscale\": [[0.0, \"#0d0887\"], [0.1111111111111111, \"#46039f\"], [0.2222222222222222, \"#7201a8\"], [0.3333333333333333, \"#9c179e\"], [0.4444444444444444, \"#bd3786\"], [0.5555555555555556, \"#d8576b\"], [0.6666666666666666, \"#ed7953\"], [0.7777777777777778, \"#fb9f3a\"], [0.8888888888888888, \"#fdca26\"], [1.0, \"#f0f921\"]], \"type\": \"heatmapgl\"}], \"histogram\": [{\"marker\": {\"colorbar\": {\"outlinewidth\": 0, \"ticks\": \"\"}}, \"type\": \"histogram\"}], \"histogram2d\": [{\"colorbar\": {\"outlinewidth\": 0, \"ticks\": \"\"}, \"colorscale\": [[0.0, \"#0d0887\"], [0.1111111111111111, \"#46039f\"], [0.2222222222222222, \"#7201a8\"], [0.3333333333333333, \"#9c179e\"], [0.4444444444444444, \"#bd3786\"], [0.5555555555555556, \"#d8576b\"], [0.6666666666666666, \"#ed7953\"], [0.7777777777777778, \"#fb9f3a\"], [0.8888888888888888, \"#fdca26\"], [1.0, \"#f0f921\"]], \"type\": \"histogram2d\"}], \"histogram2dcontour\": [{\"colorbar\": {\"outlinewidth\": 0, \"ticks\": \"\"}, \"colorscale\": [[0.0, \"#0d0887\"], [0.1111111111111111, \"#46039f\"], [0.2222222222222222, \"#7201a8\"], [0.3333333333333333, \"#9c179e\"], [0.4444444444444444, \"#bd3786\"], [0.5555555555555556, \"#d8576b\"], [0.6666666666666666, \"#ed7953\"], [0.7777777777777778, \"#fb9f3a\"], [0.8888888888888888, \"#fdca26\"], [1.0, \"#f0f921\"]], \"type\": \"histogram2dcontour\"}], \"mesh3d\": [{\"colorbar\": {\"outlinewidth\": 0, \"ticks\": \"\"}, \"type\": \"mesh3d\"}], \"parcoords\": [{\"line\": {\"colorbar\": {\"outlinewidth\": 0, \"ticks\": \"\"}}, \"type\": \"parcoords\"}], \"scatter\": [{\"marker\": {\"colorbar\": {\"outlinewidth\": 0, \"ticks\": \"\"}}, \"type\": \"scatter\"}], \"scatter3d\": [{\"line\": {\"colorbar\": {\"outlinewidth\": 0, \"ticks\": \"\"}}, \"marker\": {\"colorbar\": {\"outlinewidth\": 0, \"ticks\": \"\"}}, \"type\": \"scatter3d\"}], \"scattercarpet\": [{\"marker\": {\"colorbar\": {\"outlinewidth\": 0, \"ticks\": \"\"}}, \"type\": \"scattercarpet\"}], \"scattergeo\": [{\"marker\": {\"colorbar\": {\"outlinewidth\": 0, \"ticks\": \"\"}}, \"type\": \"scattergeo\"}], \"scattergl\": [{\"marker\": {\"colorbar\": {\"outlinewidth\": 0, \"ticks\": \"\"}}, \"type\": \"scattergl\"}], \"scattermapbox\": [{\"marker\": {\"colorbar\": {\"outlinewidth\": 0, \"ticks\": \"\"}}, \"type\": \"scattermapbox\"}], \"scatterpolar\": [{\"marker\": {\"colorbar\": {\"outlinewidth\": 0, \"ticks\": \"\"}}, \"type\": \"scatterpolar\"}], \"scatterpolargl\": [{\"marker\": {\"colorbar\": {\"outlinewidth\": 0, \"ticks\": \"\"}}, \"type\": \"scatterpolargl\"}], \"scatterternary\": [{\"marker\": {\"colorbar\": {\"outlinewidth\": 0, \"ticks\": \"\"}}, \"type\": \"scatterternary\"}], \"surface\": [{\"colorbar\": {\"outlinewidth\": 0, \"ticks\": \"\"}, \"colorscale\": [[0.0, \"#0d0887\"], [0.1111111111111111, \"#46039f\"], [0.2222222222222222, \"#7201a8\"], [0.3333333333333333, \"#9c179e\"], [0.4444444444444444, \"#bd3786\"], [0.5555555555555556, \"#d8576b\"], [0.6666666666666666, \"#ed7953\"], [0.7777777777777778, \"#fb9f3a\"], [0.8888888888888888, \"#fdca26\"], [1.0, \"#f0f921\"]], \"type\": \"surface\"}], \"table\": [{\"cells\": {\"fill\": {\"color\": \"#EBF0F8\"}, \"line\": {\"color\": \"white\"}}, \"header\": {\"fill\": {\"color\": \"#C8D4E3\"}, \"line\": {\"color\": \"white\"}}, \"type\": \"table\"}]}, \"layout\": {\"annotationdefaults\": {\"arrowcolor\": \"#2a3f5f\", \"arrowhead\": 0, \"arrowwidth\": 1}, \"colorscale\": {\"diverging\": [[0, \"#8e0152\"], [0.1, \"#c51b7d\"], [0.2, \"#de77ae\"], [0.3, \"#f1b6da\"], [0.4, \"#fde0ef\"], [0.5, \"#f7f7f7\"], [0.6, \"#e6f5d0\"], [0.7, \"#b8e186\"], [0.8, \"#7fbc41\"], [0.9, \"#4d9221\"], [1, \"#276419\"]], \"sequential\": [[0.0, \"#0d0887\"], [0.1111111111111111, \"#46039f\"], [0.2222222222222222, \"#7201a8\"], [0.3333333333333333, \"#9c179e\"], [0.4444444444444444, \"#bd3786\"], [0.5555555555555556, \"#d8576b\"], [0.6666666666666666, \"#ed7953\"], [0.7777777777777778, \"#fb9f3a\"], [0.8888888888888888, \"#fdca26\"], [1.0, \"#f0f921\"]], \"sequentialminus\": [[0.0, \"#0d0887\"], [0.1111111111111111, \"#46039f\"], [0.2222222222222222, \"#7201a8\"], [0.3333333333333333, \"#9c179e\"], [0.4444444444444444, \"#bd3786\"], [0.5555555555555556, \"#d8576b\"], [0.6666666666666666, \"#ed7953\"], [0.7777777777777778, \"#fb9f3a\"], [0.8888888888888888, \"#fdca26\"], [1.0, \"#f0f921\"]]}, \"colorway\": [\"#636efa\", \"#EF553B\", \"#00cc96\", \"#ab63fa\", \"#FFA15A\", \"#19d3f3\", \"#FF6692\", \"#B6E880\", \"#FF97FF\", \"#FECB52\"], \"font\": {\"color\": \"#2a3f5f\"}, \"geo\": {\"bgcolor\": \"white\", \"lakecolor\": \"white\", \"landcolor\": \"#E5ECF6\", \"showlakes\": true, \"showland\": true, \"subunitcolor\": \"white\"}, \"hoverlabel\": {\"align\": \"left\"}, \"hovermode\": \"closest\", \"mapbox\": {\"style\": \"light\"}, \"paper_bgcolor\": \"white\", \"plot_bgcolor\": \"#E5ECF6\", \"polar\": {\"angularaxis\": {\"gridcolor\": \"white\", \"linecolor\": \"white\", \"ticks\": \"\"}, \"bgcolor\": \"#E5ECF6\", \"radialaxis\": {\"gridcolor\": \"white\", \"linecolor\": \"white\", \"ticks\": \"\"}}, \"scene\": {\"xaxis\": {\"backgroundcolor\": \"#E5ECF6\", \"gridcolor\": \"white\", \"gridwidth\": 2, \"linecolor\": \"white\", \"showbackground\": true, \"ticks\": \"\", \"zerolinecolor\": \"white\"}, \"yaxis\": {\"backgroundcolor\": \"#E5ECF6\", \"gridcolor\": \"white\", \"gridwidth\": 2, \"linecolor\": \"white\", \"showbackground\": true, \"ticks\": \"\", \"zerolinecolor\": \"white\"}, \"zaxis\": {\"backgroundcolor\": \"#E5ECF6\", \"gridcolor\": \"white\", \"gridwidth\": 2, \"linecolor\": \"white\", \"showbackground\": true, \"ticks\": \"\", \"zerolinecolor\": \"white\"}}, \"shapedefaults\": {\"line\": {\"color\": \"#2a3f5f\"}}, \"ternary\": {\"aaxis\": {\"gridcolor\": \"white\", \"linecolor\": \"white\", \"ticks\": \"\"}, \"baxis\": {\"gridcolor\": \"white\", \"linecolor\": \"white\", \"ticks\": \"\"}, \"bgcolor\": \"#E5ECF6\", \"caxis\": {\"gridcolor\": \"white\", \"linecolor\": \"white\", \"ticks\": \"\"}}, \"title\": {\"x\": 0.05}, \"xaxis\": {\"automargin\": true, \"gridcolor\": \"white\", \"linecolor\": \"white\", \"ticks\": \"\", \"zerolinecolor\": \"white\", \"zerolinewidth\": 2}, \"yaxis\": {\"automargin\": true, \"gridcolor\": \"white\", \"linecolor\": \"white\", \"ticks\": \"\", \"zerolinecolor\": \"white\", \"zerolinewidth\": 2}}}, \"title\": {\"font\": {\"color\": \"#4D5663\"}}, \"xaxis\": {\"gridcolor\": \"#E1E5ED\", \"showgrid\": true, \"tickfont\": {\"color\": \"#4D5663\"}, \"title\": {\"font\": {\"color\": \"#4D5663\"}, \"text\": \"\"}, \"zerolinecolor\": \"#E1E5ED\"}, \"yaxis\": {\"gridcolor\": \"#E1E5ED\", \"showgrid\": true, \"tickfont\": {\"color\": \"#4D5663\"}, \"title\": {\"font\": {\"color\": \"#4D5663\"}, \"text\": \"\"}, \"zerolinecolor\": \"#E1E5ED\"}},\n",
       "                        {\"showLink\": true, \"linkText\": \"Export to plot.ly\", \"plotlyServerURL\": \"https://plot.ly\", \"responsive\": true}\n",
       "                    ).then(function(){\n",
       "                            \n",
       "var gd = document.getElementById('273d8a54-28f6-4359-a8db-0eed0ee9f695');\n",
       "var x = new MutationObserver(function (mutations, observer) {{\n",
       "        var display = window.getComputedStyle(gd).display;\n",
       "        if (!display || display === 'none') {{\n",
       "            console.log([gd, 'removed!']);\n",
       "            Plotly.purge(gd);\n",
       "            observer.disconnect();\n",
       "        }}\n",
       "}});\n",
       "\n",
       "// Listen for the removal of the full notebook cells\n",
       "var notebookContainer = gd.closest('#notebook-container');\n",
       "if (notebookContainer) {{\n",
       "    x.observe(notebookContainer, {childList: true});\n",
       "}}\n",
       "\n",
       "// Listen for the clearing of the current output cell\n",
       "var outputEl = gd.closest('.output');\n",
       "if (outputEl) {{\n",
       "    x.observe(outputEl, {childList: true});\n",
       "}}\n",
       "\n",
       "                        })\n",
       "                };\n",
       "                });\n",
       "            </script>\n",
       "        </div>"
      ]
     },
     "metadata": {},
     "output_type": "display_data"
    }
   ],
   "source": [
    "df.iplot(kind = 'hist')"
   ]
  },
  {
   "cell_type": "code",
   "execution_count": 23,
   "metadata": {},
   "outputs": [
    {
     "data": {
      "application/vnd.plotly.v1+json": {
       "config": {
        "linkText": "Export to plot.ly",
        "plotlyServerURL": "https://plot.ly",
        "showLink": true
       },
       "data": [
        {
         "line": {
          "color": "rgba(255, 153, 51, 1.0)",
          "dash": "solid",
          "shape": "linear",
          "width": 1.3
         },
         "mode": "lines",
         "name": "A",
         "text": "",
         "type": "scatter",
         "x": [
          0,
          1,
          2,
          3,
          4,
          5,
          6,
          7,
          8,
          9,
          10,
          11,
          12,
          13,
          14,
          15,
          16,
          17,
          18,
          19,
          20,
          21,
          22,
          23,
          24,
          25,
          26,
          27,
          28,
          29,
          30,
          31,
          32,
          33,
          34,
          35,
          36,
          37,
          38,
          39,
          40,
          41,
          42,
          43,
          44,
          45,
          46,
          47,
          48,
          49,
          50,
          51,
          52,
          53,
          54,
          55,
          56,
          57,
          58,
          59,
          60,
          61,
          62,
          63,
          64,
          65,
          66,
          67,
          68,
          69,
          70,
          71,
          72,
          73,
          74,
          75,
          76,
          77,
          78,
          79,
          80,
          81,
          82,
          83,
          84,
          85,
          86,
          87,
          88,
          89,
          90,
          91,
          92,
          93,
          94,
          95,
          96,
          97,
          98,
          99
         ],
         "y": [
          0.2677202100092553,
          0.029401801300603495,
          1.6333155976582325,
          -0.15395081213775003,
          -0.14413501408846446,
          -1.6449448335712324,
          -0.14949460123467992,
          0.3339491948644246,
          -2.597094399834224,
          0.31658962768094867,
          0.8786647987727886,
          -1.3432173218877443,
          -0.7847668533324995,
          -0.837875974898997,
          -0.16072258922436436,
          0.5380362625214631,
          0.8018472514118294,
          2.225050418870336,
          0.06312688222115209,
          -0.2819821780153154,
          0.4561975529941592,
          0.9540050098411976,
          -0.5772141596534164,
          0.2533501925563586,
          -1.8640188679329512,
          0.24686965021478458,
          -1.5145631567705737,
          0.8539396046950519,
          0.0530587181385824,
          -1.1056944602495598,
          -0.8106609561461899,
          1.9999438998844243,
          -1.696019592198367,
          0.27035476500109734,
          0.3448685019844587,
          2.4332894470526885,
          1.0183035709639316,
          -1.0635862704484549,
          -0.4404129255558789,
          -1.2016635715406303,
          -0.7349321325596352,
          0.2912459365897682,
          1.1057264089740584,
          -1.3474952757494583,
          1.3656261037787343,
          1.4668789210387587,
          1.1341137118535645,
          -0.797166045752831,
          -0.8437538847577685,
          -0.6578538590564416,
          -2.800744340160438,
          -1.464933962422879,
          0.18579368606777028,
          0.2716661071690678,
          -1.388396543205864,
          0.5651575972514904,
          1.870569345198021,
          -0.01803795079444882,
          0.5445561374341695,
          1.3100419598906323,
          0.9269117310037176,
          1.2170550881202022,
          0.5977731119509945,
          1.4658503908815197,
          -0.7133295308487775,
          -1.6072561105549357,
          -1.1583952519354686,
          -0.5675193850198321,
          0.18395561276829986,
          1.5629117365627527,
          -0.6459481567494111,
          0.6451808366860189,
          -1.140277317678325,
          0.9201965824358878,
          0.5628508849829402,
          0.06223168643101446,
          0.3830041460378295,
          -1.7425635857356514,
          2.68853762149162,
          -1.5873613032422402,
          1.2103667304439776,
          0.4483515828616707,
          0.3069526013666004,
          -0.3056869359478956,
          0.43649977563834447,
          -0.3367048914567436,
          -0.8743257220013367,
          0.9018109380439379,
          0.4495422955436478,
          -1.1129199575924928,
          0.8875442142140842,
          -1.0279242303493357,
          2.1826050258379954,
          1.3416997099219075,
          -0.5444380801553921,
          -1.3906335395822353,
          0.603842679050368,
          1.4479816718381482,
          2.2801894155665146,
          0.2948305425715559
         ]
        },
        {
         "line": {
          "color": "rgba(55, 128, 191, 1.0)",
          "dash": "solid",
          "shape": "linear",
          "width": 1.3
         },
         "mode": "lines",
         "name": "B",
         "text": "",
         "type": "scatter",
         "x": [
          0,
          1,
          2,
          3,
          4,
          5,
          6,
          7,
          8,
          9,
          10,
          11,
          12,
          13,
          14,
          15,
          16,
          17,
          18,
          19,
          20,
          21,
          22,
          23,
          24,
          25,
          26,
          27,
          28,
          29,
          30,
          31,
          32,
          33,
          34,
          35,
          36,
          37,
          38,
          39,
          40,
          41,
          42,
          43,
          44,
          45,
          46,
          47,
          48,
          49,
          50,
          51,
          52,
          53,
          54,
          55,
          56,
          57,
          58,
          59,
          60,
          61,
          62,
          63,
          64,
          65,
          66,
          67,
          68,
          69,
          70,
          71,
          72,
          73,
          74,
          75,
          76,
          77,
          78,
          79,
          80,
          81,
          82,
          83,
          84,
          85,
          86,
          87,
          88,
          89,
          90,
          91,
          92,
          93,
          94,
          95,
          96,
          97,
          98,
          99
         ],
         "y": [
          -0.4325321712751128,
          -1.5460924544980112,
          0.10273563589960194,
          -0.4367522969617371,
          -0.37250903654265705,
          2.495901049673792,
          0.4543077408140475,
          -0.30651567349031394,
          -0.38977321361290346,
          0.25333239787958034,
          -0.6518531750893366,
          -1.1598463133588912,
          -0.2502549143354412,
          -0.20151676688773343,
          1.5980566808370873,
          0.029402384373415722,
          -0.2269876865330706,
          -0.33008870211174673,
          0.8804252708319859,
          0.540454682551017,
          -0.056564992295370896,
          -1.543266073278203,
          -0.1517454722774265,
          0.48850921701499184,
          -1.5218659923324995,
          0.48252528692933,
          -1.1739288126024365,
          -0.2661170255448922,
          -0.12089999686922906,
          2.207181673471075,
          1.3492640917725967,
          -0.07360631969307191,
          -0.8428718809880091,
          0.6541993474215966,
          1.832577954017896,
          -0.8000301318162512,
          0.5912931904834581,
          -0.1648826924515067,
          0.7513998380294736,
          -0.36636501022202067,
          0.4479585738911855,
          0.01652610289102157,
          1.4436301181798241,
          1.198114629977769,
          -0.12417129548519844,
          -1.635490725015796,
          0.9659152618319634,
          -0.22163192420780028,
          0.13906379998407672,
          -0.5933198954392768,
          0.09517724473066766,
          -0.6565492491460867,
          -0.7362795364472919,
          -0.4868621253603264,
          -1.0520977748564473,
          -2.4117622058518284,
          -2.131492724081454,
          0.8115720023991889,
          -0.2685434009579712,
          -0.5963652446589135,
          2.474124392200335,
          0.06911688071229449,
          -1.1365645282692047,
          -0.7563200775798268,
          -0.8945050849648055,
          0.8551433639677785,
          -0.18826810908634953,
          1.4656718925668768,
          -0.056481576159804245,
          0.982213228229109,
          1.2540302807344708,
          2.269188395378155,
          0.5868297415228718,
          -1.3920972094032944,
          0.2580819064645278,
          -0.5126588457434668,
          0.8421125394269273,
          -0.7731775605236191,
          -2.401552932218778,
          -1.0766545233237557,
          -1.0115670858119716,
          0.5303470084085685,
          -0.02356719985016988,
          -0.11813249614427222,
          0.6296570442736785,
          -0.8320580612521427,
          -0.49955935500329185,
          -0.13027097894996809,
          -0.081474351975949,
          0.27830415447931356,
          1.218265733122561,
          1.4955858477436832,
          -0.11999165184828173,
          -2.0658962422542575,
          -1.2836654857950553,
          -2.868162817942856,
          -2.363789031238105,
          -0.5279276194071908,
          -0.08225036746740437,
          -0.47129768728363813
         ]
        },
        {
         "connectgaps": false,
         "fill": "tozeroy",
         "line": {
          "color": "green",
          "dash": "solid",
          "shape": "linear",
          "width": 0.5
         },
         "mode": "lines",
         "name": "Spread",
         "showlegend": false,
         "type": "scatter",
         "x": [
          0,
          1,
          2,
          3,
          4,
          5,
          6,
          7,
          8,
          9,
          10,
          11,
          12,
          13,
          14,
          15,
          16,
          17,
          18,
          19,
          20,
          21,
          22,
          23,
          24,
          25,
          26,
          27,
          28,
          29,
          30,
          31,
          32,
          33,
          34,
          35,
          36,
          37,
          38,
          39,
          40,
          41,
          42,
          43,
          44,
          45,
          46,
          47,
          48,
          49,
          50,
          51,
          52,
          53,
          54,
          55,
          56,
          57,
          58,
          59,
          60,
          61,
          62,
          63,
          64,
          65,
          66,
          67,
          68,
          69,
          70,
          71,
          72,
          73,
          74,
          75,
          76,
          77,
          78,
          79,
          80,
          81,
          82,
          83,
          84,
          85,
          86,
          87,
          88,
          89,
          90,
          91,
          92,
          93,
          94,
          95,
          96,
          97,
          98,
          99
         ],
         "xaxis": "x2",
         "y": [
          0.7002523812843681,
          1.5754942557986147,
          1.5305799617586306,
          0.2828014848239871,
          0.22837402245419258,
          "",
          "",
          0.6404648683547385,
          "",
          0.06325722980136833,
          1.5305179738621253,
          "",
          "",
          "",
          "",
          0.5086338781480474,
          1.0288349379449,
          2.555139120982083,
          "",
          "",
          0.5127625452895301,
          2.4972710831194007,
          "",
          "",
          "",
          "",
          "",
          1.1200566302399442,
          0.17395871500781146,
          "",
          "",
          2.073550219577496,
          "",
          "",
          "",
          3.2333195788689397,
          0.4270103804804736,
          "",
          "",
          "",
          "",
          0.27471983369874664,
          "",
          "",
          1.4897973992639326,
          3.1023696460545547,
          0.16819845002160105,
          "",
          "",
          "",
          "",
          "",
          0.9220732225150622,
          0.7585282325293943,
          "",
          2.9769198031033186,
          4.002062069279475,
          "",
          0.8130995383921407,
          1.906407204549546,
          "",
          1.1479382074079076,
          1.734337640220199,
          2.2221704684613464,
          0.18117555411602804,
          "",
          "",
          "",
          0.24043718892810412,
          0.5806985083336438,
          "",
          "",
          "",
          2.312293791839182,
          0.30476897851841245,
          0.5748905321744813,
          "",
          "",
          5.090090553710398,
          "",
          2.221933816255949,
          "",
          0.33051980121677027,
          "",
          "",
          0.49535316979539906,
          "",
          1.032081916993906,
          0.5310166475195968,
          "",
          "",
          "",
          2.302596677686277,
          3.407595952176165,
          0.7392274056396633,
          1.4775292783606206,
          2.9676317102884733,
          1.975909291245339,
          2.3624397830339188,
          0.766128229855194
         ],
         "yaxis": "y2"
        },
        {
         "connectgaps": false,
         "fill": "tozeroy",
         "line": {
          "color": "red",
          "dash": "solid",
          "shape": "linear",
          "width": 0.5
         },
         "mode": "lines",
         "name": "Spread",
         "showlegend": false,
         "type": "scatter",
         "x": [
          0,
          1,
          2,
          3,
          4,
          5,
          6,
          7,
          8,
          9,
          10,
          11,
          12,
          13,
          14,
          15,
          16,
          17,
          18,
          19,
          20,
          21,
          22,
          23,
          24,
          25,
          26,
          27,
          28,
          29,
          30,
          31,
          32,
          33,
          34,
          35,
          36,
          37,
          38,
          39,
          40,
          41,
          42,
          43,
          44,
          45,
          46,
          47,
          48,
          49,
          50,
          51,
          52,
          53,
          54,
          55,
          56,
          57,
          58,
          59,
          60,
          61,
          62,
          63,
          64,
          65,
          66,
          67,
          68,
          69,
          70,
          71,
          72,
          73,
          74,
          75,
          76,
          77,
          78,
          79,
          80,
          81,
          82,
          83,
          84,
          85,
          86,
          87,
          88,
          89,
          90,
          91,
          92,
          93,
          94,
          95,
          96,
          97,
          98,
          99
         ],
         "xaxis": "x2",
         "y": [
          "",
          "",
          "",
          "",
          "",
          -4.140845883245024,
          -0.6038023420487274,
          "",
          -2.207321186221321,
          "",
          "",
          -0.18337100852885313,
          -0.5345119389970583,
          -0.6363592080112636,
          -1.7587792700614517,
          "",
          "",
          "",
          -0.8172983886108338,
          -0.8224368605663324,
          "",
          "",
          -0.42546868737598986,
          -0.23515902445863324,
          -0.3421528756004517,
          -0.23565563671454542,
          -0.3406343441681372,
          "",
          "",
          -3.3128761337206347,
          -2.1599250479187866,
          "",
          -0.8531477112103578,
          -0.38384458242049924,
          -1.4877094520334373,
          "",
          "",
          -0.8987035779969482,
          -1.1918127635853526,
          -0.8352985613186097,
          -1.1828907064508207,
          "",
          -0.33790370920576573,
          -2.5456099057272272,
          "",
          "",
          "",
          -0.5755341215450307,
          -0.9828176847418452,
          -0.06453396361716479,
          -2.8959215848911057,
          -0.8083847132767923,
          "",
          "",
          -0.33629876834941674,
          "",
          "",
          -0.8296099531936377,
          "",
          "",
          -1.5472126611966175,
          "",
          "",
          "",
          "",
          -2.462399474522714,
          -0.970127142849119,
          -2.0331912775867087,
          "",
          "",
          -1.899978437483882,
          -1.6240075586921359,
          -1.7271070592011968,
          "",
          "",
          "",
          -0.4591083933890978,
          -0.9693860252120323,
          "",
          -0.5107067799184846,
          "",
          -0.08199542554689782,
          "",
          -0.18755443980362335,
          -0.19315726863533406,
          "",
          -0.3747663669980449,
          "",
          "",
          -1.3912241120718063,
          -0.3307215189084768,
          -2.523510078093019,
          "",
          "",
          "",
          "",
          "",
          "",
          "",
          ""
         ],
         "yaxis": "y2"
        }
       ],
       "layout": {
        "hovermode": "x",
        "legend": {
         "bgcolor": "#F5F6F9",
         "font": {
          "color": "#4D5663"
         }
        },
        "paper_bgcolor": "#F5F6F9",
        "plot_bgcolor": "#F5F6F9",
        "template": {
         "data": {
          "bar": [
           {
            "error_x": {
             "color": "#2a3f5f"
            },
            "error_y": {
             "color": "#2a3f5f"
            },
            "marker": {
             "line": {
              "color": "#E5ECF6",
              "width": 0.5
             }
            },
            "type": "bar"
           }
          ],
          "barpolar": [
           {
            "marker": {
             "line": {
              "color": "#E5ECF6",
              "width": 0.5
             }
            },
            "type": "barpolar"
           }
          ],
          "carpet": [
           {
            "aaxis": {
             "endlinecolor": "#2a3f5f",
             "gridcolor": "white",
             "linecolor": "white",
             "minorgridcolor": "white",
             "startlinecolor": "#2a3f5f"
            },
            "baxis": {
             "endlinecolor": "#2a3f5f",
             "gridcolor": "white",
             "linecolor": "white",
             "minorgridcolor": "white",
             "startlinecolor": "#2a3f5f"
            },
            "type": "carpet"
           }
          ],
          "choropleth": [
           {
            "colorbar": {
             "outlinewidth": 0,
             "ticks": ""
            },
            "type": "choropleth"
           }
          ],
          "contour": [
           {
            "colorbar": {
             "outlinewidth": 0,
             "ticks": ""
            },
            "colorscale": [
             [
              0,
              "#0d0887"
             ],
             [
              0.1111111111111111,
              "#46039f"
             ],
             [
              0.2222222222222222,
              "#7201a8"
             ],
             [
              0.3333333333333333,
              "#9c179e"
             ],
             [
              0.4444444444444444,
              "#bd3786"
             ],
             [
              0.5555555555555556,
              "#d8576b"
             ],
             [
              0.6666666666666666,
              "#ed7953"
             ],
             [
              0.7777777777777778,
              "#fb9f3a"
             ],
             [
              0.8888888888888888,
              "#fdca26"
             ],
             [
              1,
              "#f0f921"
             ]
            ],
            "type": "contour"
           }
          ],
          "contourcarpet": [
           {
            "colorbar": {
             "outlinewidth": 0,
             "ticks": ""
            },
            "type": "contourcarpet"
           }
          ],
          "heatmap": [
           {
            "colorbar": {
             "outlinewidth": 0,
             "ticks": ""
            },
            "colorscale": [
             [
              0,
              "#0d0887"
             ],
             [
              0.1111111111111111,
              "#46039f"
             ],
             [
              0.2222222222222222,
              "#7201a8"
             ],
             [
              0.3333333333333333,
              "#9c179e"
             ],
             [
              0.4444444444444444,
              "#bd3786"
             ],
             [
              0.5555555555555556,
              "#d8576b"
             ],
             [
              0.6666666666666666,
              "#ed7953"
             ],
             [
              0.7777777777777778,
              "#fb9f3a"
             ],
             [
              0.8888888888888888,
              "#fdca26"
             ],
             [
              1,
              "#f0f921"
             ]
            ],
            "type": "heatmap"
           }
          ],
          "heatmapgl": [
           {
            "colorbar": {
             "outlinewidth": 0,
             "ticks": ""
            },
            "colorscale": [
             [
              0,
              "#0d0887"
             ],
             [
              0.1111111111111111,
              "#46039f"
             ],
             [
              0.2222222222222222,
              "#7201a8"
             ],
             [
              0.3333333333333333,
              "#9c179e"
             ],
             [
              0.4444444444444444,
              "#bd3786"
             ],
             [
              0.5555555555555556,
              "#d8576b"
             ],
             [
              0.6666666666666666,
              "#ed7953"
             ],
             [
              0.7777777777777778,
              "#fb9f3a"
             ],
             [
              0.8888888888888888,
              "#fdca26"
             ],
             [
              1,
              "#f0f921"
             ]
            ],
            "type": "heatmapgl"
           }
          ],
          "histogram": [
           {
            "marker": {
             "colorbar": {
              "outlinewidth": 0,
              "ticks": ""
             }
            },
            "type": "histogram"
           }
          ],
          "histogram2d": [
           {
            "colorbar": {
             "outlinewidth": 0,
             "ticks": ""
            },
            "colorscale": [
             [
              0,
              "#0d0887"
             ],
             [
              0.1111111111111111,
              "#46039f"
             ],
             [
              0.2222222222222222,
              "#7201a8"
             ],
             [
              0.3333333333333333,
              "#9c179e"
             ],
             [
              0.4444444444444444,
              "#bd3786"
             ],
             [
              0.5555555555555556,
              "#d8576b"
             ],
             [
              0.6666666666666666,
              "#ed7953"
             ],
             [
              0.7777777777777778,
              "#fb9f3a"
             ],
             [
              0.8888888888888888,
              "#fdca26"
             ],
             [
              1,
              "#f0f921"
             ]
            ],
            "type": "histogram2d"
           }
          ],
          "histogram2dcontour": [
           {
            "colorbar": {
             "outlinewidth": 0,
             "ticks": ""
            },
            "colorscale": [
             [
              0,
              "#0d0887"
             ],
             [
              0.1111111111111111,
              "#46039f"
             ],
             [
              0.2222222222222222,
              "#7201a8"
             ],
             [
              0.3333333333333333,
              "#9c179e"
             ],
             [
              0.4444444444444444,
              "#bd3786"
             ],
             [
              0.5555555555555556,
              "#d8576b"
             ],
             [
              0.6666666666666666,
              "#ed7953"
             ],
             [
              0.7777777777777778,
              "#fb9f3a"
             ],
             [
              0.8888888888888888,
              "#fdca26"
             ],
             [
              1,
              "#f0f921"
             ]
            ],
            "type": "histogram2dcontour"
           }
          ],
          "mesh3d": [
           {
            "colorbar": {
             "outlinewidth": 0,
             "ticks": ""
            },
            "type": "mesh3d"
           }
          ],
          "parcoords": [
           {
            "line": {
             "colorbar": {
              "outlinewidth": 0,
              "ticks": ""
             }
            },
            "type": "parcoords"
           }
          ],
          "scatter": [
           {
            "marker": {
             "colorbar": {
              "outlinewidth": 0,
              "ticks": ""
             }
            },
            "type": "scatter"
           }
          ],
          "scatter3d": [
           {
            "line": {
             "colorbar": {
              "outlinewidth": 0,
              "ticks": ""
             }
            },
            "marker": {
             "colorbar": {
              "outlinewidth": 0,
              "ticks": ""
             }
            },
            "type": "scatter3d"
           }
          ],
          "scattercarpet": [
           {
            "marker": {
             "colorbar": {
              "outlinewidth": 0,
              "ticks": ""
             }
            },
            "type": "scattercarpet"
           }
          ],
          "scattergeo": [
           {
            "marker": {
             "colorbar": {
              "outlinewidth": 0,
              "ticks": ""
             }
            },
            "type": "scattergeo"
           }
          ],
          "scattergl": [
           {
            "marker": {
             "colorbar": {
              "outlinewidth": 0,
              "ticks": ""
             }
            },
            "type": "scattergl"
           }
          ],
          "scattermapbox": [
           {
            "marker": {
             "colorbar": {
              "outlinewidth": 0,
              "ticks": ""
             }
            },
            "type": "scattermapbox"
           }
          ],
          "scatterpolar": [
           {
            "marker": {
             "colorbar": {
              "outlinewidth": 0,
              "ticks": ""
             }
            },
            "type": "scatterpolar"
           }
          ],
          "scatterpolargl": [
           {
            "marker": {
             "colorbar": {
              "outlinewidth": 0,
              "ticks": ""
             }
            },
            "type": "scatterpolargl"
           }
          ],
          "scatterternary": [
           {
            "marker": {
             "colorbar": {
              "outlinewidth": 0,
              "ticks": ""
             }
            },
            "type": "scatterternary"
           }
          ],
          "surface": [
           {
            "colorbar": {
             "outlinewidth": 0,
             "ticks": ""
            },
            "colorscale": [
             [
              0,
              "#0d0887"
             ],
             [
              0.1111111111111111,
              "#46039f"
             ],
             [
              0.2222222222222222,
              "#7201a8"
             ],
             [
              0.3333333333333333,
              "#9c179e"
             ],
             [
              0.4444444444444444,
              "#bd3786"
             ],
             [
              0.5555555555555556,
              "#d8576b"
             ],
             [
              0.6666666666666666,
              "#ed7953"
             ],
             [
              0.7777777777777778,
              "#fb9f3a"
             ],
             [
              0.8888888888888888,
              "#fdca26"
             ],
             [
              1,
              "#f0f921"
             ]
            ],
            "type": "surface"
           }
          ],
          "table": [
           {
            "cells": {
             "fill": {
              "color": "#EBF0F8"
             },
             "line": {
              "color": "white"
             }
            },
            "header": {
             "fill": {
              "color": "#C8D4E3"
             },
             "line": {
              "color": "white"
             }
            },
            "type": "table"
           }
          ]
         },
         "layout": {
          "annotationdefaults": {
           "arrowcolor": "#2a3f5f",
           "arrowhead": 0,
           "arrowwidth": 1
          },
          "colorscale": {
           "diverging": [
            [
             0,
             "#8e0152"
            ],
            [
             0.1,
             "#c51b7d"
            ],
            [
             0.2,
             "#de77ae"
            ],
            [
             0.3,
             "#f1b6da"
            ],
            [
             0.4,
             "#fde0ef"
            ],
            [
             0.5,
             "#f7f7f7"
            ],
            [
             0.6,
             "#e6f5d0"
            ],
            [
             0.7,
             "#b8e186"
            ],
            [
             0.8,
             "#7fbc41"
            ],
            [
             0.9,
             "#4d9221"
            ],
            [
             1,
             "#276419"
            ]
           ],
           "sequential": [
            [
             0,
             "#0d0887"
            ],
            [
             0.1111111111111111,
             "#46039f"
            ],
            [
             0.2222222222222222,
             "#7201a8"
            ],
            [
             0.3333333333333333,
             "#9c179e"
            ],
            [
             0.4444444444444444,
             "#bd3786"
            ],
            [
             0.5555555555555556,
             "#d8576b"
            ],
            [
             0.6666666666666666,
             "#ed7953"
            ],
            [
             0.7777777777777778,
             "#fb9f3a"
            ],
            [
             0.8888888888888888,
             "#fdca26"
            ],
            [
             1,
             "#f0f921"
            ]
           ],
           "sequentialminus": [
            [
             0,
             "#0d0887"
            ],
            [
             0.1111111111111111,
             "#46039f"
            ],
            [
             0.2222222222222222,
             "#7201a8"
            ],
            [
             0.3333333333333333,
             "#9c179e"
            ],
            [
             0.4444444444444444,
             "#bd3786"
            ],
            [
             0.5555555555555556,
             "#d8576b"
            ],
            [
             0.6666666666666666,
             "#ed7953"
            ],
            [
             0.7777777777777778,
             "#fb9f3a"
            ],
            [
             0.8888888888888888,
             "#fdca26"
            ],
            [
             1,
             "#f0f921"
            ]
           ]
          },
          "colorway": [
           "#636efa",
           "#EF553B",
           "#00cc96",
           "#ab63fa",
           "#FFA15A",
           "#19d3f3",
           "#FF6692",
           "#B6E880",
           "#FF97FF",
           "#FECB52"
          ],
          "font": {
           "color": "#2a3f5f"
          },
          "geo": {
           "bgcolor": "white",
           "lakecolor": "white",
           "landcolor": "#E5ECF6",
           "showlakes": true,
           "showland": true,
           "subunitcolor": "white"
          },
          "hoverlabel": {
           "align": "left"
          },
          "hovermode": "closest",
          "mapbox": {
           "style": "light"
          },
          "paper_bgcolor": "white",
          "plot_bgcolor": "#E5ECF6",
          "polar": {
           "angularaxis": {
            "gridcolor": "white",
            "linecolor": "white",
            "ticks": ""
           },
           "bgcolor": "#E5ECF6",
           "radialaxis": {
            "gridcolor": "white",
            "linecolor": "white",
            "ticks": ""
           }
          },
          "scene": {
           "xaxis": {
            "backgroundcolor": "#E5ECF6",
            "gridcolor": "white",
            "gridwidth": 2,
            "linecolor": "white",
            "showbackground": true,
            "ticks": "",
            "zerolinecolor": "white"
           },
           "yaxis": {
            "backgroundcolor": "#E5ECF6",
            "gridcolor": "white",
            "gridwidth": 2,
            "linecolor": "white",
            "showbackground": true,
            "ticks": "",
            "zerolinecolor": "white"
           },
           "zaxis": {
            "backgroundcolor": "#E5ECF6",
            "gridcolor": "white",
            "gridwidth": 2,
            "linecolor": "white",
            "showbackground": true,
            "ticks": "",
            "zerolinecolor": "white"
           }
          },
          "shapedefaults": {
           "line": {
            "color": "#2a3f5f"
           }
          },
          "ternary": {
           "aaxis": {
            "gridcolor": "white",
            "linecolor": "white",
            "ticks": ""
           },
           "baxis": {
            "gridcolor": "white",
            "linecolor": "white",
            "ticks": ""
           },
           "bgcolor": "#E5ECF6",
           "caxis": {
            "gridcolor": "white",
            "linecolor": "white",
            "ticks": ""
           }
          },
          "title": {
           "x": 0.05
          },
          "xaxis": {
           "automargin": true,
           "gridcolor": "white",
           "linecolor": "white",
           "ticks": "",
           "zerolinecolor": "white",
           "zerolinewidth": 2
          },
          "yaxis": {
           "automargin": true,
           "gridcolor": "white",
           "linecolor": "white",
           "ticks": "",
           "zerolinecolor": "white",
           "zerolinewidth": 2
          }
         }
        },
        "title": {
         "font": {
          "color": "#4D5663"
         }
        },
        "xaxis": {
         "gridcolor": "#E1E5ED",
         "showgrid": true,
         "tickfont": {
          "color": "#4D5663"
         },
         "title": {
          "font": {
           "color": "#4D5663"
          },
          "text": ""
         },
         "zerolinecolor": "#E1E5ED"
        },
        "xaxis2": {
         "anchor": "y2",
         "gridcolor": "#E1E5ED",
         "showgrid": true,
         "showticklabels": false,
         "tickfont": {
          "color": "#4D5663"
         },
         "title": {
          "font": {
           "color": "#4D5663"
          },
          "text": ""
         },
         "zerolinecolor": "#E1E5ED"
        },
        "yaxis": {
         "domain": [
          0.3,
          1
         ],
         "gridcolor": "#E1E5ED",
         "showgrid": true,
         "tickfont": {
          "color": "#4D5663"
         },
         "title": {
          "font": {
           "color": "#4D5663"
          },
          "text": ""
         },
         "zerolinecolor": "#E1E5ED"
        },
        "yaxis2": {
         "domain": [
          0,
          0.25
         ],
         "gridcolor": "#E1E5ED",
         "showgrid": true,
         "tickfont": {
          "color": "#4D5663"
         },
         "title": {
          "font": {
           "color": "#4D5663"
          },
          "text": "Spread"
         },
         "zerolinecolor": "#E1E5ED"
        }
       }
      },
      "text/html": [
       "<div>\n",
       "        \n",
       "        \n",
       "            <div id=\"2c34b6f3-4dda-4471-8193-b2d76f7c161d\" class=\"plotly-graph-div\" style=\"height:525px; width:100%;\"></div>\n",
       "            <script type=\"text/javascript\">\n",
       "                require([\"plotly\"], function(Plotly) {\n",
       "                    window.PLOTLYENV=window.PLOTLYENV || {};\n",
       "                    window.PLOTLYENV.BASE_URL='https://plot.ly';\n",
       "                    \n",
       "                if (document.getElementById(\"2c34b6f3-4dda-4471-8193-b2d76f7c161d\")) {\n",
       "                    Plotly.newPlot(\n",
       "                        '2c34b6f3-4dda-4471-8193-b2d76f7c161d',\n",
       "                        [{\"line\": {\"color\": \"rgba(255, 153, 51, 1.0)\", \"dash\": \"solid\", \"shape\": \"linear\", \"width\": 1.3}, \"mode\": \"lines\", \"name\": \"A\", \"text\": \"\", \"type\": \"scatter\", \"x\": [0, 1, 2, 3, 4, 5, 6, 7, 8, 9, 10, 11, 12, 13, 14, 15, 16, 17, 18, 19, 20, 21, 22, 23, 24, 25, 26, 27, 28, 29, 30, 31, 32, 33, 34, 35, 36, 37, 38, 39, 40, 41, 42, 43, 44, 45, 46, 47, 48, 49, 50, 51, 52, 53, 54, 55, 56, 57, 58, 59, 60, 61, 62, 63, 64, 65, 66, 67, 68, 69, 70, 71, 72, 73, 74, 75, 76, 77, 78, 79, 80, 81, 82, 83, 84, 85, 86, 87, 88, 89, 90, 91, 92, 93, 94, 95, 96, 97, 98, 99], \"y\": [0.2677202100092553, 0.029401801300603495, 1.6333155976582325, -0.15395081213775003, -0.14413501408846446, -1.6449448335712324, -0.14949460123467992, 0.3339491948644246, -2.597094399834224, 0.31658962768094867, 0.8786647987727886, -1.3432173218877443, -0.7847668533324995, -0.837875974898997, -0.16072258922436436, 0.5380362625214631, 0.8018472514118294, 2.225050418870336, 0.06312688222115209, -0.2819821780153154, 0.4561975529941592, 0.9540050098411976, -0.5772141596534164, 0.2533501925563586, -1.8640188679329512, 0.24686965021478458, -1.5145631567705737, 0.8539396046950519, 0.0530587181385824, -1.1056944602495598, -0.8106609561461899, 1.9999438998844243, -1.696019592198367, 0.27035476500109734, 0.3448685019844587, 2.4332894470526885, 1.0183035709639316, -1.0635862704484549, -0.4404129255558789, -1.2016635715406303, -0.7349321325596352, 0.2912459365897682, 1.1057264089740584, -1.3474952757494583, 1.3656261037787343, 1.4668789210387587, 1.1341137118535645, -0.797166045752831, -0.8437538847577685, -0.6578538590564416, -2.800744340160438, -1.464933962422879, 0.18579368606777028, 0.2716661071690678, -1.388396543205864, 0.5651575972514904, 1.870569345198021, -0.01803795079444882, 0.5445561374341695, 1.3100419598906323, 0.9269117310037176, 1.2170550881202022, 0.5977731119509945, 1.4658503908815197, -0.7133295308487775, -1.6072561105549357, -1.1583952519354686, -0.5675193850198321, 0.18395561276829986, 1.5629117365627527, -0.6459481567494111, 0.6451808366860189, -1.140277317678325, 0.9201965824358878, 0.5628508849829402, 0.06223168643101446, 0.3830041460378295, -1.7425635857356514, 2.68853762149162, -1.5873613032422402, 1.2103667304439776, 0.4483515828616707, 0.3069526013666004, -0.3056869359478956, 0.43649977563834447, -0.3367048914567436, -0.8743257220013367, 0.9018109380439379, 0.4495422955436478, -1.1129199575924928, 0.8875442142140842, -1.0279242303493357, 2.1826050258379954, 1.3416997099219075, -0.5444380801553921, -1.3906335395822353, 0.603842679050368, 1.4479816718381482, 2.2801894155665146, 0.2948305425715559]}, {\"line\": {\"color\": \"rgba(55, 128, 191, 1.0)\", \"dash\": \"solid\", \"shape\": \"linear\", \"width\": 1.3}, \"mode\": \"lines\", \"name\": \"B\", \"text\": \"\", \"type\": \"scatter\", \"x\": [0, 1, 2, 3, 4, 5, 6, 7, 8, 9, 10, 11, 12, 13, 14, 15, 16, 17, 18, 19, 20, 21, 22, 23, 24, 25, 26, 27, 28, 29, 30, 31, 32, 33, 34, 35, 36, 37, 38, 39, 40, 41, 42, 43, 44, 45, 46, 47, 48, 49, 50, 51, 52, 53, 54, 55, 56, 57, 58, 59, 60, 61, 62, 63, 64, 65, 66, 67, 68, 69, 70, 71, 72, 73, 74, 75, 76, 77, 78, 79, 80, 81, 82, 83, 84, 85, 86, 87, 88, 89, 90, 91, 92, 93, 94, 95, 96, 97, 98, 99], \"y\": [-0.4325321712751128, -1.5460924544980112, 0.10273563589960194, -0.4367522969617371, -0.37250903654265705, 2.495901049673792, 0.4543077408140475, -0.30651567349031394, -0.38977321361290346, 0.25333239787958034, -0.6518531750893366, -1.1598463133588912, -0.2502549143354412, -0.20151676688773343, 1.5980566808370873, 0.029402384373415722, -0.2269876865330706, -0.33008870211174673, 0.8804252708319859, 0.540454682551017, -0.056564992295370896, -1.543266073278203, -0.1517454722774265, 0.48850921701499184, -1.5218659923324995, 0.48252528692933, -1.1739288126024365, -0.2661170255448922, -0.12089999686922906, 2.207181673471075, 1.3492640917725967, -0.07360631969307191, -0.8428718809880091, 0.6541993474215966, 1.832577954017896, -0.8000301318162512, 0.5912931904834581, -0.1648826924515067, 0.7513998380294736, -0.36636501022202067, 0.4479585738911855, 0.01652610289102157, 1.4436301181798241, 1.198114629977769, -0.12417129548519844, -1.635490725015796, 0.9659152618319634, -0.22163192420780028, 0.13906379998407672, -0.5933198954392768, 0.09517724473066766, -0.6565492491460867, -0.7362795364472919, -0.4868621253603264, -1.0520977748564473, -2.4117622058518284, -2.131492724081454, 0.8115720023991889, -0.2685434009579712, -0.5963652446589135, 2.474124392200335, 0.06911688071229449, -1.1365645282692047, -0.7563200775798268, -0.8945050849648055, 0.8551433639677785, -0.18826810908634953, 1.4656718925668768, -0.056481576159804245, 0.982213228229109, 1.2540302807344708, 2.269188395378155, 0.5868297415228718, -1.3920972094032944, 0.2580819064645278, -0.5126588457434668, 0.8421125394269273, -0.7731775605236191, -2.401552932218778, -1.0766545233237557, -1.0115670858119716, 0.5303470084085685, -0.02356719985016988, -0.11813249614427222, 0.6296570442736785, -0.8320580612521427, -0.49955935500329185, -0.13027097894996809, -0.081474351975949, 0.27830415447931356, 1.218265733122561, 1.4955858477436832, -0.11999165184828173, -2.0658962422542575, -1.2836654857950553, -2.868162817942856, -2.363789031238105, -0.5279276194071908, -0.08225036746740437, -0.47129768728363813]}, {\"connectgaps\": false, \"fill\": \"tozeroy\", \"line\": {\"color\": \"green\", \"dash\": \"solid\", \"shape\": \"linear\", \"width\": 0.5}, \"mode\": \"lines\", \"name\": \"Spread\", \"showlegend\": false, \"type\": \"scatter\", \"x\": [0, 1, 2, 3, 4, 5, 6, 7, 8, 9, 10, 11, 12, 13, 14, 15, 16, 17, 18, 19, 20, 21, 22, 23, 24, 25, 26, 27, 28, 29, 30, 31, 32, 33, 34, 35, 36, 37, 38, 39, 40, 41, 42, 43, 44, 45, 46, 47, 48, 49, 50, 51, 52, 53, 54, 55, 56, 57, 58, 59, 60, 61, 62, 63, 64, 65, 66, 67, 68, 69, 70, 71, 72, 73, 74, 75, 76, 77, 78, 79, 80, 81, 82, 83, 84, 85, 86, 87, 88, 89, 90, 91, 92, 93, 94, 95, 96, 97, 98, 99], \"xaxis\": \"x2\", \"y\": [0.7002523812843681, 1.5754942557986147, 1.5305799617586306, 0.2828014848239871, 0.22837402245419258, \"\", \"\", 0.6404648683547385, \"\", 0.06325722980136833, 1.5305179738621253, \"\", \"\", \"\", \"\", 0.5086338781480474, 1.0288349379449, 2.555139120982083, \"\", \"\", 0.5127625452895301, 2.4972710831194007, \"\", \"\", \"\", \"\", \"\", 1.1200566302399442, 0.17395871500781146, \"\", \"\", 2.073550219577496, \"\", \"\", \"\", 3.2333195788689397, 0.4270103804804736, \"\", \"\", \"\", \"\", 0.27471983369874664, \"\", \"\", 1.4897973992639326, 3.1023696460545547, 0.16819845002160105, \"\", \"\", \"\", \"\", \"\", 0.9220732225150622, 0.7585282325293943, \"\", 2.9769198031033186, 4.002062069279475, \"\", 0.8130995383921407, 1.906407204549546, \"\", 1.1479382074079076, 1.734337640220199, 2.2221704684613464, 0.18117555411602804, \"\", \"\", \"\", 0.24043718892810412, 0.5806985083336438, \"\", \"\", \"\", 2.312293791839182, 0.30476897851841245, 0.5748905321744813, \"\", \"\", 5.090090553710398, \"\", 2.221933816255949, \"\", 0.33051980121677027, \"\", \"\", 0.49535316979539906, \"\", 1.032081916993906, 0.5310166475195968, \"\", \"\", \"\", 2.302596677686277, 3.407595952176165, 0.7392274056396633, 1.4775292783606206, 2.9676317102884733, 1.975909291245339, 2.3624397830339188, 0.766128229855194], \"yaxis\": \"y2\"}, {\"connectgaps\": false, \"fill\": \"tozeroy\", \"line\": {\"color\": \"red\", \"dash\": \"solid\", \"shape\": \"linear\", \"width\": 0.5}, \"mode\": \"lines\", \"name\": \"Spread\", \"showlegend\": false, \"type\": \"scatter\", \"x\": [0, 1, 2, 3, 4, 5, 6, 7, 8, 9, 10, 11, 12, 13, 14, 15, 16, 17, 18, 19, 20, 21, 22, 23, 24, 25, 26, 27, 28, 29, 30, 31, 32, 33, 34, 35, 36, 37, 38, 39, 40, 41, 42, 43, 44, 45, 46, 47, 48, 49, 50, 51, 52, 53, 54, 55, 56, 57, 58, 59, 60, 61, 62, 63, 64, 65, 66, 67, 68, 69, 70, 71, 72, 73, 74, 75, 76, 77, 78, 79, 80, 81, 82, 83, 84, 85, 86, 87, 88, 89, 90, 91, 92, 93, 94, 95, 96, 97, 98, 99], \"xaxis\": \"x2\", \"y\": [\"\", \"\", \"\", \"\", \"\", -4.140845883245024, -0.6038023420487274, \"\", -2.207321186221321, \"\", \"\", -0.18337100852885313, -0.5345119389970583, -0.6363592080112636, -1.7587792700614517, \"\", \"\", \"\", -0.8172983886108338, -0.8224368605663324, \"\", \"\", -0.42546868737598986, -0.23515902445863324, -0.3421528756004517, -0.23565563671454542, -0.3406343441681372, \"\", \"\", -3.3128761337206347, -2.1599250479187866, \"\", -0.8531477112103578, -0.38384458242049924, -1.4877094520334373, \"\", \"\", -0.8987035779969482, -1.1918127635853526, -0.8352985613186097, -1.1828907064508207, \"\", -0.33790370920576573, -2.5456099057272272, \"\", \"\", \"\", -0.5755341215450307, -0.9828176847418452, -0.06453396361716479, -2.8959215848911057, -0.8083847132767923, \"\", \"\", -0.33629876834941674, \"\", \"\", -0.8296099531936377, \"\", \"\", -1.5472126611966175, \"\", \"\", \"\", \"\", -2.462399474522714, -0.970127142849119, -2.0331912775867087, \"\", \"\", -1.899978437483882, -1.6240075586921359, -1.7271070592011968, \"\", \"\", \"\", -0.4591083933890978, -0.9693860252120323, \"\", -0.5107067799184846, \"\", -0.08199542554689782, \"\", -0.18755443980362335, -0.19315726863533406, \"\", -0.3747663669980449, \"\", \"\", -1.3912241120718063, -0.3307215189084768, -2.523510078093019, \"\", \"\", \"\", \"\", \"\", \"\", \"\", \"\"], \"yaxis\": \"y2\"}],\n",
       "                        {\"hovermode\": \"x\", \"legend\": {\"bgcolor\": \"#F5F6F9\", \"font\": {\"color\": \"#4D5663\"}}, \"paper_bgcolor\": \"#F5F6F9\", \"plot_bgcolor\": \"#F5F6F9\", \"template\": {\"data\": {\"bar\": [{\"error_x\": {\"color\": \"#2a3f5f\"}, \"error_y\": {\"color\": \"#2a3f5f\"}, \"marker\": {\"line\": {\"color\": \"#E5ECF6\", \"width\": 0.5}}, \"type\": \"bar\"}], \"barpolar\": [{\"marker\": {\"line\": {\"color\": \"#E5ECF6\", \"width\": 0.5}}, \"type\": \"barpolar\"}], \"carpet\": [{\"aaxis\": {\"endlinecolor\": \"#2a3f5f\", \"gridcolor\": \"white\", \"linecolor\": \"white\", \"minorgridcolor\": \"white\", \"startlinecolor\": \"#2a3f5f\"}, \"baxis\": {\"endlinecolor\": \"#2a3f5f\", \"gridcolor\": \"white\", \"linecolor\": \"white\", \"minorgridcolor\": \"white\", \"startlinecolor\": \"#2a3f5f\"}, \"type\": \"carpet\"}], \"choropleth\": [{\"colorbar\": {\"outlinewidth\": 0, \"ticks\": \"\"}, \"type\": \"choropleth\"}], \"contour\": [{\"colorbar\": {\"outlinewidth\": 0, \"ticks\": \"\"}, \"colorscale\": [[0.0, \"#0d0887\"], [0.1111111111111111, \"#46039f\"], [0.2222222222222222, \"#7201a8\"], [0.3333333333333333, \"#9c179e\"], [0.4444444444444444, \"#bd3786\"], [0.5555555555555556, \"#d8576b\"], [0.6666666666666666, \"#ed7953\"], [0.7777777777777778, \"#fb9f3a\"], [0.8888888888888888, \"#fdca26\"], [1.0, \"#f0f921\"]], \"type\": \"contour\"}], \"contourcarpet\": [{\"colorbar\": {\"outlinewidth\": 0, \"ticks\": \"\"}, \"type\": \"contourcarpet\"}], \"heatmap\": [{\"colorbar\": {\"outlinewidth\": 0, \"ticks\": \"\"}, \"colorscale\": [[0.0, \"#0d0887\"], [0.1111111111111111, \"#46039f\"], [0.2222222222222222, \"#7201a8\"], [0.3333333333333333, \"#9c179e\"], [0.4444444444444444, \"#bd3786\"], [0.5555555555555556, \"#d8576b\"], [0.6666666666666666, \"#ed7953\"], [0.7777777777777778, \"#fb9f3a\"], [0.8888888888888888, \"#fdca26\"], [1.0, \"#f0f921\"]], \"type\": \"heatmap\"}], \"heatmapgl\": [{\"colorbar\": {\"outlinewidth\": 0, \"ticks\": \"\"}, \"colorscale\": [[0.0, \"#0d0887\"], [0.1111111111111111, \"#46039f\"], [0.2222222222222222, \"#7201a8\"], [0.3333333333333333, \"#9c179e\"], [0.4444444444444444, \"#bd3786\"], [0.5555555555555556, \"#d8576b\"], [0.6666666666666666, \"#ed7953\"], [0.7777777777777778, \"#fb9f3a\"], [0.8888888888888888, \"#fdca26\"], [1.0, \"#f0f921\"]], \"type\": \"heatmapgl\"}], \"histogram\": [{\"marker\": {\"colorbar\": {\"outlinewidth\": 0, \"ticks\": \"\"}}, \"type\": \"histogram\"}], \"histogram2d\": [{\"colorbar\": {\"outlinewidth\": 0, \"ticks\": \"\"}, \"colorscale\": [[0.0, \"#0d0887\"], [0.1111111111111111, \"#46039f\"], [0.2222222222222222, \"#7201a8\"], [0.3333333333333333, \"#9c179e\"], [0.4444444444444444, \"#bd3786\"], [0.5555555555555556, \"#d8576b\"], [0.6666666666666666, \"#ed7953\"], [0.7777777777777778, \"#fb9f3a\"], [0.8888888888888888, \"#fdca26\"], [1.0, \"#f0f921\"]], \"type\": \"histogram2d\"}], \"histogram2dcontour\": [{\"colorbar\": {\"outlinewidth\": 0, \"ticks\": \"\"}, \"colorscale\": [[0.0, \"#0d0887\"], [0.1111111111111111, \"#46039f\"], [0.2222222222222222, \"#7201a8\"], [0.3333333333333333, \"#9c179e\"], [0.4444444444444444, \"#bd3786\"], [0.5555555555555556, \"#d8576b\"], [0.6666666666666666, \"#ed7953\"], [0.7777777777777778, \"#fb9f3a\"], [0.8888888888888888, \"#fdca26\"], [1.0, \"#f0f921\"]], \"type\": \"histogram2dcontour\"}], \"mesh3d\": [{\"colorbar\": {\"outlinewidth\": 0, \"ticks\": \"\"}, \"type\": \"mesh3d\"}], \"parcoords\": [{\"line\": {\"colorbar\": {\"outlinewidth\": 0, \"ticks\": \"\"}}, \"type\": \"parcoords\"}], \"scatter\": [{\"marker\": {\"colorbar\": {\"outlinewidth\": 0, \"ticks\": \"\"}}, \"type\": \"scatter\"}], \"scatter3d\": [{\"line\": {\"colorbar\": {\"outlinewidth\": 0, \"ticks\": \"\"}}, \"marker\": {\"colorbar\": {\"outlinewidth\": 0, \"ticks\": \"\"}}, \"type\": \"scatter3d\"}], \"scattercarpet\": [{\"marker\": {\"colorbar\": {\"outlinewidth\": 0, \"ticks\": \"\"}}, \"type\": \"scattercarpet\"}], \"scattergeo\": [{\"marker\": {\"colorbar\": {\"outlinewidth\": 0, \"ticks\": \"\"}}, \"type\": \"scattergeo\"}], \"scattergl\": [{\"marker\": {\"colorbar\": {\"outlinewidth\": 0, \"ticks\": \"\"}}, \"type\": \"scattergl\"}], \"scattermapbox\": [{\"marker\": {\"colorbar\": {\"outlinewidth\": 0, \"ticks\": \"\"}}, \"type\": \"scattermapbox\"}], \"scatterpolar\": [{\"marker\": {\"colorbar\": {\"outlinewidth\": 0, \"ticks\": \"\"}}, \"type\": \"scatterpolar\"}], \"scatterpolargl\": [{\"marker\": {\"colorbar\": {\"outlinewidth\": 0, \"ticks\": \"\"}}, \"type\": \"scatterpolargl\"}], \"scatterternary\": [{\"marker\": {\"colorbar\": {\"outlinewidth\": 0, \"ticks\": \"\"}}, \"type\": \"scatterternary\"}], \"surface\": [{\"colorbar\": {\"outlinewidth\": 0, \"ticks\": \"\"}, \"colorscale\": [[0.0, \"#0d0887\"], [0.1111111111111111, \"#46039f\"], [0.2222222222222222, \"#7201a8\"], [0.3333333333333333, \"#9c179e\"], [0.4444444444444444, \"#bd3786\"], [0.5555555555555556, \"#d8576b\"], [0.6666666666666666, \"#ed7953\"], [0.7777777777777778, \"#fb9f3a\"], [0.8888888888888888, \"#fdca26\"], [1.0, \"#f0f921\"]], \"type\": \"surface\"}], \"table\": [{\"cells\": {\"fill\": {\"color\": \"#EBF0F8\"}, \"line\": {\"color\": \"white\"}}, \"header\": {\"fill\": {\"color\": \"#C8D4E3\"}, \"line\": {\"color\": \"white\"}}, \"type\": \"table\"}]}, \"layout\": {\"annotationdefaults\": {\"arrowcolor\": \"#2a3f5f\", \"arrowhead\": 0, \"arrowwidth\": 1}, \"colorscale\": {\"diverging\": [[0, \"#8e0152\"], [0.1, \"#c51b7d\"], [0.2, \"#de77ae\"], [0.3, \"#f1b6da\"], [0.4, \"#fde0ef\"], [0.5, \"#f7f7f7\"], [0.6, \"#e6f5d0\"], [0.7, \"#b8e186\"], [0.8, \"#7fbc41\"], [0.9, \"#4d9221\"], [1, \"#276419\"]], \"sequential\": [[0.0, \"#0d0887\"], [0.1111111111111111, \"#46039f\"], [0.2222222222222222, \"#7201a8\"], [0.3333333333333333, \"#9c179e\"], [0.4444444444444444, \"#bd3786\"], [0.5555555555555556, \"#d8576b\"], [0.6666666666666666, \"#ed7953\"], [0.7777777777777778, \"#fb9f3a\"], [0.8888888888888888, \"#fdca26\"], [1.0, \"#f0f921\"]], \"sequentialminus\": [[0.0, \"#0d0887\"], [0.1111111111111111, \"#46039f\"], [0.2222222222222222, \"#7201a8\"], [0.3333333333333333, \"#9c179e\"], [0.4444444444444444, \"#bd3786\"], [0.5555555555555556, \"#d8576b\"], [0.6666666666666666, \"#ed7953\"], [0.7777777777777778, \"#fb9f3a\"], [0.8888888888888888, \"#fdca26\"], [1.0, \"#f0f921\"]]}, \"colorway\": [\"#636efa\", \"#EF553B\", \"#00cc96\", \"#ab63fa\", \"#FFA15A\", \"#19d3f3\", \"#FF6692\", \"#B6E880\", \"#FF97FF\", \"#FECB52\"], \"font\": {\"color\": \"#2a3f5f\"}, \"geo\": {\"bgcolor\": \"white\", \"lakecolor\": \"white\", \"landcolor\": \"#E5ECF6\", \"showlakes\": true, \"showland\": true, \"subunitcolor\": \"white\"}, \"hoverlabel\": {\"align\": \"left\"}, \"hovermode\": \"closest\", \"mapbox\": {\"style\": \"light\"}, \"paper_bgcolor\": \"white\", \"plot_bgcolor\": \"#E5ECF6\", \"polar\": {\"angularaxis\": {\"gridcolor\": \"white\", \"linecolor\": \"white\", \"ticks\": \"\"}, \"bgcolor\": \"#E5ECF6\", \"radialaxis\": {\"gridcolor\": \"white\", \"linecolor\": \"white\", \"ticks\": \"\"}}, \"scene\": {\"xaxis\": {\"backgroundcolor\": \"#E5ECF6\", \"gridcolor\": \"white\", \"gridwidth\": 2, \"linecolor\": \"white\", \"showbackground\": true, \"ticks\": \"\", \"zerolinecolor\": \"white\"}, \"yaxis\": {\"backgroundcolor\": \"#E5ECF6\", \"gridcolor\": \"white\", \"gridwidth\": 2, \"linecolor\": \"white\", \"showbackground\": true, \"ticks\": \"\", \"zerolinecolor\": \"white\"}, \"zaxis\": {\"backgroundcolor\": \"#E5ECF6\", \"gridcolor\": \"white\", \"gridwidth\": 2, \"linecolor\": \"white\", \"showbackground\": true, \"ticks\": \"\", \"zerolinecolor\": \"white\"}}, \"shapedefaults\": {\"line\": {\"color\": \"#2a3f5f\"}}, \"ternary\": {\"aaxis\": {\"gridcolor\": \"white\", \"linecolor\": \"white\", \"ticks\": \"\"}, \"baxis\": {\"gridcolor\": \"white\", \"linecolor\": \"white\", \"ticks\": \"\"}, \"bgcolor\": \"#E5ECF6\", \"caxis\": {\"gridcolor\": \"white\", \"linecolor\": \"white\", \"ticks\": \"\"}}, \"title\": {\"x\": 0.05}, \"xaxis\": {\"automargin\": true, \"gridcolor\": \"white\", \"linecolor\": \"white\", \"ticks\": \"\", \"zerolinecolor\": \"white\", \"zerolinewidth\": 2}, \"yaxis\": {\"automargin\": true, \"gridcolor\": \"white\", \"linecolor\": \"white\", \"ticks\": \"\", \"zerolinecolor\": \"white\", \"zerolinewidth\": 2}}}, \"title\": {\"font\": {\"color\": \"#4D5663\"}}, \"xaxis\": {\"gridcolor\": \"#E1E5ED\", \"showgrid\": true, \"tickfont\": {\"color\": \"#4D5663\"}, \"title\": {\"font\": {\"color\": \"#4D5663\"}, \"text\": \"\"}, \"zerolinecolor\": \"#E1E5ED\"}, \"xaxis2\": {\"anchor\": \"y2\", \"gridcolor\": \"#E1E5ED\", \"showgrid\": true, \"showticklabels\": false, \"tickfont\": {\"color\": \"#4D5663\"}, \"title\": {\"font\": {\"color\": \"#4D5663\"}, \"text\": \"\"}, \"zerolinecolor\": \"#E1E5ED\"}, \"yaxis\": {\"domain\": [0.3, 1], \"gridcolor\": \"#E1E5ED\", \"showgrid\": true, \"tickfont\": {\"color\": \"#4D5663\"}, \"title\": {\"font\": {\"color\": \"#4D5663\"}, \"text\": \"\"}, \"zerolinecolor\": \"#E1E5ED\"}, \"yaxis2\": {\"domain\": [0, 0.25], \"gridcolor\": \"#E1E5ED\", \"showgrid\": true, \"tickfont\": {\"color\": \"#4D5663\"}, \"title\": {\"font\": {\"color\": \"#4D5663\"}, \"text\": \"Spread\"}, \"zerolinecolor\": \"#E1E5ED\"}},\n",
       "                        {\"showLink\": true, \"linkText\": \"Export to plot.ly\", \"plotlyServerURL\": \"https://plot.ly\", \"responsive\": true}\n",
       "                    ).then(function(){\n",
       "                            \n",
       "var gd = document.getElementById('2c34b6f3-4dda-4471-8193-b2d76f7c161d');\n",
       "var x = new MutationObserver(function (mutations, observer) {{\n",
       "        var display = window.getComputedStyle(gd).display;\n",
       "        if (!display || display === 'none') {{\n",
       "            console.log([gd, 'removed!']);\n",
       "            Plotly.purge(gd);\n",
       "            observer.disconnect();\n",
       "        }}\n",
       "}});\n",
       "\n",
       "// Listen for the removal of the full notebook cells\n",
       "var notebookContainer = gd.closest('#notebook-container');\n",
       "if (notebookContainer) {{\n",
       "    x.observe(notebookContainer, {childList: true});\n",
       "}}\n",
       "\n",
       "// Listen for the clearing of the current output cell\n",
       "var outputEl = gd.closest('.output');\n",
       "if (outputEl) {{\n",
       "    x.observe(outputEl, {childList: true});\n",
       "}}\n",
       "\n",
       "                        })\n",
       "                };\n",
       "                });\n",
       "            </script>\n",
       "        </div>"
      ]
     },
     "metadata": {},
     "output_type": "display_data"
    }
   ],
   "source": [
    " ## Ex.7 Spread \n",
    "\n",
    "df[['A','B']].iplot(kind = 'spread') ##Useful to see the spread when analyzing stock data"
   ]
  },
  {
   "cell_type": "code",
   "execution_count": 24,
   "metadata": {},
   "outputs": [
    {
     "data": {
      "application/vnd.plotly.v1+json": {
       "config": {
        "linkText": "Export to plot.ly",
        "plotlyServerURL": "https://plot.ly",
        "showLink": true
       },
       "data": [
        {
         "marker": {
          "color": [
           "rgb(255, 153, 51)",
           "rgb(55, 128, 191)",
           "rgb(50, 171, 96)",
           "rgb(128, 0, 128)",
           "rgb(219, 64, 82)",
           "rgb(0, 128, 128)",
           "rgb(255, 255, 51)",
           "rgb(128, 128, 0)",
           "rgb(251, 128, 114)",
           "rgb(128, 177, 211)"
          ],
          "line": {
           "width": 1.3
          },
          "size": [
           31,
           20,
           43,
           91,
           45,
           48,
           64,
           90,
           51,
           92,
           77,
           52,
           65,
           62,
           53,
           83,
           18,
           48,
           52,
           47,
           69,
           101,
           84,
           72,
           77,
           69,
           37,
           48,
           12,
           78,
           60,
           69,
           48,
           42,
           51,
           65,
           57,
           76,
           66,
           62,
           61,
           54,
           53,
           71,
           41,
           50,
           89,
           106,
           45,
           60,
           49,
           68,
           77,
           73,
           61,
           59,
           65,
           69,
           63,
           70,
           55,
           61,
           68,
           34,
           86,
           42,
           86,
           49,
           50,
           60,
           61,
           45,
           57,
           39,
           61,
           48,
           20,
           84,
           62,
           112,
           64,
           61,
           34,
           52,
           63,
           59,
           22,
           31,
           29,
           45,
           51,
           107,
           91,
           38,
           71,
           72,
           53,
           50,
           53,
           20
          ],
          "symbol": "circle"
         },
         "mode": "markers",
         "text": "",
         "type": "scatter",
         "x": [
          0.2677202100092553,
          0.029401801300603495,
          1.6333155976582325,
          -0.15395081213775003,
          -0.14413501408846446,
          -1.6449448335712324,
          -0.14949460123467992,
          0.3339491948644246,
          -2.597094399834224,
          0.31658962768094867,
          0.8786647987727886,
          -1.3432173218877443,
          -0.7847668533324995,
          -0.837875974898997,
          -0.16072258922436436,
          0.5380362625214631,
          0.8018472514118294,
          2.225050418870336,
          0.06312688222115209,
          -0.2819821780153154,
          0.4561975529941592,
          0.9540050098411976,
          -0.5772141596534164,
          0.2533501925563586,
          -1.8640188679329512,
          0.24686965021478458,
          -1.5145631567705737,
          0.8539396046950519,
          0.0530587181385824,
          -1.1056944602495598,
          -0.8106609561461899,
          1.9999438998844243,
          -1.696019592198367,
          0.27035476500109734,
          0.3448685019844587,
          2.4332894470526885,
          1.0183035709639316,
          -1.0635862704484549,
          -0.4404129255558789,
          -1.2016635715406303,
          -0.7349321325596352,
          0.2912459365897682,
          1.1057264089740584,
          -1.3474952757494583,
          1.3656261037787343,
          1.4668789210387587,
          1.1341137118535645,
          -0.797166045752831,
          -0.8437538847577685,
          -0.6578538590564416,
          -2.800744340160438,
          -1.464933962422879,
          0.18579368606777028,
          0.2716661071690678,
          -1.388396543205864,
          0.5651575972514904,
          1.870569345198021,
          -0.01803795079444882,
          0.5445561374341695,
          1.3100419598906323,
          0.9269117310037176,
          1.2170550881202022,
          0.5977731119509945,
          1.4658503908815197,
          -0.7133295308487775,
          -1.6072561105549357,
          -1.1583952519354686,
          -0.5675193850198321,
          0.18395561276829986,
          1.5629117365627527,
          -0.6459481567494111,
          0.6451808366860189,
          -1.140277317678325,
          0.9201965824358878,
          0.5628508849829402,
          0.06223168643101446,
          0.3830041460378295,
          -1.7425635857356514,
          2.68853762149162,
          -1.5873613032422402,
          1.2103667304439776,
          0.4483515828616707,
          0.3069526013666004,
          -0.3056869359478956,
          0.43649977563834447,
          -0.3367048914567436,
          -0.8743257220013367,
          0.9018109380439379,
          0.4495422955436478,
          -1.1129199575924928,
          0.8875442142140842,
          -1.0279242303493357,
          2.1826050258379954,
          1.3416997099219075,
          -0.5444380801553921,
          -1.3906335395822353,
          0.603842679050368,
          1.4479816718381482,
          2.2801894155665146,
          0.2948305425715559
         ],
         "y": [
          -0.4325321712751128,
          -1.5460924544980112,
          0.10273563589960194,
          -0.4367522969617371,
          -0.37250903654265705,
          2.495901049673792,
          0.4543077408140475,
          -0.30651567349031394,
          -0.38977321361290346,
          0.25333239787958034,
          -0.6518531750893366,
          -1.1598463133588912,
          -0.2502549143354412,
          -0.20151676688773343,
          1.5980566808370873,
          0.029402384373415722,
          -0.2269876865330706,
          -0.33008870211174673,
          0.8804252708319859,
          0.540454682551017,
          -0.056564992295370896,
          -1.543266073278203,
          -0.1517454722774265,
          0.48850921701499184,
          -1.5218659923324995,
          0.48252528692933,
          -1.1739288126024365,
          -0.2661170255448922,
          -0.12089999686922906,
          2.207181673471075,
          1.3492640917725967,
          -0.07360631969307191,
          -0.8428718809880091,
          0.6541993474215966,
          1.832577954017896,
          -0.8000301318162512,
          0.5912931904834581,
          -0.1648826924515067,
          0.7513998380294736,
          -0.36636501022202067,
          0.4479585738911855,
          0.01652610289102157,
          1.4436301181798241,
          1.198114629977769,
          -0.12417129548519844,
          -1.635490725015796,
          0.9659152618319634,
          -0.22163192420780028,
          0.13906379998407672,
          -0.5933198954392768,
          0.09517724473066766,
          -0.6565492491460867,
          -0.7362795364472919,
          -0.4868621253603264,
          -1.0520977748564473,
          -2.4117622058518284,
          -2.131492724081454,
          0.8115720023991889,
          -0.2685434009579712,
          -0.5963652446589135,
          2.474124392200335,
          0.06911688071229449,
          -1.1365645282692047,
          -0.7563200775798268,
          -0.8945050849648055,
          0.8551433639677785,
          -0.18826810908634953,
          1.4656718925668768,
          -0.056481576159804245,
          0.982213228229109,
          1.2540302807344708,
          2.269188395378155,
          0.5868297415228718,
          -1.3920972094032944,
          0.2580819064645278,
          -0.5126588457434668,
          0.8421125394269273,
          -0.7731775605236191,
          -2.401552932218778,
          -1.0766545233237557,
          -1.0115670858119716,
          0.5303470084085685,
          -0.02356719985016988,
          -0.11813249614427222,
          0.6296570442736785,
          -0.8320580612521427,
          -0.49955935500329185,
          -0.13027097894996809,
          -0.081474351975949,
          0.27830415447931356,
          1.218265733122561,
          1.4955858477436832,
          -0.11999165184828173,
          -2.0658962422542575,
          -1.2836654857950553,
          -2.868162817942856,
          -2.363789031238105,
          -0.5279276194071908,
          -0.08225036746740437,
          -0.47129768728363813
         ]
        }
       ],
       "layout": {
        "legend": {
         "bgcolor": "#F5F6F9",
         "font": {
          "color": "#4D5663"
         }
        },
        "paper_bgcolor": "#F5F6F9",
        "plot_bgcolor": "#F5F6F9",
        "template": {
         "data": {
          "bar": [
           {
            "error_x": {
             "color": "#2a3f5f"
            },
            "error_y": {
             "color": "#2a3f5f"
            },
            "marker": {
             "line": {
              "color": "#E5ECF6",
              "width": 0.5
             }
            },
            "type": "bar"
           }
          ],
          "barpolar": [
           {
            "marker": {
             "line": {
              "color": "#E5ECF6",
              "width": 0.5
             }
            },
            "type": "barpolar"
           }
          ],
          "carpet": [
           {
            "aaxis": {
             "endlinecolor": "#2a3f5f",
             "gridcolor": "white",
             "linecolor": "white",
             "minorgridcolor": "white",
             "startlinecolor": "#2a3f5f"
            },
            "baxis": {
             "endlinecolor": "#2a3f5f",
             "gridcolor": "white",
             "linecolor": "white",
             "minorgridcolor": "white",
             "startlinecolor": "#2a3f5f"
            },
            "type": "carpet"
           }
          ],
          "choropleth": [
           {
            "colorbar": {
             "outlinewidth": 0,
             "ticks": ""
            },
            "type": "choropleth"
           }
          ],
          "contour": [
           {
            "colorbar": {
             "outlinewidth": 0,
             "ticks": ""
            },
            "colorscale": [
             [
              0,
              "#0d0887"
             ],
             [
              0.1111111111111111,
              "#46039f"
             ],
             [
              0.2222222222222222,
              "#7201a8"
             ],
             [
              0.3333333333333333,
              "#9c179e"
             ],
             [
              0.4444444444444444,
              "#bd3786"
             ],
             [
              0.5555555555555556,
              "#d8576b"
             ],
             [
              0.6666666666666666,
              "#ed7953"
             ],
             [
              0.7777777777777778,
              "#fb9f3a"
             ],
             [
              0.8888888888888888,
              "#fdca26"
             ],
             [
              1,
              "#f0f921"
             ]
            ],
            "type": "contour"
           }
          ],
          "contourcarpet": [
           {
            "colorbar": {
             "outlinewidth": 0,
             "ticks": ""
            },
            "type": "contourcarpet"
           }
          ],
          "heatmap": [
           {
            "colorbar": {
             "outlinewidth": 0,
             "ticks": ""
            },
            "colorscale": [
             [
              0,
              "#0d0887"
             ],
             [
              0.1111111111111111,
              "#46039f"
             ],
             [
              0.2222222222222222,
              "#7201a8"
             ],
             [
              0.3333333333333333,
              "#9c179e"
             ],
             [
              0.4444444444444444,
              "#bd3786"
             ],
             [
              0.5555555555555556,
              "#d8576b"
             ],
             [
              0.6666666666666666,
              "#ed7953"
             ],
             [
              0.7777777777777778,
              "#fb9f3a"
             ],
             [
              0.8888888888888888,
              "#fdca26"
             ],
             [
              1,
              "#f0f921"
             ]
            ],
            "type": "heatmap"
           }
          ],
          "heatmapgl": [
           {
            "colorbar": {
             "outlinewidth": 0,
             "ticks": ""
            },
            "colorscale": [
             [
              0,
              "#0d0887"
             ],
             [
              0.1111111111111111,
              "#46039f"
             ],
             [
              0.2222222222222222,
              "#7201a8"
             ],
             [
              0.3333333333333333,
              "#9c179e"
             ],
             [
              0.4444444444444444,
              "#bd3786"
             ],
             [
              0.5555555555555556,
              "#d8576b"
             ],
             [
              0.6666666666666666,
              "#ed7953"
             ],
             [
              0.7777777777777778,
              "#fb9f3a"
             ],
             [
              0.8888888888888888,
              "#fdca26"
             ],
             [
              1,
              "#f0f921"
             ]
            ],
            "type": "heatmapgl"
           }
          ],
          "histogram": [
           {
            "marker": {
             "colorbar": {
              "outlinewidth": 0,
              "ticks": ""
             }
            },
            "type": "histogram"
           }
          ],
          "histogram2d": [
           {
            "colorbar": {
             "outlinewidth": 0,
             "ticks": ""
            },
            "colorscale": [
             [
              0,
              "#0d0887"
             ],
             [
              0.1111111111111111,
              "#46039f"
             ],
             [
              0.2222222222222222,
              "#7201a8"
             ],
             [
              0.3333333333333333,
              "#9c179e"
             ],
             [
              0.4444444444444444,
              "#bd3786"
             ],
             [
              0.5555555555555556,
              "#d8576b"
             ],
             [
              0.6666666666666666,
              "#ed7953"
             ],
             [
              0.7777777777777778,
              "#fb9f3a"
             ],
             [
              0.8888888888888888,
              "#fdca26"
             ],
             [
              1,
              "#f0f921"
             ]
            ],
            "type": "histogram2d"
           }
          ],
          "histogram2dcontour": [
           {
            "colorbar": {
             "outlinewidth": 0,
             "ticks": ""
            },
            "colorscale": [
             [
              0,
              "#0d0887"
             ],
             [
              0.1111111111111111,
              "#46039f"
             ],
             [
              0.2222222222222222,
              "#7201a8"
             ],
             [
              0.3333333333333333,
              "#9c179e"
             ],
             [
              0.4444444444444444,
              "#bd3786"
             ],
             [
              0.5555555555555556,
              "#d8576b"
             ],
             [
              0.6666666666666666,
              "#ed7953"
             ],
             [
              0.7777777777777778,
              "#fb9f3a"
             ],
             [
              0.8888888888888888,
              "#fdca26"
             ],
             [
              1,
              "#f0f921"
             ]
            ],
            "type": "histogram2dcontour"
           }
          ],
          "mesh3d": [
           {
            "colorbar": {
             "outlinewidth": 0,
             "ticks": ""
            },
            "type": "mesh3d"
           }
          ],
          "parcoords": [
           {
            "line": {
             "colorbar": {
              "outlinewidth": 0,
              "ticks": ""
             }
            },
            "type": "parcoords"
           }
          ],
          "scatter": [
           {
            "marker": {
             "colorbar": {
              "outlinewidth": 0,
              "ticks": ""
             }
            },
            "type": "scatter"
           }
          ],
          "scatter3d": [
           {
            "line": {
             "colorbar": {
              "outlinewidth": 0,
              "ticks": ""
             }
            },
            "marker": {
             "colorbar": {
              "outlinewidth": 0,
              "ticks": ""
             }
            },
            "type": "scatter3d"
           }
          ],
          "scattercarpet": [
           {
            "marker": {
             "colorbar": {
              "outlinewidth": 0,
              "ticks": ""
             }
            },
            "type": "scattercarpet"
           }
          ],
          "scattergeo": [
           {
            "marker": {
             "colorbar": {
              "outlinewidth": 0,
              "ticks": ""
             }
            },
            "type": "scattergeo"
           }
          ],
          "scattergl": [
           {
            "marker": {
             "colorbar": {
              "outlinewidth": 0,
              "ticks": ""
             }
            },
            "type": "scattergl"
           }
          ],
          "scattermapbox": [
           {
            "marker": {
             "colorbar": {
              "outlinewidth": 0,
              "ticks": ""
             }
            },
            "type": "scattermapbox"
           }
          ],
          "scatterpolar": [
           {
            "marker": {
             "colorbar": {
              "outlinewidth": 0,
              "ticks": ""
             }
            },
            "type": "scatterpolar"
           }
          ],
          "scatterpolargl": [
           {
            "marker": {
             "colorbar": {
              "outlinewidth": 0,
              "ticks": ""
             }
            },
            "type": "scatterpolargl"
           }
          ],
          "scatterternary": [
           {
            "marker": {
             "colorbar": {
              "outlinewidth": 0,
              "ticks": ""
             }
            },
            "type": "scatterternary"
           }
          ],
          "surface": [
           {
            "colorbar": {
             "outlinewidth": 0,
             "ticks": ""
            },
            "colorscale": [
             [
              0,
              "#0d0887"
             ],
             [
              0.1111111111111111,
              "#46039f"
             ],
             [
              0.2222222222222222,
              "#7201a8"
             ],
             [
              0.3333333333333333,
              "#9c179e"
             ],
             [
              0.4444444444444444,
              "#bd3786"
             ],
             [
              0.5555555555555556,
              "#d8576b"
             ],
             [
              0.6666666666666666,
              "#ed7953"
             ],
             [
              0.7777777777777778,
              "#fb9f3a"
             ],
             [
              0.8888888888888888,
              "#fdca26"
             ],
             [
              1,
              "#f0f921"
             ]
            ],
            "type": "surface"
           }
          ],
          "table": [
           {
            "cells": {
             "fill": {
              "color": "#EBF0F8"
             },
             "line": {
              "color": "white"
             }
            },
            "header": {
             "fill": {
              "color": "#C8D4E3"
             },
             "line": {
              "color": "white"
             }
            },
            "type": "table"
           }
          ]
         },
         "layout": {
          "annotationdefaults": {
           "arrowcolor": "#2a3f5f",
           "arrowhead": 0,
           "arrowwidth": 1
          },
          "colorscale": {
           "diverging": [
            [
             0,
             "#8e0152"
            ],
            [
             0.1,
             "#c51b7d"
            ],
            [
             0.2,
             "#de77ae"
            ],
            [
             0.3,
             "#f1b6da"
            ],
            [
             0.4,
             "#fde0ef"
            ],
            [
             0.5,
             "#f7f7f7"
            ],
            [
             0.6,
             "#e6f5d0"
            ],
            [
             0.7,
             "#b8e186"
            ],
            [
             0.8,
             "#7fbc41"
            ],
            [
             0.9,
             "#4d9221"
            ],
            [
             1,
             "#276419"
            ]
           ],
           "sequential": [
            [
             0,
             "#0d0887"
            ],
            [
             0.1111111111111111,
             "#46039f"
            ],
            [
             0.2222222222222222,
             "#7201a8"
            ],
            [
             0.3333333333333333,
             "#9c179e"
            ],
            [
             0.4444444444444444,
             "#bd3786"
            ],
            [
             0.5555555555555556,
             "#d8576b"
            ],
            [
             0.6666666666666666,
             "#ed7953"
            ],
            [
             0.7777777777777778,
             "#fb9f3a"
            ],
            [
             0.8888888888888888,
             "#fdca26"
            ],
            [
             1,
             "#f0f921"
            ]
           ],
           "sequentialminus": [
            [
             0,
             "#0d0887"
            ],
            [
             0.1111111111111111,
             "#46039f"
            ],
            [
             0.2222222222222222,
             "#7201a8"
            ],
            [
             0.3333333333333333,
             "#9c179e"
            ],
            [
             0.4444444444444444,
             "#bd3786"
            ],
            [
             0.5555555555555556,
             "#d8576b"
            ],
            [
             0.6666666666666666,
             "#ed7953"
            ],
            [
             0.7777777777777778,
             "#fb9f3a"
            ],
            [
             0.8888888888888888,
             "#fdca26"
            ],
            [
             1,
             "#f0f921"
            ]
           ]
          },
          "colorway": [
           "#636efa",
           "#EF553B",
           "#00cc96",
           "#ab63fa",
           "#FFA15A",
           "#19d3f3",
           "#FF6692",
           "#B6E880",
           "#FF97FF",
           "#FECB52"
          ],
          "font": {
           "color": "#2a3f5f"
          },
          "geo": {
           "bgcolor": "white",
           "lakecolor": "white",
           "landcolor": "#E5ECF6",
           "showlakes": true,
           "showland": true,
           "subunitcolor": "white"
          },
          "hoverlabel": {
           "align": "left"
          },
          "hovermode": "closest",
          "mapbox": {
           "style": "light"
          },
          "paper_bgcolor": "white",
          "plot_bgcolor": "#E5ECF6",
          "polar": {
           "angularaxis": {
            "gridcolor": "white",
            "linecolor": "white",
            "ticks": ""
           },
           "bgcolor": "#E5ECF6",
           "radialaxis": {
            "gridcolor": "white",
            "linecolor": "white",
            "ticks": ""
           }
          },
          "scene": {
           "xaxis": {
            "backgroundcolor": "#E5ECF6",
            "gridcolor": "white",
            "gridwidth": 2,
            "linecolor": "white",
            "showbackground": true,
            "ticks": "",
            "zerolinecolor": "white"
           },
           "yaxis": {
            "backgroundcolor": "#E5ECF6",
            "gridcolor": "white",
            "gridwidth": 2,
            "linecolor": "white",
            "showbackground": true,
            "ticks": "",
            "zerolinecolor": "white"
           },
           "zaxis": {
            "backgroundcolor": "#E5ECF6",
            "gridcolor": "white",
            "gridwidth": 2,
            "linecolor": "white",
            "showbackground": true,
            "ticks": "",
            "zerolinecolor": "white"
           }
          },
          "shapedefaults": {
           "line": {
            "color": "#2a3f5f"
           }
          },
          "ternary": {
           "aaxis": {
            "gridcolor": "white",
            "linecolor": "white",
            "ticks": ""
           },
           "baxis": {
            "gridcolor": "white",
            "linecolor": "white",
            "ticks": ""
           },
           "bgcolor": "#E5ECF6",
           "caxis": {
            "gridcolor": "white",
            "linecolor": "white",
            "ticks": ""
           }
          },
          "title": {
           "x": 0.05
          },
          "xaxis": {
           "automargin": true,
           "gridcolor": "white",
           "linecolor": "white",
           "ticks": "",
           "zerolinecolor": "white",
           "zerolinewidth": 2
          },
          "yaxis": {
           "automargin": true,
           "gridcolor": "white",
           "linecolor": "white",
           "ticks": "",
           "zerolinecolor": "white",
           "zerolinewidth": 2
          }
         }
        },
        "title": {
         "font": {
          "color": "#4D5663"
         }
        },
        "xaxis": {
         "gridcolor": "#E1E5ED",
         "showgrid": true,
         "tickfont": {
          "color": "#4D5663"
         },
         "title": {
          "font": {
           "color": "#4D5663"
          },
          "text": ""
         },
         "zerolinecolor": "#E1E5ED"
        },
        "yaxis": {
         "gridcolor": "#E1E5ED",
         "showgrid": true,
         "tickfont": {
          "color": "#4D5663"
         },
         "title": {
          "font": {
           "color": "#4D5663"
          },
          "text": ""
         },
         "zerolinecolor": "#E1E5ED"
        }
       }
      },
      "text/html": [
       "<div>\n",
       "        \n",
       "        \n",
       "            <div id=\"bd4e6365-b542-474b-b2de-d836416b8ce7\" class=\"plotly-graph-div\" style=\"height:525px; width:100%;\"></div>\n",
       "            <script type=\"text/javascript\">\n",
       "                require([\"plotly\"], function(Plotly) {\n",
       "                    window.PLOTLYENV=window.PLOTLYENV || {};\n",
       "                    window.PLOTLYENV.BASE_URL='https://plot.ly';\n",
       "                    \n",
       "                if (document.getElementById(\"bd4e6365-b542-474b-b2de-d836416b8ce7\")) {\n",
       "                    Plotly.newPlot(\n",
       "                        'bd4e6365-b542-474b-b2de-d836416b8ce7',\n",
       "                        [{\"marker\": {\"color\": [\"rgb(255, 153, 51)\", \"rgb(55, 128, 191)\", \"rgb(50, 171, 96)\", \"rgb(128, 0, 128)\", \"rgb(219, 64, 82)\", \"rgb(0, 128, 128)\", \"rgb(255, 255, 51)\", \"rgb(128, 128, 0)\", \"rgb(251, 128, 114)\", \"rgb(128, 177, 211)\"], \"line\": {\"width\": 1.3}, \"size\": [31, 20, 43, 91, 45, 48, 64, 90, 51, 92, 77, 52, 65, 62, 53, 83, 18, 48, 52, 47, 69, 101, 84, 72, 77, 69, 37, 48, 12, 78, 60, 69, 48, 42, 51, 65, 57, 76, 66, 62, 61, 54, 53, 71, 41, 50, 89, 106, 45, 60, 49, 68, 77, 73, 61, 59, 65, 69, 63, 70, 55, 61, 68, 34, 86, 42, 86, 49, 50, 60, 61, 45, 57, 39, 61, 48, 20, 84, 62, 112, 64, 61, 34, 52, 63, 59, 22, 31, 29, 45, 51, 107, 91, 38, 71, 72, 53, 50, 53, 20], \"symbol\": \"circle\"}, \"mode\": \"markers\", \"text\": \"\", \"type\": \"scatter\", \"x\": [0.2677202100092553, 0.029401801300603495, 1.6333155976582325, -0.15395081213775003, -0.14413501408846446, -1.6449448335712324, -0.14949460123467992, 0.3339491948644246, -2.597094399834224, 0.31658962768094867, 0.8786647987727886, -1.3432173218877443, -0.7847668533324995, -0.837875974898997, -0.16072258922436436, 0.5380362625214631, 0.8018472514118294, 2.225050418870336, 0.06312688222115209, -0.2819821780153154, 0.4561975529941592, 0.9540050098411976, -0.5772141596534164, 0.2533501925563586, -1.8640188679329512, 0.24686965021478458, -1.5145631567705737, 0.8539396046950519, 0.0530587181385824, -1.1056944602495598, -0.8106609561461899, 1.9999438998844243, -1.696019592198367, 0.27035476500109734, 0.3448685019844587, 2.4332894470526885, 1.0183035709639316, -1.0635862704484549, -0.4404129255558789, -1.2016635715406303, -0.7349321325596352, 0.2912459365897682, 1.1057264089740584, -1.3474952757494583, 1.3656261037787343, 1.4668789210387587, 1.1341137118535645, -0.797166045752831, -0.8437538847577685, -0.6578538590564416, -2.800744340160438, -1.464933962422879, 0.18579368606777028, 0.2716661071690678, -1.388396543205864, 0.5651575972514904, 1.870569345198021, -0.01803795079444882, 0.5445561374341695, 1.3100419598906323, 0.9269117310037176, 1.2170550881202022, 0.5977731119509945, 1.4658503908815197, -0.7133295308487775, -1.6072561105549357, -1.1583952519354686, -0.5675193850198321, 0.18395561276829986, 1.5629117365627527, -0.6459481567494111, 0.6451808366860189, -1.140277317678325, 0.9201965824358878, 0.5628508849829402, 0.06223168643101446, 0.3830041460378295, -1.7425635857356514, 2.68853762149162, -1.5873613032422402, 1.2103667304439776, 0.4483515828616707, 0.3069526013666004, -0.3056869359478956, 0.43649977563834447, -0.3367048914567436, -0.8743257220013367, 0.9018109380439379, 0.4495422955436478, -1.1129199575924928, 0.8875442142140842, -1.0279242303493357, 2.1826050258379954, 1.3416997099219075, -0.5444380801553921, -1.3906335395822353, 0.603842679050368, 1.4479816718381482, 2.2801894155665146, 0.2948305425715559], \"y\": [-0.4325321712751128, -1.5460924544980112, 0.10273563589960194, -0.4367522969617371, -0.37250903654265705, 2.495901049673792, 0.4543077408140475, -0.30651567349031394, -0.38977321361290346, 0.25333239787958034, -0.6518531750893366, -1.1598463133588912, -0.2502549143354412, -0.20151676688773343, 1.5980566808370873, 0.029402384373415722, -0.2269876865330706, -0.33008870211174673, 0.8804252708319859, 0.540454682551017, -0.056564992295370896, -1.543266073278203, -0.1517454722774265, 0.48850921701499184, -1.5218659923324995, 0.48252528692933, -1.1739288126024365, -0.2661170255448922, -0.12089999686922906, 2.207181673471075, 1.3492640917725967, -0.07360631969307191, -0.8428718809880091, 0.6541993474215966, 1.832577954017896, -0.8000301318162512, 0.5912931904834581, -0.1648826924515067, 0.7513998380294736, -0.36636501022202067, 0.4479585738911855, 0.01652610289102157, 1.4436301181798241, 1.198114629977769, -0.12417129548519844, -1.635490725015796, 0.9659152618319634, -0.22163192420780028, 0.13906379998407672, -0.5933198954392768, 0.09517724473066766, -0.6565492491460867, -0.7362795364472919, -0.4868621253603264, -1.0520977748564473, -2.4117622058518284, -2.131492724081454, 0.8115720023991889, -0.2685434009579712, -0.5963652446589135, 2.474124392200335, 0.06911688071229449, -1.1365645282692047, -0.7563200775798268, -0.8945050849648055, 0.8551433639677785, -0.18826810908634953, 1.4656718925668768, -0.056481576159804245, 0.982213228229109, 1.2540302807344708, 2.269188395378155, 0.5868297415228718, -1.3920972094032944, 0.2580819064645278, -0.5126588457434668, 0.8421125394269273, -0.7731775605236191, -2.401552932218778, -1.0766545233237557, -1.0115670858119716, 0.5303470084085685, -0.02356719985016988, -0.11813249614427222, 0.6296570442736785, -0.8320580612521427, -0.49955935500329185, -0.13027097894996809, -0.081474351975949, 0.27830415447931356, 1.218265733122561, 1.4955858477436832, -0.11999165184828173, -2.0658962422542575, -1.2836654857950553, -2.868162817942856, -2.363789031238105, -0.5279276194071908, -0.08225036746740437, -0.47129768728363813]}],\n",
       "                        {\"legend\": {\"bgcolor\": \"#F5F6F9\", \"font\": {\"color\": \"#4D5663\"}}, \"paper_bgcolor\": \"#F5F6F9\", \"plot_bgcolor\": \"#F5F6F9\", \"template\": {\"data\": {\"bar\": [{\"error_x\": {\"color\": \"#2a3f5f\"}, \"error_y\": {\"color\": \"#2a3f5f\"}, \"marker\": {\"line\": {\"color\": \"#E5ECF6\", \"width\": 0.5}}, \"type\": \"bar\"}], \"barpolar\": [{\"marker\": {\"line\": {\"color\": \"#E5ECF6\", \"width\": 0.5}}, \"type\": \"barpolar\"}], \"carpet\": [{\"aaxis\": {\"endlinecolor\": \"#2a3f5f\", \"gridcolor\": \"white\", \"linecolor\": \"white\", \"minorgridcolor\": \"white\", \"startlinecolor\": \"#2a3f5f\"}, \"baxis\": {\"endlinecolor\": \"#2a3f5f\", \"gridcolor\": \"white\", \"linecolor\": \"white\", \"minorgridcolor\": \"white\", \"startlinecolor\": \"#2a3f5f\"}, \"type\": \"carpet\"}], \"choropleth\": [{\"colorbar\": {\"outlinewidth\": 0, \"ticks\": \"\"}, \"type\": \"choropleth\"}], \"contour\": [{\"colorbar\": {\"outlinewidth\": 0, \"ticks\": \"\"}, \"colorscale\": [[0.0, \"#0d0887\"], [0.1111111111111111, \"#46039f\"], [0.2222222222222222, \"#7201a8\"], [0.3333333333333333, \"#9c179e\"], [0.4444444444444444, \"#bd3786\"], [0.5555555555555556, \"#d8576b\"], [0.6666666666666666, \"#ed7953\"], [0.7777777777777778, \"#fb9f3a\"], [0.8888888888888888, \"#fdca26\"], [1.0, \"#f0f921\"]], \"type\": \"contour\"}], \"contourcarpet\": [{\"colorbar\": {\"outlinewidth\": 0, \"ticks\": \"\"}, \"type\": \"contourcarpet\"}], \"heatmap\": [{\"colorbar\": {\"outlinewidth\": 0, \"ticks\": \"\"}, \"colorscale\": [[0.0, \"#0d0887\"], [0.1111111111111111, \"#46039f\"], [0.2222222222222222, \"#7201a8\"], [0.3333333333333333, \"#9c179e\"], [0.4444444444444444, \"#bd3786\"], [0.5555555555555556, \"#d8576b\"], [0.6666666666666666, \"#ed7953\"], [0.7777777777777778, \"#fb9f3a\"], [0.8888888888888888, \"#fdca26\"], [1.0, \"#f0f921\"]], \"type\": \"heatmap\"}], \"heatmapgl\": [{\"colorbar\": {\"outlinewidth\": 0, \"ticks\": \"\"}, \"colorscale\": [[0.0, \"#0d0887\"], [0.1111111111111111, \"#46039f\"], [0.2222222222222222, \"#7201a8\"], [0.3333333333333333, \"#9c179e\"], [0.4444444444444444, \"#bd3786\"], [0.5555555555555556, \"#d8576b\"], [0.6666666666666666, \"#ed7953\"], [0.7777777777777778, \"#fb9f3a\"], [0.8888888888888888, \"#fdca26\"], [1.0, \"#f0f921\"]], \"type\": \"heatmapgl\"}], \"histogram\": [{\"marker\": {\"colorbar\": {\"outlinewidth\": 0, \"ticks\": \"\"}}, \"type\": \"histogram\"}], \"histogram2d\": [{\"colorbar\": {\"outlinewidth\": 0, \"ticks\": \"\"}, \"colorscale\": [[0.0, \"#0d0887\"], [0.1111111111111111, \"#46039f\"], [0.2222222222222222, \"#7201a8\"], [0.3333333333333333, \"#9c179e\"], [0.4444444444444444, \"#bd3786\"], [0.5555555555555556, \"#d8576b\"], [0.6666666666666666, \"#ed7953\"], [0.7777777777777778, \"#fb9f3a\"], [0.8888888888888888, \"#fdca26\"], [1.0, \"#f0f921\"]], \"type\": \"histogram2d\"}], \"histogram2dcontour\": [{\"colorbar\": {\"outlinewidth\": 0, \"ticks\": \"\"}, \"colorscale\": [[0.0, \"#0d0887\"], [0.1111111111111111, \"#46039f\"], [0.2222222222222222, \"#7201a8\"], [0.3333333333333333, \"#9c179e\"], [0.4444444444444444, \"#bd3786\"], [0.5555555555555556, \"#d8576b\"], [0.6666666666666666, \"#ed7953\"], [0.7777777777777778, \"#fb9f3a\"], [0.8888888888888888, \"#fdca26\"], [1.0, \"#f0f921\"]], \"type\": \"histogram2dcontour\"}], \"mesh3d\": [{\"colorbar\": {\"outlinewidth\": 0, \"ticks\": \"\"}, \"type\": \"mesh3d\"}], \"parcoords\": [{\"line\": {\"colorbar\": {\"outlinewidth\": 0, \"ticks\": \"\"}}, \"type\": \"parcoords\"}], \"scatter\": [{\"marker\": {\"colorbar\": {\"outlinewidth\": 0, \"ticks\": \"\"}}, \"type\": \"scatter\"}], \"scatter3d\": [{\"line\": {\"colorbar\": {\"outlinewidth\": 0, \"ticks\": \"\"}}, \"marker\": {\"colorbar\": {\"outlinewidth\": 0, \"ticks\": \"\"}}, \"type\": \"scatter3d\"}], \"scattercarpet\": [{\"marker\": {\"colorbar\": {\"outlinewidth\": 0, \"ticks\": \"\"}}, \"type\": \"scattercarpet\"}], \"scattergeo\": [{\"marker\": {\"colorbar\": {\"outlinewidth\": 0, \"ticks\": \"\"}}, \"type\": \"scattergeo\"}], \"scattergl\": [{\"marker\": {\"colorbar\": {\"outlinewidth\": 0, \"ticks\": \"\"}}, \"type\": \"scattergl\"}], \"scattermapbox\": [{\"marker\": {\"colorbar\": {\"outlinewidth\": 0, \"ticks\": \"\"}}, \"type\": \"scattermapbox\"}], \"scatterpolar\": [{\"marker\": {\"colorbar\": {\"outlinewidth\": 0, \"ticks\": \"\"}}, \"type\": \"scatterpolar\"}], \"scatterpolargl\": [{\"marker\": {\"colorbar\": {\"outlinewidth\": 0, \"ticks\": \"\"}}, \"type\": \"scatterpolargl\"}], \"scatterternary\": [{\"marker\": {\"colorbar\": {\"outlinewidth\": 0, \"ticks\": \"\"}}, \"type\": \"scatterternary\"}], \"surface\": [{\"colorbar\": {\"outlinewidth\": 0, \"ticks\": \"\"}, \"colorscale\": [[0.0, \"#0d0887\"], [0.1111111111111111, \"#46039f\"], [0.2222222222222222, \"#7201a8\"], [0.3333333333333333, \"#9c179e\"], [0.4444444444444444, \"#bd3786\"], [0.5555555555555556, \"#d8576b\"], [0.6666666666666666, \"#ed7953\"], [0.7777777777777778, \"#fb9f3a\"], [0.8888888888888888, \"#fdca26\"], [1.0, \"#f0f921\"]], \"type\": \"surface\"}], \"table\": [{\"cells\": {\"fill\": {\"color\": \"#EBF0F8\"}, \"line\": {\"color\": \"white\"}}, \"header\": {\"fill\": {\"color\": \"#C8D4E3\"}, \"line\": {\"color\": \"white\"}}, \"type\": \"table\"}]}, \"layout\": {\"annotationdefaults\": {\"arrowcolor\": \"#2a3f5f\", \"arrowhead\": 0, \"arrowwidth\": 1}, \"colorscale\": {\"diverging\": [[0, \"#8e0152\"], [0.1, \"#c51b7d\"], [0.2, \"#de77ae\"], [0.3, \"#f1b6da\"], [0.4, \"#fde0ef\"], [0.5, \"#f7f7f7\"], [0.6, \"#e6f5d0\"], [0.7, \"#b8e186\"], [0.8, \"#7fbc41\"], [0.9, \"#4d9221\"], [1, \"#276419\"]], \"sequential\": [[0.0, \"#0d0887\"], [0.1111111111111111, \"#46039f\"], [0.2222222222222222, \"#7201a8\"], [0.3333333333333333, \"#9c179e\"], [0.4444444444444444, \"#bd3786\"], [0.5555555555555556, \"#d8576b\"], [0.6666666666666666, \"#ed7953\"], [0.7777777777777778, \"#fb9f3a\"], [0.8888888888888888, \"#fdca26\"], [1.0, \"#f0f921\"]], \"sequentialminus\": [[0.0, \"#0d0887\"], [0.1111111111111111, \"#46039f\"], [0.2222222222222222, \"#7201a8\"], [0.3333333333333333, \"#9c179e\"], [0.4444444444444444, \"#bd3786\"], [0.5555555555555556, \"#d8576b\"], [0.6666666666666666, \"#ed7953\"], [0.7777777777777778, \"#fb9f3a\"], [0.8888888888888888, \"#fdca26\"], [1.0, \"#f0f921\"]]}, \"colorway\": [\"#636efa\", \"#EF553B\", \"#00cc96\", \"#ab63fa\", \"#FFA15A\", \"#19d3f3\", \"#FF6692\", \"#B6E880\", \"#FF97FF\", \"#FECB52\"], \"font\": {\"color\": \"#2a3f5f\"}, \"geo\": {\"bgcolor\": \"white\", \"lakecolor\": \"white\", \"landcolor\": \"#E5ECF6\", \"showlakes\": true, \"showland\": true, \"subunitcolor\": \"white\"}, \"hoverlabel\": {\"align\": \"left\"}, \"hovermode\": \"closest\", \"mapbox\": {\"style\": \"light\"}, \"paper_bgcolor\": \"white\", \"plot_bgcolor\": \"#E5ECF6\", \"polar\": {\"angularaxis\": {\"gridcolor\": \"white\", \"linecolor\": \"white\", \"ticks\": \"\"}, \"bgcolor\": \"#E5ECF6\", \"radialaxis\": {\"gridcolor\": \"white\", \"linecolor\": \"white\", \"ticks\": \"\"}}, \"scene\": {\"xaxis\": {\"backgroundcolor\": \"#E5ECF6\", \"gridcolor\": \"white\", \"gridwidth\": 2, \"linecolor\": \"white\", \"showbackground\": true, \"ticks\": \"\", \"zerolinecolor\": \"white\"}, \"yaxis\": {\"backgroundcolor\": \"#E5ECF6\", \"gridcolor\": \"white\", \"gridwidth\": 2, \"linecolor\": \"white\", \"showbackground\": true, \"ticks\": \"\", \"zerolinecolor\": \"white\"}, \"zaxis\": {\"backgroundcolor\": \"#E5ECF6\", \"gridcolor\": \"white\", \"gridwidth\": 2, \"linecolor\": \"white\", \"showbackground\": true, \"ticks\": \"\", \"zerolinecolor\": \"white\"}}, \"shapedefaults\": {\"line\": {\"color\": \"#2a3f5f\"}}, \"ternary\": {\"aaxis\": {\"gridcolor\": \"white\", \"linecolor\": \"white\", \"ticks\": \"\"}, \"baxis\": {\"gridcolor\": \"white\", \"linecolor\": \"white\", \"ticks\": \"\"}, \"bgcolor\": \"#E5ECF6\", \"caxis\": {\"gridcolor\": \"white\", \"linecolor\": \"white\", \"ticks\": \"\"}}, \"title\": {\"x\": 0.05}, \"xaxis\": {\"automargin\": true, \"gridcolor\": \"white\", \"linecolor\": \"white\", \"ticks\": \"\", \"zerolinecolor\": \"white\", \"zerolinewidth\": 2}, \"yaxis\": {\"automargin\": true, \"gridcolor\": \"white\", \"linecolor\": \"white\", \"ticks\": \"\", \"zerolinecolor\": \"white\", \"zerolinewidth\": 2}}}, \"title\": {\"font\": {\"color\": \"#4D5663\"}}, \"xaxis\": {\"gridcolor\": \"#E1E5ED\", \"showgrid\": true, \"tickfont\": {\"color\": \"#4D5663\"}, \"title\": {\"font\": {\"color\": \"#4D5663\"}, \"text\": \"\"}, \"zerolinecolor\": \"#E1E5ED\"}, \"yaxis\": {\"gridcolor\": \"#E1E5ED\", \"showgrid\": true, \"tickfont\": {\"color\": \"#4D5663\"}, \"title\": {\"font\": {\"color\": \"#4D5663\"}, \"text\": \"\"}, \"zerolinecolor\": \"#E1E5ED\"}},\n",
       "                        {\"showLink\": true, \"linkText\": \"Export to plot.ly\", \"plotlyServerURL\": \"https://plot.ly\", \"responsive\": true}\n",
       "                    ).then(function(){\n",
       "                            \n",
       "var gd = document.getElementById('bd4e6365-b542-474b-b2de-d836416b8ce7');\n",
       "var x = new MutationObserver(function (mutations, observer) {{\n",
       "        var display = window.getComputedStyle(gd).display;\n",
       "        if (!display || display === 'none') {{\n",
       "            console.log([gd, 'removed!']);\n",
       "            Plotly.purge(gd);\n",
       "            observer.disconnect();\n",
       "        }}\n",
       "}});\n",
       "\n",
       "// Listen for the removal of the full notebook cells\n",
       "var notebookContainer = gd.closest('#notebook-container');\n",
       "if (notebookContainer) {{\n",
       "    x.observe(notebookContainer, {childList: true});\n",
       "}}\n",
       "\n",
       "// Listen for the clearing of the current output cell\n",
       "var outputEl = gd.closest('.output');\n",
       "if (outputEl) {{\n",
       "    x.observe(outputEl, {childList: true});\n",
       "}}\n",
       "\n",
       "                        })\n",
       "                };\n",
       "                });\n",
       "            </script>\n",
       "        </div>"
      ]
     },
     "metadata": {},
     "output_type": "display_data"
    }
   ],
   "source": [
    "## Ex 8 - Bubble plot -> Similar to a scatter plot. Scatter points sizes will change depending on other variables \n",
    "\n",
    "df.iplot(kind = 'bubble', x = 'A', y = 'B', size = 'C') ## Specify the size of the points based on column 'C'\n",
    "                                                        ## Used in applications such as comparing World GDP vs Population\n",
    "                                                        ## Happiness factors -> UN reports\n",
    "                                                "
   ]
  },
  {
   "cell_type": "code",
   "execution_count": 25,
   "metadata": {},
   "outputs": [
    {
     "data": {
      "application/vnd.plotly.v1+json": {
       "config": {
        "linkText": "Export to plot.ly",
        "plotlyServerURL": "https://plot.ly",
        "showLink": true
       },
       "data": [
        {
         "histfunc": "count",
         "histnorm": "",
         "marker": {
          "color": "rgba(255, 153, 51, 1.0)",
          "line": {
           "color": "#4D5663",
           "width": 1.3
          }
         },
         "name": "A",
         "nbinsx": 10,
         "opacity": 0.8,
         "orientation": "v",
         "type": "histogram",
         "x": [
          0.2677202100092553,
          0.029401801300603495,
          1.6333155976582325,
          -0.15395081213775003,
          -0.14413501408846446,
          -1.6449448335712324,
          -0.14949460123467992,
          0.3339491948644246,
          -2.597094399834224,
          0.31658962768094867,
          0.8786647987727886,
          -1.3432173218877443,
          -0.7847668533324995,
          -0.837875974898997,
          -0.16072258922436436,
          0.5380362625214631,
          0.8018472514118294,
          2.225050418870336,
          0.06312688222115209,
          -0.2819821780153154,
          0.4561975529941592,
          0.9540050098411976,
          -0.5772141596534164,
          0.2533501925563586,
          -1.8640188679329512,
          0.24686965021478458,
          -1.5145631567705737,
          0.8539396046950519,
          0.0530587181385824,
          -1.1056944602495598,
          -0.8106609561461899,
          1.9999438998844243,
          -1.696019592198367,
          0.27035476500109734,
          0.3448685019844587,
          2.4332894470526885,
          1.0183035709639316,
          -1.0635862704484549,
          -0.4404129255558789,
          -1.2016635715406303,
          -0.7349321325596352,
          0.2912459365897682,
          1.1057264089740584,
          -1.3474952757494583,
          1.3656261037787343,
          1.4668789210387587,
          1.1341137118535645,
          -0.797166045752831,
          -0.8437538847577685,
          -0.6578538590564416,
          -2.800744340160438,
          -1.464933962422879,
          0.18579368606777028,
          0.2716661071690678,
          -1.388396543205864,
          0.5651575972514904,
          1.870569345198021,
          -0.01803795079444882,
          0.5445561374341695,
          1.3100419598906323,
          0.9269117310037176,
          1.2170550881202022,
          0.5977731119509945,
          1.4658503908815197,
          -0.7133295308487775,
          -1.6072561105549357,
          -1.1583952519354686,
          -0.5675193850198321,
          0.18395561276829986,
          1.5629117365627527,
          -0.6459481567494111,
          0.6451808366860189,
          -1.140277317678325,
          0.9201965824358878,
          0.5628508849829402,
          0.06223168643101446,
          0.3830041460378295,
          -1.7425635857356514,
          2.68853762149162,
          -1.5873613032422402,
          1.2103667304439776,
          0.4483515828616707,
          0.3069526013666004,
          -0.3056869359478956,
          0.43649977563834447,
          -0.3367048914567436,
          -0.8743257220013367,
          0.9018109380439379,
          0.4495422955436478,
          -1.1129199575924928,
          0.8875442142140842,
          -1.0279242303493357,
          2.1826050258379954,
          1.3416997099219075,
          -0.5444380801553921,
          -1.3906335395822353,
          0.603842679050368,
          1.4479816718381482,
          2.2801894155665146,
          0.2948305425715559
         ],
         "xaxis": "x",
         "yaxis": "y"
        },
        {
         "line": {
          "color": "rgba(128, 128, 128, 1.0)",
          "dash": "solid",
          "shape": "linear",
          "width": 1.3
         },
         "marker": {
          "size": 2,
          "symbol": "circle"
         },
         "mode": "markers",
         "name": "A",
         "text": "",
         "type": "scatter",
         "x": [
          -0.4325321712751128,
          -1.5460924544980112,
          0.10273563589960194,
          -0.4367522969617371,
          -0.37250903654265705,
          2.495901049673792,
          0.4543077408140475,
          -0.30651567349031394,
          -0.38977321361290346,
          0.25333239787958034,
          -0.6518531750893366,
          -1.1598463133588912,
          -0.2502549143354412,
          -0.20151676688773343,
          1.5980566808370873,
          0.029402384373415722,
          -0.2269876865330706,
          -0.33008870211174673,
          0.8804252708319859,
          0.540454682551017,
          -0.056564992295370896,
          -1.543266073278203,
          -0.1517454722774265,
          0.48850921701499184,
          -1.5218659923324995,
          0.48252528692933,
          -1.1739288126024365,
          -0.2661170255448922,
          -0.12089999686922906,
          2.207181673471075,
          1.3492640917725967,
          -0.07360631969307191,
          -0.8428718809880091,
          0.6541993474215966,
          1.832577954017896,
          -0.8000301318162512,
          0.5912931904834581,
          -0.1648826924515067,
          0.7513998380294736,
          -0.36636501022202067,
          0.4479585738911855,
          0.01652610289102157,
          1.4436301181798241,
          1.198114629977769,
          -0.12417129548519844,
          -1.635490725015796,
          0.9659152618319634,
          -0.22163192420780028,
          0.13906379998407672,
          -0.5933198954392768,
          0.09517724473066766,
          -0.6565492491460867,
          -0.7362795364472919,
          -0.4868621253603264,
          -1.0520977748564473,
          -2.4117622058518284,
          -2.131492724081454,
          0.8115720023991889,
          -0.2685434009579712,
          -0.5963652446589135,
          2.474124392200335,
          0.06911688071229449,
          -1.1365645282692047,
          -0.7563200775798268,
          -0.8945050849648055,
          0.8551433639677785,
          -0.18826810908634953,
          1.4656718925668768,
          -0.056481576159804245,
          0.982213228229109,
          1.2540302807344708,
          2.269188395378155,
          0.5868297415228718,
          -1.3920972094032944,
          0.2580819064645278,
          -0.5126588457434668,
          0.8421125394269273,
          -0.7731775605236191,
          -2.401552932218778,
          -1.0766545233237557,
          -1.0115670858119716,
          0.5303470084085685,
          -0.02356719985016988,
          -0.11813249614427222,
          0.6296570442736785,
          -0.8320580612521427,
          -0.49955935500329185,
          -0.13027097894996809,
          -0.081474351975949,
          0.27830415447931356,
          1.218265733122561,
          1.4955858477436832,
          -0.11999165184828173,
          -2.0658962422542575,
          -1.2836654857950553,
          -2.868162817942856,
          -2.363789031238105,
          -0.5279276194071908,
          -0.08225036746740437,
          -0.47129768728363813
         ],
         "xaxis": "x2",
         "y": [
          0.2677202100092553,
          0.029401801300603495,
          1.6333155976582325,
          -0.15395081213775003,
          -0.14413501408846446,
          -1.6449448335712324,
          -0.14949460123467992,
          0.3339491948644246,
          -2.597094399834224,
          0.31658962768094867,
          0.8786647987727886,
          -1.3432173218877443,
          -0.7847668533324995,
          -0.837875974898997,
          -0.16072258922436436,
          0.5380362625214631,
          0.8018472514118294,
          2.225050418870336,
          0.06312688222115209,
          -0.2819821780153154,
          0.4561975529941592,
          0.9540050098411976,
          -0.5772141596534164,
          0.2533501925563586,
          -1.8640188679329512,
          0.24686965021478458,
          -1.5145631567705737,
          0.8539396046950519,
          0.0530587181385824,
          -1.1056944602495598,
          -0.8106609561461899,
          1.9999438998844243,
          -1.696019592198367,
          0.27035476500109734,
          0.3448685019844587,
          2.4332894470526885,
          1.0183035709639316,
          -1.0635862704484549,
          -0.4404129255558789,
          -1.2016635715406303,
          -0.7349321325596352,
          0.2912459365897682,
          1.1057264089740584,
          -1.3474952757494583,
          1.3656261037787343,
          1.4668789210387587,
          1.1341137118535645,
          -0.797166045752831,
          -0.8437538847577685,
          -0.6578538590564416,
          -2.800744340160438,
          -1.464933962422879,
          0.18579368606777028,
          0.2716661071690678,
          -1.388396543205864,
          0.5651575972514904,
          1.870569345198021,
          -0.01803795079444882,
          0.5445561374341695,
          1.3100419598906323,
          0.9269117310037176,
          1.2170550881202022,
          0.5977731119509945,
          1.4658503908815197,
          -0.7133295308487775,
          -1.6072561105549357,
          -1.1583952519354686,
          -0.5675193850198321,
          0.18395561276829986,
          1.5629117365627527,
          -0.6459481567494111,
          0.6451808366860189,
          -1.140277317678325,
          0.9201965824358878,
          0.5628508849829402,
          0.06223168643101446,
          0.3830041460378295,
          -1.7425635857356514,
          2.68853762149162,
          -1.5873613032422402,
          1.2103667304439776,
          0.4483515828616707,
          0.3069526013666004,
          -0.3056869359478956,
          0.43649977563834447,
          -0.3367048914567436,
          -0.8743257220013367,
          0.9018109380439379,
          0.4495422955436478,
          -1.1129199575924928,
          0.8875442142140842,
          -1.0279242303493357,
          2.1826050258379954,
          1.3416997099219075,
          -0.5444380801553921,
          -1.3906335395822353,
          0.603842679050368,
          1.4479816718381482,
          2.2801894155665146,
          0.2948305425715559
         ],
         "yaxis": "y2"
        },
        {
         "line": {
          "color": "rgba(128, 128, 128, 1.0)",
          "dash": "solid",
          "shape": "linear",
          "width": 1.3
         },
         "marker": {
          "size": 2,
          "symbol": "circle"
         },
         "mode": "markers",
         "name": "A",
         "text": "",
         "type": "scatter",
         "x": [
          -1.4915827436378635,
          -2.112020006549017,
          -0.8329924095346284,
          1.7823209334611574,
          -0.7192814711428236,
          -0.5657555679446309,
          0.29374616132364456,
          1.6996285110354985,
          -0.41935449712171036,
          1.8049666970050822,
          0.9950818115963185,
          -0.3561521976707872,
          0.35746595441843676,
          0.16665249127587373,
          -0.30997250971580614,
          1.320875064102547,
          -2.2275645560572377,
          -0.558859659944914,
          -0.3395427132529864,
          -0.6172227810131552,
          0.5598324593996644,
          2.3176340765173293,
          1.3868298905679506,
          0.7074025099455857,
          0.9968354698286394,
          0.5759027018023721,
          -1.1902446827365922,
          -0.566420905406603,
          -2.5787457879446936,
          1.0448765267217333,
          0.0575222219029565,
          0.553843648368937,
          -0.5848856885732062,
          -0.9167844605684892,
          -0.4116034641618978,
          0.3403504234759874,
          -0.09015529136674685,
          0.9605253449617726,
          0.41295230460834553,
          0.17606893005627136,
          0.1394835567699609,
          -0.24824526562589908,
          -0.31426882930239164,
          0.690792933252245,
          -0.9878882957890283,
          -0.4735071596684798,
          1.6512343595147854,
          2.609770180786801,
          -0.7648625754422158,
          0.0712398856157923,
          -0.5049747112309024,
          0.4912486112813825,
          0.9885021263519854,
          0.7712407604431888,
          0.1290524490715323,
          0.04448892449874012,
          0.37191418104278157,
          0.5511476627085021,
          0.2145247287208951,
          0.6179232564946322,
          -0.21505308570241372,
          0.11415534786549235,
          0.49730667627105724,
          -1.3539767876323532,
          1.5029693022889137,
          -0.8955210319309673,
          1.5236031046781657,
          -0.5511762908172061,
          -0.48435904644665134,
          0.06780795963216768,
          0.10577749158140741,
          -0.7613594055094629,
          -0.0807678779419743,
          -1.100340014759591,
          0.13473733868437426,
          -0.5554032514491901,
          -2.1040562904224527,
          1.3785472966882482,
          0.20358444370538267,
          2.8953721028734596,
          0.3130398408759578,
          0.14002930904544209,
          -1.3728158956282914,
          -0.35819175282054805,
          0.22958757977878763,
          -0.003913314093714403,
          -1.9865998428720206,
          -1.4995645715031976,
          -1.610787403627202,
          -0.7673634249080489,
          -0.3989395546614242,
          2.6703375578543307,
          1.790563716962692,
          -1.1414208367513043,
          0.6848848569715895,
          0.7269276441464714,
          -0.2956929541095785,
          -0.4582838725550537,
          -0.31906036078748545,
          -2.1211963434778136
         ],
         "xaxis": "x3",
         "y": [
          0.2677202100092553,
          0.029401801300603495,
          1.6333155976582325,
          -0.15395081213775003,
          -0.14413501408846446,
          -1.6449448335712324,
          -0.14949460123467992,
          0.3339491948644246,
          -2.597094399834224,
          0.31658962768094867,
          0.8786647987727886,
          -1.3432173218877443,
          -0.7847668533324995,
          -0.837875974898997,
          -0.16072258922436436,
          0.5380362625214631,
          0.8018472514118294,
          2.225050418870336,
          0.06312688222115209,
          -0.2819821780153154,
          0.4561975529941592,
          0.9540050098411976,
          -0.5772141596534164,
          0.2533501925563586,
          -1.8640188679329512,
          0.24686965021478458,
          -1.5145631567705737,
          0.8539396046950519,
          0.0530587181385824,
          -1.1056944602495598,
          -0.8106609561461899,
          1.9999438998844243,
          -1.696019592198367,
          0.27035476500109734,
          0.3448685019844587,
          2.4332894470526885,
          1.0183035709639316,
          -1.0635862704484549,
          -0.4404129255558789,
          -1.2016635715406303,
          -0.7349321325596352,
          0.2912459365897682,
          1.1057264089740584,
          -1.3474952757494583,
          1.3656261037787343,
          1.4668789210387587,
          1.1341137118535645,
          -0.797166045752831,
          -0.8437538847577685,
          -0.6578538590564416,
          -2.800744340160438,
          -1.464933962422879,
          0.18579368606777028,
          0.2716661071690678,
          -1.388396543205864,
          0.5651575972514904,
          1.870569345198021,
          -0.01803795079444882,
          0.5445561374341695,
          1.3100419598906323,
          0.9269117310037176,
          1.2170550881202022,
          0.5977731119509945,
          1.4658503908815197,
          -0.7133295308487775,
          -1.6072561105549357,
          -1.1583952519354686,
          -0.5675193850198321,
          0.18395561276829986,
          1.5629117365627527,
          -0.6459481567494111,
          0.6451808366860189,
          -1.140277317678325,
          0.9201965824358878,
          0.5628508849829402,
          0.06223168643101446,
          0.3830041460378295,
          -1.7425635857356514,
          2.68853762149162,
          -1.5873613032422402,
          1.2103667304439776,
          0.4483515828616707,
          0.3069526013666004,
          -0.3056869359478956,
          0.43649977563834447,
          -0.3367048914567436,
          -0.8743257220013367,
          0.9018109380439379,
          0.4495422955436478,
          -1.1129199575924928,
          0.8875442142140842,
          -1.0279242303493357,
          2.1826050258379954,
          1.3416997099219075,
          -0.5444380801553921,
          -1.3906335395822353,
          0.603842679050368,
          1.4479816718381482,
          2.2801894155665146,
          0.2948305425715559
         ],
         "yaxis": "y3"
        },
        {
         "line": {
          "color": "rgba(128, 128, 128, 1.0)",
          "dash": "solid",
          "shape": "linear",
          "width": 1.3
         },
         "marker": {
          "size": 2,
          "symbol": "circle"
         },
         "mode": "markers",
         "name": "A",
         "text": "",
         "type": "scatter",
         "x": [
          -0.7025160410480839,
          1.3109081667544578,
          -0.510361468081794,
          0.14988146373890324,
          1.6019418730762025,
          -0.349053248547214,
          -0.4166299933795874,
          -2.4680739874503113,
          0.025067974485122674,
          -0.19871976026948518,
          0.5953950686273765,
          0.7511049301039473,
          0.5720049651864383,
          -2.4835048163036797,
          0.2109330444317143,
          1.4767934570912753,
          -0.035966329295487084,
          -0.6810201187166933,
          -1.3957264827789182,
          0.34492934974635153,
          -0.22948438014191513,
          0.9944106854012644,
          1.1245846524485843,
          1.7267038383309876,
          0.5044357665376124,
          -0.35664609529375235,
          -0.17181976879078467,
          -1.173535775728522,
          0.06374348058106245,
          0.7848220619723575,
          -0.2564503272297871,
          1.8315920467331734,
          2.032589934699792,
          0.6513614616376907,
          -0.1424870213724532,
          1.7632791185368706,
          0.720715119660739,
          -1.7333097242317494,
          0.1253668772189341,
          -0.6906249181043568,
          -0.5850487211742301,
          0.7651300905830513,
          0.12186453381870625,
          -0.4150343239864852,
          0.660759717712707,
          1.2753300935459693,
          -1.4496646904364807,
          0.19710775617052026,
          -0.18528700914977536,
          0.6884493145711821,
          0.16201470238935398,
          -0.03200110632704644,
          -0.08702335075885158,
          1.3271464353502238,
          -0.07768790979240572,
          -1.4135203973646147,
          -0.5787944728418192,
          0.5022055952444596,
          0.454460398888486,
          0.49952080788698844,
          1.3937837027809206,
          -0.22705333578165374,
          1.7601645652112776,
          1.1693672723203297,
          0.006168973030320437,
          -1.2946412347695087,
          0.9359192670481432,
          -0.34135313067712797,
          -0.8991078674578962,
          -1.4180420040265282,
          -0.3141498370012541,
          1.3284588340190397,
          0.43436365261630805,
          -0.06019913519325379,
          0.7229731593151011,
          -0.059130641011031916,
          0.18691418901314508,
          -0.579051175367635,
          0.6863533149215727,
          2.2073437656015202,
          0.6189359844436157,
          -1.4371023486349348,
          0.20509646795438427,
          0.5351249753977271,
          1.1588687922005507,
          -0.3865337149383086,
          0.3199797712139598,
          -0.17461766180681795,
          -0.7182557946851779,
          1.9110973156231161,
          -1.480052452610233,
          -1.0388907279053714,
          1.9265638251231678,
          0.6879312442723563,
          -0.5989968078733376,
          2.010769856789577,
          0.5928355998139698,
          -1.3997036184021738,
          -1.597976868291814,
          -0.7472119617588053
         ],
         "xaxis": "x4",
         "y": [
          0.2677202100092553,
          0.029401801300603495,
          1.6333155976582325,
          -0.15395081213775003,
          -0.14413501408846446,
          -1.6449448335712324,
          -0.14949460123467992,
          0.3339491948644246,
          -2.597094399834224,
          0.31658962768094867,
          0.8786647987727886,
          -1.3432173218877443,
          -0.7847668533324995,
          -0.837875974898997,
          -0.16072258922436436,
          0.5380362625214631,
          0.8018472514118294,
          2.225050418870336,
          0.06312688222115209,
          -0.2819821780153154,
          0.4561975529941592,
          0.9540050098411976,
          -0.5772141596534164,
          0.2533501925563586,
          -1.8640188679329512,
          0.24686965021478458,
          -1.5145631567705737,
          0.8539396046950519,
          0.0530587181385824,
          -1.1056944602495598,
          -0.8106609561461899,
          1.9999438998844243,
          -1.696019592198367,
          0.27035476500109734,
          0.3448685019844587,
          2.4332894470526885,
          1.0183035709639316,
          -1.0635862704484549,
          -0.4404129255558789,
          -1.2016635715406303,
          -0.7349321325596352,
          0.2912459365897682,
          1.1057264089740584,
          -1.3474952757494583,
          1.3656261037787343,
          1.4668789210387587,
          1.1341137118535645,
          -0.797166045752831,
          -0.8437538847577685,
          -0.6578538590564416,
          -2.800744340160438,
          -1.464933962422879,
          0.18579368606777028,
          0.2716661071690678,
          -1.388396543205864,
          0.5651575972514904,
          1.870569345198021,
          -0.01803795079444882,
          0.5445561374341695,
          1.3100419598906323,
          0.9269117310037176,
          1.2170550881202022,
          0.5977731119509945,
          1.4658503908815197,
          -0.7133295308487775,
          -1.6072561105549357,
          -1.1583952519354686,
          -0.5675193850198321,
          0.18395561276829986,
          1.5629117365627527,
          -0.6459481567494111,
          0.6451808366860189,
          -1.140277317678325,
          0.9201965824358878,
          0.5628508849829402,
          0.06223168643101446,
          0.3830041460378295,
          -1.7425635857356514,
          2.68853762149162,
          -1.5873613032422402,
          1.2103667304439776,
          0.4483515828616707,
          0.3069526013666004,
          -0.3056869359478956,
          0.43649977563834447,
          -0.3367048914567436,
          -0.8743257220013367,
          0.9018109380439379,
          0.4495422955436478,
          -1.1129199575924928,
          0.8875442142140842,
          -1.0279242303493357,
          2.1826050258379954,
          1.3416997099219075,
          -0.5444380801553921,
          -1.3906335395822353,
          0.603842679050368,
          1.4479816718381482,
          2.2801894155665146,
          0.2948305425715559
         ],
         "yaxis": "y4"
        },
        {
         "line": {
          "color": "rgba(128, 128, 128, 1.0)",
          "dash": "solid",
          "shape": "linear",
          "width": 1.3
         },
         "marker": {
          "size": 2,
          "symbol": "circle"
         },
         "mode": "markers",
         "name": "B",
         "text": "",
         "type": "scatter",
         "x": [
          0.2677202100092553,
          0.029401801300603495,
          1.6333155976582325,
          -0.15395081213775003,
          -0.14413501408846446,
          -1.6449448335712324,
          -0.14949460123467992,
          0.3339491948644246,
          -2.597094399834224,
          0.31658962768094867,
          0.8786647987727886,
          -1.3432173218877443,
          -0.7847668533324995,
          -0.837875974898997,
          -0.16072258922436436,
          0.5380362625214631,
          0.8018472514118294,
          2.225050418870336,
          0.06312688222115209,
          -0.2819821780153154,
          0.4561975529941592,
          0.9540050098411976,
          -0.5772141596534164,
          0.2533501925563586,
          -1.8640188679329512,
          0.24686965021478458,
          -1.5145631567705737,
          0.8539396046950519,
          0.0530587181385824,
          -1.1056944602495598,
          -0.8106609561461899,
          1.9999438998844243,
          -1.696019592198367,
          0.27035476500109734,
          0.3448685019844587,
          2.4332894470526885,
          1.0183035709639316,
          -1.0635862704484549,
          -0.4404129255558789,
          -1.2016635715406303,
          -0.7349321325596352,
          0.2912459365897682,
          1.1057264089740584,
          -1.3474952757494583,
          1.3656261037787343,
          1.4668789210387587,
          1.1341137118535645,
          -0.797166045752831,
          -0.8437538847577685,
          -0.6578538590564416,
          -2.800744340160438,
          -1.464933962422879,
          0.18579368606777028,
          0.2716661071690678,
          -1.388396543205864,
          0.5651575972514904,
          1.870569345198021,
          -0.01803795079444882,
          0.5445561374341695,
          1.3100419598906323,
          0.9269117310037176,
          1.2170550881202022,
          0.5977731119509945,
          1.4658503908815197,
          -0.7133295308487775,
          -1.6072561105549357,
          -1.1583952519354686,
          -0.5675193850198321,
          0.18395561276829986,
          1.5629117365627527,
          -0.6459481567494111,
          0.6451808366860189,
          -1.140277317678325,
          0.9201965824358878,
          0.5628508849829402,
          0.06223168643101446,
          0.3830041460378295,
          -1.7425635857356514,
          2.68853762149162,
          -1.5873613032422402,
          1.2103667304439776,
          0.4483515828616707,
          0.3069526013666004,
          -0.3056869359478956,
          0.43649977563834447,
          -0.3367048914567436,
          -0.8743257220013367,
          0.9018109380439379,
          0.4495422955436478,
          -1.1129199575924928,
          0.8875442142140842,
          -1.0279242303493357,
          2.1826050258379954,
          1.3416997099219075,
          -0.5444380801553921,
          -1.3906335395822353,
          0.603842679050368,
          1.4479816718381482,
          2.2801894155665146,
          0.2948305425715559
         ],
         "xaxis": "x5",
         "y": [
          -0.4325321712751128,
          -1.5460924544980112,
          0.10273563589960194,
          -0.4367522969617371,
          -0.37250903654265705,
          2.495901049673792,
          0.4543077408140475,
          -0.30651567349031394,
          -0.38977321361290346,
          0.25333239787958034,
          -0.6518531750893366,
          -1.1598463133588912,
          -0.2502549143354412,
          -0.20151676688773343,
          1.5980566808370873,
          0.029402384373415722,
          -0.2269876865330706,
          -0.33008870211174673,
          0.8804252708319859,
          0.540454682551017,
          -0.056564992295370896,
          -1.543266073278203,
          -0.1517454722774265,
          0.48850921701499184,
          -1.5218659923324995,
          0.48252528692933,
          -1.1739288126024365,
          -0.2661170255448922,
          -0.12089999686922906,
          2.207181673471075,
          1.3492640917725967,
          -0.07360631969307191,
          -0.8428718809880091,
          0.6541993474215966,
          1.832577954017896,
          -0.8000301318162512,
          0.5912931904834581,
          -0.1648826924515067,
          0.7513998380294736,
          -0.36636501022202067,
          0.4479585738911855,
          0.01652610289102157,
          1.4436301181798241,
          1.198114629977769,
          -0.12417129548519844,
          -1.635490725015796,
          0.9659152618319634,
          -0.22163192420780028,
          0.13906379998407672,
          -0.5933198954392768,
          0.09517724473066766,
          -0.6565492491460867,
          -0.7362795364472919,
          -0.4868621253603264,
          -1.0520977748564473,
          -2.4117622058518284,
          -2.131492724081454,
          0.8115720023991889,
          -0.2685434009579712,
          -0.5963652446589135,
          2.474124392200335,
          0.06911688071229449,
          -1.1365645282692047,
          -0.7563200775798268,
          -0.8945050849648055,
          0.8551433639677785,
          -0.18826810908634953,
          1.4656718925668768,
          -0.056481576159804245,
          0.982213228229109,
          1.2540302807344708,
          2.269188395378155,
          0.5868297415228718,
          -1.3920972094032944,
          0.2580819064645278,
          -0.5126588457434668,
          0.8421125394269273,
          -0.7731775605236191,
          -2.401552932218778,
          -1.0766545233237557,
          -1.0115670858119716,
          0.5303470084085685,
          -0.02356719985016988,
          -0.11813249614427222,
          0.6296570442736785,
          -0.8320580612521427,
          -0.49955935500329185,
          -0.13027097894996809,
          -0.081474351975949,
          0.27830415447931356,
          1.218265733122561,
          1.4955858477436832,
          -0.11999165184828173,
          -2.0658962422542575,
          -1.2836654857950553,
          -2.868162817942856,
          -2.363789031238105,
          -0.5279276194071908,
          -0.08225036746740437,
          -0.47129768728363813
         ],
         "yaxis": "y5"
        },
        {
         "histfunc": "count",
         "histnorm": "",
         "marker": {
          "color": "rgba(55, 128, 191, 1.0)",
          "line": {
           "color": "#4D5663",
           "width": 1.3
          }
         },
         "name": "B",
         "nbinsx": 10,
         "opacity": 0.8,
         "orientation": "v",
         "type": "histogram",
         "x": [
          -0.4325321712751128,
          -1.5460924544980112,
          0.10273563589960194,
          -0.4367522969617371,
          -0.37250903654265705,
          2.495901049673792,
          0.4543077408140475,
          -0.30651567349031394,
          -0.38977321361290346,
          0.25333239787958034,
          -0.6518531750893366,
          -1.1598463133588912,
          -0.2502549143354412,
          -0.20151676688773343,
          1.5980566808370873,
          0.029402384373415722,
          -0.2269876865330706,
          -0.33008870211174673,
          0.8804252708319859,
          0.540454682551017,
          -0.056564992295370896,
          -1.543266073278203,
          -0.1517454722774265,
          0.48850921701499184,
          -1.5218659923324995,
          0.48252528692933,
          -1.1739288126024365,
          -0.2661170255448922,
          -0.12089999686922906,
          2.207181673471075,
          1.3492640917725967,
          -0.07360631969307191,
          -0.8428718809880091,
          0.6541993474215966,
          1.832577954017896,
          -0.8000301318162512,
          0.5912931904834581,
          -0.1648826924515067,
          0.7513998380294736,
          -0.36636501022202067,
          0.4479585738911855,
          0.01652610289102157,
          1.4436301181798241,
          1.198114629977769,
          -0.12417129548519844,
          -1.635490725015796,
          0.9659152618319634,
          -0.22163192420780028,
          0.13906379998407672,
          -0.5933198954392768,
          0.09517724473066766,
          -0.6565492491460867,
          -0.7362795364472919,
          -0.4868621253603264,
          -1.0520977748564473,
          -2.4117622058518284,
          -2.131492724081454,
          0.8115720023991889,
          -0.2685434009579712,
          -0.5963652446589135,
          2.474124392200335,
          0.06911688071229449,
          -1.1365645282692047,
          -0.7563200775798268,
          -0.8945050849648055,
          0.8551433639677785,
          -0.18826810908634953,
          1.4656718925668768,
          -0.056481576159804245,
          0.982213228229109,
          1.2540302807344708,
          2.269188395378155,
          0.5868297415228718,
          -1.3920972094032944,
          0.2580819064645278,
          -0.5126588457434668,
          0.8421125394269273,
          -0.7731775605236191,
          -2.401552932218778,
          -1.0766545233237557,
          -1.0115670858119716,
          0.5303470084085685,
          -0.02356719985016988,
          -0.11813249614427222,
          0.6296570442736785,
          -0.8320580612521427,
          -0.49955935500329185,
          -0.13027097894996809,
          -0.081474351975949,
          0.27830415447931356,
          1.218265733122561,
          1.4955858477436832,
          -0.11999165184828173,
          -2.0658962422542575,
          -1.2836654857950553,
          -2.868162817942856,
          -2.363789031238105,
          -0.5279276194071908,
          -0.08225036746740437,
          -0.47129768728363813
         ],
         "xaxis": "x6",
         "yaxis": "y6"
        },
        {
         "line": {
          "color": "rgba(128, 128, 128, 1.0)",
          "dash": "solid",
          "shape": "linear",
          "width": 1.3
         },
         "marker": {
          "size": 2,
          "symbol": "circle"
         },
         "mode": "markers",
         "name": "B",
         "text": "",
         "type": "scatter",
         "x": [
          -1.4915827436378635,
          -2.112020006549017,
          -0.8329924095346284,
          1.7823209334611574,
          -0.7192814711428236,
          -0.5657555679446309,
          0.29374616132364456,
          1.6996285110354985,
          -0.41935449712171036,
          1.8049666970050822,
          0.9950818115963185,
          -0.3561521976707872,
          0.35746595441843676,
          0.16665249127587373,
          -0.30997250971580614,
          1.320875064102547,
          -2.2275645560572377,
          -0.558859659944914,
          -0.3395427132529864,
          -0.6172227810131552,
          0.5598324593996644,
          2.3176340765173293,
          1.3868298905679506,
          0.7074025099455857,
          0.9968354698286394,
          0.5759027018023721,
          -1.1902446827365922,
          -0.566420905406603,
          -2.5787457879446936,
          1.0448765267217333,
          0.0575222219029565,
          0.553843648368937,
          -0.5848856885732062,
          -0.9167844605684892,
          -0.4116034641618978,
          0.3403504234759874,
          -0.09015529136674685,
          0.9605253449617726,
          0.41295230460834553,
          0.17606893005627136,
          0.1394835567699609,
          -0.24824526562589908,
          -0.31426882930239164,
          0.690792933252245,
          -0.9878882957890283,
          -0.4735071596684798,
          1.6512343595147854,
          2.609770180786801,
          -0.7648625754422158,
          0.0712398856157923,
          -0.5049747112309024,
          0.4912486112813825,
          0.9885021263519854,
          0.7712407604431888,
          0.1290524490715323,
          0.04448892449874012,
          0.37191418104278157,
          0.5511476627085021,
          0.2145247287208951,
          0.6179232564946322,
          -0.21505308570241372,
          0.11415534786549235,
          0.49730667627105724,
          -1.3539767876323532,
          1.5029693022889137,
          -0.8955210319309673,
          1.5236031046781657,
          -0.5511762908172061,
          -0.48435904644665134,
          0.06780795963216768,
          0.10577749158140741,
          -0.7613594055094629,
          -0.0807678779419743,
          -1.100340014759591,
          0.13473733868437426,
          -0.5554032514491901,
          -2.1040562904224527,
          1.3785472966882482,
          0.20358444370538267,
          2.8953721028734596,
          0.3130398408759578,
          0.14002930904544209,
          -1.3728158956282914,
          -0.35819175282054805,
          0.22958757977878763,
          -0.003913314093714403,
          -1.9865998428720206,
          -1.4995645715031976,
          -1.610787403627202,
          -0.7673634249080489,
          -0.3989395546614242,
          2.6703375578543307,
          1.790563716962692,
          -1.1414208367513043,
          0.6848848569715895,
          0.7269276441464714,
          -0.2956929541095785,
          -0.4582838725550537,
          -0.31906036078748545,
          -2.1211963434778136
         ],
         "xaxis": "x7",
         "y": [
          -0.4325321712751128,
          -1.5460924544980112,
          0.10273563589960194,
          -0.4367522969617371,
          -0.37250903654265705,
          2.495901049673792,
          0.4543077408140475,
          -0.30651567349031394,
          -0.38977321361290346,
          0.25333239787958034,
          -0.6518531750893366,
          -1.1598463133588912,
          -0.2502549143354412,
          -0.20151676688773343,
          1.5980566808370873,
          0.029402384373415722,
          -0.2269876865330706,
          -0.33008870211174673,
          0.8804252708319859,
          0.540454682551017,
          -0.056564992295370896,
          -1.543266073278203,
          -0.1517454722774265,
          0.48850921701499184,
          -1.5218659923324995,
          0.48252528692933,
          -1.1739288126024365,
          -0.2661170255448922,
          -0.12089999686922906,
          2.207181673471075,
          1.3492640917725967,
          -0.07360631969307191,
          -0.8428718809880091,
          0.6541993474215966,
          1.832577954017896,
          -0.8000301318162512,
          0.5912931904834581,
          -0.1648826924515067,
          0.7513998380294736,
          -0.36636501022202067,
          0.4479585738911855,
          0.01652610289102157,
          1.4436301181798241,
          1.198114629977769,
          -0.12417129548519844,
          -1.635490725015796,
          0.9659152618319634,
          -0.22163192420780028,
          0.13906379998407672,
          -0.5933198954392768,
          0.09517724473066766,
          -0.6565492491460867,
          -0.7362795364472919,
          -0.4868621253603264,
          -1.0520977748564473,
          -2.4117622058518284,
          -2.131492724081454,
          0.8115720023991889,
          -0.2685434009579712,
          -0.5963652446589135,
          2.474124392200335,
          0.06911688071229449,
          -1.1365645282692047,
          -0.7563200775798268,
          -0.8945050849648055,
          0.8551433639677785,
          -0.18826810908634953,
          1.4656718925668768,
          -0.056481576159804245,
          0.982213228229109,
          1.2540302807344708,
          2.269188395378155,
          0.5868297415228718,
          -1.3920972094032944,
          0.2580819064645278,
          -0.5126588457434668,
          0.8421125394269273,
          -0.7731775605236191,
          -2.401552932218778,
          -1.0766545233237557,
          -1.0115670858119716,
          0.5303470084085685,
          -0.02356719985016988,
          -0.11813249614427222,
          0.6296570442736785,
          -0.8320580612521427,
          -0.49955935500329185,
          -0.13027097894996809,
          -0.081474351975949,
          0.27830415447931356,
          1.218265733122561,
          1.4955858477436832,
          -0.11999165184828173,
          -2.0658962422542575,
          -1.2836654857950553,
          -2.868162817942856,
          -2.363789031238105,
          -0.5279276194071908,
          -0.08225036746740437,
          -0.47129768728363813
         ],
         "yaxis": "y7"
        },
        {
         "line": {
          "color": "rgba(128, 128, 128, 1.0)",
          "dash": "solid",
          "shape": "linear",
          "width": 1.3
         },
         "marker": {
          "size": 2,
          "symbol": "circle"
         },
         "mode": "markers",
         "name": "B",
         "text": "",
         "type": "scatter",
         "x": [
          -0.7025160410480839,
          1.3109081667544578,
          -0.510361468081794,
          0.14988146373890324,
          1.6019418730762025,
          -0.349053248547214,
          -0.4166299933795874,
          -2.4680739874503113,
          0.025067974485122674,
          -0.19871976026948518,
          0.5953950686273765,
          0.7511049301039473,
          0.5720049651864383,
          -2.4835048163036797,
          0.2109330444317143,
          1.4767934570912753,
          -0.035966329295487084,
          -0.6810201187166933,
          -1.3957264827789182,
          0.34492934974635153,
          -0.22948438014191513,
          0.9944106854012644,
          1.1245846524485843,
          1.7267038383309876,
          0.5044357665376124,
          -0.35664609529375235,
          -0.17181976879078467,
          -1.173535775728522,
          0.06374348058106245,
          0.7848220619723575,
          -0.2564503272297871,
          1.8315920467331734,
          2.032589934699792,
          0.6513614616376907,
          -0.1424870213724532,
          1.7632791185368706,
          0.720715119660739,
          -1.7333097242317494,
          0.1253668772189341,
          -0.6906249181043568,
          -0.5850487211742301,
          0.7651300905830513,
          0.12186453381870625,
          -0.4150343239864852,
          0.660759717712707,
          1.2753300935459693,
          -1.4496646904364807,
          0.19710775617052026,
          -0.18528700914977536,
          0.6884493145711821,
          0.16201470238935398,
          -0.03200110632704644,
          -0.08702335075885158,
          1.3271464353502238,
          -0.07768790979240572,
          -1.4135203973646147,
          -0.5787944728418192,
          0.5022055952444596,
          0.454460398888486,
          0.49952080788698844,
          1.3937837027809206,
          -0.22705333578165374,
          1.7601645652112776,
          1.1693672723203297,
          0.006168973030320437,
          -1.2946412347695087,
          0.9359192670481432,
          -0.34135313067712797,
          -0.8991078674578962,
          -1.4180420040265282,
          -0.3141498370012541,
          1.3284588340190397,
          0.43436365261630805,
          -0.06019913519325379,
          0.7229731593151011,
          -0.059130641011031916,
          0.18691418901314508,
          -0.579051175367635,
          0.6863533149215727,
          2.2073437656015202,
          0.6189359844436157,
          -1.4371023486349348,
          0.20509646795438427,
          0.5351249753977271,
          1.1588687922005507,
          -0.3865337149383086,
          0.3199797712139598,
          -0.17461766180681795,
          -0.7182557946851779,
          1.9110973156231161,
          -1.480052452610233,
          -1.0388907279053714,
          1.9265638251231678,
          0.6879312442723563,
          -0.5989968078733376,
          2.010769856789577,
          0.5928355998139698,
          -1.3997036184021738,
          -1.597976868291814,
          -0.7472119617588053
         ],
         "xaxis": "x8",
         "y": [
          -0.4325321712751128,
          -1.5460924544980112,
          0.10273563589960194,
          -0.4367522969617371,
          -0.37250903654265705,
          2.495901049673792,
          0.4543077408140475,
          -0.30651567349031394,
          -0.38977321361290346,
          0.25333239787958034,
          -0.6518531750893366,
          -1.1598463133588912,
          -0.2502549143354412,
          -0.20151676688773343,
          1.5980566808370873,
          0.029402384373415722,
          -0.2269876865330706,
          -0.33008870211174673,
          0.8804252708319859,
          0.540454682551017,
          -0.056564992295370896,
          -1.543266073278203,
          -0.1517454722774265,
          0.48850921701499184,
          -1.5218659923324995,
          0.48252528692933,
          -1.1739288126024365,
          -0.2661170255448922,
          -0.12089999686922906,
          2.207181673471075,
          1.3492640917725967,
          -0.07360631969307191,
          -0.8428718809880091,
          0.6541993474215966,
          1.832577954017896,
          -0.8000301318162512,
          0.5912931904834581,
          -0.1648826924515067,
          0.7513998380294736,
          -0.36636501022202067,
          0.4479585738911855,
          0.01652610289102157,
          1.4436301181798241,
          1.198114629977769,
          -0.12417129548519844,
          -1.635490725015796,
          0.9659152618319634,
          -0.22163192420780028,
          0.13906379998407672,
          -0.5933198954392768,
          0.09517724473066766,
          -0.6565492491460867,
          -0.7362795364472919,
          -0.4868621253603264,
          -1.0520977748564473,
          -2.4117622058518284,
          -2.131492724081454,
          0.8115720023991889,
          -0.2685434009579712,
          -0.5963652446589135,
          2.474124392200335,
          0.06911688071229449,
          -1.1365645282692047,
          -0.7563200775798268,
          -0.8945050849648055,
          0.8551433639677785,
          -0.18826810908634953,
          1.4656718925668768,
          -0.056481576159804245,
          0.982213228229109,
          1.2540302807344708,
          2.269188395378155,
          0.5868297415228718,
          -1.3920972094032944,
          0.2580819064645278,
          -0.5126588457434668,
          0.8421125394269273,
          -0.7731775605236191,
          -2.401552932218778,
          -1.0766545233237557,
          -1.0115670858119716,
          0.5303470084085685,
          -0.02356719985016988,
          -0.11813249614427222,
          0.6296570442736785,
          -0.8320580612521427,
          -0.49955935500329185,
          -0.13027097894996809,
          -0.081474351975949,
          0.27830415447931356,
          1.218265733122561,
          1.4955858477436832,
          -0.11999165184828173,
          -2.0658962422542575,
          -1.2836654857950553,
          -2.868162817942856,
          -2.363789031238105,
          -0.5279276194071908,
          -0.08225036746740437,
          -0.47129768728363813
         ],
         "yaxis": "y8"
        },
        {
         "line": {
          "color": "rgba(128, 128, 128, 1.0)",
          "dash": "solid",
          "shape": "linear",
          "width": 1.3
         },
         "marker": {
          "size": 2,
          "symbol": "circle"
         },
         "mode": "markers",
         "name": "C",
         "text": "",
         "type": "scatter",
         "x": [
          0.2677202100092553,
          0.029401801300603495,
          1.6333155976582325,
          -0.15395081213775003,
          -0.14413501408846446,
          -1.6449448335712324,
          -0.14949460123467992,
          0.3339491948644246,
          -2.597094399834224,
          0.31658962768094867,
          0.8786647987727886,
          -1.3432173218877443,
          -0.7847668533324995,
          -0.837875974898997,
          -0.16072258922436436,
          0.5380362625214631,
          0.8018472514118294,
          2.225050418870336,
          0.06312688222115209,
          -0.2819821780153154,
          0.4561975529941592,
          0.9540050098411976,
          -0.5772141596534164,
          0.2533501925563586,
          -1.8640188679329512,
          0.24686965021478458,
          -1.5145631567705737,
          0.8539396046950519,
          0.0530587181385824,
          -1.1056944602495598,
          -0.8106609561461899,
          1.9999438998844243,
          -1.696019592198367,
          0.27035476500109734,
          0.3448685019844587,
          2.4332894470526885,
          1.0183035709639316,
          -1.0635862704484549,
          -0.4404129255558789,
          -1.2016635715406303,
          -0.7349321325596352,
          0.2912459365897682,
          1.1057264089740584,
          -1.3474952757494583,
          1.3656261037787343,
          1.4668789210387587,
          1.1341137118535645,
          -0.797166045752831,
          -0.8437538847577685,
          -0.6578538590564416,
          -2.800744340160438,
          -1.464933962422879,
          0.18579368606777028,
          0.2716661071690678,
          -1.388396543205864,
          0.5651575972514904,
          1.870569345198021,
          -0.01803795079444882,
          0.5445561374341695,
          1.3100419598906323,
          0.9269117310037176,
          1.2170550881202022,
          0.5977731119509945,
          1.4658503908815197,
          -0.7133295308487775,
          -1.6072561105549357,
          -1.1583952519354686,
          -0.5675193850198321,
          0.18395561276829986,
          1.5629117365627527,
          -0.6459481567494111,
          0.6451808366860189,
          -1.140277317678325,
          0.9201965824358878,
          0.5628508849829402,
          0.06223168643101446,
          0.3830041460378295,
          -1.7425635857356514,
          2.68853762149162,
          -1.5873613032422402,
          1.2103667304439776,
          0.4483515828616707,
          0.3069526013666004,
          -0.3056869359478956,
          0.43649977563834447,
          -0.3367048914567436,
          -0.8743257220013367,
          0.9018109380439379,
          0.4495422955436478,
          -1.1129199575924928,
          0.8875442142140842,
          -1.0279242303493357,
          2.1826050258379954,
          1.3416997099219075,
          -0.5444380801553921,
          -1.3906335395822353,
          0.603842679050368,
          1.4479816718381482,
          2.2801894155665146,
          0.2948305425715559
         ],
         "xaxis": "x9",
         "y": [
          -1.4915827436378635,
          -2.112020006549017,
          -0.8329924095346284,
          1.7823209334611574,
          -0.7192814711428236,
          -0.5657555679446309,
          0.29374616132364456,
          1.6996285110354985,
          -0.41935449712171036,
          1.8049666970050822,
          0.9950818115963185,
          -0.3561521976707872,
          0.35746595441843676,
          0.16665249127587373,
          -0.30997250971580614,
          1.320875064102547,
          -2.2275645560572377,
          -0.558859659944914,
          -0.3395427132529864,
          -0.6172227810131552,
          0.5598324593996644,
          2.3176340765173293,
          1.3868298905679506,
          0.7074025099455857,
          0.9968354698286394,
          0.5759027018023721,
          -1.1902446827365922,
          -0.566420905406603,
          -2.5787457879446936,
          1.0448765267217333,
          0.0575222219029565,
          0.553843648368937,
          -0.5848856885732062,
          -0.9167844605684892,
          -0.4116034641618978,
          0.3403504234759874,
          -0.09015529136674685,
          0.9605253449617726,
          0.41295230460834553,
          0.17606893005627136,
          0.1394835567699609,
          -0.24824526562589908,
          -0.31426882930239164,
          0.690792933252245,
          -0.9878882957890283,
          -0.4735071596684798,
          1.6512343595147854,
          2.609770180786801,
          -0.7648625754422158,
          0.0712398856157923,
          -0.5049747112309024,
          0.4912486112813825,
          0.9885021263519854,
          0.7712407604431888,
          0.1290524490715323,
          0.04448892449874012,
          0.37191418104278157,
          0.5511476627085021,
          0.2145247287208951,
          0.6179232564946322,
          -0.21505308570241372,
          0.11415534786549235,
          0.49730667627105724,
          -1.3539767876323532,
          1.5029693022889137,
          -0.8955210319309673,
          1.5236031046781657,
          -0.5511762908172061,
          -0.48435904644665134,
          0.06780795963216768,
          0.10577749158140741,
          -0.7613594055094629,
          -0.0807678779419743,
          -1.100340014759591,
          0.13473733868437426,
          -0.5554032514491901,
          -2.1040562904224527,
          1.3785472966882482,
          0.20358444370538267,
          2.8953721028734596,
          0.3130398408759578,
          0.14002930904544209,
          -1.3728158956282914,
          -0.35819175282054805,
          0.22958757977878763,
          -0.003913314093714403,
          -1.9865998428720206,
          -1.4995645715031976,
          -1.610787403627202,
          -0.7673634249080489,
          -0.3989395546614242,
          2.6703375578543307,
          1.790563716962692,
          -1.1414208367513043,
          0.6848848569715895,
          0.7269276441464714,
          -0.2956929541095785,
          -0.4582838725550537,
          -0.31906036078748545,
          -2.1211963434778136
         ],
         "yaxis": "y9"
        },
        {
         "line": {
          "color": "rgba(128, 128, 128, 1.0)",
          "dash": "solid",
          "shape": "linear",
          "width": 1.3
         },
         "marker": {
          "size": 2,
          "symbol": "circle"
         },
         "mode": "markers",
         "name": "C",
         "text": "",
         "type": "scatter",
         "x": [
          -0.4325321712751128,
          -1.5460924544980112,
          0.10273563589960194,
          -0.4367522969617371,
          -0.37250903654265705,
          2.495901049673792,
          0.4543077408140475,
          -0.30651567349031394,
          -0.38977321361290346,
          0.25333239787958034,
          -0.6518531750893366,
          -1.1598463133588912,
          -0.2502549143354412,
          -0.20151676688773343,
          1.5980566808370873,
          0.029402384373415722,
          -0.2269876865330706,
          -0.33008870211174673,
          0.8804252708319859,
          0.540454682551017,
          -0.056564992295370896,
          -1.543266073278203,
          -0.1517454722774265,
          0.48850921701499184,
          -1.5218659923324995,
          0.48252528692933,
          -1.1739288126024365,
          -0.2661170255448922,
          -0.12089999686922906,
          2.207181673471075,
          1.3492640917725967,
          -0.07360631969307191,
          -0.8428718809880091,
          0.6541993474215966,
          1.832577954017896,
          -0.8000301318162512,
          0.5912931904834581,
          -0.1648826924515067,
          0.7513998380294736,
          -0.36636501022202067,
          0.4479585738911855,
          0.01652610289102157,
          1.4436301181798241,
          1.198114629977769,
          -0.12417129548519844,
          -1.635490725015796,
          0.9659152618319634,
          -0.22163192420780028,
          0.13906379998407672,
          -0.5933198954392768,
          0.09517724473066766,
          -0.6565492491460867,
          -0.7362795364472919,
          -0.4868621253603264,
          -1.0520977748564473,
          -2.4117622058518284,
          -2.131492724081454,
          0.8115720023991889,
          -0.2685434009579712,
          -0.5963652446589135,
          2.474124392200335,
          0.06911688071229449,
          -1.1365645282692047,
          -0.7563200775798268,
          -0.8945050849648055,
          0.8551433639677785,
          -0.18826810908634953,
          1.4656718925668768,
          -0.056481576159804245,
          0.982213228229109,
          1.2540302807344708,
          2.269188395378155,
          0.5868297415228718,
          -1.3920972094032944,
          0.2580819064645278,
          -0.5126588457434668,
          0.8421125394269273,
          -0.7731775605236191,
          -2.401552932218778,
          -1.0766545233237557,
          -1.0115670858119716,
          0.5303470084085685,
          -0.02356719985016988,
          -0.11813249614427222,
          0.6296570442736785,
          -0.8320580612521427,
          -0.49955935500329185,
          -0.13027097894996809,
          -0.081474351975949,
          0.27830415447931356,
          1.218265733122561,
          1.4955858477436832,
          -0.11999165184828173,
          -2.0658962422542575,
          -1.2836654857950553,
          -2.868162817942856,
          -2.363789031238105,
          -0.5279276194071908,
          -0.08225036746740437,
          -0.47129768728363813
         ],
         "xaxis": "x10",
         "y": [
          -1.4915827436378635,
          -2.112020006549017,
          -0.8329924095346284,
          1.7823209334611574,
          -0.7192814711428236,
          -0.5657555679446309,
          0.29374616132364456,
          1.6996285110354985,
          -0.41935449712171036,
          1.8049666970050822,
          0.9950818115963185,
          -0.3561521976707872,
          0.35746595441843676,
          0.16665249127587373,
          -0.30997250971580614,
          1.320875064102547,
          -2.2275645560572377,
          -0.558859659944914,
          -0.3395427132529864,
          -0.6172227810131552,
          0.5598324593996644,
          2.3176340765173293,
          1.3868298905679506,
          0.7074025099455857,
          0.9968354698286394,
          0.5759027018023721,
          -1.1902446827365922,
          -0.566420905406603,
          -2.5787457879446936,
          1.0448765267217333,
          0.0575222219029565,
          0.553843648368937,
          -0.5848856885732062,
          -0.9167844605684892,
          -0.4116034641618978,
          0.3403504234759874,
          -0.09015529136674685,
          0.9605253449617726,
          0.41295230460834553,
          0.17606893005627136,
          0.1394835567699609,
          -0.24824526562589908,
          -0.31426882930239164,
          0.690792933252245,
          -0.9878882957890283,
          -0.4735071596684798,
          1.6512343595147854,
          2.609770180786801,
          -0.7648625754422158,
          0.0712398856157923,
          -0.5049747112309024,
          0.4912486112813825,
          0.9885021263519854,
          0.7712407604431888,
          0.1290524490715323,
          0.04448892449874012,
          0.37191418104278157,
          0.5511476627085021,
          0.2145247287208951,
          0.6179232564946322,
          -0.21505308570241372,
          0.11415534786549235,
          0.49730667627105724,
          -1.3539767876323532,
          1.5029693022889137,
          -0.8955210319309673,
          1.5236031046781657,
          -0.5511762908172061,
          -0.48435904644665134,
          0.06780795963216768,
          0.10577749158140741,
          -0.7613594055094629,
          -0.0807678779419743,
          -1.100340014759591,
          0.13473733868437426,
          -0.5554032514491901,
          -2.1040562904224527,
          1.3785472966882482,
          0.20358444370538267,
          2.8953721028734596,
          0.3130398408759578,
          0.14002930904544209,
          -1.3728158956282914,
          -0.35819175282054805,
          0.22958757977878763,
          -0.003913314093714403,
          -1.9865998428720206,
          -1.4995645715031976,
          -1.610787403627202,
          -0.7673634249080489,
          -0.3989395546614242,
          2.6703375578543307,
          1.790563716962692,
          -1.1414208367513043,
          0.6848848569715895,
          0.7269276441464714,
          -0.2956929541095785,
          -0.4582838725550537,
          -0.31906036078748545,
          -2.1211963434778136
         ],
         "yaxis": "y10"
        },
        {
         "histfunc": "count",
         "histnorm": "",
         "marker": {
          "color": "rgba(50, 171, 96, 1.0)",
          "line": {
           "color": "#4D5663",
           "width": 1.3
          }
         },
         "name": "C",
         "nbinsx": 10,
         "opacity": 0.8,
         "orientation": "v",
         "type": "histogram",
         "x": [
          -1.4915827436378635,
          -2.112020006549017,
          -0.8329924095346284,
          1.7823209334611574,
          -0.7192814711428236,
          -0.5657555679446309,
          0.29374616132364456,
          1.6996285110354985,
          -0.41935449712171036,
          1.8049666970050822,
          0.9950818115963185,
          -0.3561521976707872,
          0.35746595441843676,
          0.16665249127587373,
          -0.30997250971580614,
          1.320875064102547,
          -2.2275645560572377,
          -0.558859659944914,
          -0.3395427132529864,
          -0.6172227810131552,
          0.5598324593996644,
          2.3176340765173293,
          1.3868298905679506,
          0.7074025099455857,
          0.9968354698286394,
          0.5759027018023721,
          -1.1902446827365922,
          -0.566420905406603,
          -2.5787457879446936,
          1.0448765267217333,
          0.0575222219029565,
          0.553843648368937,
          -0.5848856885732062,
          -0.9167844605684892,
          -0.4116034641618978,
          0.3403504234759874,
          -0.09015529136674685,
          0.9605253449617726,
          0.41295230460834553,
          0.17606893005627136,
          0.1394835567699609,
          -0.24824526562589908,
          -0.31426882930239164,
          0.690792933252245,
          -0.9878882957890283,
          -0.4735071596684798,
          1.6512343595147854,
          2.609770180786801,
          -0.7648625754422158,
          0.0712398856157923,
          -0.5049747112309024,
          0.4912486112813825,
          0.9885021263519854,
          0.7712407604431888,
          0.1290524490715323,
          0.04448892449874012,
          0.37191418104278157,
          0.5511476627085021,
          0.2145247287208951,
          0.6179232564946322,
          -0.21505308570241372,
          0.11415534786549235,
          0.49730667627105724,
          -1.3539767876323532,
          1.5029693022889137,
          -0.8955210319309673,
          1.5236031046781657,
          -0.5511762908172061,
          -0.48435904644665134,
          0.06780795963216768,
          0.10577749158140741,
          -0.7613594055094629,
          -0.0807678779419743,
          -1.100340014759591,
          0.13473733868437426,
          -0.5554032514491901,
          -2.1040562904224527,
          1.3785472966882482,
          0.20358444370538267,
          2.8953721028734596,
          0.3130398408759578,
          0.14002930904544209,
          -1.3728158956282914,
          -0.35819175282054805,
          0.22958757977878763,
          -0.003913314093714403,
          -1.9865998428720206,
          -1.4995645715031976,
          -1.610787403627202,
          -0.7673634249080489,
          -0.3989395546614242,
          2.6703375578543307,
          1.790563716962692,
          -1.1414208367513043,
          0.6848848569715895,
          0.7269276441464714,
          -0.2956929541095785,
          -0.4582838725550537,
          -0.31906036078748545,
          -2.1211963434778136
         ],
         "xaxis": "x11",
         "yaxis": "y11"
        },
        {
         "line": {
          "color": "rgba(128, 128, 128, 1.0)",
          "dash": "solid",
          "shape": "linear",
          "width": 1.3
         },
         "marker": {
          "size": 2,
          "symbol": "circle"
         },
         "mode": "markers",
         "name": "C",
         "text": "",
         "type": "scatter",
         "x": [
          -0.7025160410480839,
          1.3109081667544578,
          -0.510361468081794,
          0.14988146373890324,
          1.6019418730762025,
          -0.349053248547214,
          -0.4166299933795874,
          -2.4680739874503113,
          0.025067974485122674,
          -0.19871976026948518,
          0.5953950686273765,
          0.7511049301039473,
          0.5720049651864383,
          -2.4835048163036797,
          0.2109330444317143,
          1.4767934570912753,
          -0.035966329295487084,
          -0.6810201187166933,
          -1.3957264827789182,
          0.34492934974635153,
          -0.22948438014191513,
          0.9944106854012644,
          1.1245846524485843,
          1.7267038383309876,
          0.5044357665376124,
          -0.35664609529375235,
          -0.17181976879078467,
          -1.173535775728522,
          0.06374348058106245,
          0.7848220619723575,
          -0.2564503272297871,
          1.8315920467331734,
          2.032589934699792,
          0.6513614616376907,
          -0.1424870213724532,
          1.7632791185368706,
          0.720715119660739,
          -1.7333097242317494,
          0.1253668772189341,
          -0.6906249181043568,
          -0.5850487211742301,
          0.7651300905830513,
          0.12186453381870625,
          -0.4150343239864852,
          0.660759717712707,
          1.2753300935459693,
          -1.4496646904364807,
          0.19710775617052026,
          -0.18528700914977536,
          0.6884493145711821,
          0.16201470238935398,
          -0.03200110632704644,
          -0.08702335075885158,
          1.3271464353502238,
          -0.07768790979240572,
          -1.4135203973646147,
          -0.5787944728418192,
          0.5022055952444596,
          0.454460398888486,
          0.49952080788698844,
          1.3937837027809206,
          -0.22705333578165374,
          1.7601645652112776,
          1.1693672723203297,
          0.006168973030320437,
          -1.2946412347695087,
          0.9359192670481432,
          -0.34135313067712797,
          -0.8991078674578962,
          -1.4180420040265282,
          -0.3141498370012541,
          1.3284588340190397,
          0.43436365261630805,
          -0.06019913519325379,
          0.7229731593151011,
          -0.059130641011031916,
          0.18691418901314508,
          -0.579051175367635,
          0.6863533149215727,
          2.2073437656015202,
          0.6189359844436157,
          -1.4371023486349348,
          0.20509646795438427,
          0.5351249753977271,
          1.1588687922005507,
          -0.3865337149383086,
          0.3199797712139598,
          -0.17461766180681795,
          -0.7182557946851779,
          1.9110973156231161,
          -1.480052452610233,
          -1.0388907279053714,
          1.9265638251231678,
          0.6879312442723563,
          -0.5989968078733376,
          2.010769856789577,
          0.5928355998139698,
          -1.3997036184021738,
          -1.597976868291814,
          -0.7472119617588053
         ],
         "xaxis": "x12",
         "y": [
          -1.4915827436378635,
          -2.112020006549017,
          -0.8329924095346284,
          1.7823209334611574,
          -0.7192814711428236,
          -0.5657555679446309,
          0.29374616132364456,
          1.6996285110354985,
          -0.41935449712171036,
          1.8049666970050822,
          0.9950818115963185,
          -0.3561521976707872,
          0.35746595441843676,
          0.16665249127587373,
          -0.30997250971580614,
          1.320875064102547,
          -2.2275645560572377,
          -0.558859659944914,
          -0.3395427132529864,
          -0.6172227810131552,
          0.5598324593996644,
          2.3176340765173293,
          1.3868298905679506,
          0.7074025099455857,
          0.9968354698286394,
          0.5759027018023721,
          -1.1902446827365922,
          -0.566420905406603,
          -2.5787457879446936,
          1.0448765267217333,
          0.0575222219029565,
          0.553843648368937,
          -0.5848856885732062,
          -0.9167844605684892,
          -0.4116034641618978,
          0.3403504234759874,
          -0.09015529136674685,
          0.9605253449617726,
          0.41295230460834553,
          0.17606893005627136,
          0.1394835567699609,
          -0.24824526562589908,
          -0.31426882930239164,
          0.690792933252245,
          -0.9878882957890283,
          -0.4735071596684798,
          1.6512343595147854,
          2.609770180786801,
          -0.7648625754422158,
          0.0712398856157923,
          -0.5049747112309024,
          0.4912486112813825,
          0.9885021263519854,
          0.7712407604431888,
          0.1290524490715323,
          0.04448892449874012,
          0.37191418104278157,
          0.5511476627085021,
          0.2145247287208951,
          0.6179232564946322,
          -0.21505308570241372,
          0.11415534786549235,
          0.49730667627105724,
          -1.3539767876323532,
          1.5029693022889137,
          -0.8955210319309673,
          1.5236031046781657,
          -0.5511762908172061,
          -0.48435904644665134,
          0.06780795963216768,
          0.10577749158140741,
          -0.7613594055094629,
          -0.0807678779419743,
          -1.100340014759591,
          0.13473733868437426,
          -0.5554032514491901,
          -2.1040562904224527,
          1.3785472966882482,
          0.20358444370538267,
          2.8953721028734596,
          0.3130398408759578,
          0.14002930904544209,
          -1.3728158956282914,
          -0.35819175282054805,
          0.22958757977878763,
          -0.003913314093714403,
          -1.9865998428720206,
          -1.4995645715031976,
          -1.610787403627202,
          -0.7673634249080489,
          -0.3989395546614242,
          2.6703375578543307,
          1.790563716962692,
          -1.1414208367513043,
          0.6848848569715895,
          0.7269276441464714,
          -0.2956929541095785,
          -0.4582838725550537,
          -0.31906036078748545,
          -2.1211963434778136
         ],
         "yaxis": "y12"
        },
        {
         "line": {
          "color": "rgba(128, 128, 128, 1.0)",
          "dash": "solid",
          "shape": "linear",
          "width": 1.3
         },
         "marker": {
          "size": 2,
          "symbol": "circle"
         },
         "mode": "markers",
         "name": "D",
         "text": "",
         "type": "scatter",
         "x": [
          0.2677202100092553,
          0.029401801300603495,
          1.6333155976582325,
          -0.15395081213775003,
          -0.14413501408846446,
          -1.6449448335712324,
          -0.14949460123467992,
          0.3339491948644246,
          -2.597094399834224,
          0.31658962768094867,
          0.8786647987727886,
          -1.3432173218877443,
          -0.7847668533324995,
          -0.837875974898997,
          -0.16072258922436436,
          0.5380362625214631,
          0.8018472514118294,
          2.225050418870336,
          0.06312688222115209,
          -0.2819821780153154,
          0.4561975529941592,
          0.9540050098411976,
          -0.5772141596534164,
          0.2533501925563586,
          -1.8640188679329512,
          0.24686965021478458,
          -1.5145631567705737,
          0.8539396046950519,
          0.0530587181385824,
          -1.1056944602495598,
          -0.8106609561461899,
          1.9999438998844243,
          -1.696019592198367,
          0.27035476500109734,
          0.3448685019844587,
          2.4332894470526885,
          1.0183035709639316,
          -1.0635862704484549,
          -0.4404129255558789,
          -1.2016635715406303,
          -0.7349321325596352,
          0.2912459365897682,
          1.1057264089740584,
          -1.3474952757494583,
          1.3656261037787343,
          1.4668789210387587,
          1.1341137118535645,
          -0.797166045752831,
          -0.8437538847577685,
          -0.6578538590564416,
          -2.800744340160438,
          -1.464933962422879,
          0.18579368606777028,
          0.2716661071690678,
          -1.388396543205864,
          0.5651575972514904,
          1.870569345198021,
          -0.01803795079444882,
          0.5445561374341695,
          1.3100419598906323,
          0.9269117310037176,
          1.2170550881202022,
          0.5977731119509945,
          1.4658503908815197,
          -0.7133295308487775,
          -1.6072561105549357,
          -1.1583952519354686,
          -0.5675193850198321,
          0.18395561276829986,
          1.5629117365627527,
          -0.6459481567494111,
          0.6451808366860189,
          -1.140277317678325,
          0.9201965824358878,
          0.5628508849829402,
          0.06223168643101446,
          0.3830041460378295,
          -1.7425635857356514,
          2.68853762149162,
          -1.5873613032422402,
          1.2103667304439776,
          0.4483515828616707,
          0.3069526013666004,
          -0.3056869359478956,
          0.43649977563834447,
          -0.3367048914567436,
          -0.8743257220013367,
          0.9018109380439379,
          0.4495422955436478,
          -1.1129199575924928,
          0.8875442142140842,
          -1.0279242303493357,
          2.1826050258379954,
          1.3416997099219075,
          -0.5444380801553921,
          -1.3906335395822353,
          0.603842679050368,
          1.4479816718381482,
          2.2801894155665146,
          0.2948305425715559
         ],
         "xaxis": "x13",
         "y": [
          -0.7025160410480839,
          1.3109081667544578,
          -0.510361468081794,
          0.14988146373890324,
          1.6019418730762025,
          -0.349053248547214,
          -0.4166299933795874,
          -2.4680739874503113,
          0.025067974485122674,
          -0.19871976026948518,
          0.5953950686273765,
          0.7511049301039473,
          0.5720049651864383,
          -2.4835048163036797,
          0.2109330444317143,
          1.4767934570912753,
          -0.035966329295487084,
          -0.6810201187166933,
          -1.3957264827789182,
          0.34492934974635153,
          -0.22948438014191513,
          0.9944106854012644,
          1.1245846524485843,
          1.7267038383309876,
          0.5044357665376124,
          -0.35664609529375235,
          -0.17181976879078467,
          -1.173535775728522,
          0.06374348058106245,
          0.7848220619723575,
          -0.2564503272297871,
          1.8315920467331734,
          2.032589934699792,
          0.6513614616376907,
          -0.1424870213724532,
          1.7632791185368706,
          0.720715119660739,
          -1.7333097242317494,
          0.1253668772189341,
          -0.6906249181043568,
          -0.5850487211742301,
          0.7651300905830513,
          0.12186453381870625,
          -0.4150343239864852,
          0.660759717712707,
          1.2753300935459693,
          -1.4496646904364807,
          0.19710775617052026,
          -0.18528700914977536,
          0.6884493145711821,
          0.16201470238935398,
          -0.03200110632704644,
          -0.08702335075885158,
          1.3271464353502238,
          -0.07768790979240572,
          -1.4135203973646147,
          -0.5787944728418192,
          0.5022055952444596,
          0.454460398888486,
          0.49952080788698844,
          1.3937837027809206,
          -0.22705333578165374,
          1.7601645652112776,
          1.1693672723203297,
          0.006168973030320437,
          -1.2946412347695087,
          0.9359192670481432,
          -0.34135313067712797,
          -0.8991078674578962,
          -1.4180420040265282,
          -0.3141498370012541,
          1.3284588340190397,
          0.43436365261630805,
          -0.06019913519325379,
          0.7229731593151011,
          -0.059130641011031916,
          0.18691418901314508,
          -0.579051175367635,
          0.6863533149215727,
          2.2073437656015202,
          0.6189359844436157,
          -1.4371023486349348,
          0.20509646795438427,
          0.5351249753977271,
          1.1588687922005507,
          -0.3865337149383086,
          0.3199797712139598,
          -0.17461766180681795,
          -0.7182557946851779,
          1.9110973156231161,
          -1.480052452610233,
          -1.0388907279053714,
          1.9265638251231678,
          0.6879312442723563,
          -0.5989968078733376,
          2.010769856789577,
          0.5928355998139698,
          -1.3997036184021738,
          -1.597976868291814,
          -0.7472119617588053
         ],
         "yaxis": "y13"
        },
        {
         "line": {
          "color": "rgba(128, 128, 128, 1.0)",
          "dash": "solid",
          "shape": "linear",
          "width": 1.3
         },
         "marker": {
          "size": 2,
          "symbol": "circle"
         },
         "mode": "markers",
         "name": "D",
         "text": "",
         "type": "scatter",
         "x": [
          -0.4325321712751128,
          -1.5460924544980112,
          0.10273563589960194,
          -0.4367522969617371,
          -0.37250903654265705,
          2.495901049673792,
          0.4543077408140475,
          -0.30651567349031394,
          -0.38977321361290346,
          0.25333239787958034,
          -0.6518531750893366,
          -1.1598463133588912,
          -0.2502549143354412,
          -0.20151676688773343,
          1.5980566808370873,
          0.029402384373415722,
          -0.2269876865330706,
          -0.33008870211174673,
          0.8804252708319859,
          0.540454682551017,
          -0.056564992295370896,
          -1.543266073278203,
          -0.1517454722774265,
          0.48850921701499184,
          -1.5218659923324995,
          0.48252528692933,
          -1.1739288126024365,
          -0.2661170255448922,
          -0.12089999686922906,
          2.207181673471075,
          1.3492640917725967,
          -0.07360631969307191,
          -0.8428718809880091,
          0.6541993474215966,
          1.832577954017896,
          -0.8000301318162512,
          0.5912931904834581,
          -0.1648826924515067,
          0.7513998380294736,
          -0.36636501022202067,
          0.4479585738911855,
          0.01652610289102157,
          1.4436301181798241,
          1.198114629977769,
          -0.12417129548519844,
          -1.635490725015796,
          0.9659152618319634,
          -0.22163192420780028,
          0.13906379998407672,
          -0.5933198954392768,
          0.09517724473066766,
          -0.6565492491460867,
          -0.7362795364472919,
          -0.4868621253603264,
          -1.0520977748564473,
          -2.4117622058518284,
          -2.131492724081454,
          0.8115720023991889,
          -0.2685434009579712,
          -0.5963652446589135,
          2.474124392200335,
          0.06911688071229449,
          -1.1365645282692047,
          -0.7563200775798268,
          -0.8945050849648055,
          0.8551433639677785,
          -0.18826810908634953,
          1.4656718925668768,
          -0.056481576159804245,
          0.982213228229109,
          1.2540302807344708,
          2.269188395378155,
          0.5868297415228718,
          -1.3920972094032944,
          0.2580819064645278,
          -0.5126588457434668,
          0.8421125394269273,
          -0.7731775605236191,
          -2.401552932218778,
          -1.0766545233237557,
          -1.0115670858119716,
          0.5303470084085685,
          -0.02356719985016988,
          -0.11813249614427222,
          0.6296570442736785,
          -0.8320580612521427,
          -0.49955935500329185,
          -0.13027097894996809,
          -0.081474351975949,
          0.27830415447931356,
          1.218265733122561,
          1.4955858477436832,
          -0.11999165184828173,
          -2.0658962422542575,
          -1.2836654857950553,
          -2.868162817942856,
          -2.363789031238105,
          -0.5279276194071908,
          -0.08225036746740437,
          -0.47129768728363813
         ],
         "xaxis": "x14",
         "y": [
          -0.7025160410480839,
          1.3109081667544578,
          -0.510361468081794,
          0.14988146373890324,
          1.6019418730762025,
          -0.349053248547214,
          -0.4166299933795874,
          -2.4680739874503113,
          0.025067974485122674,
          -0.19871976026948518,
          0.5953950686273765,
          0.7511049301039473,
          0.5720049651864383,
          -2.4835048163036797,
          0.2109330444317143,
          1.4767934570912753,
          -0.035966329295487084,
          -0.6810201187166933,
          -1.3957264827789182,
          0.34492934974635153,
          -0.22948438014191513,
          0.9944106854012644,
          1.1245846524485843,
          1.7267038383309876,
          0.5044357665376124,
          -0.35664609529375235,
          -0.17181976879078467,
          -1.173535775728522,
          0.06374348058106245,
          0.7848220619723575,
          -0.2564503272297871,
          1.8315920467331734,
          2.032589934699792,
          0.6513614616376907,
          -0.1424870213724532,
          1.7632791185368706,
          0.720715119660739,
          -1.7333097242317494,
          0.1253668772189341,
          -0.6906249181043568,
          -0.5850487211742301,
          0.7651300905830513,
          0.12186453381870625,
          -0.4150343239864852,
          0.660759717712707,
          1.2753300935459693,
          -1.4496646904364807,
          0.19710775617052026,
          -0.18528700914977536,
          0.6884493145711821,
          0.16201470238935398,
          -0.03200110632704644,
          -0.08702335075885158,
          1.3271464353502238,
          -0.07768790979240572,
          -1.4135203973646147,
          -0.5787944728418192,
          0.5022055952444596,
          0.454460398888486,
          0.49952080788698844,
          1.3937837027809206,
          -0.22705333578165374,
          1.7601645652112776,
          1.1693672723203297,
          0.006168973030320437,
          -1.2946412347695087,
          0.9359192670481432,
          -0.34135313067712797,
          -0.8991078674578962,
          -1.4180420040265282,
          -0.3141498370012541,
          1.3284588340190397,
          0.43436365261630805,
          -0.06019913519325379,
          0.7229731593151011,
          -0.059130641011031916,
          0.18691418901314508,
          -0.579051175367635,
          0.6863533149215727,
          2.2073437656015202,
          0.6189359844436157,
          -1.4371023486349348,
          0.20509646795438427,
          0.5351249753977271,
          1.1588687922005507,
          -0.3865337149383086,
          0.3199797712139598,
          -0.17461766180681795,
          -0.7182557946851779,
          1.9110973156231161,
          -1.480052452610233,
          -1.0388907279053714,
          1.9265638251231678,
          0.6879312442723563,
          -0.5989968078733376,
          2.010769856789577,
          0.5928355998139698,
          -1.3997036184021738,
          -1.597976868291814,
          -0.7472119617588053
         ],
         "yaxis": "y14"
        },
        {
         "line": {
          "color": "rgba(128, 128, 128, 1.0)",
          "dash": "solid",
          "shape": "linear",
          "width": 1.3
         },
         "marker": {
          "size": 2,
          "symbol": "circle"
         },
         "mode": "markers",
         "name": "D",
         "text": "",
         "type": "scatter",
         "x": [
          -1.4915827436378635,
          -2.112020006549017,
          -0.8329924095346284,
          1.7823209334611574,
          -0.7192814711428236,
          -0.5657555679446309,
          0.29374616132364456,
          1.6996285110354985,
          -0.41935449712171036,
          1.8049666970050822,
          0.9950818115963185,
          -0.3561521976707872,
          0.35746595441843676,
          0.16665249127587373,
          -0.30997250971580614,
          1.320875064102547,
          -2.2275645560572377,
          -0.558859659944914,
          -0.3395427132529864,
          -0.6172227810131552,
          0.5598324593996644,
          2.3176340765173293,
          1.3868298905679506,
          0.7074025099455857,
          0.9968354698286394,
          0.5759027018023721,
          -1.1902446827365922,
          -0.566420905406603,
          -2.5787457879446936,
          1.0448765267217333,
          0.0575222219029565,
          0.553843648368937,
          -0.5848856885732062,
          -0.9167844605684892,
          -0.4116034641618978,
          0.3403504234759874,
          -0.09015529136674685,
          0.9605253449617726,
          0.41295230460834553,
          0.17606893005627136,
          0.1394835567699609,
          -0.24824526562589908,
          -0.31426882930239164,
          0.690792933252245,
          -0.9878882957890283,
          -0.4735071596684798,
          1.6512343595147854,
          2.609770180786801,
          -0.7648625754422158,
          0.0712398856157923,
          -0.5049747112309024,
          0.4912486112813825,
          0.9885021263519854,
          0.7712407604431888,
          0.1290524490715323,
          0.04448892449874012,
          0.37191418104278157,
          0.5511476627085021,
          0.2145247287208951,
          0.6179232564946322,
          -0.21505308570241372,
          0.11415534786549235,
          0.49730667627105724,
          -1.3539767876323532,
          1.5029693022889137,
          -0.8955210319309673,
          1.5236031046781657,
          -0.5511762908172061,
          -0.48435904644665134,
          0.06780795963216768,
          0.10577749158140741,
          -0.7613594055094629,
          -0.0807678779419743,
          -1.100340014759591,
          0.13473733868437426,
          -0.5554032514491901,
          -2.1040562904224527,
          1.3785472966882482,
          0.20358444370538267,
          2.8953721028734596,
          0.3130398408759578,
          0.14002930904544209,
          -1.3728158956282914,
          -0.35819175282054805,
          0.22958757977878763,
          -0.003913314093714403,
          -1.9865998428720206,
          -1.4995645715031976,
          -1.610787403627202,
          -0.7673634249080489,
          -0.3989395546614242,
          2.6703375578543307,
          1.790563716962692,
          -1.1414208367513043,
          0.6848848569715895,
          0.7269276441464714,
          -0.2956929541095785,
          -0.4582838725550537,
          -0.31906036078748545,
          -2.1211963434778136
         ],
         "xaxis": "x15",
         "y": [
          -0.7025160410480839,
          1.3109081667544578,
          -0.510361468081794,
          0.14988146373890324,
          1.6019418730762025,
          -0.349053248547214,
          -0.4166299933795874,
          -2.4680739874503113,
          0.025067974485122674,
          -0.19871976026948518,
          0.5953950686273765,
          0.7511049301039473,
          0.5720049651864383,
          -2.4835048163036797,
          0.2109330444317143,
          1.4767934570912753,
          -0.035966329295487084,
          -0.6810201187166933,
          -1.3957264827789182,
          0.34492934974635153,
          -0.22948438014191513,
          0.9944106854012644,
          1.1245846524485843,
          1.7267038383309876,
          0.5044357665376124,
          -0.35664609529375235,
          -0.17181976879078467,
          -1.173535775728522,
          0.06374348058106245,
          0.7848220619723575,
          -0.2564503272297871,
          1.8315920467331734,
          2.032589934699792,
          0.6513614616376907,
          -0.1424870213724532,
          1.7632791185368706,
          0.720715119660739,
          -1.7333097242317494,
          0.1253668772189341,
          -0.6906249181043568,
          -0.5850487211742301,
          0.7651300905830513,
          0.12186453381870625,
          -0.4150343239864852,
          0.660759717712707,
          1.2753300935459693,
          -1.4496646904364807,
          0.19710775617052026,
          -0.18528700914977536,
          0.6884493145711821,
          0.16201470238935398,
          -0.03200110632704644,
          -0.08702335075885158,
          1.3271464353502238,
          -0.07768790979240572,
          -1.4135203973646147,
          -0.5787944728418192,
          0.5022055952444596,
          0.454460398888486,
          0.49952080788698844,
          1.3937837027809206,
          -0.22705333578165374,
          1.7601645652112776,
          1.1693672723203297,
          0.006168973030320437,
          -1.2946412347695087,
          0.9359192670481432,
          -0.34135313067712797,
          -0.8991078674578962,
          -1.4180420040265282,
          -0.3141498370012541,
          1.3284588340190397,
          0.43436365261630805,
          -0.06019913519325379,
          0.7229731593151011,
          -0.059130641011031916,
          0.18691418901314508,
          -0.579051175367635,
          0.6863533149215727,
          2.2073437656015202,
          0.6189359844436157,
          -1.4371023486349348,
          0.20509646795438427,
          0.5351249753977271,
          1.1588687922005507,
          -0.3865337149383086,
          0.3199797712139598,
          -0.17461766180681795,
          -0.7182557946851779,
          1.9110973156231161,
          -1.480052452610233,
          -1.0388907279053714,
          1.9265638251231678,
          0.6879312442723563,
          -0.5989968078733376,
          2.010769856789577,
          0.5928355998139698,
          -1.3997036184021738,
          -1.597976868291814,
          -0.7472119617588053
         ],
         "yaxis": "y15"
        },
        {
         "histfunc": "count",
         "histnorm": "",
         "marker": {
          "color": "rgba(128, 0, 128, 1.0)",
          "line": {
           "color": "#4D5663",
           "width": 1.3
          }
         },
         "name": "D",
         "nbinsx": 10,
         "opacity": 0.8,
         "orientation": "v",
         "type": "histogram",
         "x": [
          -0.7025160410480839,
          1.3109081667544578,
          -0.510361468081794,
          0.14988146373890324,
          1.6019418730762025,
          -0.349053248547214,
          -0.4166299933795874,
          -2.4680739874503113,
          0.025067974485122674,
          -0.19871976026948518,
          0.5953950686273765,
          0.7511049301039473,
          0.5720049651864383,
          -2.4835048163036797,
          0.2109330444317143,
          1.4767934570912753,
          -0.035966329295487084,
          -0.6810201187166933,
          -1.3957264827789182,
          0.34492934974635153,
          -0.22948438014191513,
          0.9944106854012644,
          1.1245846524485843,
          1.7267038383309876,
          0.5044357665376124,
          -0.35664609529375235,
          -0.17181976879078467,
          -1.173535775728522,
          0.06374348058106245,
          0.7848220619723575,
          -0.2564503272297871,
          1.8315920467331734,
          2.032589934699792,
          0.6513614616376907,
          -0.1424870213724532,
          1.7632791185368706,
          0.720715119660739,
          -1.7333097242317494,
          0.1253668772189341,
          -0.6906249181043568,
          -0.5850487211742301,
          0.7651300905830513,
          0.12186453381870625,
          -0.4150343239864852,
          0.660759717712707,
          1.2753300935459693,
          -1.4496646904364807,
          0.19710775617052026,
          -0.18528700914977536,
          0.6884493145711821,
          0.16201470238935398,
          -0.03200110632704644,
          -0.08702335075885158,
          1.3271464353502238,
          -0.07768790979240572,
          -1.4135203973646147,
          -0.5787944728418192,
          0.5022055952444596,
          0.454460398888486,
          0.49952080788698844,
          1.3937837027809206,
          -0.22705333578165374,
          1.7601645652112776,
          1.1693672723203297,
          0.006168973030320437,
          -1.2946412347695087,
          0.9359192670481432,
          -0.34135313067712797,
          -0.8991078674578962,
          -1.4180420040265282,
          -0.3141498370012541,
          1.3284588340190397,
          0.43436365261630805,
          -0.06019913519325379,
          0.7229731593151011,
          -0.059130641011031916,
          0.18691418901314508,
          -0.579051175367635,
          0.6863533149215727,
          2.2073437656015202,
          0.6189359844436157,
          -1.4371023486349348,
          0.20509646795438427,
          0.5351249753977271,
          1.1588687922005507,
          -0.3865337149383086,
          0.3199797712139598,
          -0.17461766180681795,
          -0.7182557946851779,
          1.9110973156231161,
          -1.480052452610233,
          -1.0388907279053714,
          1.9265638251231678,
          0.6879312442723563,
          -0.5989968078733376,
          2.010769856789577,
          0.5928355998139698,
          -1.3997036184021738,
          -1.597976868291814,
          -0.7472119617588053
         ],
         "xaxis": "x16",
         "yaxis": "y16"
        }
       ],
       "layout": {
        "bargap": 0.02,
        "legend": {
         "bgcolor": "#F5F6F9",
         "font": {
          "color": "#4D5663"
         }
        },
        "paper_bgcolor": "#F5F6F9",
        "plot_bgcolor": "#F5F6F9",
        "showlegend": false,
        "template": {
         "data": {
          "bar": [
           {
            "error_x": {
             "color": "#2a3f5f"
            },
            "error_y": {
             "color": "#2a3f5f"
            },
            "marker": {
             "line": {
              "color": "#E5ECF6",
              "width": 0.5
             }
            },
            "type": "bar"
           }
          ],
          "barpolar": [
           {
            "marker": {
             "line": {
              "color": "#E5ECF6",
              "width": 0.5
             }
            },
            "type": "barpolar"
           }
          ],
          "carpet": [
           {
            "aaxis": {
             "endlinecolor": "#2a3f5f",
             "gridcolor": "white",
             "linecolor": "white",
             "minorgridcolor": "white",
             "startlinecolor": "#2a3f5f"
            },
            "baxis": {
             "endlinecolor": "#2a3f5f",
             "gridcolor": "white",
             "linecolor": "white",
             "minorgridcolor": "white",
             "startlinecolor": "#2a3f5f"
            },
            "type": "carpet"
           }
          ],
          "choropleth": [
           {
            "colorbar": {
             "outlinewidth": 0,
             "ticks": ""
            },
            "type": "choropleth"
           }
          ],
          "contour": [
           {
            "colorbar": {
             "outlinewidth": 0,
             "ticks": ""
            },
            "colorscale": [
             [
              0,
              "#0d0887"
             ],
             [
              0.1111111111111111,
              "#46039f"
             ],
             [
              0.2222222222222222,
              "#7201a8"
             ],
             [
              0.3333333333333333,
              "#9c179e"
             ],
             [
              0.4444444444444444,
              "#bd3786"
             ],
             [
              0.5555555555555556,
              "#d8576b"
             ],
             [
              0.6666666666666666,
              "#ed7953"
             ],
             [
              0.7777777777777778,
              "#fb9f3a"
             ],
             [
              0.8888888888888888,
              "#fdca26"
             ],
             [
              1,
              "#f0f921"
             ]
            ],
            "type": "contour"
           }
          ],
          "contourcarpet": [
           {
            "colorbar": {
             "outlinewidth": 0,
             "ticks": ""
            },
            "type": "contourcarpet"
           }
          ],
          "heatmap": [
           {
            "colorbar": {
             "outlinewidth": 0,
             "ticks": ""
            },
            "colorscale": [
             [
              0,
              "#0d0887"
             ],
             [
              0.1111111111111111,
              "#46039f"
             ],
             [
              0.2222222222222222,
              "#7201a8"
             ],
             [
              0.3333333333333333,
              "#9c179e"
             ],
             [
              0.4444444444444444,
              "#bd3786"
             ],
             [
              0.5555555555555556,
              "#d8576b"
             ],
             [
              0.6666666666666666,
              "#ed7953"
             ],
             [
              0.7777777777777778,
              "#fb9f3a"
             ],
             [
              0.8888888888888888,
              "#fdca26"
             ],
             [
              1,
              "#f0f921"
             ]
            ],
            "type": "heatmap"
           }
          ],
          "heatmapgl": [
           {
            "colorbar": {
             "outlinewidth": 0,
             "ticks": ""
            },
            "colorscale": [
             [
              0,
              "#0d0887"
             ],
             [
              0.1111111111111111,
              "#46039f"
             ],
             [
              0.2222222222222222,
              "#7201a8"
             ],
             [
              0.3333333333333333,
              "#9c179e"
             ],
             [
              0.4444444444444444,
              "#bd3786"
             ],
             [
              0.5555555555555556,
              "#d8576b"
             ],
             [
              0.6666666666666666,
              "#ed7953"
             ],
             [
              0.7777777777777778,
              "#fb9f3a"
             ],
             [
              0.8888888888888888,
              "#fdca26"
             ],
             [
              1,
              "#f0f921"
             ]
            ],
            "type": "heatmapgl"
           }
          ],
          "histogram": [
           {
            "marker": {
             "colorbar": {
              "outlinewidth": 0,
              "ticks": ""
             }
            },
            "type": "histogram"
           }
          ],
          "histogram2d": [
           {
            "colorbar": {
             "outlinewidth": 0,
             "ticks": ""
            },
            "colorscale": [
             [
              0,
              "#0d0887"
             ],
             [
              0.1111111111111111,
              "#46039f"
             ],
             [
              0.2222222222222222,
              "#7201a8"
             ],
             [
              0.3333333333333333,
              "#9c179e"
             ],
             [
              0.4444444444444444,
              "#bd3786"
             ],
             [
              0.5555555555555556,
              "#d8576b"
             ],
             [
              0.6666666666666666,
              "#ed7953"
             ],
             [
              0.7777777777777778,
              "#fb9f3a"
             ],
             [
              0.8888888888888888,
              "#fdca26"
             ],
             [
              1,
              "#f0f921"
             ]
            ],
            "type": "histogram2d"
           }
          ],
          "histogram2dcontour": [
           {
            "colorbar": {
             "outlinewidth": 0,
             "ticks": ""
            },
            "colorscale": [
             [
              0,
              "#0d0887"
             ],
             [
              0.1111111111111111,
              "#46039f"
             ],
             [
              0.2222222222222222,
              "#7201a8"
             ],
             [
              0.3333333333333333,
              "#9c179e"
             ],
             [
              0.4444444444444444,
              "#bd3786"
             ],
             [
              0.5555555555555556,
              "#d8576b"
             ],
             [
              0.6666666666666666,
              "#ed7953"
             ],
             [
              0.7777777777777778,
              "#fb9f3a"
             ],
             [
              0.8888888888888888,
              "#fdca26"
             ],
             [
              1,
              "#f0f921"
             ]
            ],
            "type": "histogram2dcontour"
           }
          ],
          "mesh3d": [
           {
            "colorbar": {
             "outlinewidth": 0,
             "ticks": ""
            },
            "type": "mesh3d"
           }
          ],
          "parcoords": [
           {
            "line": {
             "colorbar": {
              "outlinewidth": 0,
              "ticks": ""
             }
            },
            "type": "parcoords"
           }
          ],
          "scatter": [
           {
            "marker": {
             "colorbar": {
              "outlinewidth": 0,
              "ticks": ""
             }
            },
            "type": "scatter"
           }
          ],
          "scatter3d": [
           {
            "line": {
             "colorbar": {
              "outlinewidth": 0,
              "ticks": ""
             }
            },
            "marker": {
             "colorbar": {
              "outlinewidth": 0,
              "ticks": ""
             }
            },
            "type": "scatter3d"
           }
          ],
          "scattercarpet": [
           {
            "marker": {
             "colorbar": {
              "outlinewidth": 0,
              "ticks": ""
             }
            },
            "type": "scattercarpet"
           }
          ],
          "scattergeo": [
           {
            "marker": {
             "colorbar": {
              "outlinewidth": 0,
              "ticks": ""
             }
            },
            "type": "scattergeo"
           }
          ],
          "scattergl": [
           {
            "marker": {
             "colorbar": {
              "outlinewidth": 0,
              "ticks": ""
             }
            },
            "type": "scattergl"
           }
          ],
          "scattermapbox": [
           {
            "marker": {
             "colorbar": {
              "outlinewidth": 0,
              "ticks": ""
             }
            },
            "type": "scattermapbox"
           }
          ],
          "scatterpolar": [
           {
            "marker": {
             "colorbar": {
              "outlinewidth": 0,
              "ticks": ""
             }
            },
            "type": "scatterpolar"
           }
          ],
          "scatterpolargl": [
           {
            "marker": {
             "colorbar": {
              "outlinewidth": 0,
              "ticks": ""
             }
            },
            "type": "scatterpolargl"
           }
          ],
          "scatterternary": [
           {
            "marker": {
             "colorbar": {
              "outlinewidth": 0,
              "ticks": ""
             }
            },
            "type": "scatterternary"
           }
          ],
          "surface": [
           {
            "colorbar": {
             "outlinewidth": 0,
             "ticks": ""
            },
            "colorscale": [
             [
              0,
              "#0d0887"
             ],
             [
              0.1111111111111111,
              "#46039f"
             ],
             [
              0.2222222222222222,
              "#7201a8"
             ],
             [
              0.3333333333333333,
              "#9c179e"
             ],
             [
              0.4444444444444444,
              "#bd3786"
             ],
             [
              0.5555555555555556,
              "#d8576b"
             ],
             [
              0.6666666666666666,
              "#ed7953"
             ],
             [
              0.7777777777777778,
              "#fb9f3a"
             ],
             [
              0.8888888888888888,
              "#fdca26"
             ],
             [
              1,
              "#f0f921"
             ]
            ],
            "type": "surface"
           }
          ],
          "table": [
           {
            "cells": {
             "fill": {
              "color": "#EBF0F8"
             },
             "line": {
              "color": "white"
             }
            },
            "header": {
             "fill": {
              "color": "#C8D4E3"
             },
             "line": {
              "color": "white"
             }
            },
            "type": "table"
           }
          ]
         },
         "layout": {
          "annotationdefaults": {
           "arrowcolor": "#2a3f5f",
           "arrowhead": 0,
           "arrowwidth": 1
          },
          "colorscale": {
           "diverging": [
            [
             0,
             "#8e0152"
            ],
            [
             0.1,
             "#c51b7d"
            ],
            [
             0.2,
             "#de77ae"
            ],
            [
             0.3,
             "#f1b6da"
            ],
            [
             0.4,
             "#fde0ef"
            ],
            [
             0.5,
             "#f7f7f7"
            ],
            [
             0.6,
             "#e6f5d0"
            ],
            [
             0.7,
             "#b8e186"
            ],
            [
             0.8,
             "#7fbc41"
            ],
            [
             0.9,
             "#4d9221"
            ],
            [
             1,
             "#276419"
            ]
           ],
           "sequential": [
            [
             0,
             "#0d0887"
            ],
            [
             0.1111111111111111,
             "#46039f"
            ],
            [
             0.2222222222222222,
             "#7201a8"
            ],
            [
             0.3333333333333333,
             "#9c179e"
            ],
            [
             0.4444444444444444,
             "#bd3786"
            ],
            [
             0.5555555555555556,
             "#d8576b"
            ],
            [
             0.6666666666666666,
             "#ed7953"
            ],
            [
             0.7777777777777778,
             "#fb9f3a"
            ],
            [
             0.8888888888888888,
             "#fdca26"
            ],
            [
             1,
             "#f0f921"
            ]
           ],
           "sequentialminus": [
            [
             0,
             "#0d0887"
            ],
            [
             0.1111111111111111,
             "#46039f"
            ],
            [
             0.2222222222222222,
             "#7201a8"
            ],
            [
             0.3333333333333333,
             "#9c179e"
            ],
            [
             0.4444444444444444,
             "#bd3786"
            ],
            [
             0.5555555555555556,
             "#d8576b"
            ],
            [
             0.6666666666666666,
             "#ed7953"
            ],
            [
             0.7777777777777778,
             "#fb9f3a"
            ],
            [
             0.8888888888888888,
             "#fdca26"
            ],
            [
             1,
             "#f0f921"
            ]
           ]
          },
          "colorway": [
           "#636efa",
           "#EF553B",
           "#00cc96",
           "#ab63fa",
           "#FFA15A",
           "#19d3f3",
           "#FF6692",
           "#B6E880",
           "#FF97FF",
           "#FECB52"
          ],
          "font": {
           "color": "#2a3f5f"
          },
          "geo": {
           "bgcolor": "white",
           "lakecolor": "white",
           "landcolor": "#E5ECF6",
           "showlakes": true,
           "showland": true,
           "subunitcolor": "white"
          },
          "hoverlabel": {
           "align": "left"
          },
          "hovermode": "closest",
          "mapbox": {
           "style": "light"
          },
          "paper_bgcolor": "white",
          "plot_bgcolor": "#E5ECF6",
          "polar": {
           "angularaxis": {
            "gridcolor": "white",
            "linecolor": "white",
            "ticks": ""
           },
           "bgcolor": "#E5ECF6",
           "radialaxis": {
            "gridcolor": "white",
            "linecolor": "white",
            "ticks": ""
           }
          },
          "scene": {
           "xaxis": {
            "backgroundcolor": "#E5ECF6",
            "gridcolor": "white",
            "gridwidth": 2,
            "linecolor": "white",
            "showbackground": true,
            "ticks": "",
            "zerolinecolor": "white"
           },
           "yaxis": {
            "backgroundcolor": "#E5ECF6",
            "gridcolor": "white",
            "gridwidth": 2,
            "linecolor": "white",
            "showbackground": true,
            "ticks": "",
            "zerolinecolor": "white"
           },
           "zaxis": {
            "backgroundcolor": "#E5ECF6",
            "gridcolor": "white",
            "gridwidth": 2,
            "linecolor": "white",
            "showbackground": true,
            "ticks": "",
            "zerolinecolor": "white"
           }
          },
          "shapedefaults": {
           "line": {
            "color": "#2a3f5f"
           }
          },
          "ternary": {
           "aaxis": {
            "gridcolor": "white",
            "linecolor": "white",
            "ticks": ""
           },
           "baxis": {
            "gridcolor": "white",
            "linecolor": "white",
            "ticks": ""
           },
           "bgcolor": "#E5ECF6",
           "caxis": {
            "gridcolor": "white",
            "linecolor": "white",
            "ticks": ""
           }
          },
          "title": {
           "x": 0.05
          },
          "xaxis": {
           "automargin": true,
           "gridcolor": "white",
           "linecolor": "white",
           "ticks": "",
           "zerolinecolor": "white",
           "zerolinewidth": 2
          },
          "yaxis": {
           "automargin": true,
           "gridcolor": "white",
           "linecolor": "white",
           "ticks": "",
           "zerolinecolor": "white",
           "zerolinewidth": 2
          }
         }
        },
        "title": {
         "font": {
          "color": "#4D5663"
         }
        },
        "xaxis": {
         "anchor": "y",
         "domain": [
          0,
          0.2125
         ],
         "gridcolor": "#E1E5ED",
         "showgrid": false,
         "tickfont": {
          "color": "#4D5663"
         },
         "title": {
          "font": {
           "color": "#4D5663"
          },
          "text": ""
         },
         "zerolinecolor": "#E1E5ED"
        },
        "xaxis10": {
         "anchor": "y10",
         "domain": [
          0.2625,
          0.475
         ],
         "gridcolor": "#E1E5ED",
         "showgrid": false,
         "tickfont": {
          "color": "#4D5663"
         },
         "title": {
          "font": {
           "color": "#4D5663"
          },
          "text": ""
         },
         "zerolinecolor": "#E1E5ED"
        },
        "xaxis11": {
         "anchor": "y11",
         "domain": [
          0.525,
          0.7375
         ],
         "gridcolor": "#E1E5ED",
         "showgrid": false,
         "tickfont": {
          "color": "#4D5663"
         },
         "title": {
          "font": {
           "color": "#4D5663"
          },
          "text": ""
         },
         "zerolinecolor": "#E1E5ED"
        },
        "xaxis12": {
         "anchor": "y12",
         "domain": [
          0.7875,
          1
         ],
         "gridcolor": "#E1E5ED",
         "showgrid": false,
         "tickfont": {
          "color": "#4D5663"
         },
         "title": {
          "font": {
           "color": "#4D5663"
          },
          "text": ""
         },
         "zerolinecolor": "#E1E5ED"
        },
        "xaxis13": {
         "anchor": "y13",
         "domain": [
          0,
          0.2125
         ],
         "gridcolor": "#E1E5ED",
         "showgrid": false,
         "tickfont": {
          "color": "#4D5663"
         },
         "title": {
          "font": {
           "color": "#4D5663"
          },
          "text": ""
         },
         "zerolinecolor": "#E1E5ED"
        },
        "xaxis14": {
         "anchor": "y14",
         "domain": [
          0.2625,
          0.475
         ],
         "gridcolor": "#E1E5ED",
         "showgrid": false,
         "tickfont": {
          "color": "#4D5663"
         },
         "title": {
          "font": {
           "color": "#4D5663"
          },
          "text": ""
         },
         "zerolinecolor": "#E1E5ED"
        },
        "xaxis15": {
         "anchor": "y15",
         "domain": [
          0.525,
          0.7375
         ],
         "gridcolor": "#E1E5ED",
         "showgrid": false,
         "tickfont": {
          "color": "#4D5663"
         },
         "title": {
          "font": {
           "color": "#4D5663"
          },
          "text": ""
         },
         "zerolinecolor": "#E1E5ED"
        },
        "xaxis16": {
         "anchor": "y16",
         "domain": [
          0.7875,
          1
         ],
         "gridcolor": "#E1E5ED",
         "showgrid": false,
         "tickfont": {
          "color": "#4D5663"
         },
         "title": {
          "font": {
           "color": "#4D5663"
          },
          "text": ""
         },
         "zerolinecolor": "#E1E5ED"
        },
        "xaxis2": {
         "anchor": "y2",
         "domain": [
          0.2625,
          0.475
         ],
         "gridcolor": "#E1E5ED",
         "showgrid": false,
         "tickfont": {
          "color": "#4D5663"
         },
         "title": {
          "font": {
           "color": "#4D5663"
          },
          "text": ""
         },
         "zerolinecolor": "#E1E5ED"
        },
        "xaxis3": {
         "anchor": "y3",
         "domain": [
          0.525,
          0.7375
         ],
         "gridcolor": "#E1E5ED",
         "showgrid": false,
         "tickfont": {
          "color": "#4D5663"
         },
         "title": {
          "font": {
           "color": "#4D5663"
          },
          "text": ""
         },
         "zerolinecolor": "#E1E5ED"
        },
        "xaxis4": {
         "anchor": "y4",
         "domain": [
          0.7875,
          1
         ],
         "gridcolor": "#E1E5ED",
         "showgrid": false,
         "tickfont": {
          "color": "#4D5663"
         },
         "title": {
          "font": {
           "color": "#4D5663"
          },
          "text": ""
         },
         "zerolinecolor": "#E1E5ED"
        },
        "xaxis5": {
         "anchor": "y5",
         "domain": [
          0,
          0.2125
         ],
         "gridcolor": "#E1E5ED",
         "showgrid": false,
         "tickfont": {
          "color": "#4D5663"
         },
         "title": {
          "font": {
           "color": "#4D5663"
          },
          "text": ""
         },
         "zerolinecolor": "#E1E5ED"
        },
        "xaxis6": {
         "anchor": "y6",
         "domain": [
          0.2625,
          0.475
         ],
         "gridcolor": "#E1E5ED",
         "showgrid": false,
         "tickfont": {
          "color": "#4D5663"
         },
         "title": {
          "font": {
           "color": "#4D5663"
          },
          "text": ""
         },
         "zerolinecolor": "#E1E5ED"
        },
        "xaxis7": {
         "anchor": "y7",
         "domain": [
          0.525,
          0.7375
         ],
         "gridcolor": "#E1E5ED",
         "showgrid": false,
         "tickfont": {
          "color": "#4D5663"
         },
         "title": {
          "font": {
           "color": "#4D5663"
          },
          "text": ""
         },
         "zerolinecolor": "#E1E5ED"
        },
        "xaxis8": {
         "anchor": "y8",
         "domain": [
          0.7875,
          1
         ],
         "gridcolor": "#E1E5ED",
         "showgrid": false,
         "tickfont": {
          "color": "#4D5663"
         },
         "title": {
          "font": {
           "color": "#4D5663"
          },
          "text": ""
         },
         "zerolinecolor": "#E1E5ED"
        },
        "xaxis9": {
         "anchor": "y9",
         "domain": [
          0,
          0.2125
         ],
         "gridcolor": "#E1E5ED",
         "showgrid": false,
         "tickfont": {
          "color": "#4D5663"
         },
         "title": {
          "font": {
           "color": "#4D5663"
          },
          "text": ""
         },
         "zerolinecolor": "#E1E5ED"
        },
        "yaxis": {
         "anchor": "x",
         "domain": [
          0.8025,
          1
         ],
         "gridcolor": "#E1E5ED",
         "showgrid": false,
         "tickfont": {
          "color": "#4D5663"
         },
         "title": {
          "font": {
           "color": "#4D5663"
          },
          "text": ""
         },
         "zerolinecolor": "#E1E5ED"
        },
        "yaxis10": {
         "anchor": "x10",
         "domain": [
          0.2675,
          0.465
         ],
         "gridcolor": "#E1E5ED",
         "showgrid": false,
         "tickfont": {
          "color": "#4D5663"
         },
         "title": {
          "font": {
           "color": "#4D5663"
          },
          "text": ""
         },
         "zerolinecolor": "#E1E5ED"
        },
        "yaxis11": {
         "anchor": "x11",
         "domain": [
          0.2675,
          0.465
         ],
         "gridcolor": "#E1E5ED",
         "showgrid": false,
         "tickfont": {
          "color": "#4D5663"
         },
         "title": {
          "font": {
           "color": "#4D5663"
          },
          "text": ""
         },
         "zerolinecolor": "#E1E5ED"
        },
        "yaxis12": {
         "anchor": "x12",
         "domain": [
          0.2675,
          0.465
         ],
         "gridcolor": "#E1E5ED",
         "showgrid": false,
         "tickfont": {
          "color": "#4D5663"
         },
         "title": {
          "font": {
           "color": "#4D5663"
          },
          "text": ""
         },
         "zerolinecolor": "#E1E5ED"
        },
        "yaxis13": {
         "anchor": "x13",
         "domain": [
          0,
          0.1975
         ],
         "gridcolor": "#E1E5ED",
         "showgrid": false,
         "tickfont": {
          "color": "#4D5663"
         },
         "title": {
          "font": {
           "color": "#4D5663"
          },
          "text": ""
         },
         "zerolinecolor": "#E1E5ED"
        },
        "yaxis14": {
         "anchor": "x14",
         "domain": [
          0,
          0.1975
         ],
         "gridcolor": "#E1E5ED",
         "showgrid": false,
         "tickfont": {
          "color": "#4D5663"
         },
         "title": {
          "font": {
           "color": "#4D5663"
          },
          "text": ""
         },
         "zerolinecolor": "#E1E5ED"
        },
        "yaxis15": {
         "anchor": "x15",
         "domain": [
          0,
          0.1975
         ],
         "gridcolor": "#E1E5ED",
         "showgrid": false,
         "tickfont": {
          "color": "#4D5663"
         },
         "title": {
          "font": {
           "color": "#4D5663"
          },
          "text": ""
         },
         "zerolinecolor": "#E1E5ED"
        },
        "yaxis16": {
         "anchor": "x16",
         "domain": [
          0,
          0.1975
         ],
         "gridcolor": "#E1E5ED",
         "showgrid": false,
         "tickfont": {
          "color": "#4D5663"
         },
         "title": {
          "font": {
           "color": "#4D5663"
          },
          "text": ""
         },
         "zerolinecolor": "#E1E5ED"
        },
        "yaxis2": {
         "anchor": "x2",
         "domain": [
          0.8025,
          1
         ],
         "gridcolor": "#E1E5ED",
         "showgrid": false,
         "tickfont": {
          "color": "#4D5663"
         },
         "title": {
          "font": {
           "color": "#4D5663"
          },
          "text": ""
         },
         "zerolinecolor": "#E1E5ED"
        },
        "yaxis3": {
         "anchor": "x3",
         "domain": [
          0.8025,
          1
         ],
         "gridcolor": "#E1E5ED",
         "showgrid": false,
         "tickfont": {
          "color": "#4D5663"
         },
         "title": {
          "font": {
           "color": "#4D5663"
          },
          "text": ""
         },
         "zerolinecolor": "#E1E5ED"
        },
        "yaxis4": {
         "anchor": "x4",
         "domain": [
          0.8025,
          1
         ],
         "gridcolor": "#E1E5ED",
         "showgrid": false,
         "tickfont": {
          "color": "#4D5663"
         },
         "title": {
          "font": {
           "color": "#4D5663"
          },
          "text": ""
         },
         "zerolinecolor": "#E1E5ED"
        },
        "yaxis5": {
         "anchor": "x5",
         "domain": [
          0.535,
          0.7325
         ],
         "gridcolor": "#E1E5ED",
         "showgrid": false,
         "tickfont": {
          "color": "#4D5663"
         },
         "title": {
          "font": {
           "color": "#4D5663"
          },
          "text": ""
         },
         "zerolinecolor": "#E1E5ED"
        },
        "yaxis6": {
         "anchor": "x6",
         "domain": [
          0.535,
          0.7325
         ],
         "gridcolor": "#E1E5ED",
         "showgrid": false,
         "tickfont": {
          "color": "#4D5663"
         },
         "title": {
          "font": {
           "color": "#4D5663"
          },
          "text": ""
         },
         "zerolinecolor": "#E1E5ED"
        },
        "yaxis7": {
         "anchor": "x7",
         "domain": [
          0.535,
          0.7325
         ],
         "gridcolor": "#E1E5ED",
         "showgrid": false,
         "tickfont": {
          "color": "#4D5663"
         },
         "title": {
          "font": {
           "color": "#4D5663"
          },
          "text": ""
         },
         "zerolinecolor": "#E1E5ED"
        },
        "yaxis8": {
         "anchor": "x8",
         "domain": [
          0.535,
          0.7325
         ],
         "gridcolor": "#E1E5ED",
         "showgrid": false,
         "tickfont": {
          "color": "#4D5663"
         },
         "title": {
          "font": {
           "color": "#4D5663"
          },
          "text": ""
         },
         "zerolinecolor": "#E1E5ED"
        },
        "yaxis9": {
         "anchor": "x9",
         "domain": [
          0.2675,
          0.465
         ],
         "gridcolor": "#E1E5ED",
         "showgrid": false,
         "tickfont": {
          "color": "#4D5663"
         },
         "title": {
          "font": {
           "color": "#4D5663"
          },
          "text": ""
         },
         "zerolinecolor": "#E1E5ED"
        }
       }
      },
      "text/html": [
       "<div>\n",
       "        \n",
       "        \n",
       "            <div id=\"4b14f93a-d367-4e1e-b3e7-f2c76712ff61\" class=\"plotly-graph-div\" style=\"height:525px; width:100%;\"></div>\n",
       "            <script type=\"text/javascript\">\n",
       "                require([\"plotly\"], function(Plotly) {\n",
       "                    window.PLOTLYENV=window.PLOTLYENV || {};\n",
       "                    window.PLOTLYENV.BASE_URL='https://plot.ly';\n",
       "                    \n",
       "                if (document.getElementById(\"4b14f93a-d367-4e1e-b3e7-f2c76712ff61\")) {\n",
       "                    Plotly.newPlot(\n",
       "                        '4b14f93a-d367-4e1e-b3e7-f2c76712ff61',\n",
       "                        [{\"histfunc\": \"count\", \"histnorm\": \"\", \"marker\": {\"color\": \"rgba(255, 153, 51, 1.0)\", \"line\": {\"color\": \"#4D5663\", \"width\": 1.3}}, \"name\": \"A\", \"nbinsx\": 10, \"opacity\": 0.8, \"orientation\": \"v\", \"type\": \"histogram\", \"x\": [0.2677202100092553, 0.029401801300603495, 1.6333155976582325, -0.15395081213775003, -0.14413501408846446, -1.6449448335712324, -0.14949460123467992, 0.3339491948644246, -2.597094399834224, 0.31658962768094867, 0.8786647987727886, -1.3432173218877443, -0.7847668533324995, -0.837875974898997, -0.16072258922436436, 0.5380362625214631, 0.8018472514118294, 2.225050418870336, 0.06312688222115209, -0.2819821780153154, 0.4561975529941592, 0.9540050098411976, -0.5772141596534164, 0.2533501925563586, -1.8640188679329512, 0.24686965021478458, -1.5145631567705737, 0.8539396046950519, 0.0530587181385824, -1.1056944602495598, -0.8106609561461899, 1.9999438998844243, -1.696019592198367, 0.27035476500109734, 0.3448685019844587, 2.4332894470526885, 1.0183035709639316, -1.0635862704484549, -0.4404129255558789, -1.2016635715406303, -0.7349321325596352, 0.2912459365897682, 1.1057264089740584, -1.3474952757494583, 1.3656261037787343, 1.4668789210387587, 1.1341137118535645, -0.797166045752831, -0.8437538847577685, -0.6578538590564416, -2.800744340160438, -1.464933962422879, 0.18579368606777028, 0.2716661071690678, -1.388396543205864, 0.5651575972514904, 1.870569345198021, -0.01803795079444882, 0.5445561374341695, 1.3100419598906323, 0.9269117310037176, 1.2170550881202022, 0.5977731119509945, 1.4658503908815197, -0.7133295308487775, -1.6072561105549357, -1.1583952519354686, -0.5675193850198321, 0.18395561276829986, 1.5629117365627527, -0.6459481567494111, 0.6451808366860189, -1.140277317678325, 0.9201965824358878, 0.5628508849829402, 0.06223168643101446, 0.3830041460378295, -1.7425635857356514, 2.68853762149162, -1.5873613032422402, 1.2103667304439776, 0.4483515828616707, 0.3069526013666004, -0.3056869359478956, 0.43649977563834447, -0.3367048914567436, -0.8743257220013367, 0.9018109380439379, 0.4495422955436478, -1.1129199575924928, 0.8875442142140842, -1.0279242303493357, 2.1826050258379954, 1.3416997099219075, -0.5444380801553921, -1.3906335395822353, 0.603842679050368, 1.4479816718381482, 2.2801894155665146, 0.2948305425715559], \"xaxis\": \"x\", \"yaxis\": \"y\"}, {\"line\": {\"color\": \"rgba(128, 128, 128, 1.0)\", \"dash\": \"solid\", \"shape\": \"linear\", \"width\": 1.3}, \"marker\": {\"size\": 2, \"symbol\": \"circle\"}, \"mode\": \"markers\", \"name\": \"A\", \"text\": \"\", \"type\": \"scatter\", \"x\": [-0.4325321712751128, -1.5460924544980112, 0.10273563589960194, -0.4367522969617371, -0.37250903654265705, 2.495901049673792, 0.4543077408140475, -0.30651567349031394, -0.38977321361290346, 0.25333239787958034, -0.6518531750893366, -1.1598463133588912, -0.2502549143354412, -0.20151676688773343, 1.5980566808370873, 0.029402384373415722, -0.2269876865330706, -0.33008870211174673, 0.8804252708319859, 0.540454682551017, -0.056564992295370896, -1.543266073278203, -0.1517454722774265, 0.48850921701499184, -1.5218659923324995, 0.48252528692933, -1.1739288126024365, -0.2661170255448922, -0.12089999686922906, 2.207181673471075, 1.3492640917725967, -0.07360631969307191, -0.8428718809880091, 0.6541993474215966, 1.832577954017896, -0.8000301318162512, 0.5912931904834581, -0.1648826924515067, 0.7513998380294736, -0.36636501022202067, 0.4479585738911855, 0.01652610289102157, 1.4436301181798241, 1.198114629977769, -0.12417129548519844, -1.635490725015796, 0.9659152618319634, -0.22163192420780028, 0.13906379998407672, -0.5933198954392768, 0.09517724473066766, -0.6565492491460867, -0.7362795364472919, -0.4868621253603264, -1.0520977748564473, -2.4117622058518284, -2.131492724081454, 0.8115720023991889, -0.2685434009579712, -0.5963652446589135, 2.474124392200335, 0.06911688071229449, -1.1365645282692047, -0.7563200775798268, -0.8945050849648055, 0.8551433639677785, -0.18826810908634953, 1.4656718925668768, -0.056481576159804245, 0.982213228229109, 1.2540302807344708, 2.269188395378155, 0.5868297415228718, -1.3920972094032944, 0.2580819064645278, -0.5126588457434668, 0.8421125394269273, -0.7731775605236191, -2.401552932218778, -1.0766545233237557, -1.0115670858119716, 0.5303470084085685, -0.02356719985016988, -0.11813249614427222, 0.6296570442736785, -0.8320580612521427, -0.49955935500329185, -0.13027097894996809, -0.081474351975949, 0.27830415447931356, 1.218265733122561, 1.4955858477436832, -0.11999165184828173, -2.0658962422542575, -1.2836654857950553, -2.868162817942856, -2.363789031238105, -0.5279276194071908, -0.08225036746740437, -0.47129768728363813], \"xaxis\": \"x2\", \"y\": [0.2677202100092553, 0.029401801300603495, 1.6333155976582325, -0.15395081213775003, -0.14413501408846446, -1.6449448335712324, -0.14949460123467992, 0.3339491948644246, -2.597094399834224, 0.31658962768094867, 0.8786647987727886, -1.3432173218877443, -0.7847668533324995, -0.837875974898997, -0.16072258922436436, 0.5380362625214631, 0.8018472514118294, 2.225050418870336, 0.06312688222115209, -0.2819821780153154, 0.4561975529941592, 0.9540050098411976, -0.5772141596534164, 0.2533501925563586, -1.8640188679329512, 0.24686965021478458, -1.5145631567705737, 0.8539396046950519, 0.0530587181385824, -1.1056944602495598, -0.8106609561461899, 1.9999438998844243, -1.696019592198367, 0.27035476500109734, 0.3448685019844587, 2.4332894470526885, 1.0183035709639316, -1.0635862704484549, -0.4404129255558789, -1.2016635715406303, -0.7349321325596352, 0.2912459365897682, 1.1057264089740584, -1.3474952757494583, 1.3656261037787343, 1.4668789210387587, 1.1341137118535645, -0.797166045752831, -0.8437538847577685, -0.6578538590564416, -2.800744340160438, -1.464933962422879, 0.18579368606777028, 0.2716661071690678, -1.388396543205864, 0.5651575972514904, 1.870569345198021, -0.01803795079444882, 0.5445561374341695, 1.3100419598906323, 0.9269117310037176, 1.2170550881202022, 0.5977731119509945, 1.4658503908815197, -0.7133295308487775, -1.6072561105549357, -1.1583952519354686, -0.5675193850198321, 0.18395561276829986, 1.5629117365627527, -0.6459481567494111, 0.6451808366860189, -1.140277317678325, 0.9201965824358878, 0.5628508849829402, 0.06223168643101446, 0.3830041460378295, -1.7425635857356514, 2.68853762149162, -1.5873613032422402, 1.2103667304439776, 0.4483515828616707, 0.3069526013666004, -0.3056869359478956, 0.43649977563834447, -0.3367048914567436, -0.8743257220013367, 0.9018109380439379, 0.4495422955436478, -1.1129199575924928, 0.8875442142140842, -1.0279242303493357, 2.1826050258379954, 1.3416997099219075, -0.5444380801553921, -1.3906335395822353, 0.603842679050368, 1.4479816718381482, 2.2801894155665146, 0.2948305425715559], \"yaxis\": \"y2\"}, {\"line\": {\"color\": \"rgba(128, 128, 128, 1.0)\", \"dash\": \"solid\", \"shape\": \"linear\", \"width\": 1.3}, \"marker\": {\"size\": 2, \"symbol\": \"circle\"}, \"mode\": \"markers\", \"name\": \"A\", \"text\": \"\", \"type\": \"scatter\", \"x\": [-1.4915827436378635, -2.112020006549017, -0.8329924095346284, 1.7823209334611574, -0.7192814711428236, -0.5657555679446309, 0.29374616132364456, 1.6996285110354985, -0.41935449712171036, 1.8049666970050822, 0.9950818115963185, -0.3561521976707872, 0.35746595441843676, 0.16665249127587373, -0.30997250971580614, 1.320875064102547, -2.2275645560572377, -0.558859659944914, -0.3395427132529864, -0.6172227810131552, 0.5598324593996644, 2.3176340765173293, 1.3868298905679506, 0.7074025099455857, 0.9968354698286394, 0.5759027018023721, -1.1902446827365922, -0.566420905406603, -2.5787457879446936, 1.0448765267217333, 0.0575222219029565, 0.553843648368937, -0.5848856885732062, -0.9167844605684892, -0.4116034641618978, 0.3403504234759874, -0.09015529136674685, 0.9605253449617726, 0.41295230460834553, 0.17606893005627136, 0.1394835567699609, -0.24824526562589908, -0.31426882930239164, 0.690792933252245, -0.9878882957890283, -0.4735071596684798, 1.6512343595147854, 2.609770180786801, -0.7648625754422158, 0.0712398856157923, -0.5049747112309024, 0.4912486112813825, 0.9885021263519854, 0.7712407604431888, 0.1290524490715323, 0.04448892449874012, 0.37191418104278157, 0.5511476627085021, 0.2145247287208951, 0.6179232564946322, -0.21505308570241372, 0.11415534786549235, 0.49730667627105724, -1.3539767876323532, 1.5029693022889137, -0.8955210319309673, 1.5236031046781657, -0.5511762908172061, -0.48435904644665134, 0.06780795963216768, 0.10577749158140741, -0.7613594055094629, -0.0807678779419743, -1.100340014759591, 0.13473733868437426, -0.5554032514491901, -2.1040562904224527, 1.3785472966882482, 0.20358444370538267, 2.8953721028734596, 0.3130398408759578, 0.14002930904544209, -1.3728158956282914, -0.35819175282054805, 0.22958757977878763, -0.003913314093714403, -1.9865998428720206, -1.4995645715031976, -1.610787403627202, -0.7673634249080489, -0.3989395546614242, 2.6703375578543307, 1.790563716962692, -1.1414208367513043, 0.6848848569715895, 0.7269276441464714, -0.2956929541095785, -0.4582838725550537, -0.31906036078748545, -2.1211963434778136], \"xaxis\": \"x3\", \"y\": [0.2677202100092553, 0.029401801300603495, 1.6333155976582325, -0.15395081213775003, -0.14413501408846446, -1.6449448335712324, -0.14949460123467992, 0.3339491948644246, -2.597094399834224, 0.31658962768094867, 0.8786647987727886, -1.3432173218877443, -0.7847668533324995, -0.837875974898997, -0.16072258922436436, 0.5380362625214631, 0.8018472514118294, 2.225050418870336, 0.06312688222115209, -0.2819821780153154, 0.4561975529941592, 0.9540050098411976, -0.5772141596534164, 0.2533501925563586, -1.8640188679329512, 0.24686965021478458, -1.5145631567705737, 0.8539396046950519, 0.0530587181385824, -1.1056944602495598, -0.8106609561461899, 1.9999438998844243, -1.696019592198367, 0.27035476500109734, 0.3448685019844587, 2.4332894470526885, 1.0183035709639316, -1.0635862704484549, -0.4404129255558789, -1.2016635715406303, -0.7349321325596352, 0.2912459365897682, 1.1057264089740584, -1.3474952757494583, 1.3656261037787343, 1.4668789210387587, 1.1341137118535645, -0.797166045752831, -0.8437538847577685, -0.6578538590564416, -2.800744340160438, -1.464933962422879, 0.18579368606777028, 0.2716661071690678, -1.388396543205864, 0.5651575972514904, 1.870569345198021, -0.01803795079444882, 0.5445561374341695, 1.3100419598906323, 0.9269117310037176, 1.2170550881202022, 0.5977731119509945, 1.4658503908815197, -0.7133295308487775, -1.6072561105549357, -1.1583952519354686, -0.5675193850198321, 0.18395561276829986, 1.5629117365627527, -0.6459481567494111, 0.6451808366860189, -1.140277317678325, 0.9201965824358878, 0.5628508849829402, 0.06223168643101446, 0.3830041460378295, -1.7425635857356514, 2.68853762149162, -1.5873613032422402, 1.2103667304439776, 0.4483515828616707, 0.3069526013666004, -0.3056869359478956, 0.43649977563834447, -0.3367048914567436, -0.8743257220013367, 0.9018109380439379, 0.4495422955436478, -1.1129199575924928, 0.8875442142140842, -1.0279242303493357, 2.1826050258379954, 1.3416997099219075, -0.5444380801553921, -1.3906335395822353, 0.603842679050368, 1.4479816718381482, 2.2801894155665146, 0.2948305425715559], \"yaxis\": \"y3\"}, {\"line\": {\"color\": \"rgba(128, 128, 128, 1.0)\", \"dash\": \"solid\", \"shape\": \"linear\", \"width\": 1.3}, \"marker\": {\"size\": 2, \"symbol\": \"circle\"}, \"mode\": \"markers\", \"name\": \"A\", \"text\": \"\", \"type\": \"scatter\", \"x\": [-0.7025160410480839, 1.3109081667544578, -0.510361468081794, 0.14988146373890324, 1.6019418730762025, -0.349053248547214, -0.4166299933795874, -2.4680739874503113, 0.025067974485122674, -0.19871976026948518, 0.5953950686273765, 0.7511049301039473, 0.5720049651864383, -2.4835048163036797, 0.2109330444317143, 1.4767934570912753, -0.035966329295487084, -0.6810201187166933, -1.3957264827789182, 0.34492934974635153, -0.22948438014191513, 0.9944106854012644, 1.1245846524485843, 1.7267038383309876, 0.5044357665376124, -0.35664609529375235, -0.17181976879078467, -1.173535775728522, 0.06374348058106245, 0.7848220619723575, -0.2564503272297871, 1.8315920467331734, 2.032589934699792, 0.6513614616376907, -0.1424870213724532, 1.7632791185368706, 0.720715119660739, -1.7333097242317494, 0.1253668772189341, -0.6906249181043568, -0.5850487211742301, 0.7651300905830513, 0.12186453381870625, -0.4150343239864852, 0.660759717712707, 1.2753300935459693, -1.4496646904364807, 0.19710775617052026, -0.18528700914977536, 0.6884493145711821, 0.16201470238935398, -0.03200110632704644, -0.08702335075885158, 1.3271464353502238, -0.07768790979240572, -1.4135203973646147, -0.5787944728418192, 0.5022055952444596, 0.454460398888486, 0.49952080788698844, 1.3937837027809206, -0.22705333578165374, 1.7601645652112776, 1.1693672723203297, 0.006168973030320437, -1.2946412347695087, 0.9359192670481432, -0.34135313067712797, -0.8991078674578962, -1.4180420040265282, -0.3141498370012541, 1.3284588340190397, 0.43436365261630805, -0.06019913519325379, 0.7229731593151011, -0.059130641011031916, 0.18691418901314508, -0.579051175367635, 0.6863533149215727, 2.2073437656015202, 0.6189359844436157, -1.4371023486349348, 0.20509646795438427, 0.5351249753977271, 1.1588687922005507, -0.3865337149383086, 0.3199797712139598, -0.17461766180681795, -0.7182557946851779, 1.9110973156231161, -1.480052452610233, -1.0388907279053714, 1.9265638251231678, 0.6879312442723563, -0.5989968078733376, 2.010769856789577, 0.5928355998139698, -1.3997036184021738, -1.597976868291814, -0.7472119617588053], \"xaxis\": \"x4\", \"y\": [0.2677202100092553, 0.029401801300603495, 1.6333155976582325, -0.15395081213775003, -0.14413501408846446, -1.6449448335712324, -0.14949460123467992, 0.3339491948644246, -2.597094399834224, 0.31658962768094867, 0.8786647987727886, -1.3432173218877443, -0.7847668533324995, -0.837875974898997, -0.16072258922436436, 0.5380362625214631, 0.8018472514118294, 2.225050418870336, 0.06312688222115209, -0.2819821780153154, 0.4561975529941592, 0.9540050098411976, -0.5772141596534164, 0.2533501925563586, -1.8640188679329512, 0.24686965021478458, -1.5145631567705737, 0.8539396046950519, 0.0530587181385824, -1.1056944602495598, -0.8106609561461899, 1.9999438998844243, -1.696019592198367, 0.27035476500109734, 0.3448685019844587, 2.4332894470526885, 1.0183035709639316, -1.0635862704484549, -0.4404129255558789, -1.2016635715406303, -0.7349321325596352, 0.2912459365897682, 1.1057264089740584, -1.3474952757494583, 1.3656261037787343, 1.4668789210387587, 1.1341137118535645, -0.797166045752831, -0.8437538847577685, -0.6578538590564416, -2.800744340160438, -1.464933962422879, 0.18579368606777028, 0.2716661071690678, -1.388396543205864, 0.5651575972514904, 1.870569345198021, -0.01803795079444882, 0.5445561374341695, 1.3100419598906323, 0.9269117310037176, 1.2170550881202022, 0.5977731119509945, 1.4658503908815197, -0.7133295308487775, -1.6072561105549357, -1.1583952519354686, -0.5675193850198321, 0.18395561276829986, 1.5629117365627527, -0.6459481567494111, 0.6451808366860189, -1.140277317678325, 0.9201965824358878, 0.5628508849829402, 0.06223168643101446, 0.3830041460378295, -1.7425635857356514, 2.68853762149162, -1.5873613032422402, 1.2103667304439776, 0.4483515828616707, 0.3069526013666004, -0.3056869359478956, 0.43649977563834447, -0.3367048914567436, -0.8743257220013367, 0.9018109380439379, 0.4495422955436478, -1.1129199575924928, 0.8875442142140842, -1.0279242303493357, 2.1826050258379954, 1.3416997099219075, -0.5444380801553921, -1.3906335395822353, 0.603842679050368, 1.4479816718381482, 2.2801894155665146, 0.2948305425715559], \"yaxis\": \"y4\"}, {\"line\": {\"color\": \"rgba(128, 128, 128, 1.0)\", \"dash\": \"solid\", \"shape\": \"linear\", \"width\": 1.3}, \"marker\": {\"size\": 2, \"symbol\": \"circle\"}, \"mode\": \"markers\", \"name\": \"B\", \"text\": \"\", \"type\": \"scatter\", \"x\": [0.2677202100092553, 0.029401801300603495, 1.6333155976582325, -0.15395081213775003, -0.14413501408846446, -1.6449448335712324, -0.14949460123467992, 0.3339491948644246, -2.597094399834224, 0.31658962768094867, 0.8786647987727886, -1.3432173218877443, -0.7847668533324995, -0.837875974898997, -0.16072258922436436, 0.5380362625214631, 0.8018472514118294, 2.225050418870336, 0.06312688222115209, -0.2819821780153154, 0.4561975529941592, 0.9540050098411976, -0.5772141596534164, 0.2533501925563586, -1.8640188679329512, 0.24686965021478458, -1.5145631567705737, 0.8539396046950519, 0.0530587181385824, -1.1056944602495598, -0.8106609561461899, 1.9999438998844243, -1.696019592198367, 0.27035476500109734, 0.3448685019844587, 2.4332894470526885, 1.0183035709639316, -1.0635862704484549, -0.4404129255558789, -1.2016635715406303, -0.7349321325596352, 0.2912459365897682, 1.1057264089740584, -1.3474952757494583, 1.3656261037787343, 1.4668789210387587, 1.1341137118535645, -0.797166045752831, -0.8437538847577685, -0.6578538590564416, -2.800744340160438, -1.464933962422879, 0.18579368606777028, 0.2716661071690678, -1.388396543205864, 0.5651575972514904, 1.870569345198021, -0.01803795079444882, 0.5445561374341695, 1.3100419598906323, 0.9269117310037176, 1.2170550881202022, 0.5977731119509945, 1.4658503908815197, -0.7133295308487775, -1.6072561105549357, -1.1583952519354686, -0.5675193850198321, 0.18395561276829986, 1.5629117365627527, -0.6459481567494111, 0.6451808366860189, -1.140277317678325, 0.9201965824358878, 0.5628508849829402, 0.06223168643101446, 0.3830041460378295, -1.7425635857356514, 2.68853762149162, -1.5873613032422402, 1.2103667304439776, 0.4483515828616707, 0.3069526013666004, -0.3056869359478956, 0.43649977563834447, -0.3367048914567436, -0.8743257220013367, 0.9018109380439379, 0.4495422955436478, -1.1129199575924928, 0.8875442142140842, -1.0279242303493357, 2.1826050258379954, 1.3416997099219075, -0.5444380801553921, -1.3906335395822353, 0.603842679050368, 1.4479816718381482, 2.2801894155665146, 0.2948305425715559], \"xaxis\": \"x5\", \"y\": [-0.4325321712751128, -1.5460924544980112, 0.10273563589960194, -0.4367522969617371, -0.37250903654265705, 2.495901049673792, 0.4543077408140475, -0.30651567349031394, -0.38977321361290346, 0.25333239787958034, -0.6518531750893366, -1.1598463133588912, -0.2502549143354412, -0.20151676688773343, 1.5980566808370873, 0.029402384373415722, -0.2269876865330706, -0.33008870211174673, 0.8804252708319859, 0.540454682551017, -0.056564992295370896, -1.543266073278203, -0.1517454722774265, 0.48850921701499184, -1.5218659923324995, 0.48252528692933, -1.1739288126024365, -0.2661170255448922, -0.12089999686922906, 2.207181673471075, 1.3492640917725967, -0.07360631969307191, -0.8428718809880091, 0.6541993474215966, 1.832577954017896, -0.8000301318162512, 0.5912931904834581, -0.1648826924515067, 0.7513998380294736, -0.36636501022202067, 0.4479585738911855, 0.01652610289102157, 1.4436301181798241, 1.198114629977769, -0.12417129548519844, -1.635490725015796, 0.9659152618319634, -0.22163192420780028, 0.13906379998407672, -0.5933198954392768, 0.09517724473066766, -0.6565492491460867, -0.7362795364472919, -0.4868621253603264, -1.0520977748564473, -2.4117622058518284, -2.131492724081454, 0.8115720023991889, -0.2685434009579712, -0.5963652446589135, 2.474124392200335, 0.06911688071229449, -1.1365645282692047, -0.7563200775798268, -0.8945050849648055, 0.8551433639677785, -0.18826810908634953, 1.4656718925668768, -0.056481576159804245, 0.982213228229109, 1.2540302807344708, 2.269188395378155, 0.5868297415228718, -1.3920972094032944, 0.2580819064645278, -0.5126588457434668, 0.8421125394269273, -0.7731775605236191, -2.401552932218778, -1.0766545233237557, -1.0115670858119716, 0.5303470084085685, -0.02356719985016988, -0.11813249614427222, 0.6296570442736785, -0.8320580612521427, -0.49955935500329185, -0.13027097894996809, -0.081474351975949, 0.27830415447931356, 1.218265733122561, 1.4955858477436832, -0.11999165184828173, -2.0658962422542575, -1.2836654857950553, -2.868162817942856, -2.363789031238105, -0.5279276194071908, -0.08225036746740437, -0.47129768728363813], \"yaxis\": \"y5\"}, {\"histfunc\": \"count\", \"histnorm\": \"\", \"marker\": {\"color\": \"rgba(55, 128, 191, 1.0)\", \"line\": {\"color\": \"#4D5663\", \"width\": 1.3}}, \"name\": \"B\", \"nbinsx\": 10, \"opacity\": 0.8, \"orientation\": \"v\", \"type\": \"histogram\", \"x\": [-0.4325321712751128, -1.5460924544980112, 0.10273563589960194, -0.4367522969617371, -0.37250903654265705, 2.495901049673792, 0.4543077408140475, -0.30651567349031394, -0.38977321361290346, 0.25333239787958034, -0.6518531750893366, -1.1598463133588912, -0.2502549143354412, -0.20151676688773343, 1.5980566808370873, 0.029402384373415722, -0.2269876865330706, -0.33008870211174673, 0.8804252708319859, 0.540454682551017, -0.056564992295370896, -1.543266073278203, -0.1517454722774265, 0.48850921701499184, -1.5218659923324995, 0.48252528692933, -1.1739288126024365, -0.2661170255448922, -0.12089999686922906, 2.207181673471075, 1.3492640917725967, -0.07360631969307191, -0.8428718809880091, 0.6541993474215966, 1.832577954017896, -0.8000301318162512, 0.5912931904834581, -0.1648826924515067, 0.7513998380294736, -0.36636501022202067, 0.4479585738911855, 0.01652610289102157, 1.4436301181798241, 1.198114629977769, -0.12417129548519844, -1.635490725015796, 0.9659152618319634, -0.22163192420780028, 0.13906379998407672, -0.5933198954392768, 0.09517724473066766, -0.6565492491460867, -0.7362795364472919, -0.4868621253603264, -1.0520977748564473, -2.4117622058518284, -2.131492724081454, 0.8115720023991889, -0.2685434009579712, -0.5963652446589135, 2.474124392200335, 0.06911688071229449, -1.1365645282692047, -0.7563200775798268, -0.8945050849648055, 0.8551433639677785, -0.18826810908634953, 1.4656718925668768, -0.056481576159804245, 0.982213228229109, 1.2540302807344708, 2.269188395378155, 0.5868297415228718, -1.3920972094032944, 0.2580819064645278, -0.5126588457434668, 0.8421125394269273, -0.7731775605236191, -2.401552932218778, -1.0766545233237557, -1.0115670858119716, 0.5303470084085685, -0.02356719985016988, -0.11813249614427222, 0.6296570442736785, -0.8320580612521427, -0.49955935500329185, -0.13027097894996809, -0.081474351975949, 0.27830415447931356, 1.218265733122561, 1.4955858477436832, -0.11999165184828173, -2.0658962422542575, -1.2836654857950553, -2.868162817942856, -2.363789031238105, -0.5279276194071908, -0.08225036746740437, -0.47129768728363813], \"xaxis\": \"x6\", \"yaxis\": \"y6\"}, {\"line\": {\"color\": \"rgba(128, 128, 128, 1.0)\", \"dash\": \"solid\", \"shape\": \"linear\", \"width\": 1.3}, \"marker\": {\"size\": 2, \"symbol\": \"circle\"}, \"mode\": \"markers\", \"name\": \"B\", \"text\": \"\", \"type\": \"scatter\", \"x\": [-1.4915827436378635, -2.112020006549017, -0.8329924095346284, 1.7823209334611574, -0.7192814711428236, -0.5657555679446309, 0.29374616132364456, 1.6996285110354985, -0.41935449712171036, 1.8049666970050822, 0.9950818115963185, -0.3561521976707872, 0.35746595441843676, 0.16665249127587373, -0.30997250971580614, 1.320875064102547, -2.2275645560572377, -0.558859659944914, -0.3395427132529864, -0.6172227810131552, 0.5598324593996644, 2.3176340765173293, 1.3868298905679506, 0.7074025099455857, 0.9968354698286394, 0.5759027018023721, -1.1902446827365922, -0.566420905406603, -2.5787457879446936, 1.0448765267217333, 0.0575222219029565, 0.553843648368937, -0.5848856885732062, -0.9167844605684892, -0.4116034641618978, 0.3403504234759874, -0.09015529136674685, 0.9605253449617726, 0.41295230460834553, 0.17606893005627136, 0.1394835567699609, -0.24824526562589908, -0.31426882930239164, 0.690792933252245, -0.9878882957890283, -0.4735071596684798, 1.6512343595147854, 2.609770180786801, -0.7648625754422158, 0.0712398856157923, -0.5049747112309024, 0.4912486112813825, 0.9885021263519854, 0.7712407604431888, 0.1290524490715323, 0.04448892449874012, 0.37191418104278157, 0.5511476627085021, 0.2145247287208951, 0.6179232564946322, -0.21505308570241372, 0.11415534786549235, 0.49730667627105724, -1.3539767876323532, 1.5029693022889137, -0.8955210319309673, 1.5236031046781657, -0.5511762908172061, -0.48435904644665134, 0.06780795963216768, 0.10577749158140741, -0.7613594055094629, -0.0807678779419743, -1.100340014759591, 0.13473733868437426, -0.5554032514491901, -2.1040562904224527, 1.3785472966882482, 0.20358444370538267, 2.8953721028734596, 0.3130398408759578, 0.14002930904544209, -1.3728158956282914, -0.35819175282054805, 0.22958757977878763, -0.003913314093714403, -1.9865998428720206, -1.4995645715031976, -1.610787403627202, -0.7673634249080489, -0.3989395546614242, 2.6703375578543307, 1.790563716962692, -1.1414208367513043, 0.6848848569715895, 0.7269276441464714, -0.2956929541095785, -0.4582838725550537, -0.31906036078748545, -2.1211963434778136], \"xaxis\": \"x7\", \"y\": [-0.4325321712751128, -1.5460924544980112, 0.10273563589960194, -0.4367522969617371, -0.37250903654265705, 2.495901049673792, 0.4543077408140475, -0.30651567349031394, -0.38977321361290346, 0.25333239787958034, -0.6518531750893366, -1.1598463133588912, -0.2502549143354412, -0.20151676688773343, 1.5980566808370873, 0.029402384373415722, -0.2269876865330706, -0.33008870211174673, 0.8804252708319859, 0.540454682551017, -0.056564992295370896, -1.543266073278203, -0.1517454722774265, 0.48850921701499184, -1.5218659923324995, 0.48252528692933, -1.1739288126024365, -0.2661170255448922, -0.12089999686922906, 2.207181673471075, 1.3492640917725967, -0.07360631969307191, -0.8428718809880091, 0.6541993474215966, 1.832577954017896, -0.8000301318162512, 0.5912931904834581, -0.1648826924515067, 0.7513998380294736, -0.36636501022202067, 0.4479585738911855, 0.01652610289102157, 1.4436301181798241, 1.198114629977769, -0.12417129548519844, -1.635490725015796, 0.9659152618319634, -0.22163192420780028, 0.13906379998407672, -0.5933198954392768, 0.09517724473066766, -0.6565492491460867, -0.7362795364472919, -0.4868621253603264, -1.0520977748564473, -2.4117622058518284, -2.131492724081454, 0.8115720023991889, -0.2685434009579712, -0.5963652446589135, 2.474124392200335, 0.06911688071229449, -1.1365645282692047, -0.7563200775798268, -0.8945050849648055, 0.8551433639677785, -0.18826810908634953, 1.4656718925668768, -0.056481576159804245, 0.982213228229109, 1.2540302807344708, 2.269188395378155, 0.5868297415228718, -1.3920972094032944, 0.2580819064645278, -0.5126588457434668, 0.8421125394269273, -0.7731775605236191, -2.401552932218778, -1.0766545233237557, -1.0115670858119716, 0.5303470084085685, -0.02356719985016988, -0.11813249614427222, 0.6296570442736785, -0.8320580612521427, -0.49955935500329185, -0.13027097894996809, -0.081474351975949, 0.27830415447931356, 1.218265733122561, 1.4955858477436832, -0.11999165184828173, -2.0658962422542575, -1.2836654857950553, -2.868162817942856, -2.363789031238105, -0.5279276194071908, -0.08225036746740437, -0.47129768728363813], \"yaxis\": \"y7\"}, {\"line\": {\"color\": \"rgba(128, 128, 128, 1.0)\", \"dash\": \"solid\", \"shape\": \"linear\", \"width\": 1.3}, \"marker\": {\"size\": 2, \"symbol\": \"circle\"}, \"mode\": \"markers\", \"name\": \"B\", \"text\": \"\", \"type\": \"scatter\", \"x\": [-0.7025160410480839, 1.3109081667544578, -0.510361468081794, 0.14988146373890324, 1.6019418730762025, -0.349053248547214, -0.4166299933795874, -2.4680739874503113, 0.025067974485122674, -0.19871976026948518, 0.5953950686273765, 0.7511049301039473, 0.5720049651864383, -2.4835048163036797, 0.2109330444317143, 1.4767934570912753, -0.035966329295487084, -0.6810201187166933, -1.3957264827789182, 0.34492934974635153, -0.22948438014191513, 0.9944106854012644, 1.1245846524485843, 1.7267038383309876, 0.5044357665376124, -0.35664609529375235, -0.17181976879078467, -1.173535775728522, 0.06374348058106245, 0.7848220619723575, -0.2564503272297871, 1.8315920467331734, 2.032589934699792, 0.6513614616376907, -0.1424870213724532, 1.7632791185368706, 0.720715119660739, -1.7333097242317494, 0.1253668772189341, -0.6906249181043568, -0.5850487211742301, 0.7651300905830513, 0.12186453381870625, -0.4150343239864852, 0.660759717712707, 1.2753300935459693, -1.4496646904364807, 0.19710775617052026, -0.18528700914977536, 0.6884493145711821, 0.16201470238935398, -0.03200110632704644, -0.08702335075885158, 1.3271464353502238, -0.07768790979240572, -1.4135203973646147, -0.5787944728418192, 0.5022055952444596, 0.454460398888486, 0.49952080788698844, 1.3937837027809206, -0.22705333578165374, 1.7601645652112776, 1.1693672723203297, 0.006168973030320437, -1.2946412347695087, 0.9359192670481432, -0.34135313067712797, -0.8991078674578962, -1.4180420040265282, -0.3141498370012541, 1.3284588340190397, 0.43436365261630805, -0.06019913519325379, 0.7229731593151011, -0.059130641011031916, 0.18691418901314508, -0.579051175367635, 0.6863533149215727, 2.2073437656015202, 0.6189359844436157, -1.4371023486349348, 0.20509646795438427, 0.5351249753977271, 1.1588687922005507, -0.3865337149383086, 0.3199797712139598, -0.17461766180681795, -0.7182557946851779, 1.9110973156231161, -1.480052452610233, -1.0388907279053714, 1.9265638251231678, 0.6879312442723563, -0.5989968078733376, 2.010769856789577, 0.5928355998139698, -1.3997036184021738, -1.597976868291814, -0.7472119617588053], \"xaxis\": \"x8\", \"y\": [-0.4325321712751128, -1.5460924544980112, 0.10273563589960194, -0.4367522969617371, -0.37250903654265705, 2.495901049673792, 0.4543077408140475, -0.30651567349031394, -0.38977321361290346, 0.25333239787958034, -0.6518531750893366, -1.1598463133588912, -0.2502549143354412, -0.20151676688773343, 1.5980566808370873, 0.029402384373415722, -0.2269876865330706, -0.33008870211174673, 0.8804252708319859, 0.540454682551017, -0.056564992295370896, -1.543266073278203, -0.1517454722774265, 0.48850921701499184, -1.5218659923324995, 0.48252528692933, -1.1739288126024365, -0.2661170255448922, -0.12089999686922906, 2.207181673471075, 1.3492640917725967, -0.07360631969307191, -0.8428718809880091, 0.6541993474215966, 1.832577954017896, -0.8000301318162512, 0.5912931904834581, -0.1648826924515067, 0.7513998380294736, -0.36636501022202067, 0.4479585738911855, 0.01652610289102157, 1.4436301181798241, 1.198114629977769, -0.12417129548519844, -1.635490725015796, 0.9659152618319634, -0.22163192420780028, 0.13906379998407672, -0.5933198954392768, 0.09517724473066766, -0.6565492491460867, -0.7362795364472919, -0.4868621253603264, -1.0520977748564473, -2.4117622058518284, -2.131492724081454, 0.8115720023991889, -0.2685434009579712, -0.5963652446589135, 2.474124392200335, 0.06911688071229449, -1.1365645282692047, -0.7563200775798268, -0.8945050849648055, 0.8551433639677785, -0.18826810908634953, 1.4656718925668768, -0.056481576159804245, 0.982213228229109, 1.2540302807344708, 2.269188395378155, 0.5868297415228718, -1.3920972094032944, 0.2580819064645278, -0.5126588457434668, 0.8421125394269273, -0.7731775605236191, -2.401552932218778, -1.0766545233237557, -1.0115670858119716, 0.5303470084085685, -0.02356719985016988, -0.11813249614427222, 0.6296570442736785, -0.8320580612521427, -0.49955935500329185, -0.13027097894996809, -0.081474351975949, 0.27830415447931356, 1.218265733122561, 1.4955858477436832, -0.11999165184828173, -2.0658962422542575, -1.2836654857950553, -2.868162817942856, -2.363789031238105, -0.5279276194071908, -0.08225036746740437, -0.47129768728363813], \"yaxis\": \"y8\"}, {\"line\": {\"color\": \"rgba(128, 128, 128, 1.0)\", \"dash\": \"solid\", \"shape\": \"linear\", \"width\": 1.3}, \"marker\": {\"size\": 2, \"symbol\": \"circle\"}, \"mode\": \"markers\", \"name\": \"C\", \"text\": \"\", \"type\": \"scatter\", \"x\": [0.2677202100092553, 0.029401801300603495, 1.6333155976582325, -0.15395081213775003, -0.14413501408846446, -1.6449448335712324, -0.14949460123467992, 0.3339491948644246, -2.597094399834224, 0.31658962768094867, 0.8786647987727886, -1.3432173218877443, -0.7847668533324995, -0.837875974898997, -0.16072258922436436, 0.5380362625214631, 0.8018472514118294, 2.225050418870336, 0.06312688222115209, -0.2819821780153154, 0.4561975529941592, 0.9540050098411976, -0.5772141596534164, 0.2533501925563586, -1.8640188679329512, 0.24686965021478458, -1.5145631567705737, 0.8539396046950519, 0.0530587181385824, -1.1056944602495598, -0.8106609561461899, 1.9999438998844243, -1.696019592198367, 0.27035476500109734, 0.3448685019844587, 2.4332894470526885, 1.0183035709639316, -1.0635862704484549, -0.4404129255558789, -1.2016635715406303, -0.7349321325596352, 0.2912459365897682, 1.1057264089740584, -1.3474952757494583, 1.3656261037787343, 1.4668789210387587, 1.1341137118535645, -0.797166045752831, -0.8437538847577685, -0.6578538590564416, -2.800744340160438, -1.464933962422879, 0.18579368606777028, 0.2716661071690678, -1.388396543205864, 0.5651575972514904, 1.870569345198021, -0.01803795079444882, 0.5445561374341695, 1.3100419598906323, 0.9269117310037176, 1.2170550881202022, 0.5977731119509945, 1.4658503908815197, -0.7133295308487775, -1.6072561105549357, -1.1583952519354686, -0.5675193850198321, 0.18395561276829986, 1.5629117365627527, -0.6459481567494111, 0.6451808366860189, -1.140277317678325, 0.9201965824358878, 0.5628508849829402, 0.06223168643101446, 0.3830041460378295, -1.7425635857356514, 2.68853762149162, -1.5873613032422402, 1.2103667304439776, 0.4483515828616707, 0.3069526013666004, -0.3056869359478956, 0.43649977563834447, -0.3367048914567436, -0.8743257220013367, 0.9018109380439379, 0.4495422955436478, -1.1129199575924928, 0.8875442142140842, -1.0279242303493357, 2.1826050258379954, 1.3416997099219075, -0.5444380801553921, -1.3906335395822353, 0.603842679050368, 1.4479816718381482, 2.2801894155665146, 0.2948305425715559], \"xaxis\": \"x9\", \"y\": [-1.4915827436378635, -2.112020006549017, -0.8329924095346284, 1.7823209334611574, -0.7192814711428236, -0.5657555679446309, 0.29374616132364456, 1.6996285110354985, -0.41935449712171036, 1.8049666970050822, 0.9950818115963185, -0.3561521976707872, 0.35746595441843676, 0.16665249127587373, -0.30997250971580614, 1.320875064102547, -2.2275645560572377, -0.558859659944914, -0.3395427132529864, -0.6172227810131552, 0.5598324593996644, 2.3176340765173293, 1.3868298905679506, 0.7074025099455857, 0.9968354698286394, 0.5759027018023721, -1.1902446827365922, -0.566420905406603, -2.5787457879446936, 1.0448765267217333, 0.0575222219029565, 0.553843648368937, -0.5848856885732062, -0.9167844605684892, -0.4116034641618978, 0.3403504234759874, -0.09015529136674685, 0.9605253449617726, 0.41295230460834553, 0.17606893005627136, 0.1394835567699609, -0.24824526562589908, -0.31426882930239164, 0.690792933252245, -0.9878882957890283, -0.4735071596684798, 1.6512343595147854, 2.609770180786801, -0.7648625754422158, 0.0712398856157923, -0.5049747112309024, 0.4912486112813825, 0.9885021263519854, 0.7712407604431888, 0.1290524490715323, 0.04448892449874012, 0.37191418104278157, 0.5511476627085021, 0.2145247287208951, 0.6179232564946322, -0.21505308570241372, 0.11415534786549235, 0.49730667627105724, -1.3539767876323532, 1.5029693022889137, -0.8955210319309673, 1.5236031046781657, -0.5511762908172061, -0.48435904644665134, 0.06780795963216768, 0.10577749158140741, -0.7613594055094629, -0.0807678779419743, -1.100340014759591, 0.13473733868437426, -0.5554032514491901, -2.1040562904224527, 1.3785472966882482, 0.20358444370538267, 2.8953721028734596, 0.3130398408759578, 0.14002930904544209, -1.3728158956282914, -0.35819175282054805, 0.22958757977878763, -0.003913314093714403, -1.9865998428720206, -1.4995645715031976, -1.610787403627202, -0.7673634249080489, -0.3989395546614242, 2.6703375578543307, 1.790563716962692, -1.1414208367513043, 0.6848848569715895, 0.7269276441464714, -0.2956929541095785, -0.4582838725550537, -0.31906036078748545, -2.1211963434778136], \"yaxis\": \"y9\"}, {\"line\": {\"color\": \"rgba(128, 128, 128, 1.0)\", \"dash\": \"solid\", \"shape\": \"linear\", \"width\": 1.3}, \"marker\": {\"size\": 2, \"symbol\": \"circle\"}, \"mode\": \"markers\", \"name\": \"C\", \"text\": \"\", \"type\": \"scatter\", \"x\": [-0.4325321712751128, -1.5460924544980112, 0.10273563589960194, -0.4367522969617371, -0.37250903654265705, 2.495901049673792, 0.4543077408140475, -0.30651567349031394, -0.38977321361290346, 0.25333239787958034, -0.6518531750893366, -1.1598463133588912, -0.2502549143354412, -0.20151676688773343, 1.5980566808370873, 0.029402384373415722, -0.2269876865330706, -0.33008870211174673, 0.8804252708319859, 0.540454682551017, -0.056564992295370896, -1.543266073278203, -0.1517454722774265, 0.48850921701499184, -1.5218659923324995, 0.48252528692933, -1.1739288126024365, -0.2661170255448922, -0.12089999686922906, 2.207181673471075, 1.3492640917725967, -0.07360631969307191, -0.8428718809880091, 0.6541993474215966, 1.832577954017896, -0.8000301318162512, 0.5912931904834581, -0.1648826924515067, 0.7513998380294736, -0.36636501022202067, 0.4479585738911855, 0.01652610289102157, 1.4436301181798241, 1.198114629977769, -0.12417129548519844, -1.635490725015796, 0.9659152618319634, -0.22163192420780028, 0.13906379998407672, -0.5933198954392768, 0.09517724473066766, -0.6565492491460867, -0.7362795364472919, -0.4868621253603264, -1.0520977748564473, -2.4117622058518284, -2.131492724081454, 0.8115720023991889, -0.2685434009579712, -0.5963652446589135, 2.474124392200335, 0.06911688071229449, -1.1365645282692047, -0.7563200775798268, -0.8945050849648055, 0.8551433639677785, -0.18826810908634953, 1.4656718925668768, -0.056481576159804245, 0.982213228229109, 1.2540302807344708, 2.269188395378155, 0.5868297415228718, -1.3920972094032944, 0.2580819064645278, -0.5126588457434668, 0.8421125394269273, -0.7731775605236191, -2.401552932218778, -1.0766545233237557, -1.0115670858119716, 0.5303470084085685, -0.02356719985016988, -0.11813249614427222, 0.6296570442736785, -0.8320580612521427, -0.49955935500329185, -0.13027097894996809, -0.081474351975949, 0.27830415447931356, 1.218265733122561, 1.4955858477436832, -0.11999165184828173, -2.0658962422542575, -1.2836654857950553, -2.868162817942856, -2.363789031238105, -0.5279276194071908, -0.08225036746740437, -0.47129768728363813], \"xaxis\": \"x10\", \"y\": [-1.4915827436378635, -2.112020006549017, -0.8329924095346284, 1.7823209334611574, -0.7192814711428236, -0.5657555679446309, 0.29374616132364456, 1.6996285110354985, -0.41935449712171036, 1.8049666970050822, 0.9950818115963185, -0.3561521976707872, 0.35746595441843676, 0.16665249127587373, -0.30997250971580614, 1.320875064102547, -2.2275645560572377, -0.558859659944914, -0.3395427132529864, -0.6172227810131552, 0.5598324593996644, 2.3176340765173293, 1.3868298905679506, 0.7074025099455857, 0.9968354698286394, 0.5759027018023721, -1.1902446827365922, -0.566420905406603, -2.5787457879446936, 1.0448765267217333, 0.0575222219029565, 0.553843648368937, -0.5848856885732062, -0.9167844605684892, -0.4116034641618978, 0.3403504234759874, -0.09015529136674685, 0.9605253449617726, 0.41295230460834553, 0.17606893005627136, 0.1394835567699609, -0.24824526562589908, -0.31426882930239164, 0.690792933252245, -0.9878882957890283, -0.4735071596684798, 1.6512343595147854, 2.609770180786801, -0.7648625754422158, 0.0712398856157923, -0.5049747112309024, 0.4912486112813825, 0.9885021263519854, 0.7712407604431888, 0.1290524490715323, 0.04448892449874012, 0.37191418104278157, 0.5511476627085021, 0.2145247287208951, 0.6179232564946322, -0.21505308570241372, 0.11415534786549235, 0.49730667627105724, -1.3539767876323532, 1.5029693022889137, -0.8955210319309673, 1.5236031046781657, -0.5511762908172061, -0.48435904644665134, 0.06780795963216768, 0.10577749158140741, -0.7613594055094629, -0.0807678779419743, -1.100340014759591, 0.13473733868437426, -0.5554032514491901, -2.1040562904224527, 1.3785472966882482, 0.20358444370538267, 2.8953721028734596, 0.3130398408759578, 0.14002930904544209, -1.3728158956282914, -0.35819175282054805, 0.22958757977878763, -0.003913314093714403, -1.9865998428720206, -1.4995645715031976, -1.610787403627202, -0.7673634249080489, -0.3989395546614242, 2.6703375578543307, 1.790563716962692, -1.1414208367513043, 0.6848848569715895, 0.7269276441464714, -0.2956929541095785, -0.4582838725550537, -0.31906036078748545, -2.1211963434778136], \"yaxis\": \"y10\"}, {\"histfunc\": \"count\", \"histnorm\": \"\", \"marker\": {\"color\": \"rgba(50, 171, 96, 1.0)\", \"line\": {\"color\": \"#4D5663\", \"width\": 1.3}}, \"name\": \"C\", \"nbinsx\": 10, \"opacity\": 0.8, \"orientation\": \"v\", \"type\": \"histogram\", \"x\": [-1.4915827436378635, -2.112020006549017, -0.8329924095346284, 1.7823209334611574, -0.7192814711428236, -0.5657555679446309, 0.29374616132364456, 1.6996285110354985, -0.41935449712171036, 1.8049666970050822, 0.9950818115963185, -0.3561521976707872, 0.35746595441843676, 0.16665249127587373, -0.30997250971580614, 1.320875064102547, -2.2275645560572377, -0.558859659944914, -0.3395427132529864, -0.6172227810131552, 0.5598324593996644, 2.3176340765173293, 1.3868298905679506, 0.7074025099455857, 0.9968354698286394, 0.5759027018023721, -1.1902446827365922, -0.566420905406603, -2.5787457879446936, 1.0448765267217333, 0.0575222219029565, 0.553843648368937, -0.5848856885732062, -0.9167844605684892, -0.4116034641618978, 0.3403504234759874, -0.09015529136674685, 0.9605253449617726, 0.41295230460834553, 0.17606893005627136, 0.1394835567699609, -0.24824526562589908, -0.31426882930239164, 0.690792933252245, -0.9878882957890283, -0.4735071596684798, 1.6512343595147854, 2.609770180786801, -0.7648625754422158, 0.0712398856157923, -0.5049747112309024, 0.4912486112813825, 0.9885021263519854, 0.7712407604431888, 0.1290524490715323, 0.04448892449874012, 0.37191418104278157, 0.5511476627085021, 0.2145247287208951, 0.6179232564946322, -0.21505308570241372, 0.11415534786549235, 0.49730667627105724, -1.3539767876323532, 1.5029693022889137, -0.8955210319309673, 1.5236031046781657, -0.5511762908172061, -0.48435904644665134, 0.06780795963216768, 0.10577749158140741, -0.7613594055094629, -0.0807678779419743, -1.100340014759591, 0.13473733868437426, -0.5554032514491901, -2.1040562904224527, 1.3785472966882482, 0.20358444370538267, 2.8953721028734596, 0.3130398408759578, 0.14002930904544209, -1.3728158956282914, -0.35819175282054805, 0.22958757977878763, -0.003913314093714403, -1.9865998428720206, -1.4995645715031976, -1.610787403627202, -0.7673634249080489, -0.3989395546614242, 2.6703375578543307, 1.790563716962692, -1.1414208367513043, 0.6848848569715895, 0.7269276441464714, -0.2956929541095785, -0.4582838725550537, -0.31906036078748545, -2.1211963434778136], \"xaxis\": \"x11\", \"yaxis\": \"y11\"}, {\"line\": {\"color\": \"rgba(128, 128, 128, 1.0)\", \"dash\": \"solid\", \"shape\": \"linear\", \"width\": 1.3}, \"marker\": {\"size\": 2, \"symbol\": \"circle\"}, \"mode\": \"markers\", \"name\": \"C\", \"text\": \"\", \"type\": \"scatter\", \"x\": [-0.7025160410480839, 1.3109081667544578, -0.510361468081794, 0.14988146373890324, 1.6019418730762025, -0.349053248547214, -0.4166299933795874, -2.4680739874503113, 0.025067974485122674, -0.19871976026948518, 0.5953950686273765, 0.7511049301039473, 0.5720049651864383, -2.4835048163036797, 0.2109330444317143, 1.4767934570912753, -0.035966329295487084, -0.6810201187166933, -1.3957264827789182, 0.34492934974635153, -0.22948438014191513, 0.9944106854012644, 1.1245846524485843, 1.7267038383309876, 0.5044357665376124, -0.35664609529375235, -0.17181976879078467, -1.173535775728522, 0.06374348058106245, 0.7848220619723575, -0.2564503272297871, 1.8315920467331734, 2.032589934699792, 0.6513614616376907, -0.1424870213724532, 1.7632791185368706, 0.720715119660739, -1.7333097242317494, 0.1253668772189341, -0.6906249181043568, -0.5850487211742301, 0.7651300905830513, 0.12186453381870625, -0.4150343239864852, 0.660759717712707, 1.2753300935459693, -1.4496646904364807, 0.19710775617052026, -0.18528700914977536, 0.6884493145711821, 0.16201470238935398, -0.03200110632704644, -0.08702335075885158, 1.3271464353502238, -0.07768790979240572, -1.4135203973646147, -0.5787944728418192, 0.5022055952444596, 0.454460398888486, 0.49952080788698844, 1.3937837027809206, -0.22705333578165374, 1.7601645652112776, 1.1693672723203297, 0.006168973030320437, -1.2946412347695087, 0.9359192670481432, -0.34135313067712797, -0.8991078674578962, -1.4180420040265282, -0.3141498370012541, 1.3284588340190397, 0.43436365261630805, -0.06019913519325379, 0.7229731593151011, -0.059130641011031916, 0.18691418901314508, -0.579051175367635, 0.6863533149215727, 2.2073437656015202, 0.6189359844436157, -1.4371023486349348, 0.20509646795438427, 0.5351249753977271, 1.1588687922005507, -0.3865337149383086, 0.3199797712139598, -0.17461766180681795, -0.7182557946851779, 1.9110973156231161, -1.480052452610233, -1.0388907279053714, 1.9265638251231678, 0.6879312442723563, -0.5989968078733376, 2.010769856789577, 0.5928355998139698, -1.3997036184021738, -1.597976868291814, -0.7472119617588053], \"xaxis\": \"x12\", \"y\": [-1.4915827436378635, -2.112020006549017, -0.8329924095346284, 1.7823209334611574, -0.7192814711428236, -0.5657555679446309, 0.29374616132364456, 1.6996285110354985, -0.41935449712171036, 1.8049666970050822, 0.9950818115963185, -0.3561521976707872, 0.35746595441843676, 0.16665249127587373, -0.30997250971580614, 1.320875064102547, -2.2275645560572377, -0.558859659944914, -0.3395427132529864, -0.6172227810131552, 0.5598324593996644, 2.3176340765173293, 1.3868298905679506, 0.7074025099455857, 0.9968354698286394, 0.5759027018023721, -1.1902446827365922, -0.566420905406603, -2.5787457879446936, 1.0448765267217333, 0.0575222219029565, 0.553843648368937, -0.5848856885732062, -0.9167844605684892, -0.4116034641618978, 0.3403504234759874, -0.09015529136674685, 0.9605253449617726, 0.41295230460834553, 0.17606893005627136, 0.1394835567699609, -0.24824526562589908, -0.31426882930239164, 0.690792933252245, -0.9878882957890283, -0.4735071596684798, 1.6512343595147854, 2.609770180786801, -0.7648625754422158, 0.0712398856157923, -0.5049747112309024, 0.4912486112813825, 0.9885021263519854, 0.7712407604431888, 0.1290524490715323, 0.04448892449874012, 0.37191418104278157, 0.5511476627085021, 0.2145247287208951, 0.6179232564946322, -0.21505308570241372, 0.11415534786549235, 0.49730667627105724, -1.3539767876323532, 1.5029693022889137, -0.8955210319309673, 1.5236031046781657, -0.5511762908172061, -0.48435904644665134, 0.06780795963216768, 0.10577749158140741, -0.7613594055094629, -0.0807678779419743, -1.100340014759591, 0.13473733868437426, -0.5554032514491901, -2.1040562904224527, 1.3785472966882482, 0.20358444370538267, 2.8953721028734596, 0.3130398408759578, 0.14002930904544209, -1.3728158956282914, -0.35819175282054805, 0.22958757977878763, -0.003913314093714403, -1.9865998428720206, -1.4995645715031976, -1.610787403627202, -0.7673634249080489, -0.3989395546614242, 2.6703375578543307, 1.790563716962692, -1.1414208367513043, 0.6848848569715895, 0.7269276441464714, -0.2956929541095785, -0.4582838725550537, -0.31906036078748545, -2.1211963434778136], \"yaxis\": \"y12\"}, {\"line\": {\"color\": \"rgba(128, 128, 128, 1.0)\", \"dash\": \"solid\", \"shape\": \"linear\", \"width\": 1.3}, \"marker\": {\"size\": 2, \"symbol\": \"circle\"}, \"mode\": \"markers\", \"name\": \"D\", \"text\": \"\", \"type\": \"scatter\", \"x\": [0.2677202100092553, 0.029401801300603495, 1.6333155976582325, -0.15395081213775003, -0.14413501408846446, -1.6449448335712324, -0.14949460123467992, 0.3339491948644246, -2.597094399834224, 0.31658962768094867, 0.8786647987727886, -1.3432173218877443, -0.7847668533324995, -0.837875974898997, -0.16072258922436436, 0.5380362625214631, 0.8018472514118294, 2.225050418870336, 0.06312688222115209, -0.2819821780153154, 0.4561975529941592, 0.9540050098411976, -0.5772141596534164, 0.2533501925563586, -1.8640188679329512, 0.24686965021478458, -1.5145631567705737, 0.8539396046950519, 0.0530587181385824, -1.1056944602495598, -0.8106609561461899, 1.9999438998844243, -1.696019592198367, 0.27035476500109734, 0.3448685019844587, 2.4332894470526885, 1.0183035709639316, -1.0635862704484549, -0.4404129255558789, -1.2016635715406303, -0.7349321325596352, 0.2912459365897682, 1.1057264089740584, -1.3474952757494583, 1.3656261037787343, 1.4668789210387587, 1.1341137118535645, -0.797166045752831, -0.8437538847577685, -0.6578538590564416, -2.800744340160438, -1.464933962422879, 0.18579368606777028, 0.2716661071690678, -1.388396543205864, 0.5651575972514904, 1.870569345198021, -0.01803795079444882, 0.5445561374341695, 1.3100419598906323, 0.9269117310037176, 1.2170550881202022, 0.5977731119509945, 1.4658503908815197, -0.7133295308487775, -1.6072561105549357, -1.1583952519354686, -0.5675193850198321, 0.18395561276829986, 1.5629117365627527, -0.6459481567494111, 0.6451808366860189, -1.140277317678325, 0.9201965824358878, 0.5628508849829402, 0.06223168643101446, 0.3830041460378295, -1.7425635857356514, 2.68853762149162, -1.5873613032422402, 1.2103667304439776, 0.4483515828616707, 0.3069526013666004, -0.3056869359478956, 0.43649977563834447, -0.3367048914567436, -0.8743257220013367, 0.9018109380439379, 0.4495422955436478, -1.1129199575924928, 0.8875442142140842, -1.0279242303493357, 2.1826050258379954, 1.3416997099219075, -0.5444380801553921, -1.3906335395822353, 0.603842679050368, 1.4479816718381482, 2.2801894155665146, 0.2948305425715559], \"xaxis\": \"x13\", \"y\": [-0.7025160410480839, 1.3109081667544578, -0.510361468081794, 0.14988146373890324, 1.6019418730762025, -0.349053248547214, -0.4166299933795874, -2.4680739874503113, 0.025067974485122674, -0.19871976026948518, 0.5953950686273765, 0.7511049301039473, 0.5720049651864383, -2.4835048163036797, 0.2109330444317143, 1.4767934570912753, -0.035966329295487084, -0.6810201187166933, -1.3957264827789182, 0.34492934974635153, -0.22948438014191513, 0.9944106854012644, 1.1245846524485843, 1.7267038383309876, 0.5044357665376124, -0.35664609529375235, -0.17181976879078467, -1.173535775728522, 0.06374348058106245, 0.7848220619723575, -0.2564503272297871, 1.8315920467331734, 2.032589934699792, 0.6513614616376907, -0.1424870213724532, 1.7632791185368706, 0.720715119660739, -1.7333097242317494, 0.1253668772189341, -0.6906249181043568, -0.5850487211742301, 0.7651300905830513, 0.12186453381870625, -0.4150343239864852, 0.660759717712707, 1.2753300935459693, -1.4496646904364807, 0.19710775617052026, -0.18528700914977536, 0.6884493145711821, 0.16201470238935398, -0.03200110632704644, -0.08702335075885158, 1.3271464353502238, -0.07768790979240572, -1.4135203973646147, -0.5787944728418192, 0.5022055952444596, 0.454460398888486, 0.49952080788698844, 1.3937837027809206, -0.22705333578165374, 1.7601645652112776, 1.1693672723203297, 0.006168973030320437, -1.2946412347695087, 0.9359192670481432, -0.34135313067712797, -0.8991078674578962, -1.4180420040265282, -0.3141498370012541, 1.3284588340190397, 0.43436365261630805, -0.06019913519325379, 0.7229731593151011, -0.059130641011031916, 0.18691418901314508, -0.579051175367635, 0.6863533149215727, 2.2073437656015202, 0.6189359844436157, -1.4371023486349348, 0.20509646795438427, 0.5351249753977271, 1.1588687922005507, -0.3865337149383086, 0.3199797712139598, -0.17461766180681795, -0.7182557946851779, 1.9110973156231161, -1.480052452610233, -1.0388907279053714, 1.9265638251231678, 0.6879312442723563, -0.5989968078733376, 2.010769856789577, 0.5928355998139698, -1.3997036184021738, -1.597976868291814, -0.7472119617588053], \"yaxis\": \"y13\"}, {\"line\": {\"color\": \"rgba(128, 128, 128, 1.0)\", \"dash\": \"solid\", \"shape\": \"linear\", \"width\": 1.3}, \"marker\": {\"size\": 2, \"symbol\": \"circle\"}, \"mode\": \"markers\", \"name\": \"D\", \"text\": \"\", \"type\": \"scatter\", \"x\": [-0.4325321712751128, -1.5460924544980112, 0.10273563589960194, -0.4367522969617371, -0.37250903654265705, 2.495901049673792, 0.4543077408140475, -0.30651567349031394, -0.38977321361290346, 0.25333239787958034, -0.6518531750893366, -1.1598463133588912, -0.2502549143354412, -0.20151676688773343, 1.5980566808370873, 0.029402384373415722, -0.2269876865330706, -0.33008870211174673, 0.8804252708319859, 0.540454682551017, -0.056564992295370896, -1.543266073278203, -0.1517454722774265, 0.48850921701499184, -1.5218659923324995, 0.48252528692933, -1.1739288126024365, -0.2661170255448922, -0.12089999686922906, 2.207181673471075, 1.3492640917725967, -0.07360631969307191, -0.8428718809880091, 0.6541993474215966, 1.832577954017896, -0.8000301318162512, 0.5912931904834581, -0.1648826924515067, 0.7513998380294736, -0.36636501022202067, 0.4479585738911855, 0.01652610289102157, 1.4436301181798241, 1.198114629977769, -0.12417129548519844, -1.635490725015796, 0.9659152618319634, -0.22163192420780028, 0.13906379998407672, -0.5933198954392768, 0.09517724473066766, -0.6565492491460867, -0.7362795364472919, -0.4868621253603264, -1.0520977748564473, -2.4117622058518284, -2.131492724081454, 0.8115720023991889, -0.2685434009579712, -0.5963652446589135, 2.474124392200335, 0.06911688071229449, -1.1365645282692047, -0.7563200775798268, -0.8945050849648055, 0.8551433639677785, -0.18826810908634953, 1.4656718925668768, -0.056481576159804245, 0.982213228229109, 1.2540302807344708, 2.269188395378155, 0.5868297415228718, -1.3920972094032944, 0.2580819064645278, -0.5126588457434668, 0.8421125394269273, -0.7731775605236191, -2.401552932218778, -1.0766545233237557, -1.0115670858119716, 0.5303470084085685, -0.02356719985016988, -0.11813249614427222, 0.6296570442736785, -0.8320580612521427, -0.49955935500329185, -0.13027097894996809, -0.081474351975949, 0.27830415447931356, 1.218265733122561, 1.4955858477436832, -0.11999165184828173, -2.0658962422542575, -1.2836654857950553, -2.868162817942856, -2.363789031238105, -0.5279276194071908, -0.08225036746740437, -0.47129768728363813], \"xaxis\": \"x14\", \"y\": [-0.7025160410480839, 1.3109081667544578, -0.510361468081794, 0.14988146373890324, 1.6019418730762025, -0.349053248547214, -0.4166299933795874, -2.4680739874503113, 0.025067974485122674, -0.19871976026948518, 0.5953950686273765, 0.7511049301039473, 0.5720049651864383, -2.4835048163036797, 0.2109330444317143, 1.4767934570912753, -0.035966329295487084, -0.6810201187166933, -1.3957264827789182, 0.34492934974635153, -0.22948438014191513, 0.9944106854012644, 1.1245846524485843, 1.7267038383309876, 0.5044357665376124, -0.35664609529375235, -0.17181976879078467, -1.173535775728522, 0.06374348058106245, 0.7848220619723575, -0.2564503272297871, 1.8315920467331734, 2.032589934699792, 0.6513614616376907, -0.1424870213724532, 1.7632791185368706, 0.720715119660739, -1.7333097242317494, 0.1253668772189341, -0.6906249181043568, -0.5850487211742301, 0.7651300905830513, 0.12186453381870625, -0.4150343239864852, 0.660759717712707, 1.2753300935459693, -1.4496646904364807, 0.19710775617052026, -0.18528700914977536, 0.6884493145711821, 0.16201470238935398, -0.03200110632704644, -0.08702335075885158, 1.3271464353502238, -0.07768790979240572, -1.4135203973646147, -0.5787944728418192, 0.5022055952444596, 0.454460398888486, 0.49952080788698844, 1.3937837027809206, -0.22705333578165374, 1.7601645652112776, 1.1693672723203297, 0.006168973030320437, -1.2946412347695087, 0.9359192670481432, -0.34135313067712797, -0.8991078674578962, -1.4180420040265282, -0.3141498370012541, 1.3284588340190397, 0.43436365261630805, -0.06019913519325379, 0.7229731593151011, -0.059130641011031916, 0.18691418901314508, -0.579051175367635, 0.6863533149215727, 2.2073437656015202, 0.6189359844436157, -1.4371023486349348, 0.20509646795438427, 0.5351249753977271, 1.1588687922005507, -0.3865337149383086, 0.3199797712139598, -0.17461766180681795, -0.7182557946851779, 1.9110973156231161, -1.480052452610233, -1.0388907279053714, 1.9265638251231678, 0.6879312442723563, -0.5989968078733376, 2.010769856789577, 0.5928355998139698, -1.3997036184021738, -1.597976868291814, -0.7472119617588053], \"yaxis\": \"y14\"}, {\"line\": {\"color\": \"rgba(128, 128, 128, 1.0)\", \"dash\": \"solid\", \"shape\": \"linear\", \"width\": 1.3}, \"marker\": {\"size\": 2, \"symbol\": \"circle\"}, \"mode\": \"markers\", \"name\": \"D\", \"text\": \"\", \"type\": \"scatter\", \"x\": [-1.4915827436378635, -2.112020006549017, -0.8329924095346284, 1.7823209334611574, -0.7192814711428236, -0.5657555679446309, 0.29374616132364456, 1.6996285110354985, -0.41935449712171036, 1.8049666970050822, 0.9950818115963185, -0.3561521976707872, 0.35746595441843676, 0.16665249127587373, -0.30997250971580614, 1.320875064102547, -2.2275645560572377, -0.558859659944914, -0.3395427132529864, -0.6172227810131552, 0.5598324593996644, 2.3176340765173293, 1.3868298905679506, 0.7074025099455857, 0.9968354698286394, 0.5759027018023721, -1.1902446827365922, -0.566420905406603, -2.5787457879446936, 1.0448765267217333, 0.0575222219029565, 0.553843648368937, -0.5848856885732062, -0.9167844605684892, -0.4116034641618978, 0.3403504234759874, -0.09015529136674685, 0.9605253449617726, 0.41295230460834553, 0.17606893005627136, 0.1394835567699609, -0.24824526562589908, -0.31426882930239164, 0.690792933252245, -0.9878882957890283, -0.4735071596684798, 1.6512343595147854, 2.609770180786801, -0.7648625754422158, 0.0712398856157923, -0.5049747112309024, 0.4912486112813825, 0.9885021263519854, 0.7712407604431888, 0.1290524490715323, 0.04448892449874012, 0.37191418104278157, 0.5511476627085021, 0.2145247287208951, 0.6179232564946322, -0.21505308570241372, 0.11415534786549235, 0.49730667627105724, -1.3539767876323532, 1.5029693022889137, -0.8955210319309673, 1.5236031046781657, -0.5511762908172061, -0.48435904644665134, 0.06780795963216768, 0.10577749158140741, -0.7613594055094629, -0.0807678779419743, -1.100340014759591, 0.13473733868437426, -0.5554032514491901, -2.1040562904224527, 1.3785472966882482, 0.20358444370538267, 2.8953721028734596, 0.3130398408759578, 0.14002930904544209, -1.3728158956282914, -0.35819175282054805, 0.22958757977878763, -0.003913314093714403, -1.9865998428720206, -1.4995645715031976, -1.610787403627202, -0.7673634249080489, -0.3989395546614242, 2.6703375578543307, 1.790563716962692, -1.1414208367513043, 0.6848848569715895, 0.7269276441464714, -0.2956929541095785, -0.4582838725550537, -0.31906036078748545, -2.1211963434778136], \"xaxis\": \"x15\", \"y\": [-0.7025160410480839, 1.3109081667544578, -0.510361468081794, 0.14988146373890324, 1.6019418730762025, -0.349053248547214, -0.4166299933795874, -2.4680739874503113, 0.025067974485122674, -0.19871976026948518, 0.5953950686273765, 0.7511049301039473, 0.5720049651864383, -2.4835048163036797, 0.2109330444317143, 1.4767934570912753, -0.035966329295487084, -0.6810201187166933, -1.3957264827789182, 0.34492934974635153, -0.22948438014191513, 0.9944106854012644, 1.1245846524485843, 1.7267038383309876, 0.5044357665376124, -0.35664609529375235, -0.17181976879078467, -1.173535775728522, 0.06374348058106245, 0.7848220619723575, -0.2564503272297871, 1.8315920467331734, 2.032589934699792, 0.6513614616376907, -0.1424870213724532, 1.7632791185368706, 0.720715119660739, -1.7333097242317494, 0.1253668772189341, -0.6906249181043568, -0.5850487211742301, 0.7651300905830513, 0.12186453381870625, -0.4150343239864852, 0.660759717712707, 1.2753300935459693, -1.4496646904364807, 0.19710775617052026, -0.18528700914977536, 0.6884493145711821, 0.16201470238935398, -0.03200110632704644, -0.08702335075885158, 1.3271464353502238, -0.07768790979240572, -1.4135203973646147, -0.5787944728418192, 0.5022055952444596, 0.454460398888486, 0.49952080788698844, 1.3937837027809206, -0.22705333578165374, 1.7601645652112776, 1.1693672723203297, 0.006168973030320437, -1.2946412347695087, 0.9359192670481432, -0.34135313067712797, -0.8991078674578962, -1.4180420040265282, -0.3141498370012541, 1.3284588340190397, 0.43436365261630805, -0.06019913519325379, 0.7229731593151011, -0.059130641011031916, 0.18691418901314508, -0.579051175367635, 0.6863533149215727, 2.2073437656015202, 0.6189359844436157, -1.4371023486349348, 0.20509646795438427, 0.5351249753977271, 1.1588687922005507, -0.3865337149383086, 0.3199797712139598, -0.17461766180681795, -0.7182557946851779, 1.9110973156231161, -1.480052452610233, -1.0388907279053714, 1.9265638251231678, 0.6879312442723563, -0.5989968078733376, 2.010769856789577, 0.5928355998139698, -1.3997036184021738, -1.597976868291814, -0.7472119617588053], \"yaxis\": \"y15\"}, {\"histfunc\": \"count\", \"histnorm\": \"\", \"marker\": {\"color\": \"rgba(128, 0, 128, 1.0)\", \"line\": {\"color\": \"#4D5663\", \"width\": 1.3}}, \"name\": \"D\", \"nbinsx\": 10, \"opacity\": 0.8, \"orientation\": \"v\", \"type\": \"histogram\", \"x\": [-0.7025160410480839, 1.3109081667544578, -0.510361468081794, 0.14988146373890324, 1.6019418730762025, -0.349053248547214, -0.4166299933795874, -2.4680739874503113, 0.025067974485122674, -0.19871976026948518, 0.5953950686273765, 0.7511049301039473, 0.5720049651864383, -2.4835048163036797, 0.2109330444317143, 1.4767934570912753, -0.035966329295487084, -0.6810201187166933, -1.3957264827789182, 0.34492934974635153, -0.22948438014191513, 0.9944106854012644, 1.1245846524485843, 1.7267038383309876, 0.5044357665376124, -0.35664609529375235, -0.17181976879078467, -1.173535775728522, 0.06374348058106245, 0.7848220619723575, -0.2564503272297871, 1.8315920467331734, 2.032589934699792, 0.6513614616376907, -0.1424870213724532, 1.7632791185368706, 0.720715119660739, -1.7333097242317494, 0.1253668772189341, -0.6906249181043568, -0.5850487211742301, 0.7651300905830513, 0.12186453381870625, -0.4150343239864852, 0.660759717712707, 1.2753300935459693, -1.4496646904364807, 0.19710775617052026, -0.18528700914977536, 0.6884493145711821, 0.16201470238935398, -0.03200110632704644, -0.08702335075885158, 1.3271464353502238, -0.07768790979240572, -1.4135203973646147, -0.5787944728418192, 0.5022055952444596, 0.454460398888486, 0.49952080788698844, 1.3937837027809206, -0.22705333578165374, 1.7601645652112776, 1.1693672723203297, 0.006168973030320437, -1.2946412347695087, 0.9359192670481432, -0.34135313067712797, -0.8991078674578962, -1.4180420040265282, -0.3141498370012541, 1.3284588340190397, 0.43436365261630805, -0.06019913519325379, 0.7229731593151011, -0.059130641011031916, 0.18691418901314508, -0.579051175367635, 0.6863533149215727, 2.2073437656015202, 0.6189359844436157, -1.4371023486349348, 0.20509646795438427, 0.5351249753977271, 1.1588687922005507, -0.3865337149383086, 0.3199797712139598, -0.17461766180681795, -0.7182557946851779, 1.9110973156231161, -1.480052452610233, -1.0388907279053714, 1.9265638251231678, 0.6879312442723563, -0.5989968078733376, 2.010769856789577, 0.5928355998139698, -1.3997036184021738, -1.597976868291814, -0.7472119617588053], \"xaxis\": \"x16\", \"yaxis\": \"y16\"}],\n",
       "                        {\"bargap\": 0.02, \"legend\": {\"bgcolor\": \"#F5F6F9\", \"font\": {\"color\": \"#4D5663\"}}, \"paper_bgcolor\": \"#F5F6F9\", \"plot_bgcolor\": \"#F5F6F9\", \"showlegend\": false, \"template\": {\"data\": {\"bar\": [{\"error_x\": {\"color\": \"#2a3f5f\"}, \"error_y\": {\"color\": \"#2a3f5f\"}, \"marker\": {\"line\": {\"color\": \"#E5ECF6\", \"width\": 0.5}}, \"type\": \"bar\"}], \"barpolar\": [{\"marker\": {\"line\": {\"color\": \"#E5ECF6\", \"width\": 0.5}}, \"type\": \"barpolar\"}], \"carpet\": [{\"aaxis\": {\"endlinecolor\": \"#2a3f5f\", \"gridcolor\": \"white\", \"linecolor\": \"white\", \"minorgridcolor\": \"white\", \"startlinecolor\": \"#2a3f5f\"}, \"baxis\": {\"endlinecolor\": \"#2a3f5f\", \"gridcolor\": \"white\", \"linecolor\": \"white\", \"minorgridcolor\": \"white\", \"startlinecolor\": \"#2a3f5f\"}, \"type\": \"carpet\"}], \"choropleth\": [{\"colorbar\": {\"outlinewidth\": 0, \"ticks\": \"\"}, \"type\": \"choropleth\"}], \"contour\": [{\"colorbar\": {\"outlinewidth\": 0, \"ticks\": \"\"}, \"colorscale\": [[0.0, \"#0d0887\"], [0.1111111111111111, \"#46039f\"], [0.2222222222222222, \"#7201a8\"], [0.3333333333333333, \"#9c179e\"], [0.4444444444444444, \"#bd3786\"], [0.5555555555555556, \"#d8576b\"], [0.6666666666666666, \"#ed7953\"], [0.7777777777777778, \"#fb9f3a\"], [0.8888888888888888, \"#fdca26\"], [1.0, \"#f0f921\"]], \"type\": \"contour\"}], \"contourcarpet\": [{\"colorbar\": {\"outlinewidth\": 0, \"ticks\": \"\"}, \"type\": \"contourcarpet\"}], \"heatmap\": [{\"colorbar\": {\"outlinewidth\": 0, \"ticks\": \"\"}, \"colorscale\": [[0.0, \"#0d0887\"], [0.1111111111111111, \"#46039f\"], [0.2222222222222222, \"#7201a8\"], [0.3333333333333333, \"#9c179e\"], [0.4444444444444444, \"#bd3786\"], [0.5555555555555556, \"#d8576b\"], [0.6666666666666666, \"#ed7953\"], [0.7777777777777778, \"#fb9f3a\"], [0.8888888888888888, \"#fdca26\"], [1.0, \"#f0f921\"]], \"type\": \"heatmap\"}], \"heatmapgl\": [{\"colorbar\": {\"outlinewidth\": 0, \"ticks\": \"\"}, \"colorscale\": [[0.0, \"#0d0887\"], [0.1111111111111111, \"#46039f\"], [0.2222222222222222, \"#7201a8\"], [0.3333333333333333, \"#9c179e\"], [0.4444444444444444, \"#bd3786\"], [0.5555555555555556, \"#d8576b\"], [0.6666666666666666, \"#ed7953\"], [0.7777777777777778, \"#fb9f3a\"], [0.8888888888888888, \"#fdca26\"], [1.0, \"#f0f921\"]], \"type\": \"heatmapgl\"}], \"histogram\": [{\"marker\": {\"colorbar\": {\"outlinewidth\": 0, \"ticks\": \"\"}}, \"type\": \"histogram\"}], \"histogram2d\": [{\"colorbar\": {\"outlinewidth\": 0, \"ticks\": \"\"}, \"colorscale\": [[0.0, \"#0d0887\"], [0.1111111111111111, \"#46039f\"], [0.2222222222222222, \"#7201a8\"], [0.3333333333333333, \"#9c179e\"], [0.4444444444444444, \"#bd3786\"], [0.5555555555555556, \"#d8576b\"], [0.6666666666666666, \"#ed7953\"], [0.7777777777777778, \"#fb9f3a\"], [0.8888888888888888, \"#fdca26\"], [1.0, \"#f0f921\"]], \"type\": \"histogram2d\"}], \"histogram2dcontour\": [{\"colorbar\": {\"outlinewidth\": 0, \"ticks\": \"\"}, \"colorscale\": [[0.0, \"#0d0887\"], [0.1111111111111111, \"#46039f\"], [0.2222222222222222, \"#7201a8\"], [0.3333333333333333, \"#9c179e\"], [0.4444444444444444, \"#bd3786\"], [0.5555555555555556, \"#d8576b\"], [0.6666666666666666, \"#ed7953\"], [0.7777777777777778, \"#fb9f3a\"], [0.8888888888888888, \"#fdca26\"], [1.0, \"#f0f921\"]], \"type\": \"histogram2dcontour\"}], \"mesh3d\": [{\"colorbar\": {\"outlinewidth\": 0, \"ticks\": \"\"}, \"type\": \"mesh3d\"}], \"parcoords\": [{\"line\": {\"colorbar\": {\"outlinewidth\": 0, \"ticks\": \"\"}}, \"type\": \"parcoords\"}], \"scatter\": [{\"marker\": {\"colorbar\": {\"outlinewidth\": 0, \"ticks\": \"\"}}, \"type\": \"scatter\"}], \"scatter3d\": [{\"line\": {\"colorbar\": {\"outlinewidth\": 0, \"ticks\": \"\"}}, \"marker\": {\"colorbar\": {\"outlinewidth\": 0, \"ticks\": \"\"}}, \"type\": \"scatter3d\"}], \"scattercarpet\": [{\"marker\": {\"colorbar\": {\"outlinewidth\": 0, \"ticks\": \"\"}}, \"type\": \"scattercarpet\"}], \"scattergeo\": [{\"marker\": {\"colorbar\": {\"outlinewidth\": 0, \"ticks\": \"\"}}, \"type\": \"scattergeo\"}], \"scattergl\": [{\"marker\": {\"colorbar\": {\"outlinewidth\": 0, \"ticks\": \"\"}}, \"type\": \"scattergl\"}], \"scattermapbox\": [{\"marker\": {\"colorbar\": {\"outlinewidth\": 0, \"ticks\": \"\"}}, \"type\": \"scattermapbox\"}], \"scatterpolar\": [{\"marker\": {\"colorbar\": {\"outlinewidth\": 0, \"ticks\": \"\"}}, \"type\": \"scatterpolar\"}], \"scatterpolargl\": [{\"marker\": {\"colorbar\": {\"outlinewidth\": 0, \"ticks\": \"\"}}, \"type\": \"scatterpolargl\"}], \"scatterternary\": [{\"marker\": {\"colorbar\": {\"outlinewidth\": 0, \"ticks\": \"\"}}, \"type\": \"scatterternary\"}], \"surface\": [{\"colorbar\": {\"outlinewidth\": 0, \"ticks\": \"\"}, \"colorscale\": [[0.0, \"#0d0887\"], [0.1111111111111111, \"#46039f\"], [0.2222222222222222, \"#7201a8\"], [0.3333333333333333, \"#9c179e\"], [0.4444444444444444, \"#bd3786\"], [0.5555555555555556, \"#d8576b\"], [0.6666666666666666, \"#ed7953\"], [0.7777777777777778, \"#fb9f3a\"], [0.8888888888888888, \"#fdca26\"], [1.0, \"#f0f921\"]], \"type\": \"surface\"}], \"table\": [{\"cells\": {\"fill\": {\"color\": \"#EBF0F8\"}, \"line\": {\"color\": \"white\"}}, \"header\": {\"fill\": {\"color\": \"#C8D4E3\"}, \"line\": {\"color\": \"white\"}}, \"type\": \"table\"}]}, \"layout\": {\"annotationdefaults\": {\"arrowcolor\": \"#2a3f5f\", \"arrowhead\": 0, \"arrowwidth\": 1}, \"colorscale\": {\"diverging\": [[0, \"#8e0152\"], [0.1, \"#c51b7d\"], [0.2, \"#de77ae\"], [0.3, \"#f1b6da\"], [0.4, \"#fde0ef\"], [0.5, \"#f7f7f7\"], [0.6, \"#e6f5d0\"], [0.7, \"#b8e186\"], [0.8, \"#7fbc41\"], [0.9, \"#4d9221\"], [1, \"#276419\"]], \"sequential\": [[0.0, \"#0d0887\"], [0.1111111111111111, \"#46039f\"], [0.2222222222222222, \"#7201a8\"], [0.3333333333333333, \"#9c179e\"], [0.4444444444444444, \"#bd3786\"], [0.5555555555555556, \"#d8576b\"], [0.6666666666666666, \"#ed7953\"], [0.7777777777777778, \"#fb9f3a\"], [0.8888888888888888, \"#fdca26\"], [1.0, \"#f0f921\"]], \"sequentialminus\": [[0.0, \"#0d0887\"], [0.1111111111111111, \"#46039f\"], [0.2222222222222222, \"#7201a8\"], [0.3333333333333333, \"#9c179e\"], [0.4444444444444444, \"#bd3786\"], [0.5555555555555556, \"#d8576b\"], [0.6666666666666666, \"#ed7953\"], [0.7777777777777778, \"#fb9f3a\"], [0.8888888888888888, \"#fdca26\"], [1.0, \"#f0f921\"]]}, \"colorway\": [\"#636efa\", \"#EF553B\", \"#00cc96\", \"#ab63fa\", \"#FFA15A\", \"#19d3f3\", \"#FF6692\", \"#B6E880\", \"#FF97FF\", \"#FECB52\"], \"font\": {\"color\": \"#2a3f5f\"}, \"geo\": {\"bgcolor\": \"white\", \"lakecolor\": \"white\", \"landcolor\": \"#E5ECF6\", \"showlakes\": true, \"showland\": true, \"subunitcolor\": \"white\"}, \"hoverlabel\": {\"align\": \"left\"}, \"hovermode\": \"closest\", \"mapbox\": {\"style\": \"light\"}, \"paper_bgcolor\": \"white\", \"plot_bgcolor\": \"#E5ECF6\", \"polar\": {\"angularaxis\": {\"gridcolor\": \"white\", \"linecolor\": \"white\", \"ticks\": \"\"}, \"bgcolor\": \"#E5ECF6\", \"radialaxis\": {\"gridcolor\": \"white\", \"linecolor\": \"white\", \"ticks\": \"\"}}, \"scene\": {\"xaxis\": {\"backgroundcolor\": \"#E5ECF6\", \"gridcolor\": \"white\", \"gridwidth\": 2, \"linecolor\": \"white\", \"showbackground\": true, \"ticks\": \"\", \"zerolinecolor\": \"white\"}, \"yaxis\": {\"backgroundcolor\": \"#E5ECF6\", \"gridcolor\": \"white\", \"gridwidth\": 2, \"linecolor\": \"white\", \"showbackground\": true, \"ticks\": \"\", \"zerolinecolor\": \"white\"}, \"zaxis\": {\"backgroundcolor\": \"#E5ECF6\", \"gridcolor\": \"white\", \"gridwidth\": 2, \"linecolor\": \"white\", \"showbackground\": true, \"ticks\": \"\", \"zerolinecolor\": \"white\"}}, \"shapedefaults\": {\"line\": {\"color\": \"#2a3f5f\"}}, \"ternary\": {\"aaxis\": {\"gridcolor\": \"white\", \"linecolor\": \"white\", \"ticks\": \"\"}, \"baxis\": {\"gridcolor\": \"white\", \"linecolor\": \"white\", \"ticks\": \"\"}, \"bgcolor\": \"#E5ECF6\", \"caxis\": {\"gridcolor\": \"white\", \"linecolor\": \"white\", \"ticks\": \"\"}}, \"title\": {\"x\": 0.05}, \"xaxis\": {\"automargin\": true, \"gridcolor\": \"white\", \"linecolor\": \"white\", \"ticks\": \"\", \"zerolinecolor\": \"white\", \"zerolinewidth\": 2}, \"yaxis\": {\"automargin\": true, \"gridcolor\": \"white\", \"linecolor\": \"white\", \"ticks\": \"\", \"zerolinecolor\": \"white\", \"zerolinewidth\": 2}}}, \"title\": {\"font\": {\"color\": \"#4D5663\"}}, \"xaxis\": {\"anchor\": \"y\", \"domain\": [0.0, 0.2125], \"gridcolor\": \"#E1E5ED\", \"showgrid\": false, \"tickfont\": {\"color\": \"#4D5663\"}, \"title\": {\"font\": {\"color\": \"#4D5663\"}, \"text\": \"\"}, \"zerolinecolor\": \"#E1E5ED\"}, \"xaxis10\": {\"anchor\": \"y10\", \"domain\": [0.2625, 0.475], \"gridcolor\": \"#E1E5ED\", \"showgrid\": false, \"tickfont\": {\"color\": \"#4D5663\"}, \"title\": {\"font\": {\"color\": \"#4D5663\"}, \"text\": \"\"}, \"zerolinecolor\": \"#E1E5ED\"}, \"xaxis11\": {\"anchor\": \"y11\", \"domain\": [0.525, 0.7375], \"gridcolor\": \"#E1E5ED\", \"showgrid\": false, \"tickfont\": {\"color\": \"#4D5663\"}, \"title\": {\"font\": {\"color\": \"#4D5663\"}, \"text\": \"\"}, \"zerolinecolor\": \"#E1E5ED\"}, \"xaxis12\": {\"anchor\": \"y12\", \"domain\": [0.7875, 1.0], \"gridcolor\": \"#E1E5ED\", \"showgrid\": false, \"tickfont\": {\"color\": \"#4D5663\"}, \"title\": {\"font\": {\"color\": \"#4D5663\"}, \"text\": \"\"}, \"zerolinecolor\": \"#E1E5ED\"}, \"xaxis13\": {\"anchor\": \"y13\", \"domain\": [0.0, 0.2125], \"gridcolor\": \"#E1E5ED\", \"showgrid\": false, \"tickfont\": {\"color\": \"#4D5663\"}, \"title\": {\"font\": {\"color\": \"#4D5663\"}, \"text\": \"\"}, \"zerolinecolor\": \"#E1E5ED\"}, \"xaxis14\": {\"anchor\": \"y14\", \"domain\": [0.2625, 0.475], \"gridcolor\": \"#E1E5ED\", \"showgrid\": false, \"tickfont\": {\"color\": \"#4D5663\"}, \"title\": {\"font\": {\"color\": \"#4D5663\"}, \"text\": \"\"}, \"zerolinecolor\": \"#E1E5ED\"}, \"xaxis15\": {\"anchor\": \"y15\", \"domain\": [0.525, 0.7375], \"gridcolor\": \"#E1E5ED\", \"showgrid\": false, \"tickfont\": {\"color\": \"#4D5663\"}, \"title\": {\"font\": {\"color\": \"#4D5663\"}, \"text\": \"\"}, \"zerolinecolor\": \"#E1E5ED\"}, \"xaxis16\": {\"anchor\": \"y16\", \"domain\": [0.7875, 1.0], \"gridcolor\": \"#E1E5ED\", \"showgrid\": false, \"tickfont\": {\"color\": \"#4D5663\"}, \"title\": {\"font\": {\"color\": \"#4D5663\"}, \"text\": \"\"}, \"zerolinecolor\": \"#E1E5ED\"}, \"xaxis2\": {\"anchor\": \"y2\", \"domain\": [0.2625, 0.475], \"gridcolor\": \"#E1E5ED\", \"showgrid\": false, \"tickfont\": {\"color\": \"#4D5663\"}, \"title\": {\"font\": {\"color\": \"#4D5663\"}, \"text\": \"\"}, \"zerolinecolor\": \"#E1E5ED\"}, \"xaxis3\": {\"anchor\": \"y3\", \"domain\": [0.525, 0.7375], \"gridcolor\": \"#E1E5ED\", \"showgrid\": false, \"tickfont\": {\"color\": \"#4D5663\"}, \"title\": {\"font\": {\"color\": \"#4D5663\"}, \"text\": \"\"}, \"zerolinecolor\": \"#E1E5ED\"}, \"xaxis4\": {\"anchor\": \"y4\", \"domain\": [0.7875, 1.0], \"gridcolor\": \"#E1E5ED\", \"showgrid\": false, \"tickfont\": {\"color\": \"#4D5663\"}, \"title\": {\"font\": {\"color\": \"#4D5663\"}, \"text\": \"\"}, \"zerolinecolor\": \"#E1E5ED\"}, \"xaxis5\": {\"anchor\": \"y5\", \"domain\": [0.0, 0.2125], \"gridcolor\": \"#E1E5ED\", \"showgrid\": false, \"tickfont\": {\"color\": \"#4D5663\"}, \"title\": {\"font\": {\"color\": \"#4D5663\"}, \"text\": \"\"}, \"zerolinecolor\": \"#E1E5ED\"}, \"xaxis6\": {\"anchor\": \"y6\", \"domain\": [0.2625, 0.475], \"gridcolor\": \"#E1E5ED\", \"showgrid\": false, \"tickfont\": {\"color\": \"#4D5663\"}, \"title\": {\"font\": {\"color\": \"#4D5663\"}, \"text\": \"\"}, \"zerolinecolor\": \"#E1E5ED\"}, \"xaxis7\": {\"anchor\": \"y7\", \"domain\": [0.525, 0.7375], \"gridcolor\": \"#E1E5ED\", \"showgrid\": false, \"tickfont\": {\"color\": \"#4D5663\"}, \"title\": {\"font\": {\"color\": \"#4D5663\"}, \"text\": \"\"}, \"zerolinecolor\": \"#E1E5ED\"}, \"xaxis8\": {\"anchor\": \"y8\", \"domain\": [0.7875, 1.0], \"gridcolor\": \"#E1E5ED\", \"showgrid\": false, \"tickfont\": {\"color\": \"#4D5663\"}, \"title\": {\"font\": {\"color\": \"#4D5663\"}, \"text\": \"\"}, \"zerolinecolor\": \"#E1E5ED\"}, \"xaxis9\": {\"anchor\": \"y9\", \"domain\": [0.0, 0.2125], \"gridcolor\": \"#E1E5ED\", \"showgrid\": false, \"tickfont\": {\"color\": \"#4D5663\"}, \"title\": {\"font\": {\"color\": \"#4D5663\"}, \"text\": \"\"}, \"zerolinecolor\": \"#E1E5ED\"}, \"yaxis\": {\"anchor\": \"x\", \"domain\": [0.8025, 1.0], \"gridcolor\": \"#E1E5ED\", \"showgrid\": false, \"tickfont\": {\"color\": \"#4D5663\"}, \"title\": {\"font\": {\"color\": \"#4D5663\"}, \"text\": \"\"}, \"zerolinecolor\": \"#E1E5ED\"}, \"yaxis10\": {\"anchor\": \"x10\", \"domain\": [0.2675, 0.465], \"gridcolor\": \"#E1E5ED\", \"showgrid\": false, \"tickfont\": {\"color\": \"#4D5663\"}, \"title\": {\"font\": {\"color\": \"#4D5663\"}, \"text\": \"\"}, \"zerolinecolor\": \"#E1E5ED\"}, \"yaxis11\": {\"anchor\": \"x11\", \"domain\": [0.2675, 0.465], \"gridcolor\": \"#E1E5ED\", \"showgrid\": false, \"tickfont\": {\"color\": \"#4D5663\"}, \"title\": {\"font\": {\"color\": \"#4D5663\"}, \"text\": \"\"}, \"zerolinecolor\": \"#E1E5ED\"}, \"yaxis12\": {\"anchor\": \"x12\", \"domain\": [0.2675, 0.465], \"gridcolor\": \"#E1E5ED\", \"showgrid\": false, \"tickfont\": {\"color\": \"#4D5663\"}, \"title\": {\"font\": {\"color\": \"#4D5663\"}, \"text\": \"\"}, \"zerolinecolor\": \"#E1E5ED\"}, \"yaxis13\": {\"anchor\": \"x13\", \"domain\": [0.0, 0.1975], \"gridcolor\": \"#E1E5ED\", \"showgrid\": false, \"tickfont\": {\"color\": \"#4D5663\"}, \"title\": {\"font\": {\"color\": \"#4D5663\"}, \"text\": \"\"}, \"zerolinecolor\": \"#E1E5ED\"}, \"yaxis14\": {\"anchor\": \"x14\", \"domain\": [0.0, 0.1975], \"gridcolor\": \"#E1E5ED\", \"showgrid\": false, \"tickfont\": {\"color\": \"#4D5663\"}, \"title\": {\"font\": {\"color\": \"#4D5663\"}, \"text\": \"\"}, \"zerolinecolor\": \"#E1E5ED\"}, \"yaxis15\": {\"anchor\": \"x15\", \"domain\": [0.0, 0.1975], \"gridcolor\": \"#E1E5ED\", \"showgrid\": false, \"tickfont\": {\"color\": \"#4D5663\"}, \"title\": {\"font\": {\"color\": \"#4D5663\"}, \"text\": \"\"}, \"zerolinecolor\": \"#E1E5ED\"}, \"yaxis16\": {\"anchor\": \"x16\", \"domain\": [0.0, 0.1975], \"gridcolor\": \"#E1E5ED\", \"showgrid\": false, \"tickfont\": {\"color\": \"#4D5663\"}, \"title\": {\"font\": {\"color\": \"#4D5663\"}, \"text\": \"\"}, \"zerolinecolor\": \"#E1E5ED\"}, \"yaxis2\": {\"anchor\": \"x2\", \"domain\": [0.8025, 1.0], \"gridcolor\": \"#E1E5ED\", \"showgrid\": false, \"tickfont\": {\"color\": \"#4D5663\"}, \"title\": {\"font\": {\"color\": \"#4D5663\"}, \"text\": \"\"}, \"zerolinecolor\": \"#E1E5ED\"}, \"yaxis3\": {\"anchor\": \"x3\", \"domain\": [0.8025, 1.0], \"gridcolor\": \"#E1E5ED\", \"showgrid\": false, \"tickfont\": {\"color\": \"#4D5663\"}, \"title\": {\"font\": {\"color\": \"#4D5663\"}, \"text\": \"\"}, \"zerolinecolor\": \"#E1E5ED\"}, \"yaxis4\": {\"anchor\": \"x4\", \"domain\": [0.8025, 1.0], \"gridcolor\": \"#E1E5ED\", \"showgrid\": false, \"tickfont\": {\"color\": \"#4D5663\"}, \"title\": {\"font\": {\"color\": \"#4D5663\"}, \"text\": \"\"}, \"zerolinecolor\": \"#E1E5ED\"}, \"yaxis5\": {\"anchor\": \"x5\", \"domain\": [0.535, 0.7325], \"gridcolor\": \"#E1E5ED\", \"showgrid\": false, \"tickfont\": {\"color\": \"#4D5663\"}, \"title\": {\"font\": {\"color\": \"#4D5663\"}, \"text\": \"\"}, \"zerolinecolor\": \"#E1E5ED\"}, \"yaxis6\": {\"anchor\": \"x6\", \"domain\": [0.535, 0.7325], \"gridcolor\": \"#E1E5ED\", \"showgrid\": false, \"tickfont\": {\"color\": \"#4D5663\"}, \"title\": {\"font\": {\"color\": \"#4D5663\"}, \"text\": \"\"}, \"zerolinecolor\": \"#E1E5ED\"}, \"yaxis7\": {\"anchor\": \"x7\", \"domain\": [0.535, 0.7325], \"gridcolor\": \"#E1E5ED\", \"showgrid\": false, \"tickfont\": {\"color\": \"#4D5663\"}, \"title\": {\"font\": {\"color\": \"#4D5663\"}, \"text\": \"\"}, \"zerolinecolor\": \"#E1E5ED\"}, \"yaxis8\": {\"anchor\": \"x8\", \"domain\": [0.535, 0.7325], \"gridcolor\": \"#E1E5ED\", \"showgrid\": false, \"tickfont\": {\"color\": \"#4D5663\"}, \"title\": {\"font\": {\"color\": \"#4D5663\"}, \"text\": \"\"}, \"zerolinecolor\": \"#E1E5ED\"}, \"yaxis9\": {\"anchor\": \"x9\", \"domain\": [0.2675, 0.465], \"gridcolor\": \"#E1E5ED\", \"showgrid\": false, \"tickfont\": {\"color\": \"#4D5663\"}, \"title\": {\"font\": {\"color\": \"#4D5663\"}, \"text\": \"\"}, \"zerolinecolor\": \"#E1E5ED\"}},\n",
       "                        {\"showLink\": true, \"linkText\": \"Export to plot.ly\", \"plotlyServerURL\": \"https://plot.ly\", \"responsive\": true}\n",
       "                    ).then(function(){\n",
       "                            \n",
       "var gd = document.getElementById('4b14f93a-d367-4e1e-b3e7-f2c76712ff61');\n",
       "var x = new MutationObserver(function (mutations, observer) {{\n",
       "        var display = window.getComputedStyle(gd).display;\n",
       "        if (!display || display === 'none') {{\n",
       "            console.log([gd, 'removed!']);\n",
       "            Plotly.purge(gd);\n",
       "            observer.disconnect();\n",
       "        }}\n",
       "}});\n",
       "\n",
       "// Listen for the removal of the full notebook cells\n",
       "var notebookContainer = gd.closest('#notebook-container');\n",
       "if (notebookContainer) {{\n",
       "    x.observe(notebookContainer, {childList: true});\n",
       "}}\n",
       "\n",
       "// Listen for the clearing of the current output cell\n",
       "var outputEl = gd.closest('.output');\n",
       "if (outputEl) {{\n",
       "    x.observe(outputEl, {childList: true});\n",
       "}}\n",
       "\n",
       "                        })\n",
       "                };\n",
       "                });\n",
       "            </script>\n",
       "        </div>"
      ]
     },
     "metadata": {},
     "output_type": "display_data"
    }
   ],
   "source": [
    "## Ex.9 Scatter Matrix -> Very similar to seaborn's pairplot -> Creates a scatter matrix of all the numerical columns\n",
    "                    ##  there are. Be careful when using very large datasets -> May crash the Python Kernel\n",
    "\n",
    "df.scatter_matrix()"
   ]
  },
  {
   "cell_type": "code",
   "execution_count": 26,
   "metadata": {},
   "outputs": [],
   "source": [
    "### More details in the cufflinks github page \n",
    "\n",
    "## Technical analysis capability available on cufflinks -> Used for financial analysis  "
   ]
  }
 ],
 "metadata": {
  "kernelspec": {
   "display_name": "Python 3",
   "language": "python",
   "name": "python3"
  },
  "language_info": {
   "codemirror_mode": {
    "name": "ipython",
    "version": 3
   },
   "file_extension": ".py",
   "mimetype": "text/x-python",
   "name": "python",
   "nbconvert_exporter": "python",
   "pygments_lexer": "ipython3",
   "version": "3.7.3"
  }
 },
 "nbformat": 4,
 "nbformat_minor": 2
}
