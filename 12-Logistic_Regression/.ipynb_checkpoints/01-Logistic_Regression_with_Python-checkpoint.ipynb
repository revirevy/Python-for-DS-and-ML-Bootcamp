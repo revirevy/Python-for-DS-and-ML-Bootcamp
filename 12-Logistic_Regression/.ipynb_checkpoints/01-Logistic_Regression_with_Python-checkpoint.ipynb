{
 "cells": [
  {
   "cell_type": "markdown",
   "metadata": {},
   "source": [
    "# Section 17: Python for Machine Learning: Logistic Regression "
   ]
  },
  {
   "cell_type": "markdown",
   "metadata": {},
   "source": [
    "### Logistic Regression Theory"
   ]
  },
  {
   "cell_type": "code",
   "execution_count": 1,
   "metadata": {},
   "outputs": [],
   "source": [
    "## We want to learn about Logistic Regression as a method for Classification - The goal of classification is to \n",
    "## determine to which category a set of new observations belongs to.\n",
    "\n",
    "## Some examples of classification problems: \n",
    "## 1 - Spam vs. 'Ham' problems \n",
    "## 2 - Loan Default (Yes/No)\n",
    "## 3 - Disease Diagnosis -Has cancer or not? \n",
    "\n",
    "## All of the above examples are of Binary Classification - We have two classes. \n",
    "\n",
    "## ------------------------------------\n",
    "\n",
    "## So far we've only seen Regression problems where we try to predict a continious value \n",
    "## Logitic Regression -> Allows us to solve classification problems -> We try to predict discrete categories. \n",
    "## Convention for binary classification -> We have two classes 0 and 1 \n",
    "\n",
    "## ------------------------------------\n",
    "\n",
    "## Linear Regression -> Bad fit when we have discrete categories -> Instead use a LR or Sigmoid hypotesis to \n",
    "## perform classification. \n",
    "\n",
    "\n",
    "## ------------------------------------\n",
    "\n",
    "## Evaluating Classification models -> We can use a confusion matrix to evaluate/visualize classification models. "
   ]
  },
  {
   "cell_type": "markdown",
   "metadata": {},
   "source": [
    "### Logistic Regression with Python "
   ]
  },
  {
   "cell_type": "code",
   "execution_count": null,
   "metadata": {},
   "outputs": [],
   "source": [
    "## We are going to be using the Titanic Dataset, we are going to tackle the following Classification problem: \n",
    "\n",
    "## Predict whether a passenger of the Titanic will survive or die (1/0) based on their features. \n",
    "## We are going to be using a semi-clean Titanic Dataset. \n",
    "\n",
    "## Kaggle -> Dataset hosting website -> We will obtain the data from here: Titanic: Machine Learning from Disaster \n",
    "\n"
   ]
  }
 ],
 "metadata": {
  "kernelspec": {
   "display_name": "Python 3",
   "language": "python",
   "name": "python3"
  },
  "language_info": {
   "codemirror_mode": {
    "name": "ipython",
    "version": 3
   },
   "file_extension": ".py",
   "mimetype": "text/x-python",
   "name": "python",
   "nbconvert_exporter": "python",
   "pygments_lexer": "ipython3",
   "version": "3.7.3"
  }
 },
 "nbformat": 4,
 "nbformat_minor": 2
}
