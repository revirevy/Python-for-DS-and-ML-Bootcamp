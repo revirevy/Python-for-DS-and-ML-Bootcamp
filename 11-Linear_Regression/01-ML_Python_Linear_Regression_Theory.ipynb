{
 "cells": [
  {
   "cell_type": "markdown",
   "metadata": {},
   "source": [
    "# Section 15: Python for Machine Learning: Linear Regression"
   ]
  },
  {
   "cell_type": "markdown",
   "metadata": {},
   "source": [
    "# 00 -Machine Learning with Python and Scikit-Learn"
   ]
  },
  {
   "cell_type": "code",
   "execution_count": 32,
   "metadata": {},
   "outputs": [],
   "source": [
    "# - We are going to be using the Sckikit-Learn Package -> Already has many algorithms built in \n",
    "# - Install with conda install scikit-learn\n",
    "\n",
    "# Every algorithm in scikit-learn is exposed through an estimator \n",
    "\n",
    "# First we import the model with the following general form: \n",
    "# from sklearn.family import Model\n",
    "\n",
    "##e.g. "
   ]
  },
  {
   "cell_type": "code",
   "execution_count": 33,
   "metadata": {},
   "outputs": [
    {
     "name": "stdout",
     "output_type": "stream",
     "text": [
      "LinearRegression(copy_X=True, fit_intercept=True, n_jobs=None, normalize=True)\n"
     ]
    }
   ],
   "source": [
    "from sklearn.linear_model import LinearRegression ## Linear Regression -> Estimator object\n",
    "                                                  ## linear_model -> Family of models \n",
    "    \n",
    "## Estimator parameters \n",
    "## -All the parameters of an estimator can be set when it is instantiated, and have suitable default values. \n",
    "## -Values can be explored with the shortcut shift+tab in jupyter \n",
    "\n",
    "## Example \n",
    "\n",
    "model = LinearRegression(normalize = True) ##normalize is a parameter than can be specified \n",
    "\n",
    "## Lets check the model\n",
    "print(model)"
   ]
  },
  {
   "cell_type": "code",
   "execution_count": 38,
   "metadata": {},
   "outputs": [
    {
     "name": "stdout",
     "output_type": "stream",
     "text": [
      "[[0 1]\n",
      " [2 3]\n",
      " [4 5]\n",
      " [6 7]\n",
      " [8 9]]\n",
      "range(0, 5)\n"
     ]
    }
   ],
   "source": [
    "## Once we have a model created with some parameters, its time to fit our model on some data! \n",
    "## Remember -> It is recommended to split this data into a test and training set \n",
    "\n",
    "##Example with some fake data:\n",
    "import numpy as np\n",
    "from sklearn.model_selection import train_test_split\n",
    "\n",
    "X,y = np.arange(10).reshape((5,2)), range(5) ##X is our data and y is our label vector for each row of features \n",
    "print(X)\n",
    "print(y)\n",
    "\n",
    "##Lets split this data into a train and test sets: \n",
    "X_train, X_test, y_train, y_test = train_test_split(X, y, test_size = 0.3)"
   ]
  },
  {
   "cell_type": "code",
   "execution_count": 39,
   "metadata": {},
   "outputs": [
    {
     "data": {
      "text/plain": [
       "array([[4, 5],\n",
       "       [6, 7],\n",
       "       [0, 1]])"
      ]
     },
     "execution_count": 39,
     "metadata": {},
     "output_type": "execute_result"
    }
   ],
   "source": [
    "X_train  ##Features for training data"
   ]
  },
  {
   "cell_type": "code",
   "execution_count": 40,
   "metadata": {},
   "outputs": [
    {
     "data": {
      "text/plain": [
       "array([[8, 9],\n",
       "       [2, 3]])"
      ]
     },
     "execution_count": 40,
     "metadata": {},
     "output_type": "execute_result"
    }
   ],
   "source": [
    "X_test  ##Features for test data"
   ]
  },
  {
   "cell_type": "code",
   "execution_count": 41,
   "metadata": {},
   "outputs": [
    {
     "data": {
      "text/plain": [
       "[2, 3, 0]"
      ]
     },
     "execution_count": 41,
     "metadata": {},
     "output_type": "execute_result"
    }
   ],
   "source": [
    "y_train ##Labels for training data"
   ]
  },
  {
   "cell_type": "code",
   "execution_count": 42,
   "metadata": {},
   "outputs": [
    {
     "data": {
      "text/plain": [
       "[4, 1]"
      ]
     },
     "execution_count": 42,
     "metadata": {},
     "output_type": "execute_result"
    }
   ],
   "source": [
    "y_test ##Labels for test data "
   ]
  },
  {
   "cell_type": "code",
   "execution_count": null,
   "metadata": {},
   "outputs": [],
   "source": [
    "### Now that we have split the data, we can train/fit our model on the training data. \n",
    "\n",
    "### This is done through the model.fit() method "
   ]
  },
  {
   "cell_type": "code",
   "execution_count": 43,
   "metadata": {},
   "outputs": [
    {
     "data": {
      "text/plain": [
       "LinearRegression(copy_X=True, fit_intercept=True, n_jobs=None, normalize=True)"
      ]
     },
     "execution_count": 43,
     "metadata": {},
     "output_type": "execute_result"
    }
   ],
   "source": [
    "model.fit(X_train, y_train) ##Modelhas been fit and trained on training data"
   ]
  },
  {
   "cell_type": "code",
   "execution_count": 44,
   "metadata": {},
   "outputs": [],
   "source": [
    "## Model is ready to predict labels and values (Supervised learning process)\n",
    "## To do so we use the predict method and the test data:\n",
    "\n",
    "predictions = model.predict(X_test)"
   ]
  },
  {
   "cell_type": "code",
   "execution_count": 45,
   "metadata": {},
   "outputs": [
    {
     "data": {
      "text/plain": [
       "array([4., 1.])"
      ]
     },
     "execution_count": 45,
     "metadata": {},
     "output_type": "execute_result"
    }
   ],
   "source": [
    "predictions"
   ]
  },
  {
   "cell_type": "code",
   "execution_count": null,
   "metadata": {},
   "outputs": [],
   "source": [
    "## Now we can evaluate out model by comparing the predictions to the correct values. \n",
    " \n",
    "## The evaluation method depends on what sort of machines learning algorithm we are using \n",
    "#  (e.g. Regression, Classification, Clustering, etc...)"
   ]
  },
  {
   "cell_type": "code",
   "execution_count": 46,
   "metadata": {},
   "outputs": [],
   "source": [
    "## Scikit-learn strives to have a uniform interface across all methods, and we'll see examples of these below \n",
    "\n",
    "## -Given a scikit estimator object, the following methods are available: \n",
    "\n",
    "## ALL ESTIMATORS\n",
    "## Available on all estimators: \n",
    "##    - model.fit(): fits the training data\n",
    "##    - For supervised learning applications -> This accepts two arguments, the data X and ther labels y:\n",
    "##      model.fit(X,y)\n",
    "##    - For unsupervised learning applications , this accepts only a single argument, the data X:\n",
    "##      model.fit(X)\n",
    "\n",
    "## SUPERVISED ESTIMATORS \n",
    "## Available in supervised estimators\n",
    "##    - model.predict(): Given a trained model, predict the label of a new set of data. This method accepts one\n",
    "##      argument, the new data X_new and returns a learned label for each object in the array \n",
    "\n",
    "\n",
    "## Available in supervised estimators \n",
    "##    - model.predict_proba(): For classification problems, some estimators also provide this method, which returns \n",
    "##      the probability that a new observation has each categorical label. In this case, the label with the highest \n",
    "##      probability is returned by model.predict()\n",
    "\n",
    "\n",
    "## Available in supervised estimators \n",
    "##    - model.score(): For classification or regression problems , most estimators implement a score method. \n",
    "##      Scores are between 0 and 1, with a larger score indicating a better fit. \n",
    "\n",
    "\n",
    "## UNSUPERVISED ESTIMATORS \n",
    "## Also available in unsupervised estimators \n",
    "##    - model.predict(): predict labels in clustering algorithms \n",
    "\n",
    "## Available in unsupervised estimators \n",
    "##    - model.transform(): Given an unsupervised model, transform new data into the new basis. This also accepts one\n",
    "##      argument X_new, and returns the new representation of the data based on the unsupervised model. \n",
    "\n",
    "## Available in unsupervised estimators \n",
    "##    - model.fit_transform(): Some estimators implement this method, which more efficiently performs a fit and a \n",
    "##      transform on the same input data. "
   ]
  },
  {
   "cell_type": "markdown",
   "metadata": {},
   "source": [
    "# 01 - Linear Regression Theory"
   ]
  },
  {
   "cell_type": "code",
   "execution_count": 48,
   "metadata": {},
   "outputs": [
    {
     "data": {
      "text/plain": [
       "array([[ 2,  4],\n",
       "       [ 5, 10]])"
      ]
     },
     "execution_count": 48,
     "metadata": {},
     "output_type": "execute_result"
    }
   ],
   "source": [
    "## Consider the following example: \n",
    "points = np.array([[2,4], [5,10]])\n",
    "points"
   ]
  },
  {
   "cell_type": "code",
   "execution_count": 50,
   "metadata": {},
   "outputs": [
    {
     "data": {
      "text/html": [
       "<div>\n",
       "<style scoped>\n",
       "    .dataframe tbody tr th:only-of-type {\n",
       "        vertical-align: middle;\n",
       "    }\n",
       "\n",
       "    .dataframe tbody tr th {\n",
       "        vertical-align: top;\n",
       "    }\n",
       "\n",
       "    .dataframe thead th {\n",
       "        text-align: right;\n",
       "    }\n",
       "</style>\n",
       "<table border=\"1\" class=\"dataframe\">\n",
       "  <thead>\n",
       "    <tr style=\"text-align: right;\">\n",
       "      <th></th>\n",
       "      <th>x</th>\n",
       "      <th>y</th>\n",
       "    </tr>\n",
       "  </thead>\n",
       "  <tbody>\n",
       "    <tr>\n",
       "      <td>0</td>\n",
       "      <td>2</td>\n",
       "      <td>4</td>\n",
       "    </tr>\n",
       "    <tr>\n",
       "      <td>1</td>\n",
       "      <td>5</td>\n",
       "      <td>10</td>\n",
       "    </tr>\n",
       "  </tbody>\n",
       "</table>\n",
       "</div>"
      ],
      "text/plain": [
       "   x   y\n",
       "0  2   4\n",
       "1  5  10"
      ]
     },
     "execution_count": 50,
     "metadata": {},
     "output_type": "execute_result"
    }
   ],
   "source": [
    "import pandas as pd\n",
    "points_pd = pd.DataFrame(data = points, columns = ['x','y'])\n",
    "\n",
    "points_pd"
   ]
  },
  {
   "cell_type": "code",
   "execution_count": 55,
   "metadata": {},
   "outputs": [
    {
     "data": {
      "text/plain": [
       "<seaborn.axisgrid.FacetGrid at 0x7fbc6db36208>"
      ]
     },
     "execution_count": 55,
     "metadata": {},
     "output_type": "execute_result"
    },
    {
     "data": {
      "image/png": "[encoded data removed]",
      "text/plain": [
       "<Figure size 360x360 with 1 Axes>"
      ]
     },
     "metadata": {
      "needs_background": "light"
     },
     "output_type": "display_data"
    }
   ],
   "source": [
    "## A perfect fit!\n",
    "import seaborn as sns \n",
    "sns.lmplot(data = points_pd, x = 'x', y = 'y')"
   ]
  },
  {
   "cell_type": "code",
   "execution_count": 56,
   "metadata": {},
   "outputs": [],
   "source": [
    "## In Linear Regression, all we're trying to do when we calculate our regression line is to draw a line that's \n",
    "## close as possible to every dot. \n",
    "\n",
    "## For classic Linear Regression, or \"Least Squares Method\" you only measure the closeness in the \"up and down\" \n",
    "## direction. -> Goal is to minimize vertical distance between all data points in our line. \n",
    "##            -> Best line -> Attempt to minimize the distance between all the points and the distance to the line\n",
    "\n",
    "## MINIMIZATION PROBLEM! -> LSM -> Minimizes the sum of squares of the residuals. \n",
    "##                              -> Residuals for an observation is the difference between the observation (y-value) \n",
    "##                                 and the fitted line."
   ]
  },
  {
   "cell_type": "code",
   "execution_count": null,
   "metadata": {},
   "outputs": [],
   "source": []
  }
 ],
 "metadata": {
  "kernelspec": {
   "display_name": "Python 3",
   "language": "python",
   "name": "python3"
  },
  "language_info": {
   "codemirror_mode": {
    "name": "ipython",
    "version": 3
   },
   "file_extension": ".py",
   "mimetype": "text/x-python",
   "name": "python",
   "nbconvert_exporter": "python",
   "pygments_lexer": "ipython3",
   "version": "3.7.3"
  }
 },
 "nbformat": 4,
 "nbformat_minor": 2
}
