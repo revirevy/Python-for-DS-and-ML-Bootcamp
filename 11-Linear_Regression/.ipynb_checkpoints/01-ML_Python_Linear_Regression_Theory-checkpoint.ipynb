{
 "cells": [
  {
   "cell_type": "markdown",
   "metadata": {},
   "source": [
    "# Section 15: Linear Regression"
   ]
  },
  {
   "cell_type": "markdown",
   "metadata": {},
   "source": [
    "# Machine Learning with Python and Scikit-Learn"
   ]
  },
  {
   "cell_type": "code",
   "execution_count": 32,
   "metadata": {},
   "outputs": [],
   "source": [
    "# - We are going to be using the Sckikit-Learn Package -> Already has many algorithms built in \n",
    "# - Install with conda install scikit-learn\n",
    "\n",
    "# Every algorithm in scikit-learn is exposed through an estimator \n",
    "\n",
    "# First we import the model with the following general form: \n",
    "\n",
    "# from sklearn.family import Model\n",
    "\n",
    "##e.g. "
   ]
  },
  {
   "cell_type": "code",
   "execution_count": 33,
   "metadata": {},
   "outputs": [
    {
     "name": "stdout",
     "output_type": "stream",
     "text": [
      "LinearRegression(copy_X=True, fit_intercept=True, n_jobs=None, normalize=True)\n"
     ]
    }
   ],
   "source": [
    "from sklearn.linear_model import LinearRegression ## Linear Regression -> Estimator object\n",
    "                                                  ## linear_model -> Family of models \n",
    "    \n",
    "## Estimator parameters \n",
    "## -All the parameters of an estimator can be set when it is instantiated, and have suitable default values. \n",
    "## -Values can be explored with the shortcut shift+tab in jupyter \n",
    "\n",
    "## Example \n",
    "\n",
    "model = LinearRegression(normalize = True) ##normalize is a parameter than can be specified \n",
    "\n",
    "## Lets check the model\n",
    "print(model)"
   ]
  },
  {
   "cell_type": "code",
   "execution_count": 38,
   "metadata": {},
   "outputs": [
    {
     "name": "stdout",
     "output_type": "stream",
     "text": [
      "[[0 1]\n",
      " [2 3]\n",
      " [4 5]\n",
      " [6 7]\n",
      " [8 9]]\n",
      "range(0, 5)\n"
     ]
    }
   ],
   "source": [
    "## Once we have a model created with some parameters, its time to fit our model on some data! \n",
    "## Remember -> It is recommended to split this data into a test and training set \n",
    "\n",
    "##Example with some fake data:\n",
    "import numpy as np\n",
    "from sklearn.model_selection import train_test_split\n",
    "\n",
    "X,y = np.arange(10).reshape((5,2)), range(5) ##X is our data and y is our label vector for each row of features \n",
    "print(X)\n",
    "print(y)\n",
    "\n",
    "##Lets split this data into a train and test sets: \n",
    "X_train, X_test, y_train, y_test = train_test_split(X, y, test_size = 0.3)"
   ]
  },
  {
   "cell_type": "code",
   "execution_count": 39,
   "metadata": {},
   "outputs": [
    {
     "data": {
      "text/plain": [
       "array([[4, 5],\n",
       "       [6, 7],\n",
       "       [0, 1]])"
      ]
     },
     "execution_count": 39,
     "metadata": {},
     "output_type": "execute_result"
    }
   ],
   "source": [
    "X_train  ##Features for training data"
   ]
  },
  {
   "cell_type": "code",
   "execution_count": 40,
   "metadata": {},
   "outputs": [
    {
     "data": {
      "text/plain": [
       "array([[8, 9],\n",
       "       [2, 3]])"
      ]
     },
     "execution_count": 40,
     "metadata": {},
     "output_type": "execute_result"
    }
   ],
   "source": [
    "X_test  ##Features for test data"
   ]
  },
  {
   "cell_type": "code",
   "execution_count": 41,
   "metadata": {},
   "outputs": [
    {
     "data": {
      "text/plain": [
       "[2, 3, 0]"
      ]
     },
     "execution_count": 41,
     "metadata": {},
     "output_type": "execute_result"
    }
   ],
   "source": [
    "y_train ##Labels for training data"
   ]
  },
  {
   "cell_type": "code",
   "execution_count": 42,
   "metadata": {},
   "outputs": [
    {
     "data": {
      "text/plain": [
       "[4, 1]"
      ]
     },
     "execution_count": 42,
     "metadata": {},
     "output_type": "execute_result"
    }
   ],
   "source": [
    "y_test ##Labels for test data "
   ]
  },
  {
   "cell_type": "code",
   "execution_count": null,
   "metadata": {},
   "outputs": [],
   "source": [
    "### Now that we have split the data, we can train/fit our model on the training data. \n",
    "\n",
    "### This is done through the model.fit() method "
   ]
  },
  {
   "cell_type": "code",
   "execution_count": 43,
   "metadata": {},
   "outputs": [
    {
     "data": {
      "text/plain": [
       "LinearRegression(copy_X=True, fit_intercept=True, n_jobs=None, normalize=True)"
      ]
     },
     "execution_count": 43,
     "metadata": {},
     "output_type": "execute_result"
    }
   ],
   "source": [
    "model.fit(X_train, y_train) ##Modelhas been fit and trained on training data"
   ]
  },
  {
   "cell_type": "code",
   "execution_count": 44,
   "metadata": {},
   "outputs": [],
   "source": [
    "## Model is ready to predict labels and values (Supervised learning process)\n",
    "## To do so we use the predict method and the test data:\n",
    "\n",
    "predictions = model.predict(X_test)"
   ]
  },
  {
   "cell_type": "code",
   "execution_count": 45,
   "metadata": {},
   "outputs": [
    {
     "data": {
      "text/plain": [
       "array([4., 1.])"
      ]
     },
     "execution_count": 45,
     "metadata": {},
     "output_type": "execute_result"
    }
   ],
   "source": [
    "predictions"
   ]
  },
  {
   "cell_type": "code",
   "execution_count": null,
   "metadata": {},
   "outputs": [],
   "source": [
    "## Now we can evaluate out model by comparing the predictions to the correct values. \n",
    " \n",
    "## The evaluation method depends on what sort of machines learning algorithm we are using \n",
    "#  (e.g. Regression, Classification, Clustering, etc...)"
   ]
  }
 ],
 "metadata": {
  "kernelspec": {
   "display_name": "Python 3",
   "language": "python",
   "name": "python3"
  },
  "language_info": {
   "codemirror_mode": {
    "name": "ipython",
    "version": 3
   },
   "file_extension": ".py",
   "mimetype": "text/x-python",
   "name": "python",
   "nbconvert_exporter": "python",
   "pygments_lexer": "ipython3",
   "version": "3.7.3"
  }
 },
 "nbformat": 4,
 "nbformat_minor": 2
}
